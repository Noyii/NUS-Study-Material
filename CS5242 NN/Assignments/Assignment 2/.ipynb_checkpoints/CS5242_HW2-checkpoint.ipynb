{
 "cells": [
  {
   "cell_type": "markdown",
   "metadata": {
    "id": "GXMX8yuAyl55"
   },
   "source": [
    "# Welcome to CS 5242 **Homework 2**\n",
    "\n",
    "ASSIGNMENT DEADLINE ⏰ : **05 Sept 2022** \n",
    "\n",
    "In this assignment, the task is to implement Multi-Layer Perceptron (MLP) for handwritten digit classification from scratch.\n",
    "\n",
    "Colab is a hosted Jupyter notebook service that requires no setup to use, while providing access free of charge to computing resources including GPUs. In this semester, we will use Colab to run our experiments.\n",
    "\n",
    "> In this assignment, there is no need to use GPU.\n",
    "\n",
    "### **Grades Policy**\n",
    "\n",
    "We have 10 points for this homework. 15% off per day late, 0 scores if you submit it 7 days after the deadline.\n",
    "\n",
    "### **Cautions**\n",
    "\n",
    "**DO NOT** use external libraries like PyTorch or TensorFlow in your implementation.\n",
    "\n",
    "**DO NOT** copy the code from the internet, e.g. GitHub.\n",
    "\n",
    "---\n",
    "\n",
    "### **Contact**\n",
    "\n",
    "Please feel free to contact us if you have any question about this homework or need any further information.\n",
    "\n",
    "Slack (Recommend): Shenggan Cheng\n",
    "\n",
    "TA Email: shenggan@comp.nus.edu.sg\n",
    "\n",
    "> If you have not join the slack group, you can click [here](https://join.slack.com/t/cs5242ay20222-oiw1784/shared_invite/zt-1eiv24k1t-0J9EI7vz3uQmAHa68qU0aw)"
   ]
  },
  {
   "cell_type": "markdown",
   "metadata": {
    "id": "oLeZHcOVBp4U"
   },
   "source": [
    "## Setup\n",
    "\n",
    "Start by running the cell below to set up all required software."
   ]
  },
  {
   "cell_type": "code",
   "execution_count": 1,
   "metadata": {
    "colab": {
     "base_uri": "https://localhost:8080/"
    },
    "id": "HIgu_q2HBg-E",
    "outputId": "c92ee59b-7279-4014-ecb2-d1daa719a6f1"
   },
   "outputs": [
    {
     "name": "stdout",
     "output_type": "stream",
     "text": [
      "Looking in indexes: https://pypi.org/simple, https://us-python.pkg.dev/colab-wheels/public/simple/\n",
      "Requirement already satisfied: numpy in /usr/local/lib/python3.7/dist-packages (1.21.6)\n",
      "Requirement already satisfied: matplotlib in /usr/local/lib/python3.7/dist-packages (3.2.2)\n",
      "Requirement already satisfied: cycler>=0.10 in /usr/local/lib/python3.7/dist-packages (from matplotlib) (0.11.0)\n",
      "Requirement already satisfied: pyparsing!=2.0.4,!=2.1.2,!=2.1.6,>=2.0.1 in /usr/local/lib/python3.7/dist-packages (from matplotlib) (3.0.9)\n",
      "Requirement already satisfied: python-dateutil>=2.1 in /usr/local/lib/python3.7/dist-packages (from matplotlib) (2.8.2)\n",
      "Requirement already satisfied: kiwisolver>=1.0.1 in /usr/local/lib/python3.7/dist-packages (from matplotlib) (1.4.4)\n",
      "Requirement already satisfied: typing-extensions in /usr/local/lib/python3.7/dist-packages (from kiwisolver>=1.0.1->matplotlib) (4.1.1)\n",
      "Requirement already satisfied: six>=1.5 in /usr/local/lib/python3.7/dist-packages (from python-dateutil>=2.1->matplotlib) (1.15.0)\n"
     ]
    }
   ],
   "source": [
    "!pip install numpy matplotlib"
   ]
  },
  {
   "cell_type": "markdown",
   "metadata": {
    "id": "bqkIbfgfE1oB"
   },
   "source": [
    "Download and extract MNIST Dataset."
   ]
  },
  {
   "cell_type": "code",
   "execution_count": 2,
   "metadata": {
    "colab": {
     "base_uri": "https://localhost:8080/"
    },
    "id": "hSoSnxC4EzzJ",
    "outputId": "d331fc01-0d84-4b9c-fffe-9ef188339b1c"
   },
   "outputs": [
    {
     "name": "stdout",
     "output_type": "stream",
     "text": [
      "total 124872\n",
      "-rw-r--r-- 1 1000 1000  18289443 Jul 15  2019 mnist_test.csv\n",
      "-rw-r--r-- 1 1000 1000 109575994 Jul 15  2019 mnist_train.csv\n"
     ]
    }
   ],
   "source": [
    "!mkdir -p data \\\n",
    "    && wget -q https://raw.githubusercontent.com/Shenggan/cs5242_resource/main/homework2/mnist_data.tar.gz -O ./data/mnist_data.tar.gz \\\n",
    "    && tar xf data/mnist_data.tar.gz -C ./data \\\n",
    "    && rm -rf ./data/mnist_data.tar.gz \\\n",
    "    && ls -l ./data/"
   ]
  },
  {
   "cell_type": "markdown",
   "metadata": {
    "id": "vtXcchT5H2PH"
   },
   "source": [
    "Import the neccesary library."
   ]
  },
  {
   "cell_type": "code",
   "execution_count": 3,
   "metadata": {
    "id": "I2Yodsn4H6CB"
   },
   "outputs": [],
   "source": [
    "import time\n",
    "\n",
    "import numpy as np\n",
    "import matplotlib.pyplot as plt"
   ]
  },
  {
   "cell_type": "markdown",
   "metadata": {
    "id": "3yrZD7DDExF4"
   },
   "source": [
    "Everything is ready, you can move on and ***Good Luck !*** 😃"
   ]
  },
  {
   "cell_type": "markdown",
   "metadata": {
    "id": "7DwqHhL9CSxs"
   },
   "source": [
    "## Explore MNIST Dataset\n",
    "\n",
    "One of the first steps when working with a new data set is exploring.Our data here is from the [MNIST dataset](http://yann.lecun.com/exdb/mnist/) of `28x28` pixel images of handwritten digits from `0-9`, which has an important place in the history of machine learning.\n",
    "\n",
    "Our data have been downloaded in the directory `data`: `mnist_train.csv` and `mnist_test.csv`, so the complete file path (from the main directory) are `data/mnist_train.csv` and `data/mnist_test.csv`. \n",
    "\n",
    "With that in mind, let's define a helper function `load_data` that we can use to quickly in our data.\n"
   ]
  },
  {
   "cell_type": "code",
   "execution_count": 4,
   "metadata": {
    "id": "DIHIpxpaHyOo"
   },
   "outputs": [],
   "source": [
    "def load_data(dir_name):\n",
    "    \"\"\"\n",
    "    Function for loading MNIST data stored in comma delimited files. Labels for \n",
    "    each image are the first entry in each row.\n",
    "\n",
    "    Parameters\n",
    "    ----------\n",
    "    dit_name : str\n",
    "         Path to where data is contained\n",
    "\n",
    "    Returns\n",
    "    -------\n",
    "    X : np.array, np.float32\n",
    "        A (N x 784) matrix of samples\n",
    "    Y : np.array, np.float32\n",
    "        A (N x 1) matrix of labels for each sample\n",
    "    \"\"\"\n",
    "    X, Y = None, None\n",
    "\n",
    "    # Hint:\n",
    "    # 1) open the file and iterate through each line\n",
    "    # 2) in every line, split with ',' and you can get 785 elements\n",
    "    # 3) as the first number in each sample is the label (0-9), extract that from the rest and return\n",
    "\n",
    "    # Some numpy function you maybe need to use: `np.array`, `numpy.ndarray.astype`, `numpy.asarray`\n",
    "    # A kindly example, \n",
    "    # tmp_str = \"1,2,3,4\"\n",
    "    # array = np.array(line.split(',')).astype(np.float32)\n",
    "    # print(array)\n",
    "\n",
    "    # === Complete the code (1')\n",
    "    X_train, Y_train = [], []\n",
    "    data = open(dir_name)\n",
    "\n",
    "    for row in data:\n",
    "      array = np.array(row.split(',')).astype(np.float32)\n",
    "      Y_train.append(array[0])\n",
    "      X_train.append(array[1:])\n",
    "\n",
    "    X = np.array(X_train)\n",
    "    Y = np.array(Y_train)\n",
    "    # === Complete the code\n",
    "    \n",
    "    return X, Y"
   ]
  },
  {
   "cell_type": "code",
   "execution_count": 5,
   "metadata": {
    "id": "m4HSdfdqIPeN"
   },
   "outputs": [],
   "source": [
    "X_train, Y_train = load_data(\"./data/mnist_train.csv\")\n",
    "X_test, Y_test = load_data(\"./data/mnist_test.csv\")"
   ]
  },
  {
   "cell_type": "markdown",
   "metadata": {
    "id": "4aH3JKg3I2bZ"
   },
   "source": [
    "An easy to quickly get an idea for how your data looks is to examine the shape of the matrix it's stored using the `.shape` attribute of numpy arrays. We see that the shape of `X_train` is `60000 x 784`, which tells us there are `60000` samples (images) each with dimension `784`. Each sample, typically presented as a 28 x 28 image, is unrolled into a 1-dimensional vector 28 x 28 = 784 contained within each row of `X_train`."
   ]
  },
  {
   "cell_type": "code",
   "execution_count": 6,
   "metadata": {
    "colab": {
     "base_uri": "https://localhost:8080/"
    },
    "id": "FNCf79ShI6H9",
    "outputId": "e0c1629c-bdcc-4362-d414-a0666c8f3e30"
   },
   "outputs": [
    {
     "name": "stdout",
     "output_type": "stream",
     "text": [
      "The shape of the training set is: 60000 x 784\n",
      "The shape of the test set is: 10000 x 784\n"
     ]
    }
   ],
   "source": [
    "print(f\"The shape of the training set is: {X_train.shape[0]} x {X_train.shape[1]}\")\n",
    "print(f\"The shape of the test set is: {X_test.shape[0]} x {X_test.shape[1]}\")"
   ]
  },
  {
   "cell_type": "markdown",
   "metadata": {
    "id": "bf5GmYOTzvVI"
   },
   "source": [
    "Now lets take a look at how the samples are represented, we can do this by calling `Y_train[index]` and `X_train[index]` (here I choose `index=0` to look at the very first sample). We first notice `Y_train[0]=5.0`, meaning this entry is the digit `5`. We will confirm this shortly by visualizing some of these samples. We then notice each entry is an integer (cast into `np.float32` in our `load_data` function) ranging from `0-255`. This representation is common when working with images. The numerical entries are interpreted as pixel intensities typically shown in gray-scale ranging between `0` (black) and `255` (white). "
   ]
  },
  {
   "cell_type": "code",
   "execution_count": 7,
   "metadata": {
    "colab": {
     "base_uri": "https://localhost:8080/"
    },
    "id": "8ZWVJHTXzzp2",
    "outputId": "13a6af35-837b-4a18-e5f3-1f9753b4c72f"
   },
   "outputs": [
    {
     "name": "stdout",
     "output_type": "stream",
     "text": [
      "Y_train[0]: 5.0\n",
      "X_train[0] range from 0.0 to 255.0.\n"
     ]
    }
   ],
   "source": [
    "index = 0\n",
    "print(f\"Y_train[{index}]: {Y_train[index]}\")\n",
    "print(f\"X_train[{index}] range from {min(X_train[index])} to {max(X_train[index])}.\")"
   ]
  },
  {
   "cell_type": "code",
   "execution_count": 8,
   "metadata": {
    "id": "b6KGKdP7JCmc"
   },
   "outputs": [],
   "source": [
    "# rescale data between 0 - 1.0\n",
    "def scale_data(X):\n",
    "    X_scaled = None\n",
    "    # === Complete the code (0.5')\n",
    "    X_scaled = X/255.0\n",
    "    # === Complete the code\n",
    "    return X_scaled\n",
    "\n",
    "X_train = scale_data(X_train)\n",
    "X_test = scale_data(X_test)"
   ]
  },
  {
   "cell_type": "code",
   "execution_count": 9,
   "metadata": {
    "colab": {
     "base_uri": "https://localhost:8080/",
     "height": 246
    },
    "id": "2G0EUVRs2DCh",
    "outputId": "ca09a992-ef6a-41d4-a0e4-a595fc4f80c7"
   },
   "outputs": [
    {
     "data": {
      "image/png": "[encoded data removed]",
      "text/plain": [
       "<Figure size 1080x720 with 4 Axes>"
      ]
     },
     "metadata": {
      "needs_background": "light"
     },
     "output_type": "display_data"
    }
   ],
   "source": [
    "y_train_onehot = np.zeros((Y_train.size, int(Y_train.max()) + 1))\n",
    "y_test_onehot = np.zeros((Y_test.size, int(Y_test.max()) + 1))\n",
    "\n",
    "# one-hot encode train (y_train) and test (y_test) set labels\n",
    "# === Complete the code (0.5')\n",
    "y_train_onehot[np.arange(Y_train.size), Y_train.astype(int)] = 1\n",
    "y_test_onehot[np.arange(Y_test.size), Y_test.astype(int)] = 1\n",
    "# === Complete the code\n",
    "\n",
    "num_images = 4\n",
    "fig, axes = plt.subplots(1, num_images, figsize=(15, 10))\n",
    "for image, label, ax in zip(X_train[:num_images], y_train_onehot[:num_images], axes):\n",
    "    ax.imshow(image.reshape(28, 28), cmap='gray', vmin=0, vmax=1.0)\n",
    "    ax.set_title(f\"Label: {label}\")"
   ]
  },
  {
   "cell_type": "markdown",
   "metadata": {
    "id": "LTHgDB8MCguR"
   },
   "source": [
    "## Implementation of Multilayer perceptron"
   ]
  },
  {
   "cell_type": "markdown",
   "metadata": {
    "id": "PS0HX6A_o5mL"
   },
   "source": [
    "We'll first go through and write the code for each piece of an MLP (**without bias**) in generic Python functions. We'll then wrap everything in an `MLP` class, which will allow us to easily access all the MLP functionality in a user friendly manner."
   ]
  },
  {
   "cell_type": "markdown",
   "metadata": {
    "id": "C4Wa7cQBpEql"
   },
   "source": [
    "### Feed Forward"
   ]
  },
  {
   "cell_type": "markdown",
   "metadata": {
    "id": "t7V2F14ppBdi"
   },
   "source": [
    "Implementing the forward pass of the neural network is relatively simply as everything is basically just a series of matrix multiplicaitons and activation functions. A two-layer MLP example we looked at when working through the math had a forward pass which mathematically took the form:\n",
    "$$\\sigma(\\mathbf{x}W^{(1)})W^{(2)}$$\n",
    "\n",
    "We'll of course want to make things a bit more modular by allowing the user to choose some of the neural network paramters, such as the number of hidden layers `L` and the nunber of neurons per layer `N_l`. For simplicity we'll restrict that all the hidden layers are treated with **sigmoid** activaitons."
   ]
  },
  {
   "cell_type": "markdown",
   "metadata": {
    "id": "5nFN2g3MrXWw"
   },
   "source": [
    "The last step of process for classification tasks is actually producing a prediction from these numbers in the output layer. Typically, in the case of multi-label classification, this is done using a *softmax* activation function which effectively converts the output neurons into probabilities for each label. This has the mathematical form, $$\\text{softmax}(\\mathbf{z})_j = \\frac{\\exp(z_j)}{\\sum_{k=0}^{K=9}\\exp{(z_k)}}$$.\n",
    "\n",
    "The softmax activation function has the property of the outputs summing to 1 $\\sum_{k=1}^{K=9}\\text{softmax}(\\mathbf{z}^{(2)})_k = 1$, allowing each output $\\mathbf{a}^{(2)}_i = \\text{softmax}(\\mathbf{z}^{(2)})_i$ to be interpreted as the probability that the input is actually a digit `0-9`. Note, the output of a MLP does not need to have a softmax activation, for example in a regression setting a softmax activation would not make much sense. When evaluating the classification accuracy of the neural network, the input is typically classified according to the output label with the highest probability, \n",
    "\n",
    "$$\\text{prediction}(\\mathbf{x}) = \\text{argmax}\\  \\text{softmax}(\\mathbf{z}^{(2)}) = \\text{argmax}\\  \\text{softmax}((\\sigma(\\mathbf{x}W^{(1)})W^{(2)}))$$."
   ]
  },
  {
   "cell_type": "markdown",
   "metadata": {
    "id": "dF57FyDHJ2zl"
   },
   "source": [
    "We can start by simply defining our activation functions:"
   ]
  },
  {
   "cell_type": "code",
   "execution_count": 10,
   "metadata": {
    "id": "eRZKTMJqJ2LQ"
   },
   "outputs": [],
   "source": [
    "def sigmoid(x):\n",
    "    \"\"\"\n",
    "    Compute the sigmoid of `x`, calculated element-wise\n",
    "\n",
    "    Parameters\n",
    "    ----------\n",
    "    x : float or array_like\n",
    "        input\n",
    "\n",
    "    Returns\n",
    "    -------\n",
    "    sigmoid(x) : float or array_like\n",
    "        sigmoid applied to `x` element-wise\n",
    "    \"\"\"\n",
    "    result = None\n",
    "    # === Complete the code (0.5')\n",
    "    result = 1 / (1 + np.exp(-x))\n",
    "    # === Complete the code\n",
    "    return result"
   ]
  },
  {
   "cell_type": "code",
   "execution_count": 11,
   "metadata": {
    "id": "FAhoW7rfI1s-"
   },
   "outputs": [],
   "source": [
    "def softmax(x):\n",
    "    \"\"\"\n",
    "    Compute the softmax of `x`,\n",
    "\n",
    "    Parameters\n",
    "    ----------\n",
    "    x : array_like\n",
    "        (N x dim) array with N samples by p dimensions. dim=10 for MNIST classification. \n",
    "\n",
    "    Returns\n",
    "    -------\n",
    "    softmax(x) : float or array_like\n",
    "        softmax applied to `x` along the first axis.\n",
    "    \"\"\"\n",
    "    result = None\n",
    "    # === Complete the code (0.5')\n",
    "    result = np.exp(x) / np.sum(np.exp(x), axis=1, keepdims=True)\n",
    "    # === Complete the code\n",
    "    return result"
   ]
  },
  {
   "cell_type": "markdown",
   "metadata": {
    "id": "IJO2LaDmsmXq"
   },
   "source": [
    "The inputs `x`, weight matricies `w`, and activations are in principle all we need to define the forward pass; however, for efficency reasons we'll want to store the outputs of the hidden layer neurons when performing the forward pass. Storing these values will help us later more quickly calculate the gradients during the backward pass. The `init_layers` functions will initalize these hidden layers as NumPy arrays, doing this before we begin training will help us save some overhead we would otherwise inccur reinitalizing these hidden layers before each forward pass. These hidden layer values will be stored in multi-dimensional matricies, called *tensors*. One dimension of these tensors will be the `batch size` which will indicate the number of samples simultaneously passed to MLP during one training loop (feed forward + backpropagation)."
   ]
  },
  {
   "cell_type": "code",
   "execution_count": 12,
   "metadata": {
    "id": "0M-gOFpTsl3N"
   },
   "outputs": [],
   "source": [
    "def init_layers(batch_size, layer_sizes):\n",
    "    \"\"\"\n",
    "    Initalize arrays to store the hidden layer ouputs.\n",
    "\n",
    "    Parameters\n",
    "    ----------\n",
    "    batch_size : int\n",
    "        Number of samples to concurrently feed through the network.\n",
    "    layer_sizes : array_like\n",
    "        Array of length `N_l`. Each entry is the number of neurons in each layer.\n",
    "\n",
    "    Returns\n",
    "    -------\n",
    "    hidden_layers : list\n",
    "        List of empty arrays used to hold hidden layer outputs. \n",
    "    \"\"\"\n",
    "    hidden_layers = [np.empty((batch_size, layer_size)) for layer_size in layer_sizes]\n",
    "    return hidden_layers"
   ]
  },
  {
   "cell_type": "markdown",
   "metadata": {
    "id": "iiNL3Ubcsq8N"
   },
   "source": [
    "In order to perform a forward pass our input `x` is consequtively multiplied by weight matricies passed into the associated activaiton functions. The paramters in these weight matricies will ultimately be learned through backpropagation, but each weight matrix must first be initalized to random values. There are a number of different methods for doing this initalization, but for the moment we'll use a simple approach of just drawing the numerical values from a normal distribution with mean zero and standard deviation 1. We could have also reasonably choosen to simply draw from a uniform distribution on the range `[-1,1]`. "
   ]
  },
  {
   "cell_type": "code",
   "execution_count": 13,
   "metadata": {
    "id": "2ojQ3Hl1svff"
   },
   "outputs": [],
   "source": [
    "def init_weights(layer_sizes):\n",
    "    \"\"\"\n",
    "    Initalize the paramters of the weight matricies.\n",
    "\n",
    "    Parameters\n",
    "    ----------\n",
    "    layer_sizes : array_like\n",
    "        Array of length `N_l`. Each entry is the number of neurons in each layer.\n",
    "\n",
    "    Returns\n",
    "    -------\n",
    "    weights : array_like\n",
    "        Randomly initalized weight matricies based on the layer sizes. \n",
    "    \"\"\"\n",
    "    weights = list()\n",
    "    for i in range(layer_sizes.shape[0] - 1):\n",
    "        weights.append(np.random.uniform(-1, 1, size=[layer_sizes[i], layer_sizes[i + 1]]))\n",
    "    return weights"
   ]
  },
  {
   "cell_type": "markdown",
   "metadata": {
    "id": "DHnQDrnMpSFL"
   },
   "source": [
    "### Backpropagation"
   ]
  },
  {
   "cell_type": "markdown",
   "metadata": {
    "id": "b7ek23WJOGHs"
   },
   "source": [
    "Initalizing all the weights, layers, and activations prior to the forward pass makes much of the backward pass implimentation actually quite simple. For convinience we'll define a `sigmoid_derivative` function, which simply computes the derivative of the sigmoid activation $\\sigma^{\\prime}$. We'll use this when computing the gradients during the backward pass."
   ]
  },
  {
   "cell_type": "code",
   "execution_count": 14,
   "metadata": {
    "id": "ZxfTWU_6oeE7"
   },
   "outputs": [],
   "source": [
    "def sigmoid_derivative(sigmoid_out):\n",
    "    \"\"\"\n",
    "    Calculate derivative of sigmoid activation based on sigmoid output.\n",
    "\n",
    "    Parameters\n",
    "    ----------\n",
    "    sigmoid_out : array_like\n",
    "        Output values processed by a sigmoid function.\n",
    "    \n",
    "    Returns\n",
    "    -------\n",
    "    sigmoid_derivative(h) : array_like\n",
    "        Derivative of sigmoid, based on value of sigmoid.\n",
    "    \"\"\"\n",
    "    result = None\n",
    "    # === Complete the code (0.5')\n",
    "    result = sigmoid_out * (1-sigmoid_out)\n",
    "    # === Complete the code\n",
    "    return result"
   ]
  },
  {
   "cell_type": "markdown",
   "metadata": {
    "id": "p9XZokeNpnUf"
   },
   "source": [
    "### Training"
   ]
  },
  {
   "cell_type": "markdown",
   "metadata": {
    "id": "yA9w06GhtWxt"
   },
   "source": [
    "You have **three tasks** in this section.\n",
    "\n",
    "1. You need to implement `__feed_forward` function.\n",
    "2. You need to implement `__back_prop` function.\n",
    "3. You need to implement the main loop of `train` function."
   ]
  },
  {
   "cell_type": "code",
   "execution_count": 15,
   "metadata": {
    "id": "_-ERNpYWpYc4"
   },
   "outputs": [],
   "source": [
    "def to_categorical(x, class_num):\n",
    "    # Transform probabilities into categorical predictions row-wise, by simply taking the max probability\n",
    "    categorical = np.zeros((x.shape[0], class_num))\n",
    "    categorical[np.arange(x.shape[0]), x.argmax(axis=1)] = 1\n",
    "    return categorical\n",
    "\n",
    "def accuracy(y_pred, y):\n",
    "    # Compute the accuracy along the rows, averaging along the number of samples\n",
    "    return np.all(y_pred == y, axis=1).mean()\n",
    "\n",
    "def loss(y_pred, y):\n",
    "    # Compute the loss along the rows, averaging along the number of samples\n",
    "    loss_ = ((-np.log(y_pred)) * y).sum(axis=1).mean()\n",
    "    return loss_\n",
    "\n",
    "class MLP():\n",
    "\n",
    "    def __init__(self, X, Y, X_val, Y_val, L=1, N_l=128):\n",
    "        self.X = X\n",
    "        self.Y = np.squeeze(np.eye(10)[Y.astype(int).reshape(-1)])\n",
    "        self.X_val = X_val\n",
    "        self.Y_val = np.squeeze(np.eye(10)[Y_val.astype(int).reshape(-1)])\n",
    "        self.L = L\n",
    "        self.N_l = N_l\n",
    "        self.n_samples = self.X.shape[0]\n",
    "        self.layer_sizes = np.array([self.X.shape[1]] + [N_l] * L + [self.Y.shape[1]])\n",
    "        self.__init_weights()\n",
    "        self.train_loss = list()\n",
    "        self.train_acc = list()\n",
    "        self.val_loss = list()\n",
    "        self.val_acc = list()\n",
    "        self.train_time = list()\n",
    "        self.tot_time = list()\n",
    "        self.metrics = [\n",
    "            self.train_loss, self.train_acc, self.val_loss, self.val_acc, self.train_time,\n",
    "            self.tot_time\n",
    "        ]\n",
    "\n",
    "        self.class_num = self.Y.shape[1]\n",
    "\n",
    "    def __init_weights(self):\n",
    "        # Initialize the weights of the network given the sizes of the layers\n",
    "        self.weights = list()\n",
    "        for i in range(self.layer_sizes.shape[0] - 1):\n",
    "            self.weights.append(\n",
    "                np.random.uniform(-1, 1, size=[self.layer_sizes[i], self.layer_sizes[i + 1]]))\n",
    "        self.weights = np.asarray(self.weights)\n",
    "\n",
    "    def __init_layers(self, batch_size):\n",
    "        # Initialize and allocate arrays for the hidden layer activations\n",
    "        self.__h = [np.empty((batch_size, layer)) for layer in self.layer_sizes]\n",
    "\n",
    "    def __feed_forward(self, batch):\n",
    "        # Perform a forward pass of `batch` samples (N_samples x N_features)\n",
    "        out_ = None\n",
    "        h_l = batch\n",
    "        self.__h[0] = h_l\n",
    "        \n",
    "        # === Complete the code (1.5')\n",
    "        for i in range(len(self.weights) - 1):\n",
    "          h_l = sigmoid(np.matmul(h_l, self.weights[i]))\n",
    "          self.__h[i+1] = h_l\n",
    "\n",
    "        # Doing this outside the loop since we don't want sigmoid for last linear layer\n",
    "        # y = softmax( sigmoid(Xw1) * w2) --> if L=1\n",
    "        h_l = np.matmul(h_l, self.weights[-1])\n",
    "        self.__h[-1] = softmax(h_l)\n",
    "        out_ = self.__h[-1]\n",
    "        # === Complete the code\n",
    "        self.__out = out_\n",
    "\n",
    "    def __back_prop(self, batch_y):\n",
    "        # Update the weights of the network through back-propagation\n",
    "        # === Complete the code (1.5')\n",
    "\n",
    "          ### Suppose we have 1 hidden layer\n",
    "          # p = softmax( sigm(Xw0).w1 )\n",
    "          # z = sigm(Xw0).w1\n",
    "          # m = Xw0\n",
    "\n",
    "          # Thus, \n",
    "          # p = softmax(z)\n",
    "          # z = m.w1\n",
    "\n",
    "          # L = -y.log(p)\n",
    "          # dL/dw1 = dL/dp * dp/dz * dz/dw1\n",
    "          #        = (p - y) * dz/dw1\n",
    "          #        = (p - y) * sigm(Xw0)\n",
    "          #        = (p - y) * h_l[1]\n",
    "          # dL/dw0 = dL/dp * dp/dz * dz/dm * dm/dw0\n",
    "          #        = (p - y) * w1 * sigm_deriv(Xw0) * X\n",
    "          #        = (p - y) * w1 * sigm_deriv(h_l[1]) * h_l[0]\n",
    "\n",
    "        loss_gradient = self.__out - batch_y\n",
    "\n",
    "        for i in range(len(self.weights)):\n",
    "          self.weights[-i-1] -= self.lr * np.matmul(self.__h[-i-2].transpose(), loss_gradient) / self.batch_size\n",
    "          loss_gradient = np.matmul(loss_gradient, self.weights[-i-1].transpose()) * sigmoid_derivative(self.__h[-i-2])     \n",
    "        # === Complete the code\n",
    "\n",
    "    def predict(self, X):\n",
    "        # Generate a categorical, one-hot, prediction given an input X\n",
    "        self.__init_layers(X.shape[0])\n",
    "        self.__feed_forward(X)\n",
    "        return to_categorical(self.__out, self.class_num)\n",
    "\n",
    "    def evaluate(self, X, Y):\n",
    "        # Evaluate the performance (accuracy) predicting on X with true labels Y\n",
    "        prediction = self.predict(X)\n",
    "        return accuracy(prediction, Y)\n",
    "\n",
    "    def train(self, batch_size=8, epochs=25, lr=1.0):\n",
    "        # Train the model with a given batch size, epochs, and learning rate. Store and print relevant metrics.\n",
    "        self.lr = lr\n",
    "        self.batch_size = batch_size\n",
    "        for epoch in range(epochs):\n",
    "            start = time.time()\n",
    "\n",
    "            self.__init_layers(self.batch_size)\n",
    "            shuffle = np.random.permutation(self.n_samples)\n",
    "            train_loss = 0\n",
    "            train_acc = 0\n",
    "            X_batches = np.array_split(self.X[shuffle], self.n_samples / self.batch_size)\n",
    "            Y_batches = np.array_split(self.Y[shuffle], self.n_samples / self.batch_size)\n",
    "            for batch_x, batch_y in zip(X_batches, Y_batches):\n",
    "                # === Complete the code (1.5')\n",
    "                self.__feed_forward(batch_x)\n",
    "                train_loss += loss(self.__out, batch_y)\n",
    "                train_acc += accuracy(to_categorical(self.__out, self.class_num), batch_y)\n",
    "                self.__back_prop(batch_y)\n",
    "                # === Complete the code\n",
    "\n",
    "            train_loss = (train_loss / len(X_batches))\n",
    "            train_acc = (train_acc / len(X_batches))\n",
    "            self.train_loss.append(train_loss)\n",
    "            self.train_acc.append(train_acc)\n",
    "\n",
    "            train_time = round(time.time() - start, 3)\n",
    "            self.train_time.append(train_time)\n",
    "\n",
    "            self.__init_layers(self.X_val.shape[0])\n",
    "            self.__feed_forward(self.X_val)\n",
    "            val_loss = loss(self.__out, self.Y_val)\n",
    "            val_acc = accuracy(to_categorical(self.__out, self.class_num), self.Y_val)\n",
    "            self.val_loss.append(val_loss)\n",
    "            self.val_acc.append(val_acc)\n",
    "\n",
    "            tot_time = round(time.time() - start, 3)\n",
    "            self.tot_time.append(tot_time)\n",
    "\n",
    "            print(\n",
    "                f\"Epoch {epoch+1}: loss = {train_loss.round(3)} | acc = {train_acc.round(3)} | val_loss = {val_loss.round(3)} | val_acc = {val_acc.round(3)} | train_time = {train_time} | tot_time = {tot_time}\"\n",
    "            )\n"
   ]
  },
  {
   "cell_type": "markdown",
   "metadata": {
    "id": "VrUiDpPynrLF"
   },
   "source": [
    "Great, now let's give this a try. Let's create a really simple MLP with only a single hidden layer `L=2` with 64 neurons `N_l=64`. We'll train with a `batch_size=8` for `epochs=20` and a learning rate `lr=0.2`."
   ]
  },
  {
   "cell_type": "code",
   "execution_count": 16,
   "metadata": {
    "colab": {
     "base_uri": "https://localhost:8080/"
    },
    "id": "fkkmE_mQpb4j",
    "outputId": "36c6b7de-acd4-4923-8812-b170f5a3c4cc"
   },
   "outputs": [
    {
     "name": "stderr",
     "output_type": "stream",
     "text": [
      "/usr/local/lib/python3.7/dist-packages/ipykernel_launcher.py:47: VisibleDeprecationWarning: Creating an ndarray from ragged nested sequences (which is a list-or-tuple of lists-or-tuples-or ndarrays with different lengths or shapes) is deprecated. If you meant to do this, you must specify 'dtype=object' when creating the ndarray.\n"
     ]
    },
    {
     "name": "stdout",
     "output_type": "stream",
     "text": [
      "Epoch 1: loss = 0.398 | acc = 0.875 | val_loss = 0.288 | val_acc = 0.918 | train_time = 7.449 | tot_time = 7.561\n",
      "Epoch 2: loss = 0.198 | acc = 0.94 | val_loss = 0.175 | val_acc = 0.948 | train_time = 6.389 | tot_time = 6.496\n",
      "Epoch 3: loss = 0.148 | acc = 0.955 | val_loss = 0.148 | val_acc = 0.956 | train_time = 6.415 | tot_time = 6.515\n",
      "Epoch 4: loss = 0.122 | acc = 0.962 | val_loss = 0.139 | val_acc = 0.957 | train_time = 6.446 | tot_time = 6.541\n",
      "Epoch 5: loss = 0.104 | acc = 0.968 | val_loss = 0.163 | val_acc = 0.951 | train_time = 6.316 | tot_time = 6.414\n",
      "Epoch 6: loss = 0.088 | acc = 0.972 | val_loss = 0.135 | val_acc = 0.961 | train_time = 6.135 | tot_time = 6.231\n",
      "Epoch 7: loss = 0.078 | acc = 0.975 | val_loss = 0.122 | val_acc = 0.964 | train_time = 6.123 | tot_time = 6.233\n",
      "Epoch 8: loss = 0.068 | acc = 0.978 | val_loss = 0.121 | val_acc = 0.966 | train_time = 7.234 | tot_time = 7.332\n",
      "Epoch 9: loss = 0.057 | acc = 0.982 | val_loss = 0.124 | val_acc = 0.967 | train_time = 6.183 | tot_time = 6.281\n",
      "Epoch 10: loss = 0.052 | acc = 0.983 | val_loss = 0.136 | val_acc = 0.964 | train_time = 6.233 | tot_time = 6.331\n",
      "Epoch 11: loss = 0.045 | acc = 0.986 | val_loss = 0.125 | val_acc = 0.966 | train_time = 7.22 | tot_time = 7.317\n",
      "Epoch 12: loss = 0.041 | acc = 0.987 | val_loss = 0.138 | val_acc = 0.963 | train_time = 6.127 | tot_time = 6.223\n",
      "Epoch 13: loss = 0.035 | acc = 0.989 | val_loss = 0.125 | val_acc = 0.969 | train_time = 6.148 | tot_time = 6.261\n",
      "Epoch 14: loss = 0.033 | acc = 0.989 | val_loss = 0.133 | val_acc = 0.967 | train_time = 6.176 | tot_time = 6.272\n",
      "Epoch 15: loss = 0.027 | acc = 0.991 | val_loss = 0.14 | val_acc = 0.966 | train_time = 6.067 | tot_time = 6.166\n",
      "Epoch 16: loss = 0.024 | acc = 0.992 | val_loss = 0.131 | val_acc = 0.968 | train_time = 6.063 | tot_time = 6.157\n",
      "Epoch 17: loss = 0.022 | acc = 0.993 | val_loss = 0.131 | val_acc = 0.969 | train_time = 6.227 | tot_time = 6.325\n",
      "Epoch 18: loss = 0.019 | acc = 0.994 | val_loss = 0.134 | val_acc = 0.969 | train_time = 6.115 | tot_time = 6.211\n",
      "Epoch 19: loss = 0.016 | acc = 0.996 | val_loss = 0.142 | val_acc = 0.966 | train_time = 6.204 | tot_time = 6.305\n",
      "Epoch 20: loss = 0.013 | acc = 0.996 | val_loss = 0.148 | val_acc = 0.966 | train_time = 6.064 | tot_time = 6.16\n"
     ]
    }
   ],
   "source": [
    "model = MLP(X_train, Y_train, X_test, Y_test, L=2, N_l=64)\n",
    "model.train(batch_size=8, epochs=20, lr=0.2)"
   ]
  },
  {
   "cell_type": "code",
   "execution_count": 17,
   "metadata": {
    "colab": {
     "base_uri": "https://localhost:8080/",
     "height": 352
    },
    "id": "b8IawSzBSRNI",
    "outputId": "dd06ff02-954c-47bf-baf6-9ec8730db0e5"
   },
   "outputs": [
    {
     "data": {
      "text/plain": [
       "Text(0, 0.5, 'Accuracy')"
      ]
     },
     "execution_count": 17,
     "metadata": {},
     "output_type": "execute_result"
    },
    {
     "data": {
      "image/png": "[encoded data removed]",
      "text/plain": [
       "<Figure size 1080x360 with 2 Axes>"
      ]
     },
     "metadata": {
      "needs_background": "light"
     },
     "output_type": "display_data"
    }
   ],
   "source": [
    "fig,ax = plt.subplots(1,2,figsize=(15,5))\n",
    "ax[0].plot(model.train_loss,label=\"Train loss\")\n",
    "ax[0].plot(model.val_loss,label=\"Val loss\")\n",
    "ax[0].legend()\n",
    "ax[0].set_xlabel(\"Epoch\")\n",
    "ax[0].set_ylabel(\"Loss\")\n",
    "\n",
    "ax[1].plot(model.train_acc,label=\"Train acc\")\n",
    "ax[1].plot(model.val_acc,label=\"Val acc\")\n",
    "ax[1].legend()\n",
    "ax[1].set_xlabel(\"Epoch\")\n",
    "ax[1].set_ylabel(\"Accuracy\")"
   ]
  },
  {
   "cell_type": "markdown",
   "metadata": {
    "id": "i9rgEKrTCseN"
   },
   "source": [
    "## Discussion (2 points)\n",
    "\n",
    "In this section, you are free to choose some of the following directions to explore, and try to summarize some patterns and conclusions.\n",
    "\n",
    "* Try to use different learning rates and generalize the impact of learning rate on training.\n",
    "* Try to use different number of layers of MLPs or different number of neurons of MLPs (including different ways of weight initialization) and explore the impact on the final classification performance.\n",
    "* Try to use a portion of the data for training (e.g., 10%, 20%, 50%) to explore the training convergence and final classification performance with different amounts of data.\n",
    "\n",
    "> **NOTE:** *Good Disscusion* include experimental setup, presentation of experimental results including visualization, analysis and interpretation of phenomena, and summary of conclusions"
   ]
  },
  {
   "cell_type": "markdown",
   "metadata": {},
   "source": [
    "### Initial Analysis\n",
    "\n",
    "From the graph of Loss vs Epoch, we notice that the validation loss decreases with decrease in training loss until ~epoch 8. After this, both of them start to diverge. This means that after epoch 8, the model started to overfit on the training data and hence generalization of the model was lost, resulting in greater loss values for the validation data.\n",
    "\n",
    "Thus, we will take optimum no. of epochs to be 8 for further analysis below."
   ]
  },
  {
   "cell_type": "markdown",
   "metadata": {
    "id": "5pF4oSHgumbT"
   },
   "source": [
    "## 1. Change learning rate"
   ]
  },
  {
   "cell_type": "code",
   "execution_count": 18,
   "metadata": {
    "id": "IpuUw__XX2BE"
   },
   "outputs": [],
   "source": [
    "# === Complete the code (2')\n",
    "import math\n",
    "\n",
    "def optimize_lr(max_lr=1):\n",
    "  step_size = 0.1\n",
    "  learning_rate = 0.1 ## Initial rate\n",
    "  val_loss_vector = []\n",
    "  train_loss_vector = []\n",
    "  lr_vector = []\n",
    "\n",
    "  # keeping num_epochs constant\n",
    "  while learning_rate < max_lr:\n",
    "    model = MLP(X_train, Y_train, X_test, Y_test, L=2, N_l=64)\n",
    "    model.train(batch_size=8, epochs=8, lr=learning_rate)\n",
    "    \n",
    "    if model.val_loss[-1] == float('inf') or math.isnan(model.val_loss[-1]):\n",
    "      break\n",
    "\n",
    "    lr_vector.append(learning_rate)\n",
    "    val_loss_vector.append(model.val_loss[-1])\n",
    "    train_loss_vector.append(model.train_loss[-1])\n",
    "    learning_rate += step_size # Increase rate linearly for each iteration\n",
    "\n",
    "    print(\"\\n\\n ------------------------------------------- \\n\\n\")\n",
    "\n",
    "  return lr_vector, val_loss_vector, train_loss_vector\n",
    "# === Complete the code"
   ]
  },
  {
   "cell_type": "code",
   "execution_count": 19,
   "metadata": {
    "colab": {
     "base_uri": "https://localhost:8080/",
     "height": 1000
    },
    "id": "ZvJdbBGExV8G",
    "outputId": "2037e723-8942-4473-9489-bdeef5dd3095"
   },
   "outputs": [
    {
     "name": "stderr",
     "output_type": "stream",
     "text": [
      "/usr/local/lib/python3.7/dist-packages/ipykernel_launcher.py:47: VisibleDeprecationWarning: Creating an ndarray from ragged nested sequences (which is a list-or-tuple of lists-or-tuples-or ndarrays with different lengths or shapes) is deprecated. If you meant to do this, you must specify 'dtype=object' when creating the ndarray.\n"
     ]
    },
    {
     "name": "stdout",
     "output_type": "stream",
     "text": [
      "Epoch 1: loss = 0.475 | acc = 0.853 | val_loss = 0.273 | val_acc = 0.918 | train_time = 6.182 | tot_time = 6.281\n",
      "Epoch 2: loss = 0.243 | acc = 0.928 | val_loss = 0.211 | val_acc = 0.937 | train_time = 6.188 | tot_time = 6.288\n",
      "Epoch 3: loss = 0.191 | acc = 0.943 | val_loss = 0.203 | val_acc = 0.938 | train_time = 6.129 | tot_time = 6.227\n",
      "Epoch 4: loss = 0.159 | acc = 0.952 | val_loss = 0.166 | val_acc = 0.95 | train_time = 6.105 | tot_time = 6.205\n",
      "Epoch 5: loss = 0.138 | acc = 0.959 | val_loss = 0.157 | val_acc = 0.952 | train_time = 6.071 | tot_time = 6.17\n",
      "Epoch 6: loss = 0.121 | acc = 0.964 | val_loss = 0.148 | val_acc = 0.956 | train_time = 6.154 | tot_time = 6.264\n",
      "Epoch 7: loss = 0.108 | acc = 0.967 | val_loss = 0.137 | val_acc = 0.961 | train_time = 6.131 | tot_time = 6.231\n",
      "Epoch 8: loss = 0.097 | acc = 0.971 | val_loss = 0.133 | val_acc = 0.962 | train_time = 6.119 | tot_time = 6.23\n",
      "Epoch 9: loss = 0.088 | acc = 0.973 | val_loss = 0.127 | val_acc = 0.964 | train_time = 6.108 | tot_time = 6.205\n",
      "Epoch 10: loss = 0.08 | acc = 0.976 | val_loss = 0.125 | val_acc = 0.964 | train_time = 6.129 | tot_time = 6.229\n",
      "Epoch 11: loss = 0.074 | acc = 0.977 | val_loss = 0.131 | val_acc = 0.96 | train_time = 6.089 | tot_time = 6.188\n",
      "Epoch 12: loss = 0.067 | acc = 0.98 | val_loss = 0.124 | val_acc = 0.964 | train_time = 6.15 | tot_time = 6.249\n",
      "Epoch 13: loss = 0.06 | acc = 0.982 | val_loss = 0.132 | val_acc = 0.963 | train_time = 7.379 | tot_time = 7.478\n",
      "Epoch 14: loss = 0.057 | acc = 0.983 | val_loss = 0.124 | val_acc = 0.964 | train_time = 6.175 | tot_time = 6.276\n",
      "Epoch 15: loss = 0.051 | acc = 0.985 | val_loss = 0.124 | val_acc = 0.966 | train_time = 6.161 | tot_time = 6.267\n",
      "Epoch 16: loss = 0.048 | acc = 0.986 | val_loss = 0.133 | val_acc = 0.962 | train_time = 6.227 | tot_time = 6.327\n",
      "Epoch 17: loss = 0.044 | acc = 0.988 | val_loss = 0.122 | val_acc = 0.966 | train_time = 6.126 | tot_time = 6.228\n",
      "Epoch 18: loss = 0.041 | acc = 0.989 | val_loss = 0.131 | val_acc = 0.965 | train_time = 6.078 | tot_time = 6.177\n",
      "Epoch 19: loss = 0.038 | acc = 0.99 | val_loss = 0.123 | val_acc = 0.967 | train_time = 6.095 | tot_time = 6.194\n",
      "Epoch 20: loss = 0.035 | acc = 0.99 | val_loss = 0.128 | val_acc = 0.966 | train_time = 6.093 | tot_time = 6.191\n",
      "\n",
      "\n",
      " ------------------------------------------- \n",
      "\n",
      "\n",
      "Epoch 1: loss = 0.391 | acc = 0.879 | val_loss = 0.23 | val_acc = 0.929 | train_time = 6.132 | tot_time = 6.231\n",
      "Epoch 2: loss = 0.203 | acc = 0.939 | val_loss = 0.208 | val_acc = 0.935 | train_time = 6.122 | tot_time = 6.224\n",
      "Epoch 3: loss = 0.156 | acc = 0.952 | val_loss = 0.161 | val_acc = 0.95 | train_time = 6.154 | tot_time = 6.253\n",
      "Epoch 4: loss = 0.13 | acc = 0.96 | val_loss = 0.147 | val_acc = 0.956 | train_time = 6.085 | tot_time = 6.181\n",
      "Epoch 5: loss = 0.109 | acc = 0.966 | val_loss = 0.146 | val_acc = 0.958 | train_time = 6.119 | tot_time = 6.228\n",
      "Epoch 6: loss = 0.093 | acc = 0.971 | val_loss = 0.149 | val_acc = 0.958 | train_time = 6.221 | tot_time = 6.323\n",
      "Epoch 7: loss = 0.083 | acc = 0.974 | val_loss = 0.131 | val_acc = 0.962 | train_time = 6.197 | tot_time = 6.301\n",
      "Epoch 8: loss = 0.072 | acc = 0.977 | val_loss = 0.13 | val_acc = 0.962 | train_time = 6.192 | tot_time = 6.288\n",
      "Epoch 9: loss = 0.063 | acc = 0.98 | val_loss = 0.13 | val_acc = 0.963 | train_time = 6.105 | tot_time = 6.204\n",
      "Epoch 10: loss = 0.056 | acc = 0.982 | val_loss = 0.134 | val_acc = 0.962 | train_time = 6.109 | tot_time = 6.206\n",
      "Epoch 11: loss = 0.05 | acc = 0.985 | val_loss = 0.135 | val_acc = 0.965 | train_time = 6.13 | tot_time = 6.228\n",
      "Epoch 12: loss = 0.044 | acc = 0.986 | val_loss = 0.126 | val_acc = 0.967 | train_time = 6.204 | tot_time = 6.314\n",
      "Epoch 13: loss = 0.038 | acc = 0.988 | val_loss = 0.129 | val_acc = 0.966 | train_time = 6.082 | tot_time = 6.179\n",
      "Epoch 14: loss = 0.035 | acc = 0.989 | val_loss = 0.139 | val_acc = 0.963 | train_time = 6.04 | tot_time = 6.141\n",
      "Epoch 15: loss = 0.032 | acc = 0.99 | val_loss = 0.146 | val_acc = 0.964 | train_time = 7.24 | tot_time = 7.342\n",
      "Epoch 16: loss = 0.028 | acc = 0.992 | val_loss = 0.13 | val_acc = 0.967 | train_time = 6.178 | tot_time = 6.277\n",
      "Epoch 17: loss = 0.024 | acc = 0.993 | val_loss = 0.141 | val_acc = 0.965 | train_time = 6.065 | tot_time = 6.185\n",
      "Epoch 18: loss = 0.02 | acc = 0.994 | val_loss = 0.134 | val_acc = 0.967 | train_time = 6.207 | tot_time = 6.303\n",
      "Epoch 19: loss = 0.017 | acc = 0.996 | val_loss = 0.137 | val_acc = 0.966 | train_time = 6.081 | tot_time = 6.181\n",
      "Epoch 20: loss = 0.015 | acc = 0.996 | val_loss = 0.143 | val_acc = 0.965 | train_time = 6.175 | tot_time = 6.274\n",
      "\n",
      "\n",
      " ------------------------------------------- \n",
      "\n",
      "\n",
      "Epoch 1: loss = 0.383 | acc = 0.881 | val_loss = 0.21 | val_acc = 0.937 | train_time = 6.18 | tot_time = 6.277\n",
      "Epoch 2: loss = 0.197 | acc = 0.94 | val_loss = 0.172 | val_acc = 0.947 | train_time = 6.187 | tot_time = 6.284\n",
      "Epoch 3: loss = 0.153 | acc = 0.954 | val_loss = 0.168 | val_acc = 0.951 | train_time = 6.192 | tot_time = 6.291\n",
      "Epoch 4: loss = 0.128 | acc = 0.961 | val_loss = 0.179 | val_acc = 0.949 | train_time = 6.044 | tot_time = 6.141\n",
      "Epoch 5: loss = 0.108 | acc = 0.966 | val_loss = 0.143 | val_acc = 0.959 | train_time = 6.238 | tot_time = 6.338\n",
      "Epoch 6: loss = 0.094 | acc = 0.97 | val_loss = 0.131 | val_acc = 0.965 | train_time = 6.071 | tot_time = 6.171\n",
      "Epoch 7: loss = 0.082 | acc = 0.975 | val_loss = 0.149 | val_acc = 0.959 | train_time = 6.141 | tot_time = 6.239\n",
      "Epoch 8: loss = 0.075 | acc = 0.976 | val_loss = 0.134 | val_acc = 0.964 | train_time = 6.038 | tot_time = 6.14\n",
      "Epoch 9: loss = 0.065 | acc = 0.979 | val_loss = 0.124 | val_acc = 0.966 | train_time = 6.127 | tot_time = 6.228\n",
      "Epoch 10: loss = 0.059 | acc = 0.981 | val_loss = 0.148 | val_acc = 0.962 | train_time = 6.071 | tot_time = 6.17\n",
      "Epoch 11: loss = 0.051 | acc = 0.984 | val_loss = 0.143 | val_acc = 0.963 | train_time = 6.172 | tot_time = 6.276\n",
      "Epoch 12: loss = 0.048 | acc = 0.984 | val_loss = 0.168 | val_acc = 0.956 | train_time = 6.165 | tot_time = 6.27\n",
      "Epoch 13: loss = 0.044 | acc = 0.986 | val_loss = 0.163 | val_acc = 0.96 | train_time = 6.139 | tot_time = 6.238\n",
      "Epoch 14: loss = 0.039 | acc = 0.987 | val_loss = 0.156 | val_acc = 0.96 | train_time = 6.155 | tot_time = 6.252\n",
      "Epoch 15: loss = 0.034 | acc = 0.989 | val_loss = 0.14 | val_acc = 0.966 | train_time = 6.102 | tot_time = 6.204\n",
      "Epoch 16: loss = 0.032 | acc = 0.989 | val_loss = 0.137 | val_acc = 0.965 | train_time = 6.072 | tot_time = 6.171\n",
      "Epoch 17: loss = 0.027 | acc = 0.991 | val_loss = 0.141 | val_acc = 0.966 | train_time = 6.158 | tot_time = 6.257\n",
      "Epoch 18: loss = 0.024 | acc = 0.992 | val_loss = 0.147 | val_acc = 0.965 | train_time = 7.195 | tot_time = 7.293\n",
      "Epoch 19: loss = 0.025 | acc = 0.992 | val_loss = 0.153 | val_acc = 0.965 | train_time = 6.098 | tot_time = 6.197\n",
      "Epoch 20: loss = 0.02 | acc = 0.994 | val_loss = 0.15 | val_acc = 0.967 | train_time = 6.069 | tot_time = 6.175\n",
      "\n",
      "\n",
      " ------------------------------------------- \n",
      "\n",
      "\n",
      "Epoch 1: loss = 0.494 | acc = 0.863 | val_loss = 0.261 | val_acc = 0.926 | train_time = 6.117 | tot_time = 6.216\n",
      "Epoch 2: loss = 0.257 | acc = 0.929 | val_loss = 0.301 | val_acc = 0.924 | train_time = 6.043 | tot_time = 6.139\n",
      "Epoch 3: loss = 0.206 | acc = 0.942 | val_loss = 0.211 | val_acc = 0.943 | train_time = 6.038 | tot_time = 6.138\n",
      "Epoch 4: loss = 0.179 | acc = 0.95 | val_loss = 0.186 | val_acc = 0.95 | train_time = 6.157 | tot_time = 6.258\n",
      "Epoch 5: loss = 0.154 | acc = 0.957 | val_loss = 0.167 | val_acc = 0.956 | train_time = 6.171 | tot_time = 6.27\n",
      "Epoch 6: loss = 0.133 | acc = 0.962 | val_loss = 0.161 | val_acc = 0.957 | train_time = 6.15 | tot_time = 6.251\n",
      "Epoch 7: loss = 0.125 | acc = 0.965 | val_loss = 0.158 | val_acc = 0.961 | train_time = 6.053 | tot_time = 6.151\n",
      "Epoch 8: loss = 0.117 | acc = 0.966 | val_loss = 0.176 | val_acc = 0.957 | train_time = 6.051 | tot_time = 6.148\n",
      "Epoch 9: loss = 0.111 | acc = 0.969 | val_loss = 0.15 | val_acc = 0.96 | train_time = 6.06 | tot_time = 6.158\n",
      "Epoch 10: loss = 0.098 | acc = 0.972 | val_loss = 0.151 | val_acc = 0.964 | train_time = 6.147 | tot_time = 6.25\n",
      "Epoch 11: loss = 0.092 | acc = 0.973 | val_loss = 0.171 | val_acc = 0.96 | train_time = 6.093 | tot_time = 6.192\n",
      "Epoch 12: loss = 0.085 | acc = 0.976 | val_loss = 0.156 | val_acc = 0.96 | train_time = 6.086 | tot_time = 6.183\n",
      "Epoch 13: loss = 0.075 | acc = 0.977 | val_loss = 0.154 | val_acc = 0.964 | train_time = 6.056 | tot_time = 6.157\n",
      "Epoch 14: loss = 0.077 | acc = 0.978 | val_loss = 0.149 | val_acc = 0.966 | train_time = 6.123 | tot_time = 6.237\n",
      "Epoch 15: loss = 0.08 | acc = 0.976 | val_loss = 0.179 | val_acc = 0.959 | train_time = 6.103 | tot_time = 6.206\n",
      "Epoch 16: loss = 0.068 | acc = 0.98 | val_loss = 0.154 | val_acc = 0.964 | train_time = 6.136 | tot_time = 6.235\n",
      "Epoch 17: loss = 0.064 | acc = 0.981 | val_loss = 0.152 | val_acc = 0.967 | train_time = 6.031 | tot_time = 6.127\n",
      "Epoch 18: loss = 0.057 | acc = 0.982 | val_loss = 0.175 | val_acc = 0.959 | train_time = 6.219 | tot_time = 6.317\n",
      "Epoch 19: loss = 0.063 | acc = 0.981 | val_loss = 0.167 | val_acc = 0.966 | train_time = 7.322 | tot_time = 7.422\n",
      "Epoch 20: loss = 0.057 | acc = 0.983 | val_loss = 0.179 | val_acc = 0.962 | train_time = 6.15 | tot_time = 6.25\n",
      "\n",
      "\n",
      " ------------------------------------------- \n",
      "\n",
      "\n",
      "Epoch 1: loss = 0.677 | acc = 0.841 | val_loss = 0.302 | val_acc = 0.925 | train_time = 6.056 | tot_time = 6.16\n",
      "Epoch 2: loss = 0.345 | acc = 0.916 | val_loss = 0.27 | val_acc = 0.936 | train_time = 8.109 | tot_time = 8.206\n",
      "Epoch 3: loss = 0.283 | acc = 0.93 | val_loss = 0.284 | val_acc = 0.935 | train_time = 6.147 | tot_time = 6.258\n",
      "Epoch 4: loss = 0.249 | acc = 0.938 | val_loss = 0.272 | val_acc = 0.935 | train_time = 6.104 | tot_time = 6.205\n",
      "Epoch 5: loss = 0.231 | acc = 0.943 | val_loss = 0.243 | val_acc = 0.943 | train_time = 6.136 | tot_time = 6.234\n",
      "Epoch 6: loss = 0.215 | acc = 0.948 | val_loss = 0.283 | val_acc = 0.93 | train_time = 6.028 | tot_time = 6.125\n",
      "Epoch 7: loss = 0.2 | acc = 0.951 | val_loss = 0.21 | val_acc = 0.95 | train_time = 6.017 | tot_time = 6.113\n",
      "Epoch 8: loss = 0.178 | acc = 0.956 | val_loss = 0.193 | val_acc = 0.956 | train_time = 6.081 | tot_time = 6.178\n",
      "Epoch 9: loss = 0.18 | acc = 0.956 | val_loss = 0.189 | val_acc = 0.958 | train_time = 6.156 | tot_time = 6.254\n",
      "Epoch 10: loss = 0.167 | acc = 0.958 | val_loss = 0.175 | val_acc = 0.962 | train_time = 6.134 | tot_time = 6.235\n",
      "Epoch 11: loss = 0.159 | acc = 0.959 | val_loss = 0.176 | val_acc = 0.961 | train_time = 6.148 | tot_time = 6.247\n",
      "Epoch 12: loss = 0.146 | acc = 0.963 | val_loss = 0.272 | val_acc = 0.94 | train_time = 6.283 | tot_time = 6.381\n",
      "Epoch 13: loss = 0.15 | acc = 0.963 | val_loss = 0.241 | val_acc = 0.947 | train_time = 6.253 | tot_time = 6.353\n",
      "Epoch 14: loss = 0.136 | acc = 0.966 | val_loss = 0.185 | val_acc = 0.96 | train_time = 6.256 | tot_time = 6.359\n",
      "Epoch 15: loss = 0.129 | acc = 0.966 | val_loss = 0.214 | val_acc = 0.952 | train_time = 6.125 | tot_time = 6.222\n",
      "Epoch 16: loss = 0.125 | acc = 0.969 | val_loss = 0.211 | val_acc = 0.954 | train_time = 5.967 | tot_time = 6.064\n",
      "Epoch 17: loss = 0.119 | acc = 0.97 | val_loss = 0.195 | val_acc = 0.957 | train_time = 5.982 | tot_time = 6.079\n",
      "Epoch 18: loss = 0.118 | acc = 0.97 | val_loss = 0.183 | val_acc = 0.962 | train_time = 6.022 | tot_time = 6.121\n",
      "Epoch 19: loss = 0.12 | acc = 0.969 | val_loss = 0.242 | val_acc = 0.951 | train_time = 6.011 | tot_time = 6.11\n",
      "Epoch 20: loss = 0.112 | acc = 0.971 | val_loss = 0.242 | val_acc = 0.95 | train_time = 6.014 | tot_time = 6.114\n",
      "\n",
      "\n",
      " ------------------------------------------- \n",
      "\n",
      "\n",
      "Epoch 1: loss = 1.109 | acc = 0.806 | val_loss = 0.675 | val_acc = 0.876 | train_time = 7.183 | tot_time = 7.286\n",
      "Epoch 2: loss = 0.55 | acc = 0.892 | val_loss = 0.629 | val_acc = 0.885 | train_time = 6.149 | tot_time = 6.248\n",
      "Epoch 3: loss = 0.492 | acc = 0.903 | val_loss = 0.48 | val_acc = 0.91 | train_time = 5.986 | tot_time = 6.083\n",
      "Epoch 4: loss = 0.46 | acc = 0.909 | val_loss = 0.602 | val_acc = 0.878 | train_time = 6.115 | tot_time = 6.218\n",
      "Epoch 5: loss = 0.413 | acc = 0.918 | val_loss = 0.39 | val_acc = 0.925 | train_time = 6.053 | tot_time = 6.151\n",
      "Epoch 6: loss = 0.381 | acc = 0.924 | val_loss = 0.324 | val_acc = 0.939 | train_time = 5.967 | tot_time = 6.065\n",
      "Epoch 7: loss = 0.346 | acc = 0.929 | val_loss = 0.483 | val_acc = 0.907 | train_time = 5.987 | tot_time = 6.084\n",
      "Epoch 8: loss = 0.341 | acc = 0.929 | val_loss = 0.315 | val_acc = 0.94 | train_time = 6.018 | tot_time = 6.115\n",
      "Epoch 9: loss = 0.323 | acc = 0.935 | val_loss = 0.307 | val_acc = 0.937 | train_time = 6.064 | tot_time = 6.164\n",
      "Epoch 10: loss = 0.3 | acc = 0.937 | val_loss = 0.453 | val_acc = 0.912 | train_time = 5.985 | tot_time = 6.088\n",
      "Epoch 11: loss = 0.303 | acc = 0.938 | val_loss = 0.343 | val_acc = 0.932 | train_time = 5.969 | tot_time = 6.067\n",
      "Epoch 12: loss = 0.303 | acc = 0.938 | val_loss = 0.384 | val_acc = 0.929 | train_time = 6.025 | tot_time = 6.124\n",
      "Epoch 13: loss = 0.29 | acc = 0.94 | val_loss = 0.27 | val_acc = 0.948 | train_time = 5.957 | tot_time = 6.056\n",
      "Epoch 14: loss = 0.274 | acc = 0.944 | val_loss = 0.274 | val_acc = 0.943 | train_time = 6.018 | tot_time = 6.116\n",
      "Epoch 15: loss = 0.27 | acc = 0.944 | val_loss = 0.396 | val_acc = 0.927 | train_time = 6.053 | tot_time = 6.15\n",
      "Epoch 16: loss = 0.269 | acc = 0.945 | val_loss = 0.271 | val_acc = 0.949 | train_time = 5.952 | tot_time = 6.049\n",
      "Epoch 17: loss = 0.25 | acc = 0.948 | val_loss = 0.316 | val_acc = 0.94 | train_time = 6.079 | tot_time = 6.18\n",
      "Epoch 18: loss = 0.258 | acc = 0.946 | val_loss = 0.284 | val_acc = 0.945 | train_time = 6.026 | tot_time = 6.137\n",
      "Epoch 19: loss = 0.247 | acc = 0.949 | val_loss = 0.307 | val_acc = 0.945 | train_time = 6.05 | tot_time = 6.148\n",
      "Epoch 20: loss = 0.237 | acc = 0.949 | val_loss = 0.311 | val_acc = 0.938 | train_time = 5.944 | tot_time = 6.041\n",
      "\n",
      "\n",
      " ------------------------------------------- \n",
      "\n",
      "\n",
      "Epoch 1: loss = 2.33 | acc = 0.702 | val_loss = 1.318 | val_acc = 0.766 | train_time = 8.277 | tot_time = 8.552\n",
      "Epoch 2: loss = 1.132 | acc = 0.822 | val_loss = 0.736 | val_acc = 0.865 | train_time = 11.213 | tot_time = 11.409\n",
      "Epoch 3: loss = 0.897 | acc = 0.85 | val_loss = 0.809 | val_acc = 0.869 | train_time = 6.174 | tot_time = 6.275\n",
      "Epoch 4: loss = 0.778 | acc = 0.868 | val_loss = 0.741 | val_acc = 0.872 | train_time = 5.932 | tot_time = 6.045\n",
      "Epoch 5: loss = 0.736 | acc = 0.875 | val_loss = 0.707 | val_acc = 0.879 | train_time = 5.948 | tot_time = 6.048\n",
      "Epoch 6: loss = 0.705 | acc = 0.879 | val_loss = 0.72 | val_acc = 0.862 | train_time = 6.02 | tot_time = 6.128\n",
      "Epoch 7: loss = 0.63 | acc = 0.89 | val_loss = 0.517 | val_acc = 0.91 | train_time = 6.074 | tot_time = 6.184\n",
      "Epoch 8: loss = 0.604 | acc = 0.895 | val_loss = 0.757 | val_acc = 0.878 | train_time = 5.993 | tot_time = 6.106\n",
      "Epoch 9: loss = 0.604 | acc = 0.894 | val_loss = 0.45 | val_acc = 0.916 | train_time = 6.037 | tot_time = 6.147\n",
      "Epoch 10: loss = 0.573 | acc = 0.9 | val_loss = 0.532 | val_acc = 0.918 | train_time = 6.059 | tot_time = 6.157\n",
      "Epoch 11: loss = 0.575 | acc = 0.9 | val_loss = 0.732 | val_acc = 0.835 | train_time = 6.017 | tot_time = 6.115\n",
      "Epoch 12: loss = 0.571 | acc = 0.901 | val_loss = 0.519 | val_acc = 0.916 | train_time = 6.039 | tot_time = 6.139\n",
      "Epoch 13: loss = 0.549 | acc = 0.904 | val_loss = 0.527 | val_acc = 0.908 | train_time = 6.895 | tot_time = 6.992\n",
      "Epoch 14: loss = 0.527 | acc = 0.908 | val_loss = 2.565 | val_acc = 0.73 | train_time = 5.965 | tot_time = 6.061\n",
      "Epoch 15: loss = 0.527 | acc = 0.907 | val_loss = 1.333 | val_acc = 0.763 | train_time = 6.028 | tot_time = 6.126\n",
      "Epoch 16: loss = 0.509 | acc = 0.91 | val_loss = 0.384 | val_acc = 0.926 | train_time = 5.985 | tot_time = 6.083\n",
      "Epoch 17: loss = 0.504 | acc = 0.91 | val_loss = 0.427 | val_acc = 0.931 | train_time = 6.052 | tot_time = 6.153\n",
      "Epoch 18: loss = 0.494 | acc = 0.913 | val_loss = 0.412 | val_acc = 0.933 | train_time = 6.007 | tot_time = 6.103\n",
      "Epoch 19: loss = 0.498 | acc = 0.911 | val_loss = 0.378 | val_acc = 0.93 | train_time = 5.966 | tot_time = 6.067\n",
      "Epoch 20: loss = 0.471 | acc = 0.916 | val_loss = 0.565 | val_acc = 0.901 | train_time = 6.083 | tot_time = 6.183\n",
      "\n",
      "\n",
      " ------------------------------------------- \n",
      "\n",
      "\n",
      "Epoch 1: loss = 3.655 | acc = 0.62 | val_loss = 1.853 | val_acc = 0.73 | train_time = 6.055 | tot_time = 6.156\n",
      "Epoch 2: loss = 2.001 | acc = 0.744 | val_loss = 1.801 | val_acc = 0.752 | train_time = 6.16 | tot_time = 6.272\n",
      "Epoch 3: loss = 1.681 | acc = 0.781 | val_loss = 1.45 | val_acc = 0.788 | train_time = 6.15 | tot_time = 6.247\n",
      "Epoch 4: loss = 1.684 | acc = 0.779 | val_loss = 0.968 | val_acc = 0.864 | train_time = 6.43 | tot_time = 6.618\n",
      "Epoch 5: loss = 1.632 | acc = 0.78 | val_loss = 1.298 | val_acc = 0.819 | train_time = 6.55 | tot_time = 6.648\n",
      "Epoch 6: loss = 1.476 | acc = 0.801 | val_loss = 1.112 | val_acc = 0.857 | train_time = 6.037 | tot_time = 6.137\n",
      "Epoch 7: loss = 1.381 | acc = 0.811 | val_loss = 2.094 | val_acc = 0.64 | train_time = 5.972 | tot_time = 6.072\n",
      "Epoch 8: loss = 1.399 | acc = 0.813 | val_loss = 1.346 | val_acc = 0.779 | train_time = 5.966 | tot_time = 6.078\n",
      "Epoch 9: loss = 1.327 | acc = 0.816 | val_loss = 1.103 | val_acc = 0.848 | train_time = 5.899 | tot_time = 6.01\n",
      "Epoch 10: loss = 1.273 | acc = 0.826 | val_loss = 0.985 | val_acc = 0.857 | train_time = 5.964 | tot_time = 6.063\n",
      "Epoch 11: loss = 1.158 | acc = 0.838 | val_loss = 0.821 | val_acc = 0.884 | train_time = 5.95 | tot_time = 6.047\n",
      "Epoch 12: loss = 1.075 | acc = 0.847 | val_loss = 0.804 | val_acc = 0.887 | train_time = 6.039 | tot_time = 6.134\n",
      "Epoch 13: loss = 1.058 | acc = 0.848 | val_loss = 0.789 | val_acc = 0.884 | train_time = 6.019 | tot_time = 6.118\n",
      "Epoch 14: loss = 1.011 | acc = 0.853 | val_loss = 0.83 | val_acc = 0.878 | train_time = 5.963 | tot_time = 6.06\n",
      "Epoch 15: loss = 1.033 | acc = 0.849 | val_loss = 0.832 | val_acc = 0.882 | train_time = 6.034 | tot_time = 6.136\n",
      "Epoch 16: loss = 0.94 | acc = 0.862 | val_loss = 1.221 | val_acc = 0.801 | train_time = 6.068 | tot_time = 6.166\n",
      "Epoch 17: loss = 0.902 | acc = 0.867 | val_loss = 0.741 | val_acc = 0.89 | train_time = 5.965 | tot_time = 6.062\n",
      "Epoch 18: loss = 0.94 | acc = 0.86 | val_loss = 1.706 | val_acc = 0.728 | train_time = 5.939 | tot_time = 6.037\n",
      "Epoch 19: loss = 0.89 | acc = 0.867 | val_loss = 1.112 | val_acc = 0.808 | train_time = 5.957 | tot_time = 6.057\n",
      "Epoch 20: loss = 0.911 | acc = 0.865 | val_loss = 0.671 | val_acc = 0.899 | train_time = 5.998 | tot_time = 6.095\n",
      "\n",
      "\n",
      " ------------------------------------------- \n",
      "\n",
      "\n",
      "Epoch 1: loss = 11.808 | acc = 0.312 | val_loss = 5.795 | val_acc = 0.433 | train_time = 5.984 | tot_time = 6.083\n",
      "Epoch 2: loss = 6.224 | acc = 0.478 | val_loss = 3.926 | val_acc = 0.485 | train_time = 6.082 | tot_time = 6.181\n",
      "Epoch 3: loss = 5.109 | acc = 0.531 | val_loss = 8.501 | val_acc = 0.272 | train_time = 5.991 | tot_time = 6.088\n",
      "Epoch 4: loss = 4.759 | acc = 0.548 | val_loss = 2.536 | val_acc = 0.68 | train_time = 5.952 | tot_time = 6.05\n"
     ]
    },
    {
     "name": "stderr",
     "output_type": "stream",
     "text": [
      "/usr/local/lib/python3.7/dist-packages/ipykernel_launcher.py:17: RuntimeWarning: overflow encountered in exp\n"
     ]
    },
    {
     "name": "stdout",
     "output_type": "stream",
     "text": [
      "Epoch 5: loss = 4.484 | acc = 0.56 | val_loss = 2.908 | val_acc = 0.67 | train_time = 5.955 | tot_time = 6.058\n",
      "Epoch 6: loss = 4.027 | acc = 0.592 | val_loss = 2.627 | val_acc = 0.659 | train_time = 6.013 | tot_time = 6.115\n",
      "Epoch 7: loss = 3.968 | acc = 0.597 | val_loss = 4.523 | val_acc = 0.518 | train_time = 7.156 | tot_time = 7.254\n",
      "Epoch 8: loss = 3.541 | acc = 0.638 | val_loss = 4.153 | val_acc = 0.454 | train_time = 6.041 | tot_time = 6.14\n",
      "Epoch 9: loss = 3.166 | acc = 0.661 | val_loss = 3.065 | val_acc = 0.704 | train_time = 6.057 | tot_time = 6.155\n",
      "Epoch 10: loss = 3.122 | acc = 0.666 | val_loss = 2.53 | val_acc = 0.722 | train_time = 6.007 | tot_time = 6.104\n",
      "Epoch 11: loss = 3.237 | acc = 0.656 | val_loss = 3.462 | val_acc = 0.574 | train_time = 6.023 | tot_time = 6.121\n",
      "Epoch 12: loss = 2.967 | acc = 0.679 | val_loss = 1.596 | val_acc = 0.794 | train_time = 6.049 | tot_time = 6.152\n",
      "Epoch 13: loss = 3.074 | acc = 0.67 | val_loss = 4.19 | val_acc = 0.6 | train_time = 6.053 | tot_time = 6.148\n",
      "Epoch 14: loss = 3.332 | acc = 0.65 | val_loss = 2.362 | val_acc = 0.766 | train_time = 6.083 | tot_time = 6.18\n",
      "Epoch 15: loss = 2.886 | acc = 0.687 | val_loss = 2.738 | val_acc = 0.683 | train_time = 6.122 | tot_time = 6.22\n",
      "Epoch 16: loss = 2.844 | acc = 0.688 | val_loss = 4.756 | val_acc = 0.544 | train_time = 6.127 | tot_time = 6.222\n",
      "Epoch 17: loss = 2.727 | acc = 0.701 | val_loss = 1.969 | val_acc = 0.742 | train_time = 6.128 | tot_time = 6.241\n",
      "Epoch 18: loss = 2.749 | acc = 0.694 | val_loss = 2.152 | val_acc = 0.738 | train_time = 6.081 | tot_time = 6.179\n",
      "Epoch 19: loss = 2.735 | acc = 0.693 | val_loss = 2.316 | val_acc = 0.703 | train_time = 6.133 | tot_time = 6.235\n",
      "Epoch 20: loss = 2.954 | acc = 0.673 | val_loss = 1.99 | val_acc = 0.744 | train_time = 6.192 | tot_time = 6.291\n",
      "\n",
      "\n",
      " ------------------------------------------- \n",
      "\n",
      "\n",
      "Epoch 1: loss = 27.861 | acc = 0.108 | val_loss = 25.534 | val_acc = 0.114 | train_time = 6.078 | tot_time = 6.18\n",
      "Epoch 2: loss = 28.011 | acc = 0.11 | val_loss = 31.918 | val_acc = 0.089 | train_time = 6.095 | tot_time = 6.191\n",
      "Epoch 3: loss = 28.819 | acc = 0.101 | val_loss = 25.881 | val_acc = 0.098 | train_time = 5.91 | tot_time = 6.006\n",
      "Epoch 4: loss = 28.637 | acc = 0.101 | val_loss = 19.867 | val_acc = 0.097 | train_time = 5.949 | tot_time = 6.045\n",
      "Epoch 5: loss = 28.924 | acc = 0.099 | val_loss = 37.13 | val_acc = 0.098 | train_time = 5.944 | tot_time = 6.043\n",
      "Epoch 6: loss = 28.684 | acc = 0.102 | val_loss = 35.197 | val_acc = 0.101 | train_time = 5.968 | tot_time = 6.064\n",
      "Epoch 7: loss = 28.715 | acc = 0.101 | val_loss = 26.604 | val_acc = 0.101 | train_time = 5.934 | tot_time = 6.031\n",
      "Epoch 8: loss = 28.755 | acc = 0.101 | val_loss = 43.458 | val_acc = 0.097 | train_time = 5.887 | tot_time = 5.993\n",
      "Epoch 9: loss = 28.685 | acc = 0.101 | val_loss = 22.189 | val_acc = 0.103 | train_time = 7.094 | tot_time = 7.205\n",
      "Epoch 10: loss = 28.811 | acc = 0.101 | val_loss = 30.848 | val_acc = 0.101 | train_time = 5.953 | tot_time = 6.062\n",
      "Epoch 11: loss = 28.96 | acc = 0.1 | val_loss = 22.44 | val_acc = 0.097 | train_time = 5.966 | tot_time = 6.065\n",
      "Epoch 12: loss = 28.657 | acc = 0.102 | val_loss = 27.275 | val_acc = 0.103 | train_time = 5.969 | tot_time = 6.066\n",
      "Epoch 13: loss = 24.803 | acc = 0.147 | val_loss = 12.22 | val_acc = 0.322 | train_time = 5.935 | tot_time = 6.031\n",
      "Epoch 14: loss = 14.962 | acc = 0.263 | val_loss = 16.296 | val_acc = 0.284 | train_time = 6.012 | tot_time = 6.111\n",
      "Epoch 15: loss = 13.553 | acc = 0.281 | val_loss = 18.964 | val_acc = 0.122 | train_time = 6.081 | tot_time = 6.18\n",
      "Epoch 16: loss = 12.404 | acc = 0.319 | val_loss = 11.442 | val_acc = 0.375 | train_time = 6.033 | tot_time = 6.13\n",
      "Epoch 17: loss = 12.244 | acc = 0.325 | val_loss = 11.108 | val_acc = 0.284 | train_time = 6.071 | tot_time = 6.172\n",
      "Epoch 18: loss = 12.283 | acc = 0.328 | val_loss = 13.598 | val_acc = 0.369 | train_time = 6.054 | tot_time = 6.153\n",
      "Epoch 19: loss = 10.544 | acc = 0.36 | val_loss = 10.231 | val_acc = 0.34 | train_time = 6.038 | tot_time = 6.135\n",
      "Epoch 20: loss = 9.359 | acc = 0.399 | val_loss = 12.246 | val_acc = 0.405 | train_time = 6.091 | tot_time = 6.201\n",
      "\n",
      "\n",
      " ------------------------------------------- \n",
      "\n",
      "\n"
     ]
    },
    {
     "data": {
      "image/png": "[encoded data removed]",
      "text/plain": [
       "<Figure size 432x288 with 1 Axes>"
      ]
     },
     "metadata": {
      "needs_background": "light"
     },
     "output_type": "display_data"
    }
   ],
   "source": [
    "lr_vector, val_loss_vector, train_loss_vector = optimize_lr()\n",
    "\n",
    "plt.plot(lr_vector, val_loss_vector, label='Validation Loss')\n",
    "plt.plot(lr_vector, train_loss_vector, label='Training Loss')\n",
    "plt.xlabel(\"Learning Rate\")\n",
    "plt.ylabel(\"Loss\")\n",
    "plt.legend()\n",
    "plt.show()"
   ]
  },
  {
   "cell_type": "markdown",
   "metadata": {
    "id": "jBoPH2ho-esz"
   },
   "source": [
    "### Experiment setup:\n",
    "1. We train the model for varying learning rates, starting from lr=0.1 and increasing it everytime by 0.1 up till max lr=1 or till model validation loss values are not nan/inf.\n",
    "\n",
    "2. We record the model validation and training loss for each of these learning rates and plot a graph of Loss vs Learning Rate to see its trend.\n",
    "\n",
    "3. Every other parameter remains constant.\n",
    "\n",
    "### Analysis\n",
    "\n",
    "- From the graph in the above cell we see that the validation loss decreases with increasing learning rate, but then increases exponentially after a certain point.\n",
    "\n",
    "- Using the elbow method, we find optimal learning rate to be <= 0.6. After this, the model starts to diverge and hence loss increases.\n",
    "\n",
    "- Thus, increasing the learning rate increases the chances of the model converging faster, upto a certain point, after which it causes the model learning to diverge.\n",
    "\n"
   ]
  },
  {
   "cell_type": "markdown",
   "metadata": {
    "id": "MVjLm0vcuzhJ"
   },
   "source": [
    "## Change no. of layers"
   ]
  },
  {
   "cell_type": "code",
   "execution_count": 20,
   "metadata": {
    "id": "-v_ba4Eayj2D"
   },
   "outputs": [],
   "source": [
    "# === Complete the code (2')\n",
    "def optimize_layers(max_layer=6):\n",
    "  layer = 1 ## Initial layer size\n",
    "  val_loss_vector = []\n",
    "  train_loss_vector = []\n",
    "  layer_vector = []\n",
    "\n",
    "  # keeping num_epochs, no. of neurons constant\n",
    "  while layer < max_layer:\n",
    "    model = MLP(X_train, Y_train, X_test, Y_test, L=layer, N_l=64)\n",
    "    model.train(batch_size=8, epochs=8, lr=0.04)\n",
    "    \n",
    "    if model.val_loss[-1] == float('inf') or math.isnan(model.val_loss[-1]):\n",
    "      break\n",
    "\n",
    "    layer_vector.append(layer)\n",
    "    val_loss_vector.append(model.val_loss[-1])\n",
    "    train_loss_vector.append(model.train_loss[-1])\n",
    "    layer += 1 # Increase layer linearly for each iteration\n",
    "\n",
    "    print(\"\\n\\n ------------------------------------------- \\n\\n\")\n",
    "\n",
    "  return layer_vector, val_loss_vector, train_loss_vector\n",
    "# === Complete the code"
   ]
  },
  {
   "cell_type": "code",
   "execution_count": 21,
   "metadata": {
    "colab": {
     "base_uri": "https://localhost:8080/",
     "height": 1000
    },
    "id": "ionNCRwPyj6n",
    "outputId": "27aa06a6-022f-44b1-b05a-ef75f816afec"
   },
   "outputs": [
    {
     "name": "stderr",
     "output_type": "stream",
     "text": [
      "/usr/local/lib/python3.7/dist-packages/ipykernel_launcher.py:47: VisibleDeprecationWarning: Creating an ndarray from ragged nested sequences (which is a list-or-tuple of lists-or-tuples-or ndarrays with different lengths or shapes) is deprecated. If you meant to do this, you must specify 'dtype=object' when creating the ndarray.\n"
     ]
    },
    {
     "name": "stdout",
     "output_type": "stream",
     "text": [
      "Epoch 1: loss = 0.63 | acc = 0.808 | val_loss = 0.358 | val_acc = 0.893 | train_time = 5.421 | tot_time = 5.499\n",
      "Epoch 2: loss = 0.329 | acc = 0.903 | val_loss = 0.29 | val_acc = 0.914 | train_time = 5.378 | tot_time = 5.46\n",
      "Epoch 3: loss = 0.273 | acc = 0.919 | val_loss = 0.25 | val_acc = 0.926 | train_time = 5.346 | tot_time = 5.423\n",
      "Epoch 4: loss = 0.238 | acc = 0.93 | val_loss = 0.229 | val_acc = 0.933 | train_time = 5.362 | tot_time = 5.438\n",
      "Epoch 5: loss = 0.214 | acc = 0.936 | val_loss = 0.214 | val_acc = 0.937 | train_time = 5.412 | tot_time = 5.491\n",
      "Epoch 6: loss = 0.196 | acc = 0.942 | val_loss = 0.197 | val_acc = 0.942 | train_time = 5.35 | tot_time = 5.425\n",
      "Epoch 7: loss = 0.18 | acc = 0.947 | val_loss = 0.19 | val_acc = 0.944 | train_time = 5.339 | tot_time = 5.418\n",
      "Epoch 8: loss = 0.168 | acc = 0.949 | val_loss = 0.182 | val_acc = 0.947 | train_time = 5.399 | tot_time = 5.474\n",
      "Epoch 9: loss = 0.157 | acc = 0.953 | val_loss = 0.176 | val_acc = 0.95 | train_time = 5.454 | tot_time = 5.529\n",
      "Epoch 10: loss = 0.148 | acc = 0.956 | val_loss = 0.169 | val_acc = 0.951 | train_time = 5.337 | tot_time = 5.415\n",
      "Epoch 11: loss = 0.139 | acc = 0.958 | val_loss = 0.163 | val_acc = 0.952 | train_time = 5.366 | tot_time = 5.455\n",
      "Epoch 12: loss = 0.132 | acc = 0.961 | val_loss = 0.161 | val_acc = 0.952 | train_time = 6.488 | tot_time = 6.626\n",
      "Epoch 13: loss = 0.125 | acc = 0.963 | val_loss = 0.159 | val_acc = 0.954 | train_time = 5.603 | tot_time = 5.682\n",
      "Epoch 14: loss = 0.119 | acc = 0.965 | val_loss = 0.152 | val_acc = 0.955 | train_time = 5.371 | tot_time = 5.445\n",
      "Epoch 15: loss = 0.114 | acc = 0.966 | val_loss = 0.148 | val_acc = 0.957 | train_time = 5.36 | tot_time = 5.435\n",
      "Epoch 16: loss = 0.109 | acc = 0.968 | val_loss = 0.146 | val_acc = 0.957 | train_time = 5.477 | tot_time = 5.553\n",
      "Epoch 17: loss = 0.104 | acc = 0.969 | val_loss = 0.144 | val_acc = 0.958 | train_time = 5.419 | tot_time = 5.495\n",
      "Epoch 18: loss = 0.1 | acc = 0.971 | val_loss = 0.143 | val_acc = 0.957 | train_time = 5.409 | tot_time = 5.485\n",
      "Epoch 19: loss = 0.096 | acc = 0.972 | val_loss = 0.14 | val_acc = 0.958 | train_time = 5.488 | tot_time = 5.566\n",
      "Epoch 20: loss = 0.092 | acc = 0.973 | val_loss = 0.14 | val_acc = 0.959 | train_time = 5.394 | tot_time = 5.471\n",
      "\n",
      "\n",
      " ------------------------------------------- \n",
      "\n",
      "\n",
      "Epoch 1: loss = 0.639 | acc = 0.803 | val_loss = 0.359 | val_acc = 0.891 | train_time = 6.085 | tot_time = 6.182\n",
      "Epoch 2: loss = 0.32 | acc = 0.904 | val_loss = 0.28 | val_acc = 0.913 | train_time = 6.113 | tot_time = 6.214\n",
      "Epoch 3: loss = 0.257 | acc = 0.923 | val_loss = 0.243 | val_acc = 0.928 | train_time = 6.085 | tot_time = 6.199\n",
      "Epoch 4: loss = 0.221 | acc = 0.934 | val_loss = 0.216 | val_acc = 0.934 | train_time = 6.082 | tot_time = 6.192\n",
      "Epoch 5: loss = 0.197 | acc = 0.942 | val_loss = 0.2 | val_acc = 0.94 | train_time = 5.97 | tot_time = 6.079\n",
      "Epoch 6: loss = 0.179 | acc = 0.946 | val_loss = 0.204 | val_acc = 0.936 | train_time = 6.18 | tot_time = 6.279\n",
      "Epoch 7: loss = 0.165 | acc = 0.95 | val_loss = 0.189 | val_acc = 0.943 | train_time = 6.024 | tot_time = 6.122\n",
      "Epoch 8: loss = 0.153 | acc = 0.954 | val_loss = 0.171 | val_acc = 0.947 | train_time = 6.017 | tot_time = 6.113\n",
      "Epoch 9: loss = 0.142 | acc = 0.957 | val_loss = 0.166 | val_acc = 0.949 | train_time = 6.04 | tot_time = 6.139\n",
      "Epoch 10: loss = 0.133 | acc = 0.96 | val_loss = 0.16 | val_acc = 0.951 | train_time = 6.025 | tot_time = 6.123\n",
      "Epoch 11: loss = 0.125 | acc = 0.962 | val_loss = 0.158 | val_acc = 0.951 | train_time = 6.068 | tot_time = 6.166\n",
      "Epoch 12: loss = 0.119 | acc = 0.964 | val_loss = 0.151 | val_acc = 0.954 | train_time = 6.089 | tot_time = 6.192\n",
      "Epoch 13: loss = 0.112 | acc = 0.967 | val_loss = 0.149 | val_acc = 0.954 | train_time = 6.086 | tot_time = 6.184\n",
      "Epoch 14: loss = 0.106 | acc = 0.968 | val_loss = 0.147 | val_acc = 0.956 | train_time = 6.065 | tot_time = 6.162\n",
      "Epoch 15: loss = 0.1 | acc = 0.97 | val_loss = 0.145 | val_acc = 0.958 | train_time = 6.541 | tot_time = 6.744\n",
      "Epoch 16: loss = 0.096 | acc = 0.971 | val_loss = 0.144 | val_acc = 0.957 | train_time = 6.713 | tot_time = 6.812\n",
      "Epoch 17: loss = 0.091 | acc = 0.973 | val_loss = 0.139 | val_acc = 0.958 | train_time = 6.077 | tot_time = 6.174\n",
      "Epoch 18: loss = 0.087 | acc = 0.974 | val_loss = 0.139 | val_acc = 0.959 | train_time = 5.971 | tot_time = 6.068\n",
      "Epoch 19: loss = 0.083 | acc = 0.975 | val_loss = 0.139 | val_acc = 0.959 | train_time = 6.09 | tot_time = 6.187\n",
      "Epoch 20: loss = 0.079 | acc = 0.977 | val_loss = 0.138 | val_acc = 0.96 | train_time = 6.0 | tot_time = 6.097\n",
      "\n",
      "\n",
      " ------------------------------------------- \n",
      "\n",
      "\n",
      "Epoch 1: loss = 0.654 | acc = 0.801 | val_loss = 0.358 | val_acc = 0.893 | train_time = 6.597 | tot_time = 6.725\n",
      "Epoch 2: loss = 0.315 | acc = 0.905 | val_loss = 0.281 | val_acc = 0.915 | train_time = 6.65 | tot_time = 6.767\n",
      "Epoch 3: loss = 0.25 | acc = 0.924 | val_loss = 0.244 | val_acc = 0.927 | train_time = 6.692 | tot_time = 6.81\n",
      "Epoch 4: loss = 0.213 | acc = 0.936 | val_loss = 0.216 | val_acc = 0.934 | train_time = 6.561 | tot_time = 6.68\n",
      "Epoch 5: loss = 0.188 | acc = 0.943 | val_loss = 0.205 | val_acc = 0.938 | train_time = 6.669 | tot_time = 6.792\n",
      "Epoch 6: loss = 0.169 | acc = 0.949 | val_loss = 0.191 | val_acc = 0.942 | train_time = 6.58 | tot_time = 6.7\n",
      "Epoch 7: loss = 0.153 | acc = 0.954 | val_loss = 0.178 | val_acc = 0.946 | train_time = 6.52 | tot_time = 6.642\n",
      "Epoch 8: loss = 0.14 | acc = 0.958 | val_loss = 0.179 | val_acc = 0.946 | train_time = 6.713 | tot_time = 6.834\n",
      "Epoch 9: loss = 0.13 | acc = 0.962 | val_loss = 0.167 | val_acc = 0.95 | train_time = 6.666 | tot_time = 6.788\n",
      "Epoch 10: loss = 0.121 | acc = 0.965 | val_loss = 0.156 | val_acc = 0.951 | train_time = 6.555 | tot_time = 6.674\n",
      "Epoch 11: loss = 0.112 | acc = 0.967 | val_loss = 0.151 | val_acc = 0.953 | train_time = 6.557 | tot_time = 6.679\n",
      "Epoch 12: loss = 0.105 | acc = 0.969 | val_loss = 0.151 | val_acc = 0.953 | train_time = 6.656 | tot_time = 6.776\n",
      "Epoch 13: loss = 0.098 | acc = 0.971 | val_loss = 0.145 | val_acc = 0.955 | train_time = 6.57 | tot_time = 6.693\n",
      "Epoch 14: loss = 0.093 | acc = 0.972 | val_loss = 0.145 | val_acc = 0.954 | train_time = 6.67 | tot_time = 6.788\n",
      "Epoch 15: loss = 0.087 | acc = 0.974 | val_loss = 0.144 | val_acc = 0.956 | train_time = 6.538 | tot_time = 6.654\n",
      "Epoch 16: loss = 0.083 | acc = 0.976 | val_loss = 0.142 | val_acc = 0.956 | train_time = 7.736 | tot_time = 7.863\n",
      "Epoch 17: loss = 0.079 | acc = 0.977 | val_loss = 0.142 | val_acc = 0.956 | train_time = 6.628 | tot_time = 6.746\n",
      "Epoch 18: loss = 0.074 | acc = 0.978 | val_loss = 0.14 | val_acc = 0.957 | train_time = 6.551 | tot_time = 6.672\n",
      "Epoch 19: loss = 0.071 | acc = 0.98 | val_loss = 0.137 | val_acc = 0.958 | train_time = 6.57 | tot_time = 6.702\n",
      "Epoch 20: loss = 0.067 | acc = 0.981 | val_loss = 0.138 | val_acc = 0.958 | train_time = 6.664 | tot_time = 6.785\n",
      "\n",
      "\n",
      " ------------------------------------------- \n",
      "\n",
      "\n",
      "Epoch 1: loss = 0.663 | acc = 0.794 | val_loss = 0.348 | val_acc = 0.896 | train_time = 7.173 | tot_time = 7.316\n",
      "Epoch 2: loss = 0.308 | acc = 0.907 | val_loss = 0.256 | val_acc = 0.923 | train_time = 7.159 | tot_time = 7.311\n",
      "Epoch 3: loss = 0.242 | acc = 0.927 | val_loss = 0.219 | val_acc = 0.934 | train_time = 7.213 | tot_time = 7.352\n",
      "Epoch 4: loss = 0.205 | acc = 0.939 | val_loss = 0.207 | val_acc = 0.939 | train_time = 7.069 | tot_time = 7.206\n",
      "Epoch 5: loss = 0.181 | acc = 0.946 | val_loss = 0.18 | val_acc = 0.945 | train_time = 7.164 | tot_time = 7.305\n",
      "Epoch 6: loss = 0.162 | acc = 0.951 | val_loss = 0.186 | val_acc = 0.944 | train_time = 7.131 | tot_time = 7.271\n",
      "Epoch 7: loss = 0.148 | acc = 0.955 | val_loss = 0.167 | val_acc = 0.947 | train_time = 7.269 | tot_time = 7.41\n",
      "Epoch 8: loss = 0.135 | acc = 0.959 | val_loss = 0.161 | val_acc = 0.952 | train_time = 7.316 | tot_time = 7.453\n",
      "Epoch 9: loss = 0.125 | acc = 0.962 | val_loss = 0.167 | val_acc = 0.949 | train_time = 7.215 | tot_time = 7.353\n",
      "Epoch 10: loss = 0.116 | acc = 0.965 | val_loss = 0.158 | val_acc = 0.952 | train_time = 7.266 | tot_time = 7.411\n",
      "Epoch 11: loss = 0.108 | acc = 0.968 | val_loss = 0.145 | val_acc = 0.956 | train_time = 7.488 | tot_time = 7.635\n",
      "Epoch 12: loss = 0.101 | acc = 0.97 | val_loss = 0.147 | val_acc = 0.956 | train_time = 7.229 | tot_time = 7.369\n",
      "Epoch 13: loss = 0.095 | acc = 0.971 | val_loss = 0.146 | val_acc = 0.955 | train_time = 7.195 | tot_time = 7.333\n",
      "Epoch 14: loss = 0.088 | acc = 0.973 | val_loss = 0.132 | val_acc = 0.958 | train_time = 7.144 | tot_time = 7.292\n",
      "Epoch 15: loss = 0.083 | acc = 0.976 | val_loss = 0.142 | val_acc = 0.957 | train_time = 8.313 | tot_time = 8.453\n",
      "Epoch 16: loss = 0.078 | acc = 0.977 | val_loss = 0.135 | val_acc = 0.959 | train_time = 7.112 | tot_time = 7.259\n",
      "Epoch 17: loss = 0.074 | acc = 0.978 | val_loss = 0.139 | val_acc = 0.958 | train_time = 7.106 | tot_time = 7.25\n",
      "Epoch 18: loss = 0.07 | acc = 0.98 | val_loss = 0.135 | val_acc = 0.958 | train_time = 7.086 | tot_time = 7.223\n",
      "Epoch 19: loss = 0.065 | acc = 0.981 | val_loss = 0.148 | val_acc = 0.953 | train_time = 7.122 | tot_time = 7.257\n",
      "Epoch 20: loss = 0.062 | acc = 0.982 | val_loss = 0.135 | val_acc = 0.961 | train_time = 7.04 | tot_time = 7.179\n",
      "\n",
      "\n",
      " ------------------------------------------- \n",
      "\n",
      "\n",
      "Epoch 1: loss = 0.699 | acc = 0.78 | val_loss = 0.347 | val_acc = 0.894 | train_time = 7.703 | tot_time = 7.883\n",
      "Epoch 2: loss = 0.311 | acc = 0.905 | val_loss = 0.254 | val_acc = 0.923 | train_time = 7.958 | tot_time = 8.132\n",
      "Epoch 3: loss = 0.242 | acc = 0.926 | val_loss = 0.224 | val_acc = 0.934 | train_time = 7.798 | tot_time = 7.957\n",
      "Epoch 4: loss = 0.204 | acc = 0.938 | val_loss = 0.207 | val_acc = 0.938 | train_time = 7.906 | tot_time = 8.066\n",
      "Epoch 5: loss = 0.179 | acc = 0.946 | val_loss = 0.178 | val_acc = 0.946 | train_time = 7.82 | tot_time = 7.979\n",
      "Epoch 6: loss = 0.159 | acc = 0.951 | val_loss = 0.18 | val_acc = 0.947 | train_time = 7.852 | tot_time = 8.016\n",
      "Epoch 7: loss = 0.144 | acc = 0.956 | val_loss = 0.168 | val_acc = 0.95 | train_time = 7.791 | tot_time = 7.953\n",
      "Epoch 8: loss = 0.131 | acc = 0.96 | val_loss = 0.161 | val_acc = 0.95 | train_time = 7.682 | tot_time = 7.84\n",
      "Epoch 9: loss = 0.12 | acc = 0.963 | val_loss = 0.154 | val_acc = 0.953 | train_time = 7.685 | tot_time = 7.854\n",
      "Epoch 10: loss = 0.111 | acc = 0.966 | val_loss = 0.15 | val_acc = 0.956 | train_time = 7.685 | tot_time = 7.843\n",
      "Epoch 11: loss = 0.103 | acc = 0.968 | val_loss = 0.146 | val_acc = 0.955 | train_time = 7.645 | tot_time = 7.806\n",
      "Epoch 12: loss = 0.096 | acc = 0.971 | val_loss = 0.15 | val_acc = 0.955 | train_time = 9.018 | tot_time = 9.176\n",
      "Epoch 13: loss = 0.089 | acc = 0.973 | val_loss = 0.149 | val_acc = 0.957 | train_time = 7.665 | tot_time = 7.839\n",
      "Epoch 14: loss = 0.084 | acc = 0.975 | val_loss = 0.152 | val_acc = 0.955 | train_time = 7.686 | tot_time = 7.847\n",
      "Epoch 15: loss = 0.078 | acc = 0.976 | val_loss = 0.151 | val_acc = 0.956 | train_time = 7.59 | tot_time = 7.747\n",
      "Epoch 16: loss = 0.073 | acc = 0.979 | val_loss = 0.148 | val_acc = 0.956 | train_time = 7.682 | tot_time = 7.841\n",
      "Epoch 17: loss = 0.069 | acc = 0.98 | val_loss = 0.149 | val_acc = 0.956 | train_time = 7.693 | tot_time = 7.854\n",
      "Epoch 18: loss = 0.065 | acc = 0.98 | val_loss = 0.146 | val_acc = 0.956 | train_time = 7.614 | tot_time = 7.774\n",
      "Epoch 19: loss = 0.062 | acc = 0.982 | val_loss = 0.144 | val_acc = 0.959 | train_time = 7.597 | tot_time = 7.757\n",
      "Epoch 20: loss = 0.057 | acc = 0.983 | val_loss = 0.151 | val_acc = 0.958 | train_time = 7.625 | tot_time = 7.8\n",
      "\n",
      "\n",
      " ------------------------------------------- \n",
      "\n",
      "\n"
     ]
    },
    {
     "data": {
      "image/png": "[encoded data removed]",
      "text/plain": [
       "<Figure size 432x288 with 1 Axes>"
      ]
     },
     "metadata": {
      "needs_background": "light"
     },
     "output_type": "display_data"
    }
   ],
   "source": [
    "layer_vector, val_loss_vector, train_loss_vector = optimize_layers()\n",
    "\n",
    "plt.plot(layer_vector, val_loss_vector, label='Validation Loss')\n",
    "plt.plot(lr_vector, train_loss_vector, label='Training Loss')\n",
    "plt.xlabel(\"No. of layers\")\n",
    "plt.ylabel(\"Loss\")\n",
    "plt.legend()\n",
    "plt.show()"
   ]
  },
  {
   "cell_type": "markdown",
   "metadata": {
    "id": "iKTucdFyOiO-"
   },
   "source": [
    "### Experiment setup:\n",
    "1. We train the model for varying no. of layers, starting from layer=1 and increasing it everytime by 1 up till max lr=5 or till model validation loss values are not nan/inf.\n",
    "\n",
    "2. We record the model validation and training loss for each of these layers and plot a graph of Loss vs No. of layers to see its trend.\n",
    "\n",
    "3. Every other parameter remains constant.\n",
    "\n",
    "### Analysis\n",
    "\n",
    "- From the graph in the above cell we see that the validation loss decreases with increasing learning rate, but then increases exponentially after a certain point.\n",
    "\n",
    "- Using the elbow method, we find optimal learning rate to be <= 0.6. After this, the model starts to diverge and hence loss increases.\n",
    "\n",
    "- Thus, increasing the learning rate increases the chances of the model converging faster, upto a certain point, after which it causes the model learning to diverge.\n",
    "\n",
    "- From the graph in the above cell we see that the validation loss decreases with increasing layer, but then increases exponentially after a certain point.\n",
    "\n",
    "- Using the elbow method, we find optimal no. of layers to be = 4. After this, the model starts to diverge and hence loss increases. This is because <>\n",
    "\n"
   ]
  },
  {
   "cell_type": "markdown",
   "metadata": {
    "id": "BP9hpf0Z1kuD"
   },
   "source": [
    "## Change amount of training data"
   ]
  },
  {
   "cell_type": "code",
   "execution_count": 22,
   "metadata": {
    "id": "LbL5anyJ1kFT"
   },
   "outputs": [],
   "source": [
    "# === Complete the code (2')\n",
    "def analyse_training_data_amount():\n",
    "  val_loss_vector = []\n",
    "  train_loss_vector = []\n",
    "  tdata_vector = []\n",
    "  x = 6000\n",
    "\n",
    "  # keeping num_epochs, no. of neurons constant\n",
    "  while x <= 60000:\n",
    "    model = MLP(X_train[:x], Y_train[:x], X_test, Y_test, L=2, N_l=64)\n",
    "    model.train(batch_size=8, epochs=8, lr=0.04)\n",
    "    \n",
    "    if model.val_loss[-1] == float('inf') or math.isnan(model.val_loss[-1]):\n",
    "      break\n",
    "\n",
    "    tdata_vector.append(100 * x/60000)\n",
    "    val_loss_vector.append(model.val_loss[-1])\n",
    "    train_loss_vector.append(model.train_loss[-1])\n",
    "    x += 6000 # Increase data amount linearly for each iteration\n",
    "\n",
    "    print(\"\\n\\n ------------------------------------------- \\n\\n\")\n",
    "\n",
    "  return tdata_vector, val_loss_vector, train_loss_vector\n",
    "# === Complete the code"
   ]
  },
  {
   "cell_type": "code",
   "execution_count": 23,
   "metadata": {
    "colab": {
     "base_uri": "https://localhost:8080/",
     "height": 1000
    },
    "id": "l7IOdrYK1kKd",
    "outputId": "9db9d541-879c-4637-ad65-3c03e8ae6006"
   },
   "outputs": [
    {
     "name": "stderr",
     "output_type": "stream",
     "text": [
      "/usr/local/lib/python3.7/dist-packages/ipykernel_launcher.py:47: VisibleDeprecationWarning: Creating an ndarray from ragged nested sequences (which is a list-or-tuple of lists-or-tuples-or ndarrays with different lengths or shapes) is deprecated. If you meant to do this, you must specify 'dtype=object' when creating the ndarray.\n"
     ]
    },
    {
     "name": "stdout",
     "output_type": "stream",
     "text": [
      "Epoch 1: loss = 1.521 | acc = 0.519 | val_loss = 0.985 | val_acc = 0.69 | train_time = 0.599 | tot_time = 0.707\n",
      "Epoch 2: loss = 0.787 | acc = 0.762 | val_loss = 0.718 | val_acc = 0.774 | train_time = 0.602 | tot_time = 0.699\n",
      "Epoch 3: loss = 0.6 | acc = 0.816 | val_loss = 0.606 | val_acc = 0.813 | train_time = 0.625 | tot_time = 0.721\n",
      "Epoch 4: loss = 0.505 | acc = 0.848 | val_loss = 0.55 | val_acc = 0.829 | train_time = 0.616 | tot_time = 0.713\n",
      "Epoch 5: loss = 0.44 | acc = 0.866 | val_loss = 0.493 | val_acc = 0.847 | train_time = 0.607 | tot_time = 0.702\n",
      "Epoch 6: loss = 0.396 | acc = 0.881 | val_loss = 0.467 | val_acc = 0.856 | train_time = 0.607 | tot_time = 0.706\n",
      "Epoch 7: loss = 0.359 | acc = 0.895 | val_loss = 0.437 | val_acc = 0.865 | train_time = 0.594 | tot_time = 0.69\n",
      "Epoch 8: loss = 0.329 | acc = 0.904 | val_loss = 0.426 | val_acc = 0.87 | train_time = 0.596 | tot_time = 0.693\n",
      "Epoch 9: loss = 0.307 | acc = 0.911 | val_loss = 0.407 | val_acc = 0.875 | train_time = 0.618 | tot_time = 0.722\n",
      "Epoch 10: loss = 0.284 | acc = 0.92 | val_loss = 0.396 | val_acc = 0.879 | train_time = 0.646 | tot_time = 0.746\n",
      "Epoch 11: loss = 0.267 | acc = 0.924 | val_loss = 0.384 | val_acc = 0.881 | train_time = 0.609 | tot_time = 0.717\n",
      "Epoch 12: loss = 0.25 | acc = 0.93 | val_loss = 0.376 | val_acc = 0.884 | train_time = 0.637 | tot_time = 0.736\n",
      "Epoch 13: loss = 0.235 | acc = 0.932 | val_loss = 0.371 | val_acc = 0.885 | train_time = 0.627 | tot_time = 0.728\n",
      "Epoch 14: loss = 0.223 | acc = 0.94 | val_loss = 0.362 | val_acc = 0.887 | train_time = 0.609 | tot_time = 0.712\n",
      "Epoch 15: loss = 0.211 | acc = 0.942 | val_loss = 0.364 | val_acc = 0.887 | train_time = 0.604 | tot_time = 0.704\n",
      "Epoch 16: loss = 0.2 | acc = 0.944 | val_loss = 0.357 | val_acc = 0.889 | train_time = 0.619 | tot_time = 0.72\n",
      "Epoch 17: loss = 0.188 | acc = 0.949 | val_loss = 0.353 | val_acc = 0.892 | train_time = 0.611 | tot_time = 0.713\n",
      "Epoch 18: loss = 0.18 | acc = 0.951 | val_loss = 0.349 | val_acc = 0.891 | train_time = 0.597 | tot_time = 0.694\n",
      "Epoch 19: loss = 0.171 | acc = 0.954 | val_loss = 0.348 | val_acc = 0.892 | train_time = 0.621 | tot_time = 0.718\n",
      "Epoch 20: loss = 0.163 | acc = 0.956 | val_loss = 0.345 | val_acc = 0.894 | train_time = 0.63 | tot_time = 0.728\n",
      "\n",
      "\n",
      " ------------------------------------------- \n",
      "\n",
      "\n",
      "Epoch 1: loss = 1.114 | acc = 0.654 | val_loss = 0.67 | val_acc = 0.8 | train_time = 1.218 | tot_time = 1.314\n",
      "Epoch 2: loss = 0.552 | acc = 0.838 | val_loss = 0.508 | val_acc = 0.848 | train_time = 1.197 | tot_time = 1.3\n",
      "Epoch 3: loss = 0.437 | acc = 0.87 | val_loss = 0.44 | val_acc = 0.866 | train_time = 1.204 | tot_time = 1.304\n",
      "Epoch 4: loss = 0.378 | acc = 0.887 | val_loss = 0.395 | val_acc = 0.879 | train_time = 1.216 | tot_time = 1.32\n",
      "Epoch 5: loss = 0.337 | acc = 0.901 | val_loss = 0.368 | val_acc = 0.885 | train_time = 1.185 | tot_time = 1.281\n",
      "Epoch 6: loss = 0.307 | acc = 0.909 | val_loss = 0.353 | val_acc = 0.89 | train_time = 1.196 | tot_time = 1.302\n",
      "Epoch 7: loss = 0.281 | acc = 0.918 | val_loss = 0.335 | val_acc = 0.897 | train_time = 1.181 | tot_time = 1.289\n",
      "Epoch 8: loss = 0.26 | acc = 0.924 | val_loss = 0.32 | val_acc = 0.9 | train_time = 1.198 | tot_time = 1.295\n",
      "Epoch 9: loss = 0.242 | acc = 0.927 | val_loss = 0.314 | val_acc = 0.903 | train_time = 1.226 | tot_time = 1.323\n",
      "Epoch 10: loss = 0.226 | acc = 0.933 | val_loss = 0.301 | val_acc = 0.907 | train_time = 1.217 | tot_time = 1.314\n",
      "Epoch 11: loss = 0.212 | acc = 0.937 | val_loss = 0.296 | val_acc = 0.91 | train_time = 1.21 | tot_time = 1.307\n",
      "Epoch 12: loss = 0.199 | acc = 0.942 | val_loss = 0.289 | val_acc = 0.911 | train_time = 1.204 | tot_time = 1.301\n",
      "Epoch 13: loss = 0.187 | acc = 0.945 | val_loss = 0.284 | val_acc = 0.911 | train_time = 1.186 | tot_time = 1.284\n",
      "Epoch 14: loss = 0.176 | acc = 0.948 | val_loss = 0.284 | val_acc = 0.913 | train_time = 1.209 | tot_time = 1.307\n",
      "Epoch 15: loss = 0.167 | acc = 0.952 | val_loss = 0.28 | val_acc = 0.912 | train_time = 1.2 | tot_time = 1.298\n",
      "Epoch 16: loss = 0.159 | acc = 0.954 | val_loss = 0.274 | val_acc = 0.914 | train_time = 1.214 | tot_time = 1.312\n",
      "Epoch 17: loss = 0.149 | acc = 0.958 | val_loss = 0.272 | val_acc = 0.916 | train_time = 1.232 | tot_time = 1.329\n",
      "Epoch 18: loss = 0.142 | acc = 0.96 | val_loss = 0.267 | val_acc = 0.917 | train_time = 1.244 | tot_time = 1.343\n",
      "Epoch 19: loss = 0.135 | acc = 0.964 | val_loss = 0.268 | val_acc = 0.917 | train_time = 1.216 | tot_time = 1.316\n",
      "Epoch 20: loss = 0.128 | acc = 0.966 | val_loss = 0.26 | val_acc = 0.92 | train_time = 1.213 | tot_time = 1.322\n",
      "\n",
      "\n",
      " ------------------------------------------- \n",
      "\n",
      "\n",
      "Epoch 1: loss = 1.053 | acc = 0.666 | val_loss = 0.571 | val_acc = 0.83 | train_time = 1.802 | tot_time = 1.902\n",
      "Epoch 2: loss = 0.495 | acc = 0.85 | val_loss = 0.432 | val_acc = 0.867 | train_time = 1.798 | tot_time = 1.896\n",
      "Epoch 3: loss = 0.392 | acc = 0.881 | val_loss = 0.385 | val_acc = 0.88 | train_time = 1.821 | tot_time = 1.918\n",
      "Epoch 4: loss = 0.338 | acc = 0.897 | val_loss = 0.34 | val_acc = 0.898 | train_time = 1.842 | tot_time = 1.939\n",
      "Epoch 5: loss = 0.301 | acc = 0.909 | val_loss = 0.316 | val_acc = 0.906 | train_time = 1.795 | tot_time = 1.896\n",
      "Epoch 6: loss = 0.272 | acc = 0.919 | val_loss = 0.296 | val_acc = 0.912 | train_time = 1.795 | tot_time = 1.891\n",
      "Epoch 7: loss = 0.25 | acc = 0.927 | val_loss = 0.291 | val_acc = 0.912 | train_time = 1.76 | tot_time = 1.867\n",
      "Epoch 8: loss = 0.232 | acc = 0.932 | val_loss = 0.276 | val_acc = 0.916 | train_time = 1.815 | tot_time = 1.91\n",
      "Epoch 9: loss = 0.216 | acc = 0.938 | val_loss = 0.26 | val_acc = 0.922 | train_time = 1.771 | tot_time = 1.867\n",
      "Epoch 10: loss = 0.201 | acc = 0.941 | val_loss = 0.257 | val_acc = 0.923 | train_time = 1.777 | tot_time = 1.873\n",
      "Epoch 11: loss = 0.188 | acc = 0.946 | val_loss = 0.253 | val_acc = 0.923 | train_time = 1.791 | tot_time = 1.887\n",
      "Epoch 12: loss = 0.177 | acc = 0.95 | val_loss = 0.24 | val_acc = 0.927 | train_time = 1.79 | tot_time = 1.889\n",
      "Epoch 13: loss = 0.167 | acc = 0.952 | val_loss = 0.238 | val_acc = 0.93 | train_time = 1.813 | tot_time = 1.924\n",
      "Epoch 14: loss = 0.158 | acc = 0.956 | val_loss = 0.234 | val_acc = 0.93 | train_time = 1.845 | tot_time = 1.945\n",
      "Epoch 15: loss = 0.149 | acc = 0.958 | val_loss = 0.231 | val_acc = 0.93 | train_time = 1.895 | tot_time = 2.013\n",
      "Epoch 16: loss = 0.142 | acc = 0.961 | val_loss = 0.226 | val_acc = 0.933 | train_time = 2.46 | tot_time = 2.645\n",
      "Epoch 17: loss = 0.134 | acc = 0.963 | val_loss = 0.225 | val_acc = 0.934 | train_time = 2.175 | tot_time = 2.273\n",
      "Epoch 18: loss = 0.127 | acc = 0.964 | val_loss = 0.216 | val_acc = 0.934 | train_time = 1.822 | tot_time = 1.923\n",
      "Epoch 19: loss = 0.121 | acc = 0.967 | val_loss = 0.217 | val_acc = 0.935 | train_time = 1.837 | tot_time = 1.934\n",
      "Epoch 20: loss = 0.115 | acc = 0.969 | val_loss = 0.212 | val_acc = 0.935 | train_time = 1.84 | tot_time = 1.937\n",
      "\n",
      "\n",
      " ------------------------------------------- \n",
      "\n",
      "\n",
      "Epoch 1: loss = 0.893 | acc = 0.721 | val_loss = 0.504 | val_acc = 0.844 | train_time = 2.353 | tot_time = 2.45\n",
      "Epoch 2: loss = 0.441 | acc = 0.869 | val_loss = 0.382 | val_acc = 0.88 | train_time = 2.371 | tot_time = 2.467\n",
      "Epoch 3: loss = 0.352 | acc = 0.895 | val_loss = 0.338 | val_acc = 0.896 | train_time = 2.429 | tot_time = 2.526\n",
      "Epoch 4: loss = 0.303 | acc = 0.909 | val_loss = 0.313 | val_acc = 0.903 | train_time = 2.448 | tot_time = 2.546\n",
      "Epoch 5: loss = 0.27 | acc = 0.921 | val_loss = 0.285 | val_acc = 0.913 | train_time = 2.445 | tot_time = 2.547\n",
      "Epoch 6: loss = 0.244 | acc = 0.927 | val_loss = 0.272 | val_acc = 0.913 | train_time = 2.425 | tot_time = 2.52\n",
      "Epoch 7: loss = 0.223 | acc = 0.934 | val_loss = 0.256 | val_acc = 0.921 | train_time = 2.42 | tot_time = 2.521\n",
      "Epoch 8: loss = 0.207 | acc = 0.938 | val_loss = 0.245 | val_acc = 0.924 | train_time = 2.457 | tot_time = 2.558\n",
      "Epoch 9: loss = 0.191 | acc = 0.943 | val_loss = 0.238 | val_acc = 0.926 | train_time = 2.433 | tot_time = 2.53\n",
      "Epoch 10: loss = 0.179 | acc = 0.946 | val_loss = 0.231 | val_acc = 0.928 | train_time = 2.426 | tot_time = 2.525\n",
      "Epoch 11: loss = 0.168 | acc = 0.951 | val_loss = 0.221 | val_acc = 0.933 | train_time = 2.4 | tot_time = 2.497\n",
      "Epoch 12: loss = 0.157 | acc = 0.953 | val_loss = 0.218 | val_acc = 0.932 | train_time = 2.435 | tot_time = 2.532\n",
      "Epoch 13: loss = 0.148 | acc = 0.957 | val_loss = 0.215 | val_acc = 0.934 | train_time = 2.373 | tot_time = 2.472\n",
      "Epoch 14: loss = 0.14 | acc = 0.959 | val_loss = 0.208 | val_acc = 0.936 | train_time = 2.382 | tot_time = 2.489\n",
      "Epoch 15: loss = 0.132 | acc = 0.961 | val_loss = 0.214 | val_acc = 0.934 | train_time = 2.398 | tot_time = 2.493\n",
      "Epoch 16: loss = 0.126 | acc = 0.963 | val_loss = 0.202 | val_acc = 0.938 | train_time = 2.364 | tot_time = 2.46\n",
      "Epoch 17: loss = 0.119 | acc = 0.966 | val_loss = 0.201 | val_acc = 0.938 | train_time = 2.416 | tot_time = 2.515\n",
      "Epoch 18: loss = 0.113 | acc = 0.968 | val_loss = 0.203 | val_acc = 0.938 | train_time = 2.362 | tot_time = 2.463\n",
      "Epoch 19: loss = 0.107 | acc = 0.97 | val_loss = 0.196 | val_acc = 0.94 | train_time = 2.423 | tot_time = 2.522\n",
      "Epoch 20: loss = 0.102 | acc = 0.971 | val_loss = 0.191 | val_acc = 0.942 | train_time = 2.442 | tot_time = 2.539\n",
      "\n",
      "\n",
      " ------------------------------------------- \n",
      "\n",
      "\n",
      "Epoch 1: loss = 0.854 | acc = 0.736 | val_loss = 0.475 | val_acc = 0.859 | train_time = 2.997 | tot_time = 3.094\n",
      "Epoch 2: loss = 0.411 | acc = 0.876 | val_loss = 0.362 | val_acc = 0.891 | train_time = 2.979 | tot_time = 3.076\n",
      "Epoch 3: loss = 0.325 | acc = 0.904 | val_loss = 0.308 | val_acc = 0.905 | train_time = 3.027 | tot_time = 3.125\n",
      "Epoch 4: loss = 0.278 | acc = 0.916 | val_loss = 0.278 | val_acc = 0.916 | train_time = 2.983 | tot_time = 3.082\n",
      "Epoch 5: loss = 0.246 | acc = 0.926 | val_loss = 0.262 | val_acc = 0.919 | train_time = 2.947 | tot_time = 3.05\n",
      "Epoch 6: loss = 0.222 | acc = 0.932 | val_loss = 0.245 | val_acc = 0.923 | train_time = 2.993 | tot_time = 3.091\n",
      "Epoch 7: loss = 0.203 | acc = 0.939 | val_loss = 0.232 | val_acc = 0.928 | train_time = 3.007 | tot_time = 3.104\n",
      "Epoch 8: loss = 0.188 | acc = 0.943 | val_loss = 0.223 | val_acc = 0.93 | train_time = 3.011 | tot_time = 3.12\n",
      "Epoch 9: loss = 0.175 | acc = 0.948 | val_loss = 0.218 | val_acc = 0.934 | train_time = 2.99 | tot_time = 3.098\n",
      "Epoch 10: loss = 0.164 | acc = 0.952 | val_loss = 0.209 | val_acc = 0.934 | train_time = 3.025 | tot_time = 3.124\n",
      "Epoch 11: loss = 0.153 | acc = 0.954 | val_loss = 0.205 | val_acc = 0.937 | train_time = 2.987 | tot_time = 3.087\n",
      "Epoch 12: loss = 0.144 | acc = 0.958 | val_loss = 0.2 | val_acc = 0.938 | train_time = 3.005 | tot_time = 3.103\n",
      "Epoch 13: loss = 0.136 | acc = 0.961 | val_loss = 0.195 | val_acc = 0.94 | train_time = 3.039 | tot_time = 3.138\n",
      "Epoch 14: loss = 0.129 | acc = 0.962 | val_loss = 0.192 | val_acc = 0.94 | train_time = 3.039 | tot_time = 3.138\n",
      "Epoch 15: loss = 0.122 | acc = 0.964 | val_loss = 0.188 | val_acc = 0.942 | train_time = 3.06 | tot_time = 3.158\n",
      "Epoch 16: loss = 0.115 | acc = 0.966 | val_loss = 0.189 | val_acc = 0.942 | train_time = 3.033 | tot_time = 3.129\n",
      "Epoch 17: loss = 0.109 | acc = 0.969 | val_loss = 0.18 | val_acc = 0.945 | train_time = 3.018 | tot_time = 3.114\n",
      "Epoch 18: loss = 0.104 | acc = 0.97 | val_loss = 0.18 | val_acc = 0.946 | train_time = 3.036 | tot_time = 3.136\n",
      "Epoch 19: loss = 0.098 | acc = 0.972 | val_loss = 0.177 | val_acc = 0.945 | train_time = 3.023 | tot_time = 3.121\n",
      "Epoch 20: loss = 0.094 | acc = 0.974 | val_loss = 0.177 | val_acc = 0.946 | train_time = 3.051 | tot_time = 3.152\n",
      "\n",
      "\n",
      " ------------------------------------------- \n",
      "\n",
      "\n",
      "Epoch 1: loss = 0.723 | acc = 0.78 | val_loss = 0.399 | val_acc = 0.879 | train_time = 3.667 | tot_time = 3.766\n",
      "Epoch 2: loss = 0.37 | acc = 0.888 | val_loss = 0.319 | val_acc = 0.902 | train_time = 3.702 | tot_time = 3.799\n",
      "Epoch 3: loss = 0.301 | acc = 0.91 | val_loss = 0.282 | val_acc = 0.913 | train_time = 3.629 | tot_time = 3.729\n",
      "Epoch 4: loss = 0.259 | acc = 0.922 | val_loss = 0.254 | val_acc = 0.922 | train_time = 3.645 | tot_time = 3.742\n",
      "Epoch 5: loss = 0.231 | acc = 0.931 | val_loss = 0.242 | val_acc = 0.926 | train_time = 4.635 | tot_time = 4.73\n",
      "Epoch 6: loss = 0.208 | acc = 0.937 | val_loss = 0.234 | val_acc = 0.928 | train_time = 3.576 | tot_time = 3.672\n",
      "Epoch 7: loss = 0.191 | acc = 0.942 | val_loss = 0.214 | val_acc = 0.936 | train_time = 3.608 | tot_time = 3.706\n",
      "Epoch 8: loss = 0.176 | acc = 0.947 | val_loss = 0.21 | val_acc = 0.936 | train_time = 3.589 | tot_time = 3.685\n",
      "Epoch 9: loss = 0.163 | acc = 0.952 | val_loss = 0.199 | val_acc = 0.94 | train_time = 3.565 | tot_time = 3.665\n",
      "Epoch 10: loss = 0.152 | acc = 0.954 | val_loss = 0.191 | val_acc = 0.943 | train_time = 3.62 | tot_time = 3.719\n",
      "Epoch 11: loss = 0.143 | acc = 0.958 | val_loss = 0.188 | val_acc = 0.943 | train_time = 3.544 | tot_time = 3.642\n",
      "Epoch 12: loss = 0.134 | acc = 0.961 | val_loss = 0.182 | val_acc = 0.946 | train_time = 3.601 | tot_time = 3.698\n",
      "Epoch 13: loss = 0.127 | acc = 0.963 | val_loss = 0.179 | val_acc = 0.946 | train_time = 3.654 | tot_time = 3.766\n",
      "Epoch 14: loss = 0.12 | acc = 0.965 | val_loss = 0.176 | val_acc = 0.946 | train_time = 3.561 | tot_time = 3.657\n",
      "Epoch 15: loss = 0.113 | acc = 0.967 | val_loss = 0.175 | val_acc = 0.947 | train_time = 3.627 | tot_time = 3.724\n",
      "Epoch 16: loss = 0.107 | acc = 0.969 | val_loss = 0.169 | val_acc = 0.95 | train_time = 3.703 | tot_time = 3.816\n",
      "Epoch 17: loss = 0.102 | acc = 0.971 | val_loss = 0.169 | val_acc = 0.95 | train_time = 3.651 | tot_time = 3.749\n",
      "Epoch 18: loss = 0.097 | acc = 0.972 | val_loss = 0.17 | val_acc = 0.949 | train_time = 3.671 | tot_time = 3.77\n",
      "Epoch 19: loss = 0.093 | acc = 0.974 | val_loss = 0.164 | val_acc = 0.951 | train_time = 3.617 | tot_time = 3.728\n",
      "Epoch 20: loss = 0.088 | acc = 0.975 | val_loss = 0.163 | val_acc = 0.952 | train_time = 3.627 | tot_time = 3.725\n",
      "\n",
      "\n",
      " ------------------------------------------- \n",
      "\n",
      "\n",
      "Epoch 1: loss = 0.734 | acc = 0.777 | val_loss = 0.405 | val_acc = 0.876 | train_time = 4.199 | tot_time = 4.299\n",
      "Epoch 2: loss = 0.364 | acc = 0.89 | val_loss = 0.317 | val_acc = 0.904 | train_time = 4.241 | tot_time = 4.341\n",
      "Epoch 3: loss = 0.297 | acc = 0.91 | val_loss = 0.279 | val_acc = 0.916 | train_time = 4.249 | tot_time = 4.347\n",
      "Epoch 4: loss = 0.257 | acc = 0.923 | val_loss = 0.246 | val_acc = 0.925 | train_time = 4.278 | tot_time = 4.376\n",
      "Epoch 5: loss = 0.228 | acc = 0.933 | val_loss = 0.229 | val_acc = 0.931 | train_time = 4.216 | tot_time = 4.314\n",
      "Epoch 6: loss = 0.207 | acc = 0.939 | val_loss = 0.221 | val_acc = 0.934 | train_time = 4.205 | tot_time = 4.305\n",
      "Epoch 7: loss = 0.19 | acc = 0.942 | val_loss = 0.206 | val_acc = 0.936 | train_time = 4.264 | tot_time = 4.365\n",
      "Epoch 8: loss = 0.176 | acc = 0.949 | val_loss = 0.193 | val_acc = 0.94 | train_time = 4.204 | tot_time = 4.302\n",
      "Epoch 9: loss = 0.163 | acc = 0.951 | val_loss = 0.19 | val_acc = 0.942 | train_time = 4.223 | tot_time = 4.322\n",
      "Epoch 10: loss = 0.152 | acc = 0.955 | val_loss = 0.183 | val_acc = 0.945 | train_time = 4.264 | tot_time = 4.363\n",
      "Epoch 11: loss = 0.143 | acc = 0.957 | val_loss = 0.178 | val_acc = 0.945 | train_time = 4.195 | tot_time = 4.293\n",
      "Epoch 12: loss = 0.134 | acc = 0.96 | val_loss = 0.169 | val_acc = 0.949 | train_time = 4.244 | tot_time = 4.342\n",
      "Epoch 13: loss = 0.127 | acc = 0.963 | val_loss = 0.169 | val_acc = 0.949 | train_time = 4.208 | tot_time = 4.309\n",
      "Epoch 14: loss = 0.12 | acc = 0.965 | val_loss = 0.162 | val_acc = 0.951 | train_time = 4.196 | tot_time = 4.308\n",
      "Epoch 15: loss = 0.113 | acc = 0.967 | val_loss = 0.166 | val_acc = 0.95 | train_time = 4.258 | tot_time = 4.356\n",
      "Epoch 16: loss = 0.107 | acc = 0.969 | val_loss = 0.162 | val_acc = 0.952 | train_time = 4.266 | tot_time = 4.364\n",
      "Epoch 17: loss = 0.102 | acc = 0.971 | val_loss = 0.158 | val_acc = 0.952 | train_time = 5.08 | tot_time = 5.276\n",
      "Epoch 18: loss = 0.097 | acc = 0.972 | val_loss = 0.157 | val_acc = 0.952 | train_time = 4.556 | tot_time = 4.652\n",
      "Epoch 19: loss = 0.092 | acc = 0.974 | val_loss = 0.157 | val_acc = 0.953 | train_time = 4.223 | tot_time = 4.322\n",
      "Epoch 20: loss = 0.088 | acc = 0.975 | val_loss = 0.152 | val_acc = 0.955 | train_time = 4.163 | tot_time = 4.264\n",
      "\n",
      "\n",
      " ------------------------------------------- \n",
      "\n",
      "\n",
      "Epoch 1: loss = 0.694 | acc = 0.783 | val_loss = 0.396 | val_acc = 0.878 | train_time = 4.738 | tot_time = 4.833\n",
      "Epoch 2: loss = 0.35 | acc = 0.895 | val_loss = 0.306 | val_acc = 0.906 | train_time = 4.805 | tot_time = 4.909\n",
      "Epoch 3: loss = 0.281 | acc = 0.915 | val_loss = 0.262 | val_acc = 0.921 | train_time = 4.766 | tot_time = 4.878\n",
      "Epoch 4: loss = 0.241 | acc = 0.927 | val_loss = 0.23 | val_acc = 0.932 | train_time = 4.817 | tot_time = 4.92\n",
      "Epoch 5: loss = 0.213 | acc = 0.935 | val_loss = 0.217 | val_acc = 0.934 | train_time = 4.795 | tot_time = 4.891\n",
      "Epoch 6: loss = 0.193 | acc = 0.942 | val_loss = 0.205 | val_acc = 0.937 | train_time = 4.739 | tot_time = 4.835\n",
      "Epoch 7: loss = 0.177 | acc = 0.947 | val_loss = 0.194 | val_acc = 0.942 | train_time = 4.794 | tot_time = 4.89\n",
      "Epoch 8: loss = 0.163 | acc = 0.951 | val_loss = 0.183 | val_acc = 0.946 | train_time = 4.732 | tot_time = 4.827\n",
      "Epoch 9: loss = 0.151 | acc = 0.954 | val_loss = 0.179 | val_acc = 0.948 | train_time = 4.701 | tot_time = 4.806\n",
      "Epoch 10: loss = 0.141 | acc = 0.958 | val_loss = 0.176 | val_acc = 0.948 | train_time = 4.96 | tot_time = 5.058\n",
      "Epoch 11: loss = 0.133 | acc = 0.961 | val_loss = 0.168 | val_acc = 0.949 | train_time = 4.756 | tot_time = 4.853\n",
      "Epoch 12: loss = 0.125 | acc = 0.963 | val_loss = 0.165 | val_acc = 0.95 | train_time = 4.781 | tot_time = 4.879\n",
      "Epoch 13: loss = 0.118 | acc = 0.965 | val_loss = 0.162 | val_acc = 0.952 | train_time = 4.907 | tot_time = 5.021\n",
      "Epoch 14: loss = 0.112 | acc = 0.967 | val_loss = 0.156 | val_acc = 0.953 | train_time = 4.805 | tot_time = 4.907\n",
      "Epoch 15: loss = 0.106 | acc = 0.969 | val_loss = 0.154 | val_acc = 0.952 | train_time = 4.82 | tot_time = 4.92\n",
      "Epoch 16: loss = 0.101 | acc = 0.97 | val_loss = 0.152 | val_acc = 0.955 | train_time = 4.774 | tot_time = 4.873\n",
      "Epoch 17: loss = 0.095 | acc = 0.972 | val_loss = 0.148 | val_acc = 0.955 | train_time = 4.824 | tot_time = 4.922\n",
      "Epoch 18: loss = 0.091 | acc = 0.973 | val_loss = 0.147 | val_acc = 0.956 | train_time = 4.774 | tot_time = 4.883\n",
      "Epoch 19: loss = 0.087 | acc = 0.975 | val_loss = 0.147 | val_acc = 0.958 | train_time = 4.84 | tot_time = 4.938\n",
      "Epoch 20: loss = 0.083 | acc = 0.976 | val_loss = 0.145 | val_acc = 0.957 | train_time = 4.824 | tot_time = 4.92\n",
      "\n",
      "\n",
      " ------------------------------------------- \n",
      "\n",
      "\n",
      "Epoch 1: loss = 0.62 | acc = 0.81 | val_loss = 0.356 | val_acc = 0.894 | train_time = 5.485 | tot_time = 5.581\n",
      "Epoch 2: loss = 0.324 | acc = 0.903 | val_loss = 0.275 | val_acc = 0.918 | train_time = 5.453 | tot_time = 5.556\n",
      "Epoch 3: loss = 0.263 | acc = 0.922 | val_loss = 0.241 | val_acc = 0.929 | train_time = 5.419 | tot_time = 5.53\n",
      "Epoch 4: loss = 0.228 | acc = 0.931 | val_loss = 0.224 | val_acc = 0.936 | train_time = 6.59 | tot_time = 6.689\n",
      "Epoch 5: loss = 0.203 | acc = 0.94 | val_loss = 0.205 | val_acc = 0.94 | train_time = 5.462 | tot_time = 5.56\n",
      "Epoch 6: loss = 0.184 | acc = 0.945 | val_loss = 0.195 | val_acc = 0.942 | train_time = 5.461 | tot_time = 5.558\n",
      "Epoch 7: loss = 0.169 | acc = 0.95 | val_loss = 0.186 | val_acc = 0.946 | train_time = 5.46 | tot_time = 5.562\n",
      "Epoch 8: loss = 0.156 | acc = 0.954 | val_loss = 0.181 | val_acc = 0.948 | train_time = 5.587 | tot_time = 5.685\n",
      "Epoch 9: loss = 0.145 | acc = 0.957 | val_loss = 0.175 | val_acc = 0.948 | train_time = 5.442 | tot_time = 5.539\n",
      "Epoch 10: loss = 0.136 | acc = 0.96 | val_loss = 0.172 | val_acc = 0.949 | train_time = 5.47 | tot_time = 5.568\n",
      "Epoch 11: loss = 0.127 | acc = 0.963 | val_loss = 0.164 | val_acc = 0.951 | train_time = 5.365 | tot_time = 5.468\n",
      "Epoch 12: loss = 0.12 | acc = 0.965 | val_loss = 0.16 | val_acc = 0.952 | train_time = 5.45 | tot_time = 5.548\n",
      "Epoch 13: loss = 0.113 | acc = 0.967 | val_loss = 0.16 | val_acc = 0.952 | train_time = 5.449 | tot_time = 5.547\n",
      "Epoch 14: loss = 0.107 | acc = 0.969 | val_loss = 0.158 | val_acc = 0.952 | train_time = 5.398 | tot_time = 5.495\n",
      "Epoch 15: loss = 0.101 | acc = 0.97 | val_loss = 0.155 | val_acc = 0.952 | train_time = 5.39 | tot_time = 5.486\n",
      "Epoch 16: loss = 0.096 | acc = 0.972 | val_loss = 0.152 | val_acc = 0.953 | train_time = 5.41 | tot_time = 5.508\n",
      "Epoch 17: loss = 0.092 | acc = 0.974 | val_loss = 0.152 | val_acc = 0.953 | train_time = 5.48 | tot_time = 5.576\n",
      "Epoch 18: loss = 0.087 | acc = 0.974 | val_loss = 0.152 | val_acc = 0.953 | train_time = 5.372 | tot_time = 5.468\n",
      "Epoch 19: loss = 0.083 | acc = 0.976 | val_loss = 0.15 | val_acc = 0.954 | train_time = 5.496 | tot_time = 5.601\n",
      "Epoch 20: loss = 0.079 | acc = 0.977 | val_loss = 0.148 | val_acc = 0.955 | train_time = 5.381 | tot_time = 5.48\n",
      "\n",
      "\n",
      " ------------------------------------------- \n",
      "\n",
      "\n",
      "Epoch 1: loss = 0.595 | acc = 0.818 | val_loss = 0.349 | val_acc = 0.892 | train_time = 6.011 | tot_time = 6.111\n",
      "Epoch 2: loss = 0.321 | acc = 0.903 | val_loss = 0.271 | val_acc = 0.916 | train_time = 6.093 | tot_time = 6.194\n",
      "Epoch 3: loss = 0.259 | acc = 0.922 | val_loss = 0.235 | val_acc = 0.93 | train_time = 6.08 | tot_time = 6.182\n",
      "Epoch 4: loss = 0.223 | acc = 0.933 | val_loss = 0.21 | val_acc = 0.937 | train_time = 6.054 | tot_time = 6.15\n",
      "Epoch 5: loss = 0.198 | acc = 0.94 | val_loss = 0.194 | val_acc = 0.94 | train_time = 6.026 | tot_time = 6.127\n",
      "Epoch 6: loss = 0.178 | acc = 0.947 | val_loss = 0.18 | val_acc = 0.945 | train_time = 5.946 | tot_time = 6.044\n",
      "Epoch 7: loss = 0.163 | acc = 0.951 | val_loss = 0.169 | val_acc = 0.948 | train_time = 7.26 | tot_time = 7.358\n",
      "Epoch 8: loss = 0.15 | acc = 0.955 | val_loss = 0.171 | val_acc = 0.947 | train_time = 6.0 | tot_time = 6.097\n",
      "Epoch 9: loss = 0.139 | acc = 0.959 | val_loss = 0.159 | val_acc = 0.952 | train_time = 5.998 | tot_time = 6.097\n",
      "Epoch 10: loss = 0.13 | acc = 0.961 | val_loss = 0.153 | val_acc = 0.951 | train_time = 5.994 | tot_time = 6.098\n",
      "Epoch 11: loss = 0.122 | acc = 0.964 | val_loss = 0.148 | val_acc = 0.953 | train_time = 6.032 | tot_time = 6.129\n",
      "Epoch 12: loss = 0.115 | acc = 0.965 | val_loss = 0.144 | val_acc = 0.956 | train_time = 6.027 | tot_time = 6.127\n",
      "Epoch 13: loss = 0.108 | acc = 0.968 | val_loss = 0.141 | val_acc = 0.956 | train_time = 6.079 | tot_time = 6.175\n",
      "Epoch 14: loss = 0.103 | acc = 0.969 | val_loss = 0.144 | val_acc = 0.956 | train_time = 6.042 | tot_time = 6.145\n",
      "Epoch 15: loss = 0.097 | acc = 0.971 | val_loss = 0.138 | val_acc = 0.956 | train_time = 6.067 | tot_time = 6.164\n",
      "Epoch 16: loss = 0.092 | acc = 0.973 | val_loss = 0.135 | val_acc = 0.956 | train_time = 5.986 | tot_time = 6.082\n",
      "Epoch 17: loss = 0.087 | acc = 0.974 | val_loss = 0.134 | val_acc = 0.958 | train_time = 6.063 | tot_time = 6.163\n",
      "Epoch 18: loss = 0.083 | acc = 0.975 | val_loss = 0.133 | val_acc = 0.958 | train_time = 6.029 | tot_time = 6.126\n",
      "Epoch 19: loss = 0.079 | acc = 0.977 | val_loss = 0.129 | val_acc = 0.96 | train_time = 6.032 | tot_time = 6.132\n",
      "Epoch 20: loss = 0.075 | acc = 0.978 | val_loss = 0.13 | val_acc = 0.959 | train_time = 5.984 | tot_time = 6.082\n",
      "\n",
      "\n",
      " ------------------------------------------- \n",
      "\n",
      "\n"
     ]
    },
    {
     "data": {
      "image/png": "[encoded data removed]",
      "text/plain": [
       "<Figure size 432x288 with 1 Axes>"
      ]
     },
     "metadata": {
      "needs_background": "light"
     },
     "output_type": "display_data"
    }
   ],
   "source": [
    "tdata_vector, val_loss_vector, train_loss_vector = analyse_training_data_amount()\n",
    "\n",
    "plt.plot(tdata_vector, val_loss_vector, label='Validation Loss')\n",
    "plt.plot(tdata_vector, train_loss_vector, label='Training Loss')\n",
    "plt.xlabel(\"% training data used\")\n",
    "plt.ylabel(\"Loss\")\n",
    "plt.legend()\n",
    "plt.show()"
   ]
  },
  {
   "cell_type": "markdown",
   "metadata": {
    "id": "2OVJVenpPhAE"
   },
   "source": [
    "### Experiment setup:\n",
    "1. We train the model for varying no. of layers, starting from layer=1 and increasing it everytime by 1 up till max lr=5 or till model validation loss values are not nan/inf.\n",
    "\n",
    "2. We record the model validation and training loss for each of these layers and plot a graph of Loss vs No. of layers to see its trend.\n",
    "\n",
    "3. Every other parameter remains constant.\n",
    "\n",
    "### Analysis\n",
    "\n",
    "- From the graph in the above cell we see that the validation loss decreases with increasing learning rate, but then increases exponentially after a certain point.\n",
    "\n",
    "- Using the elbow method, we find optimal learning rate to be <= 0.6. After this, the model starts to diverge and hence loss increases.\n",
    "\n",
    "- Thus, increasing the learning rate increases the chances of the model converging faster, upto a certain point, after which it causes the model learning to diverge.\n",
    "\n",
    "- From the graph in the above cell we see that the validation loss decreases with increasing layer, but then increases exponentially after a certain point.\n",
    "\n",
    "- Using the elbow method, we find optimal no. of layers to be = 4. After this, the model starts to diverge and hence loss increases. This is because <>\n",
    "\n",
    "\n",
    "\n",
    "We see from the above graph that increasing the training data decreases the loss. This means that neural networks work better with as much training data as possible. "
   ]
  },
  {
   "cell_type": "markdown",
   "metadata": {
    "id": "hq6eF7KSX7oS"
   },
   "source": [
    "Write down your analysis and conclusions:\n",
    "\n"
   ]
  },
  {
   "cell_type": "markdown",
   "metadata": {
    "id": "UwprtbLqL12q"
   },
   "source": [
    "- \n",
    "-\n",
    "-"
   ]
  }
 ],
 "metadata": {
  "accelerator": "GPU",
  "colab": {
   "collapsed_sections": [],
   "name": "CS5242_HW2.ipynb",
   "provenance": []
  },
  "gpuClass": "standard",
  "kernelspec": {
   "display_name": "Python 3 (ipykernel)",
   "language": "python",
   "name": "python3"
  },
  "language_info": {
   "codemirror_mode": {
    "name": "ipython",
    "version": 3
   },
   "file_extension": ".py",
   "mimetype": "text/x-python",
   "name": "python",
   "nbconvert_exporter": "python",
   "pygments_lexer": "ipython3",
   "version": "3.10.6"
  }
 },
 "nbformat": 4,
 "nbformat_minor": 1
}
