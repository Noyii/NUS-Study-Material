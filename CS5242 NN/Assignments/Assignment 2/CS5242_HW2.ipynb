{
  "cells": [
    {
      "cell_type": "markdown",
      "metadata": {
        "id": "GXMX8yuAyl55"
      },
      "source": [
        "# Welcome to CS 5242 **Homework 2**\n",
        "\n",
        "ASSIGNMENT DEADLINE ⏰ : **05 Sept 2022** \n",
        "\n",
        "In this assignment, the task is to implement Multi-Layer Perceptron (MLP) for handwritten digit classification from scratch.\n",
        "\n",
        "Colab is a hosted Jupyter notebook service that requires no setup to use, while providing access free of charge to computing resources including GPUs. In this semester, we will use Colab to run our experiments.\n",
        "\n",
        "> In this assignment, there is no need to use GPU.\n",
        "\n",
        "### **Grades Policy**\n",
        "\n",
        "We have 10 points for this homework. 15% off per day late, 0 scores if you submit it 7 days after the deadline.\n",
        "\n",
        "### **Cautions**\n",
        "\n",
        "**DO NOT** use external libraries like PyTorch or TensorFlow in your implementation.\n",
        "\n",
        "**DO NOT** copy the code from the internet, e.g. GitHub.\n",
        "\n",
        "---\n",
        "\n",
        "### **Contact**\n",
        "\n",
        "Please feel free to contact us if you have any question about this homework or need any further information.\n",
        "\n",
        "Slack (Recommend): Shenggan Cheng\n",
        "\n",
        "TA Email: shenggan@comp.nus.edu.sg\n",
        "\n",
        "> If you have not join the slack group, you can click [here](https://join.slack.com/t/cs5242ay20222-oiw1784/shared_invite/zt-1eiv24k1t-0J9EI7vz3uQmAHa68qU0aw)"
      ]
    },
    {
      "cell_type": "markdown",
      "metadata": {
        "id": "oLeZHcOVBp4U"
      },
      "source": [
        "## Setup\n",
        "\n",
        "Start by running the cell below to set up all required software."
      ]
    },
    {
      "cell_type": "code",
      "execution_count": 1,
      "metadata": {
        "colab": {
          "base_uri": "https://localhost:8080/"
        },
        "id": "HIgu_q2HBg-E",
        "outputId": "bd21a964-c207-47f0-ec85-374629ba4da5"
      },
      "outputs": [
        {
          "output_type": "stream",
          "name": "stdout",
          "text": [
            "Looking in indexes: https://pypi.org/simple, https://us-python.pkg.dev/colab-wheels/public/simple/\n",
            "Requirement already satisfied: numpy in /usr/local/lib/python3.7/dist-packages (1.21.6)\n",
            "Requirement already satisfied: matplotlib in /usr/local/lib/python3.7/dist-packages (3.2.2)\n",
            "Requirement already satisfied: kiwisolver>=1.0.1 in /usr/local/lib/python3.7/dist-packages (from matplotlib) (1.4.4)\n",
            "Requirement already satisfied: cycler>=0.10 in /usr/local/lib/python3.7/dist-packages (from matplotlib) (0.11.0)\n",
            "Requirement already satisfied: python-dateutil>=2.1 in /usr/local/lib/python3.7/dist-packages (from matplotlib) (2.8.2)\n",
            "Requirement already satisfied: pyparsing!=2.0.4,!=2.1.2,!=2.1.6,>=2.0.1 in /usr/local/lib/python3.7/dist-packages (from matplotlib) (3.0.9)\n",
            "Requirement already satisfied: typing-extensions in /usr/local/lib/python3.7/dist-packages (from kiwisolver>=1.0.1->matplotlib) (4.1.1)\n",
            "Requirement already satisfied: six>=1.5 in /usr/local/lib/python3.7/dist-packages (from python-dateutil>=2.1->matplotlib) (1.15.0)\n"
          ]
        }
      ],
      "source": [
        "!pip install numpy matplotlib"
      ]
    },
    {
      "cell_type": "markdown",
      "metadata": {
        "id": "bqkIbfgfE1oB"
      },
      "source": [
        "Download and extract MNIST Dataset."
      ]
    },
    {
      "cell_type": "code",
      "execution_count": 2,
      "metadata": {
        "colab": {
          "base_uri": "https://localhost:8080/"
        },
        "id": "hSoSnxC4EzzJ",
        "outputId": "e53aa63f-d56e-45fb-a4ef-974636cd31d1"
      },
      "outputs": [
        {
          "output_type": "stream",
          "name": "stdout",
          "text": [
            "total 124872\n",
            "-rw-r--r-- 1 1000 1000  18289443 Jul 15  2019 mnist_test.csv\n",
            "-rw-r--r-- 1 1000 1000 109575994 Jul 15  2019 mnist_train.csv\n"
          ]
        }
      ],
      "source": [
        "!mkdir -p data \\\n",
        "    && wget -q https://raw.githubusercontent.com/Shenggan/cs5242_resource/main/homework2/mnist_data.tar.gz -O ./data/mnist_data.tar.gz \\\n",
        "    && tar xf data/mnist_data.tar.gz -C ./data \\\n",
        "    && rm -rf ./data/mnist_data.tar.gz \\\n",
        "    && ls -l ./data/"
      ]
    },
    {
      "cell_type": "markdown",
      "metadata": {
        "id": "vtXcchT5H2PH"
      },
      "source": [
        "Import the neccesary library."
      ]
    },
    {
      "cell_type": "code",
      "execution_count": 3,
      "metadata": {
        "id": "I2Yodsn4H6CB"
      },
      "outputs": [],
      "source": [
        "import time\n",
        "\n",
        "import numpy as np\n",
        "import matplotlib.pyplot as plt"
      ]
    },
    {
      "cell_type": "markdown",
      "metadata": {
        "id": "3yrZD7DDExF4"
      },
      "source": [
        "Everything is ready, you can move on and ***Good Luck !*** 😃"
      ]
    },
    {
      "cell_type": "markdown",
      "metadata": {
        "id": "7DwqHhL9CSxs"
      },
      "source": [
        "## Explore MNIST Dataset\n",
        "\n",
        "One of the first steps when working with a new data set is exploring.Our data here is from the [MNIST dataset](http://yann.lecun.com/exdb/mnist/) of `28x28` pixel images of handwritten digits from `0-9`, which has an important place in the history of machine learning.\n",
        "\n",
        "Our data have been downloaded in the directory `data`: `mnist_train.csv` and `mnist_test.csv`, so the complete file path (from the main directory) are `data/mnist_train.csv` and `data/mnist_test.csv`. \n",
        "\n",
        "With that in mind, let's define a helper function `load_data` that we can use to quickly in our data.\n"
      ]
    },
    {
      "cell_type": "code",
      "execution_count": 4,
      "metadata": {
        "id": "DIHIpxpaHyOo"
      },
      "outputs": [],
      "source": [
        "def load_data(dir_name):\n",
        "    \"\"\"\n",
        "    Function for loading MNIST data stored in comma delimited files. Labels for \n",
        "    each image are the first entry in each row.\n",
        "\n",
        "    Parameters\n",
        "    ----------\n",
        "    dit_name : str\n",
        "         Path to where data is contained\n",
        "\n",
        "    Returns\n",
        "    -------\n",
        "    X : np.array, np.float32\n",
        "        A (N x 784) matrix of samples\n",
        "    Y : np.array, np.float32\n",
        "        A (N x 1) matrix of labels for each sample\n",
        "    \"\"\"\n",
        "    X, Y = None, None\n",
        "\n",
        "    # Hint:\n",
        "    # 1) open the file and iterate through each line\n",
        "    # 2) in every line, split with ',' and you can get 785 elements\n",
        "    # 3) as the first number in each sample is the label (0-9), extract that from the rest and return\n",
        "\n",
        "    # Some numpy function you maybe need to use: `np.array`, `numpy.ndarray.astype`, `numpy.asarray`\n",
        "    # A kindly example, \n",
        "    # tmp_str = \"1,2,3,4\"\n",
        "    # array = np.array(line.split(',')).astype(np.float32)\n",
        "    # print(array)\n",
        "\n",
        "    # === Complete the code (1')\n",
        "    X_train, Y_train = [], []\n",
        "    data = open(dir_name)\n",
        "\n",
        "    for row in data:\n",
        "      array = np.array(row.split(',')).astype(np.float32)\n",
        "      Y_train.append(array[0])\n",
        "      X_train.append(array[1:])\n",
        "\n",
        "    X = np.array(X_train)\n",
        "    Y = np.array(Y_train)\n",
        "    # === Complete the code\n",
        "    \n",
        "    return X, Y"
      ]
    },
    {
      "cell_type": "code",
      "execution_count": 5,
      "metadata": {
        "id": "m4HSdfdqIPeN"
      },
      "outputs": [],
      "source": [
        "X_train, Y_train = load_data(\"./data/mnist_train.csv\")\n",
        "X_test, Y_test = load_data(\"./data/mnist_test.csv\")"
      ]
    },
    {
      "cell_type": "markdown",
      "metadata": {
        "id": "4aH3JKg3I2bZ"
      },
      "source": [
        "An easy to quickly get an idea for how your data looks is to examine the shape of the matrix it's stored using the `.shape` attribute of numpy arrays. We see that the shape of `X_train` is `60000 x 784`, which tells us there are `60000` samples (images) each with dimension `784`. Each sample, typically presented as a 28 x 28 image, is unrolled into a 1-dimensional vector 28 x 28 = 784 contained within each row of `X_train`."
      ]
    },
    {
      "cell_type": "code",
      "execution_count": 6,
      "metadata": {
        "colab": {
          "base_uri": "https://localhost:8080/"
        },
        "id": "FNCf79ShI6H9",
        "outputId": "65fd89be-e336-44f7-f210-e7b45917f107"
      },
      "outputs": [
        {
          "output_type": "stream",
          "name": "stdout",
          "text": [
            "The shape of the training set is: 60000 x 784\n",
            "The shape of the test set is: 10000 x 784\n"
          ]
        }
      ],
      "source": [
        "print(f\"The shape of the training set is: {X_train.shape[0]} x {X_train.shape[1]}\")\n",
        "print(f\"The shape of the test set is: {X_test.shape[0]} x {X_test.shape[1]}\")"
      ]
    },
    {
      "cell_type": "markdown",
      "metadata": {
        "id": "bf5GmYOTzvVI"
      },
      "source": [
        "Now lets take a look at how the samples are represented, we can do this by calling `Y_train[index]` and `X_train[index]` (here I choose `index=0` to look at the very first sample). We first notice `Y_train[0]=5.0`, meaning this entry is the digit `5`. We will confirm this shortly by visualizing some of these samples. We then notice each entry is an integer (cast into `np.float32` in our `load_data` function) ranging from `0-255`. This representation is common when working with images. The numerical entries are interpreted as pixel intensities typically shown in gray-scale ranging between `0` (black) and `255` (white). "
      ]
    },
    {
      "cell_type": "code",
      "execution_count": 7,
      "metadata": {
        "colab": {
          "base_uri": "https://localhost:8080/"
        },
        "id": "8ZWVJHTXzzp2",
        "outputId": "6b1aaa1d-9004-4aba-c3e7-071cac360473"
      },
      "outputs": [
        {
          "output_type": "stream",
          "name": "stdout",
          "text": [
            "Y_train[0]: 5.0\n",
            "X_train[0] range from 0.0 to 255.0.\n"
          ]
        }
      ],
      "source": [
        "index = 0\n",
        "print(f\"Y_train[{index}]: {Y_train[index]}\")\n",
        "print(f\"X_train[{index}] range from {min(X_train[index])} to {max(X_train[index])}.\")"
      ]
    },
    {
      "cell_type": "code",
      "execution_count": 8,
      "metadata": {
        "id": "b6KGKdP7JCmc"
      },
      "outputs": [],
      "source": [
        "# rescale data between 0 - 1.0\n",
        "def scale_data(X):\n",
        "    X_scaled = None\n",
        "    # === Complete the code (0.5')\n",
        "    X_scaled = X/255.0\n",
        "    # === Complete the code\n",
        "    return X_scaled\n",
        "\n",
        "X_train = scale_data(X_train)\n",
        "X_test = scale_data(X_test)"
      ]
    },
    {
      "cell_type": "code",
      "execution_count": 9,
      "metadata": {
        "colab": {
          "base_uri": "https://localhost:8080/",
          "height": 246
        },
        "id": "2G0EUVRs2DCh",
        "outputId": "0e606f4c-6993-41ce-92b5-49c65002b46d"
      },
      "outputs": [
        {
          "output_type": "display_data",
          "data": {
            "text/plain": [
              "<Figure size 1080x720 with 4 Axes>"
            ],
            "image/png": "[encoded data removed]"
          },
          "metadata": {
            "needs_background": "light"
          }
        }
      ],
      "source": [
        "y_train_onehot = np.zeros((Y_train.size, int(Y_train.max()) + 1))\n",
        "y_test_onehot = np.zeros((Y_test.size, int(Y_test.max()) + 1))\n",
        "\n",
        "# one-hot encode train (y_train) and test (y_test) set labels\n",
        "# === Complete the code (0.5')\n",
        "y_train_onehot[np.arange(Y_train.size), Y_train.astype(int)] = 1\n",
        "y_test_onehot[np.arange(Y_test.size), Y_test.astype(int)] = 1\n",
        "# === Complete the code\n",
        "\n",
        "num_images = 4\n",
        "fig, axes = plt.subplots(1, num_images, figsize=(15, 10))\n",
        "for image, label, ax in zip(X_train[:num_images], y_train_onehot[:num_images], axes):\n",
        "    ax.imshow(image.reshape(28, 28), cmap='gray', vmin=0, vmax=1.0)\n",
        "    ax.set_title(f\"Label: {label}\")"
      ]
    },
    {
      "cell_type": "markdown",
      "metadata": {
        "id": "LTHgDB8MCguR"
      },
      "source": [
        "## Implementation of Multilayer perceptron"
      ]
    },
    {
      "cell_type": "markdown",
      "metadata": {
        "id": "PS0HX6A_o5mL"
      },
      "source": [
        "We'll first go through and write the code for each piece of an MLP (**without bias**) in generic Python functions. We'll then wrap everything in an `MLP` class, which will allow us to easily access all the MLP functionality in a user friendly manner."
      ]
    },
    {
      "cell_type": "markdown",
      "metadata": {
        "id": "C4Wa7cQBpEql"
      },
      "source": [
        "### Feed Forward"
      ]
    },
    {
      "cell_type": "markdown",
      "metadata": {
        "id": "t7V2F14ppBdi"
      },
      "source": [
        "Implementing the forward pass of the neural network is relatively simply as everything is basically just a series of matrix multiplicaitons and activation functions. A two-layer MLP example we looked at when working through the math had a forward pass which mathematically took the form:\n",
        "$$\\sigma(\\mathbf{x}W^{(1)})W^{(2)}$$\n",
        "\n",
        "We'll of course want to make things a bit more modular by allowing the user to choose some of the neural network paramters, such as the number of hidden layers `L` and the nunber of neurons per layer `N_l`. For simplicity we'll restrict that all the hidden layers are treated with **sigmoid** activaitons."
      ]
    },
    {
      "cell_type": "markdown",
      "metadata": {
        "id": "5nFN2g3MrXWw"
      },
      "source": [
        "The last step of process for classification tasks is actually producing a prediction from these numbers in the output layer. Typically, in the case of multi-label classification, this is done using a *softmax* activation function which effectively converts the output neurons into probabilities for each label. This has the mathematical form, $$\\text{softmax}(\\mathbf{z})_j = \\frac{\\exp(z_j)}{\\sum_{k=0}^{K=9}\\exp{(z_k)}}$$.\n",
        "\n",
        "The softmax activation function has the property of the outputs summing to 1 $\\sum_{k=1}^{K=9}\\text{softmax}(\\mathbf{z}^{(2)})_k = 1$, allowing each output $\\mathbf{a}^{(2)}_i = \\text{softmax}(\\mathbf{z}^{(2)})_i$ to be interpreted as the probability that the input is actually a digit `0-9`. Note, the output of a MLP does not need to have a softmax activation, for example in a regression setting a softmax activation would not make much sense. When evaluating the classification accuracy of the neural network, the input is typically classified according to the output label with the highest probability, \n",
        "\n",
        "$$\\text{prediction}(\\mathbf{x}) = \\text{argmax}\\  \\text{softmax}(\\mathbf{z}^{(2)}) = \\text{argmax}\\  \\text{softmax}((\\sigma(\\mathbf{x}W^{(1)})W^{(2)}))$$."
      ]
    },
    {
      "cell_type": "markdown",
      "metadata": {
        "id": "dF57FyDHJ2zl"
      },
      "source": [
        "We can start by simply defining our activation functions:"
      ]
    },
    {
      "cell_type": "code",
      "execution_count": 10,
      "metadata": {
        "id": "eRZKTMJqJ2LQ"
      },
      "outputs": [],
      "source": [
        "def sigmoid(x):\n",
        "    \"\"\"\n",
        "    Compute the sigmoid of `x`, calculated element-wise\n",
        "\n",
        "    Parameters\n",
        "    ----------\n",
        "    x : float or array_like\n",
        "        input\n",
        "\n",
        "    Returns\n",
        "    -------\n",
        "    sigmoid(x) : float or array_like\n",
        "        sigmoid applied to `x` element-wise\n",
        "    \"\"\"\n",
        "    result = None\n",
        "    # === Complete the code (0.5')\n",
        "    result = 1 / (1 + np.exp(-x))\n",
        "    # === Complete the code\n",
        "    return result"
      ]
    },
    {
      "cell_type": "code",
      "execution_count": 11,
      "metadata": {
        "id": "FAhoW7rfI1s-"
      },
      "outputs": [],
      "source": [
        "def softmax(x):\n",
        "    \"\"\"\n",
        "    Compute the softmax of `x`,\n",
        "\n",
        "    Parameters\n",
        "    ----------\n",
        "    x : array_like\n",
        "        (N x dim) array with N samples by p dimensions. dim=10 for MNIST classification. \n",
        "\n",
        "    Returns\n",
        "    -------\n",
        "    softmax(x) : float or array_like\n",
        "        softmax applied to `x` along the first axis.\n",
        "    \"\"\"\n",
        "    result = None\n",
        "    # === Complete the code (0.5')\n",
        "    result = np.exp(x) / np.sum(np.exp(x), axis=1, keepdims=True)\n",
        "    # === Complete the code\n",
        "    return result"
      ]
    },
    {
      "cell_type": "markdown",
      "metadata": {
        "id": "IJO2LaDmsmXq"
      },
      "source": [
        "The inputs `x`, weight matricies `w`, and activations are in principle all we need to define the forward pass; however, for efficency reasons we'll want to store the outputs of the hidden layer neurons when performing the forward pass. Storing these values will help us later more quickly calculate the gradients during the backward pass. The `init_layers` functions will initalize these hidden layers as NumPy arrays, doing this before we begin training will help us save some overhead we would otherwise inccur reinitalizing these hidden layers before each forward pass. These hidden layer values will be stored in multi-dimensional matricies, called *tensors*. One dimension of these tensors will be the `batch size` which will indicate the number of samples simultaneously passed to MLP during one training loop (feed forward + backpropagation)."
      ]
    },
    {
      "cell_type": "code",
      "execution_count": 12,
      "metadata": {
        "id": "0M-gOFpTsl3N"
      },
      "outputs": [],
      "source": [
        "def init_layers(batch_size, layer_sizes):\n",
        "    \"\"\"\n",
        "    Initalize arrays to store the hidden layer ouputs.\n",
        "\n",
        "    Parameters\n",
        "    ----------\n",
        "    batch_size : int\n",
        "        Number of samples to concurrently feed through the network.\n",
        "    layer_sizes : array_like\n",
        "        Array of length `N_l`. Each entry is the number of neurons in each layer.\n",
        "\n",
        "    Returns\n",
        "    -------\n",
        "    hidden_layers : list\n",
        "        List of empty arrays used to hold hidden layer outputs. \n",
        "    \"\"\"\n",
        "    hidden_layers = [np.empty((batch_size, layer_size)) for layer_size in layer_sizes]\n",
        "    return hidden_layers"
      ]
    },
    {
      "cell_type": "markdown",
      "metadata": {
        "id": "iiNL3Ubcsq8N"
      },
      "source": [
        "In order to perform a forward pass our input `x` is consequtively multiplied by weight matricies passed into the associated activaiton functions. The paramters in these weight matricies will ultimately be learned through backpropagation, but each weight matrix must first be initalized to random values. There are a number of different methods for doing this initalization, but for the moment we'll use a simple approach of just drawing the numerical values from a normal distribution with mean zero and standard deviation 1. We could have also reasonably choosen to simply draw from a uniform distribution on the range `[-1,1]`. "
      ]
    },
    {
      "cell_type": "code",
      "execution_count": 13,
      "metadata": {
        "id": "2ojQ3Hl1svff"
      },
      "outputs": [],
      "source": [
        "def init_weights(layer_sizes):\n",
        "    \"\"\"\n",
        "    Initalize the paramters of the weight matricies.\n",
        "\n",
        "    Parameters\n",
        "    ----------\n",
        "    layer_sizes : array_like\n",
        "        Array of length `N_l`. Each entry is the number of neurons in each layer.\n",
        "\n",
        "    Returns\n",
        "    -------\n",
        "    weights : array_like\n",
        "        Randomly initalized weight matricies based on the layer sizes. \n",
        "    \"\"\"\n",
        "    weights = list()\n",
        "    for i in range(layer_sizes.shape[0] - 1):\n",
        "        weights.append(np.random.uniform(-1, 1, size=[layer_sizes[i], layer_sizes[i + 1]]))\n",
        "    return weights"
      ]
    },
    {
      "cell_type": "markdown",
      "metadata": {
        "id": "DHnQDrnMpSFL"
      },
      "source": [
        "### Backpropagation"
      ]
    },
    {
      "cell_type": "markdown",
      "metadata": {
        "id": "b7ek23WJOGHs"
      },
      "source": [
        "Initalizing all the weights, layers, and activations prior to the forward pass makes much of the backward pass implimentation actually quite simple. For convinience we'll define a `sigmoid_derivative` function, which simply computes the derivative of the sigmoid activation $\\sigma^{\\prime}$. We'll use this when computing the gradients during the backward pass."
      ]
    },
    {
      "cell_type": "code",
      "execution_count": 14,
      "metadata": {
        "id": "ZxfTWU_6oeE7"
      },
      "outputs": [],
      "source": [
        "def sigmoid_derivative(sigmoid_out):\n",
        "    \"\"\"\n",
        "    Calculate derivative of sigmoid activation based on sigmoid output.\n",
        "\n",
        "    Parameters\n",
        "    ----------\n",
        "    sigmoid_out : array_like\n",
        "        Output values processed by a sigmoid function.\n",
        "    \n",
        "    Returns\n",
        "    -------\n",
        "    sigmoid_derivative(h) : array_like\n",
        "        Derivative of sigmoid, based on value of sigmoid.\n",
        "    \"\"\"\n",
        "    result = None\n",
        "    # === Complete the code (0.5')\n",
        "    result = sigmoid_out * (1-sigmoid_out)\n",
        "    # === Complete the code\n",
        "    return result"
      ]
    },
    {
      "cell_type": "markdown",
      "metadata": {
        "id": "p9XZokeNpnUf"
      },
      "source": [
        "### Training"
      ]
    },
    {
      "cell_type": "markdown",
      "metadata": {
        "id": "yA9w06GhtWxt"
      },
      "source": [
        "You have **three tasks** in this section.\n",
        "\n",
        "1. You need to implement `__feed_forward` function.\n",
        "2. You need to implement `__back_prop` function.\n",
        "3. You need to implement the main loop of `train` function."
      ]
    },
    {
      "cell_type": "code",
      "execution_count": 15,
      "metadata": {
        "id": "_-ERNpYWpYc4"
      },
      "outputs": [],
      "source": [
        "def to_categorical(x, class_num):\n",
        "    # Transform probabilities into categorical predictions row-wise, by simply taking the max probability\n",
        "    categorical = np.zeros((x.shape[0], class_num))\n",
        "    categorical[np.arange(x.shape[0]), x.argmax(axis=1)] = 1\n",
        "    return categorical\n",
        "\n",
        "def accuracy(y_pred, y):\n",
        "    # Compute the accuracy along the rows, averaging along the number of samples\n",
        "    return np.all(y_pred == y, axis=1).mean()\n",
        "\n",
        "def loss(y_pred, y):\n",
        "    # Compute the loss along the rows, averaging along the number of samples\n",
        "    loss_ = ((-np.log(y_pred)) * y).sum(axis=1).mean()\n",
        "    return loss_\n",
        "\n",
        "class MLP():\n",
        "\n",
        "    def __init__(self, X, Y, X_val, Y_val, L=1, N_l=128):\n",
        "        self.X = X\n",
        "        self.Y = np.squeeze(np.eye(10)[Y.astype(int).reshape(-1)])\n",
        "        self.X_val = X_val\n",
        "        self.Y_val = np.squeeze(np.eye(10)[Y_val.astype(int).reshape(-1)])\n",
        "        self.L = L\n",
        "        self.N_l = N_l\n",
        "        self.n_samples = self.X.shape[0]\n",
        "        self.layer_sizes = np.array([self.X.shape[1]] + [N_l] * L + [self.Y.shape[1]])\n",
        "        self.__init_weights()\n",
        "        self.train_loss = list()\n",
        "        self.train_acc = list()\n",
        "        self.val_loss = list()\n",
        "        self.val_acc = list()\n",
        "        self.train_time = list()\n",
        "        self.tot_time = list()\n",
        "        self.metrics = [\n",
        "            self.train_loss, self.train_acc, self.val_loss, self.val_acc, self.train_time,\n",
        "            self.tot_time\n",
        "        ]\n",
        "\n",
        "        self.class_num = self.Y.shape[1]\n",
        "\n",
        "    def __init_weights(self):\n",
        "        # Initialize the weights of the network given the sizes of the layers\n",
        "        self.weights = list()\n",
        "        for i in range(self.layer_sizes.shape[0] - 1):\n",
        "            self.weights.append(\n",
        "                np.random.uniform(-1, 1, size=[self.layer_sizes[i], self.layer_sizes[i + 1]]))\n",
        "        self.weights = np.asarray(self.weights)\n",
        "\n",
        "    def __init_layers(self, batch_size):\n",
        "        # Initialize and allocate arrays for the hidden layer activations\n",
        "        self.__h = [np.empty((batch_size, layer)) for layer in self.layer_sizes]\n",
        "\n",
        "    def __feed_forward(self, batch):\n",
        "        # Perform a forward pass of `batch` samples (N_samples x N_features)\n",
        "        out_ = None\n",
        "        h_l = batch\n",
        "        self.__h[0] = h_l\n",
        "        \n",
        "        # === Complete the code (1.5')\n",
        "        for i in range(len(self.weights) - 1):\n",
        "          h_l = sigmoid(np.matmul(h_l, self.weights[i]))\n",
        "          self.__h[i+1] = h_l\n",
        "\n",
        "        # Doing this outside the loop since we don't want sigmoid for last linear layer\n",
        "        # y = softmax( sigmoid(Xw1) * w2) --> if L=1\n",
        "        h_l = np.matmul(h_l, self.weights[-1])\n",
        "        self.__h[-1] = softmax(h_l)\n",
        "        out_ = self.__h[-1]\n",
        "        # === Complete the code\n",
        "        self.__out = out_\n",
        "\n",
        "    def __back_prop(self, batch_y):\n",
        "        # Update the weights of the network through back-propagation\n",
        "        # === Complete the code (1.5')\n",
        "\n",
        "          ### Suppose we have 1 hidden layer\n",
        "          # p = softmax( sigm(Xw0).w1 )\n",
        "          # z = sigm(Xw0).w1\n",
        "          # m = Xw0\n",
        "\n",
        "          # Thus, \n",
        "          # p = softmax(z)\n",
        "          # z = m.w1\n",
        "\n",
        "          # L = -y.log(p)\n",
        "          # dL/dw1 = dL/dp * dp/dz * dz/dw1\n",
        "          #        = (p - y) * dz/dw1\n",
        "          #        = (p - y) * sigm(Xw0)\n",
        "          #        = (p - y) * h_l[1]\n",
        "          # dL/dw0 = dL/dp * dp/dz * dz/dm * dm/dw0\n",
        "          #        = (p - y) * w1 * sigm_deriv(Xw0) * X\n",
        "          #        = (p - y) * w1 * sigm_deriv(h_l[1]) * h_l[0]\n",
        "\n",
        "        loss_gradient = self.__out - batch_y\n",
        "\n",
        "        for i in range(len(self.weights)):\n",
        "          self.weights[-i-1] -= self.lr * np.matmul(self.__h[-i-2].transpose(), loss_gradient) / self.batch_size\n",
        "          loss_gradient = np.matmul(loss_gradient, self.weights[-i-1].transpose()) * sigmoid_derivative(self.__h[-i-2])     \n",
        "        # === Complete the code\n",
        "\n",
        "    def predict(self, X):\n",
        "        # Generate a categorical, one-hot, prediction given an input X\n",
        "        self.__init_layers(X.shape[0])\n",
        "        self.__feed_forward(X)\n",
        "        return to_categorical(self.__out, self.class_num)\n",
        "\n",
        "    def evaluate(self, X, Y):\n",
        "        # Evaluate the performance (accuracy) predicting on X with true labels Y\n",
        "        prediction = self.predict(X)\n",
        "        return accuracy(prediction, Y)\n",
        "\n",
        "    def train(self, batch_size=8, epochs=25, lr=1.0):\n",
        "        # Train the model with a given batch size, epochs, and learning rate. Store and print relevant metrics.\n",
        "        self.lr = lr\n",
        "        self.batch_size = batch_size\n",
        "        for epoch in range(epochs):\n",
        "            start = time.time()\n",
        "\n",
        "            self.__init_layers(self.batch_size)\n",
        "            shuffle = np.random.permutation(self.n_samples)\n",
        "            train_loss = 0\n",
        "            train_acc = 0\n",
        "            X_batches = np.array_split(self.X[shuffle], self.n_samples / self.batch_size)\n",
        "            Y_batches = np.array_split(self.Y[shuffle], self.n_samples / self.batch_size)\n",
        "            for batch_x, batch_y in zip(X_batches, Y_batches):\n",
        "                # === Complete the code (1.5')\n",
        "                self.__feed_forward(batch_x)\n",
        "                train_loss += loss(self.__out, batch_y)\n",
        "                train_acc += accuracy(to_categorical(self.__out, self.class_num), batch_y)\n",
        "                self.__back_prop(batch_y)\n",
        "                # === Complete the code\n",
        "\n",
        "            train_loss = (train_loss / len(X_batches))\n",
        "            train_acc = (train_acc / len(X_batches))\n",
        "            self.train_loss.append(train_loss)\n",
        "            self.train_acc.append(train_acc)\n",
        "\n",
        "            train_time = round(time.time() - start, 3)\n",
        "            self.train_time.append(train_time)\n",
        "\n",
        "            self.__init_layers(self.X_val.shape[0])\n",
        "            self.__feed_forward(self.X_val)\n",
        "            val_loss = loss(self.__out, self.Y_val)\n",
        "            val_acc = accuracy(to_categorical(self.__out, self.class_num), self.Y_val)\n",
        "            self.val_loss.append(val_loss)\n",
        "            self.val_acc.append(val_acc)\n",
        "\n",
        "            tot_time = round(time.time() - start, 3)\n",
        "            self.tot_time.append(tot_time)\n",
        "\n",
        "            print(\n",
        "                f\"Epoch {epoch+1}: loss = {train_loss.round(3)} | acc = {train_acc.round(3)} | val_loss = {val_loss.round(3)} | val_acc = {val_acc.round(3)} | train_time = {train_time} | tot_time = {tot_time}\"\n",
        "            )\n"
      ]
    },
    {
      "cell_type": "markdown",
      "metadata": {
        "id": "VrUiDpPynrLF"
      },
      "source": [
        "Great, now let's give this a try. Let's create a really simple MLP with only a single hidden layer `L=2` with 64 neurons `N_l=64`. We'll train with a `batch_size=8` for `epochs=20` and a learning rate `lr=0.2`."
      ]
    },
    {
      "cell_type": "code",
      "execution_count": 16,
      "metadata": {
        "colab": {
          "base_uri": "https://localhost:8080/"
        },
        "id": "fkkmE_mQpb4j",
        "outputId": "bac50cd2-26fe-45c7-8d8a-6bc49c380e0d"
      },
      "outputs": [
        {
          "output_type": "stream",
          "name": "stderr",
          "text": [
            "/usr/local/lib/python3.7/dist-packages/ipykernel_launcher.py:47: VisibleDeprecationWarning: Creating an ndarray from ragged nested sequences (which is a list-or-tuple of lists-or-tuples-or ndarrays with different lengths or shapes) is deprecated. If you meant to do this, you must specify 'dtype=object' when creating the ndarray.\n"
          ]
        },
        {
          "output_type": "stream",
          "name": "stdout",
          "text": [
            "Epoch 1: loss = 0.395 | acc = 0.878 | val_loss = 0.221 | val_acc = 0.933 | train_time = 6.523 | tot_time = 6.638\n",
            "Epoch 2: loss = 0.202 | acc = 0.939 | val_loss = 0.186 | val_acc = 0.946 | train_time = 6.369 | tot_time = 6.48\n",
            "Epoch 3: loss = 0.151 | acc = 0.953 | val_loss = 0.165 | val_acc = 0.949 | train_time = 6.481 | tot_time = 6.584\n",
            "Epoch 4: loss = 0.125 | acc = 0.96 | val_loss = 0.137 | val_acc = 0.958 | train_time = 6.466 | tot_time = 6.574\n",
            "Epoch 5: loss = 0.106 | acc = 0.966 | val_loss = 0.135 | val_acc = 0.959 | train_time = 6.531 | tot_time = 6.643\n",
            "Epoch 6: loss = 0.092 | acc = 0.971 | val_loss = 0.137 | val_acc = 0.959 | train_time = 6.556 | tot_time = 6.662\n",
            "Epoch 7: loss = 0.08 | acc = 0.974 | val_loss = 0.13 | val_acc = 0.963 | train_time = 6.434 | tot_time = 6.549\n",
            "Epoch 8: loss = 0.071 | acc = 0.978 | val_loss = 0.135 | val_acc = 0.96 | train_time = 7.518 | tot_time = 7.623\n",
            "Epoch 9: loss = 0.062 | acc = 0.98 | val_loss = 0.126 | val_acc = 0.966 | train_time = 6.572 | tot_time = 6.683\n",
            "Epoch 10: loss = 0.056 | acc = 0.982 | val_loss = 0.134 | val_acc = 0.962 | train_time = 6.462 | tot_time = 6.562\n",
            "Epoch 11: loss = 0.049 | acc = 0.984 | val_loss = 0.123 | val_acc = 0.964 | train_time = 6.433 | tot_time = 6.542\n",
            "Epoch 12: loss = 0.043 | acc = 0.987 | val_loss = 0.124 | val_acc = 0.965 | train_time = 6.497 | tot_time = 6.647\n",
            "Epoch 13: loss = 0.038 | acc = 0.988 | val_loss = 0.119 | val_acc = 0.966 | train_time = 7.649 | tot_time = 7.75\n",
            "Epoch 14: loss = 0.034 | acc = 0.989 | val_loss = 0.122 | val_acc = 0.967 | train_time = 6.426 | tot_time = 6.528\n",
            "Epoch 15: loss = 0.031 | acc = 0.99 | val_loss = 0.139 | val_acc = 0.962 | train_time = 6.419 | tot_time = 6.519\n",
            "Epoch 16: loss = 0.027 | acc = 0.991 | val_loss = 0.128 | val_acc = 0.967 | train_time = 6.351 | tot_time = 6.475\n",
            "Epoch 17: loss = 0.024 | acc = 0.993 | val_loss = 0.127 | val_acc = 0.967 | train_time = 6.519 | tot_time = 6.623\n",
            "Epoch 18: loss = 0.021 | acc = 0.994 | val_loss = 0.132 | val_acc = 0.967 | train_time = 6.517 | tot_time = 6.646\n",
            "Epoch 19: loss = 0.019 | acc = 0.995 | val_loss = 0.13 | val_acc = 0.967 | train_time = 6.466 | tot_time = 6.577\n",
            "Epoch 20: loss = 0.015 | acc = 0.996 | val_loss = 0.133 | val_acc = 0.969 | train_time = 6.392 | tot_time = 6.497\n"
          ]
        }
      ],
      "source": [
        "model = MLP(X_train, Y_train, X_test, Y_test, L=2, N_l=64)\n",
        "model.train(batch_size=8, epochs=20, lr=0.2)"
      ]
    },
    {
      "cell_type": "code",
      "execution_count": 17,
      "metadata": {
        "colab": {
          "base_uri": "https://localhost:8080/",
          "height": 352
        },
        "id": "b8IawSzBSRNI",
        "outputId": "f85e6704-0ce4-436e-f607-eb71abab47d1"
      },
      "outputs": [
        {
          "output_type": "execute_result",
          "data": {
            "text/plain": [
              "Text(0, 0.5, 'Accuracy')"
            ]
          },
          "metadata": {},
          "execution_count": 17
        },
        {
          "output_type": "display_data",
          "data": {
            "text/plain": [
              "<Figure size 1080x360 with 2 Axes>"
            ],
            "image/png": "[encoded data removed]"
          },
          "metadata": {
            "needs_background": "light"
          }
        }
      ],
      "source": [
        "fig,ax = plt.subplots(1,2,figsize=(15,5))\n",
        "ax[0].plot(model.train_loss,label=\"Train loss\")\n",
        "ax[0].plot(model.val_loss,label=\"Val loss\")\n",
        "ax[0].legend()\n",
        "ax[0].set_xlabel(\"Epoch\")\n",
        "ax[0].set_ylabel(\"Loss\")\n",
        "\n",
        "ax[1].plot(model.train_acc,label=\"Train acc\")\n",
        "ax[1].plot(model.val_acc,label=\"Val acc\")\n",
        "ax[1].legend()\n",
        "ax[1].set_xlabel(\"Epoch\")\n",
        "ax[1].set_ylabel(\"Accuracy\")"
      ]
    },
    {
      "cell_type": "markdown",
      "metadata": {
        "id": "i9rgEKrTCseN"
      },
      "source": [
        "## Discussion (2 points)\n",
        "\n",
        "In this section, you are free to choose some of the following directions to explore, and try to summarize some patterns and conclusions.\n",
        "\n",
        "* Try to use different learning rates and generalize the impact of learning rate on training.\n",
        "* Try to use different number of layers of MLPs or different number of neurons of MLPs (including different ways of weight initialization) and explore the impact on the final classification performance.\n",
        "* Try to use a portion of the data for training (e.g., 10%, 20%, 50%) to explore the training convergence and final classification performance with different amounts of data.\n",
        "\n",
        "> **NOTE:** *Good Disscusion* include experimental setup, presentation of experimental results including visualization, analysis and interpretation of phenomena, and summary of conclusions"
      ]
    },
    {
      "cell_type": "markdown",
      "metadata": {
        "id": "R4IyyL5csCcs"
      },
      "source": [
        "### Initial Analysis\n",
        "\n",
        "From the graph of Loss vs Epoch, we notice that the validation loss decreases with decrease in training loss until ~epoch 9. After this, both of them start to diverge. This means that after epoch 9, the model started to overfit on the training data and hence generalization of the model was lost, resulting in greater loss values for the validation data.\n",
        "\n",
        "Thus, we will take optimum no. of epochs to be 9 for further analysis below."
      ]
    },
    {
      "cell_type": "markdown",
      "metadata": {
        "id": "5pF4oSHgumbT"
      },
      "source": [
        "## 1. Change learning rate"
      ]
    },
    {
      "cell_type": "code",
      "execution_count": 20,
      "metadata": {
        "id": "IpuUw__XX2BE"
      },
      "outputs": [],
      "source": [
        "# === Complete the code (2')\n",
        "import math\n",
        "\n",
        "def optimize_lr(max_lr=1):\n",
        "  step_size = 0.1\n",
        "  learning_rate = 0.1 ## Initial rate\n",
        "  val_loss_vector = []\n",
        "  train_loss_vector = []\n",
        "  lr_vector = []\n",
        "\n",
        "  # keeping num_epochs constant\n",
        "  while learning_rate < max_lr:\n",
        "    model = MLP(X_train, Y_train, X_test, Y_test, L=2, N_l=64)\n",
        "    model.train(batch_size=8, epochs=9, lr=learning_rate)\n",
        "    \n",
        "    if model.val_loss[-1] == float('inf') or math.isnan(model.val_loss[-1]):\n",
        "      break\n",
        "\n",
        "    lr_vector.append(learning_rate)\n",
        "    val_loss_vector.append(model.val_loss[-1])\n",
        "    train_loss_vector.append(model.train_loss[-1])\n",
        "    learning_rate += step_size # Increase rate linearly for each iteration\n",
        "\n",
        "    print(\"\\n\\n ------------------------------------------- \\n\\n\")\n",
        "\n",
        "  return lr_vector, val_loss_vector, train_loss_vector\n",
        "# === Complete the code"
      ]
    },
    {
      "cell_type": "code",
      "execution_count": 21,
      "metadata": {
        "colab": {
          "base_uri": "https://localhost:8080/",
          "height": 1000
        },
        "id": "ZvJdbBGExV8G",
        "outputId": "90eabec1-852c-4704-c361-494ab8545b4b"
      },
      "outputs": [
        {
          "output_type": "stream",
          "name": "stderr",
          "text": [
            "/usr/local/lib/python3.7/dist-packages/ipykernel_launcher.py:47: VisibleDeprecationWarning: Creating an ndarray from ragged nested sequences (which is a list-or-tuple of lists-or-tuples-or ndarrays with different lengths or shapes) is deprecated. If you meant to do this, you must specify 'dtype=object' when creating the ndarray.\n"
          ]
        },
        {
          "output_type": "stream",
          "name": "stdout",
          "text": [
            "Epoch 1: loss = 0.457 | acc = 0.858 | val_loss = 0.257 | val_acc = 0.923 | train_time = 6.499 | tot_time = 6.602\n",
            "Epoch 2: loss = 0.235 | acc = 0.929 | val_loss = 0.208 | val_acc = 0.935 | train_time = 10.893 | tot_time = 11.11\n",
            "Epoch 3: loss = 0.184 | acc = 0.945 | val_loss = 0.18 | val_acc = 0.944 | train_time = 6.418 | tot_time = 6.518\n",
            "Epoch 4: loss = 0.152 | acc = 0.954 | val_loss = 0.166 | val_acc = 0.949 | train_time = 6.493 | tot_time = 6.596\n",
            "Epoch 5: loss = 0.133 | acc = 0.959 | val_loss = 0.154 | val_acc = 0.951 | train_time = 6.54 | tot_time = 6.642\n",
            "Epoch 6: loss = 0.117 | acc = 0.964 | val_loss = 0.141 | val_acc = 0.957 | train_time = 6.438 | tot_time = 6.538\n",
            "Epoch 7: loss = 0.103 | acc = 0.968 | val_loss = 0.14 | val_acc = 0.956 | train_time = 6.403 | tot_time = 6.504\n",
            "Epoch 8: loss = 0.093 | acc = 0.973 | val_loss = 0.143 | val_acc = 0.956 | train_time = 6.3 | tot_time = 6.402\n",
            "Epoch 9: loss = 0.084 | acc = 0.974 | val_loss = 0.142 | val_acc = 0.957 | train_time = 6.394 | tot_time = 6.495\n",
            "\n",
            "\n",
            " ------------------------------------------- \n",
            "\n",
            "\n",
            "Epoch 1: loss = 0.388 | acc = 0.88 | val_loss = 0.257 | val_acc = 0.925 | train_time = 6.34 | tot_time = 6.44\n",
            "Epoch 2: loss = 0.201 | acc = 0.94 | val_loss = 0.197 | val_acc = 0.94 | train_time = 6.422 | tot_time = 6.522\n",
            "Epoch 3: loss = 0.154 | acc = 0.953 | val_loss = 0.174 | val_acc = 0.947 | train_time = 6.323 | tot_time = 6.429\n",
            "Epoch 4: loss = 0.127 | acc = 0.961 | val_loss = 0.144 | val_acc = 0.957 | train_time = 6.394 | tot_time = 6.501\n",
            "Epoch 5: loss = 0.107 | acc = 0.967 | val_loss = 0.141 | val_acc = 0.959 | train_time = 7.587 | tot_time = 7.688\n",
            "Epoch 6: loss = 0.094 | acc = 0.971 | val_loss = 0.123 | val_acc = 0.962 | train_time = 6.541 | tot_time = 6.642\n",
            "Epoch 7: loss = 0.08 | acc = 0.975 | val_loss = 0.13 | val_acc = 0.959 | train_time = 6.355 | tot_time = 6.457\n",
            "Epoch 8: loss = 0.072 | acc = 0.977 | val_loss = 0.125 | val_acc = 0.964 | train_time = 6.506 | tot_time = 6.608\n",
            "Epoch 9: loss = 0.063 | acc = 0.98 | val_loss = 0.115 | val_acc = 0.966 | train_time = 6.341 | tot_time = 6.439\n",
            "\n",
            "\n",
            " ------------------------------------------- \n",
            "\n",
            "\n",
            "Epoch 1: loss = 0.386 | acc = 0.882 | val_loss = 0.189 | val_acc = 0.943 | train_time = 6.32 | tot_time = 6.425\n",
            "Epoch 2: loss = 0.196 | acc = 0.94 | val_loss = 0.171 | val_acc = 0.948 | train_time = 6.393 | tot_time = 6.495\n",
            "Epoch 3: loss = 0.15 | acc = 0.955 | val_loss = 0.165 | val_acc = 0.952 | train_time = 7.743 | tot_time = 7.845\n",
            "Epoch 4: loss = 0.125 | acc = 0.962 | val_loss = 0.14 | val_acc = 0.96 | train_time = 6.431 | tot_time = 6.532\n",
            "Epoch 5: loss = 0.108 | acc = 0.967 | val_loss = 0.146 | val_acc = 0.958 | train_time = 6.419 | tot_time = 6.523\n",
            "Epoch 6: loss = 0.093 | acc = 0.971 | val_loss = 0.162 | val_acc = 0.956 | train_time = 6.407 | tot_time = 6.507\n",
            "Epoch 7: loss = 0.081 | acc = 0.974 | val_loss = 0.123 | val_acc = 0.966 | train_time = 6.439 | tot_time = 6.538\n",
            "Epoch 8: loss = 0.073 | acc = 0.976 | val_loss = 0.142 | val_acc = 0.964 | train_time = 6.442 | tot_time = 6.544\n",
            "Epoch 9: loss = 0.061 | acc = 0.981 | val_loss = 0.135 | val_acc = 0.965 | train_time = 6.406 | tot_time = 6.508\n",
            "\n",
            "\n",
            " ------------------------------------------- \n",
            "\n",
            "\n",
            "Epoch 1: loss = 0.499 | acc = 0.862 | val_loss = 0.274 | val_acc = 0.922 | train_time = 6.502 | tot_time = 6.604\n",
            "Epoch 2: loss = 0.243 | acc = 0.933 | val_loss = 0.234 | val_acc = 0.937 | train_time = 6.487 | tot_time = 6.588\n",
            "Epoch 3: loss = 0.2 | acc = 0.944 | val_loss = 0.195 | val_acc = 0.948 | train_time = 6.414 | tot_time = 6.515\n",
            "Epoch 4: loss = 0.169 | acc = 0.953 | val_loss = 0.172 | val_acc = 0.953 | train_time = 6.4 | tot_time = 6.514\n",
            "Epoch 5: loss = 0.15 | acc = 0.958 | val_loss = 0.192 | val_acc = 0.949 | train_time = 6.425 | tot_time = 6.526\n",
            "Epoch 6: loss = 0.137 | acc = 0.961 | val_loss = 0.184 | val_acc = 0.951 | train_time = 6.431 | tot_time = 6.534\n",
            "Epoch 7: loss = 0.119 | acc = 0.967 | val_loss = 0.15 | val_acc = 0.96 | train_time = 6.429 | tot_time = 6.53\n",
            "Epoch 8: loss = 0.108 | acc = 0.97 | val_loss = 0.18 | val_acc = 0.954 | train_time = 6.465 | tot_time = 6.569\n",
            "Epoch 9: loss = 0.101 | acc = 0.971 | val_loss = 0.193 | val_acc = 0.948 | train_time = 6.482 | tot_time = 6.583\n",
            "\n",
            "\n",
            " ------------------------------------------- \n",
            "\n",
            "\n",
            "Epoch 1: loss = 0.757 | acc = 0.832 | val_loss = 0.441 | val_acc = 0.896 | train_time = 6.435 | tot_time = 6.543\n",
            "Epoch 2: loss = 0.373 | acc = 0.911 | val_loss = 0.3 | val_acc = 0.929 | train_time = 6.371 | tot_time = 6.476\n",
            "Epoch 3: loss = 0.306 | acc = 0.928 | val_loss = 0.296 | val_acc = 0.93 | train_time = 6.375 | tot_time = 6.478\n",
            "Epoch 4: loss = 0.265 | acc = 0.936 | val_loss = 0.271 | val_acc = 0.938 | train_time = 6.447 | tot_time = 6.549\n",
            "Epoch 5: loss = 0.244 | acc = 0.942 | val_loss = 0.349 | val_acc = 0.926 | train_time = 7.846 | tot_time = 7.947\n",
            "Epoch 6: loss = 0.221 | acc = 0.946 | val_loss = 0.353 | val_acc = 0.921 | train_time = 6.502 | tot_time = 6.604\n",
            "Epoch 7: loss = 0.211 | acc = 0.949 | val_loss = 0.213 | val_acc = 0.952 | train_time = 6.298 | tot_time = 6.405\n",
            "Epoch 8: loss = 0.203 | acc = 0.95 | val_loss = 0.193 | val_acc = 0.954 | train_time = 6.413 | tot_time = 6.516\n",
            "Epoch 9: loss = 0.18 | acc = 0.956 | val_loss = 0.203 | val_acc = 0.957 | train_time = 6.366 | tot_time = 6.468\n",
            "\n",
            "\n",
            " ------------------------------------------- \n",
            "\n",
            "\n",
            "Epoch 1: loss = 1.361 | acc = 0.779 | val_loss = 0.475 | val_acc = 0.902 | train_time = 6.435 | tot_time = 6.535\n",
            "Epoch 2: loss = 0.627 | acc = 0.879 | val_loss = 0.631 | val_acc = 0.885 | train_time = 6.37 | tot_time = 6.473\n",
            "Epoch 3: loss = 0.528 | acc = 0.897 | val_loss = 0.685 | val_acc = 0.885 | train_time = 6.275 | tot_time = 6.385\n",
            "Epoch 4: loss = 0.473 | acc = 0.907 | val_loss = 0.433 | val_acc = 0.913 | train_time = 6.359 | tot_time = 6.462\n",
            "Epoch 5: loss = 0.454 | acc = 0.91 | val_loss = 0.416 | val_acc = 0.921 | train_time = 6.449 | tot_time = 6.548\n",
            "Epoch 6: loss = 0.42 | acc = 0.916 | val_loss = 0.496 | val_acc = 0.915 | train_time = 6.473 | tot_time = 6.578\n",
            "Epoch 7: loss = 0.396 | acc = 0.922 | val_loss = 0.355 | val_acc = 0.934 | train_time = 6.349 | tot_time = 6.457\n",
            "Epoch 8: loss = 0.373 | acc = 0.926 | val_loss = 0.43 | val_acc = 0.922 | train_time = 6.479 | tot_time = 6.589\n",
            "Epoch 9: loss = 0.345 | acc = 0.931 | val_loss = 0.287 | val_acc = 0.942 | train_time = 6.399 | tot_time = 6.503\n",
            "\n",
            "\n",
            " ------------------------------------------- \n",
            "\n",
            "\n",
            "Epoch 1: loss = 3.209 | acc = 0.633 | val_loss = 2.721 | val_acc = 0.665 | train_time = 6.367 | tot_time = 6.464\n",
            "Epoch 2: loss = 1.219 | acc = 0.809 | val_loss = 1.027 | val_acc = 0.831 | train_time = 6.265 | tot_time = 6.376\n",
            "Epoch 3: loss = 0.983 | acc = 0.84 | val_loss = 1.232 | val_acc = 0.781 | train_time = 6.317 | tot_time = 6.415\n",
            "Epoch 4: loss = 0.877 | acc = 0.851 | val_loss = 0.575 | val_acc = 0.89 | train_time = 6.364 | tot_time = 6.465\n",
            "Epoch 5: loss = 0.779 | acc = 0.865 | val_loss = 0.533 | val_acc = 0.906 | train_time = 6.361 | tot_time = 6.47\n",
            "Epoch 6: loss = 0.721 | acc = 0.874 | val_loss = 0.571 | val_acc = 0.904 | train_time = 7.678 | tot_time = 7.778\n",
            "Epoch 7: loss = 0.677 | acc = 0.881 | val_loss = 0.587 | val_acc = 0.897 | train_time = 6.312 | tot_time = 6.412\n",
            "Epoch 8: loss = 0.655 | acc = 0.885 | val_loss = 0.516 | val_acc = 0.906 | train_time = 6.349 | tot_time = 6.456\n",
            "Epoch 9: loss = 0.632 | acc = 0.889 | val_loss = 0.597 | val_acc = 0.894 | train_time = 6.28 | tot_time = 6.378\n",
            "\n",
            "\n",
            " ------------------------------------------- \n",
            "\n",
            "\n",
            "Epoch 1: loss = 5.433 | acc = 0.513 | val_loss = 3.322 | val_acc = 0.586 | train_time = 6.411 | tot_time = 6.51\n",
            "Epoch 2: loss = 2.798 | acc = 0.674 | val_loss = 3.13 | val_acc = 0.576 | train_time = 6.394 | tot_time = 6.492\n",
            "Epoch 3: loss = 2.773 | acc = 0.673 | val_loss = 1.848 | val_acc = 0.742 | train_time = 6.302 | tot_time = 6.403\n",
            "Epoch 4: loss = 2.577 | acc = 0.691 | val_loss = 1.614 | val_acc = 0.782 | train_time = 6.385 | tot_time = 6.484\n",
            "Epoch 5: loss = 2.445 | acc = 0.705 | val_loss = 2.719 | val_acc = 0.689 | train_time = 6.51 | tot_time = 6.623\n",
            "Epoch 6: loss = 2.206 | acc = 0.726 | val_loss = 2.319 | val_acc = 0.746 | train_time = 6.425 | tot_time = 6.529\n",
            "Epoch 7: loss = 2.009 | acc = 0.746 | val_loss = 1.214 | val_acc = 0.825 | train_time = 6.369 | tot_time = 6.468\n",
            "Epoch 8: loss = 1.843 | acc = 0.758 | val_loss = 1.692 | val_acc = 0.713 | train_time = 6.315 | tot_time = 6.416\n",
            "Epoch 9: loss = 1.711 | acc = 0.774 | val_loss = 2.221 | val_acc = 0.737 | train_time = 6.235 | tot_time = 6.342\n",
            "\n",
            "\n",
            " ------------------------------------------- \n",
            "\n",
            "\n",
            "Epoch 1: loss = 12.83 | acc = 0.291 | val_loss = 8.413 | val_acc = 0.302 | train_time = 6.23 | tot_time = 6.332\n",
            "Epoch 2: loss = 8.124 | acc = 0.4 | val_loss = 12.732 | val_acc = 0.36 | train_time = 6.261 | tot_time = 6.36\n"
          ]
        },
        {
          "output_type": "stream",
          "name": "stderr",
          "text": [
            "/usr/local/lib/python3.7/dist-packages/ipykernel_launcher.py:17: RuntimeWarning: overflow encountered in exp\n"
          ]
        },
        {
          "output_type": "stream",
          "name": "stdout",
          "text": [
            "Epoch 3: loss = 6.724 | acc = 0.457 | val_loss = 4.935 | val_acc = 0.522 | train_time = 6.102 | tot_time = 6.2\n",
            "Epoch 4: loss = 5.377 | acc = 0.509 | val_loss = 4.493 | val_acc = 0.504 | train_time = 6.234 | tot_time = 6.336\n",
            "Epoch 5: loss = 5.176 | acc = 0.526 | val_loss = 8.329 | val_acc = 0.426 | train_time = 6.281 | tot_time = 6.379\n",
            "Epoch 6: loss = 4.465 | acc = 0.567 | val_loss = 3.274 | val_acc = 0.657 | train_time = 6.421 | tot_time = 6.537\n",
            "Epoch 7: loss = 4.043 | acc = 0.595 | val_loss = 4.651 | val_acc = 0.594 | train_time = 6.378 | tot_time = 6.475\n",
            "Epoch 8: loss = 3.755 | acc = 0.62 | val_loss = 3.585 | val_acc = 0.723 | train_time = 7.486 | tot_time = 7.586\n",
            "Epoch 9: loss = 3.823 | acc = 0.611 | val_loss = 2.511 | val_acc = 0.733 | train_time = 6.249 | tot_time = 6.357\n",
            "\n",
            "\n",
            " ------------------------------------------- \n",
            "\n",
            "\n",
            "Epoch 1: loss = 17.132 | acc = 0.226 | val_loss = 14.515 | val_acc = 0.214 | train_time = 6.164 | tot_time = 6.26\n",
            "Epoch 2: loss = 14.926 | acc = 0.261 | val_loss = 17.53 | val_acc = 0.3 | train_time = 6.175 | tot_time = 6.279\n",
            "Epoch 3: loss = 13.862 | acc = 0.288 | val_loss = 8.011 | val_acc = 0.391 | train_time = 6.3 | tot_time = 6.398\n",
            "Epoch 4: loss = 12.997 | acc = 0.323 | val_loss = 14.163 | val_acc = 0.272 | train_time = 6.367 | tot_time = 6.479\n",
            "Epoch 5: loss = 13.72 | acc = 0.291 | val_loss = 22.402 | val_acc = 0.251 | train_time = 6.323 | tot_time = 6.422\n",
            "Epoch 6: loss = 13.362 | acc = 0.298 | val_loss = 8.983 | val_acc = 0.356 | train_time = 6.51 | tot_time = 6.61\n",
            "Epoch 7: loss = 12.452 | acc = 0.323 | val_loss = 16.209 | val_acc = 0.332 | train_time = 6.469 | tot_time = 6.567\n",
            "Epoch 8: loss = 13.508 | acc = 0.29 | val_loss = 13.834 | val_acc = 0.302 | train_time = 6.462 | tot_time = 6.564\n",
            "Epoch 9: loss = 12.695 | acc = 0.311 | val_loss = 9.189 | val_acc = 0.258 | train_time = 6.537 | tot_time = 6.636\n",
            "\n",
            "\n",
            " ------------------------------------------- \n",
            "\n",
            "\n"
          ]
        },
        {
          "output_type": "display_data",
          "data": {
            "text/plain": [
              "<Figure size 432x288 with 1 Axes>"
            ],
            "image/png": "[encoded data removed]"
          },
          "metadata": {
            "needs_background": "light"
          }
        }
      ],
      "source": [
        "lr_vector, val_loss_vector, train_loss_vector = optimize_lr()\n",
        "\n",
        "plt.plot(lr_vector, val_loss_vector, label='Validation Loss')\n",
        "plt.plot(lr_vector, train_loss_vector, label='Training Loss')\n",
        "plt.xlabel(\"Learning Rate\")\n",
        "plt.ylabel(\"Loss\")\n",
        "plt.legend()\n",
        "plt.show()"
      ]
    },
    {
      "cell_type": "markdown",
      "metadata": {
        "id": "jBoPH2ho-esz"
      },
      "source": [
        "### Experiment setup:\n",
        "1. We train the model for varying learning rates, starting from lr=0.1 and increasing it everytime by 0.1 up till max lr=1 or till model validation loss values are not nan/inf.\n",
        "\n",
        "2. We record the model validation and training loss for each of these learning rates and plot a graph of Loss vs Learning Rate to see its trend.\n",
        "\n",
        "3. Every other parameter remains constant.\n",
        "\n",
        "### Analysis\n",
        "\n",
        "- From the graph in the above cell we see that after a certain learning rate, both training and validation loss increases exponentially. This means that the model has stopped learning and has diverged.\n",
        "\n",
        "- Using the elbow method, we find optimal learning rate to be <= 0.5. After this, the model starts to diverge and hence loss increases.\n",
        "\n",
        "- Thus, increasing the learning rate increases the chances of the model converging faster, upto a certain point, after which it causes the model learning to diverge.\n",
        "\n"
      ]
    },
    {
      "cell_type": "markdown",
      "metadata": {
        "id": "MVjLm0vcuzhJ"
      },
      "source": [
        "## 2. Change no. of layers"
      ]
    },
    {
      "cell_type": "code",
      "execution_count": 24,
      "metadata": {
        "id": "-v_ba4Eayj2D"
      },
      "outputs": [],
      "source": [
        "# === Complete the code (2')\n",
        "def optimize_layers(max_layer=6):\n",
        "  layer = 1 ## Initial layer size\n",
        "  val_loss_vector = []\n",
        "  train_loss_vector = []\n",
        "  layer_vector = []\n",
        "\n",
        "  # keeping num_epochs, no. of neurons constant\n",
        "  while layer < max_layer:\n",
        "    model = MLP(X_train, Y_train, X_test, Y_test, L=layer, N_l=64)\n",
        "    model.train(batch_size=8, epochs=9, lr=0.5)\n",
        "    \n",
        "    if model.val_loss[-1] == float('inf') or math.isnan(model.val_loss[-1]):\n",
        "      break\n",
        "\n",
        "    layer_vector.append(layer)\n",
        "    val_loss_vector.append(model.val_loss[-1])\n",
        "    train_loss_vector.append(model.train_loss[-1])\n",
        "    layer += 1 # Increase layer linearly for each iteration\n",
        "\n",
        "    print(\"\\n\\n ------------------------------------------- \\n\\n\")\n",
        "\n",
        "  return layer_vector, val_loss_vector, train_loss_vector\n",
        "# === Complete the code"
      ]
    },
    {
      "cell_type": "code",
      "execution_count": 26,
      "metadata": {
        "colab": {
          "base_uri": "https://localhost:8080/",
          "height": 1000
        },
        "id": "ionNCRwPyj6n",
        "outputId": "043219ae-d777-4ce8-adda-53c82369c9b4"
      },
      "outputs": [
        {
          "output_type": "stream",
          "name": "stderr",
          "text": [
            "/usr/local/lib/python3.7/dist-packages/ipykernel_launcher.py:47: VisibleDeprecationWarning: Creating an ndarray from ragged nested sequences (which is a list-or-tuple of lists-or-tuples-or ndarrays with different lengths or shapes) is deprecated. If you meant to do this, you must specify 'dtype=object' when creating the ndarray.\n"
          ]
        },
        {
          "output_type": "stream",
          "name": "stdout",
          "text": [
            "Epoch 1: loss = 0.409 | acc = 0.885 | val_loss = 0.349 | val_acc = 0.907 | train_time = 5.787 | tot_time = 5.867\n",
            "Epoch 2: loss = 0.228 | acc = 0.937 | val_loss = 0.195 | val_acc = 0.945 | train_time = 5.593 | tot_time = 5.68\n",
            "Epoch 3: loss = 0.184 | acc = 0.949 | val_loss = 0.178 | val_acc = 0.948 | train_time = 5.69 | tot_time = 5.768\n",
            "Epoch 4: loss = 0.157 | acc = 0.956 | val_loss = 0.182 | val_acc = 0.95 | train_time = 6.893 | tot_time = 6.974\n",
            "Epoch 5: loss = 0.139 | acc = 0.96 | val_loss = 0.154 | val_acc = 0.957 | train_time = 5.81 | tot_time = 5.894\n",
            "Epoch 6: loss = 0.125 | acc = 0.964 | val_loss = 0.179 | val_acc = 0.953 | train_time = 5.724 | tot_time = 5.803\n",
            "Epoch 7: loss = 0.109 | acc = 0.968 | val_loss = 0.141 | val_acc = 0.962 | train_time = 5.664 | tot_time = 5.747\n",
            "Epoch 8: loss = 0.102 | acc = 0.97 | val_loss = 0.147 | val_acc = 0.965 | train_time = 5.72 | tot_time = 5.797\n",
            "Epoch 9: loss = 0.095 | acc = 0.972 | val_loss = 0.196 | val_acc = 0.954 | train_time = 5.649 | tot_time = 5.729\n",
            "\n",
            "\n",
            " ------------------------------------------- \n",
            "\n",
            "\n",
            "Epoch 1: loss = 0.74 | acc = 0.84 | val_loss = 0.329 | val_acc = 0.925 | train_time = 6.362 | tot_time = 6.462\n",
            "Epoch 2: loss = 0.36 | acc = 0.916 | val_loss = 0.576 | val_acc = 0.877 | train_time = 6.341 | tot_time = 6.439\n",
            "Epoch 3: loss = 0.298 | acc = 0.929 | val_loss = 0.438 | val_acc = 0.902 | train_time = 6.285 | tot_time = 6.392\n",
            "Epoch 4: loss = 0.263 | acc = 0.937 | val_loss = 0.238 | val_acc = 0.946 | train_time = 6.267 | tot_time = 6.379\n",
            "Epoch 5: loss = 0.237 | acc = 0.944 | val_loss = 0.243 | val_acc = 0.942 | train_time = 6.2 | tot_time = 6.3\n",
            "Epoch 6: loss = 0.211 | acc = 0.949 | val_loss = 0.225 | val_acc = 0.954 | train_time = 6.219 | tot_time = 6.315\n",
            "Epoch 7: loss = 0.197 | acc = 0.953 | val_loss = 0.333 | val_acc = 0.927 | train_time = 6.21 | tot_time = 6.316\n",
            "Epoch 8: loss = 0.185 | acc = 0.955 | val_loss = 0.279 | val_acc = 0.937 | train_time = 6.247 | tot_time = 6.349\n",
            "Epoch 9: loss = 0.175 | acc = 0.957 | val_loss = 0.222 | val_acc = 0.952 | train_time = 6.384 | tot_time = 6.484\n",
            "\n",
            "\n",
            " ------------------------------------------- \n",
            "\n",
            "\n",
            "Epoch 1: loss = 1.25 | acc = 0.774 | val_loss = 0.838 | val_acc = 0.843 | train_time = 8.151 | tot_time = 8.277\n",
            "Epoch 2: loss = 0.467 | acc = 0.897 | val_loss = 0.304 | val_acc = 0.932 | train_time = 6.952 | tot_time = 7.071\n",
            "Epoch 3: loss = 0.398 | acc = 0.912 | val_loss = 0.417 | val_acc = 0.913 | train_time = 6.861 | tot_time = 6.979\n",
            "Epoch 4: loss = 0.362 | acc = 0.92 | val_loss = 0.27 | val_acc = 0.941 | train_time = 6.882 | tot_time = 7.007\n",
            "Epoch 5: loss = 0.333 | acc = 0.927 | val_loss = 0.26 | val_acc = 0.942 | train_time = 6.85 | tot_time = 6.969\n",
            "Epoch 6: loss = 0.296 | acc = 0.933 | val_loss = 0.249 | val_acc = 0.941 | train_time = 6.864 | tot_time = 6.981\n",
            "Epoch 7: loss = 0.286 | acc = 0.937 | val_loss = 0.416 | val_acc = 0.921 | train_time = 6.817 | tot_time = 6.936\n",
            "Epoch 8: loss = 0.29 | acc = 0.936 | val_loss = 0.283 | val_acc = 0.938 | train_time = 6.744 | tot_time = 6.867\n",
            "Epoch 9: loss = 0.275 | acc = 0.94 | val_loss = 0.37 | val_acc = 0.931 | train_time = 6.796 | tot_time = 6.929\n",
            "\n",
            "\n",
            " ------------------------------------------- \n",
            "\n",
            "\n",
            "Epoch 1: loss = 1.849 | acc = 0.693 | val_loss = 0.637 | val_acc = 0.879 | train_time = 7.57 | tot_time = 7.708\n",
            "Epoch 2: loss = 0.684 | acc = 0.862 | val_loss = 0.433 | val_acc = 0.905 | train_time = 7.4 | tot_time = 7.55\n",
            "Epoch 3: loss = 0.561 | acc = 0.885 | val_loss = 0.542 | val_acc = 0.877 | train_time = 7.516 | tot_time = 7.66\n",
            "Epoch 4: loss = 0.492 | acc = 0.897 | val_loss = 0.467 | val_acc = 0.905 | train_time = 7.393 | tot_time = 7.531\n",
            "Epoch 5: loss = 0.459 | acc = 0.905 | val_loss = 0.315 | val_acc = 0.936 | train_time = 7.453 | tot_time = 7.596\n",
            "Epoch 6: loss = 0.431 | acc = 0.91 | val_loss = 0.451 | val_acc = 0.918 | train_time = 7.38 | tot_time = 7.523\n",
            "Epoch 7: loss = 0.418 | acc = 0.914 | val_loss = 0.416 | val_acc = 0.921 | train_time = 7.436 | tot_time = 7.581\n",
            "Epoch 8: loss = 0.412 | acc = 0.915 | val_loss = 0.32 | val_acc = 0.937 | train_time = 7.476 | tot_time = 7.621\n",
            "Epoch 9: loss = 0.383 | acc = 0.92 | val_loss = 0.332 | val_acc = 0.933 | train_time = 8.647 | tot_time = 8.787\n",
            "\n",
            "\n",
            " ------------------------------------------- \n",
            "\n",
            "\n",
            "Epoch 1: loss = 5.598 | acc = 0.262 | val_loss = 5.528 | val_acc = 0.29 | train_time = 7.94 | tot_time = 8.1\n",
            "Epoch 2: loss = 5.343 | acc = 0.292 | val_loss = 3.352 | val_acc = 0.348 | train_time = 7.941 | tot_time = 8.103\n",
            "Epoch 3: loss = 7.969 | acc = 0.187 | val_loss = 13.71 | val_acc = 0.098 | train_time = 7.945 | tot_time = 8.121\n",
            "Epoch 4: loss = 10.671 | acc = 0.11 | val_loss = 11.12 | val_acc = 0.098 | train_time = 7.966 | tot_time = 8.143\n",
            "Epoch 5: loss = 11.058 | acc = 0.101 | val_loss = 9.292 | val_acc = 0.098 | train_time = 7.917 | tot_time = 8.087\n",
            "Epoch 6: loss = 11.03 | acc = 0.101 | val_loss = 12.331 | val_acc = 0.101 | train_time = 7.953 | tot_time = 8.121\n",
            "Epoch 7: loss = 11.019 | acc = 0.101 | val_loss = 14.633 | val_acc = 0.103 | train_time = 8.068 | tot_time = 8.235\n",
            "Epoch 8: loss = 11.084 | acc = 0.099 | val_loss = 13.87 | val_acc = 0.101 | train_time = 7.987 | tot_time = 8.159\n",
            "Epoch 9: loss = 10.062 | acc = 0.133 | val_loss = 7.534 | val_acc = 0.203 | train_time = 8.0 | tot_time = 8.17\n",
            "\n",
            "\n",
            " ------------------------------------------- \n",
            "\n",
            "\n"
          ]
        },
        {
          "output_type": "display_data",
          "data": {
            "text/plain": [
              "<Figure size 432x288 with 1 Axes>"
            ],
            "image/png": "[encoded data removed]"
          },
          "metadata": {
            "needs_background": "light"
          }
        }
      ],
      "source": [
        "layer_vector, val_loss_vector, train_loss_vector = optimize_layers()\n",
        "\n",
        "plt.plot(layer_vector, val_loss_vector, label='Validation Loss')\n",
        "plt.plot(layer_vector, train_loss_vector, label='Training Loss')\n",
        "plt.xlabel(\"No. of layers\")\n",
        "plt.ylabel(\"Loss\")\n",
        "plt.legend()\n",
        "plt.show()"
      ]
    },
    {
      "cell_type": "markdown",
      "metadata": {
        "id": "iKTucdFyOiO-"
      },
      "source": [
        "### Experiment setup:\n",
        "1. We train the model for varying no. of layers, starting from layer=1 and increasing it everytime by 1 up till max no. of layer = 5 or till model validation loss values are not nan/inf.\n",
        "\n",
        "2. We record the model validation and training loss for each of these layers and plot a graph of Loss vs No. of layers to see its trend.\n",
        "\n",
        "3. Every other parameter remains constant.\n",
        "\n",
        "### Analysis\n",
        "\n",
        "- From the graph in the above cell we see that after certain no. of layers, both training and validation loss increases steeply. This means that the model has stopped learning and has diverged (underfitting).\n",
        "\n",
        "- Using the elbow method, we find optimal no. of layers to be <= 2. After this, the model starts to diverge and hence loss increases. However, we shall choose the highest no. of layers before which the model starts to diverge, i.e., `L=2`.\n",
        "\n",
        "- Although we could've chosen a neural network with just 1 hidden layer, a deeper network seems to result in better generalization. That is, the prediction problem of MNIST data can be modelled as a composition of several simpler functions, thereby learning more underlying aspects of the input data. This means that the model can be expected to perform better on wider unseen data.\n",
        "\n",
        "- This is validated by the graph above as both training and validation loss are comparable for `L=2`.\n"
      ]
    },
    {
      "cell_type": "markdown",
      "metadata": {
        "id": "BP9hpf0Z1kuD"
      },
      "source": [
        "## 3. Change amount of training data"
      ]
    },
    {
      "cell_type": "code",
      "execution_count": 30,
      "metadata": {
        "id": "LbL5anyJ1kFT"
      },
      "outputs": [],
      "source": [
        "# === Complete the code (2')\n",
        "def analyse_training_data_amount():\n",
        "  val_loss_vector = []\n",
        "  train_loss_vector = []\n",
        "  tdata_vector = []\n",
        "  x = 6000\n",
        "\n",
        "  # keeping num_epochs, no. of neurons constant\n",
        "  while x <= 60000:\n",
        "    model = MLP(X_train[:x], Y_train[:x], X_test, Y_test, L=2, N_l=64)\n",
        "    model.train(batch_size=8, epochs=9, lr=0.5)\n",
        "    \n",
        "    if model.val_loss[-1] == float('inf') or math.isnan(model.val_loss[-1]):\n",
        "      break\n",
        "\n",
        "    tdata_vector.append(100 * x/60000)\n",
        "    val_loss_vector.append(model.val_loss[-1])\n",
        "    train_loss_vector.append(model.train_loss[-1])\n",
        "    x += 6000 # Increase data amount linearly for each iteration\n",
        "\n",
        "    print(\"\\n\\n ------------------------------------------- \\n\\n\")\n",
        "\n",
        "  return tdata_vector, val_loss_vector, train_loss_vector\n",
        "# === Complete the code"
      ]
    },
    {
      "cell_type": "code",
      "execution_count": 32,
      "metadata": {
        "colab": {
          "base_uri": "https://localhost:8080/",
          "height": 1000
        },
        "id": "l7IOdrYK1kKd",
        "outputId": "9b39de88-8e1c-4921-ebcd-917a9c0f462c"
      },
      "outputs": [
        {
          "output_type": "stream",
          "name": "stderr",
          "text": [
            "/usr/local/lib/python3.7/dist-packages/ipykernel_launcher.py:47: VisibleDeprecationWarning: Creating an ndarray from ragged nested sequences (which is a list-or-tuple of lists-or-tuples-or ndarrays with different lengths or shapes) is deprecated. If you meant to do this, you must specify 'dtype=object' when creating the ndarray.\n"
          ]
        },
        {
          "output_type": "stream",
          "name": "stdout",
          "text": [
            "Epoch 1: loss = 1.952 | acc = 0.598 | val_loss = 0.734 | val_acc = 0.808 | train_time = 0.666 | tot_time = 0.783\n",
            "Epoch 2: loss = 0.637 | acc = 0.834 | val_loss = 0.55 | val_acc = 0.851 | train_time = 0.641 | tot_time = 0.744\n",
            "Epoch 3: loss = 0.446 | acc = 0.883 | val_loss = 0.48 | val_acc = 0.878 | train_time = 0.664 | tot_time = 0.769\n",
            "Epoch 4: loss = 0.324 | acc = 0.912 | val_loss = 0.566 | val_acc = 0.86 | train_time = 0.658 | tot_time = 0.758\n",
            "Epoch 5: loss = 0.24 | acc = 0.936 | val_loss = 0.406 | val_acc = 0.909 | train_time = 0.641 | tot_time = 0.754\n",
            "Epoch 6: loss = 0.205 | acc = 0.946 | val_loss = 0.34 | val_acc = 0.918 | train_time = 0.678 | tot_time = 0.784\n",
            "Epoch 7: loss = 0.169 | acc = 0.95 | val_loss = 0.431 | val_acc = 0.903 | train_time = 0.643 | tot_time = 0.747\n",
            "Epoch 8: loss = 0.142 | acc = 0.96 | val_loss = 0.437 | val_acc = 0.904 | train_time = 0.683 | tot_time = 0.784\n",
            "Epoch 9: loss = 0.119 | acc = 0.966 | val_loss = 0.367 | val_acc = 0.915 | train_time = 0.635 | tot_time = 0.74\n",
            "\n",
            "\n",
            " ------------------------------------------- \n",
            "\n",
            "\n",
            "Epoch 1: loss = 1.307 | acc = 0.718 | val_loss = 0.554 | val_acc = 0.856 | train_time = 1.266 | tot_time = 1.37\n",
            "Epoch 2: loss = 0.48 | acc = 0.876 | val_loss = 0.356 | val_acc = 0.912 | train_time = 1.288 | tot_time = 1.39\n",
            "Epoch 3: loss = 0.341 | acc = 0.911 | val_loss = 0.605 | val_acc = 0.865 | train_time = 1.274 | tot_time = 1.384\n",
            "Epoch 4: loss = 0.287 | acc = 0.924 | val_loss = 0.425 | val_acc = 0.897 | train_time = 1.278 | tot_time = 1.378\n",
            "Epoch 5: loss = 0.252 | acc = 0.935 | val_loss = 0.378 | val_acc = 0.916 | train_time = 1.271 | tot_time = 1.37\n",
            "Epoch 6: loss = 0.214 | acc = 0.942 | val_loss = 0.333 | val_acc = 0.926 | train_time = 1.291 | tot_time = 1.391\n",
            "Epoch 7: loss = 0.178 | acc = 0.952 | val_loss = 0.328 | val_acc = 0.925 | train_time = 1.287 | tot_time = 1.392\n",
            "Epoch 8: loss = 0.159 | acc = 0.956 | val_loss = 0.336 | val_acc = 0.928 | train_time = 1.307 | tot_time = 1.408\n",
            "Epoch 9: loss = 0.133 | acc = 0.963 | val_loss = 0.371 | val_acc = 0.924 | train_time = 1.292 | tot_time = 1.393\n",
            "\n",
            "\n",
            " ------------------------------------------- \n",
            "\n",
            "\n",
            "Epoch 1: loss = 1.264 | acc = 0.734 | val_loss = 0.713 | val_acc = 0.842 | train_time = 1.909 | tot_time = 2.011\n",
            "Epoch 2: loss = 0.494 | acc = 0.881 | val_loss = 0.445 | val_acc = 0.899 | train_time = 1.876 | tot_time = 1.977\n",
            "Epoch 3: loss = 0.362 | acc = 0.909 | val_loss = 0.353 | val_acc = 0.916 | train_time = 1.94 | tot_time = 2.043\n",
            "Epoch 4: loss = 0.311 | acc = 0.923 | val_loss = 0.425 | val_acc = 0.907 | train_time = 1.946 | tot_time = 2.047\n",
            "Epoch 5: loss = 0.265 | acc = 0.933 | val_loss = 0.285 | val_acc = 0.932 | train_time = 1.936 | tot_time = 2.043\n",
            "Epoch 6: loss = 0.235 | acc = 0.941 | val_loss = 0.277 | val_acc = 0.938 | train_time = 1.92 | tot_time = 2.023\n",
            "Epoch 7: loss = 0.232 | acc = 0.941 | val_loss = 0.374 | val_acc = 0.914 | train_time = 1.904 | tot_time = 2.008\n",
            "Epoch 8: loss = 0.203 | acc = 0.95 | val_loss = 0.368 | val_acc = 0.924 | train_time = 1.911 | tot_time = 2.013\n",
            "Epoch 9: loss = 0.185 | acc = 0.953 | val_loss = 0.3 | val_acc = 0.936 | train_time = 1.889 | tot_time = 2.004\n",
            "\n",
            "\n",
            " ------------------------------------------- \n",
            "\n",
            "\n",
            "Epoch 1: loss = 1.14 | acc = 0.77 | val_loss = 0.56 | val_acc = 0.871 | train_time = 2.528 | tot_time = 2.632\n",
            "Epoch 2: loss = 0.463 | acc = 0.89 | val_loss = 0.306 | val_acc = 0.924 | train_time = 2.543 | tot_time = 2.644\n",
            "Epoch 3: loss = 0.364 | acc = 0.915 | val_loss = 0.397 | val_acc = 0.904 | train_time = 2.494 | tot_time = 2.594\n",
            "Epoch 4: loss = 0.323 | acc = 0.924 | val_loss = 0.387 | val_acc = 0.916 | train_time = 2.568 | tot_time = 2.667\n",
            "Epoch 5: loss = 0.277 | acc = 0.935 | val_loss = 0.337 | val_acc = 0.919 | train_time = 2.543 | tot_time = 2.644\n",
            "Epoch 6: loss = 0.246 | acc = 0.94 | val_loss = 0.338 | val_acc = 0.925 | train_time = 2.54 | tot_time = 2.638\n",
            "Epoch 7: loss = 0.206 | acc = 0.948 | val_loss = 0.254 | val_acc = 0.944 | train_time = 2.557 | tot_time = 2.658\n",
            "Epoch 8: loss = 0.183 | acc = 0.954 | val_loss = 0.259 | val_acc = 0.944 | train_time = 2.513 | tot_time = 2.611\n",
            "Epoch 9: loss = 0.184 | acc = 0.953 | val_loss = 0.265 | val_acc = 0.939 | train_time = 2.49 | tot_time = 2.588\n",
            "\n",
            "\n",
            " ------------------------------------------- \n",
            "\n",
            "\n",
            "Epoch 1: loss = 0.886 | acc = 0.799 | val_loss = 1.025 | val_acc = 0.771 | train_time = 3.156 | tot_time = 3.255\n",
            "Epoch 2: loss = 0.4 | acc = 0.902 | val_loss = 0.309 | val_acc = 0.922 | train_time = 3.116 | tot_time = 3.215\n",
            "Epoch 3: loss = 0.313 | acc = 0.923 | val_loss = 0.305 | val_acc = 0.923 | train_time = 3.109 | tot_time = 3.208\n",
            "Epoch 4: loss = 0.277 | acc = 0.931 | val_loss = 0.268 | val_acc = 0.933 | train_time = 3.133 | tot_time = 3.235\n",
            "Epoch 5: loss = 0.24 | acc = 0.941 | val_loss = 0.217 | val_acc = 0.948 | train_time = 3.111 | tot_time = 3.211\n",
            "Epoch 6: loss = 0.203 | acc = 0.948 | val_loss = 0.275 | val_acc = 0.939 | train_time = 3.15 | tot_time = 3.256\n",
            "Epoch 7: loss = 0.198 | acc = 0.95 | val_loss = 0.309 | val_acc = 0.933 | train_time = 3.147 | tot_time = 3.246\n",
            "Epoch 8: loss = 0.179 | acc = 0.953 | val_loss = 0.266 | val_acc = 0.94 | train_time = 3.195 | tot_time = 3.303\n",
            "Epoch 9: loss = 0.157 | acc = 0.961 | val_loss = 0.252 | val_acc = 0.944 | train_time = 4.471 | tot_time = 4.57\n",
            "\n",
            "\n",
            " ------------------------------------------- \n",
            "\n",
            "\n",
            "Epoch 1: loss = 0.93 | acc = 0.804 | val_loss = 0.336 | val_acc = 0.91 | train_time = 3.812 | tot_time = 3.921\n",
            "Epoch 2: loss = 0.41 | acc = 0.902 | val_loss = 0.336 | val_acc = 0.922 | train_time = 3.787 | tot_time = 3.89\n",
            "Epoch 3: loss = 0.337 | acc = 0.921 | val_loss = 0.561 | val_acc = 0.88 | train_time = 3.78 | tot_time = 3.878\n",
            "Epoch 4: loss = 0.289 | acc = 0.93 | val_loss = 0.379 | val_acc = 0.914 | train_time = 3.804 | tot_time = 3.903\n",
            "Epoch 5: loss = 0.268 | acc = 0.937 | val_loss = 0.455 | val_acc = 0.903 | train_time = 3.791 | tot_time = 3.895\n",
            "Epoch 6: loss = 0.242 | acc = 0.941 | val_loss = 0.252 | val_acc = 0.939 | train_time = 3.745 | tot_time = 3.858\n",
            "Epoch 7: loss = 0.228 | acc = 0.945 | val_loss = 0.365 | val_acc = 0.921 | train_time = 3.806 | tot_time = 3.911\n",
            "Epoch 8: loss = 0.223 | acc = 0.946 | val_loss = 0.239 | val_acc = 0.946 | train_time = 3.847 | tot_time = 3.946\n",
            "Epoch 9: loss = 0.19 | acc = 0.953 | val_loss = 0.226 | val_acc = 0.95 | train_time = 3.827 | tot_time = 3.928\n",
            "\n",
            "\n",
            " ------------------------------------------- \n",
            "\n",
            "\n",
            "Epoch 1: loss = 0.894 | acc = 0.807 | val_loss = 0.776 | val_acc = 0.825 | train_time = 4.362 | tot_time = 4.472\n",
            "Epoch 2: loss = 0.391 | acc = 0.905 | val_loss = 0.514 | val_acc = 0.863 | train_time = 4.418 | tot_time = 4.519\n",
            "Epoch 3: loss = 0.309 | acc = 0.924 | val_loss = 0.296 | val_acc = 0.926 | train_time = 4.396 | tot_time = 4.499\n",
            "Epoch 4: loss = 0.281 | acc = 0.932 | val_loss = 0.26 | val_acc = 0.939 | train_time = 4.462 | tot_time = 4.559\n",
            "Epoch 5: loss = 0.241 | acc = 0.94 | val_loss = 0.319 | val_acc = 0.928 | train_time = 4.496 | tot_time = 4.6\n",
            "Epoch 6: loss = 0.216 | acc = 0.946 | val_loss = 0.24 | val_acc = 0.947 | train_time = 4.441 | tot_time = 4.537\n",
            "Epoch 7: loss = 0.2 | acc = 0.949 | val_loss = 0.215 | val_acc = 0.948 | train_time = 4.395 | tot_time = 4.497\n",
            "Epoch 8: loss = 0.191 | acc = 0.952 | val_loss = 0.187 | val_acc = 0.954 | train_time = 4.422 | tot_time = 4.521\n",
            "Epoch 9: loss = 0.183 | acc = 0.954 | val_loss = 0.251 | val_acc = 0.94 | train_time = 4.455 | tot_time = 4.554\n",
            "\n",
            "\n",
            " ------------------------------------------- \n",
            "\n",
            "\n",
            "Epoch 1: loss = 0.721 | acc = 0.834 | val_loss = 0.38 | val_acc = 0.912 | train_time = 5.102 | tot_time = 5.202\n",
            "Epoch 2: loss = 0.347 | acc = 0.915 | val_loss = 0.241 | val_acc = 0.942 | train_time = 5.079 | tot_time = 5.176\n",
            "Epoch 3: loss = 0.275 | acc = 0.932 | val_loss = 0.334 | val_acc = 0.92 | train_time = 5.07 | tot_time = 5.17\n",
            "Epoch 4: loss = 0.238 | acc = 0.942 | val_loss = 0.217 | val_acc = 0.949 | train_time = 5.086 | tot_time = 5.199\n",
            "Epoch 5: loss = 0.21 | acc = 0.948 | val_loss = 0.207 | val_acc = 0.944 | train_time = 5.051 | tot_time = 5.169\n",
            "Epoch 6: loss = 0.202 | acc = 0.95 | val_loss = 0.205 | val_acc = 0.951 | train_time = 4.977 | tot_time = 5.086\n",
            "Epoch 7: loss = 0.179 | acc = 0.955 | val_loss = 0.219 | val_acc = 0.953 | train_time = 4.986 | tot_time = 5.098\n",
            "Epoch 8: loss = 0.178 | acc = 0.956 | val_loss = 0.18 | val_acc = 0.958 | train_time = 5.085 | tot_time = 5.185\n",
            "Epoch 9: loss = 0.161 | acc = 0.959 | val_loss = 0.189 | val_acc = 0.958 | train_time = 5.061 | tot_time = 5.161\n",
            "\n",
            "\n",
            " ------------------------------------------- \n",
            "\n",
            "\n",
            "Epoch 1: loss = 1.035 | acc = 0.8 | val_loss = 0.528 | val_acc = 0.87 | train_time = 6.909 | tot_time = 7.022\n",
            "Epoch 2: loss = 0.424 | acc = 0.902 | val_loss = 0.304 | val_acc = 0.928 | train_time = 5.761 | tot_time = 5.862\n",
            "Epoch 3: loss = 0.348 | acc = 0.919 | val_loss = 0.298 | val_acc = 0.928 | train_time = 5.644 | tot_time = 5.745\n",
            "Epoch 4: loss = 0.315 | acc = 0.926 | val_loss = 0.268 | val_acc = 0.934 | train_time = 5.689 | tot_time = 5.795\n",
            "Epoch 5: loss = 0.276 | acc = 0.935 | val_loss = 0.248 | val_acc = 0.943 | train_time = 5.668 | tot_time = 5.767\n",
            "Epoch 6: loss = 0.256 | acc = 0.939 | val_loss = 0.387 | val_acc = 0.921 | train_time = 5.66 | tot_time = 5.763\n",
            "Epoch 7: loss = 0.238 | acc = 0.944 | val_loss = 0.326 | val_acc = 0.932 | train_time = 5.642 | tot_time = 5.746\n",
            "Epoch 8: loss = 0.23 | acc = 0.945 | val_loss = 0.219 | val_acc = 0.951 | train_time = 5.584 | tot_time = 5.691\n",
            "Epoch 9: loss = 0.216 | acc = 0.948 | val_loss = 0.245 | val_acc = 0.947 | train_time = 5.688 | tot_time = 5.783\n",
            "\n",
            "\n",
            " ------------------------------------------- \n",
            "\n",
            "\n",
            "Epoch 1: loss = 0.819 | acc = 0.831 | val_loss = 0.291 | val_acc = 0.933 | train_time = 6.269 | tot_time = 6.367\n",
            "Epoch 2: loss = 0.365 | acc = 0.914 | val_loss = 0.453 | val_acc = 0.896 | train_time = 6.234 | tot_time = 6.334\n",
            "Epoch 3: loss = 0.299 | acc = 0.93 | val_loss = 0.319 | val_acc = 0.929 | train_time = 6.328 | tot_time = 6.427\n",
            "Epoch 4: loss = 0.259 | acc = 0.938 | val_loss = 0.223 | val_acc = 0.95 | train_time = 6.3 | tot_time = 6.399\n",
            "Epoch 5: loss = 0.247 | acc = 0.941 | val_loss = 0.229 | val_acc = 0.951 | train_time = 6.348 | tot_time = 6.446\n",
            "Epoch 6: loss = 0.228 | acc = 0.947 | val_loss = 0.271 | val_acc = 0.938 | train_time = 6.305 | tot_time = 6.43\n",
            "Epoch 7: loss = 0.211 | acc = 0.95 | val_loss = 0.201 | val_acc = 0.954 | train_time = 6.241 | tot_time = 6.344\n",
            "Epoch 8: loss = 0.203 | acc = 0.952 | val_loss = 0.216 | val_acc = 0.952 | train_time = 6.267 | tot_time = 6.364\n",
            "Epoch 9: loss = 0.184 | acc = 0.956 | val_loss = 0.239 | val_acc = 0.946 | train_time = 6.308 | tot_time = 6.405\n",
            "\n",
            "\n",
            " ------------------------------------------- \n",
            "\n",
            "\n"
          ]
        },
        {
          "output_type": "display_data",
          "data": {
            "text/plain": [
              "<Figure size 432x288 with 1 Axes>"
            ],
            "image/png": "[encoded data removed]"
          },
          "metadata": {
            "needs_background": "light"
          }
        }
      ],
      "source": [
        "tdata_vector, val_loss_vector, train_loss_vector = analyse_training_data_amount()\n",
        "\n",
        "plt.plot(tdata_vector, val_loss_vector, label='Validation Loss')\n",
        "plt.plot(tdata_vector, train_loss_vector, label='Training Loss')\n",
        "plt.xlabel(\"% training data used\")\n",
        "plt.ylabel(\"Loss\")\n",
        "plt.legend()\n",
        "plt.show()"
      ]
    },
    {
      "cell_type": "markdown",
      "metadata": {
        "id": "2OVJVenpPhAE"
      },
      "source": [
        "### Experiment setup:\n",
        "1. We train the model for varying amount of training data, starting from 10% of training data (6000 samples) and increasing it everytime by 6000 up till 60,000 samples or till model validation loss values are not nan/inf.\n",
        "\n",
        "2. We record the model validation and training loss for each of these layers and plot a graph of Loss vs % of training data to see its trend.\n",
        "\n",
        "3. Every other parameter remains constant.\n",
        "\n",
        "### Analysis\n",
        "\n",
        "- The training loss is the least with 10% data, however the validation loss is the maximum with 10% data. This means that the model overfitted extremly on the small amount of training data.\n",
        "\n",
        "- The training and validation loss starts to converge with increasing amount of data. This shows that by increasing the training data, the model is able to achieve better generalization, as its able to learn more. \n",
        "\n",
        "- In general, neural networks work better with as much training data as possible. "
      ]
    },
    {
      "cell_type": "markdown",
      "metadata": {
        "id": "hq6eF7KSX7oS"
      },
      "source": [
        "Write down your analysis and conclusions:\n",
        "\n"
      ]
    },
    {
      "cell_type": "markdown",
      "metadata": {
        "id": "UwprtbLqL12q"
      },
      "source": [
        "- Increasing the learning rate increases the chances of the model converging faster, upto a certain point, after which it causes the model learning to diverge.\n",
        "\n",
        "- A deeper network seems to result in better generalization. Therefore, increasing the no. of layers or no. of neurons in a layer can help to create non-linear decision boundaries in the k-th dimension. However, increasing too many layers or no. of neurons in a layer for a fixed set of training data can result in underfitting as there isn't sufficient data to train all the neurons.\n",
        "\n",
        "- By increasing the training data, the model is able to achieve better generalization, as its able to learn more."
      ]
    }
  ],
  "metadata": {
    "accelerator": "GPU",
    "colab": {
      "collapsed_sections": [],
      "provenance": []
    },
    "gpuClass": "standard",
    "kernelspec": {
      "display_name": "Python 3 (ipykernel)",
      "language": "python",
      "name": "python3"
    },
    "language_info": {
      "codemirror_mode": {
        "name": "ipython",
        "version": 3
      },
      "file_extension": ".py",
      "mimetype": "text/x-python",
      "name": "python",
      "nbconvert_exporter": "python",
      "pygments_lexer": "ipython3",
      "version": "3.10.6"
    }
  },
  "nbformat": 4,
  "nbformat_minor": 0
}