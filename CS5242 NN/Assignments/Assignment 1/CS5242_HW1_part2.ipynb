{
  "cells": [
    {
      "cell_type": "markdown",
      "metadata": {
        "id": "IjOZXM4o8ARu"
      },
      "source": [
        "# CS5242 HW1: Get started with PyTorch\n",
        "\n",
        "PyTorch is an open source machine learning framework with 58k stars on the [github](https://github.com/pytorch/pytorch). In this code tutorial we will learn the basic of PyTorch.\n",
        "\n",
        "Colab is a hosted Jupyter notebook service that requires no setup to use, while providing access free of charge to computing resources including GPUs. In this semester, we will use Colab to run our experiments."
      ]
    },
    {
      "cell_type": "markdown",
      "metadata": {
        "id": "cjW6lJ2Q81N4"
      },
      "source": [
        "## Section 1: Environmental Setup\n",
        "\n",
        "First, we need to install the PyTorch and check the pytorch version."
      ]
    },
    {
      "cell_type": "code",
      "execution_count": 1,
      "metadata": {
        "colab": {
          "base_uri": "https://localhost:8080/",
          "height": 89
        },
        "id": "QV9aoa5Q0OiH",
        "outputId": "cca5ce14-3efb-4524-ce97-d393d516e4af"
      },
      "outputs": [
        {
          "output_type": "stream",
          "name": "stdout",
          "text": [
            "Looking in indexes: https://pypi.org/simple, https://us-python.pkg.dev/colab-wheels/public/simple/\n",
            "Requirement already satisfied: torch in /usr/local/lib/python3.7/dist-packages (1.12.1+cu113)\n",
            "Requirement already satisfied: typing-extensions in /usr/local/lib/python3.7/dist-packages (from torch) (4.1.1)\n"
          ]
        },
        {
          "output_type": "execute_result",
          "data": {
            "text/plain": [
              "'1.12.1+cu113'"
            ],
            "application/vnd.google.colaboratory.intrinsic+json": {
              "type": "string"
            }
          },
          "metadata": {},
          "execution_count": 1
        }
      ],
      "source": [
        "!pip3 install torch\n",
        "\n",
        "import torch\n",
        "torch.__version__"
      ]
    },
    {
      "cell_type": "markdown",
      "metadata": {
        "id": "tT09jYu-9ecO"
      },
      "source": [
        "Here are some routines for importing and setting up torch."
      ]
    },
    {
      "cell_type": "code",
      "execution_count": 2,
      "metadata": {
        "colab": {
          "base_uri": "https://localhost:8080/"
        },
        "id": "oMPTE7J01v-p",
        "outputId": "0bce6db5-7bfe-4a8d-953b-c702df994f17"
      },
      "outputs": [
        {
          "output_type": "execute_result",
          "data": {
            "text/plain": [
              "<torch._C.Generator at 0x7f0ba5a61390>"
            ]
          },
          "metadata": {},
          "execution_count": 2
        }
      ],
      "source": [
        "# frequently used import\n",
        "import torch\n",
        "import torch.nn as nn\n",
        "import torch.nn.functional as F\n",
        "import numpy as np\n",
        "import random\n",
        "import matplotlib.pyplot as plt\n",
        "\n",
        "# fix the random number so that the experiments are reproducible\n",
        "random.seed(0)\n",
        "np.random.seed(0)\n",
        "torch.manual_seed(0)"
      ]
    },
    {
      "cell_type": "markdown",
      "metadata": {
        "id": "TeVi4BmJ-cI-"
      },
      "source": [
        "The best referrence for pytorch is its [document](https://pytorch.org/docs/stable/index.html). PyTorch is well-known for a good community.\n",
        "\n",
        "Now let's setup the GPU environment. The colab provides a free GPU to use. Do as follows:\n",
        "\n",
        "- Runtime -> Change Runtime Type -> select `GPU` in Hardware accelerator\n",
        "- Click `connect` on the top-right\n",
        "\n",
        "After connecting to one GPU, you can check its status using `nvidia-smi` command."
      ]
    },
    {
      "cell_type": "code",
      "execution_count": 3,
      "metadata": {
        "colab": {
          "base_uri": "https://localhost:8080/"
        },
        "id": "Zd4WVQP6-Anp",
        "outputId": "2e14816a-1058-4ec3-ce00-f61eb9754712"
      },
      "outputs": [
        {
          "output_type": "stream",
          "name": "stdout",
          "text": [
            "Sat Aug 27 18:03:07 2022       \n",
            "+-----------------------------------------------------------------------------+\n",
            "| NVIDIA-SMI 460.32.03    Driver Version: 460.32.03    CUDA Version: 11.2     |\n",
            "|-------------------------------+----------------------+----------------------+\n",
            "| GPU  Name        Persistence-M| Bus-Id        Disp.A | Volatile Uncorr. ECC |\n",
            "| Fan  Temp  Perf  Pwr:Usage/Cap|         Memory-Usage | GPU-Util  Compute M. |\n",
            "|                               |                      |               MIG M. |\n",
            "|===============================+======================+======================|\n",
            "|   0  Tesla T4            Off  | 00000000:00:04.0 Off |                    0 |\n",
            "| N/A   68C    P8    11W /  70W |      0MiB / 15109MiB |      0%      Default |\n",
            "|                               |                      |                  N/A |\n",
            "+-------------------------------+----------------------+----------------------+\n",
            "                                                                               \n",
            "+-----------------------------------------------------------------------------+\n",
            "| Processes:                                                                  |\n",
            "|  GPU   GI   CI        PID   Type   Process name                  GPU Memory |\n",
            "|        ID   ID                                                   Usage      |\n",
            "|=============================================================================|\n",
            "|  No running processes found                                                 |\n",
            "+-----------------------------------------------------------------------------+\n"
          ]
        }
      ],
      "source": [
        "!nvidia-smi"
      ]
    },
    {
      "cell_type": "markdown",
      "metadata": {
        "id": "nVKG11x__bwn"
      },
      "source": [
        "Here, you can see the memory and memory usage of the applied GPU. For my case, the applied one is a Tesla T4. The GPU applied may be different, but it is ok for our experiments.\n",
        "\n",
        "Now let's create tensor, which is the basic element in PyTorch."
      ]
    },
    {
      "cell_type": "code",
      "execution_count": 4,
      "metadata": {
        "colab": {
          "base_uri": "https://localhost:8080/"
        },
        "id": "fh8esjGD_Zgk",
        "outputId": "5ac852ab-ad6c-480d-d40a-90e076afbb53"
      },
      "outputs": [
        {
          "output_type": "stream",
          "name": "stdout",
          "text": [
            "x1: tensor(1.)\n",
            "x2: tensor(1., device='cuda:0')\n",
            "x3: tensor(1., device='cuda:0', grad_fn=<ToCopyBackward0>)\n"
          ]
        }
      ],
      "source": [
        "x1 = torch.tensor(1.0) # tensor on CPU\n",
        "x2 = torch.tensor(1.0, device=\"cuda:0\") # tensor on GPU\n",
        "x3 = torch.tensor(1.0, requires_grad=True).cuda() # tensor on GPU and require grad\n",
        "print(\"x1:\", x1)\n",
        "print(\"x2:\", x2)\n",
        "print(\"x3:\", x3)"
      ]
    },
    {
      "cell_type": "markdown",
      "metadata": {
        "id": "NjwOgo_9Iw7N"
      },
      "source": [
        "In the following sections, you need to fill in the code to complete the function and answer the questions.\n",
        "\n",
        "The question will be in the form:\n",
        "\n",
        "===> Question: What is deep learning?  \n",
        "===> Answer:  \n",
        "Your answer here.\n",
        "\n",
        "The code completion will be in the form:"
      ]
    },
    {
      "cell_type": "code",
      "execution_count": 5,
      "metadata": {
        "id": "YfUaeMpxJTXD"
      },
      "outputs": [],
      "source": [
        "# === Complete the code\n",
        "\n",
        "# === Complete the code"
      ]
    },
    {
      "cell_type": "markdown",
      "metadata": {
        "id": "eiVo1YcIkhE8"
      },
      "source": [
        "Grades: HW1 is composed of two parts and 10 points in all. Each part contains 5 points.  \n",
        "\n",
        "The homework on PDF consists of 10 questions, each is worth 0.5 points. You can write the answer by LaTeX, word or handwritting (take photo) and submit to the system.  \n",
        "\n",
        "The homework here on notebook (colab) consists of several code completions and 5 questions. There are 18 units for code completions (one unit for one line, which is also a hint). And there are 12 units for questions. 30 units in total will share the 5 points. For submission, you need to submit the notebook with output.\n",
        "\n",
        "15% off per day late (17:01 is the start of one day)​\n",
        "\n",
        "0 score if you submit it 7 days after the deadline​\n",
        "\n",
        "Deadline for homework on PDF: 17:00, 22 Aug  \n",
        "Deadline for homework on Notebook: 17:00, 30 Aug"
      ]
    },
    {
      "cell_type": "markdown",
      "metadata": {
        "id": "aQQbaMIPBX_r"
      },
      "source": [
        "## Section 2: Basic Usage"
      ]
    },
    {
      "cell_type": "code",
      "execution_count": 6,
      "metadata": {
        "colab": {
          "base_uri": "https://localhost:8080/"
        },
        "id": "nMrDE_L6Afkx",
        "outputId": "1d77e5b2-5a8c-4594-d26e-f9e7c7ead3e3"
      },
      "outputs": [
        {
          "output_type": "stream",
          "name": "stdout",
          "text": [
            "tensor(4.)\n",
            "tensor(2.)\n",
            "tensor(2.)\n"
          ]
        }
      ],
      "source": [
        "# 2.1: Use autograd to calculate gradients\n",
        "\n",
        "# Create tensors.\n",
        "x = torch.tensor(1., requires_grad=True)\n",
        "w = torch.tensor(2., requires_grad=True)\n",
        "b = torch.tensor(3., requires_grad=True)\n",
        "y = torch.tensor(4.)\n",
        "\n",
        "# Build a computational graph.\n",
        "pred = w * x + b\n",
        "L = (pred - y)**2\n",
        "\n",
        "# Compute gradients.\n",
        "# === Complete the code (1')\n",
        "L.backward()\n",
        "# === Complete the code\n",
        "\n",
        "# Print out the gradients.\n",
        "print(x.grad)\n",
        "print(w.grad)\n",
        "print(b.grad)"
      ]
    },
    {
      "cell_type": "markdown",
      "metadata": {
        "id": "ZhnZkwPcJ-EU"
      },
      "source": [
        "===> Question 1: Compute the above gradients on your own and show the result from PyTorch is correct. (2')  \n",
        "===> Answer: \n",
        "\n",
        "```\n",
        "L = (w*x + b - y)^2\n",
        "\n",
        "1. dL/dx = 2*(w*x + b - y)*w\n",
        "         = 2*(2*1 + 3 - 4)*2\n",
        "         = 4 \n",
        "\n",
        "2. dL/dw = 2*(w*x + b - y)*x\n",
        "         = 2*(2*1 + 3 - 4)*1\n",
        "         = 2\n",
        "\n",
        "3. dL/db = 2*(w*x + b - y)*1\n",
        "         = 2*(2*1 + 3 - 4)*1\n",
        "         = 2\n",
        "```\n",
        "\n"
      ]
    },
    {
      "cell_type": "code",
      "execution_count": 7,
      "metadata": {
        "colab": {
          "base_uri": "https://localhost:8080/"
        },
        "id": "yfGXyGNRIfzk",
        "outputId": "0b044ade-3a95-497d-e373-5b4c99c66a4b"
      },
      "outputs": [
        {
          "output_type": "stream",
          "name": "stdout",
          "text": [
            "tensor(1.9800, requires_grad=True)\n",
            "tensor(2.9800, requires_grad=True)\n",
            "tensor(0.9216, grad_fn=<PowBackward0>)\n"
          ]
        }
      ],
      "source": [
        "# 2.2 update parameters by gradient descent\n",
        "\n",
        "# we want to update parameters w and b\n",
        "lr = 0.01\n",
        "\n",
        "# 1-step gradient descent\n",
        "# === Complete the code (2')\n",
        "with torch.no_grad():\n",
        "  w -= lr * w.grad\n",
        "  b -= lr * b.grad\n",
        "# === Complete the code\n",
        "\n",
        "# current loss\n",
        "pred = w * x + b\n",
        "L = (pred - y)**2\n",
        "\n",
        "print(w)\n",
        "print(b)\n",
        "print(L)"
      ]
    },
    {
      "cell_type": "code",
      "execution_count": 8,
      "metadata": {
        "colab": {
          "base_uri": "https://localhost:8080/"
        },
        "id": "BhtTMooZK5gU",
        "outputId": "a922d1bc-c0fd-42b5-daf1-251748892312"
      },
      "outputs": [
        {
          "output_type": "stream",
          "name": "stdout",
          "text": [
            "tensor(1.8914, requires_grad=True)\n",
            "tensor(2.8914, requires_grad=True)\n",
            "tensor(0.6648, grad_fn=<PowBackward0>)\n"
          ]
        }
      ],
      "source": [
        "# 2.3 update parameters by optimizer\n",
        "\n",
        "# Use SGD optimizer\n",
        "optimizer = torch.optim.SGD([w, b], lr=0.01)\n",
        "\n",
        "# 5-step gradient descent.\n",
        "for t in range(5):\n",
        "  pred = w * x + b\n",
        "  L = (pred - y)**2\n",
        "  optimizer.zero_grad()\n",
        "  # === Complete the code (2')\n",
        "  L.backward()\n",
        "  optimizer.step()\n",
        "  # === Complete the code\n",
        "\n",
        "print(w)\n",
        "print(b)\n",
        "print(L)"
      ]
    },
    {
      "cell_type": "markdown",
      "metadata": {
        "id": "26UwTeMmNZ1v"
      },
      "source": [
        "===> Question 2: Why do we need `optimizer.zero_grad()`? (1') What happens if we do not `zero_grad` in each step? (1')  \n",
        "===> Answer: \n",
        "\n",
        "- The optimizer is given the learning parameters `w` and `b`. The `optimizer.zero_grad()` method is used to set the gradients of these parameters to `0` before backpropagation.\n",
        "\n",
        "- If `zero_grad()` is not done in each step, parameter updation in each iteration would be incorrect. This is because the computed gradient would be a combination of the old gradient (in previous iterations) and new gradient. Consequently, wrong parameter updation would lead the stochastic gradient descent optimizer to point in a different direction than the intended minimum value.\n",
        "\n",
        "- Hence, our model would be incorrect.\n",
        "\n",
        "\n",
        "\n",
        "===> Question 3: What's the meaning of `grad_fn=<PowBackward0>`? (1')  \n",
        "===> Answer: \n",
        "\n",
        "- In a computational graph, leaves are the input tensors (`w` and `b`) while the root is the output tensor (`y`). By using Pytorch's autograd differentiation engine, we trace this graph from root to leaves and compute the gradients using the chain rule during backpropagation. `grad_fn=<PowBackward0>` specifies that autograd needs to calculate the gradient of a power `[(pred - y)**2]` during backpropogation."
      ]
    },
    {
      "cell_type": "code",
      "execution_count": 9,
      "metadata": {
        "colab": {
          "base_uri": "https://localhost:8080/"
        },
        "id": "4Nfs1aLuK8Dw",
        "outputId": "aa020747-7abd-430a-b58a-08df5816f354"
      },
      "outputs": [
        {
          "output_type": "stream",
          "name": "stdout",
          "text": [
            "tensor([[5.8965e+10, 0.0000e+00, 3.3631e-44],\n",
            "        [0.0000e+00,        nan, 0.0000e+00]])\n",
            "tensor([[0, 0, 0],\n",
            "        [0, 0, 0]])\n",
            "tensor([[0.4963, 0.7682, 0.0885],\n",
            "        [0.1320, 0.3074, 0.6341]])\n",
            "tensor([[ 1.2645, -0.6874,  0.1604],\n",
            "        [-0.6065, -0.7831,  1.0622]])\n",
            "tensor([[1, 2],\n",
            "        [3, 4]])\n",
            "[[1 2]\n",
            " [3 4]]\n"
          ]
        }
      ],
      "source": [
        "# 2.4 create tensors\n",
        "\n",
        "shape = (2, 3)\n",
        "\n",
        "# create an empty tensor\n",
        "x = torch.empty(shape)\n",
        "print(x)\n",
        "\n",
        "# create a full-zero tensor with type long\n",
        "# === Complete the code (1')\n",
        "x = torch.zeros(dtype=torch.long, size=shape)\n",
        "# === Complete the code\n",
        "print(x)\n",
        "\n",
        "# create a a tensor filled with random numbers from \n",
        "# a uniform distribution on the interval [0, 1)\n",
        "# === Complete the code (1')\n",
        "x = torch.rand(size=shape)\n",
        "# === Complete the code\n",
        "print(x)\n",
        "\n",
        "# create a tensor filled with random numbers from a standard normal distribution\n",
        "# === Complete the code (1')\n",
        "x = torch.randn(size=shape)\n",
        "# === Complete the code\n",
        "print(x)\n",
        "\n",
        "# create a tensor from numpy\n",
        "x = np.array([[1, 2], [3, 4]])\n",
        "# === Complete the code (1')\n",
        "x = torch.from_numpy(x)\n",
        "# === Complete the code\n",
        "print(x)\n",
        "\n",
        "# convert a tensor to numpy\n",
        "x = x.numpy()\n",
        "print(x)"
      ]
    },
    {
      "cell_type": "code",
      "execution_count": 10,
      "metadata": {
        "colab": {
          "base_uri": "https://localhost:8080/"
        },
        "id": "nsj3pdawPs5o",
        "outputId": "c1b2dde6-1fcb-41ff-8655-6cdc5a5f6c30"
      },
      "outputs": [
        {
          "output_type": "stream",
          "name": "stdout",
          "text": [
            "w:  Parameter containing:\n",
            "tensor([[ 0.5431,  0.3890, -0.2517],\n",
            "        [-0.1453, -0.5500, -0.0104]], requires_grad=True)\n",
            "b:  Parameter containing:\n",
            "tensor([-0.4348, -0.4453], requires_grad=True)\n",
            "loss:  2.650336503982544\n",
            "dL/dw:  tensor([[ 1.0951,  0.9776, -1.2607],\n",
            "        [ 0.0268, -1.7639, -0.2130]])\n",
            "dL/db:  tensor([-0.3936, -1.1098])\n"
          ]
        }
      ],
      "source": [
        "# 2.5 gradient of matrix and vector\n",
        "\n",
        "# Create tensors of shape (10, 3) and (10, 2).\n",
        "x = torch.randn(10, 3)\n",
        "y = torch.randn(10, 2)\n",
        "\n",
        "# Build a fully connected layer.\n",
        "linear = nn.Linear(3, 2)\n",
        "print ('w: ', linear.weight)\n",
        "print ('b: ', linear.bias)\n",
        "\n",
        "# Build loss function and optimizer.\n",
        "criterion = nn.MSELoss()\n",
        "\n",
        "# Forward pass.\n",
        "pred = linear(x)\n",
        "\n",
        "# Compute loss.\n",
        "# === Complete the code (1')\n",
        "loss = criterion(y, pred)\n",
        "# === Complete the code\n",
        "print('loss: ', loss.item())\n",
        "\n",
        "# Backward pass.\n",
        "loss.backward()\n",
        "\n",
        "# Print out the gradients.\n",
        "# === Complete the code (2')\n",
        "w, b = linear.parameters()\n",
        "print ('dL/dw: ', w.grad) \n",
        "print ('dL/db: ', b.grad)\n",
        "# === Complete the code"
      ]
    },
    {
      "cell_type": "markdown",
      "metadata": {
        "id": "5Jmln-rJUTbq"
      },
      "source": [
        "===> Question 4: What is the function of the above code? Do a shape check for the gradient computation above. (2')  \n",
        "===> Answer:\n",
        "\n",
        "- We create a linear neural network model of the form **Y** = **w*X** containing 1 layer. X, Y are vectorized matrices, w is a vector. \n",
        "\n",
        "```\n",
        "Bias (b) is accommodated within w such that w = [w1, w2, w3, b], X = [x1, x2, x3, 1]\n",
        "- Shape(Y) = (2*10)\n",
        "- Shape(X) = (4*10)\n",
        "- Shape(w) = (2*4)\n",
        "```\n",
        "- `x` and `y` are two tensors corresponding to input and output of the model. The model has 2 parameters (`weight`, `bias`) that need to be learnt during training.\n",
        "- Mean Square Error is used as the loss function which gets calculated after 1 round of prediction is made using the model (forward pass).\n",
        "- `loss.backward()` calculates the gradients of each parameter using chain rule.\n",
        "\n",
        "Shape check:\n",
        "```\n",
        "L = 1/10 * ||(wX - Y)||^2\n",
        "Shape(L) = (1*1) since norm is taken --> scalar\n",
        "\n",
        "Shape(w) = (2*4)\n",
        "Shape(b) = (1*2) --> since a bias needs to be added to each output neuron\n",
        "\n",
        "dL/dw = 1/5 * (wX - Y) * (X^T)   ## ^T stands for transpose\n",
        "Shape(dL/dw) = [(2*4)*(4*10) - (2*10)]*(10*4)\n",
        "             = (2*10) * (10*4)\n",
        "             = (2*4) --> Shape(w) with bias term\n",
        "             => (2*3) --> Shape(w) without bias \n",
        "\n",
        "dL/db = 1/5 * [(wX - Y) * I]^T   ## I stands for identity matrix, ^T stands for transpose\n",
        "Shape(I) = (10*1) since X is a vectorized matrix\n",
        "Shape(dL/db) = [[(2*4)*(4*10) - (2*10)] * (10*1)]^T \n",
        "             = ([2*10) * (10*1)]^T\n",
        "             = (2*1)^T\n",
        "             = (1*2) --> Shape(b)\n",
        "```"
      ]
    },
    {
      "cell_type": "markdown",
      "metadata": {
        "id": "gxHzvhMseEQI"
      },
      "source": [
        "## Section 3: Linear Regression\n"
      ]
    },
    {
      "cell_type": "code",
      "execution_count": 11,
      "metadata": {
        "id": "2QS90Mv4T03n"
      },
      "outputs": [],
      "source": [
        "# Hyper-parameters\n",
        "input_size = 1\n",
        "output_size = 1\n",
        "\n",
        "# Toy dataset\n",
        "x_train = np.array([[3.2], [4.1], [5.6], [7.69], [6.3], [4.112], \n",
        "                    [9.79], [5.182], [6.59], [3.167], [7.042], \n",
        "                    [10.921], [5.268], [7.9], [3.0]], dtype=np.float32)\n",
        "\n",
        "y_train = np.array([[1.7], [2.76], [2.09], [3.19], [1.694], [1.573], \n",
        "                    [3.366], [2.596], [2.53], [1.221], [2.827], \n",
        "                    [3.465], [1.65], [2.904], [1.3]], dtype=np.float32)"
      ]
    },
    {
      "cell_type": "code",
      "execution_count": 12,
      "metadata": {
        "id": "7dhHzTVaePXF"
      },
      "outputs": [],
      "source": [
        "def main(learning_rate=0.001, num_epochs = 60):\n",
        "  # Linear regression model\n",
        "  model = nn.Linear(input_size, output_size)\n",
        "\n",
        "  # Loss and optimizer\n",
        "  criterion = nn.MSELoss()\n",
        "\n",
        "  # Create optimizer\n",
        "  # Hint: check manual for model.parameters\n",
        "  # === Complete the code (1')\n",
        "  optimizer = torch.optim.SGD(model.parameters(), lr=learning_rate)\n",
        "  # === Complete the code\n",
        "\n",
        "  # Train the model\n",
        "  for epoch in range(num_epochs):\n",
        "      # Convert numpy arrays to torch tensors\n",
        "      inputs = torch.from_numpy(x_train)\n",
        "      targets = torch.from_numpy(y_train)\n",
        "\n",
        "      # Forward pass\n",
        "      # === Complete the code (2')\n",
        "      outputs = model(inputs)\n",
        "      loss = criterion(targets, outputs)\n",
        "      # === Complete the code\n",
        "      \n",
        "      # Backward and optimize\n",
        "      # === Complete the code (3')\n",
        "      loss.backward() # backpropagation\n",
        "      optimizer.step() # update the weights\n",
        "      optimizer.zero_grad() # reset gradients to zero\n",
        "      # === Complete the code\n",
        "      \n",
        "      if (epoch+1) % 5 == 0:\n",
        "          print ('Epoch [{}/{}], Loss: {:.4f}'.format(epoch+1, num_epochs, loss.item()))\n",
        "\n",
        "  # Plot the graph\n",
        "  predicted = model(torch.from_numpy(x_train)).detach().numpy()\n",
        "  plt.plot(x_train, y_train, 'ro', label='Original data')\n",
        "  plt.plot(x_train, predicted, label='Fitted line')\n",
        "  plt.legend()\n",
        "  plt.show()"
      ]
    },
    {
      "cell_type": "code",
      "execution_count": 13,
      "metadata": {
        "colab": {
          "base_uri": "https://localhost:8080/",
          "height": 479
        },
        "id": "ACWgdcIWeU01",
        "outputId": "d175755f-8fa7-4f5e-f076-d28781c13661"
      },
      "outputs": [
        {
          "output_type": "stream",
          "name": "stdout",
          "text": [
            "Epoch [5/60], Loss: 3.5557\n",
            "Epoch [10/60], Loss: 1.5880\n",
            "Epoch [15/60], Loss: 0.7714\n",
            "Epoch [20/60], Loss: 0.4324\n",
            "Epoch [25/60], Loss: 0.2917\n",
            "Epoch [30/60], Loss: 0.2333\n",
            "Epoch [35/60], Loss: 0.2090\n",
            "Epoch [40/60], Loss: 0.1988\n",
            "Epoch [45/60], Loss: 0.1946\n",
            "Epoch [50/60], Loss: 0.1928\n",
            "Epoch [55/60], Loss: 0.1920\n",
            "Epoch [60/60], Loss: 0.1916\n"
          ]
        },
        {
          "output_type": "display_data",
          "data": {
            "text/plain": [
              "<Figure size 432x288 with 1 Axes>"
            ],
            "image/png": "[encoded data removed]"
          },
          "metadata": {
            "needs_background": "light"
          }
        }
      ],
      "source": [
        "main()"
      ]
    },
    {
      "cell_type": "markdown",
      "metadata": {
        "id": "6wWicEaIfYMJ"
      },
      "source": [
        "Now let's investigate into how learning rate affects the training process.\n",
        "\n",
        "===> Question 5: Experiments with different learning rates and num_epochs.   \n",
        "When will the training diverges? What's your suggested value for the learning rate?   \n",
        "Justify your answer by running more experiments (leaving the results in the notebook). (5')     \n",
        "===> Answer:\n",
        "\n",
        "```\n",
        "Detailed answer is provided in the code blocks below.\n",
        "```"
      ]
    },
    {
      "cell_type": "code",
      "execution_count": 14,
      "metadata": {
        "colab": {
          "base_uri": "https://localhost:8080/",
          "height": 479
        },
        "id": "d31POxIKeaQV",
        "outputId": "5526c232-85b1-4317-bc8c-96c72d46fd3f"
      },
      "outputs": [
        {
          "output_type": "stream",
          "name": "stdout",
          "text": [
            "Epoch [5/60], Loss: 45786146671689728.0000\n",
            "Epoch [10/60], Loss: 726791150639377388894590512748560384.0000\n",
            "Epoch [15/60], Loss: inf\n",
            "Epoch [20/60], Loss: inf\n",
            "Epoch [25/60], Loss: nan\n",
            "Epoch [30/60], Loss: nan\n",
            "Epoch [35/60], Loss: nan\n",
            "Epoch [40/60], Loss: nan\n",
            "Epoch [45/60], Loss: nan\n",
            "Epoch [50/60], Loss: nan\n",
            "Epoch [55/60], Loss: nan\n",
            "Epoch [60/60], Loss: nan\n"
          ]
        },
        {
          "output_type": "display_data",
          "data": {
            "text/plain": [
              "<Figure size 432x288 with 1 Axes>"
            ],
            "image/png": "[encoded data removed]"
          },
          "metadata": {
            "needs_background": "light"
          }
        }
      ],
      "source": [
        "main(learning_rate=1, num_epochs = 60)"
      ]
    },
    {
      "cell_type": "markdown",
      "source": [
        "## Answer 5"
      ],
      "metadata": {
        "id": "JN7ml1ZbZzxR"
      }
    },
    {
      "cell_type": "code",
      "source": [
        "# Modifying main() to return loss in last iteration\n",
        "\n",
        "def main(learning_rate=0.001, num_epochs = 60):\n",
        "  # Linear regression model\n",
        "  model = nn.Linear(input_size, output_size)\n",
        "\n",
        "  # Loss and optimizer\n",
        "  criterion = nn.MSELoss()\n",
        "\n",
        "  # Create optimizer\n",
        "  optimizer = torch.optim.SGD(model.parameters(), lr=learning_rate)\n",
        "\n",
        "  # Train the model\n",
        "  loss = 0.0\n",
        "  for epoch in range(num_epochs):\n",
        "      # Convert numpy arrays to torch tensors\n",
        "      inputs = torch.from_numpy(x_train)\n",
        "      targets = torch.from_numpy(y_train)\n",
        "\n",
        "      # Forward pass\n",
        "      outputs = model(inputs)\n",
        "      loss = criterion(targets, outputs)\n",
        "      \n",
        "      # Backward and optimize\n",
        "      loss.backward() # backpropagation\n",
        "      optimizer.step() # update the weights\n",
        "      optimizer.zero_grad() # reset gradients to zero\n",
        "\n",
        "  return loss.item()"
      ],
      "metadata": {
        "id": "sgG7U2RRwLE2"
      },
      "execution_count": 15,
      "outputs": []
    },
    {
      "cell_type": "markdown",
      "source": [
        "## Optimizing learning rate\n",
        "\n",
        "We check loss values for different learning rates by keeping no. of epochs constant. In general, we should choose the learning rate which decreases loss the fastest. This is so that the gradient of loss at the point is the minima. "
      ],
      "metadata": {
        "id": "8QJTakf8aHnL"
      }
    },
    {
      "cell_type": "code",
      "execution_count": 16,
      "metadata": {
        "id": "rDxFC0ZzhM2_"
      },
      "outputs": [],
      "source": [
        "import math\n",
        "\n",
        "def optimize_lr(max_lr=1):\n",
        "  step_size = 0.001\n",
        "  learning_rate = 0.001 ## Initial rate\n",
        "  loss_vector = []\n",
        "  lr_vector = []\n",
        "\n",
        "  # keeping num_epochs constant\n",
        "  while learning_rate < max_lr:\n",
        "    loss = main(learning_rate, num_epochs = 60)\n",
        "    if loss == float('inf') or math.isnan(loss):\n",
        "      break\n",
        "\n",
        "    lr_vector.append(learning_rate)\n",
        "    loss_vector.append(loss)\n",
        "    learning_rate += step_size # Increase rate linearly for each iteration\n",
        "\n",
        "  return lr_vector, loss_vector"
      ]
    },
    {
      "cell_type": "code",
      "source": [
        "lr_vector, loss_vector = optimize_lr()\n",
        "\n",
        "plt.plot(lr_vector, loss_vector, label='Loss values')\n",
        "plt.legend()\n",
        "plt.show()"
      ],
      "metadata": {
        "colab": {
          "base_uri": "https://localhost:8080/",
          "height": 276
        },
        "id": "YjBYjaqsK2OD",
        "outputId": "598381f3-3f6f-401c-ded0-bb2f7f1160b3"
      },
      "execution_count": 17,
      "outputs": [
        {
          "output_type": "display_data",
          "data": {
            "text/plain": [
              "<Figure size 432x288 with 1 Axes>"
            ],
            "image/png": "[encoded data removed]"
          },
          "metadata": {
            "needs_background": "light"
          }
        }
      ]
    },
    {
      "cell_type": "code",
      "source": [
        "lr_vector, loss_vector = optimize_lr(0.025)\n",
        "\n",
        "plt.plot(lr_vector, loss_vector, label='Loss values')\n",
        "plt.legend()\n",
        "plt.show()"
      ],
      "metadata": {
        "colab": {
          "base_uri": "https://localhost:8080/",
          "height": 265
        },
        "id": "8oMQKtQjNyOs",
        "outputId": "ce16a7ee-f22f-4de1-b718-2171c89809a9"
      },
      "execution_count": 18,
      "outputs": [
        {
          "output_type": "display_data",
          "data": {
            "text/plain": [
              "<Figure size 432x288 with 1 Axes>"
            ],
            "image/png": "[encoded data removed]"
          },
          "metadata": {
            "needs_background": "light"
          }
        }
      ]
    },
    {
      "cell_type": "markdown",
      "source": [
        "We see that the loss value increases exponentially after learning rate >= 0.025. **Therefore, training starts to diverge at this point.**"
      ],
      "metadata": {
        "id": "yotnBTBJa93T"
      }
    },
    {
      "cell_type": "code",
      "source": [
        "lr_vector, loss_vector = optimize_lr(0.024)\n",
        "\n",
        "plt.plot(lr_vector, loss_vector, '.-', label='Loss values')\n",
        "plt.legend()\n",
        "plt.show()"
      ],
      "metadata": {
        "colab": {
          "base_uri": "https://localhost:8080/",
          "height": 265
        },
        "id": "PW1RqXW4NyQh",
        "outputId": "880e812e-e69a-4f4a-b1fa-b7f90acf9fe9"
      },
      "execution_count": 19,
      "outputs": [
        {
          "output_type": "display_data",
          "data": {
            "text/plain": [
              "<Figure size 432x288 with 1 Axes>"
            ],
            "image/png": "[encoded data removed]"
          },
          "metadata": {
            "needs_background": "light"
          }
        }
      ]
    },
    {
      "cell_type": "code",
      "source": [
        "## Smoothing the graph using simple moving average so that it is easy to suggest ranges\n",
        "\n",
        "window = 3\n",
        "average_loss = []\n",
        "\n",
        "for ind in range(window - 1):\n",
        "  average_loss.insert(0, np.nan)\n",
        "\n",
        "for ind in range(len(loss_vector) - window + 1):\n",
        "  average_loss.append(np.mean(loss_vector[ind:ind+window]))\n",
        "\n",
        "plt.plot(lr_vector, average_loss, '.-', label='Loss values')\n",
        "plt.legend()\n",
        "plt.show()"
      ],
      "metadata": {
        "colab": {
          "base_uri": "https://localhost:8080/",
          "height": 265
        },
        "id": "bJj-pk2mNySp",
        "outputId": "13624272-5119-475a-ce40-c495a542de4e"
      },
      "execution_count": 20,
      "outputs": [
        {
          "output_type": "display_data",
          "data": {
            "text/plain": [
              "<Figure size 432x288 with 1 Axes>"
            ],
            "image/png": "[encoded data removed]"
          },
          "metadata": {
            "needs_background": "light"
          }
        }
      ]
    },
    {
      "cell_type": "markdown",
      "source": [
        "We see that loss value decreases with increasing the learning rate. However, it starts to become stable after around `learning_rate >= 0.01`. **Thus, we can take the learning rate between the range (0.0075 - 0.009) as the loss decreases the fastest in this range.**"
      ],
      "metadata": {
        "id": "87FGG8yUb4KW"
      }
    },
    {
      "cell_type": "markdown",
      "source": [
        "## Optimizing no. of epochs\n",
        "\n",
        "We check loss values for different no. of epochs by keeping learning rates constant. In general, higher no. of epochs might give lower loss values but may result in overfitting."
      ],
      "metadata": {
        "id": "aQWgXfqocljF"
      }
    },
    {
      "cell_type": "code",
      "source": [
        "# Fix learning rate, change num_epochs\n",
        "\n",
        "def optimize_no_epochs(min_epochs=1, max_epochs=100):\n",
        "  step_size = 5\n",
        "  loss_vector = []\n",
        "  epoch_vector = []\n",
        "\n",
        "  # keeping learning_rate constant\n",
        "  while min_epochs < max_epochs:\n",
        "    loss = main(learning_rate=0.008, num_epochs = min_epochs)\n",
        "    if loss == float('inf') or math.isnan(loss):\n",
        "      break\n",
        "\n",
        "    epoch_vector.append(min_epochs)\n",
        "    loss_vector.append(loss)\n",
        "    min_epochs += step_size\n",
        "\n",
        "  return epoch_vector, loss_vector"
      ],
      "metadata": {
        "id": "WHVv0LhfT8Xx"
      },
      "execution_count": 25,
      "outputs": []
    },
    {
      "cell_type": "code",
      "source": [
        "epoch_vector, loss_vector = optimize_no_epochs(min_epochs=1, max_epochs=100)\n",
        "\n",
        "plt.plot(epoch_vector, loss_vector, label='Loss values')\n",
        "plt.legend()\n",
        "plt.show()"
      ],
      "metadata": {
        "colab": {
          "base_uri": "https://localhost:8080/",
          "height": 265
        },
        "id": "_hF4whsgT8Zu",
        "outputId": "04a258a4-d780-4dec-eace-092c27e41d39"
      },
      "execution_count": 26,
      "outputs": [
        {
          "output_type": "display_data",
          "data": {
            "text/plain": [
              "<Figure size 432x288 with 1 Axes>"
            ],
            "image/png": "[encoded data removed]"
          },
          "metadata": {
            "needs_background": "light"
          }
        }
      ]
    },
    {
      "cell_type": "markdown",
      "source": [
        "Loss decreases exponentially after ~5 epochs."
      ],
      "metadata": {
        "id": "-fXM_TJodEEV"
      }
    },
    {
      "cell_type": "code",
      "source": [
        "epoch_vector, loss_vector = optimize_no_epochs(min_epochs=5, max_epochs=90)\n",
        "\n",
        "plt.plot(epoch_vector, loss_vector, '.-', label='Loss values')\n",
        "plt.legend()\n",
        "plt.show()"
      ],
      "metadata": {
        "colab": {
          "base_uri": "https://localhost:8080/",
          "height": 265
        },
        "id": "Gnt1s4jIT8cC",
        "outputId": "fcce409e-75e0-403d-fc34-351534dfc353"
      },
      "execution_count": 29,
      "outputs": [
        {
          "output_type": "display_data",
          "data": {
            "text/plain": [
              "<Figure size 432x288 with 1 Axes>"
            ],
            "image/png": "[encoded data removed]"
          },
          "metadata": {
            "needs_background": "light"
          }
        }
      ]
    },
    {
      "cell_type": "code",
      "source": [
        "## Smoothing the graph using simple moving average so that it is easy to suggest ranges\n",
        "\n",
        "window = 3\n",
        "average_loss = []\n",
        "\n",
        "for ind in range(window - 1):\n",
        "  average_loss.insert(0, np.nan)\n",
        "\n",
        "for ind in range(len(loss_vector) - window + 1):\n",
        "  average_loss.append(np.mean(loss_vector[ind:ind+window]))\n",
        "\n",
        "plt.plot(epoch_vector, average_loss, '.-', label='Loss values')\n",
        "plt.legend()\n",
        "plt.show()"
      ],
      "metadata": {
        "colab": {
          "base_uri": "https://localhost:8080/",
          "height": 265
        },
        "id": "Xivg2s6bT8eH",
        "outputId": "ac91e92a-1b1e-40fb-d4c0-869748bdc102"
      },
      "execution_count": 30,
      "outputs": [
        {
          "output_type": "display_data",
          "data": {
            "text/plain": [
              "<Figure size 432x288 with 1 Axes>"
            ],
            "image/png": "[encoded data removed]"
          },
          "metadata": {
            "needs_background": "light"
          }
        }
      ]
    },
    {
      "cell_type": "markdown",
      "source": [
        "We see that the loss value is lowest for no_epochs > 60 but its possible that the model is overfitting. **Thus, keep number of epochs between 55-65.**"
      ],
      "metadata": {
        "id": "CGrjg-rvdlcn"
      }
    }
  ],
  "metadata": {
    "accelerator": "GPU",
    "colab": {
      "collapsed_sections": [],
      "name": "CS5242_HW1_part2.ipynb",
      "provenance": []
    },
    "gpuClass": "standard",
    "kernelspec": {
      "display_name": "Python 3 (ipykernel)",
      "language": "python",
      "name": "python3"
    },
    "language_info": {
      "codemirror_mode": {
        "name": "ipython",
        "version": 3
      },
      "file_extension": ".py",
      "mimetype": "text/x-python",
      "name": "python",
      "nbconvert_exporter": "python",
      "pygments_lexer": "ipython3",
      "version": "3.10.6"
    }
  },
  "nbformat": 4,
  "nbformat_minor": 0
}