{
 "cells": [
  {
   "cell_type": "markdown",
   "metadata": {
    "id": "GXMX8yuAyl55"
   },
   "source": [
    "# Welcome to CS 5242 **Homework 4**\n",
    "\n",
    "ASSIGNMENT DEADLINE ⏰ : **19 Sept 2022** \n",
    "\n",
    "In this assignment, we have three parts:\n",
    "\n",
    "1. Implement some functions in CNNs from scratch *(3 Points)*\n",
    "2. Implement a CNN and train for CIFAR10 using PyTorch *(5 Points)*\n",
    "3. Discussion (parametes and flops for AlexNet) *(2 Points)*\n",
    "\n",
    "Colab is a hosted Jupyter notebook service that requires no setup to use, while providing access free of charge to computing resources including GPUs. In this semester, we will use Colab to run our experiments.\n",
    "\n",
    "> In this assignment, We **need GPU** to training the CNN model. You may need to **choose GPU in Runtime -> Change runtime type -> Hardware accerator**\n",
    "\n",
    "### **Grades Policy**\n",
    "\n",
    "We have 10 points for this homework. 15% off per day late, 0 scores if you submit it 7 days after the deadline.\n",
    "\n",
    "### **Cautions**\n",
    "\n",
    "**DO NOT** use external libraries like PyTorch or TensorFlow in your implementation.\n",
    "\n",
    "**DO NOT** copy the code from the internet, e.g. GitHub.\n",
    "\n",
    "---\n",
    "\n",
    "### **Contact**\n",
    "\n",
    "Please feel free to contact us if you have any question about this homework or need any further information.\n",
    "\n",
    "Slack (Recommend): Shenggan Cheng\n",
    "\n",
    "TA Email: shenggan@comp.nus.edu.sg\n",
    "\n",
    "> If you have not join the slack group, you can click [here](https://join.slack.com/t/cs5242ay20222-oiw1784/shared_invite/zt-1eiv24k1t-0J9EI7vz3uQmAHa68qU0aw)"
   ]
  },
  {
   "cell_type": "markdown",
   "metadata": {
    "id": "oLeZHcOVBp4U"
   },
   "source": [
    "## Setup\n",
    "\n",
    "Start by running the cell below to set up all required software."
   ]
  },
  {
   "cell_type": "code",
   "execution_count": 1,
   "metadata": {
    "colab": {
     "base_uri": "https://localhost:8080/"
    },
    "id": "HIgu_q2HBg-E",
    "outputId": "03220099-2891-40d7-c926-044cf7c147ae"
   },
   "outputs": [
    {
     "name": "stdout",
     "output_type": "stream",
     "text": [
      "Looking in indexes: https://pypi.org/simple, https://us-python.pkg.dev/colab-wheels/public/simple/\n",
      "Requirement already satisfied: numpy in /usr/local/lib/python3.7/dist-packages (1.21.6)\n",
      "Requirement already satisfied: matplotlib in /usr/local/lib/python3.7/dist-packages (3.2.2)\n",
      "Requirement already satisfied: torch in /usr/local/lib/python3.7/dist-packages (1.12.1+cu113)\n",
      "Requirement already satisfied: python-dateutil>=2.1 in /usr/local/lib/python3.7/dist-packages (from matplotlib) (2.8.2)\n",
      "Requirement already satisfied: pyparsing!=2.0.4,!=2.1.2,!=2.1.6,>=2.0.1 in /usr/local/lib/python3.7/dist-packages (from matplotlib) (3.0.9)\n",
      "Requirement already satisfied: kiwisolver>=1.0.1 in /usr/local/lib/python3.7/dist-packages (from matplotlib) (1.4.4)\n",
      "Requirement already satisfied: cycler>=0.10 in /usr/local/lib/python3.7/dist-packages (from matplotlib) (0.11.0)\n",
      "Requirement already satisfied: typing-extensions in /usr/local/lib/python3.7/dist-packages (from kiwisolver>=1.0.1->matplotlib) (4.1.1)\n",
      "Requirement already satisfied: six>=1.5 in /usr/local/lib/python3.7/dist-packages (from python-dateutil>=2.1->matplotlib) (1.15.0)\n"
     ]
    }
   ],
   "source": [
    "!pip install numpy matplotlib torch"
   ]
  },
  {
   "cell_type": "markdown",
   "metadata": {
    "id": "vtXcchT5H2PH"
   },
   "source": [
    "Import the neccesary library and fix seed for Python, NumPy and PyTorch."
   ]
  },
  {
   "cell_type": "code",
   "execution_count": 2,
   "metadata": {
    "colab": {
     "base_uri": "https://localhost:8080/"
    },
    "id": "I2Yodsn4H6CB",
    "outputId": "61cc78a8-7128-45f8-9755-f1b93964cdb2"
   },
   "outputs": [
    {
     "data": {
      "text/plain": [
       "<torch._C.Generator at 0x7f3cba2381d0>"
      ]
     },
     "execution_count": 2,
     "metadata": {},
     "output_type": "execute_result"
    }
   ],
   "source": [
    "import math\n",
    "import random\n",
    "\n",
    "import numpy as np\n",
    "import torch\n",
    "import torchvision\n",
    "import torch.nn as nn\n",
    "import torch.nn.functional as F\n",
    "import torch.optim as optim\n",
    "import torchvision.transforms as transforms\n",
    "import matplotlib.pyplot as plt\n",
    "\n",
    "random.seed(0)\n",
    "np.random.seed(0)\n",
    "torch.manual_seed(0)"
   ]
  },
  {
   "cell_type": "markdown",
   "metadata": {
    "id": "RTpFBLKSkKI0"
   },
   "source": [
    "Now let's setup the GPU environment. The colab provides a free GPU to use. Do as follows:\n",
    "\n",
    "- Runtime -> Change Runtime Type -> select `GPU` in Hardware accelerator\n",
    "- Click `connect` on the top-right\n",
    "\n",
    "After connecting to one GPU, you can check its status using `nvidia-smi` command."
   ]
  },
  {
   "cell_type": "code",
   "execution_count": 3,
   "metadata": {
    "colab": {
     "base_uri": "https://localhost:8080/"
    },
    "id": "ES8KOxziiYky",
    "outputId": "69d7f84c-3c83-42cb-fe35-b4744dc63516"
   },
   "outputs": [
    {
     "name": "stdout",
     "output_type": "stream",
     "text": [
      "Tue Sep 20 15:04:29 2022       \n",
      "+-----------------------------------------------------------------------------+\n",
      "| NVIDIA-SMI 460.32.03    Driver Version: 460.32.03    CUDA Version: 11.2     |\n",
      "|-------------------------------+----------------------+----------------------+\n",
      "| GPU  Name        Persistence-M| Bus-Id        Disp.A | Volatile Uncorr. ECC |\n",
      "| Fan  Temp  Perf  Pwr:Usage/Cap|         Memory-Usage | GPU-Util  Compute M. |\n",
      "|                               |                      |               MIG M. |\n",
      "|===============================+======================+======================|\n",
      "|   0  Tesla T4            Off  | 00000000:00:04.0 Off |                    0 |\n",
      "| N/A   74C    P8    12W /  70W |      0MiB / 15109MiB |      0%      Default |\n",
      "|                               |                      |                  N/A |\n",
      "+-------------------------------+----------------------+----------------------+\n",
      "                                                                               \n",
      "+-----------------------------------------------------------------------------+\n",
      "| Processes:                                                                  |\n",
      "|  GPU   GI   CI        PID   Type   Process name                  GPU Memory |\n",
      "|        ID   ID                                                   Usage      |\n",
      "|=============================================================================|\n",
      "|  No running processes found                                                 |\n",
      "+-----------------------------------------------------------------------------+\n"
     ]
    },
    {
     "data": {
      "text/plain": [
       "True"
      ]
     },
     "execution_count": 3,
     "metadata": {},
     "output_type": "execute_result"
    }
   ],
   "source": [
    "!nvidia-smi\n",
    "\n",
    "torch.cuda.is_available()"
   ]
  },
  {
   "cell_type": "markdown",
   "metadata": {
    "id": "3yrZD7DDExF4"
   },
   "source": [
    "Everything is ready, you can move on and ***Good Luck !*** 😃"
   ]
  },
  {
   "cell_type": "markdown",
   "metadata": {
    "id": "tm1f362vdRgF"
   },
   "source": [
    "## Implement functions in CNNs from scratch\n",
    "\n",
    "In this section, you need to implement some functions commonly used in CNNs, including convolution, pooling, etc. \n",
    "\n",
    "We will compare the computational results of your implemented version with those of pytorch, expecting that the error between the correct implementation and pytorch will be very small.\n",
    "\n",
    "NOTE: \n",
    "\n",
    "1. Implement these functions from scratch, **without** using any neural network libraries. Use linear algebra libraries in python is ok.\n",
    "\n",
    "2. The performance of the function is not included in this scoring, You just need to pay attention to the correctness of your implementation."
   ]
  },
  {
   "cell_type": "markdown",
   "metadata": {
    "id": "NV3DXc2jgeg7"
   },
   "source": [
    "### Step 1\n",
    "Given a 32x32 pixels, 3 channels input, get a torch tensor with torch.randn()."
   ]
  },
  {
   "cell_type": "code",
   "execution_count": 4,
   "metadata": {
    "id": "3UxGJxTegq9O"
   },
   "outputs": [],
   "source": [
    "batch_size = 2\n",
    "x = torch.randn(batch_size, 3, 32, 32)"
   ]
  },
  {
   "cell_type": "markdown",
   "metadata": {
    "id": "xxnlbBnFw9wB"
   },
   "source": [
    "### Step 2\n",
    "\n",
    "For each following functions in the list, get the output tensor \"torch_xxx_out\" with input as x:"
   ]
  },
  {
   "cell_type": "code",
   "execution_count": 5,
   "metadata": {
    "id": "OLQGhRbJgpIZ"
   },
   "outputs": [],
   "source": [
    "torch_max_pool = nn.MaxPool2d(kernel_size=2,\n",
    "                              stride=1,\n",
    "                              padding=0,\n",
    "                              dilation=1,\n",
    "                              return_indices=False,\n",
    "                              ceil_mode=False)\n",
    "torch_avg_pool = nn.AvgPool2d(kernel_size=2,\n",
    "                              stride=1,\n",
    "                              padding=0,\n",
    "                              ceil_mode=False,\n",
    "                              count_include_pad=True,\n",
    "                              divisor_override=None)\n",
    "torch_conv = nn.Conv2d(in_channels=3,\n",
    "                       out_channels=6,\n",
    "                       kernel_size=3,\n",
    "                       stride=1,\n",
    "                       padding=0,\n",
    "                       dilation=1,\n",
    "                       groups=1,\n",
    "                       bias=True,\n",
    "                       padding_mode='zeros')\n",
    "torch_norm = nn.BatchNorm2d(3)"
   ]
  },
  {
   "cell_type": "code",
   "execution_count": 6,
   "metadata": {
    "id": "ri163mxZgvEm"
   },
   "outputs": [],
   "source": [
    "torch_sigmoid_out = torch.sigmoid(x, out=None)\n",
    "tmp_tensor = torch.randint(3, (batch_size,))\n",
    "torch_cross_entropy_out = F.cross_entropy(x[::, ::, 0, 0], tmp_tensor)"
   ]
  },
  {
   "cell_type": "code",
   "execution_count": 7,
   "metadata": {
    "id": "PBzDAo2rgwmx"
   },
   "outputs": [],
   "source": [
    "torch_max_pool_out = torch_max_pool(x)\n",
    "torch_avg_pool_out = torch_avg_pool(x)\n",
    "torch_conv_out = torch_conv(x)\n",
    "torch_norm_out = torch_norm(x)"
   ]
  },
  {
   "cell_type": "markdown",
   "metadata": {
    "id": "w6YBRP6Qgylg"
   },
   "source": [
    "### Step 3\n",
    "\n",
    "Implement these functions from scratch, without using any neural network libraries. Use linear algebra libraries in python is ok. Output your tensors as \"my_xxx_out\"."
   ]
  },
  {
   "cell_type": "code",
   "execution_count": 8,
   "metadata": {
    "id": "CsO5I40fgzWY"
   },
   "outputs": [],
   "source": [
    "def my_max_pool(x, kernel_size, stride, padding):\n",
    "    \"\"\"\n",
    "    Args:\n",
    "        x: torch tensor with size (N, C_in, H_in, W_in),\n",
    "        kernel_size: size of the window to take a max over, \n",
    "        stride: stride of the window,\n",
    "        padding: implicit zero padding to be added on both sides,\n",
    "        \n",
    "    Return:\n",
    "        y: torch tensor of size (N, C_out, H_out, W_out).\n",
    "    \"\"\"\n",
    "\n",
    "    y = None\n",
    "\n",
    "    # === Complete the code (0.5')\n",
    "    x_numpy = x.numpy()\n",
    "    b, c, h_in, w_in = x_numpy.shape\n",
    "    \n",
    "    h_out = math.floor((h_in + 2*padding - kernel_size)/stride + 1)\n",
    "    w_out = math.floor((w_in + 2*padding - kernel_size)/stride + 1)\n",
    "    output = np.zeros((b, c, h_out, w_out))\n",
    "\n",
    "    # Need to pad\n",
    "    padded_x = np.zeros((b, c, h_in + 2*padding, w_in + 2*padding))\n",
    "    padded_x[:, :, padding:(x_numpy.shape[2]+padding), padding:(x_numpy.shape[3]+padding)] = x_numpy\n",
    "  \n",
    "    for i in range(h_out):\n",
    "      for j in range(w_out):\n",
    "        h_start = i * stride\n",
    "        h_end = h_start + kernel_size\n",
    "        w_start = j * stride\n",
    "        w_end = w_start + kernel_size\n",
    "\n",
    "        x_slice = padded_x[:, :, h_start:h_end, w_start:w_end]\n",
    "        output[:, :, i, j] = np.amax(x_slice, axis = (2, 3))\n",
    "\n",
    "    y = torch.from_numpy(output)\n",
    "    # === Complete the code\n",
    "    return y"
   ]
  },
  {
   "cell_type": "code",
   "execution_count": 9,
   "metadata": {
    "id": "nGbn6oQcg4pM"
   },
   "outputs": [],
   "source": [
    "def my_avg_pool(x, kernel_size, stride, padding):\n",
    "    \"\"\"\n",
    "    Args:\n",
    "        x: torch tensor with size (N, C_in, H_in, W_in),\n",
    "        kernel_size: size of the window, \n",
    "        stride: stride of the window,\n",
    "        padding: implicit zero padding to be added on both sides,\n",
    "        \n",
    "    Return:\n",
    "        y: torch tensor of size (N, C_out, H_out, W_out).\n",
    "    \"\"\"\n",
    "\n",
    "    y = None\n",
    "    # === Complete the code (0.5')\n",
    "    x_numpy = x.numpy()\n",
    "    b, c, h_in, w_in = x_numpy.shape\n",
    "    \n",
    "    h_out = math.floor((h_in + 2*padding - kernel_size)/stride + 1)\n",
    "    w_out = math.floor((w_in + 2*padding - kernel_size)/stride + 1)\n",
    "    output = np.zeros((b, c, h_out, w_out))\n",
    "\n",
    "    # Need to pad\n",
    "    padded_x = np.zeros((b, c, h_in + 2*padding, w_in + 2*padding))\n",
    "    padded_x[:, :, padding:(x_numpy.shape[2]+padding), padding:(x_numpy.shape[3]+padding)] = x_numpy\n",
    "  \n",
    "    for i in range(h_out):\n",
    "      for j in range(w_out):\n",
    "        h_start = i * stride\n",
    "        h_end = h_start + kernel_size\n",
    "        w_start = j * stride\n",
    "        w_end = w_start + kernel_size\n",
    "\n",
    "        x_slice = padded_x[:, :, h_start:h_end, w_start:w_end]\n",
    "        output[:, :, i, j] = np.mean(x_slice, axis = (2, 3))\n",
    "\n",
    "    y = torch.from_numpy(output)\n",
    "    # === Complete the code\n",
    "    return y"
   ]
  },
  {
   "cell_type": "code",
   "execution_count": 10,
   "metadata": {
    "id": "9gsDytvKg5c1"
   },
   "outputs": [],
   "source": [
    "def my_conv(x, in_channels, out_channels, kernel_size, stride, padding, weight, bias):\n",
    "    \"\"\"\n",
    "    Args:\n",
    "        x: torch tensor with size (N, C_in, H_in, W_in),\n",
    "        in_channels: number of channels in the input image, it is C_in;\n",
    "        out_channels: number of channels produced by the convolution;\n",
    "        kernel_size: size of onvolving kernel, \n",
    "        stride: stride of the convolution,\n",
    "        padding: implicit zero padding to be added on both sides of each dimension,\n",
    "        \n",
    "    Return:\n",
    "        y: torch tensor of size (N, C_out, H_out, W_out)\n",
    "    \"\"\"\n",
    "\n",
    "    y = None\n",
    "    # === Complete the code (0.5')\n",
    "    x_numpy = x.numpy()\n",
    "    n, c_in, h_in, w_in = x_numpy.shape\n",
    "    \n",
    "    weight_numpy = weight.detach().numpy()\n",
    "    n_w, c_w, h_w, w_w = weight_numpy.shape\n",
    "    bias_numpy = bias.detach().numpy()\n",
    "    \n",
    "    h_out = math.floor((h_in + 2*padding - kernel_size)/stride + 1)\n",
    "    w_out = math.floor((w_in + 2*padding - kernel_size)/stride + 1)\n",
    "    output = np.zeros((n, out_channels, h_out, w_out))\n",
    "\n",
    "    # Need to pad\n",
    "    padded_x = np.zeros((n, c_in, h_in + 2*padding, w_in + 2*padding))\n",
    "    padded_x[:, :, padding:(x_numpy.shape[2]+padding), padding:(x_numpy.shape[3]+padding)] = x_numpy\n",
    "\n",
    "    for k in range(n):\n",
    "      for out_c in range(out_channels):\n",
    "        for i in range(h_out):\n",
    "          for j in range(w_out):\n",
    "            h_start = i * stride\n",
    "            h_end = h_start + kernel_size\n",
    "            w_start = j * stride\n",
    "            w_end = w_start + kernel_size\n",
    "\n",
    "            result = 0\n",
    "            for in_c in range(in_channels):\n",
    "              x_slice = padded_x[k, in_c, h_start:h_end, w_start:w_end]\n",
    "              a = np.multiply(x_slice, weight_numpy[out_c, in_c])\n",
    "              result += np.sum(a)\n",
    "\n",
    "            output[k, out_c, i, j] = result + bias_numpy[out_c]\n",
    "\n",
    "    y = torch.from_numpy(output)\n",
    "    # === Complete the code\n",
    "    return y"
   ]
  },
  {
   "cell_type": "code",
   "execution_count": 11,
   "metadata": {
    "id": "8sX0oRyTg-m6"
   },
   "outputs": [],
   "source": [
    "def my_batchnorm(x, num_features, eps):\n",
    "    \"\"\"\n",
    "    Args:\n",
    "        x: torch tensor with size (N, C, H, W),\n",
    "        num_features: number of features in the input tensor, it is C;\n",
    "        eps: a value added to the denominator for numerical stability. Default: 1e-5\n",
    "        \n",
    "    Return:\n",
    "        y: torch tensor of size (N, C, H, W)\n",
    "    \"\"\"\n",
    "\n",
    "    y = torch.empty_like(x)\n",
    "    # === Complete the code (0.5')\n",
    "    x_numpy = x.numpy()\n",
    "    N, C, H, W = x_numpy.shape\n",
    "     \n",
    "    output = y.numpy()\n",
    "\n",
    "    for in_c in range(num_features):\n",
    "      x_slice = x_numpy[:, in_c]\n",
    "\n",
    "      for i in range(H):\n",
    "        for j in range(W):\n",
    "          output[:, in_c, i, j] = (x_numpy[:, in_c, i, j] - x_slice.mean()) / (x_slice.var() + eps)**0.5\n",
    "\n",
    "    y = torch.from_numpy(output)\n",
    "    # === Complete the code\n",
    "    return y"
   ]
  },
  {
   "cell_type": "code",
   "execution_count": 12,
   "metadata": {
    "id": "ZqwnIjPOhCQm"
   },
   "outputs": [],
   "source": [
    "def my_sigmoid(x):\n",
    "    \"\"\"\n",
    "    Args:\n",
    "        x: torch tensor with any size\n",
    "\n",
    "    Return:\n",
    "        y: the logistic sigmoid function of x\n",
    "    \"\"\"\n",
    "    y = None\n",
    "    # === Complete the code (0.5')\n",
    "    y = 1 / (1 + np.exp(-x))\n",
    "    # === Complete the code\n",
    "    return y"
   ]
  },
  {
   "cell_type": "code",
   "execution_count": 13,
   "metadata": {
    "id": "ZPIFPl3ehEFh"
   },
   "outputs": [],
   "source": [
    "def my_cross_entropy(p, y):\n",
    "    \"\"\"\n",
    "    Args:\n",
    "        p: torch tensor with size of (N, C),\n",
    "        y (int): torch tensor with size of (N), the values range from 0 to C-1\n",
    "\n",
    "    Return:\n",
    "        loss: the cross_entropy of predicted values p and target y.\n",
    "    \"\"\"\n",
    "    loss = None\n",
    "    # === Complete the code (0.5')\n",
    "    N, C = p.shape\n",
    "    log_loss = torch.zeros(N, C)\n",
    "\n",
    "    for i in range(N):\n",
    "        p_sum = 0\n",
    "        for j in range(C):\n",
    "            p_sum += np.exp(p[i, j])\n",
    "        \n",
    "        for j in range(C):\n",
    "            log_loss[i, j] = np.log(np.exp(p[i, j]) / p_sum)\n",
    "\n",
    "    loss = 0\n",
    "    for i in range(N):\n",
    "        loss -= log_loss[i, y[i]]\n",
    "        \n",
    "    loss /= N\n",
    "    # === Complete the code\n",
    "    return loss"
   ]
  },
  {
   "cell_type": "code",
   "execution_count": 14,
   "metadata": {
    "id": "dMnKzeVuhGxu"
   },
   "outputs": [],
   "source": [
    "my_max_pool_out = my_max_pool(x, kernel_size=2, stride=1, padding=0)\n",
    "my_avg_pool_out = my_avg_pool(x, kernel_size=2, stride=1, padding=0)\n",
    "my_conv_out = my_conv(x,\n",
    "                      in_channels=3,\n",
    "                      out_channels=6,\n",
    "                      kernel_size=3,\n",
    "                      stride=1,\n",
    "                      padding=0,\n",
    "                      weight=torch_conv.weight,\n",
    "                      bias=torch_conv.bias)\n",
    "my_norm_out = my_batchnorm(x, num_features=3, eps=1e-5)"
   ]
  },
  {
   "cell_type": "code",
   "execution_count": 15,
   "metadata": {
    "id": "yUOZJ875hLAD"
   },
   "outputs": [],
   "source": [
    "my_sigmoid_out = my_sigmoid(x)\n",
    "my_cross_entropy_out = my_cross_entropy(x[::, ::, 0, 0], tmp_tensor)"
   ]
  },
  {
   "cell_type": "markdown",
   "metadata": {
    "id": "jO-EHT7wm7Dk"
   },
   "source": [
    "### Step 4\n",
    "\n",
    "Compare and show that \"torch_xxx_out\" and \"my_xxx_out\" are equal up to small numerical errors."
   ]
  },
  {
   "cell_type": "code",
   "execution_count": 16,
   "metadata": {
    "colab": {
     "base_uri": "https://localhost:8080/"
    },
    "id": "eXnNfKKJhOAi",
    "outputId": "eb30deda-0869-4bb3-f492-30c6c738723d"
   },
   "outputs": [
    {
     "name": "stdout",
     "output_type": "stream",
     "text": [
      "tensor(0., dtype=torch.float64)\n",
      "tensor(4.2491e-16, dtype=torch.float64)\n",
      "tensor(3.1710e-15, dtype=torch.float64, grad_fn=<MseLossBackward0>)\n",
      "tensor(2.9662e-15, grad_fn=<MseLossBackward0>)\n"
     ]
    }
   ],
   "source": [
    "print(F.mse_loss(my_max_pool_out, torch_max_pool_out))\n",
    "print(F.mse_loss(my_avg_pool_out, torch_avg_pool_out))\n",
    "print(F.mse_loss(my_conv_out, torch_conv_out))\n",
    "print(F.mse_loss(my_norm_out, torch_norm_out))"
   ]
  },
  {
   "cell_type": "code",
   "execution_count": 17,
   "metadata": {
    "colab": {
     "base_uri": "https://localhost:8080/"
    },
    "id": "hHxuCzkmhP4l",
    "outputId": "84118ce5-b22b-48dc-9579-4c7556f2a093"
   },
   "outputs": [
    {
     "name": "stdout",
     "output_type": "stream",
     "text": [
      "tensor(3.6253e-16)\n",
      "tensor(0.)\n"
     ]
    }
   ],
   "source": [
    "print(F.mse_loss(my_sigmoid_out, torch_sigmoid_out))\n",
    "print(F.mse_loss(my_cross_entropy_out, torch_cross_entropy_out))"
   ]
  },
  {
   "cell_type": "markdown",
   "metadata": {
    "id": "CJFZB_A7ddrC"
   },
   "source": [
    "## Train CNNs on CIFAR-10 dataset"
   ]
  },
  {
   "cell_type": "markdown",
   "metadata": {
    "id": "88y6cXmPs7_E"
   },
   "source": [
    "Implement a CNN and train for CIFAR10 with these definitions:\n",
    "\n",
    "1. cA-B = Conv2d with input A channels, output B channels - kernel size 3x3, stride (1,1), padding with zeros to keep image size constant, followed by ReLU;\n",
    "\n",
    "2. mp = maxpool2d kernel size 2x2, stride (2,2);\n",
    "\n",
    "3. bn = batchnorm2d with affine=False (i.e. non learning batch norm);\n",
    "\n",
    "4. fcA-B = nn.linear with input A nodes, output B nodes;\n",
    "\n",
    "5. aap = adaptive average pooling.\n",
    "\n",
    "Use the definition to make the architecture c3-16 -> c16-16 -> mp -> c16-32 -> c32-32 -> mp -> c32-64 -> c64-64 -> mp -> c64-128 -> c128-128 -> aap -> flatten -> fc128-10 -> cross entropy loss. Adjust learning rate, batch size and other hyper parameters to make classification results **> 75%**."
   ]
  },
  {
   "cell_type": "code",
   "execution_count": 18,
   "metadata": {
    "id": "HeUlgbGgg9JI"
   },
   "outputs": [],
   "source": [
    "# === Complete the code (1')\n",
    "num_epoch = 20 # TODO: please define the number of epoch here.\n",
    "batch_size = 128 # TODO: please fill the batch size here.\n",
    "# === Complete the code"
   ]
  },
  {
   "cell_type": "code",
   "execution_count": 19,
   "metadata": {
    "colab": {
     "base_uri": "https://localhost:8080/"
    },
    "id": "e9DLvGs6hmLJ",
    "outputId": "e7bd2bff-49a4-4c3b-9651-e00c47b05f57"
   },
   "outputs": [
    {
     "name": "stdout",
     "output_type": "stream",
     "text": [
      "Files already downloaded and verified\n",
      "Files already downloaded and verified\n"
     ]
    }
   ],
   "source": [
    "transform = transforms.Compose(\n",
    "    [transforms.ToTensor(),\n",
    "     transforms.Normalize((0.5, 0.5, 0.5), (0.5, 0.5, 0.5))])\n",
    "\n",
    "trainset = torchvision.datasets.CIFAR10(root='./data',\n",
    "                                        train=True,\n",
    "                                        download=True,\n",
    "                                        transform=transform)\n",
    "trainloader = torch.utils.data.DataLoader(trainset,\n",
    "                                          batch_size=batch_size,\n",
    "                                          shuffle=True,\n",
    "                                          num_workers=1)\n",
    "\n",
    "testset = torchvision.datasets.CIFAR10(root='./data',\n",
    "                                       train=False,\n",
    "                                       download=True,\n",
    "                                       transform=transform)\n",
    "testloader = torch.utils.data.DataLoader(testset,\n",
    "                                         batch_size=batch_size,\n",
    "                                         shuffle=False,\n",
    "                                         num_workers=1)"
   ]
  },
  {
   "cell_type": "code",
   "execution_count": 20,
   "metadata": {
    "id": "o0VD5zmxhvkT"
   },
   "outputs": [],
   "source": [
    "from torch.nn.modules import activation\n",
    "# Creating a CNN model\n",
    "class CNN(nn.Module):\n",
    "    \n",
    "    def __init__(self, num_classes):\n",
    "        super(CNN, self).__init__()\n",
    "       \n",
    "        # === Complete the code (1.5')\n",
    "        self.conv1 = nn.Conv2d(in_channels=3, out_channels=16, kernel_size=(3, 3), stride=(1, 1), padding=1)\n",
    "        self.conv2 = nn.Conv2d(in_channels=16, out_channels=16, kernel_size=(3, 3), stride=(1, 1), padding=1)\n",
    "        self.conv3 = nn.Conv2d(in_channels=16, out_channels=32, kernel_size=(3, 3), stride=(1, 1), padding=1)\n",
    "        self.conv4 = nn.Conv2d(in_channels=32, out_channels=32, kernel_size=(3, 3), stride=(1, 1), padding=1)\n",
    "        self.conv5 = nn.Conv2d(in_channels=32, out_channels=64, kernel_size=(3, 3), stride=(1, 1), padding=1)\n",
    "        self.conv6 = nn.Conv2d(in_channels=64, out_channels=64, kernel_size=(3, 3), stride=(1, 1), padding=1)\n",
    "        self.conv7 = nn.Conv2d(in_channels=64, out_channels=128, kernel_size=(3, 3), stride=(1, 1), padding=1)\n",
    "        self.conv8 = nn.Conv2d(in_channels=128, out_channels=128, kernel_size=(3, 3), stride=(1, 1), padding=1)\n",
    "\n",
    "        self.relu = nn.ReLU()\n",
    "        self.max_pool = nn.MaxPool2d(kernel_size=(2, 2), stride=(2, 2))\n",
    "        self.aap = nn.AdaptiveAvgPool2d((1, 1))\n",
    "        self.flatten = nn.Flatten()\n",
    "        self.linear = nn.Linear(in_features=128, out_features=num_classes)\n",
    "        # === Complete the code\n",
    "        \n",
    "    def forward(self, x):\n",
    "        # === Complete the code (1.5')\n",
    "        # c3-16 -> c16-16 -> mp -> c16-32 -> c32-32 \n",
    "        # -> mp -> c32-64 -> c64-64 -> mp -> \n",
    "        # c64-128 -> c128-128 -> aap -> \n",
    "        # flatten -> fc128-10 -> cross entropy loss\n",
    "\n",
    "        out = self.relu(self.conv1(x))\n",
    "        out = self.relu(self.conv2(out))\n",
    "        out = self.max_pool(out)\n",
    "\n",
    "        out = self.relu(self.conv3(out))\n",
    "        out = self.relu(self.conv4(out))\n",
    "        out = self.max_pool(out)\n",
    "\n",
    "        out = self.relu(self.conv5(out))\n",
    "        out = self.relu(self.conv6(out))\n",
    "        out = self.max_pool(out)\n",
    "    \n",
    "        out = self.relu(self.conv7(out))\n",
    "        out = self.relu(self.conv8(out))\n",
    "        \n",
    "        out = self.aap(out)\n",
    "        out = self.flatten(out)\n",
    "        out = self.linear(out)\n",
    "        # === Complete the code\n",
    "        return out"
   ]
  },
  {
   "cell_type": "code",
   "execution_count": 21,
   "metadata": {
    "id": "Q8LfQbxThx_0"
   },
   "outputs": [],
   "source": [
    "device = torch.device('cuda:0' if torch.cuda.is_available() else 'cpu')\n",
    "model = CNN(10).to(device)\n",
    "criterion = nn.CrossEntropyLoss()\n",
    "optimizer = torch.optim.Adam(model.parameters(), lr=0.0005)"
   ]
  },
  {
   "cell_type": "code",
   "execution_count": 22,
   "metadata": {
    "colab": {
     "base_uri": "https://localhost:8080/"
    },
    "id": "pYClpDydh0qA",
    "outputId": "6f014700-fe00-4900-fb16-113aaa023be6"
   },
   "outputs": [
    {
     "name": "stdout",
     "output_type": "stream",
     "text": [
      "epoch   0 |   128 batches loss: 2.1159\n",
      "epoch   0 |   256 batches loss: 1.8479\n",
      "epoch   0 |   384 batches loss: 1.6763\n",
      "epoch   1 |   128 batches loss: 1.5885\n",
      "epoch   1 |   256 batches loss: 1.5203\n",
      "epoch   1 |   384 batches loss: 1.4534\n",
      "epoch   2 |   128 batches loss: 1.4011\n",
      "epoch   2 |   256 batches loss: 1.3756\n",
      "epoch   2 |   384 batches loss: 1.3155\n",
      "epoch   3 |   128 batches loss: 1.2670\n",
      "epoch   3 |   256 batches loss: 1.2347\n",
      "epoch   3 |   384 batches loss: 1.2074\n",
      "epoch   4 |   128 batches loss: 1.1632\n",
      "epoch   4 |   256 batches loss: 1.1489\n",
      "epoch   4 |   384 batches loss: 1.1201\n",
      "epoch   5 |   128 batches loss: 1.0721\n",
      "epoch   5 |   256 batches loss: 1.0472\n",
      "epoch   5 |   384 batches loss: 1.0434\n",
      "epoch   6 |   128 batches loss: 0.9925\n",
      "epoch   6 |   256 batches loss: 0.9726\n",
      "epoch   6 |   384 batches loss: 0.9831\n",
      "epoch   7 |   128 batches loss: 0.9392\n",
      "epoch   7 |   256 batches loss: 0.9513\n",
      "epoch   7 |   384 batches loss: 0.9230\n",
      "epoch   8 |   128 batches loss: 0.8638\n",
      "epoch   8 |   256 batches loss: 0.8750\n",
      "epoch   8 |   384 batches loss: 0.8641\n",
      "epoch   9 |   128 batches loss: 0.8307\n",
      "epoch   9 |   256 batches loss: 0.8179\n",
      "epoch   9 |   384 batches loss: 0.8217\n",
      "epoch  10 |   128 batches loss: 0.7816\n",
      "epoch  10 |   256 batches loss: 0.7862\n",
      "epoch  10 |   384 batches loss: 0.7895\n",
      "epoch  11 |   128 batches loss: 0.7366\n",
      "epoch  11 |   256 batches loss: 0.7450\n",
      "epoch  11 |   384 batches loss: 0.7313\n",
      "epoch  12 |   128 batches loss: 0.6932\n",
      "epoch  12 |   256 batches loss: 0.7049\n",
      "epoch  12 |   384 batches loss: 0.7010\n",
      "epoch  13 |   128 batches loss: 0.6683\n",
      "epoch  13 |   256 batches loss: 0.6791\n",
      "epoch  13 |   384 batches loss: 0.6624\n",
      "epoch  14 |   128 batches loss: 0.6363\n",
      "epoch  14 |   256 batches loss: 0.6432\n",
      "epoch  14 |   384 batches loss: 0.6363\n",
      "epoch  15 |   128 batches loss: 0.6041\n",
      "epoch  15 |   256 batches loss: 0.5934\n",
      "epoch  15 |   384 batches loss: 0.6096\n",
      "epoch  16 |   128 batches loss: 0.5744\n",
      "epoch  16 |   256 batches loss: 0.5841\n",
      "epoch  16 |   384 batches loss: 0.5781\n",
      "epoch  17 |   128 batches loss: 0.5459\n",
      "epoch  17 |   256 batches loss: 0.5551\n",
      "epoch  17 |   384 batches loss: 0.5532\n",
      "epoch  18 |   128 batches loss: 0.5304\n",
      "epoch  18 |   256 batches loss: 0.5323\n",
      "epoch  18 |   384 batches loss: 0.5295\n",
      "epoch  19 |   128 batches loss: 0.4961\n",
      "epoch  19 |   256 batches loss: 0.4967\n",
      "epoch  19 |   384 batches loss: 0.5053\n",
      "Finished Training\n"
     ]
    }
   ],
   "source": [
    "for epoch in range(num_epoch):\n",
    "\n",
    "    running_loss = 0.0\n",
    "    for i, data in enumerate(trainloader, 0):\n",
    "\n",
    "        inputs, labels = data[0].to(device), data[1].to(device)\n",
    "        # === Complete the code (1')\n",
    "        predicted = model.forward(inputs)\n",
    "        loss = criterion(predicted, labels)\n",
    "        \n",
    "        optimizer.zero_grad()\n",
    "        loss.backward()\n",
    "        optimizer.step()\n",
    "        # === Complete the code\n",
    "\n",
    "        running_loss += loss.item()\n",
    "        if (i + 1) % 128 == 0:\n",
    "            print('epoch {:3d} | {:5d} batches loss: {:.4f}'.format(epoch, i + 1, running_loss/128))\n",
    "            running_loss = 0.0\n",
    "\n",
    "print('Finished Training')"
   ]
  },
  {
   "cell_type": "code",
   "execution_count": 23,
   "metadata": {
    "id": "kuzhd2zWh415"
   },
   "outputs": [],
   "source": [
    "dataiter = iter(testloader)\n",
    "images, labels = dataiter.next()"
   ]
  },
  {
   "cell_type": "code",
   "execution_count": 24,
   "metadata": {
    "colab": {
     "base_uri": "https://localhost:8080/"
    },
    "id": "K0_3yVTTh-U6",
    "outputId": "790d597d-206c-4143-a126-511410a67e34"
   },
   "outputs": [
    {
     "name": "stdout",
     "output_type": "stream",
     "text": [
      "Accuracy of the network on the 10000 test images: 76 %\n"
     ]
    }
   ],
   "source": [
    "correct = 0\n",
    "total = 0\n",
    "with torch.no_grad():\n",
    "    for data in testloader:\n",
    "        #images, labels = data\n",
    "        images, labels = data[0].to(device), data[1].to(device)\n",
    "        outputs = model(images)\n",
    "        _, predicted = torch.max(outputs.data, 1)\n",
    "        total += labels.size(0)\n",
    "        correct += (predicted == labels).sum().item()\n",
    "\n",
    "print(f'Accuracy of the network on the 10000 test images: {100 * correct // total} %')"
   ]
  },
  {
   "cell_type": "markdown",
   "metadata": {
    "id": "z53XxMASdm-A"
   },
   "source": [
    "## Discussion (2 points)"
   ]
  },
  {
   "cell_type": "markdown",
   "metadata": {
    "id": "QpbGzIo9dqWN"
   },
   "source": [
    "Calculate Parameters and FLOPs(Floating point operations) of **AlexNet** and analyse the ratio of the number of parameters and the amount of calculations for different layers in AlexNet.\n",
    "\n",
    "Hint:\n",
    "\n",
    "1. You can refer https://pytorch.org/vision/stable/_modules/torchvision/models/alexnet.html for architecture of AlexNet.\n",
    "2. You only need to make estimates and do not need to perform rigorous calculations, (e.g. only consider the FLOPs of the convolution and FC in AlexNet model)\n",
    "3. Because Multiply Accumulate (MAC) operations are performed on the hardware, it is possible to simply consider only the number of multiplications when considering the number of operations when calculating FLOPs."
   ]
  },
  {
   "cell_type": "markdown",
   "metadata": {
    "id": "PB9Y3Ag5fPnV"
   },
   "source": [
    "## Convolutional layers\n",
    "**Note: Ignoring bias for each layer for simplicity.**\n",
    "`E.g.: [(3*64*11*11) + 64] ~= (3*64*11*11)`\n",
    "\n",
    "```\n",
    "nn.Conv2d(3, 64, kernel_size=11, stride=4, padding=2) \n",
    "nn.ReLU(inplace=True),\n",
    "nn.MaxPool2d(kernel_size=3, stride=2),                 \n",
    "nn.Conv2d(64, 192, kernel_size=5, padding=2),         \n",
    "nn.ReLU(inplace=True),\n",
    "nn.MaxPool2d(kernel_size=3, stride=2),\n",
    "nn.Conv2d(192, 384, kernel_size=3, padding=1),         \n",
    "nn.ReLU(inplace=True),\n",
    "nn.Conv2d(384, 256, kernel_size=3, padding=1),         \n",
    "nn.ReLU(inplace=True),\n",
    "nn.Conv2d(256, 256, kernel_size=3, padding=1),        \n",
    "nn.ReLU(inplace=True),\n",
    "nn.MaxPool2d(kernel_size=3, stride=2),\n",
    "```\n",
    "\n",
    "### No. of parameters\n",
    "= Input channels * Output channels * Kernel Size\n",
    "```\n",
    "Layer 1: 3*64*11*11 = 23232\n",
    "Layer 2: 64*192*5*5 = 307200\n",
    "Layer 3: 192*384*3*3 = 663552\n",
    "Layer 4: 384*256*3*3 = 884736\n",
    "Layer 5: 256*256*3*3 = 589824\n",
    "\n",
    "Total Parameters = 2,468,544\n",
    "```\n",
    "\n",
    "### No. of FLOPs\n",
    "= No. of paramters * (Width+2*Padding)/Stride * (Height+2*Padding)/Stride\n",
    "```\n",
    "Input Size of Image: 224*224\n",
    "Layer 1: 23232*(224+2*2)/4*(224+2*2)/4 = 75480768 \n",
    "\n",
    "Input size: 57/2*57/2 (MaxPool)\n",
    "Layer 2: 307200*(28+2*2)*(28+2*2) = 314572800\n",
    "\n",
    "Input size: 32/2*32/2 (MaxPool)\n",
    "Layer 3: 663552*(16+2*1)*(16+2*1) = 214990848\n",
    "\n",
    "Input size: 18*18\n",
    "Layer 4: 884736*(18+2*1)*(18+2*1) = 353894400\n",
    "\n",
    "Input size: 20*20\n",
    "Layer 5: 589824*(20+2*1)*(20+2*1) = 285474816\n",
    "Output size: 22/2*22/2 (MaxPool)\n",
    "\n",
    "Total FLOPs = 1,244,413,632\n",
    "```\n",
    "\n",
    "\n",
    "## Dense layers\n",
    "**Note: No. of parameters. = No. on FLOPs**\n",
    "```\n",
    "nn.Dropout(p=dropout),\n",
    "nn.Linear(256 * 6 * 6, 4096),    \n",
    "nn.ReLU(inplace=True),\n",
    "nn.Dropout(p=dropout),\n",
    "nn.Linear(4096, 4096),          \n",
    "nn.ReLU(inplace=True),\n",
    "nn.Linear(4096, num_classes),  \n",
    "```\n",
    "\n",
    "### No. of parameters/FLOPs\n",
    "= Input channels * Output channels * Kernel Size\n",
    "```\n",
    "Layer 1: 256*6*6*4096 = 37748736 \n",
    "Layer 2: 4096*4096 = 16777216\n",
    "Layer 3: 4096*1000 = 4096000\n",
    "\n",
    "Total Parameters/FLOPs = 58,621,952\n",
    "```\n",
    "\n",
    "- Total no. of paramaters. = 2,468,544 + 58,621,952 = 61,090,496\n",
    "- Total no. of FLOPs. = 1,244,413,632 + 58,621,952 = 1,303,035,584\n",
    "\n",
    "\n",
    "## Ratio = Parameters/FLOPs\n",
    "\n",
    "```\n",
    "Layer 1 = 0.0003\n",
    "Layer 2 = 0.001\n",
    "Layer 3 = 0.003\n",
    "Layer 4 = 0.0025\n",
    "Layer 5 = 0.002\n",
    "Layer 6 = 1\n",
    "Layer 7 = 1\n",
    "Layer 8 = 1\n",
    "```\n",
    "\n",
    "\n",
    "### Analysis\n",
    "1. No. of parameters of dense layers >> no. of parameters of convolutional layers. \n",
    "2. No. of FLOPs per convolutional layer >> no. of FLOPs per linear layer.\n",
    "3. The ratio of the convolutional layers increases and then decreases in order to learn only the most important complexities of each layer.\n",
    "4. The ratio of the linear layer = 1 which means that 1 parameter is learnt per FLOP, i.e., more no. of parameters are required for learning of the model properly as compared to convolutional layers."
   ]
  },
  {
   "cell_type": "code",
   "execution_count": null,
   "metadata": {},
   "outputs": [],
   "source": []
  }
 ],
 "metadata": {
  "accelerator": "GPU",
  "colab": {
   "collapsed_sections": [],
   "provenance": []
  },
  "gpuClass": "standard",
  "kernelspec": {
   "display_name": "Python 3 (ipykernel)",
   "language": "python",
   "name": "python3"
  },
  "language_info": {
   "codemirror_mode": {
    "name": "ipython",
    "version": 3
   },
   "file_extension": ".py",
   "mimetype": "text/x-python",
   "name": "python",
   "nbconvert_exporter": "python",
   "pygments_lexer": "ipython3",
   "version": "3.10.6"
  }
 },
 "nbformat": 4,
 "nbformat_minor": 1
}
