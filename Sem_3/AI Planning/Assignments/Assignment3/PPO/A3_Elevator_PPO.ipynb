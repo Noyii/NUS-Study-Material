{
  "cells": [
    {
      "cell_type": "markdown",
      "metadata": {
        "id": "c13c63a6"
      },
      "source": [
        "# Imports and Installations"
      ]
    },
    {
      "cell_type": "code",
      "execution_count": 1,
      "metadata": {
        "id": "8U02_AG3900U",
        "colab": {
          "base_uri": "https://localhost:8080/"
        },
        "outputId": "ae1a4750-2439-4923-9d53-97efdb1bcb09"
      },
      "outputs": [
        {
          "output_type": "stream",
          "name": "stdout",
          "text": [
            "  Preparing metadata (setup.py) ... \u001b[?25l\u001b[?25hdone\n",
            "  Building wheel for pyRDDLGym (setup.py) ... \u001b[?25l\u001b[?25hdone\n",
            "\u001b[31mERROR: pip's dependency resolver does not currently take into account all the packages that are installed. This behaviour is the source of the following dependency conflicts.\n",
            "lida 0.0.10 requires fastapi, which is not installed.\n",
            "lida 0.0.10 requires kaleido, which is not installed.\n",
            "lida 0.0.10 requires python-multipart, which is not installed.\n",
            "lida 0.0.10 requires uvicorn, which is not installed.\n",
            "llmx 0.0.15a0 requires cohere, which is not installed.\n",
            "llmx 0.0.15a0 requires openai, which is not installed.\n",
            "llmx 0.0.15a0 requires tiktoken, which is not installed.\n",
            "cupy-cuda11x 11.0.0 requires numpy<1.26,>=1.20, but you have numpy 1.26.2 which is incompatible.\n",
            "dopamine-rl 4.0.6 requires gym<=0.25.2, but you have gym 0.26.2 which is incompatible.\n",
            "imageio 2.31.6 requires pillow<10.1.0,>=8.3.2, but you have pillow 10.1.0 which is incompatible.\u001b[0m\u001b[31m\n",
            "\u001b[0m"
          ]
        }
      ],
      "source": [
        "#First install pyRDDL as following\n",
        "\n",
        "!pip install -q git+https://github.com/tasbolat1/pyRDDLGym.git --force-reinstall\n",
        "\n",
        "## Install other packages if needed"
      ]
    },
    {
      "cell_type": "code",
      "execution_count": 2,
      "metadata": {
        "id": "-gknJ0Ud97HT"
      },
      "outputs": [],
      "source": [
        "import torch\n",
        "import torch.nn as nn\n",
        "import torch.optim as optim\n",
        "import torch.nn.functional as F\n",
        "\n",
        "import copy\n",
        "import itertools\n",
        "import numpy as np\n",
        "import random\n",
        "import tqdm\n",
        "import matplotlib.pyplot as plt\n",
        "from collections import deque\n",
        "\n",
        "from pyRDDLGym.Visualizer.MovieGenerator import MovieGenerator # loads visualizer utilites\n",
        "from IPython.display import Image, display, clear_output # for displaying gifs in colab\n",
        "from pyRDDLGym.Elevator import Elevator # imports Discrete Elevator"
      ]
    },
    {
      "cell_type": "code",
      "source": [
        "# Extra imports\n",
        "from torch.distributions import Categorical"
      ],
      "metadata": {
        "id": "aOuhkrHmC-v6"
      },
      "execution_count": 3,
      "outputs": []
    },
    {
      "cell_type": "markdown",
      "metadata": {
        "id": "fGHWCiCnfCO4"
      },
      "source": [
        "# Environment Initialization"
      ]
    },
    {
      "cell_type": "code",
      "execution_count": 42,
      "metadata": {
        "id": "o1E0mIDq-LXu",
        "colab": {
          "base_uri": "https://localhost:8080/"
        },
        "outputId": "bd540f60-b831-460f-a028-c9ba89a16fe5"
      },
      "outputs": [
        {
          "output_type": "stream",
          "name": "stdout",
          "text": [
            "/usr/local/lib/python3.10/dist-packages/pyRDDLGym/Examples /usr/local/lib/python3.10/dist-packages/pyRDDLGym/Examples/manifest.csv\n",
            "Available example environment(s):\n",
            "CartPole_discrete -> A simple continuous state MDP for the classical cart-pole system by Rich Sutton, with discrete actions that apply a constant force on either the left or right side of the cart.\n",
            "CartPole_continuous -> A simple continuous state-action MDP for the classical cart-pole system by Rich Sutton, with actions that describe the continuous force applied to the cart.\n",
            "SupplyChain -> A supply chain with factory and multiple warehouses.\n",
            "NewLanguage -> Example with new language features.\n",
            "NewtonZero -> Example with Newton root-finding method.\n",
            "PropDBN -> Simple propositional DBN.\n",
            "SupplyChainNet -> A supply chain network with factory and multiple warehouses.\n",
            "Traffic -> BLX/QTM traffic model.\n",
            "Wildfire -> A boolean version of the wildfire fighting domain.\n",
            "MountainCar -> A simple continuous MDP for the classical mountain car control problem.\n",
            "MarsRover -> Multi Rover Navigation, where a group of agent needs to harvest mineral.\n",
            "HVAC -> Multi-zone and multi-heater HVAC control problem\n",
            "Elevators -> The Elevator domain models evening rush hours when people from different floors in a building want to go down to the bottom floor using elevators.\n",
            "RaceCar -> A simple continuous MDP for the racecar problem.\n",
            "Reservoir_discrete -> Discrete version of management of the water level in interconnected reservoirs.\n",
            "Reservoir_continuous -> Continuous action version of management of the water level in interconnected reservoirs.\n",
            "RecSim -> A problem of recommendation systems, with consumers and providers.\n",
            "PowerGen_discrete -> A simple power generation problem loosely modeled on the problem of unit commitment.\n",
            "PowerGen_continuous -> A continuous simple power generation problem loosely modeled on the problem of unit commitment.\n",
            "UAV_discrete -> Discrete action space version of multi-UAV problem where a group of UAVs have to reach goal positions in the 3d Space.\n",
            "UAV_continuous -> Continuous action space version of multi-UAV problem where a group of UAVs have to reach goal positions in the 3d Space.\n",
            "UAV_mixed -> Mixed action space version of multi-UAV problem where a group of UAVs have to reach goal positions in the 3d Space.\n",
            "The building has 4 floors and 1 elevators. Each floor has maximum 3 people waiting. Each elevator can carry maximum of 10 people.\n"
          ]
        },
        {
          "output_type": "stream",
          "name": "stderr",
          "text": [
            "/usr/local/lib/python3.10/dist-packages/pyRDDLGym/Core/Env/RDDLConstraints.py:85: UserWarning: Constraint does not have a structure of <action or state fluent> <op> <rhs>, where:\n",
            "<op> is one of {<=, <, >=, >}\n",
            "<rhs> is a deterministic function of non-fluents or constants only.\n",
            ">> ( sum_{?f: floor} [ elevator-at-floor(?e, ?f) ] ) == 1\n",
            "  warnings.warn(\n"
          ]
        },
        {
          "output_type": "stream",
          "name": "stdout",
          "text": [
            "Discrete environment actions:\n",
            "{0: ('e0_movcurdir_0',), 1: ('e0_movcurdir_1',), 2: ('e0_close_0',), 3: ('e0_close_1',), 4: ('e0_open_0',), 5: ('e0_open_1',)}\n",
            "Continuous environment actions:\n",
            "Dict('move-current-dir___e0': Discrete(2), 'open-door___e0': Discrete(2), 'close-door___e0': Discrete(2))\n",
            "Observation space size for the discrete Elevator Environment: 45056\n"
          ]
        }
      ],
      "source": [
        "env = Elevator(instance = 4)\n",
        "print('Discrete environment actions:')\n",
        "print(env.disc_actions)\n",
        "print('Continuous environment actions:')\n",
        "print(env.base_env.action_space)\n",
        "print(f\"Observation space size for the discrete Elevator Environment: {len(env.disc_states)}\")"
      ]
    },
    {
      "cell_type": "markdown",
      "metadata": {
        "id": "e13dca8b"
      },
      "source": [
        "# Hyperparameters"
      ]
    },
    {
      "cell_type": "code",
      "execution_count": 43,
      "metadata": {
        "id": "uZrE28ZRGBmk"
      },
      "outputs": [],
      "source": [
        "# Define hyperparameters\n",
        "\n",
        "## IMPORTANT: <BEGIN> DO NOT CHANGE THIS CODE!\n",
        "## GENERAL HYPERPARAMS\n",
        "num_episodes = 3000\n",
        "## IMPORTANT: <END> DO NOT CHANGE THIS CODE!\n",
        "\n",
        "learning_rate = 3e-4\n",
        "batch_size = 64\n",
        "clip_value = 0.2  # Gradient clipping value\n",
        "\n",
        "## ALGO SPECIFIC HYPERPARAMS\n",
        "# Update the hyperparams as necessary for your implementation\n",
        "K_epochs = 80\n",
        "gamma = 0.95\n",
        "state_dim = 11\n",
        "action_dim = 6\n",
        "lr_actor = 0.0003\n",
        "lr_critic = 0.001"
      ]
    },
    {
      "cell_type": "markdown",
      "metadata": {
        "id": "53155607"
      },
      "source": [
        "# Model Definition (COPY THIS OVER TO your AGENT.PY)\n"
      ]
    },
    {
      "cell_type": "code",
      "execution_count": 44,
      "metadata": {
        "id": "2bLSWBgLGEVC"
      },
      "outputs": [],
      "source": [
        "# Define the Model here - all component models (in case of actor-critic or others) MUST subclass nn.Module\n",
        "class YourModel(nn.Module):\n",
        "    def __init__(self):\n",
        "        super(YourModel, self).__init__()\n",
        "        # Your model layers and initializations here\n",
        "        self.device = torch.device(\"cuda:0\" if torch.cuda.is_available() else \"cpu\")\n",
        "\n",
        "        self.gamma = gamma\n",
        "        self.eps_clip = clip_value\n",
        "        self.K_epochs = K_epochs\n",
        "        self.state_dim = state_dim\n",
        "        self.action_dim = action_dim\n",
        "\n",
        "        self.buffer = RolloutBuffer()\n",
        "\n",
        "        self.policy = ActorCritic(self.state_dim, self.action_dim).to(self.device)\n",
        "        self.optimizer = torch.optim.Adam([\n",
        "                        {'params': self.policy.actor.parameters(), 'lr': lr_actor},\n",
        "                        {'params': self.policy.critic.parameters(), 'lr': lr_critic}\n",
        "                    ])\n",
        "        # self.scheduler = torch.optim.lr_scheduler.ExponentialLR(self.optimizer, gamma=0.9)\n",
        "\n",
        "        self.policy_old = ActorCritic(self.state_dim, self.action_dim).to(self.device)\n",
        "        self.policy_old.load_state_dict(self.policy.state_dict())\n",
        "\n",
        "        self.MseLoss = nn.MSELoss()\n",
        "\n",
        "\n",
        "    def update(self):\n",
        "        # Monte Carlo estimate of returns\n",
        "        rewards = []\n",
        "        discounted_reward = 0\n",
        "        for reward, is_terminal in zip(reversed(self.buffer.rewards), reversed(self.buffer.is_terminals)):\n",
        "            if is_terminal:\n",
        "                discounted_reward = 0\n",
        "            discounted_reward = reward + (self.gamma * discounted_reward)\n",
        "            rewards.insert(0, discounted_reward)\n",
        "\n",
        "        # Normalizing the rewards\n",
        "        rewards = torch.tensor(rewards, dtype=torch.float32).to(self.device)\n",
        "        rewards = (rewards - rewards.mean()) / (rewards.std() + 1e-7)\n",
        "\n",
        "        # convert list to tensor\n",
        "        old_states = torch.squeeze(torch.stack(self.buffer.states, dim=0)).detach().to(self.device)\n",
        "        old_actions = torch.squeeze(torch.stack(self.buffer.actions, dim=0)).detach().to(self.device)\n",
        "        old_logprobs = torch.squeeze(torch.stack(self.buffer.logprobs, dim=0)).detach().to(self.device)\n",
        "        old_state_values = torch.squeeze(torch.stack(self.buffer.state_values, dim=0)).detach().to(self.device)\n",
        "\n",
        "        # calculate advantages\n",
        "        advantages = rewards.detach() - old_state_values.detach()\n",
        "\n",
        "        # Optimize policy for K epochs\n",
        "        for _ in range(self.K_epochs):\n",
        "\n",
        "          # Evaluating old actions and values\n",
        "          logprobs, state_values, dist_entropy = self.policy.evaluate(old_states, old_actions)\n",
        "\n",
        "          # match state_values tensor dimensions with rewards tensor\n",
        "          state_values = torch.squeeze(state_values)\n",
        "\n",
        "          # Finding the ratio (pi_theta / pi_theta__old)\n",
        "          ratios = torch.exp(logprobs - old_logprobs.detach())\n",
        "\n",
        "          # Finding Surrogate Loss\n",
        "          surr1 = ratios * advantages\n",
        "          surr2 = torch.clamp(ratios, 1-self.eps_clip, 1+self.eps_clip) * advantages\n",
        "\n",
        "          # final loss of clipped objective PPO\n",
        "          loss = -torch.min(surr1, surr2) + 0.5 * self.MseLoss(state_values, rewards) - 0.01 * dist_entropy\n",
        "\n",
        "          # take gradient step\n",
        "          self.optimizer.zero_grad()\n",
        "          loss.mean().backward()\n",
        "          self.optimizer.step()\n",
        "\n",
        "        # self.scheduler.step()\n",
        "\n",
        "\n",
        "        # Copy new weights into old policy\n",
        "        self.policy_old.load_state_dict(self.policy.state_dict())\n",
        "\n",
        "        # clear buffer\n",
        "        self.buffer.clear()\n",
        "\n",
        "\n",
        "    def forward(self, x):\n",
        "        # x will be a tensor with shape [batch_size, 11]\n",
        "        # Your forward pass logic here\n",
        "        # Ensure the output has shape [batch_size, 6]\n",
        "        with torch.no_grad():\n",
        "          state = torch.FloatTensor(x).to(device)\n",
        "          action, action_logprob, state_val = self.policy_old.act(state)\n",
        "\n",
        "        self.buffer.states.append(state)\n",
        "        self.buffer.actions.append(action)\n",
        "        self.buffer.logprobs.append(action_logprob)\n",
        "        self.buffer.state_values.append(state_val)\n",
        "\n",
        "        return action.item()"
      ]
    },
    {
      "cell_type": "code",
      "source": [
        "class ActorCritic(nn.Module):\n",
        "    def __init__(self, state_dim, action_dim):\n",
        "        super(ActorCritic, self).__init__()\n",
        "\n",
        "        self.actor = nn.Sequential(\n",
        "                            nn.Linear(state_dim, 64),\n",
        "                            nn.Tanh(),\n",
        "                            nn.Linear(64, 64),\n",
        "                            nn.Tanh(),\n",
        "                            nn.Linear(64, action_dim),\n",
        "                            nn.Softmax(dim=-1)\n",
        "                        )\n",
        "\n",
        "        self.critic = nn.Sequential(\n",
        "                        nn.Linear(state_dim, 64),\n",
        "                        nn.Tanh(),\n",
        "                        nn.Linear(64, 64),\n",
        "                        nn.Tanh(),\n",
        "                        nn.Linear(64, 1)\n",
        "                    )\n",
        "\n",
        "    def act(self, state):\n",
        "        action_probs = self.actor(state)\n",
        "        dist = Categorical(action_probs)\n",
        "\n",
        "        action = dist.sample()\n",
        "        action_logprob = dist.log_prob(action)\n",
        "        state_val = self.critic(state)\n",
        "\n",
        "        return action.detach(), action_logprob.detach(), state_val.detach()\n",
        "\n",
        "    def evaluate(self, state, action):\n",
        "        action_probs = self.actor(state)\n",
        "        dist = Categorical(action_probs)\n",
        "\n",
        "        action_logprobs = dist.log_prob(action)\n",
        "        dist_entropy = dist.entropy()\n",
        "        state_values = self.critic(state)\n",
        "\n",
        "        return action_logprobs, state_values, dist_entropy"
      ],
      "metadata": {
        "id": "GY6bH2U9CQAs"
      },
      "execution_count": 45,
      "outputs": []
    },
    {
      "cell_type": "code",
      "source": [
        "# Define other constructs (replay buffers, etc) as necessary\n",
        "class RolloutBuffer:\n",
        "    def __init__(self):\n",
        "        self.actions = []\n",
        "        self.states = []\n",
        "        self.logprobs = []\n",
        "        self.rewards = []\n",
        "        self.state_values = []\n",
        "        self.is_terminals = []\n",
        "\n",
        "    def clear(self):\n",
        "        del self.actions[:]\n",
        "        del self.states[:]\n",
        "        del self.logprobs[:]\n",
        "        del self.rewards[:]\n",
        "        del self.state_values[:]\n",
        "        del self.is_terminals[:]"
      ],
      "metadata": {
        "id": "h9-ajApLCBQR"
      },
      "execution_count": 46,
      "outputs": []
    },
    {
      "cell_type": "markdown",
      "metadata": {
        "id": "d501d6e1"
      },
      "source": [
        "# Feature Extraction"
      ]
    },
    {
      "cell_type": "code",
      "execution_count": 47,
      "metadata": {
        "id": "c96b0591"
      },
      "outputs": [],
      "source": [
        "## IMPORTANT: DO NOT CHANGE THIS CODE!\n",
        "env_features = list(env.observation_space.keys())\n",
        "\n",
        "def convert_state_to_list(state, env_features):\n",
        "    out = []\n",
        "    for i in env_features:\n",
        "        out.append(state[i])\n",
        "    return out"
      ]
    },
    {
      "cell_type": "markdown",
      "metadata": {
        "id": "d4a67d06"
      },
      "source": [
        "# Neural Net Initialization"
      ]
    },
    {
      "cell_type": "code",
      "execution_count": 82,
      "metadata": {
        "id": "9uRwCjl7GHDJ"
      },
      "outputs": [],
      "source": [
        "# Initialize the network and optimizer\n",
        "input_size = len(env_features)\n",
        "output_size = 6\n",
        "\n",
        "# INITIALIZE OTHER NETWORK PARAMS HERE\n",
        "hidden_size = 64\n",
        "\n",
        "# INITIALIZE YOUR NETWORK HERE\n",
        "your_network = YourModel()\n",
        "\n",
        "# INIT OPTIMIZER - Adam is a good start, but you can try changing this as well\n",
        "# optimizer = optim.Adam(\n",
        "#     your_network.parameters(), lr=learning_rate\n",
        "# )"
      ]
    },
    {
      "cell_type": "code",
      "execution_count": 83,
      "metadata": {
        "id": "xpEQ5uTqGJIQ",
        "colab": {
          "base_uri": "https://localhost:8080/"
        },
        "outputId": "3c581e5b-6329-49a5-ed5b-6e7a26394fdb"
      },
      "outputs": [
        {
          "output_type": "execute_result",
          "data": {
            "text/plain": [
              "YourModel(\n",
              "  (policy): ActorCritic(\n",
              "    (actor): Sequential(\n",
              "      (0): Linear(in_features=11, out_features=64, bias=True)\n",
              "      (1): Tanh()\n",
              "      (2): Linear(in_features=64, out_features=64, bias=True)\n",
              "      (3): Tanh()\n",
              "      (4): Linear(in_features=64, out_features=6, bias=True)\n",
              "      (5): Softmax(dim=-1)\n",
              "    )\n",
              "    (critic): Sequential(\n",
              "      (0): Linear(in_features=11, out_features=64, bias=True)\n",
              "      (1): Tanh()\n",
              "      (2): Linear(in_features=64, out_features=64, bias=True)\n",
              "      (3): Tanh()\n",
              "      (4): Linear(in_features=64, out_features=1, bias=True)\n",
              "    )\n",
              "  )\n",
              "  (policy_old): ActorCritic(\n",
              "    (actor): Sequential(\n",
              "      (0): Linear(in_features=11, out_features=64, bias=True)\n",
              "      (1): Tanh()\n",
              "      (2): Linear(in_features=64, out_features=64, bias=True)\n",
              "      (3): Tanh()\n",
              "      (4): Linear(in_features=64, out_features=6, bias=True)\n",
              "      (5): Softmax(dim=-1)\n",
              "    )\n",
              "    (critic): Sequential(\n",
              "      (0): Linear(in_features=11, out_features=64, bias=True)\n",
              "      (1): Tanh()\n",
              "      (2): Linear(in_features=64, out_features=64, bias=True)\n",
              "      (3): Tanh()\n",
              "      (4): Linear(in_features=64, out_features=1, bias=True)\n",
              "    )\n",
              "  )\n",
              "  (MseLoss): MSELoss()\n",
              ")"
            ]
          },
          "metadata": {},
          "execution_count": 83
        }
      ],
      "source": [
        "# Convert networks to CUDA if available\n",
        "device = torch.device(\"cuda:0\" if torch.cuda.is_available() else \"cpu\")\n",
        "your_network.to(device)"
      ]
    },
    {
      "cell_type": "markdown",
      "source": [
        "## Gradient Clipping (Optional, you can use torch's version as well)"
      ],
      "metadata": {
        "id": "GooOycK-MPib"
      }
    },
    {
      "cell_type": "code",
      "source": [
        "# Define a function for gradient clipping\n",
        "def clip_grads(model, clip_value):\n",
        "    for param in model.parameters():\n",
        "        if param.grad is not None:\n",
        "            param.grad.data = torch.clamp(param.grad.data, -clip_value, clip_value)"
      ],
      "metadata": {
        "id": "MZM5yTnHMN83"
      },
      "execution_count": 84,
      "outputs": []
    },
    {
      "cell_type": "markdown",
      "metadata": {
        "id": "c50a3522"
      },
      "source": [
        "# Live Plotting Setup"
      ]
    },
    {
      "cell_type": "code",
      "execution_count": 85,
      "metadata": {
        "id": "kJTkOusq4bbH"
      },
      "outputs": [],
      "source": [
        "# Create a figure for plotting\n",
        "plt.style.use('ggplot')\n",
        "fig, ax = plt.subplots(figsize=(10, 6))\n",
        "plt.ion()\n",
        "\n",
        "# Lists to store rewards and episode numbers\n",
        "rewards_list = []\n",
        "episodes = []\n",
        "\n",
        "def exponential_smoothing(data, alpha=0.1):\n",
        "    \"\"\"Compute exponential smoothing.\"\"\"\n",
        "    smoothed = [data[0]]  # Initialize with the first data point\n",
        "    for i in range(1, len(data)):\n",
        "        st = alpha * data[i] + (1 - alpha) * smoothed[-1]\n",
        "        smoothed.append(st)\n",
        "    return smoothed\n",
        "\n",
        "def live_plot(data_dict, figure, ylabel=\"Total Rewards\"):\n",
        "    \"\"\"Plot the live graph.\"\"\"\n",
        "    clear_output(wait=True)\n",
        "    ax.clear()\n",
        "    for label, data in data_dict.items():\n",
        "        if label == \"Total Reward\":\n",
        "            ax.plot(data, label=label, color=\"yellow\", linestyle='--')\n",
        "\n",
        "            # Compute and plot moving average for total reward\n",
        "            ma = exponential_smoothing(data)\n",
        "            ma_idx_start = len(data) - len(ma)\n",
        "            ax.plot(range(ma_idx_start, len(data)), ma, label=\"Smoothed Value\", linestyle=\"-\", color=\"purple\", linewidth=2)\n",
        "        else:\n",
        "            ax.plot(data, label=label)\n",
        "    ax.set_ylabel(ylabel)\n",
        "    ax.legend(loc='upper left')\n",
        "    display(figure)\n"
      ]
    },
    {
      "cell_type": "markdown",
      "metadata": {
        "id": "232d30e3"
      },
      "source": [
        "# RL Algorithm"
      ]
    },
    {
      "cell_type": "code",
      "source": [
        "# # Define the loss calculation function\n",
        "# def calculate_loss(\n",
        "#     ## INCLUDE PARAMS YOU NEED HERE\n",
        "#     ):\n",
        "#     ## TODO - CALCULATE LOSS VALUE & RETURN IT\n",
        "#     return loss"
      ],
      "metadata": {
        "id": "fItfNTEx8Luf"
      },
      "execution_count": 75,
      "outputs": []
    },
    {
      "cell_type": "code",
      "source": [
        "def choose_action(agent, state):\n",
        "    ## TODO - RETURN AN INTEGER FROM 0 - 5 (both inclusive) based on your model training/testing strategy\n",
        "    action =  agent.forward(state)\n",
        "    return action"
      ],
      "metadata": {
        "id": "mV629tHLL6GQ"
      },
      "execution_count": 67,
      "outputs": []
    },
    {
      "cell_type": "code",
      "execution_count": null,
      "metadata": {
        "id": "aVy8Zc8vGV7D",
        "colab": {
          "base_uri": "https://localhost:8080/",
          "height": 540
        },
        "outputId": "ef3beb75-e87b-4ebf-dace-51174ae853fc"
      },
      "outputs": [
        {
          "output_type": "display_data",
          "data": {
            "text/plain": [
              "<Figure size 1000x600 with 1 Axes>"
            ],
            "image/png": "[encoded data removed]"
          },
          "metadata": {}
        },
        {
          "output_type": "stream",
          "name": "stderr",
          "text": [
            " 44%|████▍     | 1314/3000 [34:42<42:49,  1.52s/it, Total Reward=400]"
          ]
        }
      ],
      "source": [
        "plt.style.use('ggplot')\n",
        "fig, ax = plt.subplots(figsize=(10, 6))\n",
        "plt.ion()\n",
        "\n",
        "# Create a tqdm progress bar\n",
        "progress_bar = tqdm.tqdm(range(num_episodes), postfix={'Total Reward': 0, 'Loss': 0})\n",
        "\n",
        "# RL algorithm training loop\n",
        "for episode in progress_bar:\n",
        "    total_reward = 0\n",
        "    state = env.reset()\n",
        "    time_step = 0\n",
        "\n",
        "    while True:\n",
        "        time_step += 1\n",
        "\n",
        "        # Convert the original state to the suitable format for the network\n",
        "        state_desc = env.disc2state(state)\n",
        "        state_list = convert_state_to_list(state_desc, env_features)\n",
        "        state_tensor = torch.tensor(state_list, dtype=torch.float32)\n",
        "\n",
        "        action = choose_action(your_network, state_tensor)\n",
        "\n",
        "        # Take the chosen action and observe the next state and reward\n",
        "        next_state, reward, done, _ = env.step((action))\n",
        "\n",
        "        # Convert the next state to the suitable format for the network\n",
        "        next_state_desc = env.disc2state(next_state)\n",
        "        next_state_list = convert_state_to_list(next_state_desc, env_features)\n",
        "        next_state_tensor = torch.tensor(next_state_list, dtype=torch.float32, device=device)\n",
        "\n",
        "\n",
        "        # Hint: You may want to collect experiences from the environment to update the agent in batches!\n",
        "        your_network.buffer.rewards.append(reward)\n",
        "        your_network.buffer.is_terminals.append(done)\n",
        "\n",
        "        # update PPO agent\n",
        "        if time_step % 125 == 0:\n",
        "            your_network.update()\n",
        "\n",
        "\n",
        "        # loss = calculate_loss(\n",
        "        #     ## TODO: FILL IN PARAMS FOR CALLING calculate_loss\n",
        "        # )\n",
        "\n",
        "        # optimizer.zero_grad()\n",
        "        # loss.backward()\n",
        "\n",
        "        # optimizer.step()\n",
        "\n",
        "        state = next_state\n",
        "        total_reward += reward\n",
        "\n",
        "        if done:\n",
        "            break\n",
        "\n",
        "\n",
        "    rewards_list.append(total_reward)\n",
        "    episodes.append(episode)\n",
        "\n",
        "    live_plot({'Total Reward': rewards_list}, fig)\n",
        "\n",
        "    # Saving the model\n",
        "    if episode%500 == 0:\n",
        "      torch.save(your_network, f'model.pth')\n",
        "\n",
        "    progress_bar.set_postfix({'Total Reward': total_reward})"
      ]
    },
    {
      "cell_type": "code",
      "source": [
        "torch.save(your_network.state_dict(), 'model.pt')"
      ],
      "metadata": {
        "colab": {
          "base_uri": "https://localhost:8080/",
          "height": 179
        },
        "id": "RUsPEfMaD47_",
        "outputId": "3296da78-03a4-4d73-de9b-1d36136bbf31"
      },
      "execution_count": 1,
      "outputs": [
        {
          "output_type": "error",
          "ename": "NameError",
          "evalue": "ignored",
          "traceback": [
            "\u001b[0;31m---------------------------------------------------------------------------\u001b[0m",
            "\u001b[0;31mNameError\u001b[0m                                 Traceback (most recent call last)",
            "\u001b[0;32m<ipython-input-1-24e084ddefbf>\u001b[0m in \u001b[0;36m<cell line: 1>\u001b[0;34m()\u001b[0m\n\u001b[0;32m----> 1\u001b[0;31m \u001b[0mtorch\u001b[0m\u001b[0;34m.\u001b[0m\u001b[0msave\u001b[0m\u001b[0;34m(\u001b[0m\u001b[0myour_network\u001b[0m\u001b[0;34m.\u001b[0m\u001b[0mstate_dict\u001b[0m\u001b[0;34m(\u001b[0m\u001b[0;34m)\u001b[0m\u001b[0;34m,\u001b[0m \u001b[0;34m'model.pt'\u001b[0m\u001b[0;34m)\u001b[0m\u001b[0;34m\u001b[0m\u001b[0;34m\u001b[0m\u001b[0m\n\u001b[0m",
            "\u001b[0;31mNameError\u001b[0m: name 'torch' is not defined"
          ]
        }
      ]
    },
    {
      "cell_type": "markdown",
      "metadata": {
        "id": "725d201d"
      },
      "source": [
        "# Test Performance"
      ]
    },
    {
      "cell_type": "code",
      "execution_count": 69,
      "metadata": {
        "id": "e3d53777",
        "colab": {
          "base_uri": "https://localhost:8080/"
        },
        "outputId": "cbd3b5c2-1d0c-482b-fff7-cda7ee6e8384"
      },
      "outputs": [
        {
          "output_type": "stream",
          "name": "stdout",
          "text": [
            "/usr/local/lib/python3.10/dist-packages/pyRDDLGym/Examples /usr/local/lib/python3.10/dist-packages/pyRDDLGym/Examples/manifest.csv\n",
            "Available example environment(s):\n",
            "CartPole_discrete -> A simple continuous state MDP for the classical cart-pole system by Rich Sutton, with discrete actions that apply a constant force on either the left or right side of the cart.\n",
            "CartPole_continuous -> A simple continuous state-action MDP for the classical cart-pole system by Rich Sutton, with actions that describe the continuous force applied to the cart.\n",
            "SupplyChain -> A supply chain with factory and multiple warehouses.\n",
            "NewLanguage -> Example with new language features.\n",
            "NewtonZero -> Example with Newton root-finding method.\n",
            "PropDBN -> Simple propositional DBN.\n",
            "SupplyChainNet -> A supply chain network with factory and multiple warehouses.\n",
            "Traffic -> BLX/QTM traffic model.\n",
            "Wildfire -> A boolean version of the wildfire fighting domain.\n",
            "MountainCar -> A simple continuous MDP for the classical mountain car control problem.\n",
            "MarsRover -> Multi Rover Navigation, where a group of agent needs to harvest mineral.\n",
            "HVAC -> Multi-zone and multi-heater HVAC control problem\n",
            "Elevators -> The Elevator domain models evening rush hours when people from different floors in a building want to go down to the bottom floor using elevators.\n",
            "RaceCar -> A simple continuous MDP for the racecar problem.\n",
            "Reservoir_discrete -> Discrete version of management of the water level in interconnected reservoirs.\n",
            "Reservoir_continuous -> Continuous action version of management of the water level in interconnected reservoirs.\n",
            "RecSim -> A problem of recommendation systems, with consumers and providers.\n",
            "PowerGen_discrete -> A simple power generation problem loosely modeled on the problem of unit commitment.\n",
            "PowerGen_continuous -> A continuous simple power generation problem loosely modeled on the problem of unit commitment.\n",
            "UAV_discrete -> Discrete action space version of multi-UAV problem where a group of UAVs have to reach goal positions in the 3d Space.\n",
            "UAV_continuous -> Continuous action space version of multi-UAV problem where a group of UAVs have to reach goal positions in the 3d Space.\n",
            "UAV_mixed -> Mixed action space version of multi-UAV problem where a group of UAVs have to reach goal positions in the 3d Space.\n",
            "The building has 4 floors and 1 elevators. Each floor has maximum 3 people waiting. Each elevator can carry maximum of 10 people.\n"
          ]
        },
        {
          "output_type": "stream",
          "name": "stderr",
          "text": [
            "/usr/local/lib/python3.10/dist-packages/pyRDDLGym/Core/Env/RDDLConstraints.py:85: UserWarning: Constraint does not have a structure of <action or state fluent> <op> <rhs>, where:\n",
            "<op> is one of {<=, <, >=, >}\n",
            "<rhs> is a deterministic function of non-fluents or constants only.\n",
            ">> ( sum_{?f: floor} [ elevator-at-floor(?e, ?f) ] ) == 1\n",
            "  warnings.warn(\n",
            "100%|██████████| 100/100 [01:36<00:00,  1.04it/s]"
          ]
        },
        {
          "output_type": "stream",
          "name": "stdout",
          "text": [
            "\n",
            "Mean Rewards: -412.32\n"
          ]
        },
        {
          "output_type": "stream",
          "name": "stderr",
          "text": [
            "\n"
          ]
        }
      ],
      "source": [
        "# Initialize the environment\n",
        "env = Elevator(instance = 4)\n",
        "\n",
        "# Reset the environment to get the initial state\n",
        "\n",
        "num_episodes_to_run = 100\n",
        "rewards = []\n",
        "# Run episodes using the trained Neural Net\n",
        "for episode in tqdm.tqdm(range(num_episodes_to_run)):\n",
        "    state = env.reset()\n",
        "    total_reward = 0  # Initialize total reward for this episode\n",
        "    while True:\n",
        "        # Convert the current state to a dictionary\n",
        "        state_desc = env.disc2state(state)\n",
        "        state_list = convert_state_to_list(state_desc, env_features)\n",
        "        state_tensor = torch.tensor(state_list, dtype=torch.float32).unsqueeze(0)\n",
        "\n",
        "        # Use the Neural Net to get the action for the current state\n",
        "\n",
        "        action = choose_action(your_network, state_tensor)\n",
        "\n",
        "        # Step the environment with the selected action\n",
        "        next_state, reward, done, _ = env.step(action)\n",
        "\n",
        "        # Update the total reward for this episode\n",
        "        total_reward += reward\n",
        "\n",
        "        # Update the current state for the next iteration\n",
        "        state = next_state\n",
        "\n",
        "        if done:\n",
        "            break\n",
        "    rewards.append(total_reward)\n",
        "\n",
        "print(f\"\\nMean Rewards: {np.mean(rewards)}\")\n",
        "# Don't forget to close the environment when you're done\n",
        "env.close()"
      ]
    }
  ],
  "metadata": {
    "colab": {
      "provenance": [],
      "collapsed_sections": [
        "c13c63a6",
        "fGHWCiCnfCO4",
        "e13dca8b",
        "53155607",
        "d501d6e1",
        "d4a67d06",
        "GooOycK-MPib",
        "c50a3522"
      ],
      "gpuType": "T4"
    },
    "kernelspec": {
      "display_name": "Python 3",
      "name": "python3"
    },
    "language_info": {
      "name": "python"
    },
    "accelerator": "GPU"
  },
  "nbformat": 4,
  "nbformat_minor": 0
}