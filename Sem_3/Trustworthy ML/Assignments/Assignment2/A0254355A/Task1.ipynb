{
 "cells": [
  {
   "cell_type": "markdown",
   "metadata": {
    "id": "48JBRWUfTS58"
   },
   "source": [
    "# Task 1: Poisoning Attacks"
   ]
  },
  {
   "cell_type": "markdown",
   "metadata": {
    "id": "wrf2BSSe6INY"
   },
   "source": [
    "## Dependencies"
   ]
  },
  {
   "cell_type": "code",
   "execution_count": null,
   "metadata": {
    "id": "Lgj7hu7yTLcX"
   },
   "outputs": [],
   "source": [
    "import copy\n",
    "import numpy as np\n",
    "import os"
   ]
  },
  {
   "cell_type": "markdown",
   "metadata": {
    "id": "9CTpbhu88cb0"
   },
   "source": [
    "### If you are using Google Colab, you need to upload this notebook and the codebase to your Google Drive. Then you need to mount your Google Drive in Colab and set your working directory. If you are running on your local machine, you can ignore the following line."
   ]
  },
  {
   "cell_type": "code",
   "execution_count": null,
   "metadata": {
    "colab": {
     "base_uri": "https://localhost:8080/"
    },
    "executionInfo": {
     "elapsed": 2509,
     "status": "ok",
     "timestamp": 1695362066490,
     "user": {
      "displayName": "Niharika Shrivastava",
      "userId": "07199383378542377502"
     },
     "user_tz": -480
    },
    "id": "WREld4LanEkm",
    "outputId": "519b617a-00e8-42e6-e5b2-00ae4bf6a4ff"
   },
   "outputs": [
    {
     "name": "stdout",
     "output_type": "stream",
     "text": [
      "Drive already mounted at /content/drive; to attempt to forcibly remount, call drive.mount(\"/content/drive\", force_remount=True).\n"
     ]
    }
   ],
   "source": [
    "from google.colab import drive\n",
    "drive.mount('/content/drive')"
   ]
  },
  {
   "cell_type": "code",
   "execution_count": null,
   "metadata": {
    "id": "rWxeNJwv6kW9"
   },
   "outputs": [],
   "source": [
    "root_dir = \"/content/drive/My Drive/\"\n",
    "project_dir = \"Assignment2\" # Change to your path\n",
    "os.chdir(root_dir + project_dir)"
   ]
  },
  {
   "cell_type": "code",
   "execution_count": null,
   "metadata": {
    "colab": {
     "base_uri": "https://localhost:8080/"
    },
    "executionInfo": {
     "elapsed": 8,
     "status": "ok",
     "timestamp": 1695362066491,
     "user": {
      "displayName": "Niharika Shrivastava",
      "userId": "07199383378542377502"
     },
     "user_tz": -480
    },
    "id": "2FDukDiM7q7E",
    "outputId": "41e77d7a-7917-4ccd-a18c-cb2d3738cbb1"
   },
   "outputs": [
    {
     "name": "stdout",
     "output_type": "stream",
     "text": [
      "attack.py\t\t\t    dataset\n",
      "CS5562_Assignment_2_Task1.ipynb     defense.py\n",
      "CS5562_Assignment_2_Task2.ipynb     environment.yml\n",
      "CS5562_Assignment_2_Task3.ipynb     model.py\n",
      "CS5562_Assignment_2_Task4.ipynb     __pycache__\n",
      "CS5562_Assignment_2_Warm_ups.ipynb  utilities.py\n"
     ]
    }
   ],
   "source": [
    "# Make sure the path is correct\n",
    "!ls"
   ]
  },
  {
   "cell_type": "markdown",
   "metadata": {
    "id": "pkPrPU2l55f-"
   },
   "source": [
    "## Implement KKT attack"
   ]
  },
  {
   "cell_type": "code",
   "execution_count": null,
   "metadata": {
    "id": "f6hgEjg_nyLX"
   },
   "outputs": [],
   "source": [
    "from utilities import *\n",
    "from attack import Attack\n",
    "from tqdm import tqdm\n",
    "\n",
    "import cvxpy as cp"
   ]
  },
  {
   "cell_type": "code",
   "execution_count": null,
   "metadata": {
    "id": "JcQuG9un6B6S"
   },
   "outputs": [],
   "source": [
    "class KKT_Attack(Attack):\n",
    "    \"\"\"\n",
    "        KKT attack\n",
    "    \"\"\"\n",
    "    def attack(self, eps):\n",
    "        n_poison = int(eps * len(self.clean_dataset))\n",
    "\n",
    "        ####################\n",
    "        # TODO: update the following part to build your attack model based on KKT attack\n",
    "\n",
    "        # Find decoy parameters theta_decoy\n",
    "        svm_clean = copy.deepcopy(self.target_model)\n",
    "        svm_clean.train(self.clean_dataset)\n",
    "\n",
    "        test_data_flip = dataset(self.test_dataset.X, self.test_dataset.Y*(-1))\n",
    "        test_loss = svm_clean.individual_loss(test_data_flip)\n",
    "        gamma = np.percentile(test_loss, 50, axis=0)\n",
    "        index = np.where(test_loss > gamma)[0]\n",
    "        x, y = test_data_flip[index]\n",
    "        print(len(index))\n",
    "\n",
    "        # Changed value of repeat (r) from [1000 - 5000] and chose 5000 empirically\n",
    "        repeats = [20][0]\n",
    "        x_flip = np.tile(x, (repeats, 1))\n",
    "        y_flip = np.tile(y, repeats)\n",
    "        print(x_flip.shape)\n",
    "\n",
    "        D_flip = dataset(x_flip, y_flip)\n",
    "        D_decoy = combine_datset(self.clean_dataset, D_flip)\n",
    "\n",
    "        svm_decoy = copy.deepcopy(self.target_model)\n",
    "        svm_decoy.train(D_decoy)\n",
    "        print(svm_decoy.score(self.test_dataset))\n",
    "        print(\"Decoy theta found!\")\n",
    "\n",
    "        # Grid search\n",
    "        def hinge_grad(data, model):\n",
    "          w = model.coef_[0]\n",
    "          b = model.intercept_\n",
    "          X, Y = data.X, data.Y\n",
    "          grad = 0\n",
    "\n",
    "          for (x_, y_) in zip(X, Y):\n",
    "              v = y_ * (np.dot(w, x_) + b)\n",
    "              grad += 0 if v > 1 else -y_ * x_\n",
    "          return grad / X[0].shape\n",
    "\n",
    "        def optimization(n_features, eps_pos, eps_neg, g_decoy, model):\n",
    "          w = model.coef_\n",
    "          b = model.intercept_\n",
    "          x_pos = cp.Variable(n_features)\n",
    "          x_neg = cp.Variable(n_features)\n",
    "\n",
    "          error = g_decoy - eps_pos*x_pos + eps_neg*x_neg\n",
    "          obj = cp.Minimize(cp.sum_squares(error))\n",
    "          constraints = [\n",
    "              1 - (w@x_pos + b) >= 0,\n",
    "              1 + (w@x_neg + b) >= 0\n",
    "          ]\n",
    "\n",
    "          prob = cp.Problem(obj, constraints)\n",
    "          prob.solve()\n",
    "          x_pos = np.array(x_pos.value)\n",
    "          x_neg = np.array(x_neg.value)\n",
    "\n",
    "          return x_pos, x_neg\n",
    "\n",
    "        T = 5\n",
    "        optimal_params = None\n",
    "        g_decoy = hinge_grad(self.clean_dataset, svm_decoy.model)\n",
    "\n",
    "        for t in tqdm(range(1, T-1)):\n",
    "        # for t in tqdm(range(1)):\n",
    "          eps_pos = t*eps / T\n",
    "          eps_neg = eps - eps_pos\n",
    "\n",
    "          # Get x_pos, x_neg\n",
    "          features = self.clean_dataset.X[0].shape\n",
    "          x_pos, x_neg = optimization(features, eps_pos, eps_neg, g_decoy, svm_decoy.model)\n",
    "\n",
    "          # Create D_poison\n",
    "          n_pos = int(eps_pos * len(self.clean_dataset))\n",
    "          n_neg = n_poison - n_pos\n",
    "\n",
    "          x = np.concatenate((np.tile(x_pos, (n_pos, 1)), np.tile(x_neg, (n_neg, 1))))\n",
    "          y = np.concatenate((np.ones(n_pos), (-1)*np.ones(n_neg)))\n",
    "          D_poison = dataset(x, y)\n",
    "          assert len(D_poison) <= n_poison\n",
    "\n",
    "          # Train svm\n",
    "          D_combine = combine_datset(self.clean_dataset, D_poison)\n",
    "          svm_new = copy.deepcopy(self.target_model)\n",
    "          svm_new.train(D_combine)\n",
    "\n",
    "          # Get svm, D_poison with highest test loss\n",
    "          test_loss = svm_new.score(self.test_dataset)[0]\n",
    "\n",
    "          if optimal_params is None or optimal_params['loss'] < test_loss:\n",
    "            optimal_params = {\n",
    "                'x_poison': x,\n",
    "                'y_poison': y,\n",
    "                'loss': test_loss,\n",
    "                'eps_pos': eps_pos,\n",
    "                'eps_neg': eps_neg\n",
    "                }\n",
    "          print(optimal_params['loss'], optimal_params['eps_pos'], optimal_params['eps_neg'])\n",
    "\n",
    "        X_modified = optimal_params['x_poison']\n",
    "        Y_modified = optimal_params['y_poison']\n",
    "\n",
    "        ####################\n",
    "\n",
    "        return dataset(X_modified, Y_modified)"
   ]
  },
  {
   "cell_type": "markdown",
   "metadata": {
    "id": "bjLMJoXh-1Qt"
   },
   "source": [
    "# Test your code"
   ]
  },
  {
   "cell_type": "markdown",
   "metadata": {
    "id": "dOZdeGvh61-q"
   },
   "source": [
    "## Helper functions"
   ]
  },
  {
   "cell_type": "code",
   "execution_count": null,
   "metadata": {
    "id": "_EPdpd3CHG2C"
   },
   "outputs": [],
   "source": [
    "def compute_attack_grade(attack, victim_model,eps,clean_train_dataset,test_dataset):\n",
    "    # target model structure is known to the adversary\n",
    "    target_model = copy.deepcopy(victim_model)\n",
    "    if attack == 'KKT':\n",
    "        attacker = KKT_Attack(target_model,clean_train_dataset,test_dataset)\n",
    "    elif attack == 'label-flip':\n",
    "        attacker = Label_Flip_Attack(target_model, clean_train_dataset, test_dataset)\n",
    "    elif attack == 'adaptive':\n",
    "        attacker = Adaptive_Attack(target_model, clean_train_dataset, test_dataset)\n",
    "    elif attack == 'random-label-flip':\n",
    "        attacker = Random_Label_Flip_Attack(target_model, clean_train_dataset, test_dataset)\n",
    "    poisoned_dataset = attacker.attack(eps)\n",
    "    assert len(poisoned_dataset) <= int(eps*len(clean_train_dataset))\n",
    "\n",
    "    train_dataset = combine_datset(clean_train_dataset,poisoned_dataset)\n",
    "    clean_model = copy.deepcopy(target_model)\n",
    "\n",
    "    # performance without any attack\n",
    "    clean_model.train(clean_train_dataset)\n",
    "    clean_loss,clean_acc = clean_model.score(test_dataset)\n",
    "    print('\\nAvg loss of clean model: %0.5f, avg classification accuracy: %0.5f'%(clean_loss,clean_acc))\n",
    "\n",
    "    # attack the victim model\n",
    "    victim_model.train(train_dataset)\n",
    "    poisoned_loss,poisoned_acc =victim_model.score(test_dataset)\n",
    "    print('\\nAvg loss of poisoned model:%0.5f, avg classification accuracy: %0.5f'%(poisoned_loss,poisoned_acc))\n",
    "\n",
    "    grade = poisoned_loss - clean_loss\n",
    "\n",
    "    # for generating figures\n",
    "    distance_to_center_diff(clean_train_dataset,poisoned_dataset)\n",
    "    loss_diff(clean_train_dataset, poisoned_dataset,clean_model)\n",
    "\n",
    "    return len(poisoned_dataset)/len(clean_train_dataset),grade"
   ]
  },
  {
   "cell_type": "markdown",
   "metadata": {
    "id": "grFB2DU28kbY"
   },
   "source": [
    "## Testing"
   ]
  },
  {
   "cell_type": "code",
   "execution_count": null,
   "metadata": {
    "colab": {
     "base_uri": "https://localhost:8080/",
     "height": 1000
    },
    "executionInfo": {
     "elapsed": 377721,
     "status": "ok",
     "timestamp": 1695362449802,
     "user": {
      "displayName": "Niharika Shrivastava",
      "userId": "07199383378542377502"
     },
     "user_tz": -480
    },
    "id": "XmXHy9HhvliI",
    "outputId": "888095e4-8144-4602-b801-72f514b455fe"
   },
   "outputs": [
    {
     "name": "stdout",
     "output_type": "stream",
     "text": [
      "1081\n",
      "(21620, 784)\n"
     ]
    },
    {
     "name": "stderr",
     "output_type": "stream",
     "text": [
      "/usr/local/lib/python3.10/dist-packages/sklearn/svm/_base.py:1244: ConvergenceWarning: Liblinear failed to converge, increase the number of iterations.\n",
      "  warnings.warn(\n"
     ]
    },
    {
     "name": "stdout",
     "output_type": "stream",
     "text": [
      "(1.3081369244429388, 0.4294960702727693)\n",
      "Decoy theta found!\n"
     ]
    },
    {
     "name": "stderr",
     "output_type": "stream",
     "text": [
      "  0%|          | 0/3 [00:00<?, ?it/s]/usr/local/lib/python3.10/dist-packages/sklearn/svm/_base.py:1244: ConvergenceWarning: Liblinear failed to converge, increase the number of iterations.\n",
      "  warnings.warn(\n",
      " 33%|███▎      | 1/3 [01:05<02:10, 65.49s/it]"
     ]
    },
    {
     "name": "stdout",
     "output_type": "stream",
     "text": [
      "0.13875204700214022 0.04 0.16\n"
     ]
    },
    {
     "name": "stderr",
     "output_type": "stream",
     "text": [
      "/usr/local/lib/python3.10/dist-packages/sklearn/svm/_base.py:1244: ConvergenceWarning: Liblinear failed to converge, increase the number of iterations.\n",
      "  warnings.warn(\n",
      "\r",
      " 67%|██████▋   | 2/3 [02:18<01:10, 70.00s/it]"
     ]
    },
    {
     "name": "stdout",
     "output_type": "stream",
     "text": [
      "0.13875204700214022 0.04 0.16\n"
     ]
    },
    {
     "name": "stderr",
     "output_type": "stream",
     "text": [
      "/usr/local/lib/python3.10/dist-packages/sklearn/svm/_base.py:1244: ConvergenceWarning: Liblinear failed to converge, increase the number of iterations.\n",
      "  warnings.warn(\n",
      "100%|██████████| 3/3 [03:30<00:00, 70.18s/it]\n"
     ]
    },
    {
     "name": "stdout",
     "output_type": "stream",
     "text": [
      "0.13875204700214022 0.04 0.16\n",
      "\n",
      "Avg loss of clean model: 0.01694, avg classification accuracy: 0.99260\n"
     ]
    },
    {
     "name": "stderr",
     "output_type": "stream",
     "text": [
      "/usr/local/lib/python3.10/dist-packages/sklearn/svm/_base.py:1244: ConvergenceWarning: Liblinear failed to converge, increase the number of iterations.\n",
      "  warnings.warn(\n"
     ]
    },
    {
     "name": "stdout",
     "output_type": "stream",
     "text": [
      "\n",
      "Avg loss of poisoned model:0.13875, avg classification accuracy: 0.95885\n",
      "[[5.30393598]\n",
      " [5.63018176]\n",
      " [4.60116321]\n",
      " ...\n",
      " [6.14406988]\n",
      " [7.70754142]\n",
      " [4.98865878]]\n"
     ]
    },
    {
     "data": {
      "image/png": "[encoded data removed]",
      "text/plain": [
       "<Figure size 640x480 with 1 Axes>"
      ]
     },
     "metadata": {},
     "output_type": "display_data"
    },
    {
     "data": {
      "image/png": "[encoded data removed]",
      "text/plain": [
       "<Figure size 640x480 with 1 Axes>"
      ]
     },
     "metadata": {},
     "output_type": "display_data"
    },
    {
     "name": "stdout",
     "output_type": "stream",
     "text": [
      "\n",
      "\n",
      "-----------result---------\n",
      "KKT attack against undefended svm model on mnist_17 dataset: 0.12 (0.20 fraction of poisoning data)\n"
     ]
    }
   ],
   "source": [
    "from model import Undefended_Model\n",
    "\n",
    "train_dataset,test_dataset = load_dataset('mnist_17')\n",
    "base_model = load_model(\"svm\", \"mnist_17\")\n",
    "target_model = Undefended_Model(base_model,\"svm\")\n",
    "defense_name = 'undefended'\n",
    "fraction, attack_grade = compute_attack_grade(\"KKT\", target_model, 0.2, train_dataset, test_dataset)\n",
    "print('\\n\\n-----------result---------')\n",
    "print('%s attack against %s %s model on %s dataset: %0.2f (%0.2f fraction of poisoning data)'%(\"KKT\",defense_name,\"svm\",\"mnist_17\",attack_grade,fraction))"
   ]
  },
  {
   "cell_type": "markdown",
   "metadata": {
    "id": "hXVnAKn2IOPB"
   },
   "source": [
    "# Report"
   ]
  },
  {
   "cell_type": "markdown",
   "metadata": {
    "id": "SQ8-Y7EGIQeO"
   },
   "source": [
    "**Q.1) Please explain your attack algorithm specifying how you find $\\theta_{decoy}$ in Step 1 and whether the victim model trained on the poisoned training dataset has a similar parameter as $\\theta_{decoy}$ (the parameter you find in Step 1).**\n",
    "\n",
    "\n",
    "Step 1: Estimating $\\theta_{decoy}$\n",
    "1. Train the model on clean dataset $D_C$ and retrieve the parameters $θ_c$.\n",
    "2. Flip all the labels of the test dataset $D_{test}$. \n",
    "2. Using $\\theta_c$ calculate individual loss on flipped test dataset.\n",
    "3. Select data points that have losses greater than some arbitrary threshold $\\gamma$.\n",
    "4. Create $D_{flip}$ by repeating the above selected points $r$ times. This acts as our decoy poisoned dataset.\n",
    "5. Combine $D_{flip}$ with $D_C$ and extract the model parameters $\\theta_{decoy}$.\n",
    "\n",
    "Step 2: Finding the poisoned dataset $D_P$\n",
    "\n",
    "KKT condition:\n",
    "$$\\sum_{(x, y) 𝛜 D_C} ∇_{\\theta}l(\\theta_{decoy}; x, y) \\space + \\sum_{(x̃, ỹ) 𝛜 D_P} ∇_{\\theta}l(\\theta_{decoy}; x̃, ỹ) = 0$$\n",
    "\n",
    "Note: In [1] the authors are adding $λ\\theta_{decoy}$ in the objective to account for the regularization used in hinge_loss. I am eliminating this term from the objective since my model does not use regularization.\n",
    "\n",
    "$$\\underset{x̃_+, x̃_-, ϵ_+, ϵ_-}{minimize} \\space || g_{\\theta_{decoy}, D_C} - ϵ_+ x̃_+ + ϵ_-x̃_-||_2^2$$\n",
    "\n",
    "Constraints:\n",
    "\n",
    "$$\\theta_{decoy} \\cdot x_+ <= 1$$\n",
    "$$-(\\theta_{decoy} \\cdot x_-) <= 1$$\n",
    "$$\\epsilon_+ + ϵ_- = ϵ$$\n",
    "$$(x̃_+, +1), (x̃_-, -1) \\space 𝛜 \\space 𝓕_β$$\n",
    "\n",
    "The first two constraints ensure that the $x̃_+, x̃_-$ generated act as the support vectors for the new model. The next constraint makes sure that number of copies do not exceed the budget of the adversary.\n",
    "\n",
    "In the last constraint $𝓕_β$ represents the feasible set, for this task the feasible set is all the valid pixel values since we are not assuming any defense.\n",
    "\n",
    "Initially I generated multiple $\\theta_{decoy}$, then selected the one which had the lowest train loss and highest test loss. Using my selected $\\theta_{decoy}$, I calculate $g_{\\theta_{decoy}, D_C}$.\n",
    "\n",
    "Solving the above minimization: I am using cvxpy which is a general purpose convex solver to generate the images. \n",
    "\n",
    "To find $x̃_+, x̃_-$ I ran a grid search over epsilons and selected the configuration that had the highest test loss.\n",
    "\n",
    "$r = 20, \\space τ = 0.5, \\space ϵ_+ = 0.04, \\space ϵ_- = 0.16$\n",
    "\n",
    "My final scores are as follows:\n",
    "```\n",
    "Avg loss of clean model: 0.01694, avg classification accuracy: 0.99260\n",
    "Avg loss of poisoned model:0.13875, avg classification accuracy: 0.95885\n",
    "```\n",
    "\n",
    "**It is to note that by selecting different values of $\\gamma$ and $r$, we can further bring down the accuracy of the poisoned model for sure. I have demonstrated the attack here with one such empirically chosen value.**\n",
    "\n",
    "\n",
    "### Is the new model similar to $\\theta_{decoy}$?\n",
    "\n",
    "The model trained on $D_C \\space ⋃ \\space D_P$ performs similarly to the $\\theta_{decoy}$ model. It's loss is closer to the loss of $\\theta_{decoy}$ on the test dataset.\n",
    "\n",
    "If we compute the following:\n",
    "\n",
    "1. $||\\theta_{decoy} - \\theta_{obtained}||_2 / N = 0.01658$\n",
    "\n",
    "2. $||\\theta_{clean} - \\theta_{decoy}||_2 / N = 0.02041$\n",
    "\n",
    "If we compare these values we can see that in 1. on average elements in $\\theta_{obtained}$ are differing from the $\\theta_{decoy}$ by $0.01658$ which is lower than $0.02041$. Therefore, we can say with some confidence that $\\theta_{obtained}$ is moving towards the ideal $\\theta$.\n",
    "\n",
    "### Question 1: Compare the attack success rates of your KKT attack and your label flipping attack on the SVM models. Which attack has a higher success rate and why?\n",
    "\n",
    "Answer: KKT attack is stronger than label flipping and has a higher success rate because of the following reasons:\n",
    "\n",
    "1. In KKT the adversary has more control over the data. The adversary can manipulate the input features as well as the labels. Whereas, in label flipping they could only control the labels of the data.\n",
    "\n",
    "2. If you notice in KKT attack we are adding $\\theta_{decoy} \\cdot x_+ + b_{decoy} <= 1$ and $-(\\theta_{decoy} \\cdot x_- + b_{decoy}) <= 1$ in our constraints. This ensures that the points we are generating will act as a support vector and guarantees that the decision boundary will change. We do not have these guarantees for label flipping.\n",
    "Moreover, the optimization results from the implicit theorem which states that the sum of optimal parameters should equal to 0. This always results in an optimal solution since it is convex for an SVM.\n",
    "\n",
    "\n",
    "### References:\n",
    "\n",
    "[1] Pang Wei Koh, Jacob Steinhardt, and Percy Liang. Stronger data poisoning attacks\n",
    "break data sanitization defenses. arXiv preprint arXiv:1811.00741, 2018.\n",
    "\n",
    "\n",
    "### Problems and Learnings\n",
    "\n",
    "Initially, I was selecting points for obtaining my $\\theta_{decoy}$ that had the largest loss on the test_data, instead of selecting points with the largest loss on the flipped test data. That is conceptually wrong and was resulting in a maximum of 1% accuracy drop only.\n"
   ]
  },
  {
   "cell_type": "code",
   "execution_count": null,
   "metadata": {},
   "outputs": [],
   "source": []
  }
 ],
 "metadata": {
  "colab": {
   "collapsed_sections": [
    "wrf2BSSe6INY",
    "9CTpbhu88cb0",
    "dOZdeGvh61-q"
   ],
   "provenance": [
    {
     "file_id": "1TOD5FJ2HsYkhAkCpZx13wfmN4idVeukt",
     "timestamp": 1695233971632
    }
   ]
  },
  "kernelspec": {
   "display_name": "Python 3 (ipykernel)",
   "language": "python",
   "name": "python3"
  },
  "language_info": {
   "codemirror_mode": {
    "name": "ipython",
    "version": 3
   },
   "file_extension": ".py",
   "mimetype": "text/x-python",
   "name": "python",
   "nbconvert_exporter": "python",
   "pygments_lexer": "ipython3",
   "version": "3.9.13"
  }
 },
 "nbformat": 4,
 "nbformat_minor": 1
}
