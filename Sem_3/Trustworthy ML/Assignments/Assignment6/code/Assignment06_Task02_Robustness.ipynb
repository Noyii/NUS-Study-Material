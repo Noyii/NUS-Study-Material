{
  "cells": [
    {
      "cell_type": "markdown",
      "metadata": {
        "id": "LINSIU_s1Spm"
      },
      "source": [
        "# Robustness Issues in Federated Learning"
      ]
    },
    {
      "cell_type": "markdown",
      "metadata": {
        "id": "bkfkslFzmdr9"
      },
      "source": [
        "## The setting for running the federated learning is the same as the task0."
      ]
    },
    {
      "cell_type": "code",
      "execution_count": 1,
      "metadata": {
        "id": "DYc9ez2s1Spw",
        "colab": {
          "base_uri": "https://localhost:8080/"
        },
        "outputId": "f42775ad-f7d9-43bc-fd1a-651c154904d2"
      },
      "outputs": [
        {
          "output_type": "stream",
          "name": "stdout",
          "text": [
            "\u001b[2K     \u001b[90m━━━━━━━━━━━━━━━━━━━━━━━━━━━━━━━━━━━━━━━━\u001b[0m \u001b[32m219.2/219.2 kB\u001b[0m \u001b[31m3.9 MB/s\u001b[0m eta \u001b[36m0:00:00\u001b[0m\n",
            "\u001b[2K     \u001b[90m━━━━━━━━━━━━━━━━━━━━━━━━━━━━━━━━━━━━━━━━\u001b[0m \u001b[32m2.1/2.1 MB\u001b[0m \u001b[31m11.6 MB/s\u001b[0m eta \u001b[36m0:00:00\u001b[0m\n",
            "\u001b[2K     \u001b[90m━━━━━━━━━━━━━━━━━━━━━━━━━━━━━━━━━━━━━━━━\u001b[0m \u001b[32m56.9/56.9 MB\u001b[0m \u001b[31m10.5 MB/s\u001b[0m eta \u001b[36m0:00:00\u001b[0m\n",
            "\u001b[?25hCollecting tensorflow-gpu==2.8.0\n",
            "  Downloading tensorflow_gpu-2.8.0-cp310-cp310-manylinux2010_x86_64.whl (497.6 MB)\n",
            "\u001b[2K     \u001b[90m━━━━━━━━━━━━━━━━━━━━━━━━━━━━━━━━━━━━━━━━\u001b[0m \u001b[32m497.6/497.6 MB\u001b[0m \u001b[31m3.5 MB/s\u001b[0m eta \u001b[36m0:00:00\u001b[0m\n",
            "\u001b[?25hRequirement already satisfied: absl-py>=0.4.0 in /usr/local/lib/python3.10/dist-packages (from tensorflow-gpu==2.8.0) (1.4.0)\n",
            "Requirement already satisfied: astunparse>=1.6.0 in /usr/local/lib/python3.10/dist-packages (from tensorflow-gpu==2.8.0) (1.6.3)\n",
            "Requirement already satisfied: flatbuffers>=1.12 in /usr/local/lib/python3.10/dist-packages (from tensorflow-gpu==2.8.0) (23.5.26)\n",
            "Requirement already satisfied: gast>=0.2.1 in /usr/local/lib/python3.10/dist-packages (from tensorflow-gpu==2.8.0) (0.5.4)\n",
            "Requirement already satisfied: google-pasta>=0.1.1 in /usr/local/lib/python3.10/dist-packages (from tensorflow-gpu==2.8.0) (0.2.0)\n",
            "Requirement already satisfied: h5py>=2.9.0 in /usr/local/lib/python3.10/dist-packages (from tensorflow-gpu==2.8.0) (3.9.0)\n",
            "Collecting keras-preprocessing>=1.1.1 (from tensorflow-gpu==2.8.0)\n",
            "  Downloading Keras_Preprocessing-1.1.2-py2.py3-none-any.whl (42 kB)\n",
            "\u001b[2K     \u001b[90m━━━━━━━━━━━━━━━━━━━━━━━━━━━━━━━━━━━━━━━━\u001b[0m \u001b[32m42.6/42.6 kB\u001b[0m \u001b[31m6.8 MB/s\u001b[0m eta \u001b[36m0:00:00\u001b[0m\n",
            "\u001b[?25hRequirement already satisfied: libclang>=9.0.1 in /usr/local/lib/python3.10/dist-packages (from tensorflow-gpu==2.8.0) (16.0.6)\n",
            "Requirement already satisfied: numpy>=1.20 in /usr/local/lib/python3.10/dist-packages (from tensorflow-gpu==2.8.0) (1.23.5)\n",
            "Requirement already satisfied: opt-einsum>=2.3.2 in /usr/local/lib/python3.10/dist-packages (from tensorflow-gpu==2.8.0) (3.3.0)\n",
            "Requirement already satisfied: protobuf>=3.9.2 in /usr/local/lib/python3.10/dist-packages (from tensorflow-gpu==2.8.0) (3.20.3)\n",
            "Requirement already satisfied: setuptools in /usr/local/lib/python3.10/dist-packages (from tensorflow-gpu==2.8.0) (67.7.2)\n",
            "Requirement already satisfied: six>=1.12.0 in /usr/local/lib/python3.10/dist-packages (from tensorflow-gpu==2.8.0) (1.16.0)\n",
            "Requirement already satisfied: termcolor>=1.1.0 in /usr/local/lib/python3.10/dist-packages (from tensorflow-gpu==2.8.0) (2.3.0)\n",
            "Requirement already satisfied: typing-extensions>=3.6.6 in /usr/local/lib/python3.10/dist-packages (from tensorflow-gpu==2.8.0) (4.5.0)\n",
            "Requirement already satisfied: wrapt>=1.11.0 in /usr/local/lib/python3.10/dist-packages (from tensorflow-gpu==2.8.0) (1.14.1)\n",
            "Collecting tensorboard<2.9,>=2.8 (from tensorflow-gpu==2.8.0)\n",
            "  Downloading tensorboard-2.8.0-py3-none-any.whl (5.8 MB)\n",
            "\u001b[2K     \u001b[90m━━━━━━━━━━━━━━━━━━━━━━━━━━━━━━━━━━━━━━━━\u001b[0m \u001b[32m5.8/5.8 MB\u001b[0m \u001b[31m102.0 MB/s\u001b[0m eta \u001b[36m0:00:00\u001b[0m\n",
            "\u001b[?25hCollecting tf-estimator-nightly==2.8.0.dev2021122109 (from tensorflow-gpu==2.8.0)\n",
            "  Downloading tf_estimator_nightly-2.8.0.dev2021122109-py2.py3-none-any.whl (462 kB)\n",
            "\u001b[2K     \u001b[90m━━━━━━━━━━━━━━━━━━━━━━━━━━━━━━━━━━━━━━━━\u001b[0m \u001b[32m462.5/462.5 kB\u001b[0m \u001b[31m53.0 MB/s\u001b[0m eta \u001b[36m0:00:00\u001b[0m\n",
            "\u001b[?25hCollecting keras<2.9,>=2.8.0rc0 (from tensorflow-gpu==2.8.0)\n",
            "  Downloading keras-2.8.0-py2.py3-none-any.whl (1.4 MB)\n",
            "\u001b[2K     \u001b[90m━━━━━━━━━━━━━━━━━━━━━━━━━━━━━━━━━━━━━━━━\u001b[0m \u001b[32m1.4/1.4 MB\u001b[0m \u001b[31m87.5 MB/s\u001b[0m eta \u001b[36m0:00:00\u001b[0m\n",
            "\u001b[?25hRequirement already satisfied: tensorflow-io-gcs-filesystem>=0.23.1 in /usr/local/lib/python3.10/dist-packages (from tensorflow-gpu==2.8.0) (0.34.0)\n",
            "Requirement already satisfied: grpcio<2.0,>=1.24.3 in /usr/local/lib/python3.10/dist-packages (from tensorflow-gpu==2.8.0) (1.59.2)\n",
            "Requirement already satisfied: wheel<1.0,>=0.23.0 in /usr/local/lib/python3.10/dist-packages (from astunparse>=1.6.0->tensorflow-gpu==2.8.0) (0.41.3)\n",
            "Requirement already satisfied: google-auth<3,>=1.6.3 in /usr/local/lib/python3.10/dist-packages (from tensorboard<2.9,>=2.8->tensorflow-gpu==2.8.0) (2.17.3)\n",
            "Collecting google-auth-oauthlib<0.5,>=0.4.1 (from tensorboard<2.9,>=2.8->tensorflow-gpu==2.8.0)\n",
            "  Downloading google_auth_oauthlib-0.4.6-py2.py3-none-any.whl (18 kB)\n",
            "Requirement already satisfied: markdown>=2.6.8 in /usr/local/lib/python3.10/dist-packages (from tensorboard<2.9,>=2.8->tensorflow-gpu==2.8.0) (3.5.1)\n",
            "Requirement already satisfied: requests<3,>=2.21.0 in /usr/local/lib/python3.10/dist-packages (from tensorboard<2.9,>=2.8->tensorflow-gpu==2.8.0) (2.31.0)\n",
            "Collecting tensorboard-data-server<0.7.0,>=0.6.0 (from tensorboard<2.9,>=2.8->tensorflow-gpu==2.8.0)\n",
            "  Downloading tensorboard_data_server-0.6.1-py3-none-manylinux2010_x86_64.whl (4.9 MB)\n",
            "\u001b[2K     \u001b[90m━━━━━━━━━━━━━━━━━━━━━━━━━━━━━━━━━━━━━━━━\u001b[0m \u001b[32m4.9/4.9 MB\u001b[0m \u001b[31m107.8 MB/s\u001b[0m eta \u001b[36m0:00:00\u001b[0m\n",
            "\u001b[?25hCollecting tensorboard-plugin-wit>=1.6.0 (from tensorboard<2.9,>=2.8->tensorflow-gpu==2.8.0)\n",
            "  Downloading tensorboard_plugin_wit-1.8.1-py3-none-any.whl (781 kB)\n",
            "\u001b[2K     \u001b[90m━━━━━━━━━━━━━━━━━━━━━━━━━━━━━━━━━━━━━━━━\u001b[0m \u001b[32m781.3/781.3 kB\u001b[0m \u001b[31m77.3 MB/s\u001b[0m eta \u001b[36m0:00:00\u001b[0m\n",
            "\u001b[?25hRequirement already satisfied: werkzeug>=0.11.15 in /usr/local/lib/python3.10/dist-packages (from tensorboard<2.9,>=2.8->tensorflow-gpu==2.8.0) (3.0.1)\n",
            "Requirement already satisfied: cachetools<6.0,>=2.0.0 in /usr/local/lib/python3.10/dist-packages (from google-auth<3,>=1.6.3->tensorboard<2.9,>=2.8->tensorflow-gpu==2.8.0) (5.3.2)\n",
            "Requirement already satisfied: pyasn1-modules>=0.2.1 in /usr/local/lib/python3.10/dist-packages (from google-auth<3,>=1.6.3->tensorboard<2.9,>=2.8->tensorflow-gpu==2.8.0) (0.3.0)\n",
            "Requirement already satisfied: rsa<5,>=3.1.4 in /usr/local/lib/python3.10/dist-packages (from google-auth<3,>=1.6.3->tensorboard<2.9,>=2.8->tensorflow-gpu==2.8.0) (4.9)\n",
            "Requirement already satisfied: requests-oauthlib>=0.7.0 in /usr/local/lib/python3.10/dist-packages (from google-auth-oauthlib<0.5,>=0.4.1->tensorboard<2.9,>=2.8->tensorflow-gpu==2.8.0) (1.3.1)\n",
            "Requirement already satisfied: charset-normalizer<4,>=2 in /usr/local/lib/python3.10/dist-packages (from requests<3,>=2.21.0->tensorboard<2.9,>=2.8->tensorflow-gpu==2.8.0) (3.3.2)\n",
            "Requirement already satisfied: idna<4,>=2.5 in /usr/local/lib/python3.10/dist-packages (from requests<3,>=2.21.0->tensorboard<2.9,>=2.8->tensorflow-gpu==2.8.0) (3.4)\n",
            "Requirement already satisfied: urllib3<3,>=1.21.1 in /usr/local/lib/python3.10/dist-packages (from requests<3,>=2.21.0->tensorboard<2.9,>=2.8->tensorflow-gpu==2.8.0) (2.0.7)\n",
            "Requirement already satisfied: certifi>=2017.4.17 in /usr/local/lib/python3.10/dist-packages (from requests<3,>=2.21.0->tensorboard<2.9,>=2.8->tensorflow-gpu==2.8.0) (2023.7.22)\n",
            "Requirement already satisfied: MarkupSafe>=2.1.1 in /usr/local/lib/python3.10/dist-packages (from werkzeug>=0.11.15->tensorboard<2.9,>=2.8->tensorflow-gpu==2.8.0) (2.1.3)\n",
            "Requirement already satisfied: pyasn1<0.6.0,>=0.4.6 in /usr/local/lib/python3.10/dist-packages (from pyasn1-modules>=0.2.1->google-auth<3,>=1.6.3->tensorboard<2.9,>=2.8->tensorflow-gpu==2.8.0) (0.5.0)\n",
            "Requirement already satisfied: oauthlib>=3.0.0 in /usr/local/lib/python3.10/dist-packages (from requests-oauthlib>=0.7.0->google-auth-oauthlib<0.5,>=0.4.1->tensorboard<2.9,>=2.8->tensorflow-gpu==2.8.0) (3.2.2)\n",
            "Installing collected packages: tf-estimator-nightly, tensorboard-plugin-wit, keras, tensorboard-data-server, keras-preprocessing, google-auth-oauthlib, tensorboard, tensorflow-gpu\n",
            "  Attempting uninstall: keras\n",
            "    Found existing installation: keras 2.14.0\n",
            "    Uninstalling keras-2.14.0:\n",
            "      Successfully uninstalled keras-2.14.0\n",
            "  Attempting uninstall: tensorboard-data-server\n",
            "    Found existing installation: tensorboard-data-server 0.7.2\n",
            "    Uninstalling tensorboard-data-server-0.7.2:\n",
            "      Successfully uninstalled tensorboard-data-server-0.7.2\n",
            "  Attempting uninstall: google-auth-oauthlib\n",
            "    Found existing installation: google-auth-oauthlib 1.0.0\n",
            "    Uninstalling google-auth-oauthlib-1.0.0:\n",
            "      Successfully uninstalled google-auth-oauthlib-1.0.0\n",
            "  Attempting uninstall: tensorboard\n",
            "    Found existing installation: tensorboard 2.14.1\n",
            "    Uninstalling tensorboard-2.14.1:\n",
            "      Successfully uninstalled tensorboard-2.14.1\n",
            "\u001b[31mERROR: pip's dependency resolver does not currently take into account all the packages that are installed. This behaviour is the source of the following dependency conflicts.\n",
            "tensorflow 2.14.0 requires keras<2.15,>=2.14.0, but you have keras 2.8.0 which is incompatible.\n",
            "tensorflow 2.14.0 requires tensorboard<2.15,>=2.14, but you have tensorboard 2.8.0 which is incompatible.\u001b[0m\u001b[31m\n",
            "\u001b[0mSuccessfully installed google-auth-oauthlib-0.4.6 keras-2.8.0 keras-preprocessing-1.1.2 tensorboard-2.8.0 tensorboard-data-server-0.6.1 tensorboard-plugin-wit-1.8.1 tensorflow-gpu-2.8.0 tf-estimator-nightly-2.8.0.dev2021122109\n"
          ]
        }
      ],
      "source": [
        "# Install dependencies if you don't have them already\n",
        "!pip install -q flwr[simulation] torch torchvision matplotlib\n",
        "!pip install tensorflow-gpu==2.8.0"
      ]
    },
    {
      "cell_type": "code",
      "execution_count": 2,
      "metadata": {
        "id": "matU-VMD1Spz"
      },
      "outputs": [],
      "source": [
        "from collections import OrderedDict\n",
        "from typing import Dict, List, Optional, Tuple\n",
        "import matplotlib.pyplot as plt\n",
        "\n",
        "import numpy as np\n",
        "import torch\n",
        "import torch.nn as nn\n",
        "import torch.nn.functional as F\n",
        "import torchvision.transforms as transforms\n",
        "from torch.utils.data import DataLoader, random_split\n",
        "from torchvision.datasets import CIFAR10\n",
        "\n",
        "import flwr as fl\n",
        "from flwr.common import Metrics\n",
        "from collections import OrderedDict\n",
        "from typing import Dict, List, Optional, Tuple\n",
        "import matplotlib.pyplot as plt\n",
        "\n",
        "import numpy as np\n",
        "import torch\n",
        "import torch.nn as nn\n",
        "import torch.nn.functional as F\n",
        "import torchvision.transforms as transforms\n",
        "from torch.utils.data import DataLoader, random_split\n",
        "from torchvision.datasets import CIFAR10\n",
        "\n",
        "import flwr as fl\n",
        "from flwr.common import Metrics\n",
        "from typing import Union\n",
        "\n",
        "from flwr.common import (\n",
        "    FitRes,\n",
        "    Parameters,\n",
        "    Scalar,\n",
        "    ndarrays_to_parameters,\n",
        "    parameters_to_ndarrays,\n",
        ")\n",
        "from flwr.server.client_proxy import ClientProxy\n",
        "from flwr.server.strategy.aggregate import (\n",
        "    aggregate_median,\n",
        ")\n"
      ]
    },
    {
      "cell_type": "code",
      "execution_count": 3,
      "metadata": {
        "id": "-5jmTCiHmdsB",
        "colab": {
          "base_uri": "https://localhost:8080/"
        },
        "outputId": "58f1f232-bccf-4618-fcea-66cba5315ec0"
      },
      "outputs": [
        {
          "output_type": "stream",
          "name": "stdout",
          "text": [
            "Training on cuda using PyTorch 2.1.0+cu118 and Flower 1.6.0\n"
          ]
        }
      ],
      "source": [
        "\n",
        "## Define the setting for FL\n",
        "NUM_CLIENTS = 10  # Number of clients\n",
        "LOCAL_EPOCH = 1 # Number of local epochs\n",
        "NUM_ROUND = 5 # Number of rounds\n",
        "NUM_ADVERSARY = 1 # Number of malicious clients\n",
        "\n",
        "\n",
        "ADVERSARY_CID = [i for i in range(NUM_ADVERSARY)] # client id of the adversary\n",
        "\n",
        "DEVICE = torch.device(\"cuda\")  # Try \"cuda\" to train on GPU\n",
        "print(\n",
        "    f\"Training on {DEVICE} using PyTorch {torch.__version__} and Flower {fl.__version__}\"\n",
        ")\n",
        "\n",
        "# Specify client resources if you need GPU (defaults to 1 CPU and 0 GPU)\n",
        "client_resources = {\"num_cpus\": 1}\n",
        "if DEVICE.type == \"cuda\":\n",
        "    client_resources = {\"num_gpus\": 1, \"num_cpus\": 1}\n",
        "\n"
      ]
    },
    {
      "cell_type": "markdown",
      "metadata": {
        "id": "Mc1jbIslmdsC"
      },
      "source": [
        "Define helper functions to setup the FL environment and run the FL training process. This functions are explained in Task 0."
      ]
    },
    {
      "cell_type": "code",
      "execution_count": 4,
      "metadata": {
        "id": "mmZRUxy_1Sp1",
        "colab": {
          "base_uri": "https://localhost:8080/"
        },
        "outputId": "770c1d69-60f8-4e10-91b7-c62f8e473121"
      },
      "outputs": [
        {
          "output_type": "stream",
          "name": "stdout",
          "text": [
            "Downloading https://www.cs.toronto.edu/~kriz/cifar-10-python.tar.gz to ./dataset/cifar-10-python.tar.gz\n"
          ]
        },
        {
          "output_type": "stream",
          "name": "stderr",
          "text": [
            "100%|██████████| 170498071/170498071 [00:05<00:00, 30232952.76it/s]\n"
          ]
        },
        {
          "output_type": "stream",
          "name": "stdout",
          "text": [
            "Extracting ./dataset/cifar-10-python.tar.gz to ./dataset\n",
            "Files already downloaded and verified\n"
          ]
        }
      ],
      "source": [
        "def load_datasets(num_clients: int):\n",
        "    # Download and transform CIFAR-10 (train and test)\n",
        "    transform = transforms.Compose(\n",
        "        [transforms.ToTensor(), transforms.Normalize((0.5, 0.5, 0.5), (0.5, 0.5, 0.5))]\n",
        "    )\n",
        "    trainset = CIFAR10(\"./dataset\", train=True, download=True, transform=transform)\n",
        "    testset = CIFAR10(\"./dataset\", train=False, download=True, transform=transform)\n",
        "\n",
        "    # Split training set into `num_clients` partitions to simulate different local datasets\n",
        "    partition_size = len(trainset) // num_clients\n",
        "    lengths = [partition_size] * num_clients\n",
        "    datasets = random_split(trainset, lengths, torch.Generator().manual_seed(42))\n",
        "\n",
        "    # Split each partition into train/val and create DataLoader\n",
        "    trainloaders = []\n",
        "    valloaders = []\n",
        "    for ds in datasets:\n",
        "        len_val = len(ds) // 10  # 10 % validation set\n",
        "        len_train = len(ds) - len_val\n",
        "        lengths = [len_train, len_val]\n",
        "        ds_train, ds_val = random_split(ds, lengths, torch.Generator().manual_seed(42))\n",
        "        trainloaders.append(DataLoader(ds_train, batch_size=32, shuffle=True))\n",
        "        valloaders.append(DataLoader(ds_val, batch_size=32))\n",
        "    testloader = DataLoader(testset, batch_size=32)\n",
        "    return trainloaders, valloaders, testloader\n",
        "\n",
        "\n",
        "class Net(nn.Module):\n",
        "    def __init__(self) -> None:\n",
        "        super(Net, self).__init__()\n",
        "        self.conv1 = nn.Conv2d(3, 6, 5)\n",
        "        self.pool = nn.MaxPool2d(2, 2)\n",
        "        self.conv2 = nn.Conv2d(6, 16, 5)\n",
        "        self.fc1 = nn.Linear(16 * 5 * 5, 120)\n",
        "        self.fc2 = nn.Linear(120, 84)\n",
        "        self.fc3 = nn.Linear(84, 10)\n",
        "\n",
        "    def forward(self, x: torch.Tensor) -> torch.Tensor:\n",
        "        x = self.pool(F.relu(self.conv1(x)))\n",
        "        x = self.pool(F.relu(self.conv2(x)))\n",
        "        x = x.view(-1, 16 * 5 * 5)\n",
        "        x = F.relu(self.fc1(x))\n",
        "        x = F.relu(self.fc2(x))\n",
        "        x = self.fc3(x)\n",
        "        return x\n",
        "\n",
        "\n",
        "def get_parameters(net) -> List[np.ndarray]:\n",
        "    return [val.cpu().numpy() for _, val in net.state_dict().items()]\n",
        "\n",
        "\n",
        "def set_parameters(net, parameters: List[np.ndarray]):\n",
        "    params_dict = zip(net.state_dict().keys(), parameters)\n",
        "    state_dict = OrderedDict({k: torch.Tensor(v) for k, v in params_dict})\n",
        "    net.load_state_dict(state_dict, strict=True)\n",
        "\n",
        "\n",
        "def train(net, trainloader, epochs: int):\n",
        "    \"\"\"Train the network on the training set.\"\"\"\n",
        "    criterion = torch.nn.CrossEntropyLoss()\n",
        "    optimizer = torch.optim.Adam(net.parameters())\n",
        "    net.train()\n",
        "    for epoch in range(epochs):\n",
        "        correct, total, epoch_loss = 0, 0, 0.0\n",
        "        for images, labels in trainloader:\n",
        "            images, labels = images.to(DEVICE), labels.to(DEVICE)\n",
        "            optimizer.zero_grad()\n",
        "            outputs = net(images)\n",
        "            loss = criterion(net(images), labels)\n",
        "            loss.backward()\n",
        "            optimizer.step()\n",
        "            # Metrics\n",
        "            epoch_loss += loss\n",
        "            total += labels.size(0)\n",
        "            correct += (torch.max(outputs.data, 1)[1] == labels).sum().item()\n",
        "        epoch_loss /= len(trainloader.dataset)\n",
        "        epoch_acc = correct / total\n",
        "        print(f\"Epoch {epoch+1}: train loss {epoch_loss}, accuracy {epoch_acc}\")\n",
        "\n",
        "\n",
        "def test(net, testloader):\n",
        "    \"\"\"Evaluate the network on the entire test set.\"\"\"\n",
        "    criterion = torch.nn.CrossEntropyLoss()\n",
        "    correct, total, loss = 0, 0, 0.0\n",
        "    net.eval()\n",
        "    with torch.no_grad():\n",
        "        for images, labels in testloader:\n",
        "            images, labels = images.to(DEVICE), labels.to(DEVICE)\n",
        "            outputs = net(images)\n",
        "            loss += criterion(outputs, labels).item()\n",
        "            _, predicted = torch.max(outputs.data, 1)\n",
        "            total += labels.size(0)\n",
        "            correct += (predicted == labels).sum().item()\n",
        "    loss /= len(testloader.dataset)\n",
        "    accuracy = correct / total\n",
        "    return loss, accuracy\n",
        "\n",
        "# Load datasets\n",
        "trainloaders, valloaders, testloader = load_datasets(NUM_CLIENTS)\n"
      ]
    },
    {
      "cell_type": "code",
      "execution_count": 5,
      "metadata": {
        "id": "v_CMPzvZmdsE"
      },
      "outputs": [],
      "source": [
        "class BaseFlowerClient(fl.client.NumPyClient):\n",
        "    def __init__(self, cid, net, trainloader, valloader):\n",
        "        self.cid = cid\n",
        "        self.net = net\n",
        "        self.trainloader = trainloader\n",
        "        self.valloader = valloader\n",
        "\n",
        "    def get_parameters(self, config):\n",
        "        \"\"\"Get parameters from the model.\"\"\"\n",
        "        print(f\"[Client {self.cid}] get_parameters\")\n",
        "        return get_parameters(self.net)\n",
        "\n",
        "    def fit(self, parameters, config):\n",
        "        \"\"\"Fit the model with the provided parameters.\"\"\"\n",
        "        raise NotImplementedError\n",
        "\n",
        "    def evaluate(self, parameters, config):\n",
        "        \"\"\"Evaluate the model and return loss and accuracy.\"\"\"\n",
        "        print(f\"[Client {self.cid}] evaluate, config: {config}\")\n",
        "        set_parameters(self.net, parameters)\n",
        "        loss, accuracy = test(self.net, self.valloader)\n",
        "        return float(loss), len(self.valloader), {\"accuracy\": float(accuracy)}\n",
        "\n",
        "\n",
        "class FlowerClient(BaseFlowerClient):\n",
        "    def fit(self, parameters, config):\n",
        "        \"\"\"Fit the model using the standard training method.\"\"\"\n",
        "        print(f\"[Client {self.cid}] fit, config: {config}\")\n",
        "        set_parameters(self.net, parameters)\n",
        "        train(self.net, self.trainloader, epochs=LOCAL_EPOCH)\n",
        "        return get_parameters(self.net), len(self.trainloader), {}\n",
        "\n",
        "\n",
        "def benign_client_fn(cid) -> FlowerClient:\n",
        "    net = Net().to(DEVICE)\n",
        "    trainloader = trainloaders[int(cid)]\n",
        "    valloader = valloaders[int(cid)]\n",
        "    return FlowerClient(cid, net, trainloader, valloader)\n",
        "\n",
        "def weighted_average(metrics: List[Tuple[int, Metrics]]) -> Metrics:\n",
        "    # Multiply accuracy of each client by number of examples used\n",
        "    accuracies = [num_examples * m[\"accuracy\"] for num_examples, m in metrics]\n",
        "    examples = [num_examples for num_examples, _ in metrics]\n",
        "    # Aggregate and return custom metric (weighted average)\n",
        "    return {\"accuracy\": sum(accuracies) / sum(examples), \"accuracy_per_client\": [m[\"accuracy\"] for _, m in metrics]}"
      ]
    },
    {
      "cell_type": "markdown",
      "metadata": {
        "id": "midgWmRtmdsF"
      },
      "source": [
        "Set up the FedAvg aggregation."
      ]
    },
    {
      "cell_type": "code",
      "execution_count": 6,
      "metadata": {
        "id": "CZ-w5LeMmdsH"
      },
      "outputs": [],
      "source": [
        "# Create an instance of the model and get the parameters\n",
        "params = get_parameters(Net())\n",
        "\n",
        "# Pass parameters to the Strategy for server-side parameter initialization\n",
        "strategy = fl.server.strategy.FedAvg(\n",
        "    fraction_fit=1.0,\n",
        "    fraction_evaluate=1.0,\n",
        "    min_fit_clients=NUM_CLIENTS,\n",
        "    min_evaluate_clients=NUM_CLIENTS,\n",
        "    min_available_clients=NUM_CLIENTS,\n",
        "    initial_parameters=fl.common.ndarrays_to_parameters(params),\n",
        "    evaluate_metrics_aggregation_fn=weighted_average,\n",
        "\n",
        ")\n"
      ]
    },
    {
      "cell_type": "markdown",
      "metadata": {
        "id": "CJkZKZCMmdsI"
      },
      "source": [
        "## Task 1: Poisoning attacks against FedAvg"
      ]
    },
    {
      "cell_type": "markdown",
      "metadata": {
        "id": "F-kSLzPEmdsJ"
      },
      "source": [
        "### Baseline: Run FedAvg in the benign setting"
      ]
    },
    {
      "cell_type": "code",
      "execution_count": 7,
      "metadata": {
        "id": "1Eb-A_55mdsJ",
        "colab": {
          "base_uri": "https://localhost:8080/"
        },
        "outputId": "b4f371b8-f8a8-4130-db96-881e84350901"
      },
      "outputs": [
        {
          "output_type": "stream",
          "name": "stderr",
          "text": [
            "INFO flwr 2023-11-29 09:41:43,116 | app.py:178 | Starting Flower simulation, config: ServerConfig(num_rounds=5, round_timeout=None)\n",
            "INFO:flwr:Starting Flower simulation, config: ServerConfig(num_rounds=5, round_timeout=None)\n",
            "2023-11-29 09:41:46,125\tINFO worker.py:1621 -- Started a local Ray instance.\n",
            "INFO flwr 2023-11-29 09:41:48,869 | app.py:213 | Flower VCE: Ray initialized with resources: {'object_store_memory': 3928401100.0, 'node:__internal_head__': 1.0, 'node:172.28.0.12': 1.0, 'GPU': 1.0, 'CPU': 2.0, 'memory': 7856802203.0}\n",
            "INFO:flwr:Flower VCE: Ray initialized with resources: {'object_store_memory': 3928401100.0, 'node:__internal_head__': 1.0, 'node:172.28.0.12': 1.0, 'GPU': 1.0, 'CPU': 2.0, 'memory': 7856802203.0}\n",
            "INFO flwr 2023-11-29 09:41:48,876 | app.py:219 | Optimize your simulation with Flower VCE: https://flower.dev/docs/framework/how-to-run-simulations.html\n",
            "INFO:flwr:Optimize your simulation with Flower VCE: https://flower.dev/docs/framework/how-to-run-simulations.html\n",
            "INFO flwr 2023-11-29 09:41:48,885 | app.py:242 | Flower VCE: Resources for each Virtual Client: {'num_gpus': 1, 'num_cpus': 1}\n",
            "INFO:flwr:Flower VCE: Resources for each Virtual Client: {'num_gpus': 1, 'num_cpus': 1}\n",
            "INFO flwr 2023-11-29 09:41:48,924 | app.py:288 | Flower VCE: Creating VirtualClientEngineActorPool with 1 actors\n",
            "INFO:flwr:Flower VCE: Creating VirtualClientEngineActorPool with 1 actors\n",
            "INFO flwr 2023-11-29 09:41:48,931 | server.py:89 | Initializing global parameters\n",
            "INFO:flwr:Initializing global parameters\n",
            "INFO flwr 2023-11-29 09:41:48,935 | server.py:272 | Using initial parameters provided by strategy\n",
            "INFO:flwr:Using initial parameters provided by strategy\n",
            "INFO flwr 2023-11-29 09:41:48,940 | server.py:91 | Evaluating initial parameters\n",
            "INFO:flwr:Evaluating initial parameters\n",
            "INFO flwr 2023-11-29 09:41:48,948 | server.py:104 | FL starting\n",
            "INFO:flwr:FL starting\n",
            "DEBUG flwr 2023-11-29 09:41:48,955 | server.py:222 | fit_round 1: strategy sampled 10 clients (out of 10)\n",
            "DEBUG:flwr:fit_round 1: strategy sampled 10 clients (out of 10)\n"
          ]
        },
        {
          "output_type": "stream",
          "name": "stdout",
          "text": [
            "\u001b[2m\u001b[36m(DefaultActor pid=968)\u001b[0m [Client 4] fit, config: {}\n",
            "\u001b[2m\u001b[36m(DefaultActor pid=968)\u001b[0m Epoch 1: train loss 0.06521376222372055, accuracy 0.22\n",
            "\u001b[2m\u001b[36m(DefaultActor pid=968)\u001b[0m [Client 1] fit, config: {}\n",
            "\u001b[2m\u001b[36m(DefaultActor pid=968)\u001b[0m Epoch 1: train loss 0.06360085308551788, accuracy 0.2457777777777778\n",
            "\u001b[2m\u001b[36m(DefaultActor pid=968)\u001b[0m [Client 6] fit, config: {}\n",
            "\u001b[2m\u001b[36m(DefaultActor pid=968)\u001b[0m Epoch 1: train loss 0.06461877375841141, accuracy 0.22844444444444445\n",
            "\u001b[2m\u001b[36m(DefaultActor pid=968)\u001b[0m [Client 7] fit, config: {}\n",
            "\u001b[2m\u001b[36m(DefaultActor pid=968)\u001b[0m Epoch 1: train loss 0.06364407390356064, accuracy 0.24933333333333332\n",
            "\u001b[2m\u001b[36m(DefaultActor pid=968)\u001b[0m [Client 5] fit, config: {}\n",
            "\u001b[2m\u001b[36m(DefaultActor pid=968)\u001b[0m Epoch 1: train loss 0.06479271501302719, accuracy 0.234\n",
            "\u001b[2m\u001b[36m(DefaultActor pid=968)\u001b[0m [Client 0] fit, config: {}\n",
            "\u001b[2m\u001b[36m(DefaultActor pid=968)\u001b[0m Epoch 1: train loss 0.06490716338157654, accuracy 0.2308888888888889\n",
            "\u001b[2m\u001b[36m(DefaultActor pid=968)\u001b[0m [Client 9] fit, config: {}\n",
            "\u001b[2m\u001b[36m(DefaultActor pid=968)\u001b[0m Epoch 1: train loss 0.06416549533605576, accuracy 0.23533333333333334\n",
            "\u001b[2m\u001b[36m(DefaultActor pid=968)\u001b[0m [Client 8] fit, config: {}\n",
            "\u001b[2m\u001b[36m(DefaultActor pid=968)\u001b[0m Epoch 1: train loss 0.06437801569700241, accuracy 0.242\n",
            "\u001b[2m\u001b[36m(DefaultActor pid=968)\u001b[0m [Client 3] fit, config: {}\n",
            "\u001b[2m\u001b[36m(DefaultActor pid=968)\u001b[0m Epoch 1: train loss 0.06462704390287399, accuracy 0.23266666666666666\n",
            "\u001b[2m\u001b[36m(DefaultActor pid=968)\u001b[0m [Client 2] fit, config: {}\n"
          ]
        },
        {
          "output_type": "stream",
          "name": "stderr",
          "text": [
            "DEBUG flwr 2023-11-29 09:42:37,183 | server.py:236 | fit_round 1 received 10 results and 0 failures\n",
            "DEBUG:flwr:fit_round 1 received 10 results and 0 failures\n",
            "WARNING flwr 2023-11-29 09:42:37,213 | fedavg.py:242 | No fit_metrics_aggregation_fn provided\n",
            "WARNING:flwr:No fit_metrics_aggregation_fn provided\n",
            "DEBUG flwr 2023-11-29 09:42:37,220 | server.py:173 | evaluate_round 1: strategy sampled 10 clients (out of 10)\n",
            "DEBUG:flwr:evaluate_round 1: strategy sampled 10 clients (out of 10)\n"
          ]
        },
        {
          "output_type": "stream",
          "name": "stdout",
          "text": [
            "\u001b[2m\u001b[36m(DefaultActor pid=968)\u001b[0m Epoch 1: train loss 0.06526482850313187, accuracy 0.22533333333333333\n",
            "\u001b[2m\u001b[36m(DefaultActor pid=968)\u001b[0m [Client 7] evaluate, config: {}\n",
            "\u001b[2m\u001b[36m(DefaultActor pid=968)\u001b[0m [Client 6] evaluate, config: {}\n",
            "\u001b[2m\u001b[36m(DefaultActor pid=968)\u001b[0m [Client 2] evaluate, config: {}\n",
            "\u001b[2m\u001b[36m(DefaultActor pid=968)\u001b[0m [Client 8] evaluate, config: {}\n",
            "\u001b[2m\u001b[36m(DefaultActor pid=968)\u001b[0m [Client 4] evaluate, config: {}\n",
            "\u001b[2m\u001b[36m(DefaultActor pid=968)\u001b[0m [Client 5] evaluate, config: {}\n",
            "\u001b[2m\u001b[36m(DefaultActor pid=968)\u001b[0m [Client 9] evaluate, config: {}\n",
            "\u001b[2m\u001b[36m(DefaultActor pid=968)\u001b[0m [Client 0] evaluate, config: {}\n",
            "\u001b[2m\u001b[36m(DefaultActor pid=968)\u001b[0m [Client 3] evaluate, config: {}\n"
          ]
        },
        {
          "output_type": "stream",
          "name": "stderr",
          "text": [
            "DEBUG flwr 2023-11-29 09:42:53,255 | server.py:187 | evaluate_round 1 received 10 results and 0 failures\n",
            "DEBUG:flwr:evaluate_round 1 received 10 results and 0 failures\n",
            "DEBUG flwr 2023-11-29 09:42:53,259 | server.py:222 | fit_round 2: strategy sampled 10 clients (out of 10)\n",
            "DEBUG:flwr:fit_round 2: strategy sampled 10 clients (out of 10)\n"
          ]
        },
        {
          "output_type": "stream",
          "name": "stdout",
          "text": [
            "\u001b[2m\u001b[36m(DefaultActor pid=968)\u001b[0m [Client 1] evaluate, config: {}\n",
            "\u001b[2m\u001b[36m(DefaultActor pid=968)\u001b[0m [Client 3] fit, config: {}\n",
            "\u001b[2m\u001b[36m(DefaultActor pid=968)\u001b[0m Epoch 1: train loss 0.05718574300408363, accuracy 0.32511111111111113\n",
            "\u001b[2m\u001b[36m(DefaultActor pid=968)\u001b[0m [Client 1] fit, config: {}\n",
            "\u001b[2m\u001b[36m(DefaultActor pid=968)\u001b[0m Epoch 1: train loss 0.05707429349422455, accuracy 0.3317777777777778\n",
            "\u001b[2m\u001b[36m(DefaultActor pid=968)\u001b[0m [Client 5] fit, config: {}\n",
            "\u001b[2m\u001b[36m(DefaultActor pid=968)\u001b[0m Epoch 1: train loss 0.057271622121334076, accuracy 0.32155555555555554\n",
            "\u001b[2m\u001b[36m(DefaultActor pid=968)\u001b[0m [Client 4] fit, config: {}\n",
            "\u001b[2m\u001b[36m(DefaultActor pid=968)\u001b[0m Epoch 1: train loss 0.05731072276830673, accuracy 0.3231111111111111\n",
            "\u001b[2m\u001b[36m(DefaultActor pid=968)\u001b[0m [Client 9] fit, config: {}\n",
            "\u001b[2m\u001b[36m(DefaultActor pid=968)\u001b[0m Epoch 1: train loss 0.0577738918364048, accuracy 0.31755555555555554\n",
            "\u001b[2m\u001b[36m(DefaultActor pid=968)\u001b[0m [Client 6] fit, config: {}\n",
            "\u001b[2m\u001b[36m(DefaultActor pid=968)\u001b[0m Epoch 1: train loss 0.05786411091685295, accuracy 0.3171111111111111\n",
            "\u001b[2m\u001b[36m(DefaultActor pid=968)\u001b[0m [Client 2] fit, config: {}\n",
            "\u001b[2m\u001b[36m(DefaultActor pid=968)\u001b[0m Epoch 1: train loss 0.05735397711396217, accuracy 0.328\n",
            "\u001b[2m\u001b[36m(DefaultActor pid=968)\u001b[0m [Client 7] fit, config: {}\n",
            "\u001b[2m\u001b[36m(DefaultActor pid=968)\u001b[0m Epoch 1: train loss 0.05632612481713295, accuracy 0.33466666666666667\n",
            "\u001b[2m\u001b[36m(DefaultActor pid=968)\u001b[0m [Client 0] fit, config: {}\n",
            "\u001b[2m\u001b[36m(DefaultActor pid=968)\u001b[0m Epoch 1: train loss 0.05690045282244682, accuracy 0.3308888888888889\n",
            "\u001b[2m\u001b[36m(DefaultActor pid=968)\u001b[0m [Client 8] fit, config: {}\n"
          ]
        },
        {
          "output_type": "stream",
          "name": "stderr",
          "text": [
            "DEBUG flwr 2023-11-29 09:43:22,882 | server.py:236 | fit_round 2 received 10 results and 0 failures\n",
            "DEBUG:flwr:fit_round 2 received 10 results and 0 failures\n",
            "DEBUG flwr 2023-11-29 09:43:22,912 | server.py:173 | evaluate_round 2: strategy sampled 10 clients (out of 10)\n",
            "DEBUG:flwr:evaluate_round 2: strategy sampled 10 clients (out of 10)\n"
          ]
        },
        {
          "output_type": "stream",
          "name": "stdout",
          "text": [
            "\u001b[2m\u001b[36m(DefaultActor pid=968)\u001b[0m Epoch 1: train loss 0.05653354153037071, accuracy 0.3348888888888889\n",
            "\u001b[2m\u001b[36m(DefaultActor pid=968)\u001b[0m [Client 9] evaluate, config: {}\n",
            "\u001b[2m\u001b[36m(DefaultActor pid=968)\u001b[0m [Client 3] evaluate, config: {}\n",
            "\u001b[2m\u001b[36m(DefaultActor pid=968)\u001b[0m [Client 1] evaluate, config: {}\n",
            "\u001b[2m\u001b[36m(DefaultActor pid=968)\u001b[0m [Client 7] evaluate, config: {}\n",
            "\u001b[2m\u001b[36m(DefaultActor pid=968)\u001b[0m [Client 4] evaluate, config: {}\n",
            "\u001b[2m\u001b[36m(DefaultActor pid=968)\u001b[0m [Client 0] evaluate, config: {}\n",
            "\u001b[2m\u001b[36m(DefaultActor pid=968)\u001b[0m [Client 8] evaluate, config: {}\n",
            "\u001b[2m\u001b[36m(DefaultActor pid=968)\u001b[0m [Client 5] evaluate, config: {}\n",
            "\u001b[2m\u001b[36m(DefaultActor pid=968)\u001b[0m [Client 2] evaluate, config: {}\n"
          ]
        },
        {
          "output_type": "stream",
          "name": "stderr",
          "text": [
            "DEBUG flwr 2023-11-29 09:43:38,962 | server.py:187 | evaluate_round 2 received 10 results and 0 failures\n",
            "DEBUG:flwr:evaluate_round 2 received 10 results and 0 failures\n",
            "DEBUG flwr 2023-11-29 09:43:38,966 | server.py:222 | fit_round 3: strategy sampled 10 clients (out of 10)\n",
            "DEBUG:flwr:fit_round 3: strategy sampled 10 clients (out of 10)\n"
          ]
        },
        {
          "output_type": "stream",
          "name": "stdout",
          "text": [
            "\u001b[2m\u001b[36m(DefaultActor pid=968)\u001b[0m [Client 6] evaluate, config: {}\n",
            "\u001b[2m\u001b[36m(DefaultActor pid=968)\u001b[0m [Client 3] fit, config: {}\n",
            "\u001b[2m\u001b[36m(DefaultActor pid=968)\u001b[0m Epoch 1: train loss 0.05339795723557472, accuracy 0.37266666666666665\n",
            "\u001b[2m\u001b[36m(DefaultActor pid=968)\u001b[0m [Client 6] fit, config: {}\n",
            "\u001b[2m\u001b[36m(DefaultActor pid=968)\u001b[0m Epoch 1: train loss 0.05319571495056152, accuracy 0.3731111111111111\n",
            "\u001b[2m\u001b[36m(DefaultActor pid=968)\u001b[0m [Client 1] fit, config: {}\n",
            "\u001b[2m\u001b[36m(DefaultActor pid=968)\u001b[0m Epoch 1: train loss 0.05233772099018097, accuracy 0.3877777777777778\n",
            "\u001b[2m\u001b[36m(DefaultActor pid=968)\u001b[0m [Client 4] fit, config: {}\n",
            "\u001b[2m\u001b[36m(DefaultActor pid=968)\u001b[0m Epoch 1: train loss 0.05233808606863022, accuracy 0.3908888888888889\n",
            "\u001b[2m\u001b[36m(DefaultActor pid=968)\u001b[0m [Client 0] fit, config: {}\n",
            "\u001b[2m\u001b[36m(DefaultActor pid=968)\u001b[0m Epoch 1: train loss 0.05252864211797714, accuracy 0.38911111111111113\n",
            "\u001b[2m\u001b[36m(DefaultActor pid=968)\u001b[0m [Client 2] fit, config: {}\n",
            "\u001b[2m\u001b[36m(DefaultActor pid=968)\u001b[0m Epoch 1: train loss 0.05301275476813316, accuracy 0.3688888888888889\n",
            "\u001b[2m\u001b[36m(DefaultActor pid=968)\u001b[0m [Client 7] fit, config: {}\n",
            "\u001b[2m\u001b[36m(DefaultActor pid=968)\u001b[0m Epoch 1: train loss 0.05195389315485954, accuracy 0.3977777777777778\n",
            "\u001b[2m\u001b[36m(DefaultActor pid=968)\u001b[0m [Client 9] fit, config: {}\n",
            "\u001b[2m\u001b[36m(DefaultActor pid=968)\u001b[0m Epoch 1: train loss 0.0535874180495739, accuracy 0.3771111111111111\n",
            "\u001b[2m\u001b[36m(DefaultActor pid=968)\u001b[0m [Client 5] fit, config: {}\n",
            "\u001b[2m\u001b[36m(DefaultActor pid=968)\u001b[0m Epoch 1: train loss 0.053313542157411575, accuracy 0.376\n",
            "\u001b[2m\u001b[36m(DefaultActor pid=968)\u001b[0m [Client 8] fit, config: {}\n"
          ]
        },
        {
          "output_type": "stream",
          "name": "stderr",
          "text": [
            "DEBUG flwr 2023-11-29 09:44:16,127 | server.py:236 | fit_round 3 received 10 results and 0 failures\n",
            "DEBUG:flwr:fit_round 3 received 10 results and 0 failures\n",
            "DEBUG flwr 2023-11-29 09:44:16,158 | server.py:173 | evaluate_round 3: strategy sampled 10 clients (out of 10)\n",
            "DEBUG:flwr:evaluate_round 3: strategy sampled 10 clients (out of 10)\n"
          ]
        },
        {
          "output_type": "stream",
          "name": "stdout",
          "text": [
            "\u001b[2m\u001b[36m(DefaultActor pid=968)\u001b[0m Epoch 1: train loss 0.05211883410811424, accuracy 0.39022222222222225\n",
            "\u001b[2m\u001b[36m(DefaultActor pid=968)\u001b[0m [Client 7] evaluate, config: {}\n",
            "\u001b[2m\u001b[36m(DefaultActor pid=968)\u001b[0m [Client 2] evaluate, config: {}\n",
            "\u001b[2m\u001b[36m(DefaultActor pid=968)\u001b[0m [Client 4] evaluate, config: {}\n",
            "\u001b[2m\u001b[36m(DefaultActor pid=968)\u001b[0m [Client 0] evaluate, config: {}\n",
            "\u001b[2m\u001b[36m(DefaultActor pid=968)\u001b[0m [Client 1] evaluate, config: {}\n",
            "\u001b[2m\u001b[36m(DefaultActor pid=968)\u001b[0m [Client 8] evaluate, config: {}\n",
            "\u001b[2m\u001b[36m(DefaultActor pid=968)\u001b[0m [Client 9] evaluate, config: {}\n",
            "\u001b[2m\u001b[36m(DefaultActor pid=968)\u001b[0m [Client 5] evaluate, config: {}\n",
            "\u001b[2m\u001b[36m(DefaultActor pid=968)\u001b[0m [Client 3] evaluate, config: {}\n"
          ]
        },
        {
          "output_type": "stream",
          "name": "stderr",
          "text": [
            "DEBUG flwr 2023-11-29 09:44:34,633 | server.py:187 | evaluate_round 3 received 10 results and 0 failures\n",
            "DEBUG:flwr:evaluate_round 3 received 10 results and 0 failures\n",
            "DEBUG flwr 2023-11-29 09:44:34,636 | server.py:222 | fit_round 4: strategy sampled 10 clients (out of 10)\n",
            "DEBUG:flwr:fit_round 4: strategy sampled 10 clients (out of 10)\n"
          ]
        },
        {
          "output_type": "stream",
          "name": "stdout",
          "text": [
            "\u001b[2m\u001b[36m(DefaultActor pid=968)\u001b[0m [Client 6] evaluate, config: {}\n",
            "\u001b[2m\u001b[36m(DefaultActor pid=968)\u001b[0m [Client 3] fit, config: {}\n",
            "\u001b[2m\u001b[36m(DefaultActor pid=968)\u001b[0m Epoch 1: train loss 0.05162409320473671, accuracy 0.39644444444444443\n",
            "\u001b[2m\u001b[36m(DefaultActor pid=968)\u001b[0m [Client 0] fit, config: {}\n",
            "\u001b[2m\u001b[36m(DefaultActor pid=968)\u001b[0m Epoch 1: train loss 0.050350215286016464, accuracy 0.41444444444444445\n",
            "\u001b[2m\u001b[36m(DefaultActor pid=968)\u001b[0m [Client 7] fit, config: {}\n",
            "\u001b[2m\u001b[36m(DefaultActor pid=968)\u001b[0m Epoch 1: train loss 0.04945081099867821, accuracy 0.41933333333333334\n",
            "\u001b[2m\u001b[36m(DefaultActor pid=968)\u001b[0m [Client 8] fit, config: {}\n",
            "\u001b[2m\u001b[36m(DefaultActor pid=968)\u001b[0m Epoch 1: train loss 0.04988085478544235, accuracy 0.4231111111111111\n",
            "\u001b[2m\u001b[36m(DefaultActor pid=968)\u001b[0m [Client 5] fit, config: {}\n",
            "\u001b[2m\u001b[36m(DefaultActor pid=968)\u001b[0m Epoch 1: train loss 0.05125696584582329, accuracy 0.402\n",
            "\u001b[2m\u001b[36m(DefaultActor pid=968)\u001b[0m [Client 2] fit, config: {}\n",
            "\u001b[2m\u001b[36m(DefaultActor pid=968)\u001b[0m Epoch 1: train loss 0.05110587552189827, accuracy 0.39666666666666667\n",
            "\u001b[2m\u001b[36m(DefaultActor pid=968)\u001b[0m [Client 6] fit, config: {}\n",
            "\u001b[2m\u001b[36m(DefaultActor pid=968)\u001b[0m Epoch 1: train loss 0.05163569003343582, accuracy 0.39644444444444443\n",
            "\u001b[2m\u001b[36m(DefaultActor pid=968)\u001b[0m [Client 1] fit, config: {}\n",
            "\u001b[2m\u001b[36m(DefaultActor pid=968)\u001b[0m Epoch 1: train loss 0.05016695335507393, accuracy 0.4166666666666667\n",
            "\u001b[2m\u001b[36m(DefaultActor pid=968)\u001b[0m [Client 9] fit, config: {}\n",
            "\u001b[2m\u001b[36m(DefaultActor pid=968)\u001b[0m Epoch 1: train loss 0.051439374685287476, accuracy 0.3908888888888889\n",
            "\u001b[2m\u001b[36m(DefaultActor pid=968)\u001b[0m [Client 4] fit, config: {}\n"
          ]
        },
        {
          "output_type": "stream",
          "name": "stderr",
          "text": [
            "DEBUG flwr 2023-11-29 09:45:06,630 | server.py:236 | fit_round 4 received 10 results and 0 failures\n",
            "DEBUG:flwr:fit_round 4 received 10 results and 0 failures\n",
            "DEBUG flwr 2023-11-29 09:45:06,657 | server.py:173 | evaluate_round 4: strategy sampled 10 clients (out of 10)\n",
            "DEBUG:flwr:evaluate_round 4: strategy sampled 10 clients (out of 10)\n"
          ]
        },
        {
          "output_type": "stream",
          "name": "stdout",
          "text": [
            "\u001b[2m\u001b[36m(DefaultActor pid=968)\u001b[0m Epoch 1: train loss 0.05026380717754364, accuracy 0.41488888888888886\n",
            "\u001b[2m\u001b[36m(DefaultActor pid=968)\u001b[0m [Client 1] evaluate, config: {}\n",
            "\u001b[2m\u001b[36m(DefaultActor pid=968)\u001b[0m [Client 2] evaluate, config: {}\n",
            "\u001b[2m\u001b[36m(DefaultActor pid=968)\u001b[0m [Client 6] evaluate, config: {}\n",
            "\u001b[2m\u001b[36m(DefaultActor pid=968)\u001b[0m [Client 3] evaluate, config: {}\n",
            "\u001b[2m\u001b[36m(DefaultActor pid=968)\u001b[0m [Client 5] evaluate, config: {}\n",
            "\u001b[2m\u001b[36m(DefaultActor pid=968)\u001b[0m [Client 7] evaluate, config: {}\n",
            "\u001b[2m\u001b[36m(DefaultActor pid=968)\u001b[0m [Client 8] evaluate, config: {}\n",
            "\u001b[2m\u001b[36m(DefaultActor pid=968)\u001b[0m [Client 4] evaluate, config: {}\n",
            "\u001b[2m\u001b[36m(DefaultActor pid=968)\u001b[0m [Client 0] evaluate, config: {}\n"
          ]
        },
        {
          "output_type": "stream",
          "name": "stderr",
          "text": [
            "DEBUG flwr 2023-11-29 09:45:22,621 | server.py:187 | evaluate_round 4 received 10 results and 0 failures\n",
            "DEBUG:flwr:evaluate_round 4 received 10 results and 0 failures\n",
            "DEBUG flwr 2023-11-29 09:45:22,624 | server.py:222 | fit_round 5: strategy sampled 10 clients (out of 10)\n",
            "DEBUG:flwr:fit_round 5: strategy sampled 10 clients (out of 10)\n"
          ]
        },
        {
          "output_type": "stream",
          "name": "stdout",
          "text": [
            "\u001b[2m\u001b[36m(DefaultActor pid=968)\u001b[0m [Client 9] evaluate, config: {}\n",
            "\u001b[2m\u001b[36m(DefaultActor pid=968)\u001b[0m [Client 9] fit, config: {}\n",
            "\u001b[2m\u001b[36m(DefaultActor pid=968)\u001b[0m Epoch 1: train loss 0.04969256371259689, accuracy 0.4171111111111111\n",
            "\u001b[2m\u001b[36m(DefaultActor pid=968)\u001b[0m [Client 6] fit, config: {}\n",
            "\u001b[2m\u001b[36m(DefaultActor pid=968)\u001b[0m Epoch 1: train loss 0.04989776387810707, accuracy 0.41444444444444445\n",
            "\u001b[2m\u001b[36m(DefaultActor pid=968)\u001b[0m [Client 8] fit, config: {}\n",
            "\u001b[2m\u001b[36m(DefaultActor pid=968)\u001b[0m Epoch 1: train loss 0.048714764416217804, accuracy 0.436\n",
            "\u001b[2m\u001b[36m(DefaultActor pid=968)\u001b[0m [Client 0] fit, config: {}\n",
            "\u001b[2m\u001b[36m(DefaultActor pid=968)\u001b[0m Epoch 1: train loss 0.04863670468330383, accuracy 0.4331111111111111\n",
            "\u001b[2m\u001b[36m(DefaultActor pid=968)\u001b[0m [Client 2] fit, config: {}\n",
            "\u001b[2m\u001b[36m(DefaultActor pid=968)\u001b[0m Epoch 1: train loss 0.0496576763689518, accuracy 0.4191111111111111\n",
            "\u001b[2m\u001b[36m(DefaultActor pid=968)\u001b[0m [Client 1] fit, config: {}\n",
            "\u001b[2m\u001b[36m(DefaultActor pid=968)\u001b[0m Epoch 1: train loss 0.04868558049201965, accuracy 0.43466666666666665\n",
            "\u001b[2m\u001b[36m(DefaultActor pid=968)\u001b[0m [Client 3] fit, config: {}\n",
            "\u001b[2m\u001b[36m(DefaultActor pid=968)\u001b[0m Epoch 1: train loss 0.04966793209314346, accuracy 0.422\n",
            "\u001b[2m\u001b[36m(DefaultActor pid=968)\u001b[0m [Client 7] fit, config: {}\n",
            "\u001b[2m\u001b[36m(DefaultActor pid=968)\u001b[0m Epoch 1: train loss 0.048211075365543365, accuracy 0.4348888888888889\n",
            "\u001b[2m\u001b[36m(DefaultActor pid=968)\u001b[0m [Client 5] fit, config: {}\n",
            "\u001b[2m\u001b[36m(DefaultActor pid=968)\u001b[0m Epoch 1: train loss 0.04971035569906235, accuracy 0.4197777777777778\n",
            "\u001b[2m\u001b[36m(DefaultActor pid=968)\u001b[0m [Client 4] fit, config: {}\n"
          ]
        },
        {
          "output_type": "stream",
          "name": "stderr",
          "text": [
            "DEBUG flwr 2023-11-29 09:45:59,788 | server.py:236 | fit_round 5 received 10 results and 0 failures\n",
            "DEBUG:flwr:fit_round 5 received 10 results and 0 failures\n",
            "DEBUG flwr 2023-11-29 09:45:59,827 | server.py:173 | evaluate_round 5: strategy sampled 10 clients (out of 10)\n",
            "DEBUG:flwr:evaluate_round 5: strategy sampled 10 clients (out of 10)\n"
          ]
        },
        {
          "output_type": "stream",
          "name": "stdout",
          "text": [
            "\u001b[2m\u001b[36m(DefaultActor pid=968)\u001b[0m Epoch 1: train loss 0.0491449311375618, accuracy 0.4262222222222222\n",
            "\u001b[2m\u001b[36m(DefaultActor pid=968)\u001b[0m [Client 6] evaluate, config: {}\n",
            "\u001b[2m\u001b[36m(DefaultActor pid=968)\u001b[0m [Client 4] evaluate, config: {}\n",
            "\u001b[2m\u001b[36m(DefaultActor pid=968)\u001b[0m [Client 7] evaluate, config: {}\n",
            "\u001b[2m\u001b[36m(DefaultActor pid=968)\u001b[0m [Client 0] evaluate, config: {}\n",
            "\u001b[2m\u001b[36m(DefaultActor pid=968)\u001b[0m [Client 9] evaluate, config: {}\n",
            "\u001b[2m\u001b[36m(DefaultActor pid=968)\u001b[0m [Client 3] evaluate, config: {}\n",
            "\u001b[2m\u001b[36m(DefaultActor pid=968)\u001b[0m [Client 5] evaluate, config: {}\n",
            "\u001b[2m\u001b[36m(DefaultActor pid=968)\u001b[0m [Client 8] evaluate, config: {}\n",
            "\u001b[2m\u001b[36m(DefaultActor pid=968)\u001b[0m [Client 1] evaluate, config: {}\n"
          ]
        },
        {
          "output_type": "stream",
          "name": "stderr",
          "text": [
            "DEBUG flwr 2023-11-29 09:46:18,017 | server.py:187 | evaluate_round 5 received 10 results and 0 failures\n",
            "DEBUG:flwr:evaluate_round 5 received 10 results and 0 failures\n",
            "INFO flwr 2023-11-29 09:46:18,022 | server.py:153 | FL finished in 269.066841527\n",
            "INFO:flwr:FL finished in 269.066841527\n",
            "INFO flwr 2023-11-29 09:46:18,029 | app.py:226 | app_fit: losses_distributed [(1, 0.061762942719459535), (2, 0.05416445825099945), (3, 0.05108146405220032), (4, 0.04936384074687957), (5, 0.04810040845870972)]\n",
            "INFO:flwr:app_fit: losses_distributed [(1, 0.061762942719459535), (2, 0.05416445825099945), (3, 0.05108146405220032), (4, 0.04936384074687957), (5, 0.04810040845870972)]\n",
            "INFO flwr 2023-11-29 09:46:18,032 | app.py:227 | app_fit: metrics_distributed_fit {}\n",
            "INFO:flwr:app_fit: metrics_distributed_fit {}\n",
            "INFO flwr 2023-11-29 09:46:18,035 | app.py:228 | app_fit: metrics_distributed {'accuracy': [(1, 0.31900000000000006), (2, 0.3724), (3, 0.40800000000000003), (4, 0.4358000000000001), (5, 0.45100000000000007)], 'accuracy_per_client': [(1, [0.324, 0.33, 0.322, 0.366, 0.312, 0.308, 0.306, 0.302, 0.302, 0.318]), (2, [0.38, 0.352, 0.376, 0.386, 0.376, 0.35, 0.394, 0.364, 0.378, 0.368]), (3, [0.432, 0.402, 0.436, 0.382, 0.386, 0.418, 0.384, 0.42, 0.4, 0.42]), (4, [0.45, 0.452, 0.446, 0.42, 0.436, 0.406, 0.454, 0.43, 0.41, 0.454]), (5, [0.446, 0.414, 0.458, 0.474, 0.42, 0.452, 0.448, 0.458, 0.474, 0.466])]}\n",
            "INFO:flwr:app_fit: metrics_distributed {'accuracy': [(1, 0.31900000000000006), (2, 0.3724), (3, 0.40800000000000003), (4, 0.4358000000000001), (5, 0.45100000000000007)], 'accuracy_per_client': [(1, [0.324, 0.33, 0.322, 0.366, 0.312, 0.308, 0.306, 0.302, 0.302, 0.318]), (2, [0.38, 0.352, 0.376, 0.386, 0.376, 0.35, 0.394, 0.364, 0.378, 0.368]), (3, [0.432, 0.402, 0.436, 0.382, 0.386, 0.418, 0.384, 0.42, 0.4, 0.42]), (4, [0.45, 0.452, 0.446, 0.42, 0.436, 0.406, 0.454, 0.43, 0.41, 0.454]), (5, [0.446, 0.414, 0.458, 0.474, 0.42, 0.452, 0.448, 0.458, 0.474, 0.466])]}\n",
            "INFO flwr 2023-11-29 09:46:18,038 | app.py:229 | app_fit: losses_centralized []\n",
            "INFO:flwr:app_fit: losses_centralized []\n",
            "INFO flwr 2023-11-29 09:46:18,040 | app.py:230 | app_fit: metrics_centralized {}\n",
            "INFO:flwr:app_fit: metrics_centralized {}\n"
          ]
        },
        {
          "output_type": "stream",
          "name": "stdout",
          "text": [
            "\u001b[2m\u001b[36m(DefaultActor pid=968)\u001b[0m [Client 2] evaluate, config: {}\n"
          ]
        }
      ],
      "source": [
        "# Start simulation\n",
        "clean_results = fl.simulation.start_simulation(\n",
        "    client_fn=benign_client_fn,\n",
        "    num_clients=NUM_CLIENTS,\n",
        "    config=fl.server.ServerConfig(num_rounds=NUM_ROUND),  # Just three rounds\n",
        "    strategy=strategy,\n",
        "    client_resources=client_resources,\n",
        ")"
      ]
    },
    {
      "cell_type": "markdown",
      "metadata": {
        "id": "mO_5a3PtA5kF"
      },
      "source": [
        "### Run FedAvg with one malicious client."
      ]
    },
    {
      "cell_type": "markdown",
      "metadata": {
        "id": "RS8N-AyFmdsK"
      },
      "source": [
        "#### Q1.1: Design your own poisoning attack in which the malicious client poisons the model by manipulating **only the labels** of the training data."
      ]
    },
    {
      "cell_type": "code",
      "execution_count": 8,
      "metadata": {
        "id": "TJfkIeLd1Sp9",
        "colab": {
          "base_uri": "https://localhost:8080/"
        },
        "outputId": "f4480d0b-4a0b-4db3-9ad4-e439f74a66a8"
      },
      "outputs": [
        {
          "output_type": "stream",
          "name": "stderr",
          "text": [
            "INFO flwr 2023-11-29 09:46:18,080 | app.py:178 | Starting Flower simulation, config: ServerConfig(num_rounds=5, round_timeout=None)\n",
            "INFO:flwr:Starting Flower simulation, config: ServerConfig(num_rounds=5, round_timeout=None)\n",
            "2023-11-29 09:46:22,813\tINFO worker.py:1621 -- Started a local Ray instance.\n",
            "INFO flwr 2023-11-29 09:46:25,005 | app.py:213 | Flower VCE: Ray initialized with resources: {'CPU': 2.0, 'object_store_memory': 3932110848.0, 'node:172.28.0.12': 1.0, 'GPU': 1.0, 'node:__internal_head__': 1.0, 'memory': 7864221696.0}\n",
            "INFO:flwr:Flower VCE: Ray initialized with resources: {'CPU': 2.0, 'object_store_memory': 3932110848.0, 'node:172.28.0.12': 1.0, 'GPU': 1.0, 'node:__internal_head__': 1.0, 'memory': 7864221696.0}\n",
            "INFO flwr 2023-11-29 09:46:25,015 | app.py:219 | Optimize your simulation with Flower VCE: https://flower.dev/docs/framework/how-to-run-simulations.html\n",
            "INFO:flwr:Optimize your simulation with Flower VCE: https://flower.dev/docs/framework/how-to-run-simulations.html\n",
            "INFO flwr 2023-11-29 09:46:25,023 | app.py:242 | Flower VCE: Resources for each Virtual Client: {'num_gpus': 1, 'num_cpus': 1}\n",
            "INFO:flwr:Flower VCE: Resources for each Virtual Client: {'num_gpus': 1, 'num_cpus': 1}\n",
            "INFO flwr 2023-11-29 09:46:25,041 | app.py:288 | Flower VCE: Creating VirtualClientEngineActorPool with 1 actors\n",
            "INFO:flwr:Flower VCE: Creating VirtualClientEngineActorPool with 1 actors\n",
            "INFO flwr 2023-11-29 09:46:25,044 | server.py:89 | Initializing global parameters\n",
            "INFO:flwr:Initializing global parameters\n",
            "INFO flwr 2023-11-29 09:46:25,047 | server.py:276 | Requesting initial parameters from one random client\n",
            "INFO:flwr:Requesting initial parameters from one random client\n",
            "INFO flwr 2023-11-29 09:46:33,929 | server.py:280 | Received initial parameters from one random client\n",
            "INFO:flwr:Received initial parameters from one random client\n",
            "INFO flwr 2023-11-29 09:46:33,935 | server.py:91 | Evaluating initial parameters\n",
            "INFO:flwr:Evaluating initial parameters\n",
            "INFO flwr 2023-11-29 09:46:33,938 | server.py:104 | FL starting\n",
            "INFO:flwr:FL starting\n",
            "DEBUG flwr 2023-11-29 09:46:33,944 | server.py:222 | fit_round 1: strategy sampled 10 clients (out of 10)\n",
            "DEBUG:flwr:fit_round 1: strategy sampled 10 clients (out of 10)\n"
          ]
        },
        {
          "output_type": "stream",
          "name": "stdout",
          "text": [
            "\u001b[2m\u001b[36m(DefaultActor pid=2391)\u001b[0m [Client 4] get_parameters\n",
            "\u001b[2m\u001b[36m(DefaultActor pid=2391)\u001b[0m [Client 4] fit, config: {}\n",
            "\u001b[2m\u001b[36m(DefaultActor pid=2391)\u001b[0m Epoch 1: train loss 0.06501307338476181, accuracy 0.20666666666666667\n",
            "\u001b[2m\u001b[36m(DefaultActor pid=2391)\u001b[0m [Poisoning Client 0] fit, config: {}\n",
            "\u001b[2m\u001b[36m(DefaultActor pid=2391)\u001b[0m Epoch 1: train loss 0.014318044297397137, accuracy 0.09488888888888888\n",
            "\u001b[2m\u001b[36m(DefaultActor pid=2391)\u001b[0m [Client 5] fit, config: {}\n",
            "\u001b[2m\u001b[36m(DefaultActor pid=2391)\u001b[0m Epoch 1: train loss 0.06557247042655945, accuracy 0.20844444444444443\n",
            "\u001b[2m\u001b[36m(DefaultActor pid=2391)\u001b[0m [Client 1] fit, config: {}\n",
            "\u001b[2m\u001b[36m(DefaultActor pid=2391)\u001b[0m Epoch 1: train loss 0.0653548464179039, accuracy 0.1988888888888889\n",
            "\u001b[2m\u001b[36m(DefaultActor pid=2391)\u001b[0m [Client 3] fit, config: {}\n",
            "\u001b[2m\u001b[36m(DefaultActor pid=2391)\u001b[0m Epoch 1: train loss 0.06594128161668777, accuracy 0.1902222222222222\n",
            "\u001b[2m\u001b[36m(DefaultActor pid=2391)\u001b[0m [Client 6] fit, config: {}\n",
            "\u001b[2m\u001b[36m(DefaultActor pid=2391)\u001b[0m Epoch 1: train loss 0.06597435474395752, accuracy 0.20133333333333334\n",
            "\u001b[2m\u001b[36m(DefaultActor pid=2391)\u001b[0m [Client 8] fit, config: {}\n",
            "\u001b[2m\u001b[36m(DefaultActor pid=2391)\u001b[0m Epoch 1: train loss 0.06600046157836914, accuracy 0.20844444444444443\n",
            "\u001b[2m\u001b[36m(DefaultActor pid=2391)\u001b[0m [Client 9] fit, config: {}\n",
            "\u001b[2m\u001b[36m(DefaultActor pid=2391)\u001b[0m Epoch 1: train loss 0.0646737664937973, accuracy 0.2291111111111111\n",
            "\u001b[2m\u001b[36m(DefaultActor pid=2391)\u001b[0m [Client 2] fit, config: {}\n",
            "\u001b[2m\u001b[36m(DefaultActor pid=2391)\u001b[0m Epoch 1: train loss 0.06584715843200684, accuracy 0.19111111111111112\n",
            "\u001b[2m\u001b[36m(DefaultActor pid=2391)\u001b[0m [Client 7] fit, config: {}\n"
          ]
        },
        {
          "output_type": "stream",
          "name": "stderr",
          "text": [
            "DEBUG flwr 2023-11-29 09:47:07,692 | server.py:236 | fit_round 1 received 10 results and 0 failures\n",
            "DEBUG:flwr:fit_round 1 received 10 results and 0 failures\n",
            "WARNING flwr 2023-11-29 09:47:07,718 | fedavg.py:242 | No fit_metrics_aggregation_fn provided\n",
            "WARNING:flwr:No fit_metrics_aggregation_fn provided\n",
            "DEBUG flwr 2023-11-29 09:47:07,723 | server.py:173 | evaluate_round 1: strategy sampled 10 clients (out of 10)\n",
            "DEBUG:flwr:evaluate_round 1: strategy sampled 10 clients (out of 10)\n"
          ]
        },
        {
          "output_type": "stream",
          "name": "stdout",
          "text": [
            "\u001b[2m\u001b[36m(DefaultActor pid=2391)\u001b[0m Epoch 1: train loss 0.06507667899131775, accuracy 0.21333333333333335\n",
            "\u001b[2m\u001b[36m(DefaultActor pid=2391)\u001b[0m [Client 6] evaluate, config: {}\n",
            "\u001b[2m\u001b[36m(DefaultActor pid=2391)\u001b[0m [Client 8] evaluate, config: {}\n",
            "\u001b[2m\u001b[36m(DefaultActor pid=2391)\u001b[0m [Client 0] evaluate, config: {}\n",
            "\u001b[2m\u001b[36m(DefaultActor pid=2391)\u001b[0m [Client 4] evaluate, config: {}\n",
            "\u001b[2m\u001b[36m(DefaultActor pid=2391)\u001b[0m [Client 9] evaluate, config: {}\n",
            "\u001b[2m\u001b[36m(DefaultActor pid=2391)\u001b[0m [Client 5] evaluate, config: {}\n",
            "\u001b[2m\u001b[36m(DefaultActor pid=2391)\u001b[0m [Client 2] evaluate, config: {}\n",
            "\u001b[2m\u001b[36m(DefaultActor pid=2391)\u001b[0m [Client 7] evaluate, config: {}\n",
            "\u001b[2m\u001b[36m(DefaultActor pid=2391)\u001b[0m [Client 1] evaluate, config: {}\n"
          ]
        },
        {
          "output_type": "stream",
          "name": "stderr",
          "text": [
            "DEBUG flwr 2023-11-29 09:47:23,706 | server.py:187 | evaluate_round 1 received 10 results and 0 failures\n",
            "DEBUG:flwr:evaluate_round 1 received 10 results and 0 failures\n",
            "DEBUG flwr 2023-11-29 09:47:23,709 | server.py:222 | fit_round 2: strategy sampled 10 clients (out of 10)\n",
            "DEBUG:flwr:fit_round 2: strategy sampled 10 clients (out of 10)\n"
          ]
        },
        {
          "output_type": "stream",
          "name": "stdout",
          "text": [
            "\u001b[2m\u001b[36m(DefaultActor pid=2391)\u001b[0m [Client 3] evaluate, config: {}\n",
            "\u001b[2m\u001b[36m(DefaultActor pid=2391)\u001b[0m [Client 5] fit, config: {}\n",
            "\u001b[2m\u001b[36m(DefaultActor pid=2391)\u001b[0m Epoch 1: train loss 0.05861888453364372, accuracy 0.30044444444444446\n",
            "\u001b[2m\u001b[36m(DefaultActor pid=2391)\u001b[0m [Poisoning Client 0] fit, config: {}\n",
            "\u001b[2m\u001b[36m(DefaultActor pid=2391)\u001b[0m Epoch 1: train loss 0.012543796561658382, accuracy 0.09733333333333333\n",
            "\u001b[2m\u001b[36m(DefaultActor pid=2391)\u001b[0m [Client 6] fit, config: {}\n",
            "\u001b[2m\u001b[36m(DefaultActor pid=2391)\u001b[0m Epoch 1: train loss 0.0586053803563118, accuracy 0.29088888888888886\n",
            "\u001b[2m\u001b[36m(DefaultActor pid=2391)\u001b[0m [Client 7] fit, config: {}\n",
            "\u001b[2m\u001b[36m(DefaultActor pid=2391)\u001b[0m Epoch 1: train loss 0.05705893412232399, accuracy 0.3217777777777778\n",
            "\u001b[2m\u001b[36m(DefaultActor pid=2391)\u001b[0m [Client 2] fit, config: {}\n",
            "\u001b[2m\u001b[36m(DefaultActor pid=2391)\u001b[0m Epoch 1: train loss 0.05772554501891136, accuracy 0.296\n",
            "\u001b[2m\u001b[36m(DefaultActor pid=2391)\u001b[0m [Client 4] fit, config: {}\n",
            "\u001b[2m\u001b[36m(DefaultActor pid=2391)\u001b[0m Epoch 1: train loss 0.057334303855895996, accuracy 0.3128888888888889\n",
            "\u001b[2m\u001b[36m(DefaultActor pid=2391)\u001b[0m [Client 8] fit, config: {}\n",
            "\u001b[2m\u001b[36m(DefaultActor pid=2391)\u001b[0m Epoch 1: train loss 0.058241184800863266, accuracy 0.31466666666666665\n",
            "\u001b[2m\u001b[36m(DefaultActor pid=2391)\u001b[0m [Client 3] fit, config: {}\n",
            "\u001b[2m\u001b[36m(DefaultActor pid=2391)\u001b[0m Epoch 1: train loss 0.057858631014823914, accuracy 0.30644444444444446\n",
            "\u001b[2m\u001b[36m(DefaultActor pid=2391)\u001b[0m [Client 1] fit, config: {}\n",
            "\u001b[2m\u001b[36m(DefaultActor pid=2391)\u001b[0m Epoch 1: train loss 0.057732898741960526, accuracy 0.31977777777777777\n",
            "\u001b[2m\u001b[36m(DefaultActor pid=2391)\u001b[0m [Client 9] fit, config: {}\n"
          ]
        },
        {
          "output_type": "stream",
          "name": "stderr",
          "text": [
            "DEBUG flwr 2023-11-29 09:47:55,573 | server.py:236 | fit_round 2 received 10 results and 0 failures\n",
            "DEBUG:flwr:fit_round 2 received 10 results and 0 failures\n",
            "DEBUG flwr 2023-11-29 09:47:55,603 | server.py:173 | evaluate_round 2: strategy sampled 10 clients (out of 10)\n",
            "DEBUG:flwr:evaluate_round 2: strategy sampled 10 clients (out of 10)\n"
          ]
        },
        {
          "output_type": "stream",
          "name": "stdout",
          "text": [
            "\u001b[2m\u001b[36m(DefaultActor pid=2391)\u001b[0m Epoch 1: train loss 0.05785825103521347, accuracy 0.3151111111111111\n",
            "\u001b[2m\u001b[36m(DefaultActor pid=2391)\u001b[0m [Client 8] evaluate, config: {}\n",
            "\u001b[2m\u001b[36m(DefaultActor pid=2391)\u001b[0m [Client 1] evaluate, config: {}\n",
            "\u001b[2m\u001b[36m(DefaultActor pid=2391)\u001b[0m [Client 2] evaluate, config: {}\n",
            "\u001b[2m\u001b[36m(DefaultActor pid=2391)\u001b[0m [Client 0] evaluate, config: {}\n",
            "\u001b[2m\u001b[36m(DefaultActor pid=2391)\u001b[0m [Client 3] evaluate, config: {}\n",
            "\u001b[2m\u001b[36m(DefaultActor pid=2391)\u001b[0m [Client 5] evaluate, config: {}\n",
            "\u001b[2m\u001b[36m(DefaultActor pid=2391)\u001b[0m [Client 4] evaluate, config: {}\n",
            "\u001b[2m\u001b[36m(DefaultActor pid=2391)\u001b[0m [Client 6] evaluate, config: {}\n",
            "\u001b[2m\u001b[36m(DefaultActor pid=2391)\u001b[0m [Client 9] evaluate, config: {}\n",
            "\u001b[2m\u001b[36m(DefaultActor pid=2391)\u001b[0m [Client 7] evaluate, config: {}\n"
          ]
        },
        {
          "output_type": "stream",
          "name": "stderr",
          "text": [
            "DEBUG flwr 2023-11-29 09:48:17,834 | server.py:187 | evaluate_round 2 received 10 results and 0 failures\n",
            "DEBUG:flwr:evaluate_round 2 received 10 results and 0 failures\n",
            "DEBUG flwr 2023-11-29 09:48:17,837 | server.py:222 | fit_round 3: strategy sampled 10 clients (out of 10)\n",
            "DEBUG:flwr:fit_round 3: strategy sampled 10 clients (out of 10)\n"
          ]
        },
        {
          "output_type": "stream",
          "name": "stdout",
          "text": [
            "\u001b[2m\u001b[36m(DefaultActor pid=2391)\u001b[0m [Client 8] fit, config: {}\n",
            "\u001b[2m\u001b[36m(DefaultActor pid=2391)\u001b[0m Epoch 1: train loss 0.053987909108400345, accuracy 0.366\n",
            "\u001b[2m\u001b[36m(DefaultActor pid=2391)\u001b[0m [Client 7] fit, config: {}\n",
            "\u001b[2m\u001b[36m(DefaultActor pid=2391)\u001b[0m Epoch 1: train loss 0.05330905690789223, accuracy 0.37333333333333335\n",
            "\u001b[2m\u001b[36m(DefaultActor pid=2391)\u001b[0m [Client 6] fit, config: {}\n",
            "\u001b[2m\u001b[36m(DefaultActor pid=2391)\u001b[0m Epoch 1: train loss 0.05548848584294319, accuracy 0.34044444444444444\n",
            "\u001b[2m\u001b[36m(DefaultActor pid=2391)\u001b[0m [Client 1] fit, config: {}\n",
            "\u001b[2m\u001b[36m(DefaultActor pid=2391)\u001b[0m Epoch 1: train loss 0.0536443330347538, accuracy 0.37022222222222223\n",
            "\u001b[2m\u001b[36m(DefaultActor pid=2391)\u001b[0m [Client 3] fit, config: {}\n",
            "\u001b[2m\u001b[36m(DefaultActor pid=2391)\u001b[0m Epoch 1: train loss 0.054297275841236115, accuracy 0.3586666666666667\n",
            "\u001b[2m\u001b[36m(DefaultActor pid=2391)\u001b[0m [Client 9] fit, config: {}\n",
            "\u001b[2m\u001b[36m(DefaultActor pid=2391)\u001b[0m Epoch 1: train loss 0.05457204952836037, accuracy 0.3591111111111111\n",
            "\u001b[2m\u001b[36m(DefaultActor pid=2391)\u001b[0m [Poisoning Client 0] fit, config: {}\n",
            "\u001b[2m\u001b[36m(DefaultActor pid=2391)\u001b[0m Epoch 1: train loss 0.011747029609978199, accuracy 0.09822222222222222\n",
            "\u001b[2m\u001b[36m(DefaultActor pid=2391)\u001b[0m [Client 2] fit, config: {}\n",
            "\u001b[2m\u001b[36m(DefaultActor pid=2391)\u001b[0m Epoch 1: train loss 0.05456952378153801, accuracy 0.35644444444444445\n",
            "\u001b[2m\u001b[36m(DefaultActor pid=2391)\u001b[0m [Client 4] fit, config: {}\n",
            "\u001b[2m\u001b[36m(DefaultActor pid=2391)\u001b[0m Epoch 1: train loss 0.05383450165390968, accuracy 0.3602222222222222\n",
            "\u001b[2m\u001b[36m(DefaultActor pid=2391)\u001b[0m [Client 5] fit, config: {}\n"
          ]
        },
        {
          "output_type": "stream",
          "name": "stderr",
          "text": [
            "DEBUG flwr 2023-11-29 09:48:52,885 | server.py:236 | fit_round 3 received 10 results and 0 failures\n",
            "DEBUG:flwr:fit_round 3 received 10 results and 0 failures\n",
            "DEBUG flwr 2023-11-29 09:48:52,915 | server.py:173 | evaluate_round 3: strategy sampled 10 clients (out of 10)\n",
            "DEBUG:flwr:evaluate_round 3: strategy sampled 10 clients (out of 10)\n"
          ]
        },
        {
          "output_type": "stream",
          "name": "stdout",
          "text": [
            "\u001b[2m\u001b[36m(DefaultActor pid=2391)\u001b[0m Epoch 1: train loss 0.055107928812503815, accuracy 0.35\n",
            "\u001b[2m\u001b[36m(DefaultActor pid=2391)\u001b[0m [Client 7] evaluate, config: {}\n",
            "\u001b[2m\u001b[36m(DefaultActor pid=2391)\u001b[0m [Client 4] evaluate, config: {}\n",
            "\u001b[2m\u001b[36m(DefaultActor pid=2391)\u001b[0m [Client 9] evaluate, config: {}\n",
            "\u001b[2m\u001b[36m(DefaultActor pid=2391)\u001b[0m [Client 8] evaluate, config: {}\n",
            "\u001b[2m\u001b[36m(DefaultActor pid=2391)\u001b[0m [Client 2] evaluate, config: {}\n",
            "\u001b[2m\u001b[36m(DefaultActor pid=2391)\u001b[0m [Client 6] evaluate, config: {}\n",
            "\u001b[2m\u001b[36m(DefaultActor pid=2391)\u001b[0m [Client 5] evaluate, config: {}\n",
            "\u001b[2m\u001b[36m(DefaultActor pid=2391)\u001b[0m [Client 1] evaluate, config: {}\n",
            "\u001b[2m\u001b[36m(DefaultActor pid=2391)\u001b[0m [Client 3] evaluate, config: {}\n"
          ]
        },
        {
          "output_type": "stream",
          "name": "stderr",
          "text": [
            "DEBUG flwr 2023-11-29 09:49:08,697 | server.py:187 | evaluate_round 3 received 10 results and 0 failures\n",
            "DEBUG:flwr:evaluate_round 3 received 10 results and 0 failures\n",
            "DEBUG flwr 2023-11-29 09:49:08,701 | server.py:222 | fit_round 4: strategy sampled 10 clients (out of 10)\n",
            "DEBUG:flwr:fit_round 4: strategy sampled 10 clients (out of 10)\n"
          ]
        },
        {
          "output_type": "stream",
          "name": "stdout",
          "text": [
            "\u001b[2m\u001b[36m(DefaultActor pid=2391)\u001b[0m [Client 0] evaluate, config: {}\n",
            "\u001b[2m\u001b[36m(DefaultActor pid=2391)\u001b[0m [Client 1] fit, config: {}\n",
            "\u001b[2m\u001b[36m(DefaultActor pid=2391)\u001b[0m Epoch 1: train loss 0.05146905407309532, accuracy 0.40155555555555555\n",
            "\u001b[2m\u001b[36m(DefaultActor pid=2391)\u001b[0m [Client 6] fit, config: {}\n",
            "\u001b[2m\u001b[36m(DefaultActor pid=2391)\u001b[0m Epoch 1: train loss 0.052962642163038254, accuracy 0.37355555555555553\n",
            "\u001b[2m\u001b[36m(DefaultActor pid=2391)\u001b[0m [Poisoning Client 0] fit, config: {}\n",
            "\u001b[2m\u001b[36m(DefaultActor pid=2391)\u001b[0m Epoch 1: train loss 0.011506223119795322, accuracy 0.09755555555555556\n",
            "\u001b[2m\u001b[36m(DefaultActor pid=2391)\u001b[0m [Client 4] fit, config: {}\n",
            "\u001b[2m\u001b[36m(DefaultActor pid=2391)\u001b[0m Epoch 1: train loss 0.051670026034116745, accuracy 0.4\n",
            "\u001b[2m\u001b[36m(DefaultActor pid=2391)\u001b[0m [Client 9] fit, config: {}\n",
            "\u001b[2m\u001b[36m(DefaultActor pid=2391)\u001b[0m Epoch 1: train loss 0.052200209349393845, accuracy 0.39266666666666666\n",
            "\u001b[2m\u001b[36m(DefaultActor pid=2391)\u001b[0m [Client 7] fit, config: {}\n",
            "\u001b[2m\u001b[36m(DefaultActor pid=2391)\u001b[0m Epoch 1: train loss 0.0515163391828537, accuracy 0.3953333333333333\n",
            "\u001b[2m\u001b[36m(DefaultActor pid=2391)\u001b[0m [Client 2] fit, config: {}\n",
            "\u001b[2m\u001b[36m(DefaultActor pid=2391)\u001b[0m Epoch 1: train loss 0.05231134593486786, accuracy 0.3751111111111111\n",
            "\u001b[2m\u001b[36m(DefaultActor pid=2391)\u001b[0m [Client 5] fit, config: {}\n",
            "\u001b[2m\u001b[36m(DefaultActor pid=2391)\u001b[0m Epoch 1: train loss 0.05262131989002228, accuracy 0.3848888888888889\n",
            "\u001b[2m\u001b[36m(DefaultActor pid=2391)\u001b[0m [Client 3] fit, config: {}\n",
            "\u001b[2m\u001b[36m(DefaultActor pid=2391)\u001b[0m Epoch 1: train loss 0.05261242762207985, accuracy 0.3811111111111111\n",
            "\u001b[2m\u001b[36m(DefaultActor pid=2391)\u001b[0m [Client 8] fit, config: {}\n"
          ]
        },
        {
          "output_type": "stream",
          "name": "stderr",
          "text": [
            "DEBUG flwr 2023-11-29 09:49:40,180 | server.py:236 | fit_round 4 received 10 results and 0 failures\n",
            "DEBUG:flwr:fit_round 4 received 10 results and 0 failures\n",
            "DEBUG flwr 2023-11-29 09:49:40,206 | server.py:173 | evaluate_round 4: strategy sampled 10 clients (out of 10)\n",
            "DEBUG:flwr:evaluate_round 4: strategy sampled 10 clients (out of 10)\n"
          ]
        },
        {
          "output_type": "stream",
          "name": "stdout",
          "text": [
            "\u001b[2m\u001b[36m(DefaultActor pid=2391)\u001b[0m Epoch 1: train loss 0.051726482808589935, accuracy 0.39511111111111114\n",
            "\u001b[2m\u001b[36m(DefaultActor pid=2391)\u001b[0m [Client 7] evaluate, config: {}\n",
            "\u001b[2m\u001b[36m(DefaultActor pid=2391)\u001b[0m [Client 0] evaluate, config: {}\n",
            "\u001b[2m\u001b[36m(DefaultActor pid=2391)\u001b[0m [Client 1] evaluate, config: {}\n",
            "\u001b[2m\u001b[36m(DefaultActor pid=2391)\u001b[0m [Client 4] evaluate, config: {}\n",
            "\u001b[2m\u001b[36m(DefaultActor pid=2391)\u001b[0m [Client 3] evaluate, config: {}\n",
            "\u001b[2m\u001b[36m(DefaultActor pid=2391)\u001b[0m [Client 2] evaluate, config: {}\n",
            "\u001b[2m\u001b[36m(DefaultActor pid=2391)\u001b[0m [Client 6] evaluate, config: {}\n",
            "\u001b[2m\u001b[36m(DefaultActor pid=2391)\u001b[0m [Client 8] evaluate, config: {}\n",
            "\u001b[2m\u001b[36m(DefaultActor pid=2391)\u001b[0m [Client 5] evaluate, config: {}\n"
          ]
        },
        {
          "output_type": "stream",
          "name": "stderr",
          "text": [
            "DEBUG flwr 2023-11-29 09:49:56,165 | server.py:187 | evaluate_round 4 received 10 results and 0 failures\n",
            "DEBUG:flwr:evaluate_round 4 received 10 results and 0 failures\n",
            "DEBUG flwr 2023-11-29 09:49:56,170 | server.py:222 | fit_round 5: strategy sampled 10 clients (out of 10)\n",
            "DEBUG:flwr:fit_round 5: strategy sampled 10 clients (out of 10)\n"
          ]
        },
        {
          "output_type": "stream",
          "name": "stdout",
          "text": [
            "\u001b[2m\u001b[36m(DefaultActor pid=2391)\u001b[0m [Client 9] evaluate, config: {}\n",
            "\u001b[2m\u001b[36m(DefaultActor pid=2391)\u001b[0m [Client 9] fit, config: {}\n",
            "\u001b[2m\u001b[36m(DefaultActor pid=2391)\u001b[0m Epoch 1: train loss 0.05081360787153244, accuracy 0.4108888888888889\n",
            "\u001b[2m\u001b[36m(DefaultActor pid=2391)\u001b[0m [Client 2] fit, config: {}\n",
            "\u001b[2m\u001b[36m(DefaultActor pid=2391)\u001b[0m Epoch 1: train loss 0.05031239613890648, accuracy 0.4033333333333333\n",
            "\u001b[2m\u001b[36m(DefaultActor pid=2391)\u001b[0m [Client 7] fit, config: {}\n",
            "\u001b[2m\u001b[36m(DefaultActor pid=2391)\u001b[0m Epoch 1: train loss 0.04914267733693123, accuracy 0.42044444444444445\n",
            "\u001b[2m\u001b[36m(DefaultActor pid=2391)\u001b[0m [Client 8] fit, config: {}\n",
            "\u001b[2m\u001b[36m(DefaultActor pid=2391)\u001b[0m Epoch 1: train loss 0.0495450496673584, accuracy 0.4146666666666667\n",
            "\u001b[2m\u001b[36m(DefaultActor pid=2391)\u001b[0m [Client 3] fit, config: {}\n",
            "\u001b[2m\u001b[36m(DefaultActor pid=2391)\u001b[0m Epoch 1: train loss 0.05090984329581261, accuracy 0.4011111111111111\n",
            "\u001b[2m\u001b[36m(DefaultActor pid=2391)\u001b[0m [Client 1] fit, config: {}\n",
            "\u001b[2m\u001b[36m(DefaultActor pid=2391)\u001b[0m Epoch 1: train loss 0.050174448639154434, accuracy 0.4086666666666667\n",
            "\u001b[2m\u001b[36m(DefaultActor pid=2391)\u001b[0m [Client 6] fit, config: {}\n",
            "\u001b[2m\u001b[36m(DefaultActor pid=2391)\u001b[0m Epoch 1: train loss 0.051221560686826706, accuracy 0.4017777777777778\n",
            "\u001b[2m\u001b[36m(DefaultActor pid=2391)\u001b[0m [Client 4] fit, config: {}\n",
            "\u001b[2m\u001b[36m(DefaultActor pid=2391)\u001b[0m Epoch 1: train loss 0.05026501044631004, accuracy 0.422\n",
            "\u001b[2m\u001b[36m(DefaultActor pid=2391)\u001b[0m [Poisoning Client 0] fit, config: {}\n",
            "\u001b[2m\u001b[36m(DefaultActor pid=2391)\u001b[0m Epoch 1: train loss 0.012349395081400871, accuracy 0.10222222222222223\n",
            "\u001b[2m\u001b[36m(DefaultActor pid=2391)\u001b[0m [Client 5] fit, config: {}\n"
          ]
        },
        {
          "output_type": "stream",
          "name": "stderr",
          "text": [
            "DEBUG flwr 2023-11-29 09:50:27,028 | server.py:236 | fit_round 5 received 10 results and 0 failures\n",
            "DEBUG:flwr:fit_round 5 received 10 results and 0 failures\n",
            "DEBUG flwr 2023-11-29 09:50:27,053 | server.py:173 | evaluate_round 5: strategy sampled 10 clients (out of 10)\n",
            "DEBUG:flwr:evaluate_round 5: strategy sampled 10 clients (out of 10)\n"
          ]
        },
        {
          "output_type": "stream",
          "name": "stdout",
          "text": [
            "\u001b[2m\u001b[36m(DefaultActor pid=2391)\u001b[0m Epoch 1: train loss 0.05108186602592468, accuracy 0.4126666666666667\n",
            "\u001b[2m\u001b[36m(DefaultActor pid=2391)\u001b[0m [Client 7] evaluate, config: {}\n",
            "\u001b[2m\u001b[36m(DefaultActor pid=2391)\u001b[0m [Client 8] evaluate, config: {}\n",
            "\u001b[2m\u001b[36m(DefaultActor pid=2391)\u001b[0m [Client 3] evaluate, config: {}\n",
            "\u001b[2m\u001b[36m(DefaultActor pid=2391)\u001b[0m [Client 6] evaluate, config: {}\n",
            "\u001b[2m\u001b[36m(DefaultActor pid=2391)\u001b[0m [Client 1] evaluate, config: {}\n",
            "\u001b[2m\u001b[36m(DefaultActor pid=2391)\u001b[0m [Client 2] evaluate, config: {}\n",
            "\u001b[2m\u001b[36m(DefaultActor pid=2391)\u001b[0m [Client 9] evaluate, config: {}\n",
            "\u001b[2m\u001b[36m(DefaultActor pid=2391)\u001b[0m [Client 0] evaluate, config: {}\n",
            "\u001b[2m\u001b[36m(DefaultActor pid=2391)\u001b[0m [Client 4] evaluate, config: {}\n"
          ]
        },
        {
          "output_type": "stream",
          "name": "stderr",
          "text": [
            "DEBUG flwr 2023-11-29 09:50:43,023 | server.py:187 | evaluate_round 5 received 10 results and 0 failures\n",
            "DEBUG:flwr:evaluate_round 5 received 10 results and 0 failures\n",
            "INFO flwr 2023-11-29 09:50:43,028 | server.py:153 | FL finished in 249.08379444300004\n",
            "INFO:flwr:FL finished in 249.08379444300004\n",
            "INFO flwr 2023-11-29 09:50:43,031 | app.py:226 | app_fit: losses_distributed [(1, 0.06667210779190064), (2, 0.05683409829139711), (3, 0.0537887336730957), (4, 0.05197075407505036), (5, 0.050414840960502624)]\n",
            "INFO:flwr:app_fit: losses_distributed [(1, 0.06667210779190064), (2, 0.05683409829139711), (3, 0.0537887336730957), (4, 0.05197075407505036), (5, 0.050414840960502624)]\n",
            "INFO flwr 2023-11-29 09:50:43,032 | app.py:227 | app_fit: metrics_distributed_fit {}\n",
            "INFO:flwr:app_fit: metrics_distributed_fit {}\n",
            "INFO flwr 2023-11-29 09:50:43,034 | app.py:228 | app_fit: metrics_distributed {'accuracy': [(1, 0.2232), (2, 0.3362), (3, 0.3646), (4, 0.39780000000000004), (5, 0.4166)], 'accuracy_per_client': [(1, [0.214, 0.214, 0.236, 0.22, 0.24, 0.22, 0.22, 0.23, 0.23, 0.208]), (2, [0.346, 0.344, 0.338, 0.33, 0.316, 0.344, 0.324, 0.32, 0.318, 0.382]), (3, [0.37, 0.334, 0.356, 0.336, 0.404, 0.344, 0.376, 0.368, 0.376, 0.382]), (4, [0.408, 0.42, 0.408, 0.358, 0.426, 0.392, 0.41, 0.384, 0.378, 0.394]), (5, [0.43, 0.422, 0.448, 0.404, 0.4, 0.432, 0.422, 0.37, 0.432, 0.406])]}\n",
            "INFO:flwr:app_fit: metrics_distributed {'accuracy': [(1, 0.2232), (2, 0.3362), (3, 0.3646), (4, 0.39780000000000004), (5, 0.4166)], 'accuracy_per_client': [(1, [0.214, 0.214, 0.236, 0.22, 0.24, 0.22, 0.22, 0.23, 0.23, 0.208]), (2, [0.346, 0.344, 0.338, 0.33, 0.316, 0.344, 0.324, 0.32, 0.318, 0.382]), (3, [0.37, 0.334, 0.356, 0.336, 0.404, 0.344, 0.376, 0.368, 0.376, 0.382]), (4, [0.408, 0.42, 0.408, 0.358, 0.426, 0.392, 0.41, 0.384, 0.378, 0.394]), (5, [0.43, 0.422, 0.448, 0.404, 0.4, 0.432, 0.422, 0.37, 0.432, 0.406])]}\n",
            "INFO flwr 2023-11-29 09:50:43,036 | app.py:229 | app_fit: losses_centralized []\n",
            "INFO:flwr:app_fit: losses_centralized []\n",
            "INFO flwr 2023-11-29 09:50:43,038 | app.py:230 | app_fit: metrics_centralized {}\n",
            "INFO:flwr:app_fit: metrics_centralized {}\n"
          ]
        },
        {
          "output_type": "stream",
          "name": "stdout",
          "text": [
            "\u001b[2m\u001b[36m(DefaultActor pid=2391)\u001b[0m [Client 5] evaluate, config: {}\n"
          ]
        }
      ],
      "source": [
        "\n",
        "def train_poisoning_data(net, trainloader, epochs: int):\n",
        "    \"\"\"Train the network on the training set.\"\"\"\n",
        "    criterion = torch.nn.CrossEntropyLoss()\n",
        "    optimizer = torch.optim.Adam(net.parameters())\n",
        "    net.train()\n",
        "    for epoch in range(epochs):\n",
        "        correct, total, epoch_loss = 0, 0, 0.0\n",
        "        for images, labels in trainloader:\n",
        "            images = images.to(DEVICE)\n",
        "            labels = labels.to(DEVICE)\n",
        "\n",
        "            optimizer.zero_grad()\n",
        "            ### TODO: Implement your attack here###\n",
        "            ### Implement the poisoning attack here ###\n",
        "            poisoned_labels = torch.tensor([2 if l!=2 else 1 for l in labels]).to(DEVICE)\n",
        "\n",
        "            outputs = net(images)\n",
        "            loss = criterion(outputs, poisoned_labels)\n",
        "\n",
        "            loss.backward()\n",
        "            optimizer.step()\n",
        "\n",
        "            ##########################################\n",
        "\n",
        "            epoch_loss += loss\n",
        "            total += labels.size(0)\n",
        "            correct += (torch.max(outputs.data, 1)[1] == labels).sum().item()\n",
        "        epoch_loss /= len(trainloader.dataset)\n",
        "        epoch_acc = correct / total\n",
        "        print(f\"Epoch {epoch+1}: train loss {epoch_loss}, accuracy {epoch_acc}\")\n",
        "\n",
        "\n",
        "\n",
        "\n",
        "class DataPoisonClient(BaseFlowerClient):\n",
        "    def fit(self, parameters, config):\n",
        "        \"\"\"Fit the model using the poisoned training method.\"\"\"\n",
        "        print(f\"[Poisoning Client {self.cid}] fit, config: {config}\")\n",
        "        set_parameters(self.net, parameters)\n",
        "        train_poisoning_data(self.net, self.trainloader, epochs=LOCAL_EPOCH)\n",
        "        return get_parameters(self.net), len(self.trainloader), {}\n",
        "\n",
        "def data_poison_client_fn(cid) -> FlowerClient:\n",
        "    net = Net().to(DEVICE)\n",
        "    trainloader = trainloaders[int(cid)]\n",
        "    valloader = valloaders[int(cid)]\n",
        "    if int(cid) in ADVERSARY_CID: # if the client is the adversary\n",
        "        return DataPoisonClient(cid, net, trainloader, valloader)\n",
        "    return FlowerClient(cid, net, trainloader, valloader)\n",
        "\n",
        "# Start simulation with different setups for the clients\n",
        "data_poison_results = fl.simulation.start_simulation(\n",
        "    client_fn=data_poison_client_fn,\n",
        "    num_clients=NUM_CLIENTS,\n",
        "    config=fl.server.ServerConfig(num_rounds=NUM_ROUND),  # Just three rounds\n",
        "    strategy=strategy,\n",
        "    client_resources=client_resources,\n",
        ")"
      ]
    },
    {
      "cell_type": "markdown",
      "metadata": {
        "id": "djwZobtsmdsM"
      },
      "source": [
        "Compare the performance in the benign setting and the malicious setting."
      ]
    },
    {
      "cell_type": "code",
      "execution_count": 9,
      "metadata": {
        "id": "xPovbF3imdsM",
        "colab": {
          "base_uri": "https://localhost:8080/",
          "height": 467
        },
        "outputId": "3d501907-08a5-42db-8a49-20ad5e2c181f"
      },
      "outputs": [
        {
          "output_type": "execute_result",
          "data": {
            "text/plain": [
              "<matplotlib.legend.Legend at 0x7cdcb037afe0>"
            ]
          },
          "metadata": {},
          "execution_count": 9
        },
        {
          "output_type": "display_data",
          "data": {
            "text/plain": [
              "<Figure size 640x480 with 1 Axes>"
            ],
            "image/png": "[encoded data removed]"
          },
          "metadata": {}
        }
      ],
      "source": [
        "poisoned_accuracy = data_poison_results.metrics_distributed[\"accuracy\"]\n",
        "clean_accuracy = clean_results.metrics_distributed[\"accuracy\"]\n",
        "plt.plot([poisoned_accuracy[i][1] for i in range(NUM_ROUND)], label=\"data poisoning\", color=\"red\", ls = \"--\")\n",
        "plt.plot([clean_accuracy[i][1] for i in range(NUM_ROUND)], label=\"clean\", color=\"blue\")\n",
        "plt.xlabel(\"NUM ROUND\")\n",
        "plt.ylabel(\"Accuracy\")\n",
        "plt.legend()"
      ]
    },
    {
      "cell_type": "markdown",
      "metadata": {
        "id": "IKPYA14omdsN"
      },
      "source": [
        "#### Q1.2: Design your own model poisoning attack in which the malicious client poisons the model by manipulating **the parameters** of the model.\n",
        "\n",
        "In this scenario, the malicious client can manipulate the model parameters to reduce the test accuracy of the global model. Please design and implement your own model poisoning attacks.\n",
        "\n"
      ]
    },
    {
      "cell_type": "code",
      "execution_count": 10,
      "metadata": {
        "id": "9xpNHQgvmdsN",
        "colab": {
          "base_uri": "https://localhost:8080/"
        },
        "outputId": "88c815ca-9078-40a5-e1ca-629a3e567012"
      },
      "outputs": [
        {
          "output_type": "stream",
          "name": "stderr",
          "text": [
            "INFO flwr 2023-11-29 09:50:43,393 | app.py:178 | Starting Flower simulation, config: ServerConfig(num_rounds=5, round_timeout=None)\n",
            "INFO:flwr:Starting Flower simulation, config: ServerConfig(num_rounds=5, round_timeout=None)\n",
            "2023-11-29 09:50:49,493\tINFO worker.py:1621 -- Started a local Ray instance.\n",
            "INFO flwr 2023-11-29 09:50:51,144 | app.py:213 | Flower VCE: Ray initialized with resources: {'memory': 7864376526.0, 'object_store_memory': 3932188262.0, 'CPU': 2.0, 'node:172.28.0.12': 1.0, 'GPU': 1.0, 'node:__internal_head__': 1.0}\n",
            "INFO:flwr:Flower VCE: Ray initialized with resources: {'memory': 7864376526.0, 'object_store_memory': 3932188262.0, 'CPU': 2.0, 'node:172.28.0.12': 1.0, 'GPU': 1.0, 'node:__internal_head__': 1.0}\n",
            "INFO flwr 2023-11-29 09:50:51,152 | app.py:219 | Optimize your simulation with Flower VCE: https://flower.dev/docs/framework/how-to-run-simulations.html\n",
            "INFO:flwr:Optimize your simulation with Flower VCE: https://flower.dev/docs/framework/how-to-run-simulations.html\n",
            "INFO flwr 2023-11-29 09:50:51,160 | app.py:242 | Flower VCE: Resources for each Virtual Client: {'num_gpus': 1, 'num_cpus': 1}\n",
            "INFO:flwr:Flower VCE: Resources for each Virtual Client: {'num_gpus': 1, 'num_cpus': 1}\n",
            "INFO flwr 2023-11-29 09:50:51,193 | app.py:288 | Flower VCE: Creating VirtualClientEngineActorPool with 1 actors\n",
            "INFO:flwr:Flower VCE: Creating VirtualClientEngineActorPool with 1 actors\n",
            "INFO flwr 2023-11-29 09:50:51,200 | server.py:89 | Initializing global parameters\n",
            "INFO:flwr:Initializing global parameters\n",
            "INFO flwr 2023-11-29 09:50:51,206 | server.py:276 | Requesting initial parameters from one random client\n",
            "INFO:flwr:Requesting initial parameters from one random client\n",
            "INFO flwr 2023-11-29 09:50:57,634 | server.py:280 | Received initial parameters from one random client\n",
            "INFO:flwr:Received initial parameters from one random client\n",
            "INFO flwr 2023-11-29 09:50:57,639 | server.py:91 | Evaluating initial parameters\n",
            "INFO:flwr:Evaluating initial parameters\n",
            "INFO flwr 2023-11-29 09:50:57,642 | server.py:104 | FL starting\n",
            "INFO:flwr:FL starting\n",
            "DEBUG flwr 2023-11-29 09:50:57,644 | server.py:222 | fit_round 1: strategy sampled 10 clients (out of 10)\n",
            "DEBUG:flwr:fit_round 1: strategy sampled 10 clients (out of 10)\n"
          ]
        },
        {
          "output_type": "stream",
          "name": "stdout",
          "text": [
            "\u001b[2m\u001b[36m(DefaultActor pid=3777)\u001b[0m [Client 1] get_parameters\n",
            "\u001b[2m\u001b[36m(DefaultActor pid=3777)\u001b[0m [Client 9] fit, config: {}\n",
            "\u001b[2m\u001b[36m(DefaultActor pid=3777)\u001b[0m Epoch 1: train loss 0.06556498259305954, accuracy 0.232\n",
            "\u001b[2m\u001b[36m(DefaultActor pid=3777)\u001b[0m [Client 4] fit, config: {}\n",
            "\u001b[2m\u001b[36m(DefaultActor pid=3777)\u001b[0m Epoch 1: train loss 0.06413865089416504, accuracy 0.2431111111111111\n",
            "\u001b[2m\u001b[36m(DefaultActor pid=3777)\u001b[0m [Client 8] fit, config: {}\n",
            "\u001b[2m\u001b[36m(DefaultActor pid=3777)\u001b[0m Epoch 1: train loss 0.06477877497673035, accuracy 0.23022222222222222\n",
            "\u001b[2m\u001b[36m(DefaultActor pid=3777)\u001b[0m [Client 2] fit, config: {}\n",
            "\u001b[2m\u001b[36m(DefaultActor pid=3777)\u001b[0m Epoch 1: train loss 0.06474923342466354, accuracy 0.23955555555555555\n",
            "\u001b[2m\u001b[36m(DefaultActor pid=3777)\u001b[0m [Poisoning Client 0] fit, config: {}\n",
            "\u001b[2m\u001b[36m(DefaultActor pid=3777)\u001b[0m Epoch 1: train loss -12320.7587890625, accuracy 0.09488888888888888\n",
            "\u001b[2m\u001b[36m(DefaultActor pid=3777)\u001b[0m [Client 7] fit, config: {}\n",
            "\u001b[2m\u001b[36m(DefaultActor pid=3777)\u001b[0m Epoch 1: train loss 0.064520925283432, accuracy 0.22044444444444444\n",
            "\u001b[2m\u001b[36m(DefaultActor pid=3777)\u001b[0m [Client 1] fit, config: {}\n",
            "\u001b[2m\u001b[36m(DefaultActor pid=3777)\u001b[0m Epoch 1: train loss 0.06455410271883011, accuracy 0.24066666666666667\n",
            "\u001b[2m\u001b[36m(DefaultActor pid=3777)\u001b[0m [Client 3] fit, config: {}\n",
            "\u001b[2m\u001b[36m(DefaultActor pid=3777)\u001b[0m Epoch 1: train loss 0.06504100561141968, accuracy 0.2288888888888889\n",
            "\u001b[2m\u001b[36m(DefaultActor pid=3777)\u001b[0m [Client 5] fit, config: {}\n",
            "\u001b[2m\u001b[36m(DefaultActor pid=3777)\u001b[0m Epoch 1: train loss 0.06554552912712097, accuracy 0.2248888888888889\n",
            "\u001b[2m\u001b[36m(DefaultActor pid=3777)\u001b[0m [Client 6] fit, config: {}\n"
          ]
        },
        {
          "output_type": "stream",
          "name": "stderr",
          "text": [
            "DEBUG flwr 2023-11-29 09:51:27,530 | server.py:236 | fit_round 1 received 10 results and 0 failures\n",
            "DEBUG:flwr:fit_round 1 received 10 results and 0 failures\n",
            "WARNING flwr 2023-11-29 09:51:27,562 | fedavg.py:242 | No fit_metrics_aggregation_fn provided\n",
            "WARNING:flwr:No fit_metrics_aggregation_fn provided\n",
            "DEBUG flwr 2023-11-29 09:51:27,565 | server.py:173 | evaluate_round 1: strategy sampled 10 clients (out of 10)\n",
            "DEBUG:flwr:evaluate_round 1: strategy sampled 10 clients (out of 10)\n"
          ]
        },
        {
          "output_type": "stream",
          "name": "stdout",
          "text": [
            "\u001b[2m\u001b[36m(DefaultActor pid=3777)\u001b[0m Epoch 1: train loss 0.06473410129547119, accuracy 0.2331111111111111\n",
            "\u001b[2m\u001b[36m(DefaultActor pid=3777)\u001b[0m [Client 2] evaluate, config: {}\n",
            "\u001b[2m\u001b[36m(DefaultActor pid=3777)\u001b[0m [Client 0] evaluate, config: {}\n",
            "\u001b[2m\u001b[36m(DefaultActor pid=3777)\u001b[0m [Client 7] evaluate, config: {}\n",
            "\u001b[2m\u001b[36m(DefaultActor pid=3777)\u001b[0m [Client 3] evaluate, config: {}\n",
            "\u001b[2m\u001b[36m(DefaultActor pid=3777)\u001b[0m [Client 5] evaluate, config: {}\n",
            "\u001b[2m\u001b[36m(DefaultActor pid=3777)\u001b[0m [Client 9] evaluate, config: {}\n",
            "\u001b[2m\u001b[36m(DefaultActor pid=3777)\u001b[0m [Client 4] evaluate, config: {}\n",
            "\u001b[2m\u001b[36m(DefaultActor pid=3777)\u001b[0m [Client 1] evaluate, config: {}\n",
            "\u001b[2m\u001b[36m(DefaultActor pid=3777)\u001b[0m [Client 6] evaluate, config: {}\n"
          ]
        },
        {
          "output_type": "stream",
          "name": "stderr",
          "text": [
            "DEBUG flwr 2023-11-29 09:51:45,751 | server.py:187 | evaluate_round 1 received 10 results and 0 failures\n",
            "DEBUG:flwr:evaluate_round 1 received 10 results and 0 failures\n",
            "DEBUG flwr 2023-11-29 09:51:45,758 | server.py:222 | fit_round 2: strategy sampled 10 clients (out of 10)\n",
            "DEBUG:flwr:fit_round 2: strategy sampled 10 clients (out of 10)\n"
          ]
        },
        {
          "output_type": "stream",
          "name": "stdout",
          "text": [
            "\u001b[2m\u001b[36m(DefaultActor pid=3777)\u001b[0m [Client 8] evaluate, config: {}\n",
            "\u001b[2m\u001b[36m(DefaultActor pid=3777)\u001b[0m [Client 3] fit, config: {}\n",
            "\u001b[2m\u001b[36m(DefaultActor pid=3777)\u001b[0m Epoch 1: train loss 0.2524269223213196, accuracy 0.25022222222222223\n",
            "\u001b[2m\u001b[36m(DefaultActor pid=3777)\u001b[0m [Client 2] fit, config: {}\n",
            "\u001b[2m\u001b[36m(DefaultActor pid=3777)\u001b[0m Epoch 1: train loss 0.23163968324661255, accuracy 0.2624444444444444\n",
            "\u001b[2m\u001b[36m(DefaultActor pid=3777)\u001b[0m [Client 8] fit, config: {}\n",
            "\u001b[2m\u001b[36m(DefaultActor pid=3777)\u001b[0m Epoch 1: train loss 0.24692869186401367, accuracy 0.2653333333333333\n",
            "\u001b[2m\u001b[36m(DefaultActor pid=3777)\u001b[0m [Client 5] fit, config: {}\n",
            "\u001b[2m\u001b[36m(DefaultActor pid=3777)\u001b[0m Epoch 1: train loss 0.241879403591156, accuracy 0.24866666666666667\n",
            "\u001b[2m\u001b[36m(DefaultActor pid=3777)\u001b[0m [Client 9] fit, config: {}\n",
            "\u001b[2m\u001b[36m(DefaultActor pid=3777)\u001b[0m Epoch 1: train loss 0.2484252154827118, accuracy 0.2682222222222222\n",
            "\u001b[2m\u001b[36m(DefaultActor pid=3777)\u001b[0m [Poisoning Client 0] fit, config: {}\n",
            "\u001b[2m\u001b[36m(DefaultActor pid=3777)\u001b[0m Epoch 1: train loss -43601.265625, accuracy 0.09488888888888888\n",
            "\u001b[2m\u001b[36m(DefaultActor pid=3777)\u001b[0m [Client 1] fit, config: {}\n",
            "\u001b[2m\u001b[36m(DefaultActor pid=3777)\u001b[0m Epoch 1: train loss 0.24657446146011353, accuracy 0.27444444444444444\n",
            "\u001b[2m\u001b[36m(DefaultActor pid=3777)\u001b[0m [Client 6] fit, config: {}\n",
            "\u001b[2m\u001b[36m(DefaultActor pid=3777)\u001b[0m Epoch 1: train loss 0.2489001750946045, accuracy 0.25244444444444447\n",
            "\u001b[2m\u001b[36m(DefaultActor pid=3777)\u001b[0m [Client 7] fit, config: {}\n",
            "\u001b[2m\u001b[36m(DefaultActor pid=3777)\u001b[0m Epoch 1: train loss 0.2430967092514038, accuracy 0.2604444444444444\n",
            "\u001b[2m\u001b[36m(DefaultActor pid=3777)\u001b[0m [Client 4] fit, config: {}\n"
          ]
        },
        {
          "output_type": "stream",
          "name": "stderr",
          "text": [
            "DEBUG flwr 2023-11-29 09:52:16,085 | server.py:236 | fit_round 2 received 10 results and 0 failures\n",
            "DEBUG:flwr:fit_round 2 received 10 results and 0 failures\n",
            "DEBUG flwr 2023-11-29 09:52:16,126 | server.py:173 | evaluate_round 2: strategy sampled 10 clients (out of 10)\n",
            "DEBUG:flwr:evaluate_round 2: strategy sampled 10 clients (out of 10)\n"
          ]
        },
        {
          "output_type": "stream",
          "name": "stdout",
          "text": [
            "\u001b[2m\u001b[36m(DefaultActor pid=3777)\u001b[0m Epoch 1: train loss 0.2448292374610901, accuracy 0.25955555555555554\n",
            "\u001b[2m\u001b[36m(DefaultActor pid=3777)\u001b[0m [Client 7] evaluate, config: {}\n",
            "\u001b[2m\u001b[36m(DefaultActor pid=3777)\u001b[0m [Client 5] evaluate, config: {}\n",
            "\u001b[2m\u001b[36m(DefaultActor pid=3777)\u001b[0m [Client 6] evaluate, config: {}\n",
            "\u001b[2m\u001b[36m(DefaultActor pid=3777)\u001b[0m [Client 2] evaluate, config: {}\n",
            "\u001b[2m\u001b[36m(DefaultActor pid=3777)\u001b[0m [Client 3] evaluate, config: {}\n",
            "\u001b[2m\u001b[36m(DefaultActor pid=3777)\u001b[0m [Client 1] evaluate, config: {}\n",
            "\u001b[2m\u001b[36m(DefaultActor pid=3777)\u001b[0m [Client 4] evaluate, config: {}\n",
            "\u001b[2m\u001b[36m(DefaultActor pid=3777)\u001b[0m [Client 9] evaluate, config: {}\n",
            "\u001b[2m\u001b[36m(DefaultActor pid=3777)\u001b[0m [Client 0] evaluate, config: {}\n"
          ]
        },
        {
          "output_type": "stream",
          "name": "stderr",
          "text": [
            "DEBUG flwr 2023-11-29 09:52:32,484 | server.py:187 | evaluate_round 2 received 10 results and 0 failures\n",
            "DEBUG:flwr:evaluate_round 2 received 10 results and 0 failures\n",
            "DEBUG flwr 2023-11-29 09:52:32,487 | server.py:222 | fit_round 3: strategy sampled 10 clients (out of 10)\n",
            "DEBUG:flwr:fit_round 3: strategy sampled 10 clients (out of 10)\n"
          ]
        },
        {
          "output_type": "stream",
          "name": "stdout",
          "text": [
            "\u001b[2m\u001b[36m(DefaultActor pid=3777)\u001b[0m [Client 8] evaluate, config: {}\n",
            "\u001b[2m\u001b[36m(DefaultActor pid=3777)\u001b[0m [Client 3] fit, config: {}\n",
            "\u001b[2m\u001b[36m(DefaultActor pid=3777)\u001b[0m Epoch 1: train loss 0.6190342307090759, accuracy 0.25266666666666665\n",
            "\u001b[2m\u001b[36m(DefaultActor pid=3777)\u001b[0m [Client 6] fit, config: {}\n",
            "\u001b[2m\u001b[36m(DefaultActor pid=3777)\u001b[0m Epoch 1: train loss 0.6419874429702759, accuracy 0.24422222222222223\n",
            "\u001b[2m\u001b[36m(DefaultActor pid=3777)\u001b[0m [Client 2] fit, config: {}\n",
            "\u001b[2m\u001b[36m(DefaultActor pid=3777)\u001b[0m Epoch 1: train loss 0.6385070085525513, accuracy 0.25377777777777777\n",
            "\u001b[2m\u001b[36m(DefaultActor pid=3777)\u001b[0m [Client 9] fit, config: {}\n",
            "\u001b[2m\u001b[36m(DefaultActor pid=3777)\u001b[0m Epoch 1: train loss 0.6067245602607727, accuracy 0.2411111111111111\n",
            "\u001b[2m\u001b[36m(DefaultActor pid=3777)\u001b[0m [Client 5] fit, config: {}\n",
            "\u001b[2m\u001b[36m(DefaultActor pid=3777)\u001b[0m Epoch 1: train loss 0.6335497498512268, accuracy 0.24888888888888888\n",
            "\u001b[2m\u001b[36m(DefaultActor pid=3777)\u001b[0m [Client 4] fit, config: {}\n",
            "\u001b[2m\u001b[36m(DefaultActor pid=3777)\u001b[0m Epoch 1: train loss 0.644005298614502, accuracy 0.25177777777777777\n",
            "\u001b[2m\u001b[36m(DefaultActor pid=3777)\u001b[0m [Client 1] fit, config: {}\n",
            "\u001b[2m\u001b[36m(DefaultActor pid=3777)\u001b[0m Epoch 1: train loss 0.64498370885849, accuracy 0.24977777777777777\n",
            "\u001b[2m\u001b[36m(DefaultActor pid=3777)\u001b[0m [Poisoning Client 0] fit, config: {}\n",
            "\u001b[2m\u001b[36m(DefaultActor pid=3777)\u001b[0m Epoch 1: train loss -63295.64453125, accuracy 0.09488888888888888\n",
            "\u001b[2m\u001b[36m(DefaultActor pid=3777)\u001b[0m [Client 7] fit, config: {}\n",
            "\u001b[2m\u001b[36m(DefaultActor pid=3777)\u001b[0m Epoch 1: train loss 0.6783280968666077, accuracy 0.25\n",
            "\u001b[2m\u001b[36m(DefaultActor pid=3777)\u001b[0m [Client 8] fit, config: {}\n"
          ]
        },
        {
          "output_type": "stream",
          "name": "stderr",
          "text": [
            "DEBUG flwr 2023-11-29 09:53:06,609 | server.py:236 | fit_round 3 received 10 results and 0 failures\n",
            "DEBUG:flwr:fit_round 3 received 10 results and 0 failures\n",
            "DEBUG flwr 2023-11-29 09:53:06,633 | server.py:173 | evaluate_round 3: strategy sampled 10 clients (out of 10)\n",
            "DEBUG:flwr:evaluate_round 3: strategy sampled 10 clients (out of 10)\n"
          ]
        },
        {
          "output_type": "stream",
          "name": "stdout",
          "text": [
            "\u001b[2m\u001b[36m(DefaultActor pid=3777)\u001b[0m Epoch 1: train loss 0.6370671987533569, accuracy 0.2548888888888889\n",
            "\u001b[2m\u001b[36m(DefaultActor pid=3777)\u001b[0m [Client 3] evaluate, config: {}\n",
            "\u001b[2m\u001b[36m(DefaultActor pid=3777)\u001b[0m [Client 9] evaluate, config: {}\n",
            "\u001b[2m\u001b[36m(DefaultActor pid=3777)\u001b[0m [Client 7] evaluate, config: {}\n",
            "\u001b[2m\u001b[36m(DefaultActor pid=3777)\u001b[0m [Client 1] evaluate, config: {}\n",
            "\u001b[2m\u001b[36m(DefaultActor pid=3777)\u001b[0m [Client 2] evaluate, config: {}\n",
            "\u001b[2m\u001b[36m(DefaultActor pid=3777)\u001b[0m [Client 4] evaluate, config: {}\n",
            "\u001b[2m\u001b[36m(DefaultActor pid=3777)\u001b[0m [Client 0] evaluate, config: {}\n",
            "\u001b[2m\u001b[36m(DefaultActor pid=3777)\u001b[0m [Client 8] evaluate, config: {}\n",
            "\u001b[2m\u001b[36m(DefaultActor pid=3777)\u001b[0m [Client 5] evaluate, config: {}\n"
          ]
        },
        {
          "output_type": "stream",
          "name": "stderr",
          "text": [
            "DEBUG flwr 2023-11-29 09:53:23,032 | server.py:187 | evaluate_round 3 received 10 results and 0 failures\n",
            "DEBUG:flwr:evaluate_round 3 received 10 results and 0 failures\n",
            "DEBUG flwr 2023-11-29 09:53:23,038 | server.py:222 | fit_round 4: strategy sampled 10 clients (out of 10)\n",
            "DEBUG:flwr:fit_round 4: strategy sampled 10 clients (out of 10)\n"
          ]
        },
        {
          "output_type": "stream",
          "name": "stdout",
          "text": [
            "\u001b[2m\u001b[36m(DefaultActor pid=3777)\u001b[0m [Client 6] evaluate, config: {}\n",
            "\u001b[2m\u001b[36m(DefaultActor pid=3777)\u001b[0m [Client 8] fit, config: {}\n",
            "\u001b[2m\u001b[36m(DefaultActor pid=3777)\u001b[0m Epoch 1: train loss 1.770163893699646, accuracy 0.2548888888888889\n",
            "\u001b[2m\u001b[36m(DefaultActor pid=3777)\u001b[0m [Client 2] fit, config: {}\n",
            "\u001b[2m\u001b[36m(DefaultActor pid=3777)\u001b[0m Epoch 1: train loss 1.6726142168045044, accuracy 0.25155555555555553\n",
            "\u001b[2m\u001b[36m(DefaultActor pid=3777)\u001b[0m [Client 5] fit, config: {}\n",
            "\u001b[2m\u001b[36m(DefaultActor pid=3777)\u001b[0m Epoch 1: train loss 1.758737325668335, accuracy 0.23466666666666666\n",
            "\u001b[2m\u001b[36m(DefaultActor pid=3777)\u001b[0m [Client 7] fit, config: {}\n",
            "\u001b[2m\u001b[36m(DefaultActor pid=3777)\u001b[0m Epoch 1: train loss 1.624461054801941, accuracy 0.25555555555555554\n",
            "\u001b[2m\u001b[36m(DefaultActor pid=3777)\u001b[0m [Poisoning Client 0] fit, config: {}\n",
            "\u001b[2m\u001b[36m(DefaultActor pid=3777)\u001b[0m Epoch 1: train loss -75646.78125, accuracy 0.09488888888888888\n",
            "\u001b[2m\u001b[36m(DefaultActor pid=3777)\u001b[0m [Client 4] fit, config: {}\n",
            "\u001b[2m\u001b[36m(DefaultActor pid=3777)\u001b[0m Epoch 1: train loss 1.6565096378326416, accuracy 0.242\n",
            "\u001b[2m\u001b[36m(DefaultActor pid=3777)\u001b[0m [Client 3] fit, config: {}\n",
            "\u001b[2m\u001b[36m(DefaultActor pid=3777)\u001b[0m Epoch 1: train loss 1.691632866859436, accuracy 0.23022222222222222\n",
            "\u001b[2m\u001b[36m(DefaultActor pid=3777)\u001b[0m [Client 6] fit, config: {}\n",
            "\u001b[2m\u001b[36m(DefaultActor pid=3777)\u001b[0m Epoch 1: train loss 1.65749192237854, accuracy 0.23866666666666667\n",
            "\u001b[2m\u001b[36m(DefaultActor pid=3777)\u001b[0m [Client 1] fit, config: {}\n",
            "\u001b[2m\u001b[36m(DefaultActor pid=3777)\u001b[0m Epoch 1: train loss 1.7560839653015137, accuracy 0.2551111111111111\n",
            "\u001b[2m\u001b[36m(DefaultActor pid=3777)\u001b[0m [Client 9] fit, config: {}\n"
          ]
        },
        {
          "output_type": "stream",
          "name": "stderr",
          "text": [
            "DEBUG flwr 2023-11-29 09:53:55,559 | server.py:236 | fit_round 4 received 10 results and 0 failures\n",
            "DEBUG:flwr:fit_round 4 received 10 results and 0 failures\n",
            "DEBUG flwr 2023-11-29 09:53:55,587 | server.py:173 | evaluate_round 4: strategy sampled 10 clients (out of 10)\n",
            "DEBUG:flwr:evaluate_round 4: strategy sampled 10 clients (out of 10)\n"
          ]
        },
        {
          "output_type": "stream",
          "name": "stdout",
          "text": [
            "\u001b[2m\u001b[36m(DefaultActor pid=3777)\u001b[0m Epoch 1: train loss 1.692379117012024, accuracy 0.24488888888888888\n",
            "\u001b[2m\u001b[36m(DefaultActor pid=3777)\u001b[0m [Client 6] evaluate, config: {}\n",
            "\u001b[2m\u001b[36m(DefaultActor pid=3777)\u001b[0m [Client 9] evaluate, config: {}\n",
            "\u001b[2m\u001b[36m(DefaultActor pid=3777)\u001b[0m [Client 2] evaluate, config: {}\n",
            "\u001b[2m\u001b[36m(DefaultActor pid=3777)\u001b[0m [Client 8] evaluate, config: {}\n",
            "\u001b[2m\u001b[36m(DefaultActor pid=3777)\u001b[0m [Client 3] evaluate, config: {}\n",
            "\u001b[2m\u001b[36m(DefaultActor pid=3777)\u001b[0m [Client 0] evaluate, config: {}\n",
            "\u001b[2m\u001b[36m(DefaultActor pid=3777)\u001b[0m [Client 1] evaluate, config: {}\n",
            "\u001b[2m\u001b[36m(DefaultActor pid=3777)\u001b[0m [Client 5] evaluate, config: {}\n",
            "\u001b[2m\u001b[36m(DefaultActor pid=3777)\u001b[0m [Client 7] evaluate, config: {}\n"
          ]
        },
        {
          "output_type": "stream",
          "name": "stderr",
          "text": [
            "DEBUG flwr 2023-11-29 09:54:12,634 | server.py:187 | evaluate_round 4 received 10 results and 0 failures\n",
            "DEBUG:flwr:evaluate_round 4 received 10 results and 0 failures\n",
            "DEBUG flwr 2023-11-29 09:54:12,637 | server.py:222 | fit_round 5: strategy sampled 10 clients (out of 10)\n",
            "DEBUG:flwr:fit_round 5: strategy sampled 10 clients (out of 10)\n"
          ]
        },
        {
          "output_type": "stream",
          "name": "stdout",
          "text": [
            "\u001b[2m\u001b[36m(DefaultActor pid=3777)\u001b[0m [Client 4] evaluate, config: {}\n",
            "\u001b[2m\u001b[36m(DefaultActor pid=3777)\u001b[0m [Client 9] fit, config: {}\n",
            "\u001b[2m\u001b[36m(DefaultActor pid=3777)\u001b[0m Epoch 1: train loss 2.911874294281006, accuracy 0.21933333333333332\n",
            "\u001b[2m\u001b[36m(DefaultActor pid=3777)\u001b[0m [Client 1] fit, config: {}\n",
            "\u001b[2m\u001b[36m(DefaultActor pid=3777)\u001b[0m Epoch 1: train loss 2.578070878982544, accuracy 0.24133333333333334\n",
            "\u001b[2m\u001b[36m(DefaultActor pid=3777)\u001b[0m [Poisoning Client 0] fit, config: {}\n",
            "\u001b[2m\u001b[36m(DefaultActor pid=3777)\u001b[0m Epoch 1: train loss -85522.8984375, accuracy 0.09488888888888888\n",
            "\u001b[2m\u001b[36m(DefaultActor pid=3777)\u001b[0m [Client 8] fit, config: {}\n",
            "\u001b[2m\u001b[36m(DefaultActor pid=3777)\u001b[0m Epoch 1: train loss 2.7955546379089355, accuracy 0.23755555555555555\n",
            "\u001b[2m\u001b[36m(DefaultActor pid=3777)\u001b[0m [Client 3] fit, config: {}\n",
            "\u001b[2m\u001b[36m(DefaultActor pid=3777)\u001b[0m Epoch 1: train loss 2.773912191390991, accuracy 0.22666666666666666\n",
            "\u001b[2m\u001b[36m(DefaultActor pid=3777)\u001b[0m [Client 4] fit, config: {}\n",
            "\u001b[2m\u001b[36m(DefaultActor pid=3777)\u001b[0m Epoch 1: train loss 2.8428878784179688, accuracy 0.226\n",
            "\u001b[2m\u001b[36m(DefaultActor pid=3777)\u001b[0m [Client 6] fit, config: {}\n",
            "\u001b[2m\u001b[36m(DefaultActor pid=3777)\u001b[0m Epoch 1: train loss 2.7801482677459717, accuracy 0.22044444444444444\n",
            "\u001b[2m\u001b[36m(DefaultActor pid=3777)\u001b[0m [Client 7] fit, config: {}\n",
            "\u001b[2m\u001b[36m(DefaultActor pid=3777)\u001b[0m Epoch 1: train loss 2.829760789871216, accuracy 0.24733333333333332\n",
            "\u001b[2m\u001b[36m(DefaultActor pid=3777)\u001b[0m [Client 5] fit, config: {}\n",
            "\u001b[2m\u001b[36m(DefaultActor pid=3777)\u001b[0m Epoch 1: train loss 2.79827880859375, accuracy 0.22955555555555557\n",
            "\u001b[2m\u001b[36m(DefaultActor pid=3777)\u001b[0m [Client 2] fit, config: {}\n"
          ]
        },
        {
          "output_type": "stream",
          "name": "stderr",
          "text": [
            "DEBUG flwr 2023-11-29 09:54:43,086 | server.py:236 | fit_round 5 received 10 results and 0 failures\n",
            "DEBUG:flwr:fit_round 5 received 10 results and 0 failures\n",
            "DEBUG flwr 2023-11-29 09:54:43,116 | server.py:173 | evaluate_round 5: strategy sampled 10 clients (out of 10)\n",
            "DEBUG:flwr:evaluate_round 5: strategy sampled 10 clients (out of 10)\n"
          ]
        },
        {
          "output_type": "stream",
          "name": "stdout",
          "text": [
            "\u001b[2m\u001b[36m(DefaultActor pid=3777)\u001b[0m Epoch 1: train loss 2.7678558826446533, accuracy 0.234\n",
            "\u001b[2m\u001b[36m(DefaultActor pid=3777)\u001b[0m [Client 7] evaluate, config: {}\n",
            "\u001b[2m\u001b[36m(DefaultActor pid=3777)\u001b[0m [Client 1] evaluate, config: {}\n",
            "\u001b[2m\u001b[36m(DefaultActor pid=3777)\u001b[0m [Client 0] evaluate, config: {}\n",
            "\u001b[2m\u001b[36m(DefaultActor pid=3777)\u001b[0m [Client 2] evaluate, config: {}\n",
            "\u001b[2m\u001b[36m(DefaultActor pid=3777)\u001b[0m [Client 3] evaluate, config: {}\n",
            "\u001b[2m\u001b[36m(DefaultActor pid=3777)\u001b[0m [Client 5] evaluate, config: {}\n",
            "\u001b[2m\u001b[36m(DefaultActor pid=3777)\u001b[0m [Client 6] evaluate, config: {}\n",
            "\u001b[2m\u001b[36m(DefaultActor pid=3777)\u001b[0m [Client 9] evaluate, config: {}\n",
            "\u001b[2m\u001b[36m(DefaultActor pid=3777)\u001b[0m [Client 8] evaluate, config: {}\n"
          ]
        },
        {
          "output_type": "stream",
          "name": "stderr",
          "text": [
            "DEBUG flwr 2023-11-29 09:54:59,051 | server.py:187 | evaluate_round 5 received 10 results and 0 failures\n",
            "DEBUG:flwr:evaluate_round 5 received 10 results and 0 failures\n",
            "INFO flwr 2023-11-29 09:54:59,056 | server.py:153 | FL finished in 241.41201805800006\n",
            "INFO:flwr:FL finished in 241.41201805800006\n",
            "INFO flwr 2023-11-29 09:54:59,061 | app.py:226 | app_fit: losses_distributed [(1, 5.370832643127441), (2, 16.154131964111333), (3, 39.17156528320312), (4, 64.44191491699218), (5, 102.61006362304688)]\n",
            "INFO:flwr:app_fit: losses_distributed [(1, 5.370832643127441), (2, 16.154131964111333), (3, 39.17156528320312), (4, 64.44191491699218), (5, 102.61006362304688)]\n",
            "INFO flwr 2023-11-29 09:54:59,062 | app.py:227 | app_fit: metrics_distributed_fit {}\n",
            "INFO:flwr:app_fit: metrics_distributed_fit {}\n",
            "INFO flwr 2023-11-29 09:54:59,065 | app.py:228 | app_fit: metrics_distributed {'accuracy': [(1, 0.09719999999999998), (2, 0.09719999999999998), (3, 0.09719999999999998), (4, 0.09719999999999998), (5, 0.09719999999999998)], 'accuracy_per_client': [(1, [0.11, 0.11, 0.094, 0.096, 0.102, 0.084, 0.08, 0.102, 0.092, 0.102]), (2, [0.094, 0.102, 0.11, 0.084, 0.096, 0.11, 0.102, 0.08, 0.092, 0.102]), (3, [0.094, 0.11, 0.08, 0.102, 0.102, 0.102, 0.096, 0.092, 0.11, 0.084]), (4, [0.08, 0.084, 0.102, 0.102, 0.094, 0.11, 0.11, 0.102, 0.096, 0.092]), (5, [0.08, 0.094, 0.096, 0.102, 0.11, 0.092, 0.11, 0.102, 0.102, 0.084])]}\n",
            "INFO:flwr:app_fit: metrics_distributed {'accuracy': [(1, 0.09719999999999998), (2, 0.09719999999999998), (3, 0.09719999999999998), (4, 0.09719999999999998), (5, 0.09719999999999998)], 'accuracy_per_client': [(1, [0.11, 0.11, 0.094, 0.096, 0.102, 0.084, 0.08, 0.102, 0.092, 0.102]), (2, [0.094, 0.102, 0.11, 0.084, 0.096, 0.11, 0.102, 0.08, 0.092, 0.102]), (3, [0.094, 0.11, 0.08, 0.102, 0.102, 0.102, 0.096, 0.092, 0.11, 0.084]), (4, [0.08, 0.084, 0.102, 0.102, 0.094, 0.11, 0.11, 0.102, 0.096, 0.092]), (5, [0.08, 0.094, 0.096, 0.102, 0.11, 0.092, 0.11, 0.102, 0.102, 0.084])]}\n",
            "INFO flwr 2023-11-29 09:54:59,069 | app.py:229 | app_fit: losses_centralized []\n",
            "INFO:flwr:app_fit: losses_centralized []\n",
            "INFO flwr 2023-11-29 09:54:59,071 | app.py:230 | app_fit: metrics_centralized {}\n",
            "INFO:flwr:app_fit: metrics_centralized {}\n"
          ]
        },
        {
          "output_type": "stream",
          "name": "stdout",
          "text": [
            "\u001b[2m\u001b[36m(DefaultActor pid=3777)\u001b[0m [Client 4] evaluate, config: {}\n"
          ]
        }
      ],
      "source": [
        "\n",
        "def train_poisoning_models(net, trainloader, epochs: int):\n",
        "    \"\"\"Train the network on the training set.\"\"\"\n",
        "    criterion = torch.nn.CrossEntropyLoss()\n",
        "    optimizer = torch.optim.Adam(net.parameters())\n",
        "    net.train()\n",
        "    ## TODO: Model Poisoning attack ##\n",
        "\n",
        "    for epoch in range(epochs):\n",
        "        correct, total, epoch_loss = 0, 0, 0.0\n",
        "        for images, labels in trainloader:\n",
        "            images = images.to(DEVICE)\n",
        "            labels = labels.to(DEVICE)\n",
        "\n",
        "            optimizer.zero_grad()\n",
        "\n",
        "            outputs = net(images)\n",
        "            loss = -criterion(outputs, labels)\n",
        "\n",
        "            loss.backward()\n",
        "            optimizer.step()\n",
        "\n",
        "            epoch_loss += loss\n",
        "            total += labels.size(0)\n",
        "            correct += (torch.max(outputs.data, 1)[1] == labels).sum().item()\n",
        "        epoch_loss /= len(trainloader.dataset)\n",
        "        epoch_acc = correct / total\n",
        "        print(f\"Epoch {epoch+1}: train loss {epoch_loss}, accuracy {epoch_acc}\")\n",
        "\n",
        "\n",
        "    ##################################\n",
        "\n",
        "\n",
        "class ModelPoisonClient(BaseFlowerClient):\n",
        "    def fit(self, parameters, config):\n",
        "        \"\"\"Fit the model using the poisoned training method.\"\"\"\n",
        "        print(f\"[Poisoning Client {self.cid}] fit, config: {config}\")\n",
        "        set_parameters(self.net, parameters)\n",
        "        train_poisoning_models(self.net, self.trainloader, epochs=LOCAL_EPOCH)\n",
        "        return get_parameters(self.net), len(self.trainloader), {}\n",
        "\n",
        "def model_poison_client_fn(cid) -> FlowerClient:\n",
        "    net = Net().to(DEVICE)\n",
        "    trainloader = trainloaders[int(cid)]\n",
        "    valloader = valloaders[int(cid)]\n",
        "    if int(cid) in ADVERSARY_CID: # if the client is the adversary\n",
        "        return ModelPoisonClient(cid, net, trainloader, valloader)\n",
        "    return FlowerClient(cid, net, trainloader, valloader)\n",
        "\n",
        "# Start simulation for model poisoning\n",
        "model_poison_results = fl.simulation.start_simulation(\n",
        "    client_fn=model_poison_client_fn,\n",
        "    num_clients=NUM_CLIENTS,\n",
        "    config=fl.server.ServerConfig(num_rounds=NUM_ROUND),  # Just three rounds\n",
        "    strategy=strategy,\n",
        "    client_resources=client_resources,\n",
        ")"
      ]
    },
    {
      "cell_type": "markdown",
      "metadata": {
        "id": "7ih52MYBmdsO"
      },
      "source": [
        "Compare the performance"
      ]
    },
    {
      "cell_type": "code",
      "execution_count": 11,
      "metadata": {
        "id": "TXhsu3EBmdsO",
        "colab": {
          "base_uri": "https://localhost:8080/",
          "height": 467
        },
        "outputId": "d057e217-9db3-4fc0-9b2e-b404dbff58f0"
      },
      "outputs": [
        {
          "output_type": "execute_result",
          "data": {
            "text/plain": [
              "<matplotlib.legend.Legend at 0x7cdcb0104730>"
            ]
          },
          "metadata": {},
          "execution_count": 11
        },
        {
          "output_type": "display_data",
          "data": {
            "text/plain": [
              "<Figure size 640x480 with 1 Axes>"
            ],
            "image/png": "[encoded data removed]"
          },
          "metadata": {}
        }
      ],
      "source": [
        "# Helping function\n",
        "poisoned_accuracy = data_poison_results.metrics_distributed[\"accuracy\"]\n",
        "clean_accuracy = clean_results.metrics_distributed[\"accuracy\"]\n",
        "model_poison_accuracy = model_poison_results.metrics_distributed[\"accuracy\"]\n",
        "\n",
        "x= [i for i in range(NUM_ROUND)]\n",
        "plt.plot(x,[model_poison_accuracy[i][1] for i in range(NUM_ROUND)], label=\"Model poisoning\", color=\"green\", ls = \"-.\")\n",
        "plt.plot(x,[poisoned_accuracy[i][1] for i in range(NUM_ROUND)], label=\"Data poisoning\", color=\"red\", ls = \"--\")\n",
        "plt.plot(x,[clean_accuracy[i][1] for i in range(NUM_ROUND)], label=\"Benign Setting\", color=\"blue\")\n",
        "plt.xlabel(\"Communication Round\")\n",
        "plt.ylabel(\"Test Accuracy\")\n",
        "plt.legend()"
      ]
    },
    {
      "cell_type": "markdown",
      "metadata": {
        "id": "a856SOs4mdsP"
      },
      "source": [
        "#### Q1.3: Answer the following questions in your report:\n",
        "\n",
        "1. Provide an explanation of the design of your data poisoning attack and model poisoning attack.\n",
        "2. Is a model poisoning attack more effective than a data poisoning attack? If so, why?\n",
        "3. When increasing the number of participating clients to 20 (i.e., changing `NUM_CLIENT` to 20), does the gap between the model poisoning attacks and data poisoning attack increase? Why or why not?"
      ]
    },
    {
      "cell_type": "markdown",
      "metadata": {
        "id": "vv5XkvZQmdsP"
      },
      "source": [
        "##### Report [TODO]:"
      ]
    },
    {
      "cell_type": "markdown",
      "metadata": {
        "id": "loqLEr28mdsP"
      },
      "source": [
        "1. Data Poisoning Attack:\n",
        "  - I flip the labels of each data point such that\n",
        "    - `flipped_label = 2` (if `true_label != 2`),\n",
        "    - `flipped_label = 1` (if `true_label == 2`).\n",
        "  - This forces the model to learn wrong class representations, thereby reducing test accuracy.\n",
        "\n",
        "  Model Poisoning Attack:\n",
        "  - I update the parameters of the network in the direction where the gradient of the loss wrt the parameters is maximized.\n",
        "  - This forces the decision boundary away from the true decision boundary.\n",
        "\n",
        "2. Model Poisoning Attack is more effective than the data poisoning attack.\n",
        "This is due to the fact that coordinate-wise mean aggregate does not simply pick one of the updates to apply to the global model, but uses information from all the agents while computing the new update. Since the updates to the poisoned model are huge, the true mean of the global model gets shifted in each round. Thus, there is convergence to an effectively attacked global model.\n",
        "\n",
        "3. By increasing `NUM_CLIENTS = 20`, the data poisoning attack will be less effective than at `NUM_CLIENTS = 10`. That is, test accuracy for data poisoning attacks will start to converge to the benign setting. Thus, the gap between the model poisoning attacks and data poisoning attacks will increase.\n",
        "This is because with additional clients, more data would be present which will be representative of the true labels. Thus, the poisoning effect of the points with dirty labels will lessen. However, model poisoning attacks will still be effective as the parameter updates are large, thereby shifting the true mean significantly."
      ]
    },
    {
      "cell_type": "markdown",
      "metadata": {
        "id": "1R_47fiamdsQ"
      },
      "source": [
        "## Task 2: Replace the weighted average with element-wise median aggregation"
      ]
    },
    {
      "cell_type": "markdown",
      "source": [
        "### Median Defense"
      ],
      "metadata": {
        "id": "kv8usDMJFAEg"
      }
    },
    {
      "cell_type": "code",
      "execution_count": 12,
      "metadata": {
        "id": "eNJnRblRmdsQ"
      },
      "outputs": [],
      "source": [
        "# Define the aggregation based on the element-wise median\n",
        "class RobustFed(fl.server.strategy.fedavg.FedAvg):\n",
        "    def aggregate_fit(\n",
        "        self,\n",
        "        server_round: int,\n",
        "        results: List[Tuple[ClientProxy, FitRes]],\n",
        "        failures: List[Union[Tuple[ClientProxy, FitRes], BaseException]],\n",
        "    ) -> Tuple[Optional[Parameters], Dict[str, Scalar]]:\n",
        "        \"\"\"Aggregate fit results using weighted average.\"\"\"\n",
        "\n",
        "        weights_results = [\n",
        "            (parameters_to_ndarrays(fit_res.parameters), fit_res.num_examples)\n",
        "            for _, fit_res in results\n",
        "        ]\n",
        "        parameters_aggregated = ndarrays_to_parameters(\n",
        "            aggregate_median(weights_results)\n",
        "        )\n",
        "        metrics_aggregated = {}\n",
        "        return parameters_aggregated, metrics_aggregated\n",
        "\n",
        "# Create an instance of the model and get the parameters\n",
        "params = get_parameters(Net())\n",
        "\n",
        "# Set upp the server for FL with median\n",
        "median_strategy = RobustFed(\n",
        "    fraction_fit=1.0,\n",
        "    fraction_evaluate=1.0,\n",
        "    min_fit_clients=NUM_CLIENTS,\n",
        "    min_evaluate_clients=NUM_CLIENTS,\n",
        "    min_available_clients=NUM_CLIENTS,\n",
        "    initial_parameters=fl.common.ndarrays_to_parameters(params),\n",
        "    evaluate_metrics_aggregation_fn=weighted_average,\n",
        ")\n"
      ]
    },
    {
      "cell_type": "code",
      "execution_count": 13,
      "metadata": {
        "id": "EYRn50dpmdsR",
        "colab": {
          "base_uri": "https://localhost:8080/"
        },
        "outputId": "20c4527b-f6f0-4b1b-ede5-484eff2a16e4"
      },
      "outputs": [
        {
          "output_type": "stream",
          "name": "stderr",
          "text": [
            "INFO flwr 2023-11-29 09:54:59,711 | app.py:178 | Starting Flower simulation, config: ServerConfig(num_rounds=5, round_timeout=None)\n",
            "INFO:flwr:Starting Flower simulation, config: ServerConfig(num_rounds=5, round_timeout=None)\n",
            "2023-11-29 09:55:06,329\tINFO worker.py:1621 -- Started a local Ray instance.\n",
            "INFO flwr 2023-11-29 09:55:08,432 | app.py:213 | Flower VCE: Ray initialized with resources: {'memory': 7864551015.0, 'node:__internal_head__': 1.0, 'object_store_memory': 3932275507.0, 'node:172.28.0.12': 1.0, 'GPU': 1.0, 'CPU': 2.0}\n",
            "INFO:flwr:Flower VCE: Ray initialized with resources: {'memory': 7864551015.0, 'node:__internal_head__': 1.0, 'object_store_memory': 3932275507.0, 'node:172.28.0.12': 1.0, 'GPU': 1.0, 'CPU': 2.0}\n",
            "INFO flwr 2023-11-29 09:55:08,436 | app.py:219 | Optimize your simulation with Flower VCE: https://flower.dev/docs/framework/how-to-run-simulations.html\n",
            "INFO:flwr:Optimize your simulation with Flower VCE: https://flower.dev/docs/framework/how-to-run-simulations.html\n",
            "INFO flwr 2023-11-29 09:55:08,438 | app.py:242 | Flower VCE: Resources for each Virtual Client: {'num_gpus': 1, 'num_cpus': 1}\n",
            "INFO:flwr:Flower VCE: Resources for each Virtual Client: {'num_gpus': 1, 'num_cpus': 1}\n",
            "INFO flwr 2023-11-29 09:55:08,481 | app.py:288 | Flower VCE: Creating VirtualClientEngineActorPool with 1 actors\n",
            "INFO:flwr:Flower VCE: Creating VirtualClientEngineActorPool with 1 actors\n",
            "INFO flwr 2023-11-29 09:55:08,484 | server.py:89 | Initializing global parameters\n",
            "INFO:flwr:Initializing global parameters\n",
            "INFO flwr 2023-11-29 09:55:08,486 | server.py:272 | Using initial parameters provided by strategy\n",
            "INFO:flwr:Using initial parameters provided by strategy\n",
            "INFO flwr 2023-11-29 09:55:08,488 | server.py:91 | Evaluating initial parameters\n",
            "INFO:flwr:Evaluating initial parameters\n",
            "INFO flwr 2023-11-29 09:55:08,490 | server.py:104 | FL starting\n",
            "INFO:flwr:FL starting\n",
            "DEBUG flwr 2023-11-29 09:55:08,496 | server.py:222 | fit_round 1: strategy sampled 10 clients (out of 10)\n",
            "DEBUG:flwr:fit_round 1: strategy sampled 10 clients (out of 10)\n"
          ]
        },
        {
          "output_type": "stream",
          "name": "stdout",
          "text": [
            "\u001b[2m\u001b[36m(DefaultActor pid=5114)\u001b[0m [Client 7] fit, config: {}\n",
            "\u001b[2m\u001b[36m(DefaultActor pid=5114)\u001b[0m Epoch 1: train loss 0.06587409973144531, accuracy 0.21222222222222223\n",
            "\u001b[2m\u001b[36m(DefaultActor pid=5114)\u001b[0m [Client 6] fit, config: {}\n",
            "\u001b[2m\u001b[36m(DefaultActor pid=5114)\u001b[0m Epoch 1: train loss 0.06564818322658539, accuracy 0.21288888888888888\n",
            "\u001b[2m\u001b[36m(DefaultActor pid=5114)\u001b[0m [Client 3] fit, config: {}\n",
            "\u001b[2m\u001b[36m(DefaultActor pid=5114)\u001b[0m Epoch 1: train loss 0.06638018786907196, accuracy 0.2028888888888889\n",
            "\u001b[2m\u001b[36m(DefaultActor pid=5114)\u001b[0m [Client 1] fit, config: {}\n",
            "\u001b[2m\u001b[36m(DefaultActor pid=5114)\u001b[0m Epoch 1: train loss 0.06511961668729782, accuracy 0.23333333333333334\n",
            "\u001b[2m\u001b[36m(DefaultActor pid=5114)\u001b[0m [Client 4] fit, config: {}\n",
            "\u001b[2m\u001b[36m(DefaultActor pid=5114)\u001b[0m Epoch 1: train loss 0.0658276155591011, accuracy 0.22155555555555556\n",
            "\u001b[2m\u001b[36m(DefaultActor pid=5114)\u001b[0m [Client 8] fit, config: {}\n",
            "\u001b[2m\u001b[36m(DefaultActor pid=5114)\u001b[0m Epoch 1: train loss 0.06476061046123505, accuracy 0.23422222222222222\n",
            "\u001b[2m\u001b[36m(DefaultActor pid=5114)\u001b[0m [Client 9] fit, config: {}\n",
            "\u001b[2m\u001b[36m(DefaultActor pid=5114)\u001b[0m Epoch 1: train loss 0.06576240062713623, accuracy 0.20622222222222222\n",
            "\u001b[2m\u001b[36m(DefaultActor pid=5114)\u001b[0m [Client 2] fit, config: {}\n",
            "\u001b[2m\u001b[36m(DefaultActor pid=5114)\u001b[0m Epoch 1: train loss 0.06512510776519775, accuracy 0.21688888888888888\n",
            "\u001b[2m\u001b[36m(DefaultActor pid=5114)\u001b[0m [Poisoning Client 0] fit, config: {}\n",
            "\u001b[2m\u001b[36m(DefaultActor pid=5114)\u001b[0m Epoch 1: train loss -15312.947265625, accuracy 0.09488888888888888\n",
            "\u001b[2m\u001b[36m(DefaultActor pid=5114)\u001b[0m [Client 5] fit, config: {}\n"
          ]
        },
        {
          "output_type": "stream",
          "name": "stderr",
          "text": [
            "DEBUG flwr 2023-11-29 09:55:45,867 | server.py:236 | fit_round 1 received 10 results and 0 failures\n",
            "DEBUG:flwr:fit_round 1 received 10 results and 0 failures\n",
            "DEBUG flwr 2023-11-29 09:55:45,934 | server.py:173 | evaluate_round 1: strategy sampled 10 clients (out of 10)\n",
            "DEBUG:flwr:evaluate_round 1: strategy sampled 10 clients (out of 10)\n"
          ]
        },
        {
          "output_type": "stream",
          "name": "stdout",
          "text": [
            "\u001b[2m\u001b[36m(DefaultActor pid=5114)\u001b[0m Epoch 1: train loss 0.0654088482260704, accuracy 0.21955555555555556\n",
            "\u001b[2m\u001b[36m(DefaultActor pid=5114)\u001b[0m [Client 9] evaluate, config: {}\n",
            "\u001b[2m\u001b[36m(DefaultActor pid=5114)\u001b[0m [Client 7] evaluate, config: {}\n",
            "\u001b[2m\u001b[36m(DefaultActor pid=5114)\u001b[0m [Client 0] evaluate, config: {}\n",
            "\u001b[2m\u001b[36m(DefaultActor pid=5114)\u001b[0m [Client 5] evaluate, config: {}\n",
            "\u001b[2m\u001b[36m(DefaultActor pid=5114)\u001b[0m [Client 2] evaluate, config: {}\n",
            "\u001b[2m\u001b[36m(DefaultActor pid=5114)\u001b[0m [Client 6] evaluate, config: {}\n",
            "\u001b[2m\u001b[36m(DefaultActor pid=5114)\u001b[0m [Client 4] evaluate, config: {}\n",
            "\u001b[2m\u001b[36m(DefaultActor pid=5114)\u001b[0m [Client 8] evaluate, config: {}\n",
            "\u001b[2m\u001b[36m(DefaultActor pid=5114)\u001b[0m [Client 1] evaluate, config: {}\n"
          ]
        },
        {
          "output_type": "stream",
          "name": "stderr",
          "text": [
            "DEBUG flwr 2023-11-29 09:56:03,003 | server.py:187 | evaluate_round 1 received 10 results and 0 failures\n",
            "DEBUG:flwr:evaluate_round 1 received 10 results and 0 failures\n",
            "DEBUG flwr 2023-11-29 09:56:03,006 | server.py:222 | fit_round 2: strategy sampled 10 clients (out of 10)\n",
            "DEBUG:flwr:fit_round 2: strategy sampled 10 clients (out of 10)\n"
          ]
        },
        {
          "output_type": "stream",
          "name": "stdout",
          "text": [
            "\u001b[2m\u001b[36m(DefaultActor pid=5114)\u001b[0m [Client 3] evaluate, config: {}\n",
            "\u001b[2m\u001b[36m(DefaultActor pid=5114)\u001b[0m [Client 5] fit, config: {}\n",
            "\u001b[2m\u001b[36m(DefaultActor pid=5114)\u001b[0m Epoch 1: train loss 0.05879795551300049, accuracy 0.296\n",
            "\u001b[2m\u001b[36m(DefaultActor pid=5114)\u001b[0m [Poisoning Client 0] fit, config: {}\n",
            "\u001b[2m\u001b[36m(DefaultActor pid=5114)\u001b[0m Epoch 1: train loss -14333.46484375, accuracy 0.10333333333333333\n",
            "\u001b[2m\u001b[36m(DefaultActor pid=5114)\u001b[0m [Client 7] fit, config: {}\n",
            "\u001b[2m\u001b[36m(DefaultActor pid=5114)\u001b[0m Epoch 1: train loss 0.058412760496139526, accuracy 0.3022222222222222\n",
            "\u001b[2m\u001b[36m(DefaultActor pid=5114)\u001b[0m [Client 6] fit, config: {}\n",
            "\u001b[2m\u001b[36m(DefaultActor pid=5114)\u001b[0m Epoch 1: train loss 0.05961943417787552, accuracy 0.2942222222222222\n",
            "\u001b[2m\u001b[36m(DefaultActor pid=5114)\u001b[0m [Client 3] fit, config: {}\n",
            "\u001b[2m\u001b[36m(DefaultActor pid=5114)\u001b[0m Epoch 1: train loss 0.05867686867713928, accuracy 0.31066666666666665\n",
            "\u001b[2m\u001b[36m(DefaultActor pid=5114)\u001b[0m [Client 2] fit, config: {}\n",
            "\u001b[2m\u001b[36m(DefaultActor pid=5114)\u001b[0m Epoch 1: train loss 0.058943264186382294, accuracy 0.30266666666666664\n",
            "\u001b[2m\u001b[36m(DefaultActor pid=5114)\u001b[0m [Client 8] fit, config: {}\n",
            "\u001b[2m\u001b[36m(DefaultActor pid=5114)\u001b[0m Epoch 1: train loss 0.057981688529253006, accuracy 0.31933333333333336\n",
            "\u001b[2m\u001b[36m(DefaultActor pid=5114)\u001b[0m [Client 1] fit, config: {}\n",
            "\u001b[2m\u001b[36m(DefaultActor pid=5114)\u001b[0m Epoch 1: train loss 0.05845103785395622, accuracy 0.31555555555555553\n",
            "\u001b[2m\u001b[36m(DefaultActor pid=5114)\u001b[0m [Client 4] fit, config: {}\n",
            "\u001b[2m\u001b[36m(DefaultActor pid=5114)\u001b[0m Epoch 1: train loss 0.05859573930501938, accuracy 0.3108888888888889\n",
            "\u001b[2m\u001b[36m(DefaultActor pid=5114)\u001b[0m [Client 9] fit, config: {}\n"
          ]
        },
        {
          "output_type": "stream",
          "name": "stderr",
          "text": [
            "DEBUG flwr 2023-11-29 09:56:37,180 | server.py:236 | fit_round 2 received 10 results and 0 failures\n",
            "DEBUG:flwr:fit_round 2 received 10 results and 0 failures\n",
            "DEBUG flwr 2023-11-29 09:56:37,216 | server.py:173 | evaluate_round 2: strategy sampled 10 clients (out of 10)\n",
            "DEBUG:flwr:evaluate_round 2: strategy sampled 10 clients (out of 10)\n"
          ]
        },
        {
          "output_type": "stream",
          "name": "stdout",
          "text": [
            "\u001b[2m\u001b[36m(DefaultActor pid=5114)\u001b[0m Epoch 1: train loss 0.058775365352630615, accuracy 0.314\n",
            "\u001b[2m\u001b[36m(DefaultActor pid=5114)\u001b[0m [Client 8] evaluate, config: {}\n",
            "\u001b[2m\u001b[36m(DefaultActor pid=5114)\u001b[0m [Client 2] evaluate, config: {}\n",
            "\u001b[2m\u001b[36m(DefaultActor pid=5114)\u001b[0m [Client 0] evaluate, config: {}\n",
            "\u001b[2m\u001b[36m(DefaultActor pid=5114)\u001b[0m [Client 5] evaluate, config: {}\n",
            "\u001b[2m\u001b[36m(DefaultActor pid=5114)\u001b[0m [Client 1] evaluate, config: {}\n",
            "\u001b[2m\u001b[36m(DefaultActor pid=5114)\u001b[0m [Client 7] evaluate, config: {}\n",
            "\u001b[2m\u001b[36m(DefaultActor pid=5114)\u001b[0m [Client 9] evaluate, config: {}\n",
            "\u001b[2m\u001b[36m(DefaultActor pid=5114)\u001b[0m [Client 4] evaluate, config: {}\n",
            "\u001b[2m\u001b[36m(DefaultActor pid=5114)\u001b[0m [Client 6] evaluate, config: {}\n"
          ]
        },
        {
          "output_type": "stream",
          "name": "stderr",
          "text": [
            "DEBUG flwr 2023-11-29 09:56:55,419 | server.py:187 | evaluate_round 2 received 10 results and 0 failures\n",
            "DEBUG:flwr:evaluate_round 2 received 10 results and 0 failures\n",
            "DEBUG flwr 2023-11-29 09:56:55,425 | server.py:222 | fit_round 3: strategy sampled 10 clients (out of 10)\n",
            "DEBUG:flwr:fit_round 3: strategy sampled 10 clients (out of 10)\n"
          ]
        },
        {
          "output_type": "stream",
          "name": "stdout",
          "text": [
            "\u001b[2m\u001b[36m(DefaultActor pid=5114)\u001b[0m [Client 3] evaluate, config: {}\n",
            "\u001b[2m\u001b[36m(DefaultActor pid=5114)\u001b[0m [Client 3] fit, config: {}\n",
            "\u001b[2m\u001b[36m(DefaultActor pid=5114)\u001b[0m Epoch 1: train loss 0.05490664020180702, accuracy 0.36\n",
            "\u001b[2m\u001b[36m(DefaultActor pid=5114)\u001b[0m [Client 7] fit, config: {}\n",
            "\u001b[2m\u001b[36m(DefaultActor pid=5114)\u001b[0m Epoch 1: train loss 0.053369566798210144, accuracy 0.37533333333333335\n",
            "\u001b[2m\u001b[36m(DefaultActor pid=5114)\u001b[0m [Client 5] fit, config: {}\n",
            "\u001b[2m\u001b[36m(DefaultActor pid=5114)\u001b[0m Epoch 1: train loss 0.054923560470342636, accuracy 0.35488888888888886\n",
            "\u001b[2m\u001b[36m(DefaultActor pid=5114)\u001b[0m [Client 9] fit, config: {}\n",
            "\u001b[2m\u001b[36m(DefaultActor pid=5114)\u001b[0m Epoch 1: train loss 0.05448406934738159, accuracy 0.356\n",
            "\u001b[2m\u001b[36m(DefaultActor pid=5114)\u001b[0m [Client 2] fit, config: {}\n",
            "\u001b[2m\u001b[36m(DefaultActor pid=5114)\u001b[0m Epoch 1: train loss 0.05490141361951828, accuracy 0.35444444444444445\n",
            "\u001b[2m\u001b[36m(DefaultActor pid=5114)\u001b[0m [Client 4] fit, config: {}\n",
            "\u001b[2m\u001b[36m(DefaultActor pid=5114)\u001b[0m Epoch 1: train loss 0.054673366248607635, accuracy 0.35933333333333334\n",
            "\u001b[2m\u001b[36m(DefaultActor pid=5114)\u001b[0m [Client 8] fit, config: {}\n",
            "\u001b[2m\u001b[36m(DefaultActor pid=5114)\u001b[0m Epoch 1: train loss 0.05439511686563492, accuracy 0.36466666666666664\n",
            "\u001b[2m\u001b[36m(DefaultActor pid=5114)\u001b[0m [Client 1] fit, config: {}\n",
            "\u001b[2m\u001b[36m(DefaultActor pid=5114)\u001b[0m Epoch 1: train loss 0.05457710847258568, accuracy 0.3635555555555556\n",
            "\u001b[2m\u001b[36m(DefaultActor pid=5114)\u001b[0m [Client 6] fit, config: {}\n",
            "\u001b[2m\u001b[36m(DefaultActor pid=5114)\u001b[0m Epoch 1: train loss 0.055254045873880386, accuracy 0.3511111111111111\n",
            "\u001b[2m\u001b[36m(DefaultActor pid=5114)\u001b[0m [Poisoning Client 0] fit, config: {}\n"
          ]
        },
        {
          "output_type": "stream",
          "name": "stderr",
          "text": [
            "DEBUG flwr 2023-11-29 09:57:35,016 | server.py:236 | fit_round 3 received 10 results and 0 failures\n",
            "DEBUG:flwr:fit_round 3 received 10 results and 0 failures\n",
            "DEBUG flwr 2023-11-29 09:57:35,077 | server.py:173 | evaluate_round 3: strategy sampled 10 clients (out of 10)\n",
            "DEBUG:flwr:evaluate_round 3: strategy sampled 10 clients (out of 10)\n"
          ]
        },
        {
          "output_type": "stream",
          "name": "stdout",
          "text": [
            "\u001b[2m\u001b[36m(DefaultActor pid=5114)\u001b[0m Epoch 1: train loss -14628.7470703125, accuracy 0.10622222222222222\n",
            "\u001b[2m\u001b[36m(DefaultActor pid=5114)\u001b[0m [Client 9] evaluate, config: {}\n",
            "\u001b[2m\u001b[36m(DefaultActor pid=5114)\u001b[0m [Client 1] evaluate, config: {}\n",
            "\u001b[2m\u001b[36m(DefaultActor pid=5114)\u001b[0m [Client 8] evaluate, config: {}\n",
            "\u001b[2m\u001b[36m(DefaultActor pid=5114)\u001b[0m [Client 6] evaluate, config: {}\n",
            "\u001b[2m\u001b[36m(DefaultActor pid=5114)\u001b[0m [Client 4] evaluate, config: {}\n",
            "\u001b[2m\u001b[36m(DefaultActor pid=5114)\u001b[0m [Client 5] evaluate, config: {}\n",
            "\u001b[2m\u001b[36m(DefaultActor pid=5114)\u001b[0m [Client 0] evaluate, config: {}\n",
            "\u001b[2m\u001b[36m(DefaultActor pid=5114)\u001b[0m [Client 7] evaluate, config: {}\n",
            "\u001b[2m\u001b[36m(DefaultActor pid=5114)\u001b[0m [Client 3] evaluate, config: {}\n"
          ]
        },
        {
          "output_type": "stream",
          "name": "stderr",
          "text": [
            "DEBUG flwr 2023-11-29 09:57:54,345 | server.py:187 | evaluate_round 3 received 10 results and 0 failures\n",
            "DEBUG:flwr:evaluate_round 3 received 10 results and 0 failures\n",
            "DEBUG flwr 2023-11-29 09:57:54,351 | server.py:222 | fit_round 4: strategy sampled 10 clients (out of 10)\n",
            "DEBUG:flwr:fit_round 4: strategy sampled 10 clients (out of 10)\n"
          ]
        },
        {
          "output_type": "stream",
          "name": "stdout",
          "text": [
            "\u001b[2m\u001b[36m(DefaultActor pid=5114)\u001b[0m [Client 2] evaluate, config: {}\n",
            "\u001b[2m\u001b[36m(DefaultActor pid=5114)\u001b[0m [Client 1] fit, config: {}\n",
            "\u001b[2m\u001b[36m(DefaultActor pid=5114)\u001b[0m Epoch 1: train loss 0.0519552119076252, accuracy 0.3928888888888889\n",
            "\u001b[2m\u001b[36m(DefaultActor pid=5114)\u001b[0m [Client 2] fit, config: {}\n",
            "\u001b[2m\u001b[36m(DefaultActor pid=5114)\u001b[0m Epoch 1: train loss 0.05239573121070862, accuracy 0.38866666666666666\n",
            "\u001b[2m\u001b[36m(DefaultActor pid=5114)\u001b[0m [Client 3] fit, config: {}\n",
            "\u001b[2m\u001b[36m(DefaultActor pid=5114)\u001b[0m Epoch 1: train loss 0.05237272381782532, accuracy 0.3857777777777778\n",
            "\u001b[2m\u001b[36m(DefaultActor pid=5114)\u001b[0m [Client 6] fit, config: {}\n",
            "\u001b[2m\u001b[36m(DefaultActor pid=5114)\u001b[0m Epoch 1: train loss 0.05331544205546379, accuracy 0.3831111111111111\n",
            "\u001b[2m\u001b[36m(DefaultActor pid=5114)\u001b[0m [Client 7] fit, config: {}\n",
            "\u001b[2m\u001b[36m(DefaultActor pid=5114)\u001b[0m Epoch 1: train loss 0.051181305199861526, accuracy 0.4048888888888889\n",
            "\u001b[2m\u001b[36m(DefaultActor pid=5114)\u001b[0m [Client 5] fit, config: {}\n",
            "\u001b[2m\u001b[36m(DefaultActor pid=5114)\u001b[0m Epoch 1: train loss 0.05293329432606697, accuracy 0.37622222222222224\n",
            "\u001b[2m\u001b[36m(DefaultActor pid=5114)\u001b[0m [Client 9] fit, config: {}\n",
            "\u001b[2m\u001b[36m(DefaultActor pid=5114)\u001b[0m Epoch 1: train loss 0.052371107041835785, accuracy 0.38\n",
            "\u001b[2m\u001b[36m(DefaultActor pid=5114)\u001b[0m [Client 4] fit, config: {}\n",
            "\u001b[2m\u001b[36m(DefaultActor pid=5114)\u001b[0m Epoch 1: train loss 0.05162420868873596, accuracy 0.3948888888888889\n",
            "\u001b[2m\u001b[36m(DefaultActor pid=5114)\u001b[0m [Poisoning Client 0] fit, config: {}\n",
            "\u001b[2m\u001b[36m(DefaultActor pid=5114)\u001b[0m Epoch 1: train loss -13985.515625, accuracy 0.106\n",
            "\u001b[2m\u001b[36m(DefaultActor pid=5114)\u001b[0m [Client 8] fit, config: {}\n"
          ]
        },
        {
          "output_type": "stream",
          "name": "stderr",
          "text": [
            "DEBUG flwr 2023-11-29 09:58:32,135 | server.py:236 | fit_round 4 received 10 results and 0 failures\n",
            "DEBUG:flwr:fit_round 4 received 10 results and 0 failures\n",
            "DEBUG flwr 2023-11-29 09:58:32,214 | server.py:173 | evaluate_round 4: strategy sampled 10 clients (out of 10)\n",
            "DEBUG:flwr:evaluate_round 4: strategy sampled 10 clients (out of 10)\n"
          ]
        },
        {
          "output_type": "stream",
          "name": "stdout",
          "text": [
            "\u001b[2m\u001b[36m(DefaultActor pid=5114)\u001b[0m Epoch 1: train loss 0.051876600831747055, accuracy 0.39755555555555555\n",
            "\u001b[2m\u001b[36m(DefaultActor pid=5114)\u001b[0m [Client 3] evaluate, config: {}\n",
            "\u001b[2m\u001b[36m(DefaultActor pid=5114)\u001b[0m [Client 4] evaluate, config: {}\n",
            "\u001b[2m\u001b[36m(DefaultActor pid=5114)\u001b[0m [Client 1] evaluate, config: {}\n",
            "\u001b[2m\u001b[36m(DefaultActor pid=5114)\u001b[0m [Client 5] evaluate, config: {}\n",
            "\u001b[2m\u001b[36m(DefaultActor pid=5114)\u001b[0m [Client 8] evaluate, config: {}\n",
            "\u001b[2m\u001b[36m(DefaultActor pid=5114)\u001b[0m [Client 0] evaluate, config: {}\n",
            "\u001b[2m\u001b[36m(DefaultActor pid=5114)\u001b[0m [Client 7] evaluate, config: {}\n",
            "\u001b[2m\u001b[36m(DefaultActor pid=5114)\u001b[0m [Client 2] evaluate, config: {}\n",
            "\u001b[2m\u001b[36m(DefaultActor pid=5114)\u001b[0m [Client 9] evaluate, config: {}\n"
          ]
        },
        {
          "output_type": "stream",
          "name": "stderr",
          "text": [
            "DEBUG flwr 2023-11-29 09:58:52,809 | server.py:187 | evaluate_round 4 received 10 results and 0 failures\n",
            "DEBUG:flwr:evaluate_round 4 received 10 results and 0 failures\n",
            "DEBUG flwr 2023-11-29 09:58:52,816 | server.py:222 | fit_round 5: strategy sampled 10 clients (out of 10)\n",
            "DEBUG:flwr:fit_round 5: strategy sampled 10 clients (out of 10)\n"
          ]
        },
        {
          "output_type": "stream",
          "name": "stdout",
          "text": [
            "\u001b[2m\u001b[36m(DefaultActor pid=5114)\u001b[0m [Client 6] evaluate, config: {}\n",
            "\u001b[2m\u001b[36m(DefaultActor pid=5114)\u001b[0m [Client 8] fit, config: {}\n",
            "\u001b[2m\u001b[36m(DefaultActor pid=5114)\u001b[0m Epoch 1: train loss 0.05002143606543541, accuracy 0.42244444444444446\n",
            "\u001b[2m\u001b[36m(DefaultActor pid=5114)\u001b[0m [Client 3] fit, config: {}\n",
            "\u001b[2m\u001b[36m(DefaultActor pid=5114)\u001b[0m Epoch 1: train loss 0.05081048235297203, accuracy 0.40644444444444444\n",
            "\u001b[2m\u001b[36m(DefaultActor pid=5114)\u001b[0m [Poisoning Client 0] fit, config: {}\n",
            "\u001b[2m\u001b[36m(DefaultActor pid=5114)\u001b[0m Epoch 1: train loss -17024.060546875, accuracy 0.10711111111111112\n",
            "\u001b[2m\u001b[36m(DefaultActor pid=5114)\u001b[0m [Client 9] fit, config: {}\n",
            "\u001b[2m\u001b[36m(DefaultActor pid=5114)\u001b[0m Epoch 1: train loss 0.0509854331612587, accuracy 0.39911111111111114\n",
            "\u001b[2m\u001b[36m(DefaultActor pid=5114)\u001b[0m [Client 6] fit, config: {}\n",
            "\u001b[2m\u001b[36m(DefaultActor pid=5114)\u001b[0m Epoch 1: train loss 0.05207370966672897, accuracy 0.3913333333333333\n",
            "\u001b[2m\u001b[36m(DefaultActor pid=5114)\u001b[0m [Client 1] fit, config: {}\n",
            "\u001b[2m\u001b[36m(DefaultActor pid=5114)\u001b[0m Epoch 1: train loss 0.05009908601641655, accuracy 0.4066666666666667\n",
            "\u001b[2m\u001b[36m(DefaultActor pid=5114)\u001b[0m [Client 4] fit, config: {}\n",
            "\u001b[2m\u001b[36m(DefaultActor pid=5114)\u001b[0m Epoch 1: train loss 0.050250645726919174, accuracy 0.41755555555555557\n",
            "\u001b[2m\u001b[36m(DefaultActor pid=5114)\u001b[0m [Client 7] fit, config: {}\n",
            "\u001b[2m\u001b[36m(DefaultActor pid=5114)\u001b[0m Epoch 1: train loss 0.04897153005003929, accuracy 0.43244444444444446\n",
            "\u001b[2m\u001b[36m(DefaultActor pid=5114)\u001b[0m [Client 2] fit, config: {}\n",
            "\u001b[2m\u001b[36m(DefaultActor pid=5114)\u001b[0m Epoch 1: train loss 0.05072401836514473, accuracy 0.40755555555555556\n",
            "\u001b[2m\u001b[36m(DefaultActor pid=5114)\u001b[0m [Client 5] fit, config: {}\n"
          ]
        },
        {
          "output_type": "stream",
          "name": "stderr",
          "text": [
            "DEBUG flwr 2023-11-29 09:59:26,817 | server.py:236 | fit_round 5 received 10 results and 0 failures\n",
            "DEBUG:flwr:fit_round 5 received 10 results and 0 failures\n",
            "DEBUG flwr 2023-11-29 09:59:26,857 | server.py:173 | evaluate_round 5: strategy sampled 10 clients (out of 10)\n",
            "DEBUG:flwr:evaluate_round 5: strategy sampled 10 clients (out of 10)\n"
          ]
        },
        {
          "output_type": "stream",
          "name": "stdout",
          "text": [
            "\u001b[2m\u001b[36m(DefaultActor pid=5114)\u001b[0m Epoch 1: train loss 0.05068875476717949, accuracy 0.40155555555555555\n",
            "\u001b[2m\u001b[36m(DefaultActor pid=5114)\u001b[0m [Client 5] evaluate, config: {}\n",
            "\u001b[2m\u001b[36m(DefaultActor pid=5114)\u001b[0m [Client 3] evaluate, config: {}\n",
            "\u001b[2m\u001b[36m(DefaultActor pid=5114)\u001b[0m [Client 9] evaluate, config: {}\n",
            "\u001b[2m\u001b[36m(DefaultActor pid=5114)\u001b[0m [Client 6] evaluate, config: {}\n",
            "\u001b[2m\u001b[36m(DefaultActor pid=5114)\u001b[0m [Client 2] evaluate, config: {}\n",
            "\u001b[2m\u001b[36m(DefaultActor pid=5114)\u001b[0m [Client 0] evaluate, config: {}\n",
            "\u001b[2m\u001b[36m(DefaultActor pid=5114)\u001b[0m [Client 4] evaluate, config: {}\n",
            "\u001b[2m\u001b[36m(DefaultActor pid=5114)\u001b[0m [Client 7] evaluate, config: {}\n",
            "\u001b[2m\u001b[36m(DefaultActor pid=5114)\u001b[0m [Client 1] evaluate, config: {}\n"
          ]
        },
        {
          "output_type": "stream",
          "name": "stderr",
          "text": [
            "DEBUG flwr 2023-11-29 09:59:42,720 | server.py:187 | evaluate_round 5 received 10 results and 0 failures\n",
            "DEBUG:flwr:evaluate_round 5 received 10 results and 0 failures\n",
            "INFO flwr 2023-11-29 09:59:42,724 | server.py:153 | FL finished in 274.2281585049999\n",
            "INFO:flwr:FL finished in 274.2281585049999\n",
            "INFO flwr 2023-11-29 09:59:42,730 | app.py:226 | app_fit: losses_distributed [(1, 0.06394583194255829), (2, 0.056965114855766295), (3, 0.053367587494850155), (4, 0.05165802695751191), (5, 0.050068980097770686)]\n",
            "INFO:flwr:app_fit: losses_distributed [(1, 0.06394583194255829), (2, 0.056965114855766295), (3, 0.053367587494850155), (4, 0.05165802695751191), (5, 0.050068980097770686)]\n",
            "INFO flwr 2023-11-29 09:59:42,736 | app.py:227 | app_fit: metrics_distributed_fit {}\n",
            "INFO:flwr:app_fit: metrics_distributed_fit {}\n",
            "INFO flwr 2023-11-29 09:59:42,739 | app.py:228 | app_fit: metrics_distributed {'accuracy': [(1, 0.2864), (2, 0.3402), (3, 0.3778), (4, 0.3974), (5, 0.4154)], 'accuracy_per_client': [(1, [0.284, 0.32, 0.3, 0.316, 0.254, 0.252, 0.276, 0.302, 0.274, 0.286]), (2, [0.324, 0.324, 0.318, 0.298, 0.34, 0.352, 0.342, 0.39, 0.348, 0.366]), (3, [0.336, 0.38, 0.388, 0.374, 0.35, 0.408, 0.39, 0.368, 0.38, 0.404]), (4, [0.406, 0.398, 0.41, 0.38, 0.426, 0.416, 0.388, 0.372, 0.39, 0.388]), (5, [0.408, 0.384, 0.434, 0.432, 0.428, 0.432, 0.418, 0.392, 0.39, 0.436])]}\n",
            "INFO:flwr:app_fit: metrics_distributed {'accuracy': [(1, 0.2864), (2, 0.3402), (3, 0.3778), (4, 0.3974), (5, 0.4154)], 'accuracy_per_client': [(1, [0.284, 0.32, 0.3, 0.316, 0.254, 0.252, 0.276, 0.302, 0.274, 0.286]), (2, [0.324, 0.324, 0.318, 0.298, 0.34, 0.352, 0.342, 0.39, 0.348, 0.366]), (3, [0.336, 0.38, 0.388, 0.374, 0.35, 0.408, 0.39, 0.368, 0.38, 0.404]), (4, [0.406, 0.398, 0.41, 0.38, 0.426, 0.416, 0.388, 0.372, 0.39, 0.388]), (5, [0.408, 0.384, 0.434, 0.432, 0.428, 0.432, 0.418, 0.392, 0.39, 0.436])]}\n",
            "INFO flwr 2023-11-29 09:59:42,741 | app.py:229 | app_fit: losses_centralized []\n",
            "INFO:flwr:app_fit: losses_centralized []\n",
            "INFO flwr 2023-11-29 09:59:42,743 | app.py:230 | app_fit: metrics_centralized {}\n",
            "INFO:flwr:app_fit: metrics_centralized {}\n",
            "INFO flwr 2023-11-29 09:59:42,755 | app.py:178 | Starting Flower simulation, config: ServerConfig(num_rounds=5, round_timeout=None)\n",
            "INFO:flwr:Starting Flower simulation, config: ServerConfig(num_rounds=5, round_timeout=None)\n"
          ]
        },
        {
          "output_type": "stream",
          "name": "stdout",
          "text": [
            "\u001b[2m\u001b[36m(DefaultActor pid=5114)\u001b[0m [Client 8] evaluate, config: {}\n"
          ]
        },
        {
          "output_type": "stream",
          "name": "stderr",
          "text": [
            "2023-11-29 09:59:46,924\tINFO worker.py:1621 -- Started a local Ray instance.\n",
            "INFO flwr 2023-11-29 09:59:49,033 | app.py:213 | Flower VCE: Ray initialized with resources: {'node:__internal_head__': 1.0, 'node:172.28.0.12': 1.0, 'GPU': 1.0, 'memory': 7865423463.0, 'object_store_memory': 3932711731.0, 'CPU': 2.0}\n",
            "INFO:flwr:Flower VCE: Ray initialized with resources: {'node:__internal_head__': 1.0, 'node:172.28.0.12': 1.0, 'GPU': 1.0, 'memory': 7865423463.0, 'object_store_memory': 3932711731.0, 'CPU': 2.0}\n",
            "INFO flwr 2023-11-29 09:59:49,041 | app.py:219 | Optimize your simulation with Flower VCE: https://flower.dev/docs/framework/how-to-run-simulations.html\n",
            "INFO:flwr:Optimize your simulation with Flower VCE: https://flower.dev/docs/framework/how-to-run-simulations.html\n",
            "INFO flwr 2023-11-29 09:59:49,046 | app.py:242 | Flower VCE: Resources for each Virtual Client: {'num_gpus': 1, 'num_cpus': 1}\n",
            "INFO:flwr:Flower VCE: Resources for each Virtual Client: {'num_gpus': 1, 'num_cpus': 1}\n",
            "INFO flwr 2023-11-29 09:59:49,083 | app.py:288 | Flower VCE: Creating VirtualClientEngineActorPool with 1 actors\n",
            "INFO:flwr:Flower VCE: Creating VirtualClientEngineActorPool with 1 actors\n",
            "INFO flwr 2023-11-29 09:59:49,086 | server.py:89 | Initializing global parameters\n",
            "INFO:flwr:Initializing global parameters\n",
            "INFO flwr 2023-11-29 09:59:49,089 | server.py:276 | Requesting initial parameters from one random client\n",
            "INFO:flwr:Requesting initial parameters from one random client\n",
            "INFO flwr 2023-11-29 09:59:57,483 | server.py:280 | Received initial parameters from one random client\n",
            "INFO:flwr:Received initial parameters from one random client\n",
            "INFO flwr 2023-11-29 09:59:57,491 | server.py:91 | Evaluating initial parameters\n",
            "INFO:flwr:Evaluating initial parameters\n",
            "INFO flwr 2023-11-29 09:59:57,497 | server.py:104 | FL starting\n",
            "INFO:flwr:FL starting\n",
            "DEBUG flwr 2023-11-29 09:59:57,499 | server.py:222 | fit_round 1: strategy sampled 10 clients (out of 10)\n",
            "DEBUG:flwr:fit_round 1: strategy sampled 10 clients (out of 10)\n"
          ]
        },
        {
          "output_type": "stream",
          "name": "stdout",
          "text": [
            "\u001b[2m\u001b[36m(DefaultActor pid=6574)\u001b[0m [Client 7] get_parameters\n",
            "\u001b[2m\u001b[36m(DefaultActor pid=6574)\u001b[0m [Client 2] fit, config: {}\n",
            "\u001b[2m\u001b[36m(DefaultActor pid=6574)\u001b[0m Epoch 1: train loss 0.06534518301486969, accuracy 0.21088888888888888\n",
            "\u001b[2m\u001b[36m(DefaultActor pid=6574)\u001b[0m [Client 8] fit, config: {}\n",
            "\u001b[2m\u001b[36m(DefaultActor pid=6574)\u001b[0m Epoch 1: train loss 0.06515023112297058, accuracy 0.21088888888888888\n",
            "\u001b[2m\u001b[36m(DefaultActor pid=6574)\u001b[0m [Client 9] fit, config: {}\n",
            "\u001b[2m\u001b[36m(DefaultActor pid=6574)\u001b[0m Epoch 1: train loss 0.06590781360864639, accuracy 0.21444444444444444\n",
            "\u001b[2m\u001b[36m(DefaultActor pid=6574)\u001b[0m [Client 5] fit, config: {}\n",
            "\u001b[2m\u001b[36m(DefaultActor pid=6574)\u001b[0m Epoch 1: train loss 0.06662340462207794, accuracy 0.19111111111111112\n",
            "\u001b[2m\u001b[36m(DefaultActor pid=6574)\u001b[0m [Client 1] fit, config: {}\n",
            "\u001b[2m\u001b[36m(DefaultActor pid=6574)\u001b[0m Epoch 1: train loss 0.06560097634792328, accuracy 0.2137777777777778\n",
            "\u001b[2m\u001b[36m(DefaultActor pid=6574)\u001b[0m [Poisoning Client 0] fit, config: {}\n",
            "\u001b[2m\u001b[36m(DefaultActor pid=6574)\u001b[0m Epoch 1: train loss 0.014913897961378098, accuracy 0.09355555555555556\n",
            "\u001b[2m\u001b[36m(DefaultActor pid=6574)\u001b[0m [Client 6] fit, config: {}\n",
            "\u001b[2m\u001b[36m(DefaultActor pid=6574)\u001b[0m Epoch 1: train loss 0.06594493985176086, accuracy 0.2048888888888889\n",
            "\u001b[2m\u001b[36m(DefaultActor pid=6574)\u001b[0m [Client 7] fit, config: {}\n",
            "\u001b[2m\u001b[36m(DefaultActor pid=6574)\u001b[0m Epoch 1: train loss 0.06510365754365921, accuracy 0.21888888888888888\n",
            "\u001b[2m\u001b[36m(DefaultActor pid=6574)\u001b[0m [Client 4] fit, config: {}\n",
            "\u001b[2m\u001b[36m(DefaultActor pid=6574)\u001b[0m Epoch 1: train loss 0.06582064926624298, accuracy 0.21866666666666668\n",
            "\u001b[2m\u001b[36m(DefaultActor pid=6574)\u001b[0m [Client 3] fit, config: {}\n"
          ]
        },
        {
          "output_type": "stream",
          "name": "stderr",
          "text": [
            "DEBUG flwr 2023-11-29 10:00:28,075 | server.py:236 | fit_round 1 received 10 results and 0 failures\n",
            "DEBUG:flwr:fit_round 1 received 10 results and 0 failures\n",
            "DEBUG flwr 2023-11-29 10:00:28,118 | server.py:173 | evaluate_round 1: strategy sampled 10 clients (out of 10)\n",
            "DEBUG:flwr:evaluate_round 1: strategy sampled 10 clients (out of 10)\n"
          ]
        },
        {
          "output_type": "stream",
          "name": "stdout",
          "text": [
            "\u001b[2m\u001b[36m(DefaultActor pid=6574)\u001b[0m Epoch 1: train loss 0.06551063060760498, accuracy 0.2157777777777778\n",
            "\u001b[2m\u001b[36m(DefaultActor pid=6574)\u001b[0m [Client 6] evaluate, config: {}\n",
            "\u001b[2m\u001b[36m(DefaultActor pid=6574)\u001b[0m [Client 2] evaluate, config: {}\n",
            "\u001b[2m\u001b[36m(DefaultActor pid=6574)\u001b[0m [Client 7] evaluate, config: {}\n",
            "\u001b[2m\u001b[36m(DefaultActor pid=6574)\u001b[0m [Client 4] evaluate, config: {}\n",
            "\u001b[2m\u001b[36m(DefaultActor pid=6574)\u001b[0m [Client 9] evaluate, config: {}\n",
            "\u001b[2m\u001b[36m(DefaultActor pid=6574)\u001b[0m [Client 1] evaluate, config: {}\n",
            "\u001b[2m\u001b[36m(DefaultActor pid=6574)\u001b[0m [Client 5] evaluate, config: {}\n",
            "\u001b[2m\u001b[36m(DefaultActor pid=6574)\u001b[0m [Client 0] evaluate, config: {}\n",
            "\u001b[2m\u001b[36m(DefaultActor pid=6574)\u001b[0m [Client 8] evaluate, config: {}\n"
          ]
        },
        {
          "output_type": "stream",
          "name": "stderr",
          "text": [
            "DEBUG flwr 2023-11-29 10:00:44,062 | server.py:187 | evaluate_round 1 received 10 results and 0 failures\n",
            "DEBUG:flwr:evaluate_round 1 received 10 results and 0 failures\n",
            "DEBUG flwr 2023-11-29 10:00:44,068 | server.py:222 | fit_round 2: strategy sampled 10 clients (out of 10)\n",
            "DEBUG:flwr:fit_round 2: strategy sampled 10 clients (out of 10)\n"
          ]
        },
        {
          "output_type": "stream",
          "name": "stdout",
          "text": [
            "\u001b[2m\u001b[36m(DefaultActor pid=6574)\u001b[0m [Client 3] evaluate, config: {}\n",
            "\u001b[2m\u001b[36m(DefaultActor pid=6574)\u001b[0m [Client 2] fit, config: {}\n",
            "\u001b[2m\u001b[36m(DefaultActor pid=6574)\u001b[0m Epoch 1: train loss 0.059209033846855164, accuracy 0.3011111111111111\n",
            "\u001b[2m\u001b[36m(DefaultActor pid=6574)\u001b[0m [Client 4] fit, config: {}\n",
            "\u001b[2m\u001b[36m(DefaultActor pid=6574)\u001b[0m Epoch 1: train loss 0.05915914103388786, accuracy 0.294\n",
            "\u001b[2m\u001b[36m(DefaultActor pid=6574)\u001b[0m [Client 3] fit, config: {}\n",
            "\u001b[2m\u001b[36m(DefaultActor pid=6574)\u001b[0m Epoch 1: train loss 0.05922999605536461, accuracy 0.30533333333333335\n",
            "\u001b[2m\u001b[36m(DefaultActor pid=6574)\u001b[0m [Client 8] fit, config: {}\n",
            "\u001b[2m\u001b[36m(DefaultActor pid=6574)\u001b[0m Epoch 1: train loss 0.058748312294483185, accuracy 0.29688888888888887\n",
            "\u001b[2m\u001b[36m(DefaultActor pid=6574)\u001b[0m [Client 5] fit, config: {}\n",
            "\u001b[2m\u001b[36m(DefaultActor pid=6574)\u001b[0m Epoch 1: train loss 0.059737373143434525, accuracy 0.30822222222222223\n",
            "\u001b[2m\u001b[36m(DefaultActor pid=6574)\u001b[0m [Client 7] fit, config: {}\n",
            "\u001b[2m\u001b[36m(DefaultActor pid=6574)\u001b[0m Epoch 1: train loss 0.058974526822566986, accuracy 0.3006666666666667\n",
            "\u001b[2m\u001b[36m(DefaultActor pid=6574)\u001b[0m [Client 1] fit, config: {}\n",
            "\u001b[2m\u001b[36m(DefaultActor pid=6574)\u001b[0m Epoch 1: train loss 0.0590149350464344, accuracy 0.2991111111111111\n",
            "\u001b[2m\u001b[36m(DefaultActor pid=6574)\u001b[0m [Client 9] fit, config: {}\n",
            "\u001b[2m\u001b[36m(DefaultActor pid=6574)\u001b[0m Epoch 1: train loss 0.059197407215833664, accuracy 0.30622222222222223\n",
            "\u001b[2m\u001b[36m(DefaultActor pid=6574)\u001b[0m [Client 6] fit, config: {}\n",
            "\u001b[2m\u001b[36m(DefaultActor pid=6574)\u001b[0m Epoch 1: train loss 0.059999097138643265, accuracy 0.2831111111111111\n",
            "\u001b[2m\u001b[36m(DefaultActor pid=6574)\u001b[0m [Poisoning Client 0] fit, config: {}\n"
          ]
        },
        {
          "output_type": "stream",
          "name": "stderr",
          "text": [
            "DEBUG flwr 2023-11-29 10:01:13,315 | server.py:236 | fit_round 2 received 10 results and 0 failures\n",
            "DEBUG:flwr:fit_round 2 received 10 results and 0 failures\n",
            "DEBUG flwr 2023-11-29 10:01:13,354 | server.py:173 | evaluate_round 2: strategy sampled 10 clients (out of 10)\n",
            "DEBUG:flwr:evaluate_round 2: strategy sampled 10 clients (out of 10)\n"
          ]
        },
        {
          "output_type": "stream",
          "name": "stdout",
          "text": [
            "\u001b[2m\u001b[36m(DefaultActor pid=6574)\u001b[0m Epoch 1: train loss 0.012446709908545017, accuracy 0.09777777777777778\n",
            "\u001b[2m\u001b[36m(DefaultActor pid=6574)\u001b[0m [Client 5] evaluate, config: {}\n",
            "\u001b[2m\u001b[36m(DefaultActor pid=6574)\u001b[0m [Client 4] evaluate, config: {}\n",
            "\u001b[2m\u001b[36m(DefaultActor pid=6574)\u001b[0m [Client 6] evaluate, config: {}\n",
            "\u001b[2m\u001b[36m(DefaultActor pid=6574)\u001b[0m [Client 8] evaluate, config: {}\n",
            "\u001b[2m\u001b[36m(DefaultActor pid=6574)\u001b[0m [Client 0] evaluate, config: {}\n",
            "\u001b[2m\u001b[36m(DefaultActor pid=6574)\u001b[0m [Client 1] evaluate, config: {}\n",
            "\u001b[2m\u001b[36m(DefaultActor pid=6574)\u001b[0m [Client 3] evaluate, config: {}\n",
            "\u001b[2m\u001b[36m(DefaultActor pid=6574)\u001b[0m [Client 9] evaluate, config: {}\n",
            "\u001b[2m\u001b[36m(DefaultActor pid=6574)\u001b[0m [Client 2] evaluate, config: {}\n"
          ]
        },
        {
          "output_type": "stream",
          "name": "stderr",
          "text": [
            "DEBUG flwr 2023-11-29 10:01:29,156 | server.py:187 | evaluate_round 2 received 10 results and 0 failures\n",
            "DEBUG:flwr:evaluate_round 2 received 10 results and 0 failures\n",
            "DEBUG flwr 2023-11-29 10:01:29,161 | server.py:222 | fit_round 3: strategy sampled 10 clients (out of 10)\n",
            "DEBUG:flwr:fit_round 3: strategy sampled 10 clients (out of 10)\n"
          ]
        },
        {
          "output_type": "stream",
          "name": "stdout",
          "text": [
            "\u001b[2m\u001b[36m(DefaultActor pid=6574)\u001b[0m [Client 7] evaluate, config: {}\n",
            "\u001b[2m\u001b[36m(DefaultActor pid=6574)\u001b[0m [Client 6] fit, config: {}\n",
            "\u001b[2m\u001b[36m(DefaultActor pid=6574)\u001b[0m Epoch 1: train loss 0.05534728989005089, accuracy 0.35533333333333333\n",
            "\u001b[2m\u001b[36m(DefaultActor pid=6574)\u001b[0m [Client 7] fit, config: {}\n",
            "\u001b[2m\u001b[36m(DefaultActor pid=6574)\u001b[0m Epoch 1: train loss 0.05359073355793953, accuracy 0.37355555555555553\n",
            "\u001b[2m\u001b[36m(DefaultActor pid=6574)\u001b[0m [Client 8] fit, config: {}\n",
            "\u001b[2m\u001b[36m(DefaultActor pid=6574)\u001b[0m Epoch 1: train loss 0.05384447053074837, accuracy 0.37533333333333335\n",
            "\u001b[2m\u001b[36m(DefaultActor pid=6574)\u001b[0m [Client 2] fit, config: {}\n",
            "\u001b[2m\u001b[36m(DefaultActor pid=6574)\u001b[0m Epoch 1: train loss 0.054751742631196976, accuracy 0.3611111111111111\n",
            "\u001b[2m\u001b[36m(DefaultActor pid=6574)\u001b[0m [Client 1] fit, config: {}\n",
            "\u001b[2m\u001b[36m(DefaultActor pid=6574)\u001b[0m Epoch 1: train loss 0.0538141094148159, accuracy 0.37022222222222223\n",
            "\u001b[2m\u001b[36m(DefaultActor pid=6574)\u001b[0m [Client 3] fit, config: {}\n",
            "\u001b[2m\u001b[36m(DefaultActor pid=6574)\u001b[0m Epoch 1: train loss 0.05458815395832062, accuracy 0.3531111111111111\n",
            "\u001b[2m\u001b[36m(DefaultActor pid=6574)\u001b[0m [Poisoning Client 0] fit, config: {}\n",
            "\u001b[2m\u001b[36m(DefaultActor pid=6574)\u001b[0m Epoch 1: train loss 0.012308500707149506, accuracy 0.1\n",
            "\u001b[2m\u001b[36m(DefaultActor pid=6574)\u001b[0m [Client 5] fit, config: {}\n",
            "\u001b[2m\u001b[36m(DefaultActor pid=6574)\u001b[0m Epoch 1: train loss 0.05471426993608475, accuracy 0.36088888888888887\n",
            "\u001b[2m\u001b[36m(DefaultActor pid=6574)\u001b[0m [Client 4] fit, config: {}\n",
            "\u001b[2m\u001b[36m(DefaultActor pid=6574)\u001b[0m Epoch 1: train loss 0.05419085919857025, accuracy 0.36288888888888887\n",
            "\u001b[2m\u001b[36m(DefaultActor pid=6574)\u001b[0m [Client 9] fit, config: {}\n"
          ]
        },
        {
          "output_type": "stream",
          "name": "stderr",
          "text": [
            "DEBUG flwr 2023-11-29 10:02:00,514 | server.py:236 | fit_round 3 received 10 results and 0 failures\n",
            "DEBUG:flwr:fit_round 3 received 10 results and 0 failures\n",
            "DEBUG flwr 2023-11-29 10:02:00,562 | server.py:173 | evaluate_round 3: strategy sampled 10 clients (out of 10)\n",
            "DEBUG:flwr:evaluate_round 3: strategy sampled 10 clients (out of 10)\n"
          ]
        },
        {
          "output_type": "stream",
          "name": "stdout",
          "text": [
            "\u001b[2m\u001b[36m(DefaultActor pid=6574)\u001b[0m Epoch 1: train loss 0.05444936081767082, accuracy 0.3642222222222222\n",
            "\u001b[2m\u001b[36m(DefaultActor pid=6574)\u001b[0m [Client 0] evaluate, config: {}\n",
            "\u001b[2m\u001b[36m(DefaultActor pid=6574)\u001b[0m [Client 9] evaluate, config: {}\n",
            "\u001b[2m\u001b[36m(DefaultActor pid=6574)\u001b[0m [Client 6] evaluate, config: {}\n",
            "\u001b[2m\u001b[36m(DefaultActor pid=6574)\u001b[0m [Client 3] evaluate, config: {}\n",
            "\u001b[2m\u001b[36m(DefaultActor pid=6574)\u001b[0m [Client 2] evaluate, config: {}\n",
            "\u001b[2m\u001b[36m(DefaultActor pid=6574)\u001b[0m [Client 8] evaluate, config: {}\n",
            "\u001b[2m\u001b[36m(DefaultActor pid=6574)\u001b[0m [Client 1] evaluate, config: {}\n",
            "\u001b[2m\u001b[36m(DefaultActor pid=6574)\u001b[0m [Client 4] evaluate, config: {}\n",
            "\u001b[2m\u001b[36m(DefaultActor pid=6574)\u001b[0m [Client 5] evaluate, config: {}\n"
          ]
        },
        {
          "output_type": "stream",
          "name": "stderr",
          "text": [
            "DEBUG flwr 2023-11-29 10:02:16,479 | server.py:187 | evaluate_round 3 received 10 results and 0 failures\n",
            "DEBUG:flwr:evaluate_round 3 received 10 results and 0 failures\n",
            "DEBUG flwr 2023-11-29 10:02:16,485 | server.py:222 | fit_round 4: strategy sampled 10 clients (out of 10)\n",
            "DEBUG:flwr:fit_round 4: strategy sampled 10 clients (out of 10)\n"
          ]
        },
        {
          "output_type": "stream",
          "name": "stdout",
          "text": [
            "\u001b[2m\u001b[36m(DefaultActor pid=6574)\u001b[0m [Client 7] evaluate, config: {}\n",
            "\u001b[2m\u001b[36m(DefaultActor pid=6574)\u001b[0m [Client 9] fit, config: {}\n",
            "\u001b[2m\u001b[36m(DefaultActor pid=6574)\u001b[0m Epoch 1: train loss 0.052818022668361664, accuracy 0.388\n",
            "\u001b[2m\u001b[36m(DefaultActor pid=6574)\u001b[0m [Client 8] fit, config: {}\n",
            "\u001b[2m\u001b[36m(DefaultActor pid=6574)\u001b[0m Epoch 1: train loss 0.05194782838225365, accuracy 0.392\n",
            "\u001b[2m\u001b[36m(DefaultActor pid=6574)\u001b[0m [Client 6] fit, config: {}\n",
            "\u001b[2m\u001b[36m(DefaultActor pid=6574)\u001b[0m Epoch 1: train loss 0.053040292114019394, accuracy 0.3675555555555556\n",
            "\u001b[2m\u001b[36m(DefaultActor pid=6574)\u001b[0m [Client 1] fit, config: {}\n",
            "\u001b[2m\u001b[36m(DefaultActor pid=6574)\u001b[0m Epoch 1: train loss 0.05109654366970062, accuracy 0.4093333333333333\n",
            "\u001b[2m\u001b[36m(DefaultActor pid=6574)\u001b[0m [Client 3] fit, config: {}\n",
            "\u001b[2m\u001b[36m(DefaultActor pid=6574)\u001b[0m Epoch 1: train loss 0.052225809544324875, accuracy 0.39222222222222225\n",
            "\u001b[2m\u001b[36m(DefaultActor pid=6574)\u001b[0m [Client 4] fit, config: {}\n",
            "\u001b[2m\u001b[36m(DefaultActor pid=6574)\u001b[0m Epoch 1: train loss 0.05205034837126732, accuracy 0.38755555555555554\n",
            "\u001b[2m\u001b[36m(DefaultActor pid=6574)\u001b[0m [Client 2] fit, config: {}\n",
            "\u001b[2m\u001b[36m(DefaultActor pid=6574)\u001b[0m Epoch 1: train loss 0.0524195060133934, accuracy 0.38555555555555554\n",
            "\u001b[2m\u001b[36m(DefaultActor pid=6574)\u001b[0m [Client 5] fit, config: {}\n",
            "\u001b[2m\u001b[36m(DefaultActor pid=6574)\u001b[0m Epoch 1: train loss 0.052352793514728546, accuracy 0.3884444444444444\n",
            "\u001b[2m\u001b[36m(DefaultActor pid=6574)\u001b[0m [Client 7] fit, config: {}\n",
            "\u001b[2m\u001b[36m(DefaultActor pid=6574)\u001b[0m Epoch 1: train loss 0.05103052407503128, accuracy 0.4082222222222222\n",
            "\u001b[2m\u001b[36m(DefaultActor pid=6574)\u001b[0m [Poisoning Client 0] fit, config: {}\n"
          ]
        },
        {
          "output_type": "stream",
          "name": "stderr",
          "text": [
            "DEBUG flwr 2023-11-29 10:02:46,064 | server.py:236 | fit_round 4 received 10 results and 0 failures\n",
            "DEBUG:flwr:fit_round 4 received 10 results and 0 failures\n",
            "DEBUG flwr 2023-11-29 10:02:46,100 | server.py:173 | evaluate_round 4: strategy sampled 10 clients (out of 10)\n",
            "DEBUG:flwr:evaluate_round 4: strategy sampled 10 clients (out of 10)\n"
          ]
        },
        {
          "output_type": "stream",
          "name": "stdout",
          "text": [
            "\u001b[2m\u001b[36m(DefaultActor pid=6574)\u001b[0m Epoch 1: train loss 0.013164366595447063, accuracy 0.10088888888888889\n",
            "\u001b[2m\u001b[36m(DefaultActor pid=6574)\u001b[0m [Client 0] evaluate, config: {}\n",
            "\u001b[2m\u001b[36m(DefaultActor pid=6574)\u001b[0m [Client 7] evaluate, config: {}\n",
            "\u001b[2m\u001b[36m(DefaultActor pid=6574)\u001b[0m [Client 9] evaluate, config: {}\n",
            "\u001b[2m\u001b[36m(DefaultActor pid=6574)\u001b[0m [Client 3] evaluate, config: {}\n",
            "\u001b[2m\u001b[36m(DefaultActor pid=6574)\u001b[0m [Client 2] evaluate, config: {}\n",
            "\u001b[2m\u001b[36m(DefaultActor pid=6574)\u001b[0m [Client 6] evaluate, config: {}\n",
            "\u001b[2m\u001b[36m(DefaultActor pid=6574)\u001b[0m [Client 1] evaluate, config: {}\n",
            "\u001b[2m\u001b[36m(DefaultActor pid=6574)\u001b[0m [Client 5] evaluate, config: {}\n",
            "\u001b[2m\u001b[36m(DefaultActor pid=6574)\u001b[0m [Client 4] evaluate, config: {}\n"
          ]
        },
        {
          "output_type": "stream",
          "name": "stderr",
          "text": [
            "DEBUG flwr 2023-11-29 10:03:02,230 | server.py:187 | evaluate_round 4 received 10 results and 0 failures\n",
            "DEBUG:flwr:evaluate_round 4 received 10 results and 0 failures\n",
            "DEBUG flwr 2023-11-29 10:03:02,235 | server.py:222 | fit_round 5: strategy sampled 10 clients (out of 10)\n",
            "DEBUG:flwr:fit_round 5: strategy sampled 10 clients (out of 10)\n"
          ]
        },
        {
          "output_type": "stream",
          "name": "stdout",
          "text": [
            "\u001b[2m\u001b[36m(DefaultActor pid=6574)\u001b[0m [Client 8] evaluate, config: {}\n",
            "\u001b[2m\u001b[36m(DefaultActor pid=6574)\u001b[0m [Client 4] fit, config: {}\n",
            "\u001b[2m\u001b[36m(DefaultActor pid=6574)\u001b[0m Epoch 1: train loss 0.0500287190079689, accuracy 0.42\n",
            "\u001b[2m\u001b[36m(DefaultActor pid=6574)\u001b[0m [Poisoning Client 0] fit, config: {}\n",
            "\u001b[2m\u001b[36m(DefaultActor pid=6574)\u001b[0m Epoch 1: train loss 0.012689625844359398, accuracy 0.10022222222222223\n",
            "\u001b[2m\u001b[36m(DefaultActor pid=6574)\u001b[0m [Client 2] fit, config: {}\n",
            "\u001b[2m\u001b[36m(DefaultActor pid=6574)\u001b[0m Epoch 1: train loss 0.051068320870399475, accuracy 0.4073333333333333\n",
            "\u001b[2m\u001b[36m(DefaultActor pid=6574)\u001b[0m [Client 5] fit, config: {}\n",
            "\u001b[2m\u001b[36m(DefaultActor pid=6574)\u001b[0m Epoch 1: train loss 0.050616465508937836, accuracy 0.40955555555555556\n",
            "\u001b[2m\u001b[36m(DefaultActor pid=6574)\u001b[0m [Client 9] fit, config: {}\n",
            "\u001b[2m\u001b[36m(DefaultActor pid=6574)\u001b[0m Epoch 1: train loss 0.05116825923323631, accuracy 0.40844444444444444\n",
            "\u001b[2m\u001b[36m(DefaultActor pid=6574)\u001b[0m [Client 7] fit, config: {}\n",
            "\u001b[2m\u001b[36m(DefaultActor pid=6574)\u001b[0m Epoch 1: train loss 0.04944184422492981, accuracy 0.43066666666666664\n",
            "\u001b[2m\u001b[36m(DefaultActor pid=6574)\u001b[0m [Client 1] fit, config: {}\n",
            "\u001b[2m\u001b[36m(DefaultActor pid=6574)\u001b[0m Epoch 1: train loss 0.04966648668050766, accuracy 0.4166666666666667\n",
            "\u001b[2m\u001b[36m(DefaultActor pid=6574)\u001b[0m [Client 8] fit, config: {}\n",
            "\u001b[2m\u001b[36m(DefaultActor pid=6574)\u001b[0m Epoch 1: train loss 0.04995875060558319, accuracy 0.41533333333333333\n",
            "\u001b[2m\u001b[36m(DefaultActor pid=6574)\u001b[0m [Client 6] fit, config: {}\n",
            "\u001b[2m\u001b[36m(DefaultActor pid=6574)\u001b[0m Epoch 1: train loss 0.05137941986322403, accuracy 0.40244444444444444\n",
            "\u001b[2m\u001b[36m(DefaultActor pid=6574)\u001b[0m [Client 3] fit, config: {}\n"
          ]
        },
        {
          "output_type": "stream",
          "name": "stderr",
          "text": [
            "DEBUG flwr 2023-11-29 10:03:31,502 | server.py:236 | fit_round 5 received 10 results and 0 failures\n",
            "DEBUG:flwr:fit_round 5 received 10 results and 0 failures\n",
            "DEBUG flwr 2023-11-29 10:03:31,537 | server.py:173 | evaluate_round 5: strategy sampled 10 clients (out of 10)\n",
            "DEBUG:flwr:evaluate_round 5: strategy sampled 10 clients (out of 10)\n"
          ]
        },
        {
          "output_type": "stream",
          "name": "stdout",
          "text": [
            "\u001b[2m\u001b[36m(DefaultActor pid=6574)\u001b[0m Epoch 1: train loss 0.050997134298086166, accuracy 0.40044444444444444\n",
            "\u001b[2m\u001b[36m(DefaultActor pid=6574)\u001b[0m [Client 1] evaluate, config: {}\n",
            "\u001b[2m\u001b[36m(DefaultActor pid=6574)\u001b[0m [Client 4] evaluate, config: {}\n",
            "\u001b[2m\u001b[36m(DefaultActor pid=6574)\u001b[0m [Client 8] evaluate, config: {}\n",
            "\u001b[2m\u001b[36m(DefaultActor pid=6574)\u001b[0m [Client 0] evaluate, config: {}\n",
            "\u001b[2m\u001b[36m(DefaultActor pid=6574)\u001b[0m [Client 6] evaluate, config: {}\n",
            "\u001b[2m\u001b[36m(DefaultActor pid=6574)\u001b[0m [Client 2] evaluate, config: {}\n",
            "\u001b[2m\u001b[36m(DefaultActor pid=6574)\u001b[0m [Client 3] evaluate, config: {}\n",
            "\u001b[2m\u001b[36m(DefaultActor pid=6574)\u001b[0m [Client 9] evaluate, config: {}\n",
            "\u001b[2m\u001b[36m(DefaultActor pid=6574)\u001b[0m [Client 5] evaluate, config: {}\n"
          ]
        },
        {
          "output_type": "stream",
          "name": "stderr",
          "text": [
            "DEBUG flwr 2023-11-29 10:03:47,401 | server.py:187 | evaluate_round 5 received 10 results and 0 failures\n",
            "DEBUG:flwr:evaluate_round 5 received 10 results and 0 failures\n",
            "INFO flwr 2023-11-29 10:03:47,406 | server.py:153 | FL finished in 229.90676156699988\n",
            "INFO:flwr:FL finished in 229.90676156699988\n",
            "INFO flwr 2023-11-29 10:03:47,408 | app.py:226 | app_fit: losses_distributed [(1, 0.06522287356853484), (2, 0.05609790086746217), (3, 0.05263391497135163), (4, 0.05118419780731202), (5, 0.049914684104919435)]\n",
            "INFO:flwr:app_fit: losses_distributed [(1, 0.06522287356853484), (2, 0.05609790086746217), (3, 0.05263391497135163), (4, 0.05118419780731202), (5, 0.049914684104919435)]\n",
            "INFO flwr 2023-11-29 10:03:47,411 | app.py:227 | app_fit: metrics_distributed_fit {}\n",
            "INFO:flwr:app_fit: metrics_distributed_fit {}\n",
            "INFO flwr 2023-11-29 10:03:47,414 | app.py:228 | app_fit: metrics_distributed {'accuracy': [(1, 0.2484), (2, 0.36019999999999996), (3, 0.39180000000000004), (4, 0.4034000000000001), (5, 0.42200000000000004)], 'accuracy_per_client': [(1, [0.264, 0.234, 0.254, 0.234, 0.234, 0.252, 0.256, 0.244, 0.276, 0.236]), (2, [0.34, 0.368, 0.366, 0.344, 0.388, 0.338, 0.362, 0.376, 0.358, 0.362]), (3, [0.396, 0.376, 0.408, 0.388, 0.372, 0.39, 0.412, 0.386, 0.398, 0.392]), (4, [0.402, 0.394, 0.392, 0.42, 0.398, 0.43, 0.392, 0.386, 0.42, 0.4]), (5, [0.452, 0.406, 0.418, 0.42, 0.444, 0.446, 0.402, 0.414, 0.388, 0.43])]}\n",
            "INFO:flwr:app_fit: metrics_distributed {'accuracy': [(1, 0.2484), (2, 0.36019999999999996), (3, 0.39180000000000004), (4, 0.4034000000000001), (5, 0.42200000000000004)], 'accuracy_per_client': [(1, [0.264, 0.234, 0.254, 0.234, 0.234, 0.252, 0.256, 0.244, 0.276, 0.236]), (2, [0.34, 0.368, 0.366, 0.344, 0.388, 0.338, 0.362, 0.376, 0.358, 0.362]), (3, [0.396, 0.376, 0.408, 0.388, 0.372, 0.39, 0.412, 0.386, 0.398, 0.392]), (4, [0.402, 0.394, 0.392, 0.42, 0.398, 0.43, 0.392, 0.386, 0.42, 0.4]), (5, [0.452, 0.406, 0.418, 0.42, 0.444, 0.446, 0.402, 0.414, 0.388, 0.43])]}\n",
            "INFO flwr 2023-11-29 10:03:47,417 | app.py:229 | app_fit: losses_centralized []\n",
            "INFO:flwr:app_fit: losses_centralized []\n",
            "INFO flwr 2023-11-29 10:03:47,419 | app.py:230 | app_fit: metrics_centralized {}\n",
            "INFO:flwr:app_fit: metrics_centralized {}\n",
            "INFO flwr 2023-11-29 10:03:47,437 | app.py:178 | Starting Flower simulation, config: ServerConfig(num_rounds=5, round_timeout=None)\n",
            "INFO:flwr:Starting Flower simulation, config: ServerConfig(num_rounds=5, round_timeout=None)\n"
          ]
        },
        {
          "output_type": "stream",
          "name": "stdout",
          "text": [
            "\u001b[2m\u001b[36m(DefaultActor pid=6574)\u001b[0m [Client 7] evaluate, config: {}\n"
          ]
        },
        {
          "output_type": "stream",
          "name": "stderr",
          "text": [
            "2023-11-29 10:03:51,621\tINFO worker.py:1621 -- Started a local Ray instance.\n",
            "INFO flwr 2023-11-29 10:03:55,257 | app.py:213 | Flower VCE: Ray initialized with resources: {'CPU': 2.0, 'node:__internal_head__': 1.0, 'object_store_memory': 3932701900.0, 'memory': 7865403803.0, 'node:172.28.0.12': 1.0, 'GPU': 1.0}\n",
            "INFO:flwr:Flower VCE: Ray initialized with resources: {'CPU': 2.0, 'node:__internal_head__': 1.0, 'object_store_memory': 3932701900.0, 'memory': 7865403803.0, 'node:172.28.0.12': 1.0, 'GPU': 1.0}\n",
            "INFO flwr 2023-11-29 10:03:55,266 | app.py:219 | Optimize your simulation with Flower VCE: https://flower.dev/docs/framework/how-to-run-simulations.html\n",
            "INFO:flwr:Optimize your simulation with Flower VCE: https://flower.dev/docs/framework/how-to-run-simulations.html\n",
            "INFO flwr 2023-11-29 10:03:55,271 | app.py:242 | Flower VCE: Resources for each Virtual Client: {'num_gpus': 1, 'num_cpus': 1}\n",
            "INFO:flwr:Flower VCE: Resources for each Virtual Client: {'num_gpus': 1, 'num_cpus': 1}\n",
            "INFO flwr 2023-11-29 10:03:55,321 | app.py:288 | Flower VCE: Creating VirtualClientEngineActorPool with 1 actors\n",
            "INFO:flwr:Flower VCE: Creating VirtualClientEngineActorPool with 1 actors\n",
            "INFO flwr 2023-11-29 10:03:55,330 | server.py:89 | Initializing global parameters\n",
            "INFO:flwr:Initializing global parameters\n",
            "INFO flwr 2023-11-29 10:03:55,332 | server.py:276 | Requesting initial parameters from one random client\n",
            "INFO:flwr:Requesting initial parameters from one random client\n",
            "INFO flwr 2023-11-29 10:04:01,922 | server.py:280 | Received initial parameters from one random client\n",
            "INFO:flwr:Received initial parameters from one random client\n",
            "INFO flwr 2023-11-29 10:04:01,926 | server.py:91 | Evaluating initial parameters\n",
            "INFO:flwr:Evaluating initial parameters\n",
            "INFO flwr 2023-11-29 10:04:01,928 | server.py:104 | FL starting\n",
            "INFO:flwr:FL starting\n",
            "DEBUG flwr 2023-11-29 10:04:01,930 | server.py:222 | fit_round 1: strategy sampled 10 clients (out of 10)\n",
            "DEBUG:flwr:fit_round 1: strategy sampled 10 clients (out of 10)\n"
          ]
        },
        {
          "output_type": "stream",
          "name": "stdout",
          "text": [
            "\u001b[2m\u001b[36m(DefaultActor pid=7881)\u001b[0m [Client 6] get_parameters\n",
            "\u001b[2m\u001b[36m(DefaultActor pid=7881)\u001b[0m [Client 6] fit, config: {}\n",
            "\u001b[2m\u001b[36m(DefaultActor pid=7881)\u001b[0m Epoch 1: train loss 0.06600390374660492, accuracy 0.2157777777777778\n",
            "\u001b[2m\u001b[36m(DefaultActor pid=7881)\u001b[0m [Client 0] fit, config: {}\n",
            "\u001b[2m\u001b[36m(DefaultActor pid=7881)\u001b[0m Epoch 1: train loss 0.06637539714574814, accuracy 0.20422222222222222\n",
            "\u001b[2m\u001b[36m(DefaultActor pid=7881)\u001b[0m [Client 7] fit, config: {}\n",
            "\u001b[2m\u001b[36m(DefaultActor pid=7881)\u001b[0m Epoch 1: train loss 0.06633435189723969, accuracy 0.22844444444444445\n",
            "\u001b[2m\u001b[36m(DefaultActor pid=7881)\u001b[0m [Client 4] fit, config: {}\n",
            "\u001b[2m\u001b[36m(DefaultActor pid=7881)\u001b[0m Epoch 1: train loss 0.06589372456073761, accuracy 0.22444444444444445\n",
            "\u001b[2m\u001b[36m(DefaultActor pid=7881)\u001b[0m [Client 8] fit, config: {}\n",
            "\u001b[2m\u001b[36m(DefaultActor pid=7881)\u001b[0m Epoch 1: train loss 0.06613816320896149, accuracy 0.21622222222222223\n",
            "\u001b[2m\u001b[36m(DefaultActor pid=7881)\u001b[0m [Client 1] fit, config: {}\n",
            "\u001b[2m\u001b[36m(DefaultActor pid=7881)\u001b[0m Epoch 1: train loss 0.06663618236780167, accuracy 0.21133333333333335\n",
            "\u001b[2m\u001b[36m(DefaultActor pid=7881)\u001b[0m [Client 2] fit, config: {}\n",
            "\u001b[2m\u001b[36m(DefaultActor pid=7881)\u001b[0m Epoch 1: train loss 0.06567061692476273, accuracy 0.22577777777777777\n",
            "\u001b[2m\u001b[36m(DefaultActor pid=7881)\u001b[0m [Client 9] fit, config: {}\n",
            "\u001b[2m\u001b[36m(DefaultActor pid=7881)\u001b[0m Epoch 1: train loss 0.0666808933019638, accuracy 0.2091111111111111\n",
            "\u001b[2m\u001b[36m(DefaultActor pid=7881)\u001b[0m [Client 5] fit, config: {}\n",
            "\u001b[2m\u001b[36m(DefaultActor pid=7881)\u001b[0m Epoch 1: train loss 0.06590792536735535, accuracy 0.21622222222222223\n",
            "\u001b[2m\u001b[36m(DefaultActor pid=7881)\u001b[0m [Client 3] fit, config: {}\n"
          ]
        },
        {
          "output_type": "stream",
          "name": "stderr",
          "text": [
            "DEBUG flwr 2023-11-29 10:04:31,627 | server.py:236 | fit_round 1 received 10 results and 0 failures\n",
            "DEBUG:flwr:fit_round 1 received 10 results and 0 failures\n",
            "DEBUG flwr 2023-11-29 10:04:31,673 | server.py:173 | evaluate_round 1: strategy sampled 10 clients (out of 10)\n",
            "DEBUG:flwr:evaluate_round 1: strategy sampled 10 clients (out of 10)\n"
          ]
        },
        {
          "output_type": "stream",
          "name": "stdout",
          "text": [
            "\u001b[2m\u001b[36m(DefaultActor pid=7881)\u001b[0m Epoch 1: train loss 0.06696265935897827, accuracy 0.20022222222222222\n",
            "\u001b[2m\u001b[36m(DefaultActor pid=7881)\u001b[0m [Client 9] evaluate, config: {}\n",
            "\u001b[2m\u001b[36m(DefaultActor pid=7881)\u001b[0m [Client 2] evaluate, config: {}\n",
            "\u001b[2m\u001b[36m(DefaultActor pid=7881)\u001b[0m [Client 7] evaluate, config: {}\n",
            "\u001b[2m\u001b[36m(DefaultActor pid=7881)\u001b[0m [Client 1] evaluate, config: {}\n",
            "\u001b[2m\u001b[36m(DefaultActor pid=7881)\u001b[0m [Client 3] evaluate, config: {}\n",
            "\u001b[2m\u001b[36m(DefaultActor pid=7881)\u001b[0m [Client 6] evaluate, config: {}\n",
            "\u001b[2m\u001b[36m(DefaultActor pid=7881)\u001b[0m [Client 4] evaluate, config: {}\n",
            "\u001b[2m\u001b[36m(DefaultActor pid=7881)\u001b[0m [Client 8] evaluate, config: {}\n",
            "\u001b[2m\u001b[36m(DefaultActor pid=7881)\u001b[0m [Client 5] evaluate, config: {}\n"
          ]
        },
        {
          "output_type": "stream",
          "name": "stderr",
          "text": [
            "DEBUG flwr 2023-11-29 10:04:47,564 | server.py:187 | evaluate_round 1 received 10 results and 0 failures\n",
            "DEBUG:flwr:evaluate_round 1 received 10 results and 0 failures\n",
            "DEBUG flwr 2023-11-29 10:04:47,570 | server.py:222 | fit_round 2: strategy sampled 10 clients (out of 10)\n",
            "DEBUG:flwr:fit_round 2: strategy sampled 10 clients (out of 10)\n"
          ]
        },
        {
          "output_type": "stream",
          "name": "stdout",
          "text": [
            "\u001b[2m\u001b[36m(DefaultActor pid=7881)\u001b[0m [Client 0] evaluate, config: {}\n",
            "\u001b[2m\u001b[36m(DefaultActor pid=7881)\u001b[0m [Client 5] fit, config: {}\n",
            "\u001b[2m\u001b[36m(DefaultActor pid=7881)\u001b[0m Epoch 1: train loss 0.05892486497759819, accuracy 0.3091111111111111\n",
            "\u001b[2m\u001b[36m(DefaultActor pid=7881)\u001b[0m [Client 3] fit, config: {}\n",
            "\u001b[2m\u001b[36m(DefaultActor pid=7881)\u001b[0m Epoch 1: train loss 0.058990105986595154, accuracy 0.30844444444444447\n",
            "\u001b[2m\u001b[36m(DefaultActor pid=7881)\u001b[0m [Client 8] fit, config: {}\n",
            "\u001b[2m\u001b[36m(DefaultActor pid=7881)\u001b[0m Epoch 1: train loss 0.05844556540250778, accuracy 0.312\n",
            "\u001b[2m\u001b[36m(DefaultActor pid=7881)\u001b[0m [Client 4] fit, config: {}\n",
            "\u001b[2m\u001b[36m(DefaultActor pid=7881)\u001b[0m Epoch 1: train loss 0.05855553597211838, accuracy 0.3228888888888889\n",
            "\u001b[2m\u001b[36m(DefaultActor pid=7881)\u001b[0m [Client 2] fit, config: {}\n",
            "\u001b[2m\u001b[36m(DefaultActor pid=7881)\u001b[0m Epoch 1: train loss 0.05977009981870651, accuracy 0.29777777777777775\n",
            "\u001b[2m\u001b[36m(DefaultActor pid=7881)\u001b[0m [Client 7] fit, config: {}\n",
            "\u001b[2m\u001b[36m(DefaultActor pid=7881)\u001b[0m Epoch 1: train loss 0.05881300941109657, accuracy 0.31466666666666665\n",
            "\u001b[2m\u001b[36m(DefaultActor pid=7881)\u001b[0m [Client 6] fit, config: {}\n",
            "\u001b[2m\u001b[36m(DefaultActor pid=7881)\u001b[0m Epoch 1: train loss 0.05966012924909592, accuracy 0.29844444444444446\n",
            "\u001b[2m\u001b[36m(DefaultActor pid=7881)\u001b[0m [Client 9] fit, config: {}\n",
            "\u001b[2m\u001b[36m(DefaultActor pid=7881)\u001b[0m Epoch 1: train loss 0.05932525172829628, accuracy 0.31533333333333335\n",
            "\u001b[2m\u001b[36m(DefaultActor pid=7881)\u001b[0m [Client 1] fit, config: {}\n",
            "\u001b[2m\u001b[36m(DefaultActor pid=7881)\u001b[0m Epoch 1: train loss 0.05871068686246872, accuracy 0.3171111111111111\n",
            "\u001b[2m\u001b[36m(DefaultActor pid=7881)\u001b[0m [Client 0] fit, config: {}\n"
          ]
        },
        {
          "output_type": "stream",
          "name": "stderr",
          "text": [
            "DEBUG flwr 2023-11-29 10:05:16,843 | server.py:236 | fit_round 2 received 10 results and 0 failures\n",
            "DEBUG:flwr:fit_round 2 received 10 results and 0 failures\n",
            "DEBUG flwr 2023-11-29 10:05:16,885 | server.py:173 | evaluate_round 2: strategy sampled 10 clients (out of 10)\n",
            "DEBUG:flwr:evaluate_round 2: strategy sampled 10 clients (out of 10)\n"
          ]
        },
        {
          "output_type": "stream",
          "name": "stdout",
          "text": [
            "\u001b[2m\u001b[36m(DefaultActor pid=7881)\u001b[0m Epoch 1: train loss 0.05880183354020119, accuracy 0.31577777777777777\n",
            "\u001b[2m\u001b[36m(DefaultActor pid=7881)\u001b[0m [Client 3] evaluate, config: {}\n",
            "\u001b[2m\u001b[36m(DefaultActor pid=7881)\u001b[0m [Client 5] evaluate, config: {}\n",
            "\u001b[2m\u001b[36m(DefaultActor pid=7881)\u001b[0m [Client 4] evaluate, config: {}\n",
            "\u001b[2m\u001b[36m(DefaultActor pid=7881)\u001b[0m [Client 7] evaluate, config: {}\n",
            "\u001b[2m\u001b[36m(DefaultActor pid=7881)\u001b[0m [Client 6] evaluate, config: {}\n",
            "\u001b[2m\u001b[36m(DefaultActor pid=7881)\u001b[0m [Client 9] evaluate, config: {}\n",
            "\u001b[2m\u001b[36m(DefaultActor pid=7881)\u001b[0m [Client 0] evaluate, config: {}\n",
            "\u001b[2m\u001b[36m(DefaultActor pid=7881)\u001b[0m [Client 8] evaluate, config: {}\n",
            "\u001b[2m\u001b[36m(DefaultActor pid=7881)\u001b[0m [Client 1] evaluate, config: {}\n"
          ]
        },
        {
          "output_type": "stream",
          "name": "stderr",
          "text": [
            "DEBUG flwr 2023-11-29 10:05:32,754 | server.py:187 | evaluate_round 2 received 10 results and 0 failures\n",
            "DEBUG:flwr:evaluate_round 2 received 10 results and 0 failures\n",
            "DEBUG flwr 2023-11-29 10:05:32,758 | server.py:222 | fit_round 3: strategy sampled 10 clients (out of 10)\n",
            "DEBUG:flwr:fit_round 3: strategy sampled 10 clients (out of 10)\n"
          ]
        },
        {
          "output_type": "stream",
          "name": "stdout",
          "text": [
            "\u001b[2m\u001b[36m(DefaultActor pid=7881)\u001b[0m [Client 2] evaluate, config: {}\n",
            "\u001b[2m\u001b[36m(DefaultActor pid=7881)\u001b[0m [Client 3] fit, config: {}\n",
            "\u001b[2m\u001b[36m(DefaultActor pid=7881)\u001b[0m Epoch 1: train loss 0.05421272665262222, accuracy 0.3566666666666667\n",
            "\u001b[2m\u001b[36m(DefaultActor pid=7881)\u001b[0m [Client 9] fit, config: {}\n",
            "\u001b[2m\u001b[36m(DefaultActor pid=7881)\u001b[0m Epoch 1: train loss 0.054669320583343506, accuracy 0.368\n",
            "\u001b[2m\u001b[36m(DefaultActor pid=7881)\u001b[0m [Client 2] fit, config: {}\n",
            "\u001b[2m\u001b[36m(DefaultActor pid=7881)\u001b[0m Epoch 1: train loss 0.05491480976343155, accuracy 0.3622222222222222\n",
            "\u001b[2m\u001b[36m(DefaultActor pid=7881)\u001b[0m [Client 6] fit, config: {}\n",
            "\u001b[2m\u001b[36m(DefaultActor pid=7881)\u001b[0m Epoch 1: train loss 0.05523601174354553, accuracy 0.35\n",
            "\u001b[2m\u001b[36m(DefaultActor pid=7881)\u001b[0m [Client 7] fit, config: {}\n",
            "\u001b[2m\u001b[36m(DefaultActor pid=7881)\u001b[0m Epoch 1: train loss 0.052745286375284195, accuracy 0.3828888888888889\n",
            "\u001b[2m\u001b[36m(DefaultActor pid=7881)\u001b[0m [Client 5] fit, config: {}\n",
            "\u001b[2m\u001b[36m(DefaultActor pid=7881)\u001b[0m Epoch 1: train loss 0.05438125878572464, accuracy 0.362\n",
            "\u001b[2m\u001b[36m(DefaultActor pid=7881)\u001b[0m [Client 0] fit, config: {}\n",
            "\u001b[2m\u001b[36m(DefaultActor pid=7881)\u001b[0m Epoch 1: train loss 0.054127153009176254, accuracy 0.37066666666666664\n",
            "\u001b[2m\u001b[36m(DefaultActor pid=7881)\u001b[0m [Client 1] fit, config: {}\n",
            "\u001b[2m\u001b[36m(DefaultActor pid=7881)\u001b[0m Epoch 1: train loss 0.053466521203517914, accuracy 0.3851111111111111\n",
            "\u001b[2m\u001b[36m(DefaultActor pid=7881)\u001b[0m [Client 4] fit, config: {}\n",
            "\u001b[2m\u001b[36m(DefaultActor pid=7881)\u001b[0m Epoch 1: train loss 0.053789980709552765, accuracy 0.368\n",
            "\u001b[2m\u001b[36m(DefaultActor pid=7881)\u001b[0m [Client 8] fit, config: {}\n"
          ]
        },
        {
          "output_type": "stream",
          "name": "stderr",
          "text": [
            "DEBUG flwr 2023-11-29 10:06:01,821 | server.py:236 | fit_round 3 received 10 results and 0 failures\n",
            "DEBUG:flwr:fit_round 3 received 10 results and 0 failures\n",
            "DEBUG flwr 2023-11-29 10:06:01,861 | server.py:173 | evaluate_round 3: strategy sampled 10 clients (out of 10)\n",
            "DEBUG:flwr:evaluate_round 3: strategy sampled 10 clients (out of 10)\n"
          ]
        },
        {
          "output_type": "stream",
          "name": "stdout",
          "text": [
            "\u001b[2m\u001b[36m(DefaultActor pid=7881)\u001b[0m Epoch 1: train loss 0.053522177040576935, accuracy 0.36866666666666664\n",
            "\u001b[2m\u001b[36m(DefaultActor pid=7881)\u001b[0m [Client 8] evaluate, config: {}\n",
            "\u001b[2m\u001b[36m(DefaultActor pid=7881)\u001b[0m [Client 9] evaluate, config: {}\n",
            "\u001b[2m\u001b[36m(DefaultActor pid=7881)\u001b[0m [Client 4] evaluate, config: {}\n",
            "\u001b[2m\u001b[36m(DefaultActor pid=7881)\u001b[0m [Client 0] evaluate, config: {}\n",
            "\u001b[2m\u001b[36m(DefaultActor pid=7881)\u001b[0m [Client 1] evaluate, config: {}\n",
            "\u001b[2m\u001b[36m(DefaultActor pid=7881)\u001b[0m [Client 5] evaluate, config: {}\n",
            "\u001b[2m\u001b[36m(DefaultActor pid=7881)\u001b[0m [Client 3] evaluate, config: {}\n",
            "\u001b[2m\u001b[36m(DefaultActor pid=7881)\u001b[0m [Client 2] evaluate, config: {}\n",
            "\u001b[2m\u001b[36m(DefaultActor pid=7881)\u001b[0m [Client 7] evaluate, config: {}\n"
          ]
        },
        {
          "output_type": "stream",
          "name": "stderr",
          "text": [
            "DEBUG flwr 2023-11-29 10:06:17,627 | server.py:187 | evaluate_round 3 received 10 results and 0 failures\n",
            "DEBUG:flwr:evaluate_round 3 received 10 results and 0 failures\n",
            "DEBUG flwr 2023-11-29 10:06:17,634 | server.py:222 | fit_round 4: strategy sampled 10 clients (out of 10)\n",
            "DEBUG:flwr:fit_round 4: strategy sampled 10 clients (out of 10)\n"
          ]
        },
        {
          "output_type": "stream",
          "name": "stdout",
          "text": [
            "\u001b[2m\u001b[36m(DefaultActor pid=7881)\u001b[0m [Client 6] evaluate, config: {}\n",
            "\u001b[2m\u001b[36m(DefaultActor pid=7881)\u001b[0m [Client 8] fit, config: {}\n",
            "\u001b[2m\u001b[36m(DefaultActor pid=7881)\u001b[0m Epoch 1: train loss 0.05059385299682617, accuracy 0.4033333333333333\n",
            "\u001b[2m\u001b[36m(DefaultActor pid=7881)\u001b[0m [Client 2] fit, config: {}\n",
            "\u001b[2m\u001b[36m(DefaultActor pid=7881)\u001b[0m Epoch 1: train loss 0.05159810930490494, accuracy 0.4011111111111111\n",
            "\u001b[2m\u001b[36m(DefaultActor pid=7881)\u001b[0m [Client 9] fit, config: {}\n",
            "\u001b[2m\u001b[36m(DefaultActor pid=7881)\u001b[0m Epoch 1: train loss 0.05167163535952568, accuracy 0.3957777777777778\n",
            "\u001b[2m\u001b[36m(DefaultActor pid=7881)\u001b[0m [Client 4] fit, config: {}\n",
            "\u001b[2m\u001b[36m(DefaultActor pid=7881)\u001b[0m Epoch 1: train loss 0.05157369747757912, accuracy 0.398\n",
            "\u001b[2m\u001b[36m(DefaultActor pid=7881)\u001b[0m [Client 3] fit, config: {}\n",
            "\u001b[2m\u001b[36m(DefaultActor pid=7881)\u001b[0m Epoch 1: train loss 0.051587339490652084, accuracy 0.39111111111111113\n",
            "\u001b[2m\u001b[36m(DefaultActor pid=7881)\u001b[0m [Client 1] fit, config: {}\n",
            "\u001b[2m\u001b[36m(DefaultActor pid=7881)\u001b[0m Epoch 1: train loss 0.050769221037626266, accuracy 0.4128888888888889\n",
            "\u001b[2m\u001b[36m(DefaultActor pid=7881)\u001b[0m [Client 0] fit, config: {}\n",
            "\u001b[2m\u001b[36m(DefaultActor pid=7881)\u001b[0m Epoch 1: train loss 0.05115034431219101, accuracy 0.41444444444444445\n",
            "\u001b[2m\u001b[36m(DefaultActor pid=7881)\u001b[0m [Client 5] fit, config: {}\n",
            "\u001b[2m\u001b[36m(DefaultActor pid=7881)\u001b[0m Epoch 1: train loss 0.051397014409303665, accuracy 0.40444444444444444\n",
            "\u001b[2m\u001b[36m(DefaultActor pid=7881)\u001b[0m [Client 6] fit, config: {}\n",
            "\u001b[2m\u001b[36m(DefaultActor pid=7881)\u001b[0m Epoch 1: train loss 0.052179571241140366, accuracy 0.38711111111111113\n",
            "\u001b[2m\u001b[36m(DefaultActor pid=7881)\u001b[0m [Client 7] fit, config: {}\n"
          ]
        },
        {
          "output_type": "stream",
          "name": "stderr",
          "text": [
            "DEBUG flwr 2023-11-29 10:06:46,689 | server.py:236 | fit_round 4 received 10 results and 0 failures\n",
            "DEBUG:flwr:fit_round 4 received 10 results and 0 failures\n",
            "DEBUG flwr 2023-11-29 10:06:46,732 | server.py:173 | evaluate_round 4: strategy sampled 10 clients (out of 10)\n",
            "DEBUG:flwr:evaluate_round 4: strategy sampled 10 clients (out of 10)\n"
          ]
        },
        {
          "output_type": "stream",
          "name": "stdout",
          "text": [
            "\u001b[2m\u001b[36m(DefaultActor pid=7881)\u001b[0m Epoch 1: train loss 0.05011070519685745, accuracy 0.4226666666666667\n",
            "\u001b[2m\u001b[36m(DefaultActor pid=7881)\u001b[0m [Client 0] evaluate, config: {}\n",
            "\u001b[2m\u001b[36m(DefaultActor pid=7881)\u001b[0m [Client 6] evaluate, config: {}\n",
            "\u001b[2m\u001b[36m(DefaultActor pid=7881)\u001b[0m [Client 3] evaluate, config: {}\n",
            "\u001b[2m\u001b[36m(DefaultActor pid=7881)\u001b[0m [Client 4] evaluate, config: {}\n",
            "\u001b[2m\u001b[36m(DefaultActor pid=7881)\u001b[0m [Client 8] evaluate, config: {}\n",
            "\u001b[2m\u001b[36m(DefaultActor pid=7881)\u001b[0m [Client 2] evaluate, config: {}\n",
            "\u001b[2m\u001b[36m(DefaultActor pid=7881)\u001b[0m [Client 1] evaluate, config: {}\n",
            "\u001b[2m\u001b[36m(DefaultActor pid=7881)\u001b[0m [Client 5] evaluate, config: {}\n",
            "\u001b[2m\u001b[36m(DefaultActor pid=7881)\u001b[0m [Client 7] evaluate, config: {}\n"
          ]
        },
        {
          "output_type": "stream",
          "name": "stderr",
          "text": [
            "DEBUG flwr 2023-11-29 10:07:02,601 | server.py:187 | evaluate_round 4 received 10 results and 0 failures\n",
            "DEBUG:flwr:evaluate_round 4 received 10 results and 0 failures\n",
            "DEBUG flwr 2023-11-29 10:07:02,609 | server.py:222 | fit_round 5: strategy sampled 10 clients (out of 10)\n",
            "DEBUG:flwr:fit_round 5: strategy sampled 10 clients (out of 10)\n"
          ]
        },
        {
          "output_type": "stream",
          "name": "stdout",
          "text": [
            "\u001b[2m\u001b[36m(DefaultActor pid=7881)\u001b[0m [Client 9] evaluate, config: {}\n",
            "\u001b[2m\u001b[36m(DefaultActor pid=7881)\u001b[0m [Client 5] fit, config: {}\n",
            "\u001b[2m\u001b[36m(DefaultActor pid=7881)\u001b[0m Epoch 1: train loss 0.050055742263793945, accuracy 0.4226666666666667\n",
            "\u001b[2m\u001b[36m(DefaultActor pid=7881)\u001b[0m [Client 3] fit, config: {}\n",
            "\u001b[2m\u001b[36m(DefaultActor pid=7881)\u001b[0m Epoch 1: train loss 0.04985382407903671, accuracy 0.4197777777777778\n",
            "\u001b[2m\u001b[36m(DefaultActor pid=7881)\u001b[0m [Client 7] fit, config: {}\n",
            "\u001b[2m\u001b[36m(DefaultActor pid=7881)\u001b[0m Epoch 1: train loss 0.04803216829895973, accuracy 0.43622222222222223\n",
            "\u001b[2m\u001b[36m(DefaultActor pid=7881)\u001b[0m [Client 4] fit, config: {}\n",
            "\u001b[2m\u001b[36m(DefaultActor pid=7881)\u001b[0m Epoch 1: train loss 0.049513429403305054, accuracy 0.42933333333333334\n",
            "\u001b[2m\u001b[36m(DefaultActor pid=7881)\u001b[0m [Client 1] fit, config: {}\n",
            "\u001b[2m\u001b[36m(DefaultActor pid=7881)\u001b[0m Epoch 1: train loss 0.04881836101412773, accuracy 0.43333333333333335\n",
            "\u001b[2m\u001b[36m(DefaultActor pid=7881)\u001b[0m [Client 6] fit, config: {}\n",
            "\u001b[2m\u001b[36m(DefaultActor pid=7881)\u001b[0m Epoch 1: train loss 0.05024715140461922, accuracy 0.4106666666666667\n",
            "\u001b[2m\u001b[36m(DefaultActor pid=7881)\u001b[0m [Client 0] fit, config: {}\n",
            "\u001b[2m\u001b[36m(DefaultActor pid=7881)\u001b[0m Epoch 1: train loss 0.04944910109043121, accuracy 0.4262222222222222\n",
            "\u001b[2m\u001b[36m(DefaultActor pid=7881)\u001b[0m [Client 2] fit, config: {}\n",
            "\u001b[2m\u001b[36m(DefaultActor pid=7881)\u001b[0m Epoch 1: train loss 0.04980143532156944, accuracy 0.412\n",
            "\u001b[2m\u001b[36m(DefaultActor pid=7881)\u001b[0m [Client 8] fit, config: {}\n",
            "\u001b[2m\u001b[36m(DefaultActor pid=7881)\u001b[0m Epoch 1: train loss 0.04858747869729996, accuracy 0.43666666666666665\n",
            "\u001b[2m\u001b[36m(DefaultActor pid=7881)\u001b[0m [Client 9] fit, config: {}\n"
          ]
        },
        {
          "output_type": "stream",
          "name": "stderr",
          "text": [
            "DEBUG flwr 2023-11-29 10:07:31,876 | server.py:236 | fit_round 5 received 10 results and 0 failures\n",
            "DEBUG:flwr:fit_round 5 received 10 results and 0 failures\n",
            "DEBUG flwr 2023-11-29 10:07:31,916 | server.py:173 | evaluate_round 5: strategy sampled 10 clients (out of 10)\n",
            "DEBUG:flwr:evaluate_round 5: strategy sampled 10 clients (out of 10)\n"
          ]
        },
        {
          "output_type": "stream",
          "name": "stdout",
          "text": [
            "\u001b[2m\u001b[36m(DefaultActor pid=7881)\u001b[0m Epoch 1: train loss 0.05003939941525459, accuracy 0.4166666666666667\n",
            "\u001b[2m\u001b[36m(DefaultActor pid=7881)\u001b[0m [Client 0] evaluate, config: {}\n",
            "\u001b[2m\u001b[36m(DefaultActor pid=7881)\u001b[0m [Client 6] evaluate, config: {}\n",
            "\u001b[2m\u001b[36m(DefaultActor pid=7881)\u001b[0m [Client 2] evaluate, config: {}\n",
            "\u001b[2m\u001b[36m(DefaultActor pid=7881)\u001b[0m [Client 3] evaluate, config: {}\n",
            "\u001b[2m\u001b[36m(DefaultActor pid=7881)\u001b[0m [Client 5] evaluate, config: {}\n",
            "\u001b[2m\u001b[36m(DefaultActor pid=7881)\u001b[0m [Client 7] evaluate, config: {}\n",
            "\u001b[2m\u001b[36m(DefaultActor pid=7881)\u001b[0m [Client 9] evaluate, config: {}\n",
            "\u001b[2m\u001b[36m(DefaultActor pid=7881)\u001b[0m [Client 1] evaluate, config: {}\n",
            "\u001b[2m\u001b[36m(DefaultActor pid=7881)\u001b[0m [Client 4] evaluate, config: {}\n"
          ]
        },
        {
          "output_type": "stream",
          "name": "stderr",
          "text": [
            "DEBUG flwr 2023-11-29 10:07:47,703 | server.py:187 | evaluate_round 5 received 10 results and 0 failures\n",
            "DEBUG:flwr:evaluate_round 5 received 10 results and 0 failures\n",
            "INFO flwr 2023-11-29 10:07:47,708 | server.py:153 | FL finished in 225.777812865\n",
            "INFO:flwr:FL finished in 225.777812865\n",
            "INFO flwr 2023-11-29 10:07:47,718 | app.py:226 | app_fit: losses_distributed [(1, 0.06509904890060426), (2, 0.05600318937301636), (3, 0.05193957445621491), (4, 0.050012789607048025), (5, 0.04822704081535339)]\n",
            "INFO:flwr:app_fit: losses_distributed [(1, 0.06509904890060426), (2, 0.05600318937301636), (3, 0.05193957445621491), (4, 0.050012789607048025), (5, 0.04822704081535339)]\n",
            "INFO flwr 2023-11-29 10:07:47,721 | app.py:227 | app_fit: metrics_distributed_fit {}\n",
            "INFO:flwr:app_fit: metrics_distributed_fit {}\n",
            "INFO flwr 2023-11-29 10:07:47,726 | app.py:228 | app_fit: metrics_distributed {'accuracy': [(1, 0.27860000000000007), (2, 0.3522), (3, 0.39440000000000003), (4, 0.4236000000000001), (5, 0.44300000000000006)], 'accuracy_per_client': [(1, [0.268, 0.252, 0.314, 0.296, 0.294, 0.25, 0.282, 0.272, 0.282, 0.276]), (2, [0.362, 0.324, 0.36, 0.366, 0.366, 0.354, 0.318, 0.35, 0.36, 0.362]), (3, [0.362, 0.378, 0.4, 0.41, 0.394, 0.41, 0.398, 0.4, 0.402, 0.39]), (4, [0.422, 0.442, 0.44, 0.41, 0.412, 0.43, 0.442, 0.398, 0.434, 0.406]), (5, [0.452, 0.456, 0.436, 0.462, 0.452, 0.43, 0.436, 0.414, 0.418, 0.474])]}\n",
            "INFO:flwr:app_fit: metrics_distributed {'accuracy': [(1, 0.27860000000000007), (2, 0.3522), (3, 0.39440000000000003), (4, 0.4236000000000001), (5, 0.44300000000000006)], 'accuracy_per_client': [(1, [0.268, 0.252, 0.314, 0.296, 0.294, 0.25, 0.282, 0.272, 0.282, 0.276]), (2, [0.362, 0.324, 0.36, 0.366, 0.366, 0.354, 0.318, 0.35, 0.36, 0.362]), (3, [0.362, 0.378, 0.4, 0.41, 0.394, 0.41, 0.398, 0.4, 0.402, 0.39]), (4, [0.422, 0.442, 0.44, 0.41, 0.412, 0.43, 0.442, 0.398, 0.434, 0.406]), (5, [0.452, 0.456, 0.436, 0.462, 0.452, 0.43, 0.436, 0.414, 0.418, 0.474])]}\n",
            "INFO flwr 2023-11-29 10:07:47,728 | app.py:229 | app_fit: losses_centralized []\n",
            "INFO:flwr:app_fit: losses_centralized []\n",
            "INFO flwr 2023-11-29 10:07:47,733 | app.py:230 | app_fit: metrics_centralized {}\n",
            "INFO:flwr:app_fit: metrics_centralized {}\n"
          ]
        },
        {
          "output_type": "stream",
          "name": "stdout",
          "text": [
            "\u001b[2m\u001b[36m(DefaultActor pid=7881)\u001b[0m [Client 8] evaluate, config: {}\n"
          ]
        }
      ],
      "source": [
        "# Start simulation\n",
        "median_model_poison_results = fl.simulation.start_simulation(\n",
        "    client_fn=model_poison_client_fn,\n",
        "    num_clients=NUM_CLIENTS,\n",
        "    config=fl.server.ServerConfig(num_rounds=NUM_ROUND),  # Just three rounds\n",
        "    strategy=median_strategy,\n",
        "    client_resources=client_resources,\n",
        ")\n",
        "\n",
        "# Start simulation\n",
        "median_data_poison_results = fl.simulation.start_simulation(\n",
        "    client_fn=data_poison_client_fn,\n",
        "    num_clients=NUM_CLIENTS,\n",
        "    config=fl.server.ServerConfig(num_rounds=NUM_ROUND),  # Just three rounds\n",
        "    strategy=median_strategy,\n",
        "    client_resources=client_resources,\n",
        ")\n",
        "\n",
        "median_clean_results = fl.simulation.start_simulation(\n",
        "    client_fn=benign_client_fn,\n",
        "    num_clients=NUM_CLIENTS,\n",
        "    config=fl.server.ServerConfig(num_rounds=NUM_ROUND),  # Just three rounds\n",
        "    strategy=median_strategy,\n",
        "    client_resources=client_resources,\n",
        ")\n",
        "\n"
      ]
    },
    {
      "cell_type": "code",
      "execution_count": 14,
      "metadata": {
        "id": "Ng-LksD-mdsR",
        "colab": {
          "base_uri": "https://localhost:8080/",
          "height": 467
        },
        "outputId": "9ee29fb3-2d82-4fae-b834-a6c1cb8f9168"
      },
      "outputs": [
        {
          "output_type": "execute_result",
          "data": {
            "text/plain": [
              "<matplotlib.legend.Legend at 0x7cdbb3856920>"
            ]
          },
          "metadata": {},
          "execution_count": 14
        },
        {
          "output_type": "display_data",
          "data": {
            "text/plain": [
              "<Figure size 640x480 with 1 Axes>"
            ],
            "image/png": "[encoded data removed]"
          },
          "metadata": {}
        }
      ],
      "source": [
        "# Helping function\n",
        "poisoned_accuracy = data_poison_results.metrics_distributed[\"accuracy\"]\n",
        "clean_accuracy = clean_results.metrics_distributed[\"accuracy\"]\n",
        "model_poison_accuracy = model_poison_results.metrics_distributed[\"accuracy\"]\n",
        "\n",
        "median_poisoned_accuracy = median_data_poison_results.metrics_distributed[\"accuracy\"]\n",
        "median_model_poisoned_accuracy = median_model_poison_results.metrics_distributed[\"accuracy\"]\n",
        "median_clean_accuracy = median_clean_results.metrics_distributed[\"accuracy\"]\n",
        "\n",
        "\n",
        "\n",
        "x= [i for i in range(NUM_ROUND)]\n",
        "plt.plot(x,[model_poison_accuracy[i][1] for i in range(NUM_ROUND)], label=\"Model poisoning (FedAvg)\" , color=\"blue\", ls = \"-.\")\n",
        "plt.plot(x,[poisoned_accuracy[i][1] for i in range(NUM_ROUND)], label=\"Data poisoning (FedAvg)\", color=\"blue\", ls = \"--\")\n",
        "plt.plot(x,[clean_accuracy[i][1] for i in range(NUM_ROUND)], label=\"Benign Setting (FedAvg)\", color=\"blue\")\n",
        "\n",
        "plt.plot(x,[median_model_poisoned_accuracy[i][1] for i in range(NUM_ROUND)], label=\"Model poisoning (Median)\" , color=\"green\", ls = \"-.\")\n",
        "plt.plot(x,[median_poisoned_accuracy[i][1] for i in range(NUM_ROUND)], label=\"Data poisoning (Median)\", color=\"green\", ls = \"--\")\n",
        "plt.plot(x,[median_clean_accuracy[i][1] for i in range(NUM_ROUND)], label=\"Benign Setting (Median)\", color=\"green\")\n",
        "plt.xlabel(\"Communication Round\")\n",
        "plt.ylabel(\"Test Accuracy\")\n",
        "plt.legend()"
      ]
    },
    {
      "cell_type": "markdown",
      "metadata": {
        "id": "nxPfy2NAmdsS"
      },
      "source": [
        "#### Q2.1: Answer the following questions in your report:\n",
        "1. Does your attack work under the FL with median aggregation? Why?\n",
        "2. Are there any performance drop when using median aggregation compared to mean in the benign setting?\n",
        "3. What if you increase the number of malicious clients to 5? Does your attack work (i.e., changing `NUM_ADVERSARY` to 5)? Why?"
      ]
    },
    {
      "cell_type": "markdown",
      "metadata": {
        "id": "xwJYABccmdsS"
      },
      "source": [
        "##### Report"
      ]
    },
    {
      "cell_type": "markdown",
      "metadata": {
        "id": "Eyh_PqEvmdsS"
      },
      "source": [
        "1. Eventhough there is some acuuracy drop due to the attacks, both data and model poisoning attacks do not work that well under FL with median aggregation. This is because median aggregation is much more rubust than mean aggregation. Even in the case of huge updates (poisonous or outliers), median doesn't shift, whereas mean shifs drastically. Thus, in every communication round, the updates to the parameters are same as what they would've been in the benign setting.\n",
        "\n",
        "2. Looking at the graph above, there seems to be slight performance drop when using median aggregation compared to mean in the benign setting. However, in multiple runs or multiple communication rounds, the accuracy would more or less converge to be the same.\n",
        "\n",
        "3. When `NUM_ADVERSARY = 5`, i.e., 50% of the clients are malicious, both data and model poisoning attacks work. In both the cases, the poisonous updates to the parameters are due to 50% of the clients. Thus, this shifts the median of all the clients' parameters significantly. Therefore, it is possible that in many communication rounds, the true parameter updates are treated as outliers and updation happens in the direction of poisonous parameters."
      ]
    },
    {
      "cell_type": "markdown",
      "source": [
        "### Adaptive Attack"
      ],
      "metadata": {
        "id": "YR5g8ILLFJEZ"
      }
    },
    {
      "cell_type": "markdown",
      "metadata": {
        "id": "TDHjC0J_mdsT"
      },
      "source": [
        "#### Q2.2: Design your adaptive attack\n",
        "Suppose the adversary can control only 4 clients out of 10 and knows that the server will apply median aggregation to filter out malicious updates. Can you design an adaptive attack?"
      ]
    },
    {
      "cell_type": "code",
      "execution_count": 15,
      "metadata": {
        "id": "hLpO9XzmmdsT"
      },
      "outputs": [],
      "source": [
        "NUM_ADVERSARY = 4\n",
        "ADVERSARY_CID = [i for i in range(NUM_ADVERSARY)] # define the client index for malicious clients"
      ]
    },
    {
      "cell_type": "code",
      "execution_count": 21,
      "metadata": {
        "id": "pWIhWY5ImdsT",
        "colab": {
          "base_uri": "https://localhost:8080/"
        },
        "outputId": "b8558ff6-cff8-4b82-cb62-429ef93dbfda"
      },
      "outputs": [
        {
          "output_type": "stream",
          "name": "stderr",
          "text": [
            "INFO flwr 2023-11-29 10:18:19,545 | app.py:178 | Starting Flower simulation, config: ServerConfig(num_rounds=5, round_timeout=None)\n",
            "INFO:flwr:Starting Flower simulation, config: ServerConfig(num_rounds=5, round_timeout=None)\n",
            "2023-11-29 10:18:25,066\tINFO worker.py:1621 -- Started a local Ray instance.\n",
            "INFO flwr 2023-11-29 10:18:27,726 | app.py:213 | Flower VCE: Ray initialized with resources: {'GPU': 1.0, 'node:172.28.0.12': 1.0, 'object_store_memory': 3931962163.0, 'node:__internal_head__': 1.0, 'CPU': 2.0, 'memory': 7863924327.0}\n",
            "INFO:flwr:Flower VCE: Ray initialized with resources: {'GPU': 1.0, 'node:172.28.0.12': 1.0, 'object_store_memory': 3931962163.0, 'node:__internal_head__': 1.0, 'CPU': 2.0, 'memory': 7863924327.0}\n",
            "INFO flwr 2023-11-29 10:18:27,740 | app.py:219 | Optimize your simulation with Flower VCE: https://flower.dev/docs/framework/how-to-run-simulations.html\n",
            "INFO:flwr:Optimize your simulation with Flower VCE: https://flower.dev/docs/framework/how-to-run-simulations.html\n",
            "INFO flwr 2023-11-29 10:18:27,741 | app.py:242 | Flower VCE: Resources for each Virtual Client: {'num_gpus': 1, 'num_cpus': 1}\n",
            "INFO:flwr:Flower VCE: Resources for each Virtual Client: {'num_gpus': 1, 'num_cpus': 1}\n",
            "INFO flwr 2023-11-29 10:18:27,793 | app.py:288 | Flower VCE: Creating VirtualClientEngineActorPool with 1 actors\n",
            "INFO:flwr:Flower VCE: Creating VirtualClientEngineActorPool with 1 actors\n",
            "INFO flwr 2023-11-29 10:18:27,799 | server.py:89 | Initializing global parameters\n",
            "INFO:flwr:Initializing global parameters\n",
            "INFO flwr 2023-11-29 10:18:27,803 | server.py:276 | Requesting initial parameters from one random client\n",
            "INFO:flwr:Requesting initial parameters from one random client\n",
            "INFO flwr 2023-11-29 10:18:34,478 | server.py:280 | Received initial parameters from one random client\n",
            "INFO:flwr:Received initial parameters from one random client\n",
            "INFO flwr 2023-11-29 10:18:34,482 | server.py:91 | Evaluating initial parameters\n",
            "INFO:flwr:Evaluating initial parameters\n",
            "INFO flwr 2023-11-29 10:18:34,485 | server.py:104 | FL starting\n",
            "INFO:flwr:FL starting\n",
            "DEBUG flwr 2023-11-29 10:18:34,487 | server.py:222 | fit_round 1: strategy sampled 10 clients (out of 10)\n",
            "DEBUG:flwr:fit_round 1: strategy sampled 10 clients (out of 10)\n"
          ]
        },
        {
          "output_type": "stream",
          "name": "stdout",
          "text": [
            "\u001b[2m\u001b[36m(DefaultActor pid=12563)\u001b[0m [Client 8] get_parameters\n",
            "\u001b[2m\u001b[36m(DefaultActor pid=12563)\u001b[0m [Poisoning Client 0] fit, config: {}\n",
            "\u001b[2m\u001b[36m(DefaultActor pid=12563)\u001b[0m [Client 9] fit, config: {}\n",
            "\u001b[2m\u001b[36m(DefaultActor pid=12563)\u001b[0m Epoch 1: train loss 0.0637141689658165, accuracy 0.24933333333333332\n",
            "\u001b[2m\u001b[36m(DefaultActor pid=12563)\u001b[0m [Client 8] fit, config: {}\n",
            "\u001b[2m\u001b[36m(DefaultActor pid=12563)\u001b[0m Epoch 1: train loss 0.06326887756586075, accuracy 0.2531111111111111\n",
            "\u001b[2m\u001b[36m(DefaultActor pid=12563)\u001b[0m [Client 4] fit, config: {}\n",
            "\u001b[2m\u001b[36m(DefaultActor pid=12563)\u001b[0m Epoch 1: train loss 0.06434565782546997, accuracy 0.2328888888888889\n",
            "\u001b[2m\u001b[36m(DefaultActor pid=12563)\u001b[0m [Client 7] fit, config: {}\n",
            "\u001b[2m\u001b[36m(DefaultActor pid=12563)\u001b[0m Epoch 1: train loss 0.06301471590995789, accuracy 0.25\n",
            "\u001b[2m\u001b[36m(DefaultActor pid=12563)\u001b[0m [Client 6] fit, config: {}\n",
            "\u001b[2m\u001b[36m(DefaultActor pid=12563)\u001b[0m Epoch 1: train loss 0.06370934098958969, accuracy 0.24\n",
            "\u001b[2m\u001b[36m(DefaultActor pid=12563)\u001b[0m [Client 5] fit, config: {}\n",
            "\u001b[2m\u001b[36m(DefaultActor pid=12563)\u001b[0m Epoch 1: train loss 0.0644533634185791, accuracy 0.22844444444444445\n",
            "\u001b[2m\u001b[36m(DefaultActor pid=12563)\u001b[0m [Poisoning Client 2] fit, config: {}\n"
          ]
        },
        {
          "output_type": "stream",
          "name": "stderr",
          "text": [
            "DEBUG flwr 2023-11-29 10:18:59,246 | server.py:236 | fit_round 1 received 10 results and 0 failures\n",
            "DEBUG:flwr:fit_round 1 received 10 results and 0 failures\n"
          ]
        },
        {
          "output_type": "stream",
          "name": "stdout",
          "text": [
            "\u001b[2m\u001b[36m(DefaultActor pid=12563)\u001b[0m [Poisoning Client 1] fit, config: {}\n"
          ]
        },
        {
          "output_type": "stream",
          "name": "stderr",
          "text": [
            "DEBUG flwr 2023-11-29 10:18:59,285 | server.py:173 | evaluate_round 1: strategy sampled 10 clients (out of 10)\n",
            "DEBUG:flwr:evaluate_round 1: strategy sampled 10 clients (out of 10)\n"
          ]
        },
        {
          "output_type": "stream",
          "name": "stdout",
          "text": [
            "\u001b[2m\u001b[36m(DefaultActor pid=12563)\u001b[0m [Poisoning Client 3] fit, config: {}\n",
            "\u001b[2m\u001b[36m(DefaultActor pid=12563)\u001b[0m [Client 8] evaluate, config: {}\n",
            "\u001b[2m\u001b[36m(DefaultActor pid=12563)\u001b[0m [Client 9] evaluate, config: {}\n",
            "\u001b[2m\u001b[36m(DefaultActor pid=12563)\u001b[0m [Client 4] evaluate, config: {}\n",
            "\u001b[2m\u001b[36m(DefaultActor pid=12563)\u001b[0m [Client 0] evaluate, config: {}\n",
            "\u001b[2m\u001b[36m(DefaultActor pid=12563)\u001b[0m [Client 7] evaluate, config: {}\n",
            "\u001b[2m\u001b[36m(DefaultActor pid=12563)\u001b[0m [Client 3] evaluate, config: {}\n",
            "\u001b[2m\u001b[36m(DefaultActor pid=12563)\u001b[0m [Client 1] evaluate, config: {}\n",
            "\u001b[2m\u001b[36m(DefaultActor pid=12563)\u001b[0m [Client 5] evaluate, config: {}\n",
            "\u001b[2m\u001b[36m(DefaultActor pid=12563)\u001b[0m [Client 6] evaluate, config: {}\n"
          ]
        },
        {
          "output_type": "stream",
          "name": "stderr",
          "text": [
            "DEBUG flwr 2023-11-29 10:19:15,095 | server.py:187 | evaluate_round 1 received 10 results and 0 failures\n",
            "DEBUG:flwr:evaluate_round 1 received 10 results and 0 failures\n",
            "DEBUG flwr 2023-11-29 10:19:15,098 | server.py:222 | fit_round 2: strategy sampled 10 clients (out of 10)\n",
            "DEBUG:flwr:fit_round 2: strategy sampled 10 clients (out of 10)\n"
          ]
        },
        {
          "output_type": "stream",
          "name": "stdout",
          "text": [
            "\u001b[2m\u001b[36m(DefaultActor pid=12563)\u001b[0m [Client 2] evaluate, config: {}\n",
            "\u001b[2m\u001b[36m(DefaultActor pid=12563)\u001b[0m [Poisoning Client 3] fit, config: {}\n",
            "\u001b[2m\u001b[36m(DefaultActor pid=12563)\u001b[0m [Client 8] fit, config: {}\n",
            "\u001b[2m\u001b[36m(DefaultActor pid=12563)\u001b[0m Epoch 1: train loss 0.05778122320771217, accuracy 0.326\n",
            "\u001b[2m\u001b[36m(DefaultActor pid=12563)\u001b[0m [Client 4] fit, config: {}\n",
            "\u001b[2m\u001b[36m(DefaultActor pid=12563)\u001b[0m Epoch 1: train loss 0.05770958960056305, accuracy 0.3184444444444444\n",
            "\u001b[2m\u001b[36m(DefaultActor pid=12563)\u001b[0m [Poisoning Client 0] fit, config: {}\n",
            "\u001b[2m\u001b[36m(DefaultActor pid=12563)\u001b[0m [Client 7] fit, config: {}\n",
            "\u001b[2m\u001b[36m(DefaultActor pid=12563)\u001b[0m Epoch 1: train loss 0.05674393102526665, accuracy 0.3288888888888889\n",
            "\u001b[2m\u001b[36m(DefaultActor pid=12563)\u001b[0m [Client 9] fit, config: {}\n",
            "\u001b[2m\u001b[36m(DefaultActor pid=12563)\u001b[0m Epoch 1: train loss 0.05820998176932335, accuracy 0.314\n",
            "\u001b[2m\u001b[36m(DefaultActor pid=12563)\u001b[0m [Poisoning Client 2] fit, config: {}\n",
            "\u001b[2m\u001b[36m(DefaultActor pid=12563)\u001b[0m [Client 6] fit, config: {}\n",
            "\u001b[2m\u001b[36m(DefaultActor pid=12563)\u001b[0m Epoch 1: train loss 0.058447111397981644, accuracy 0.31244444444444447\n",
            "\u001b[2m\u001b[36m(DefaultActor pid=12563)\u001b[0m [Poisoning Client 1] fit, config: {}\n",
            "\u001b[2m\u001b[36m(DefaultActor pid=12563)\u001b[0m [Client 5] fit, config: {}\n"
          ]
        },
        {
          "output_type": "stream",
          "name": "stderr",
          "text": [
            "DEBUG flwr 2023-11-29 10:19:37,905 | server.py:236 | fit_round 2 received 10 results and 0 failures\n",
            "DEBUG:flwr:fit_round 2 received 10 results and 0 failures\n",
            "DEBUG flwr 2023-11-29 10:19:37,938 | server.py:173 | evaluate_round 2: strategy sampled 10 clients (out of 10)\n",
            "DEBUG:flwr:evaluate_round 2: strategy sampled 10 clients (out of 10)\n"
          ]
        },
        {
          "output_type": "stream",
          "name": "stdout",
          "text": [
            "\u001b[2m\u001b[36m(DefaultActor pid=12563)\u001b[0m Epoch 1: train loss 0.058022551238536835, accuracy 0.32422222222222224\n",
            "\u001b[2m\u001b[36m(DefaultActor pid=12563)\u001b[0m [Client 8] evaluate, config: {}\n",
            "\u001b[2m\u001b[36m(DefaultActor pid=12563)\u001b[0m [Client 2] evaluate, config: {}\n",
            "\u001b[2m\u001b[36m(DefaultActor pid=12563)\u001b[0m [Client 7] evaluate, config: {}\n",
            "\u001b[2m\u001b[36m(DefaultActor pid=12563)\u001b[0m [Client 6] evaluate, config: {}\n",
            "\u001b[2m\u001b[36m(DefaultActor pid=12563)\u001b[0m [Client 0] evaluate, config: {}\n",
            "\u001b[2m\u001b[36m(DefaultActor pid=12563)\u001b[0m [Client 9] evaluate, config: {}\n",
            "\u001b[2m\u001b[36m(DefaultActor pid=12563)\u001b[0m [Client 1] evaluate, config: {}\n",
            "\u001b[2m\u001b[36m(DefaultActor pid=12563)\u001b[0m [Client 4] evaluate, config: {}\n",
            "\u001b[2m\u001b[36m(DefaultActor pid=12563)\u001b[0m [Client 5] evaluate, config: {}\n"
          ]
        },
        {
          "output_type": "stream",
          "name": "stderr",
          "text": [
            "DEBUG flwr 2023-11-29 10:19:53,794 | server.py:187 | evaluate_round 2 received 10 results and 0 failures\n",
            "DEBUG:flwr:evaluate_round 2 received 10 results and 0 failures\n",
            "DEBUG flwr 2023-11-29 10:19:53,798 | server.py:222 | fit_round 3: strategy sampled 10 clients (out of 10)\n",
            "DEBUG:flwr:fit_round 3: strategy sampled 10 clients (out of 10)\n"
          ]
        },
        {
          "output_type": "stream",
          "name": "stdout",
          "text": [
            "\u001b[2m\u001b[36m(DefaultActor pid=12563)\u001b[0m [Client 3] evaluate, config: {}\n",
            "\u001b[2m\u001b[36m(DefaultActor pid=12563)\u001b[0m [Client 8] fit, config: {}\n",
            "\u001b[2m\u001b[36m(DefaultActor pid=12563)\u001b[0m Epoch 1: train loss 0.053353581577539444, accuracy 0.37133333333333335\n",
            "\u001b[2m\u001b[36m(DefaultActor pid=12563)\u001b[0m [Poisoning Client 0] fit, config: {}\n",
            "\u001b[2m\u001b[36m(DefaultActor pid=12563)\u001b[0m [Client 6] fit, config: {}\n",
            "\u001b[2m\u001b[36m(DefaultActor pid=12563)\u001b[0m Epoch 1: train loss 0.0550675205886364, accuracy 0.3486666666666667\n",
            "\u001b[2m\u001b[36m(DefaultActor pid=12563)\u001b[0m [Client 5] fit, config: {}\n",
            "\u001b[2m\u001b[36m(DefaultActor pid=12563)\u001b[0m Epoch 1: train loss 0.053887989372015, accuracy 0.36777777777777776\n",
            "\u001b[2m\u001b[36m(DefaultActor pid=12563)\u001b[0m [Client 7] fit, config: {}\n",
            "\u001b[2m\u001b[36m(DefaultActor pid=12563)\u001b[0m Epoch 1: train loss 0.05284660682082176, accuracy 0.37244444444444447\n",
            "\u001b[2m\u001b[36m(DefaultActor pid=12563)\u001b[0m [Client 4] fit, config: {}\n",
            "\u001b[2m\u001b[36m(DefaultActor pid=12563)\u001b[0m Epoch 1: train loss 0.05365242063999176, accuracy 0.35844444444444445\n",
            "\u001b[2m\u001b[36m(DefaultActor pid=12563)\u001b[0m [Poisoning Client 1] fit, config: {}\n",
            "\u001b[2m\u001b[36m(DefaultActor pid=12563)\u001b[0m [Client 9] fit, config: {}\n",
            "\u001b[2m\u001b[36m(DefaultActor pid=12563)\u001b[0m Epoch 1: train loss 0.0543418750166893, accuracy 0.35755555555555557\n"
          ]
        },
        {
          "output_type": "stream",
          "name": "stderr",
          "text": [
            "DEBUG flwr 2023-11-29 10:20:17,836 | server.py:236 | fit_round 3 received 10 results and 0 failures\n",
            "DEBUG:flwr:fit_round 3 received 10 results and 0 failures\n"
          ]
        },
        {
          "output_type": "stream",
          "name": "stdout",
          "text": [
            "\u001b[2m\u001b[36m(DefaultActor pid=12563)\u001b[0m [Poisoning Client 3] fit, config: {}\n"
          ]
        },
        {
          "output_type": "stream",
          "name": "stderr",
          "text": [
            "DEBUG flwr 2023-11-29 10:20:17,883 | server.py:173 | evaluate_round 3: strategy sampled 10 clients (out of 10)\n",
            "DEBUG:flwr:evaluate_round 3: strategy sampled 10 clients (out of 10)\n"
          ]
        },
        {
          "output_type": "stream",
          "name": "stdout",
          "text": [
            "\u001b[2m\u001b[36m(DefaultActor pid=12563)\u001b[0m [Poisoning Client 2] fit, config: {}\n",
            "\u001b[2m\u001b[36m(DefaultActor pid=12563)\u001b[0m [Client 9] evaluate, config: {}\n",
            "\u001b[2m\u001b[36m(DefaultActor pid=12563)\u001b[0m [Client 5] evaluate, config: {}\n",
            "\u001b[2m\u001b[36m(DefaultActor pid=12563)\u001b[0m [Client 8] evaluate, config: {}\n",
            "\u001b[2m\u001b[36m(DefaultActor pid=12563)\u001b[0m [Client 4] evaluate, config: {}\n",
            "\u001b[2m\u001b[36m(DefaultActor pid=12563)\u001b[0m [Client 7] evaluate, config: {}\n",
            "\u001b[2m\u001b[36m(DefaultActor pid=12563)\u001b[0m [Client 1] evaluate, config: {}\n",
            "\u001b[2m\u001b[36m(DefaultActor pid=12563)\u001b[0m [Client 0] evaluate, config: {}\n",
            "\u001b[2m\u001b[36m(DefaultActor pid=12563)\u001b[0m [Client 6] evaluate, config: {}\n",
            "\u001b[2m\u001b[36m(DefaultActor pid=12563)\u001b[0m [Client 2] evaluate, config: {}\n"
          ]
        },
        {
          "output_type": "stream",
          "name": "stderr",
          "text": [
            "DEBUG flwr 2023-11-29 10:20:33,734 | server.py:187 | evaluate_round 3 received 10 results and 0 failures\n",
            "DEBUG:flwr:evaluate_round 3 received 10 results and 0 failures\n",
            "DEBUG flwr 2023-11-29 10:20:33,739 | server.py:222 | fit_round 4: strategy sampled 10 clients (out of 10)\n",
            "DEBUG:flwr:fit_round 4: strategy sampled 10 clients (out of 10)\n"
          ]
        },
        {
          "output_type": "stream",
          "name": "stdout",
          "text": [
            "\u001b[2m\u001b[36m(DefaultActor pid=12563)\u001b[0m [Client 3] evaluate, config: {}\n",
            "\u001b[2m\u001b[36m(DefaultActor pid=12563)\u001b[0m [Poisoning Client 2] fit, config: {}\n",
            "\u001b[2m\u001b[36m(DefaultActor pid=12563)\u001b[0m [Client 7] fit, config: {}\n",
            "\u001b[2m\u001b[36m(DefaultActor pid=12563)\u001b[0m Epoch 1: train loss 0.05127711221575737, accuracy 0.3868888888888889\n",
            "\u001b[2m\u001b[36m(DefaultActor pid=12563)\u001b[0m [Client 8] fit, config: {}\n",
            "\u001b[2m\u001b[36m(DefaultActor pid=12563)\u001b[0m Epoch 1: train loss 0.051121775060892105, accuracy 0.396\n",
            "\u001b[2m\u001b[36m(DefaultActor pid=12563)\u001b[0m [Client 9] fit, config: {}\n",
            "\u001b[2m\u001b[36m(DefaultActor pid=12563)\u001b[0m Epoch 1: train loss 0.05234724283218384, accuracy 0.3828888888888889\n",
            "\u001b[2m\u001b[36m(DefaultActor pid=12563)\u001b[0m [Poisoning Client 3] fit, config: {}\n",
            "\u001b[2m\u001b[36m(DefaultActor pid=12563)\u001b[0m [Client 5] fit, config: {}\n",
            "\u001b[2m\u001b[36m(DefaultActor pid=12563)\u001b[0m Epoch 1: train loss 0.0524979792535305, accuracy 0.3788888888888889\n",
            "\u001b[2m\u001b[36m(DefaultActor pid=12563)\u001b[0m [Poisoning Client 1] fit, config: {}\n",
            "\u001b[2m\u001b[36m(DefaultActor pid=12563)\u001b[0m [Client 4] fit, config: {}\n",
            "\u001b[2m\u001b[36m(DefaultActor pid=12563)\u001b[0m Epoch 1: train loss 0.052109524607658386, accuracy 0.39155555555555555\n",
            "\u001b[2m\u001b[36m(DefaultActor pid=12563)\u001b[0m [Poisoning Client 0] fit, config: {}\n",
            "\u001b[2m\u001b[36m(DefaultActor pid=12563)\u001b[0m [Client 6] fit, config: {}\n"
          ]
        },
        {
          "output_type": "stream",
          "name": "stderr",
          "text": [
            "DEBUG flwr 2023-11-29 10:20:57,389 | server.py:236 | fit_round 4 received 10 results and 0 failures\n",
            "DEBUG:flwr:fit_round 4 received 10 results and 0 failures\n",
            "DEBUG flwr 2023-11-29 10:20:57,443 | server.py:173 | evaluate_round 4: strategy sampled 10 clients (out of 10)\n",
            "DEBUG:flwr:evaluate_round 4: strategy sampled 10 clients (out of 10)\n"
          ]
        },
        {
          "output_type": "stream",
          "name": "stdout",
          "text": [
            "\u001b[2m\u001b[36m(DefaultActor pid=12563)\u001b[0m Epoch 1: train loss 0.05314812809228897, accuracy 0.37466666666666665\n",
            "\u001b[2m\u001b[36m(DefaultActor pid=12563)\u001b[0m [Client 9] evaluate, config: {}\n",
            "\u001b[2m\u001b[36m(DefaultActor pid=12563)\u001b[0m [Client 8] evaluate, config: {}\n",
            "\u001b[2m\u001b[36m(DefaultActor pid=12563)\u001b[0m [Client 3] evaluate, config: {}\n",
            "\u001b[2m\u001b[36m(DefaultActor pid=12563)\u001b[0m [Client 6] evaluate, config: {}\n",
            "\u001b[2m\u001b[36m(DefaultActor pid=12563)\u001b[0m [Client 4] evaluate, config: {}\n",
            "\u001b[2m\u001b[36m(DefaultActor pid=12563)\u001b[0m [Client 0] evaluate, config: {}\n",
            "\u001b[2m\u001b[36m(DefaultActor pid=12563)\u001b[0m [Client 7] evaluate, config: {}\n",
            "\u001b[2m\u001b[36m(DefaultActor pid=12563)\u001b[0m [Client 5] evaluate, config: {}\n",
            "\u001b[2m\u001b[36m(DefaultActor pid=12563)\u001b[0m [Client 2] evaluate, config: {}\n"
          ]
        },
        {
          "output_type": "stream",
          "name": "stderr",
          "text": [
            "DEBUG flwr 2023-11-29 10:21:13,464 | server.py:187 | evaluate_round 4 received 10 results and 0 failures\n",
            "DEBUG:flwr:evaluate_round 4 received 10 results and 0 failures\n",
            "DEBUG flwr 2023-11-29 10:21:13,470 | server.py:222 | fit_round 5: strategy sampled 10 clients (out of 10)\n",
            "DEBUG:flwr:fit_round 5: strategy sampled 10 clients (out of 10)\n"
          ]
        },
        {
          "output_type": "stream",
          "name": "stdout",
          "text": [
            "\u001b[2m\u001b[36m(DefaultActor pid=12563)\u001b[0m [Client 1] evaluate, config: {}\n",
            "\u001b[2m\u001b[36m(DefaultActor pid=12563)\u001b[0m [Client 5] fit, config: {}\n",
            "\u001b[2m\u001b[36m(DefaultActor pid=12563)\u001b[0m Epoch 1: train loss 0.05096718668937683, accuracy 0.40555555555555556\n",
            "\u001b[2m\u001b[36m(DefaultActor pid=12563)\u001b[0m [Client 7] fit, config: {}\n",
            "\u001b[2m\u001b[36m(DefaultActor pid=12563)\u001b[0m Epoch 1: train loss 0.04998496174812317, accuracy 0.4073333333333333\n",
            "\u001b[2m\u001b[36m(DefaultActor pid=12563)\u001b[0m [Poisoning Client 1] fit, config: {}\n",
            "\u001b[2m\u001b[36m(DefaultActor pid=12563)\u001b[0m [Client 6] fit, config: {}\n",
            "\u001b[2m\u001b[36m(DefaultActor pid=12563)\u001b[0m Epoch 1: train loss 0.051467981189489365, accuracy 0.39866666666666667\n",
            "\u001b[2m\u001b[36m(DefaultActor pid=12563)\u001b[0m [Client 9] fit, config: {}\n",
            "\u001b[2m\u001b[36m(DefaultActor pid=12563)\u001b[0m Epoch 1: train loss 0.05088282749056816, accuracy 0.39711111111111114\n",
            "\u001b[2m\u001b[36m(DefaultActor pid=12563)\u001b[0m [Client 8] fit, config: {}\n",
            "\u001b[2m\u001b[36m(DefaultActor pid=12563)\u001b[0m Epoch 1: train loss 0.050063032656908035, accuracy 0.4088888888888889\n",
            "\u001b[2m\u001b[36m(DefaultActor pid=12563)\u001b[0m [Poisoning Client 2] fit, config: {}\n",
            "\u001b[2m\u001b[36m(DefaultActor pid=12563)\u001b[0m [Poisoning Client 3] fit, config: {}\n",
            "\u001b[2m\u001b[36m(DefaultActor pid=12563)\u001b[0m [Poisoning Client 0] fit, config: {}\n",
            "\u001b[2m\u001b[36m(DefaultActor pid=12563)\u001b[0m [Client 4] fit, config: {}\n"
          ]
        },
        {
          "output_type": "stream",
          "name": "stderr",
          "text": [
            "DEBUG flwr 2023-11-29 10:21:36,103 | server.py:236 | fit_round 5 received 10 results and 0 failures\n",
            "DEBUG:flwr:fit_round 5 received 10 results and 0 failures\n",
            "DEBUG flwr 2023-11-29 10:21:36,143 | server.py:173 | evaluate_round 5: strategy sampled 10 clients (out of 10)\n",
            "DEBUG:flwr:evaluate_round 5: strategy sampled 10 clients (out of 10)\n"
          ]
        },
        {
          "output_type": "stream",
          "name": "stdout",
          "text": [
            "\u001b[2m\u001b[36m(DefaultActor pid=12563)\u001b[0m Epoch 1: train loss 0.05060907453298569, accuracy 0.4088888888888889\n",
            "\u001b[2m\u001b[36m(DefaultActor pid=12563)\u001b[0m [Client 6] evaluate, config: {}\n",
            "\u001b[2m\u001b[36m(DefaultActor pid=12563)\u001b[0m [Client 9] evaluate, config: {}\n",
            "\u001b[2m\u001b[36m(DefaultActor pid=12563)\u001b[0m [Client 7] evaluate, config: {}\n",
            "\u001b[2m\u001b[36m(DefaultActor pid=12563)\u001b[0m [Client 8] evaluate, config: {}\n",
            "\u001b[2m\u001b[36m(DefaultActor pid=12563)\u001b[0m [Client 2] evaluate, config: {}\n",
            "\u001b[2m\u001b[36m(DefaultActor pid=12563)\u001b[0m [Client 5] evaluate, config: {}\n",
            "\u001b[2m\u001b[36m(DefaultActor pid=12563)\u001b[0m [Client 1] evaluate, config: {}\n",
            "\u001b[2m\u001b[36m(DefaultActor pid=12563)\u001b[0m [Client 4] evaluate, config: {}\n",
            "\u001b[2m\u001b[36m(DefaultActor pid=12563)\u001b[0m [Client 3] evaluate, config: {}\n"
          ]
        },
        {
          "output_type": "stream",
          "name": "stderr",
          "text": [
            "DEBUG flwr 2023-11-29 10:21:52,393 | server.py:187 | evaluate_round 5 received 10 results and 0 failures\n",
            "DEBUG:flwr:evaluate_round 5 received 10 results and 0 failures\n",
            "INFO flwr 2023-11-29 10:21:52,398 | server.py:153 | FL finished in 197.91097190400023\n",
            "INFO:flwr:FL finished in 197.91097190400023\n",
            "INFO flwr 2023-11-29 10:21:52,403 | app.py:226 | app_fit: losses_distributed [(1, 0.06738978586196899), (2, 0.05789067294597626), (3, 0.05459935140609741), (4, 0.053322576951980595), (5, 0.05219246354103089)]\n",
            "INFO:flwr:app_fit: losses_distributed [(1, 0.06738978586196899), (2, 0.05789067294597626), (3, 0.05459935140609741), (4, 0.053322576951980595), (5, 0.05219246354103089)]\n",
            "INFO flwr 2023-11-29 10:21:52,405 | app.py:227 | app_fit: metrics_distributed_fit {}\n",
            "INFO:flwr:app_fit: metrics_distributed_fit {}\n",
            "INFO flwr 2023-11-29 10:21:52,408 | app.py:228 | app_fit: metrics_distributed {'accuracy': [(1, 0.27619999999999995), (2, 0.3342), (3, 0.38039999999999996), (4, 0.39980000000000004), (5, 0.4048)], 'accuracy_per_client': [(1, [0.284, 0.3, 0.256, 0.254, 0.304, 0.256, 0.252, 0.276, 0.288, 0.292]), (2, [0.342, 0.386, 0.324, 0.342, 0.33, 0.302, 0.334, 0.308, 0.332, 0.342]), (3, [0.346, 0.382, 0.374, 0.426, 0.35, 0.368, 0.4, 0.394, 0.402, 0.362]), (4, [0.422, 0.378, 0.362, 0.432, 0.392, 0.376, 0.402, 0.398, 0.43, 0.406]), (5, [0.412, 0.384, 0.434, 0.438, 0.406, 0.43, 0.386, 0.36, 0.402, 0.396])]}\n",
            "INFO:flwr:app_fit: metrics_distributed {'accuracy': [(1, 0.27619999999999995), (2, 0.3342), (3, 0.38039999999999996), (4, 0.39980000000000004), (5, 0.4048)], 'accuracy_per_client': [(1, [0.284, 0.3, 0.256, 0.254, 0.304, 0.256, 0.252, 0.276, 0.288, 0.292]), (2, [0.342, 0.386, 0.324, 0.342, 0.33, 0.302, 0.334, 0.308, 0.332, 0.342]), (3, [0.346, 0.382, 0.374, 0.426, 0.35, 0.368, 0.4, 0.394, 0.402, 0.362]), (4, [0.422, 0.378, 0.362, 0.432, 0.392, 0.376, 0.402, 0.398, 0.43, 0.406]), (5, [0.412, 0.384, 0.434, 0.438, 0.406, 0.43, 0.386, 0.36, 0.402, 0.396])]}\n",
            "INFO flwr 2023-11-29 10:21:52,410 | app.py:229 | app_fit: losses_centralized []\n",
            "INFO:flwr:app_fit: losses_centralized []\n",
            "INFO flwr 2023-11-29 10:21:52,414 | app.py:230 | app_fit: metrics_centralized {}\n",
            "INFO:flwr:app_fit: metrics_centralized {}\n"
          ]
        },
        {
          "output_type": "stream",
          "name": "stdout",
          "text": [
            "\u001b[2m\u001b[36m(DefaultActor pid=12563)\u001b[0m [Client 0] evaluate, config: {}\n"
          ]
        }
      ],
      "source": [
        "import scipy.stats as st\n",
        "\n",
        "def adaptive_train_poisoning_models(net, trainloader, epochs: int):\n",
        "    \"\"\"Train the network on the training set.\"\"\"\n",
        "    criterion = torch.nn.CrossEntropyLoss()\n",
        "    optimizer = torch.optim.Adam(net.parameters())\n",
        "    net.train()\n",
        "    ## TODO: Model Poisoning attack ##\n",
        "\n",
        "    n = NUM_CLIENTS\n",
        "    m = NUM_ADVERSARY\n",
        "\n",
        "    s = np.floor(n/2 + 1) - m\n",
        "    ratio = (n-m-s)/(n-m)\n",
        "    z_max = st.norm.ppf(ratio)\n",
        "\n",
        "    state_dict = net.state_dict()\n",
        "    for name, param in state_dict.items():\n",
        "      if \"weight\" not in name:\n",
        "        continue\n",
        "\n",
        "      # Param shape =\n",
        "      # torch.Size([6, 3, 5, 5]),\n",
        "      # torch.Size([120, 400]),\n",
        "      # torch.Size([84, 120]),\n",
        "      # torch.Size([10, 84])\n",
        "\n",
        "      # print(param.shape)\n",
        "      dims = list(param.shape)\n",
        "      if len(dims) == 4:\n",
        "        var, mean = torch.var_mean(param.cpu(), dim=2, keepdim=True)\n",
        "        param_j = mean - z_max * np.sqrt(var)\n",
        "        param_mal = param_j.repeat(1, 1, dims[2], 1)\n",
        "      else:\n",
        "        var, mean = torch.var_mean(param.cpu(), dim=1, keepdim=True)\n",
        "        param_j = mean - z_max * np.sqrt(var)\n",
        "        param_mal = param_j.repeat(1, dims[1])\n",
        "\n",
        "      param.copy_(param_mal.to(DEVICE))\n",
        "\n",
        "    ##################################\n",
        "\n",
        "class AdaptiveModelPoisonClient(BaseFlowerClient):\n",
        "    def fit(self, parameters, config):\n",
        "        \"\"\"Fit the model using the poisoned training method.\"\"\"\n",
        "        print(f\"[Poisoning Client {self.cid}] fit, config: {config}\")\n",
        "        set_parameters(self.net, parameters)\n",
        "        adaptive_train_poisoning_models(self.net, self.trainloader, epochs=LOCAL_EPOCH)\n",
        "        return get_parameters(self.net), len(self.trainloader), {}\n",
        "\n",
        "\n",
        "def adaptive_client_fn(cid) -> FlowerClient:\n",
        "    net = Net().to(DEVICE)\n",
        "    trainloader = trainloaders[int(cid)]\n",
        "    valloader = valloaders[int(cid)]\n",
        "    if int(cid) in ADVERSARY_CID:  # if the client is an adversary\n",
        "        return AdaptiveModelPoisonClient(cid, net, trainloader, valloader)\n",
        "    return FlowerClient(cid, net, trainloader, valloader)\n",
        "\n",
        "\n",
        "median_adaptive_model_poison_results = fl.simulation.start_simulation(\n",
        "    client_fn=adaptive_client_fn,\n",
        "    num_clients=NUM_CLIENTS,\n",
        "    config=fl.server.ServerConfig(num_rounds=NUM_ROUND),  # Just three rounds\n",
        "    strategy=median_strategy,\n",
        "    client_resources=client_resources,\n",
        ")"
      ]
    },
    {
      "cell_type": "code",
      "execution_count": 17,
      "metadata": {
        "id": "0BqFuSXkmdsT",
        "colab": {
          "base_uri": "https://localhost:8080/",
          "height": 468
        },
        "outputId": "af1c2270-d55c-4de0-b0cb-2fba5765253f"
      },
      "outputs": [
        {
          "output_type": "execute_result",
          "data": {
            "text/plain": [
              "<matplotlib.legend.Legend at 0x7cdbb3920430>"
            ]
          },
          "metadata": {},
          "execution_count": 17
        },
        {
          "output_type": "display_data",
          "data": {
            "text/plain": [
              "<Figure size 640x480 with 1 Axes>"
            ],
            "image/png": "[encoded data removed]"
          },
          "metadata": {}
        }
      ],
      "source": [
        "# Helping function\n",
        "\n",
        "median_adaptive_model_poison = median_adaptive_model_poison_results.metrics_distributed[\"accuracy\"]\n",
        "\n",
        "x = [i for i in range(NUM_ROUND)]\n",
        "plt.plot(\n",
        "    x,\n",
        "    [median_poisoned_accuracy[i][1] for i in range(NUM_ROUND)],\n",
        "    label=\"Model poisoning (Median)\",\n",
        "    color=\"blue\",\n",
        "    ls='-.'\n",
        ")\n",
        "plt.plot(\n",
        "    x,\n",
        "    [median_clean_accuracy[i][1] for i in range(NUM_ROUND)],\n",
        "    label=\"Benign Setting (Median)\",\n",
        "    color=\"blue\",\n",
        ")\n",
        "\n",
        "plt.plot(\n",
        "    x,\n",
        "    [median_adaptive_model_poison[i][1] for i in range(NUM_ROUND)],\n",
        "    label=\"Adaptive Model poisoning (Median)\",\n",
        "    color=\"red\",\n",
        "    ls='-.'\n",
        ")\n",
        "plt.xlabel(\"Communication Round\")\n",
        "plt.ylabel(\"Test Accuracy\")\n",
        "plt.legend()"
      ]
    },
    {
      "cell_type": "markdown",
      "metadata": {
        "id": "EpXBXr67mdsU"
      },
      "source": [
        "#### Q2.3: Answer the following questions in your report:\n",
        "1. Please explain your attack design and the rationale behind it"
      ]
    },
    {
      "cell_type": "markdown",
      "metadata": {
        "id": "l33U6YQmmdsU"
      },
      "source": [
        "#### Report\n",
        "\n",
        "The attack design is based on [1].\n",
        "\n",
        "- Statistical defense mechanisms are designed to discard values that are too far away from the mean. We thus seek a range in which we can deviate from the mean without being detected. Since normal distribution is symmetric, the same value $z_{max}$ will set the lower and upper bounds for the applicable changes around the mean.\n",
        "\n",
        "- In order to change the value produced by the aggregation rule, the attacker should control a majority of the workers. The attacker can attain this majority by finding the minimal number $s$ of non-corrupted workers that are required as “supporters”.\n",
        "\n",
        "- The attacker will then use properties of the Cumulative Standard Normal Function $\\phi(z)$, and look for the maximal value $z_{max}$ such that $s$ non-corrupted workers will reside farther away from the mean, hence preferring the selection of the poisonous parameters instead of the more distant correct mean.\n",
        "\n",
        "- By setting all corrupted workers to values in the range $(\\mu - z_{max}*\\sigma, \\mu + z_{max}*\\sigma)$, the defenses will not be able to differentiate the corrupted workers from the benign.\n",
        "\n",
        "This attack works for the following reason:\n",
        "\n",
        "- Most existing defenses for distributed learning work under the assumption that changes which are upper-bounded by an order of the variance of the correct workers cannot satisfy a malicious objective. Given this last assumption, those defenses use statistics-based methods to clear away the large changes and prevent attacks.\n",
        "\n",
        "- However, the experimental variance between the different workers is high enough so that by carefully crafting byzantine values that are as far as possible from the correct ones, yet within the bounds of existing defenses, we are capable of gaining control over the training process.\n",
        "\n",
        "- The high variance even on simple deep learning tasks, along with the high skewness induced by putting all the Byzantine workers on the same side in our attack is enough for the attacker to hide Byzantine workers within the variance of the correct workers, and still gain control over the training process.\n",
        "\n",
        "\n",
        "#### References:\n",
        "\n",
        "[1] Gilad Baruch, Moran Baruch, and Yoav Goldberg. A little is enough: Circumvent- ing defenses for distributed learning. Advances in Neural Information Processing Systems, 32, 2019.\n",
        "\n",
        "**NOTE: My initial model poisoning attack also works well with `NUM_ADVERSARY=4`. This is because the median starts to shift away significantly from the true median with increasing corrupted clients. Please see the training and corresponding graph below.**\n"
      ]
    },
    {
      "cell_type": "code",
      "source": [
        "import scipy.stats as st\n",
        "\n",
        "def adaptive_train_poisoning_models(net, trainloader, epochs: int):\n",
        "    \"\"\"Train the network on the training set.\"\"\"\n",
        "    criterion = torch.nn.CrossEntropyLoss()\n",
        "    optimizer = torch.optim.Adam(net.parameters())\n",
        "    net.train()\n",
        "    ## TODO: Model Poisoning attack ##\n",
        "\n",
        "    for epoch in range(epochs):\n",
        "        correct, total, epoch_loss = 0, 0, 0.0\n",
        "        for images, labels in trainloader:\n",
        "            images = images.to(DEVICE)\n",
        "            labels = labels.to(DEVICE)\n",
        "\n",
        "            optimizer.zero_grad()\n",
        "\n",
        "            outputs = net(images)\n",
        "            loss = -criterion(outputs, labels)\n",
        "\n",
        "            loss.backward()\n",
        "            optimizer.step()\n",
        "\n",
        "            epoch_loss += loss\n",
        "            total += labels.size(0)\n",
        "            correct += (torch.max(outputs.data, 1)[1] == labels).sum().item()\n",
        "        epoch_loss /= len(trainloader.dataset)\n",
        "        epoch_acc = correct / total\n",
        "        print(f\"Epoch {epoch+1}: train loss {epoch_loss}, accuracy {epoch_acc}\")\n",
        "\n",
        "    ##################################\n",
        "\n",
        "class AdaptiveModelPoisonClient(BaseFlowerClient):\n",
        "    def fit(self, parameters, config):\n",
        "        \"\"\"Fit the model using the poisoned training method.\"\"\"\n",
        "        print(f\"[Poisoning Client {self.cid}] fit, config: {config}\")\n",
        "        set_parameters(self.net, parameters)\n",
        "        adaptive_train_poisoning_models(self.net, self.trainloader, epochs=LOCAL_EPOCH)\n",
        "        return get_parameters(self.net), len(self.trainloader), {}\n",
        "\n",
        "\n",
        "def adaptive_client_fn(cid) -> FlowerClient:\n",
        "    net = Net().to(DEVICE)\n",
        "    trainloader = trainloaders[int(cid)]\n",
        "    valloader = valloaders[int(cid)]\n",
        "    if int(cid) in ADVERSARY_CID:  # if the client is an adversary\n",
        "        return AdaptiveModelPoisonClient(cid, net, trainloader, valloader)\n",
        "    return FlowerClient(cid, net, trainloader, valloader)\n",
        "\n",
        "\n",
        "median_adaptive_model_poison_results = fl.simulation.start_simulation(\n",
        "    client_fn=adaptive_client_fn,\n",
        "    num_clients=NUM_CLIENTS,\n",
        "    config=fl.server.ServerConfig(num_rounds=NUM_ROUND),  # Just three rounds\n",
        "    strategy=median_strategy,\n",
        "    client_resources=client_resources,\n",
        ")"
      ],
      "metadata": {
        "colab": {
          "base_uri": "https://localhost:8080/"
        },
        "id": "2UvGpDyHcClW",
        "outputId": "f4a992c4-f5be-473e-f2a8-e527ee71ab6a"
      },
      "execution_count": 18,
      "outputs": [
        {
          "output_type": "stream",
          "name": "stderr",
          "text": [
            "INFO flwr 2023-11-29 10:11:42,301 | app.py:178 | Starting Flower simulation, config: ServerConfig(num_rounds=5, round_timeout=None)\n",
            "INFO:flwr:Starting Flower simulation, config: ServerConfig(num_rounds=5, round_timeout=None)\n",
            "2023-11-29 10:11:46,576\tINFO worker.py:1621 -- Started a local Ray instance.\n",
            "INFO flwr 2023-11-29 10:11:48,666 | app.py:213 | Flower VCE: Ray initialized with resources: {'memory': 7866635060.0, 'CPU': 2.0, 'object_store_memory': 3933317529.0, 'node:172.28.0.12': 1.0, 'GPU': 1.0, 'node:__internal_head__': 1.0}\n",
            "INFO:flwr:Flower VCE: Ray initialized with resources: {'memory': 7866635060.0, 'CPU': 2.0, 'object_store_memory': 3933317529.0, 'node:172.28.0.12': 1.0, 'GPU': 1.0, 'node:__internal_head__': 1.0}\n",
            "INFO flwr 2023-11-29 10:11:48,673 | app.py:219 | Optimize your simulation with Flower VCE: https://flower.dev/docs/framework/how-to-run-simulations.html\n",
            "INFO:flwr:Optimize your simulation with Flower VCE: https://flower.dev/docs/framework/how-to-run-simulations.html\n",
            "INFO flwr 2023-11-29 10:11:48,675 | app.py:242 | Flower VCE: Resources for each Virtual Client: {'num_gpus': 1, 'num_cpus': 1}\n",
            "INFO:flwr:Flower VCE: Resources for each Virtual Client: {'num_gpus': 1, 'num_cpus': 1}\n",
            "INFO flwr 2023-11-29 10:11:48,748 | app.py:288 | Flower VCE: Creating VirtualClientEngineActorPool with 1 actors\n",
            "INFO:flwr:Flower VCE: Creating VirtualClientEngineActorPool with 1 actors\n",
            "INFO flwr 2023-11-29 10:11:48,752 | server.py:89 | Initializing global parameters\n",
            "INFO:flwr:Initializing global parameters\n",
            "INFO flwr 2023-11-29 10:11:48,755 | server.py:276 | Requesting initial parameters from one random client\n",
            "INFO:flwr:Requesting initial parameters from one random client\n",
            "INFO flwr 2023-11-29 10:11:57,421 | server.py:280 | Received initial parameters from one random client\n",
            "INFO:flwr:Received initial parameters from one random client\n",
            "INFO flwr 2023-11-29 10:11:57,429 | server.py:91 | Evaluating initial parameters\n",
            "INFO:flwr:Evaluating initial parameters\n",
            "INFO flwr 2023-11-29 10:11:57,434 | server.py:104 | FL starting\n",
            "INFO:flwr:FL starting\n",
            "DEBUG flwr 2023-11-29 10:11:57,436 | server.py:222 | fit_round 1: strategy sampled 10 clients (out of 10)\n",
            "DEBUG:flwr:fit_round 1: strategy sampled 10 clients (out of 10)\n"
          ]
        },
        {
          "output_type": "stream",
          "name": "stdout",
          "text": [
            "\u001b[2m\u001b[36m(DefaultActor pid=10416)\u001b[0m [Client 3] get_parameters\n",
            "\u001b[2m\u001b[36m(DefaultActor pid=10416)\u001b[0m [Client 6] fit, config: {}\n",
            "\u001b[2m\u001b[36m(DefaultActor pid=10416)\u001b[0m Epoch 1: train loss 0.06492426991462708, accuracy 0.21888888888888888\n",
            "\u001b[2m\u001b[36m(DefaultActor pid=10416)\u001b[0m [Client 8] fit, config: {}\n",
            "\u001b[2m\u001b[36m(DefaultActor pid=10416)\u001b[0m Epoch 1: train loss 0.06388963013887405, accuracy 0.2291111111111111\n",
            "\u001b[2m\u001b[36m(DefaultActor pid=10416)\u001b[0m [Client 5] fit, config: {}\n",
            "\u001b[2m\u001b[36m(DefaultActor pid=10416)\u001b[0m Epoch 1: train loss 0.06524383276700974, accuracy 0.21733333333333332\n",
            "\u001b[2m\u001b[36m(DefaultActor pid=10416)\u001b[0m [Client 4] fit, config: {}\n",
            "\u001b[2m\u001b[36m(DefaultActor pid=10416)\u001b[0m Epoch 1: train loss 0.06434666365385056, accuracy 0.21488888888888888\n",
            "\u001b[2m\u001b[36m(DefaultActor pid=10416)\u001b[0m [Poisoning Client 1] fit, config: {}\n",
            "\u001b[2m\u001b[36m(DefaultActor pid=10416)\u001b[0m Epoch 1: train loss -9976.955078125, accuracy 0.09533333333333334\n",
            "\u001b[2m\u001b[36m(DefaultActor pid=10416)\u001b[0m [Poisoning Client 0] fit, config: {}\n",
            "\u001b[2m\u001b[36m(DefaultActor pid=10416)\u001b[0m Epoch 1: train loss -9403.4853515625, accuracy 0.09977777777777778\n",
            "\u001b[2m\u001b[36m(DefaultActor pid=10416)\u001b[0m [Poisoning Client 3] fit, config: {}\n",
            "\u001b[2m\u001b[36m(DefaultActor pid=10416)\u001b[0m Epoch 1: train loss -10399.0869140625, accuracy 0.09866666666666667\n",
            "\u001b[2m\u001b[36m(DefaultActor pid=10416)\u001b[0m [Client 9] fit, config: {}\n",
            "\u001b[2m\u001b[36m(DefaultActor pid=10416)\u001b[0m Epoch 1: train loss 0.0643923282623291, accuracy 0.22755555555555557\n",
            "\u001b[2m\u001b[36m(DefaultActor pid=10416)\u001b[0m [Client 7] fit, config: {}\n",
            "\u001b[2m\u001b[36m(DefaultActor pid=10416)\u001b[0m Epoch 1: train loss 0.06380647420883179, accuracy 0.23422222222222222\n",
            "\u001b[2m\u001b[36m(DefaultActor pid=10416)\u001b[0m [Poisoning Client 2] fit, config: {}\n"
          ]
        },
        {
          "output_type": "stream",
          "name": "stderr",
          "text": [
            "DEBUG flwr 2023-11-29 10:12:27,438 | server.py:236 | fit_round 1 received 10 results and 0 failures\n",
            "DEBUG:flwr:fit_round 1 received 10 results and 0 failures\n",
            "DEBUG flwr 2023-11-29 10:12:27,488 | server.py:173 | evaluate_round 1: strategy sampled 10 clients (out of 10)\n",
            "DEBUG:flwr:evaluate_round 1: strategy sampled 10 clients (out of 10)\n"
          ]
        },
        {
          "output_type": "stream",
          "name": "stdout",
          "text": [
            "\u001b[2m\u001b[36m(DefaultActor pid=10416)\u001b[0m Epoch 1: train loss -9749.3486328125, accuracy 0.09977777777777778\n",
            "\u001b[2m\u001b[36m(DefaultActor pid=10416)\u001b[0m [Client 1] evaluate, config: {}\n",
            "\u001b[2m\u001b[36m(DefaultActor pid=10416)\u001b[0m [Client 8] evaluate, config: {}\n",
            "\u001b[2m\u001b[36m(DefaultActor pid=10416)\u001b[0m [Client 6] evaluate, config: {}\n",
            "\u001b[2m\u001b[36m(DefaultActor pid=10416)\u001b[0m [Client 5] evaluate, config: {}\n",
            "\u001b[2m\u001b[36m(DefaultActor pid=10416)\u001b[0m [Client 2] evaluate, config: {}\n",
            "\u001b[2m\u001b[36m(DefaultActor pid=10416)\u001b[0m [Client 3] evaluate, config: {}\n",
            "\u001b[2m\u001b[36m(DefaultActor pid=10416)\u001b[0m [Client 7] evaluate, config: {}\n",
            "\u001b[2m\u001b[36m(DefaultActor pid=10416)\u001b[0m [Client 0] evaluate, config: {}\n",
            "\u001b[2m\u001b[36m(DefaultActor pid=10416)\u001b[0m [Client 4] evaluate, config: {}\n"
          ]
        },
        {
          "output_type": "stream",
          "name": "stderr",
          "text": [
            "DEBUG flwr 2023-11-29 10:12:43,329 | server.py:187 | evaluate_round 1 received 10 results and 0 failures\n",
            "DEBUG:flwr:evaluate_round 1 received 10 results and 0 failures\n",
            "DEBUG flwr 2023-11-29 10:12:43,334 | server.py:222 | fit_round 2: strategy sampled 10 clients (out of 10)\n",
            "DEBUG:flwr:fit_round 2: strategy sampled 10 clients (out of 10)\n"
          ]
        },
        {
          "output_type": "stream",
          "name": "stdout",
          "text": [
            "\u001b[2m\u001b[36m(DefaultActor pid=10416)\u001b[0m [Client 9] evaluate, config: {}\n",
            "\u001b[2m\u001b[36m(DefaultActor pid=10416)\u001b[0m [Client 6] fit, config: {}\n",
            "\u001b[2m\u001b[36m(DefaultActor pid=10416)\u001b[0m Epoch 1: train loss 0.06177370250225067, accuracy 0.27644444444444444\n",
            "\u001b[2m\u001b[36m(DefaultActor pid=10416)\u001b[0m [Poisoning Client 3] fit, config: {}\n",
            "\u001b[2m\u001b[36m(DefaultActor pid=10416)\u001b[0m Epoch 1: train loss -19919.001953125, accuracy 0.10511111111111111\n",
            "\u001b[2m\u001b[36m(DefaultActor pid=10416)\u001b[0m [Poisoning Client 2] fit, config: {}\n",
            "\u001b[2m\u001b[36m(DefaultActor pid=10416)\u001b[0m Epoch 1: train loss -21203.900390625, accuracy 0.10555555555555556\n",
            "\u001b[2m\u001b[36m(DefaultActor pid=10416)\u001b[0m [Poisoning Client 0] fit, config: {}\n",
            "\u001b[2m\u001b[36m(DefaultActor pid=10416)\u001b[0m Epoch 1: train loss -20449.73828125, accuracy 0.10533333333333333\n",
            "\u001b[2m\u001b[36m(DefaultActor pid=10416)\u001b[0m [Client 5] fit, config: {}\n",
            "\u001b[2m\u001b[36m(DefaultActor pid=10416)\u001b[0m Epoch 1: train loss 0.06157602369785309, accuracy 0.2817777777777778\n",
            "\u001b[2m\u001b[36m(DefaultActor pid=10416)\u001b[0m [Client 8] fit, config: {}\n",
            "\u001b[2m\u001b[36m(DefaultActor pid=10416)\u001b[0m Epoch 1: train loss 0.059934671968221664, accuracy 0.3002222222222222\n",
            "\u001b[2m\u001b[36m(DefaultActor pid=10416)\u001b[0m [Poisoning Client 1] fit, config: {}\n",
            "\u001b[2m\u001b[36m(DefaultActor pid=10416)\u001b[0m Epoch 1: train loss -20460.716796875, accuracy 0.09755555555555556\n",
            "\u001b[2m\u001b[36m(DefaultActor pid=10416)\u001b[0m [Client 4] fit, config: {}\n",
            "\u001b[2m\u001b[36m(DefaultActor pid=10416)\u001b[0m Epoch 1: train loss 0.06019942834973335, accuracy 0.2868888888888889\n",
            "\u001b[2m\u001b[36m(DefaultActor pid=10416)\u001b[0m [Client 7] fit, config: {}\n",
            "\u001b[2m\u001b[36m(DefaultActor pid=10416)\u001b[0m Epoch 1: train loss 0.06041331589221954, accuracy 0.2897777777777778\n",
            "\u001b[2m\u001b[36m(DefaultActor pid=10416)\u001b[0m [Client 9] fit, config: {}\n"
          ]
        },
        {
          "output_type": "stream",
          "name": "stderr",
          "text": [
            "DEBUG flwr 2023-11-29 10:13:12,169 | server.py:236 | fit_round 2 received 10 results and 0 failures\n",
            "DEBUG:flwr:fit_round 2 received 10 results and 0 failures\n",
            "DEBUG flwr 2023-11-29 10:13:12,221 | server.py:173 | evaluate_round 2: strategy sampled 10 clients (out of 10)\n",
            "DEBUG:flwr:evaluate_round 2: strategy sampled 10 clients (out of 10)\n"
          ]
        },
        {
          "output_type": "stream",
          "name": "stdout",
          "text": [
            "\u001b[2m\u001b[36m(DefaultActor pid=10416)\u001b[0m Epoch 1: train loss 0.0606212317943573, accuracy 0.29444444444444445\n",
            "\u001b[2m\u001b[36m(DefaultActor pid=10416)\u001b[0m [Client 2] evaluate, config: {}\n",
            "\u001b[2m\u001b[36m(DefaultActor pid=10416)\u001b[0m [Client 8] evaluate, config: {}\n",
            "\u001b[2m\u001b[36m(DefaultActor pid=10416)\u001b[0m [Client 4] evaluate, config: {}\n",
            "\u001b[2m\u001b[36m(DefaultActor pid=10416)\u001b[0m [Client 6] evaluate, config: {}\n",
            "\u001b[2m\u001b[36m(DefaultActor pid=10416)\u001b[0m [Client 0] evaluate, config: {}\n",
            "\u001b[2m\u001b[36m(DefaultActor pid=10416)\u001b[0m [Client 1] evaluate, config: {}\n",
            "\u001b[2m\u001b[36m(DefaultActor pid=10416)\u001b[0m [Client 5] evaluate, config: {}\n",
            "\u001b[2m\u001b[36m(DefaultActor pid=10416)\u001b[0m [Client 7] evaluate, config: {}\n",
            "\u001b[2m\u001b[36m(DefaultActor pid=10416)\u001b[0m [Client 9] evaluate, config: {}\n"
          ]
        },
        {
          "output_type": "stream",
          "name": "stderr",
          "text": [
            "DEBUG flwr 2023-11-29 10:13:29,084 | server.py:187 | evaluate_round 2 received 10 results and 0 failures\n",
            "DEBUG:flwr:evaluate_round 2 received 10 results and 0 failures\n",
            "DEBUG flwr 2023-11-29 10:13:29,089 | server.py:222 | fit_round 3: strategy sampled 10 clients (out of 10)\n",
            "DEBUG:flwr:fit_round 3: strategy sampled 10 clients (out of 10)\n"
          ]
        },
        {
          "output_type": "stream",
          "name": "stdout",
          "text": [
            "\u001b[2m\u001b[36m(DefaultActor pid=10416)\u001b[0m [Client 3] evaluate, config: {}\n",
            "\u001b[2m\u001b[36m(DefaultActor pid=10416)\u001b[0m [Poisoning Client 1] fit, config: {}\n",
            "\u001b[2m\u001b[36m(DefaultActor pid=10416)\u001b[0m Epoch 1: train loss -15489.7099609375, accuracy 0.09933333333333333\n",
            "\u001b[2m\u001b[36m(DefaultActor pid=10416)\u001b[0m [Client 9] fit, config: {}\n",
            "\u001b[2m\u001b[36m(DefaultActor pid=10416)\u001b[0m Epoch 1: train loss 0.055970534682273865, accuracy 0.3382222222222222\n",
            "\u001b[2m\u001b[36m(DefaultActor pid=10416)\u001b[0m [Client 7] fit, config: {}\n",
            "\u001b[2m\u001b[36m(DefaultActor pid=10416)\u001b[0m Epoch 1: train loss 0.05534297227859497, accuracy 0.3353333333333333\n",
            "\u001b[2m\u001b[36m(DefaultActor pid=10416)\u001b[0m [Client 6] fit, config: {}\n",
            "\u001b[2m\u001b[36m(DefaultActor pid=10416)\u001b[0m Epoch 1: train loss 0.056924548000097275, accuracy 0.326\n",
            "\u001b[2m\u001b[36m(DefaultActor pid=10416)\u001b[0m [Poisoning Client 2] fit, config: {}\n",
            "\u001b[2m\u001b[36m(DefaultActor pid=10416)\u001b[0m Epoch 1: train loss -18864.720703125, accuracy 0.10822222222222222\n",
            "\u001b[2m\u001b[36m(DefaultActor pid=10416)\u001b[0m [Client 8] fit, config: {}\n",
            "\u001b[2m\u001b[36m(DefaultActor pid=10416)\u001b[0m Epoch 1: train loss 0.05506357178092003, accuracy 0.3546666666666667\n",
            "\u001b[2m\u001b[36m(DefaultActor pid=10416)\u001b[0m [Poisoning Client 0] fit, config: {}\n",
            "\u001b[2m\u001b[36m(DefaultActor pid=10416)\u001b[0m Epoch 1: train loss -14550.7392578125, accuracy 0.10755555555555556\n",
            "\u001b[2m\u001b[36m(DefaultActor pid=10416)\u001b[0m [Client 5] fit, config: {}\n",
            "\u001b[2m\u001b[36m(DefaultActor pid=10416)\u001b[0m Epoch 1: train loss 0.056348275393247604, accuracy 0.3462222222222222\n",
            "\u001b[2m\u001b[36m(DefaultActor pid=10416)\u001b[0m [Poisoning Client 3] fit, config: {}\n",
            "\u001b[2m\u001b[36m(DefaultActor pid=10416)\u001b[0m Epoch 1: train loss -15891.1357421875, accuracy 0.10711111111111112\n",
            "\u001b[2m\u001b[36m(DefaultActor pid=10416)\u001b[0m [Client 4] fit, config: {}\n"
          ]
        },
        {
          "output_type": "stream",
          "name": "stderr",
          "text": [
            "DEBUG flwr 2023-11-29 10:13:58,073 | server.py:236 | fit_round 3 received 10 results and 0 failures\n",
            "DEBUG:flwr:fit_round 3 received 10 results and 0 failures\n",
            "DEBUG flwr 2023-11-29 10:13:58,110 | server.py:173 | evaluate_round 3: strategy sampled 10 clients (out of 10)\n",
            "DEBUG:flwr:evaluate_round 3: strategy sampled 10 clients (out of 10)\n"
          ]
        },
        {
          "output_type": "stream",
          "name": "stdout",
          "text": [
            "\u001b[2m\u001b[36m(DefaultActor pid=10416)\u001b[0m Epoch 1: train loss 0.055353663861751556, accuracy 0.3531111111111111\n",
            "\u001b[2m\u001b[36m(DefaultActor pid=10416)\u001b[0m [Client 7] evaluate, config: {}\n",
            "\u001b[2m\u001b[36m(DefaultActor pid=10416)\u001b[0m [Client 0] evaluate, config: {}\n",
            "\u001b[2m\u001b[36m(DefaultActor pid=10416)\u001b[0m [Client 1] evaluate, config: {}\n",
            "\u001b[2m\u001b[36m(DefaultActor pid=10416)\u001b[0m [Client 8] evaluate, config: {}\n",
            "\u001b[2m\u001b[36m(DefaultActor pid=10416)\u001b[0m [Client 3] evaluate, config: {}\n",
            "\u001b[2m\u001b[36m(DefaultActor pid=10416)\u001b[0m [Client 2] evaluate, config: {}\n",
            "\u001b[2m\u001b[36m(DefaultActor pid=10416)\u001b[0m [Client 9] evaluate, config: {}\n",
            "\u001b[2m\u001b[36m(DefaultActor pid=10416)\u001b[0m [Client 5] evaluate, config: {}\n",
            "\u001b[2m\u001b[36m(DefaultActor pid=10416)\u001b[0m [Client 6] evaluate, config: {}\n"
          ]
        },
        {
          "output_type": "stream",
          "name": "stderr",
          "text": [
            "DEBUG flwr 2023-11-29 10:14:13,748 | server.py:187 | evaluate_round 3 received 10 results and 0 failures\n",
            "DEBUG:flwr:evaluate_round 3 received 10 results and 0 failures\n",
            "DEBUG flwr 2023-11-29 10:14:13,751 | server.py:222 | fit_round 4: strategy sampled 10 clients (out of 10)\n",
            "DEBUG:flwr:fit_round 4: strategy sampled 10 clients (out of 10)\n"
          ]
        },
        {
          "output_type": "stream",
          "name": "stdout",
          "text": [
            "\u001b[2m\u001b[36m(DefaultActor pid=10416)\u001b[0m [Client 4] evaluate, config: {}\n",
            "\u001b[2m\u001b[36m(DefaultActor pid=10416)\u001b[0m [Poisoning Client 2] fit, config: {}\n",
            "\u001b[2m\u001b[36m(DefaultActor pid=10416)\u001b[0m Epoch 1: train loss -21957.810546875, accuracy 0.10622222222222222\n",
            "\u001b[2m\u001b[36m(DefaultActor pid=10416)\u001b[0m [Poisoning Client 1] fit, config: {}\n",
            "\u001b[2m\u001b[36m(DefaultActor pid=10416)\u001b[0m Epoch 1: train loss -21524.296875, accuracy 0.09911111111111111\n",
            "\u001b[2m\u001b[36m(DefaultActor pid=10416)\u001b[0m [Client 6] fit, config: {}\n",
            "\u001b[2m\u001b[36m(DefaultActor pid=10416)\u001b[0m Epoch 1: train loss 0.05449918657541275, accuracy 0.3622222222222222\n",
            "\u001b[2m\u001b[36m(DefaultActor pid=10416)\u001b[0m [Client 7] fit, config: {}\n",
            "\u001b[2m\u001b[36m(DefaultActor pid=10416)\u001b[0m Epoch 1: train loss 0.05320683494210243, accuracy 0.3662222222222222\n",
            "\u001b[2m\u001b[36m(DefaultActor pid=10416)\u001b[0m [Client 5] fit, config: {}\n",
            "\u001b[2m\u001b[36m(DefaultActor pid=10416)\u001b[0m Epoch 1: train loss 0.05409012734889984, accuracy 0.37177777777777776\n",
            "\u001b[2m\u001b[36m(DefaultActor pid=10416)\u001b[0m [Client 4] fit, config: {}\n",
            "\u001b[2m\u001b[36m(DefaultActor pid=10416)\u001b[0m Epoch 1: train loss 0.053521350026130676, accuracy 0.37822222222222224\n",
            "\u001b[2m\u001b[36m(DefaultActor pid=10416)\u001b[0m [Client 9] fit, config: {}\n",
            "\u001b[2m\u001b[36m(DefaultActor pid=10416)\u001b[0m Epoch 1: train loss 0.05364014208316803, accuracy 0.37244444444444447\n",
            "\u001b[2m\u001b[36m(DefaultActor pid=10416)\u001b[0m [Poisoning Client 3] fit, config: {}\n",
            "\u001b[2m\u001b[36m(DefaultActor pid=10416)\u001b[0m Epoch 1: train loss -20763.734375, accuracy 0.10577777777777778\n",
            "\u001b[2m\u001b[36m(DefaultActor pid=10416)\u001b[0m [Poisoning Client 0] fit, config: {}\n",
            "\u001b[2m\u001b[36m(DefaultActor pid=10416)\u001b[0m Epoch 1: train loss -20909.216796875, accuracy 0.10644444444444444\n",
            "\u001b[2m\u001b[36m(DefaultActor pid=10416)\u001b[0m [Client 8] fit, config: {}\n"
          ]
        },
        {
          "output_type": "stream",
          "name": "stderr",
          "text": [
            "DEBUG flwr 2023-11-29 10:14:42,677 | server.py:236 | fit_round 4 received 10 results and 0 failures\n",
            "DEBUG:flwr:fit_round 4 received 10 results and 0 failures\n",
            "DEBUG flwr 2023-11-29 10:14:42,714 | server.py:173 | evaluate_round 4: strategy sampled 10 clients (out of 10)\n",
            "DEBUG:flwr:evaluate_round 4: strategy sampled 10 clients (out of 10)\n"
          ]
        },
        {
          "output_type": "stream",
          "name": "stdout",
          "text": [
            "\u001b[2m\u001b[36m(DefaultActor pid=10416)\u001b[0m Epoch 1: train loss 0.05302799865603447, accuracy 0.37444444444444447\n",
            "\u001b[2m\u001b[36m(DefaultActor pid=10416)\u001b[0m [Client 9] evaluate, config: {}\n",
            "\u001b[2m\u001b[36m(DefaultActor pid=10416)\u001b[0m [Client 0] evaluate, config: {}\n",
            "\u001b[2m\u001b[36m(DefaultActor pid=10416)\u001b[0m [Client 3] evaluate, config: {}\n",
            "\u001b[2m\u001b[36m(DefaultActor pid=10416)\u001b[0m [Client 2] evaluate, config: {}\n",
            "\u001b[2m\u001b[36m(DefaultActor pid=10416)\u001b[0m [Client 6] evaluate, config: {}\n",
            "\u001b[2m\u001b[36m(DefaultActor pid=10416)\u001b[0m [Client 4] evaluate, config: {}\n",
            "\u001b[2m\u001b[36m(DefaultActor pid=10416)\u001b[0m [Client 1] evaluate, config: {}\n",
            "\u001b[2m\u001b[36m(DefaultActor pid=10416)\u001b[0m [Client 7] evaluate, config: {}\n",
            "\u001b[2m\u001b[36m(DefaultActor pid=10416)\u001b[0m [Client 5] evaluate, config: {}\n"
          ]
        },
        {
          "output_type": "stream",
          "name": "stderr",
          "text": [
            "DEBUG flwr 2023-11-29 10:14:58,610 | server.py:187 | evaluate_round 4 received 10 results and 0 failures\n",
            "DEBUG:flwr:evaluate_round 4 received 10 results and 0 failures\n",
            "DEBUG flwr 2023-11-29 10:14:58,615 | server.py:222 | fit_round 5: strategy sampled 10 clients (out of 10)\n",
            "DEBUG:flwr:fit_round 5: strategy sampled 10 clients (out of 10)\n"
          ]
        },
        {
          "output_type": "stream",
          "name": "stdout",
          "text": [
            "\u001b[2m\u001b[36m(DefaultActor pid=10416)\u001b[0m [Client 8] evaluate, config: {}\n",
            "\u001b[2m\u001b[36m(DefaultActor pid=10416)\u001b[0m [Client 7] fit, config: {}\n",
            "\u001b[2m\u001b[36m(DefaultActor pid=10416)\u001b[0m Epoch 1: train loss 0.050515711307525635, accuracy 0.40244444444444444\n",
            "\u001b[2m\u001b[36m(DefaultActor pid=10416)\u001b[0m [Poisoning Client 1] fit, config: {}\n",
            "\u001b[2m\u001b[36m(DefaultActor pid=10416)\u001b[0m Epoch 1: train loss -18549.91015625, accuracy 0.10088888888888889\n",
            "\u001b[2m\u001b[36m(DefaultActor pid=10416)\u001b[0m [Client 4] fit, config: {}\n",
            "\u001b[2m\u001b[36m(DefaultActor pid=10416)\u001b[0m Epoch 1: train loss 0.05142214894294739, accuracy 0.3917777777777778\n",
            "\u001b[2m\u001b[36m(DefaultActor pid=10416)\u001b[0m [Client 8] fit, config: {}\n",
            "\u001b[2m\u001b[36m(DefaultActor pid=10416)\u001b[0m Epoch 1: train loss 0.05071590468287468, accuracy 0.4037777777777778\n",
            "\u001b[2m\u001b[36m(DefaultActor pid=10416)\u001b[0m [Client 5] fit, config: {}\n",
            "\u001b[2m\u001b[36m(DefaultActor pid=10416)\u001b[0m Epoch 1: train loss 0.052167270332574844, accuracy 0.38422222222222224\n",
            "\u001b[2m\u001b[36m(DefaultActor pid=10416)\u001b[0m [Client 9] fit, config: {}\n",
            "\u001b[2m\u001b[36m(DefaultActor pid=10416)\u001b[0m Epoch 1: train loss 0.05172962322831154, accuracy 0.40044444444444444\n",
            "\u001b[2m\u001b[36m(DefaultActor pid=10416)\u001b[0m [Poisoning Client 0] fit, config: {}\n",
            "\u001b[2m\u001b[36m(DefaultActor pid=10416)\u001b[0m Epoch 1: train loss -21439.005859375, accuracy 0.10933333333333334\n",
            "\u001b[2m\u001b[36m(DefaultActor pid=10416)\u001b[0m [Poisoning Client 3] fit, config: {}\n",
            "\u001b[2m\u001b[36m(DefaultActor pid=10416)\u001b[0m Epoch 1: train loss -21419.615234375, accuracy 0.10844444444444444\n",
            "\u001b[2m\u001b[36m(DefaultActor pid=10416)\u001b[0m [Poisoning Client 2] fit, config: {}\n",
            "\u001b[2m\u001b[36m(DefaultActor pid=10416)\u001b[0m Epoch 1: train loss -17974.744140625, accuracy 0.112\n",
            "\u001b[2m\u001b[36m(DefaultActor pid=10416)\u001b[0m [Client 6] fit, config: {}\n"
          ]
        },
        {
          "output_type": "stream",
          "name": "stderr",
          "text": [
            "DEBUG flwr 2023-11-29 10:15:27,938 | server.py:236 | fit_round 5 received 10 results and 0 failures\n",
            "DEBUG:flwr:fit_round 5 received 10 results and 0 failures\n",
            "DEBUG flwr 2023-11-29 10:15:27,973 | server.py:173 | evaluate_round 5: strategy sampled 10 clients (out of 10)\n",
            "DEBUG:flwr:evaluate_round 5: strategy sampled 10 clients (out of 10)\n"
          ]
        },
        {
          "output_type": "stream",
          "name": "stdout",
          "text": [
            "\u001b[2m\u001b[36m(DefaultActor pid=10416)\u001b[0m Epoch 1: train loss 0.05262155830860138, accuracy 0.37955555555555553\n",
            "\u001b[2m\u001b[36m(DefaultActor pid=10416)\u001b[0m [Client 7] evaluate, config: {}\n",
            "\u001b[2m\u001b[36m(DefaultActor pid=10416)\u001b[0m [Client 4] evaluate, config: {}\n",
            "\u001b[2m\u001b[36m(DefaultActor pid=10416)\u001b[0m [Client 2] evaluate, config: {}\n",
            "\u001b[2m\u001b[36m(DefaultActor pid=10416)\u001b[0m [Client 8] evaluate, config: {}\n",
            "\u001b[2m\u001b[36m(DefaultActor pid=10416)\u001b[0m [Client 3] evaluate, config: {}\n",
            "\u001b[2m\u001b[36m(DefaultActor pid=10416)\u001b[0m [Client 5] evaluate, config: {}\n",
            "\u001b[2m\u001b[36m(DefaultActor pid=10416)\u001b[0m [Client 9] evaluate, config: {}\n",
            "\u001b[2m\u001b[36m(DefaultActor pid=10416)\u001b[0m [Client 0] evaluate, config: {}\n",
            "\u001b[2m\u001b[36m(DefaultActor pid=10416)\u001b[0m [Client 1] evaluate, config: {}\n"
          ]
        },
        {
          "output_type": "stream",
          "name": "stderr",
          "text": [
            "DEBUG flwr 2023-11-29 10:15:43,780 | server.py:187 | evaluate_round 5 received 10 results and 0 failures\n",
            "DEBUG:flwr:evaluate_round 5 received 10 results and 0 failures\n",
            "INFO flwr 2023-11-29 10:15:43,785 | server.py:153 | FL finished in 226.34922472800008\n",
            "INFO:flwr:FL finished in 226.34922472800008\n",
            "INFO flwr 2023-11-29 10:15:43,788 | app.py:226 | app_fit: losses_distributed [(1, 0.13891264767646788), (2, 0.06330473651885987), (3, 0.07884159014225008), (4, 0.06347874429225922), (5, 0.07041681821346284)]\n",
            "INFO:flwr:app_fit: losses_distributed [(1, 0.13891264767646788), (2, 0.06330473651885987), (3, 0.07884159014225008), (4, 0.06347874429225922), (5, 0.07041681821346284)]\n",
            "INFO flwr 2023-11-29 10:15:43,790 | app.py:227 | app_fit: metrics_distributed_fit {}\n",
            "INFO:flwr:app_fit: metrics_distributed_fit {}\n",
            "INFO flwr 2023-11-29 10:15:43,792 | app.py:228 | app_fit: metrics_distributed {'accuracy': [(1, 0.11100000000000002), (2, 0.26960000000000006), (3, 0.2024), (4, 0.30179999999999996), (5, 0.289)], 'accuracy_per_client': [(1, [0.124, 0.092, 0.094, 0.098, 0.102, 0.126, 0.114, 0.122, 0.126, 0.112]), (2, [0.278, 0.264, 0.254, 0.254, 0.286, 0.274, 0.26, 0.314, 0.256, 0.256]), (3, [0.202, 0.188, 0.204, 0.208, 0.208, 0.192, 0.218, 0.202, 0.212, 0.19]), (4, [0.316, 0.306, 0.302, 0.28, 0.28, 0.28, 0.302, 0.314, 0.324, 0.314]), (5, [0.31, 0.268, 0.268, 0.266, 0.304, 0.31, 0.274, 0.292, 0.282, 0.316])]}\n",
            "INFO:flwr:app_fit: metrics_distributed {'accuracy': [(1, 0.11100000000000002), (2, 0.26960000000000006), (3, 0.2024), (4, 0.30179999999999996), (5, 0.289)], 'accuracy_per_client': [(1, [0.124, 0.092, 0.094, 0.098, 0.102, 0.126, 0.114, 0.122, 0.126, 0.112]), (2, [0.278, 0.264, 0.254, 0.254, 0.286, 0.274, 0.26, 0.314, 0.256, 0.256]), (3, [0.202, 0.188, 0.204, 0.208, 0.208, 0.192, 0.218, 0.202, 0.212, 0.19]), (4, [0.316, 0.306, 0.302, 0.28, 0.28, 0.28, 0.302, 0.314, 0.324, 0.314]), (5, [0.31, 0.268, 0.268, 0.266, 0.304, 0.31, 0.274, 0.292, 0.282, 0.316])]}\n",
            "INFO flwr 2023-11-29 10:15:43,794 | app.py:229 | app_fit: losses_centralized []\n",
            "INFO:flwr:app_fit: losses_centralized []\n",
            "INFO flwr 2023-11-29 10:15:43,796 | app.py:230 | app_fit: metrics_centralized {}\n",
            "INFO:flwr:app_fit: metrics_centralized {}\n"
          ]
        },
        {
          "output_type": "stream",
          "name": "stdout",
          "text": [
            "\u001b[2m\u001b[36m(DefaultActor pid=10416)\u001b[0m [Client 6] evaluate, config: {}\n"
          ]
        }
      ]
    },
    {
      "cell_type": "code",
      "source": [
        "# Helping function\n",
        "\n",
        "median_adaptive_model_poison = median_adaptive_model_poison_results.metrics_distributed[\"accuracy\"]\n",
        "\n",
        "x = [i for i in range(NUM_ROUND)]\n",
        "plt.plot(\n",
        "    x,\n",
        "    [median_poisoned_accuracy[i][1] for i in range(NUM_ROUND)],\n",
        "    label=\"Model poisoning (Median)\",\n",
        "    color=\"blue\",\n",
        "    ls='-.'\n",
        ")\n",
        "plt.plot(\n",
        "    x,\n",
        "    [median_clean_accuracy[i][1] for i in range(NUM_ROUND)],\n",
        "    label=\"Benign Setting (Median)\",\n",
        "    color=\"blue\",\n",
        ")\n",
        "\n",
        "plt.plot(\n",
        "    x,\n",
        "    [median_adaptive_model_poison[i][1] for i in range(NUM_ROUND)],\n",
        "    label=\"Adaptive Model poisoning (Median)\",\n",
        "    color=\"red\",\n",
        "    ls='-.'\n",
        ")\n",
        "plt.xlabel(\"Communication Round\")\n",
        "plt.ylabel(\"Test Accuracy\")\n",
        "plt.legend()"
      ],
      "metadata": {
        "colab": {
          "base_uri": "https://localhost:8080/",
          "height": 467
        },
        "id": "WIzHxG5gci6-",
        "outputId": "6a0938d3-7ba2-481a-cb5f-b0423b292c01"
      },
      "execution_count": 19,
      "outputs": [
        {
          "output_type": "execute_result",
          "data": {
            "text/plain": [
              "<matplotlib.legend.Legend at 0x7cdbb4099bd0>"
            ]
          },
          "metadata": {},
          "execution_count": 19
        },
        {
          "output_type": "display_data",
          "data": {
            "text/plain": [
              "<Figure size 640x480 with 1 Axes>"
            ],
            "image/png": "[encoded data removed]"
          },
          "metadata": {}
        }
      ]
    }
  ],
  "metadata": {
    "colab": {
      "gpuType": "T4",
      "provenance": []
    },
    "kernelspec": {
      "display_name": "Python 3",
      "name": "python3"
    },
    "language_info": {
      "codemirror_mode": {
        "name": "ipython",
        "version": 3
      },
      "file_extension": ".py",
      "mimetype": "text/x-python",
      "name": "python",
      "nbconvert_exporter": "python",
      "pygments_lexer": "ipython3",
      "version": "3.10.13"
    },
    "accelerator": "GPU"
  },
  "nbformat": 4,
  "nbformat_minor": 0
}