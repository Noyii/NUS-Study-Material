{
 "cells": [
  {
   "cell_type": "markdown",
   "metadata": {},
   "source": [
    "# CS5242 Image & Text Data Scraping Showcase\n",
    "For Neural Networks and Deep Learning (CS 5242) AY 2022-2023 Sem 1."
   ]
  },
  {
   "cell_type": "markdown",
   "metadata": {},
   "source": [
    "## Purpose of this Document\n",
    "- One of the project goals is to foster practical skills with *data* acquisition, exploration, exploitation, and analysis.\n",
    "- You are expected to collect and prepare a small image or text dataset based on your project topic.\n",
    "- Other data forms (audio, music, etc.) are also allowed, but we suggest at least some involvement with image or text, as these are what we've been focusing on in our course.\n",
    "- The dataset must be new and collected by yourself (i.e. not directly downloaded from e.g. Kaggle or GitHub).\n",
    "- If you get stuck at the data collection step, this document will provide you with some hint.\n",
    "- Project report should be delivered in *Jupyter notebook* with texts, figures, equations, and executable codes, just like the way of *this* very document."
   ]
  },
  {
   "cell_type": "markdown",
   "metadata": {},
   "source": [
    "## Prerequistes\n",
    "1. Form you group ($\\leq$ 3 members) **before Sept 25 11:59pm** (last day of reading week) by filling [this google sheet](https://docs.google.com/spreadsheets/d/1kLQ8_JHGzUQRc09uR3CjlJKQ4CfF4XhGtu35MIGGrG8/edit?usp=sharing);\n",
    "\n",
    "2. Select your project topic and submit a one-page project plan to Canvas **before Oct 9 11:59pm** (last day of week 8);\n",
    "\n",
    "3. Now you can start acquiring data for your project."
   ]
  },
  {
   "cell_type": "markdown",
   "metadata": {},
   "source": [
    "## General Packages for data scraping and management\n",
    "\n",
    "The code cell below imports some generally useful tools for data crawling and management. For example:\n",
    "- The *requests* package allows you to send HTTP requests using Python, i.e., you can use *requests* to download files given the file link;\n",
    "- The *pandas* help you store relevant information (file directory, label, etc.) in a csv or excel document;\n",
    "- The *tqdm* visualizes the progress and estimated remaining time of your data processing.\n",
    "\n",
    "Now, run the following cell by hitting `SHIFT+ENTER` to import these packages."
   ]
  },
  {
   "cell_type": "code",
   "execution_count": 1,
   "metadata": {},
   "outputs": [],
   "source": [
    "import os\n",
    "import time\n",
    "import requests\n",
    "import pandas as pd\n",
    "from tqdm import tqdm"
   ]
  },
  {
   "cell_type": "markdown",
   "metadata": {},
   "source": [
    "## Showcase 1: Image Data Collection Using Off-the-Shelf API\n",
    "\n",
    "Many web plartforms provide API for developer use. For example, we can use Flickr API to collect image data.\n",
    "\n",
    "Flickr is a well-known picture sharing platform, with a helpful API to facilitate developers to collect high quality image data. For this project, you may consider using the search query as the ground-truth label and collect relevant images to train a classifier for certain task. \n",
    "\n",
    "To use Flickr API, you need to first set up an account and apply for *authentification key* from [this link](https://www.flickr.com/services/api/misc.api_keys.html). \n",
    "\n",
    "Run the following cell after modifying the *key* and *secret* with your own authentification:"
   ]
  },
  {
   "cell_type": "code",
   "execution_count": 2,
   "metadata": {},
   "outputs": [],
   "source": [
    "key = ''\n",
    "secret = ''"
   ]
  },
  {
   "cell_type": "markdown",
   "metadata": {},
   "source": [
    "### 1.1 Install Python Flickr API\n",
    "\n",
    "Now import the python interface to Flickr API:"
   ]
  },
  {
   "cell_type": "code",
   "execution_count": 3,
   "metadata": {},
   "outputs": [],
   "source": [
    "#uncomment if you have not yet installed flickrapi\n",
    "#%pip install flickrapi\n",
    "from flickrapi import FlickrAPI"
   ]
  },
  {
   "cell_type": "markdown",
   "metadata": {},
   "source": [
    "### 1.2 Acquire Image Links\n",
    "\n",
    "*Flickrapi* provides a *walk* function, which can walk through all photos in a set specified by a search result"
   ]
  },
  {
   "cell_type": "code",
   "execution_count": 25,
   "metadata": {},
   "outputs": [
    {
     "name": "stdout",
     "output_type": "stream",
     "text": [
      "Done fetching cat urls, fetched 10 urls out of 10\n",
      "example url: https://live.staticflickr.com/4838/45925416992_c9caac8cb9_c.jpg\n",
      "Writing cat urls to ./Flickr_scrape//cat_urls.csv\n",
      "Done fetching dog urls, fetched 10 urls out of 10\n",
      "example url: https://live.staticflickr.com/65535/5338762379_6b105a8f9b_c.jpg\n",
      "Writing dog urls to ./Flickr_scrape//dog_urls.csv\n"
     ]
    }
   ],
   "source": [
    "def fetch_image_link(query):\n",
    "    flickr = FlickrAPI(key, secret) #initialize python flickr api\n",
    "    photos = flickr.walk(text=query,\n",
    "                        tag_mode='all',\n",
    "                        extras='url_c', #specify meta data to be fetched\n",
    "                        sort='relevance')   #sort search result based on relevance (high to low by default)\n",
    "\n",
    "    max_count = 10   #let's just simply fetch 5 images for illustration\n",
    "    urls = []\n",
    "    count = 0\n",
    "\n",
    "    for photo in photos:\n",
    "        if count < max_count:\n",
    "            count = count + 1\n",
    "            #print(\"Fetching url for image number {}\".format(count))\n",
    "            try:\n",
    "                url = photo.get('url_c')\n",
    "                urls.append(url)\n",
    "            except:\n",
    "                print(\"Url for image number {} could not be fetched\".format(count))\n",
    "        else:\n",
    "            print(f\"Done fetching {query} urls, fetched {len(urls)} urls out of {max_count}\")\n",
    "            break\n",
    "    return urls\n",
    "    \n",
    "QURIES = ['cat', 'dog']    #specify search query\n",
    "for query in QURIES:\n",
    "    urls = fetch_image_link(query)\n",
    "    print('example url:', urls[0])\n",
    "    urls = pd.Series(urls)\n",
    "    save_path = './Flickr_scrape/'\n",
    "    if not os.path.exists(save_path):\n",
    "        os.makedirs(save_path)\n",
    "    category_path = f'{save_path}/{query}_urls.csv'\n",
    "    print(f\"Writing {query} urls to {category_path}\")\n",
    "    urls.to_csv(category_path)"
   ]
  },
  {
   "cell_type": "markdown",
   "metadata": {},
   "source": [
    "### 1.3 Download files using acquired links\n",
    "\n",
    "Till now we have collected the image urls. Now we will use the *request* package to download the image files."
   ]
  },
  {
   "cell_type": "code",
   "execution_count": 26,
   "metadata": {},
   "outputs": [
    {
     "name": "stdout",
     "output_type": "stream",
     "text": [
      "Start downloading images...\n"
     ]
    },
    {
     "name": "stderr",
     "output_type": "stream",
     "text": [
      "100%|██████████| 10/10 [00:02<00:00,  3.64it/s]\n"
     ]
    },
    {
     "name": "stdout",
     "output_type": "stream",
     "text": [
      "Done with ./Flickr_scrape//cat_urls.csv download, images are saved in ./Flickr_scrape//cat\n"
     ]
    },
    {
     "name": "stderr",
     "output_type": "stream",
     "text": [
      "100%|██████████| 10/10 [00:03<00:00,  2.55it/s]"
     ]
    },
    {
     "name": "stdout",
     "output_type": "stream",
     "text": [
      "Done with ./Flickr_scrape//dog_urls.csv download, images are saved in ./Flickr_scrape//dog\n"
     ]
    },
    {
     "name": "stderr",
     "output_type": "stream",
     "text": [
      "\n"
     ]
    }
   ],
   "source": [
    "def fetch_files_with_link(url_path):\n",
    "    with open(url_path, newline=\"\") as csvfile:\n",
    "        urls = pd.read_csv(url_path, delimiter=',')\n",
    "        urls = urls.iloc[:, 1].to_dict().values()\n",
    "        \n",
    "    SAVE_PATH = os.path.join(url_path.replace('_urls.csv', ''))\n",
    "    if not os.path.isdir(SAVE_PATH):\n",
    "        os.mkdir(SAVE_PATH) #define image storage path\n",
    "\n",
    "    for idx, url in tqdm(enumerate(urls), total=len(urls)):\n",
    "        # print(\"Starting download {} of \".format(url[0] + 1), len(urls))\n",
    "        try:\n",
    "            resp = requests.get(url, stream=True)   #request file using url\n",
    "            path_to_write = os.path.join(SAVE_PATH, url.split(\"/\")[-1])\n",
    "            outfile = open(path_to_write, 'wb')\n",
    "            outfile.write(resp.content) #save file content\n",
    "            outfile.close()\n",
    "            #print(\"Done downloading {} of {}\".format(idx + 1, len(urls)))\n",
    "        except:\n",
    "            print(\"Failed to download url number {}\".format(idx)) \n",
    "    print(f\"Done with {url_path} download, images are saved in {SAVE_PATH}\")\n",
    "\n",
    "print(\"Start downloading images...\")\n",
    "\n",
    "\n",
    "CATEGORIES = ['cat', 'dog']    #specify search query\n",
    "save_path = './Flickr_scrape/'\n",
    "for category in CATEGORIES:\n",
    "    url_path = f'{save_path}/{category}_urls.csv'\n",
    "    fetch_files_with_link(url_path)"
   ]
  },
  {
   "cell_type": "markdown",
   "metadata": {},
   "source": [
    "### 1.4 Visualize Collected Image Data in Notebook\n",
    "\n",
    "You can visualize sample images in a jupyter notebook"
   ]
  },
  {
   "cell_type": "code",
   "execution_count": 27,
   "metadata": {},
   "outputs": [
    {
     "data": {
      "application/vnd.jupyter.widget-view+json": {
       "model_id": "7de334b2fafc473892169598c8b2b2f2",
       "version_major": 2,
       "version_minor": 0
      },
      "text/plain": [
       "interactive(children=(Dropdown(description='category', options=('cat', 'dog'), value='cat'), Button(descriptio…"
      ]
     },
     "metadata": {},
     "output_type": "display_data"
    }
   ],
   "source": [
    "import ipywidgets as widgets\n",
    "from glob import glob\n",
    "import numpy as np\n",
    "from matplotlib import pyplot as plt\n",
    "import cv2\n",
    "\n",
    "def plot_samples(category):\n",
    "    paths = sorted(glob(f'./Flickr_scrape/{category}/*.*'))\n",
    "    paths = np.random.choice(paths, 4, replace=False)\n",
    "\n",
    "    plt.figure(figsize=(12,12))\n",
    "    for i in range(4):\n",
    "        image = cv2.imread(paths[i])[...,[2,1,0]]\n",
    "        image = cv2.resize(image, (512,512), interpolation=cv2.INTER_LINEAR)\n",
    "        plt.subplot(1, 4, i+1)\n",
    "        plt.imshow(image)\n",
    "        plt.axis('off')\n",
    "    plt.tight_layout()\n",
    "    plt.show()\n",
    "\n",
    "all_categories = ['cat', 'dog']\n",
    "widgets.interact_manual.opts['manual_name'] = 'Show samples'\n",
    "im = widgets.interact_manual(lambda category: plot_samples(category), category=all_categories)"
   ]
  },
  {
   "cell_type": "markdown",
   "metadata": {},
   "source": [
    "### 1.5 Data Exploration, Exploitation, and Analysis\n",
    "\n",
    "Upon acquiring your data set, you should do some statistical analysis to better understand some data property. This can be helpful to data pre-processing and can guide your next move. For example, you can visualze the distribution of image size and ratio, which can help you later design shapes of model architecture as well as find and remove images with extreme ratios. You are encouraged to come up with more strategies to explore/exploit/analyze your own acquired data."
   ]
  },
  {
   "cell_type": "code",
   "execution_count": 28,
   "metadata": {},
   "outputs": [
    {
     "data": {
      "image/png": "[encoded data removed]",
      "text/plain": [
       "<Figure size 1080x360 with 2 Axes>"
      ]
     },
     "metadata": {
      "needs_background": "light"
     },
     "output_type": "display_data"
    }
   ],
   "source": [
    "import seaborn as sns\n",
    "\n",
    "def get_size(path):\n",
    "    image = cv2.imread(path)\n",
    "    shape = image.shape[:2]\n",
    "\n",
    "    return shape[1]*shape[0], shape[1]/shape[0]\n",
    "  \n",
    "all_species = ['cat', 'dog']\n",
    "sizes = []\n",
    "ratios = []\n",
    "fig, (ax0, ax1) = plt.subplots(1, 2, figsize=(15,5))\n",
    "for i, species in enumerate(all_species):\n",
    "    paths = sorted(glob(f'Flickr_scrape/{species}/*.*'))\n",
    "    output = np.array([get_size(path) for path in paths])\n",
    "      \n",
    "    sizes.append(output[:,0])\n",
    "    ratios.append(output[:,1])\n",
    "\n",
    "    sns.kdeplot(output[:,0], label = species, ax=ax0)\n",
    "    sns.kdeplot(output[:,1], label = species, ax=ax1)\n",
    "\n",
    "ax0.set_title('Area')\n",
    "ax1.set_title('Aspect ratio')\n",
    "ax0.legend()\n",
    "ax1.legend()\n",
    "plt.show()"
   ]
  },
  {
   "cell_type": "markdown",
   "metadata": {},
   "source": [
    "### 1.6 Other Potentially Useful APIs\n",
    "\n",
    "We hope this document to help you know what to do in case you get stuch with the very first step. In the meanwhile, we hope this document won't bind your mind. Please feel free to explore other helpful APIs for the need of your own project! \n",
    "\n",
    "- [Twitter](https://www.tweepy.org/)\n",
    "- [Facebook](https://developers.facebook.com/docs/graph-api)\n",
    "- [Youtube](https://developers.google.com/youtube/v3)\n",
    "- [Wikipedia](https://www.mediawiki.org/wiki/API:Main_page)\n",
    "- [Spotify](https://developer.spotify.com/documentation/web-api/)\n",
    "- $\\cdots$"
   ]
  },
  {
   "cell_type": "markdown",
   "metadata": {},
   "source": [
    "## Showcase 2: Text Data Collection Using Self-Defined Scraper\n",
    "\n",
    "In case that your expected data is on the fly on the Internet and there is not a convenient API to collect them, then you can consider using [*selenium.webdriver*](https://www.selenium.dev/documentation/webdriver/) to develop your own data scraper. Similar packages include [*beutiful soup*](https://www.crummy.com/software/BeautifulSoup/bs4/doc/). Here we introduce *selenium.webdriver* because it renders an intuitive auto-browsing pipeline for automatic data scraping. Note that *selenium.webdriver* can be flexibly applied to scrape all kinds of data (image, text, audio, etc.). Here we use it for text data scraping just for illustration."
   ]
  },
  {
   "cell_type": "markdown",
   "metadata": {},
   "source": [
    "### 2.1 Install\n",
    "\n",
    "To use selenium.webdriver, you can install by `pip install selenium`. Apart from that, you also need to download [*chrome web driver*](https://chromedriver.chromium.org/downloads) and put it to the directory of your notebook."
   ]
  },
  {
   "cell_type": "code",
   "execution_count": 29,
   "metadata": {},
   "outputs": [],
   "source": [
    "#uncomment if you have not yet installed selenium\n",
    "#%pip install selenium\n",
    "from selenium import webdriver"
   ]
  },
  {
   "cell_type": "markdown",
   "metadata": {},
   "source": [
    "### 2.2 How it works\n",
    "\n",
    "The idea of *selenium.webdriver* is to automatically open Chrome, locate html elements (e.g., buttons, searching bar) and click them to load target web pages, and then collect data (text, file links, etc.) on that page. It is like a virtual labourer who does the hard work (browsing and clicking) for you.\n",
    "\n",
    "In the first step, you will need to browse your target page by yourself and find the *id* or *class name* of necessary html elements on that page. In Chrome, you can do this by right clicking on your target element and select `inspect`. Then you will see the html codes on a pop-up panel, from which you can locate the element in interest and fetch its *id*. You will then write code and send this *id* to selenium to let it help you collect more."
   ]
  },
  {
   "cell_type": "markdown",
   "metadata": {},
   "source": [
    "### 2.3 Hands On\n",
    "\n",
    "The following is an example of using *Selenium.webdriver*. This code opens the Chrome browser automatically and repeatedly load random Wikipedia pages and scrape all the text contents on that page. Using these text data, you can train a language model in a self-supervised way while no label is needed. \n",
    "\n",
    "In the following code, some keyword, such as `n-randompage`, is html element *id* defined by this very webpage, and can vary from one web to another. You will need to find and specify new element *id* according to your own target website."
   ]
  },
  {
   "cell_type": "code",
   "execution_count": 37,
   "metadata": {},
   "outputs": [],
   "source": [
    "from selenium import webdriver\n",
    "from selenium.webdriver.common.keys import Keys\n",
    "\n",
    "WEB_TO_CRAWL = \"https://en.wikipedia.org/wiki/Main_Page\"\n",
    "driver = webdriver.Chrome() #luanch chrome\n",
    "driver.get(WEB_TO_CRAWL)    #load to your target webpage\n",
    "\n",
    "text_collection = []\n",
    "\n",
    "n_random_pages = 2\n",
    "for _ in range(n_random_pages):\n",
    "    button_to_get_random_article = driver.find_element('id', 'n-randompage')  #find 'random article' button\n",
    "    button_to_get_random_article.click()    #click 'random article' button\n",
    "    time.sleep(5)   #let's give Chrome a few seconds to respond\n",
    "\n",
    "    paragraps = driver.find_elements('tag name', 'p')   #find text elements. In http, text elements commonly have 'p' as tag name. Similarly, images commonly have 'img' as tag name.\n",
    "    for para in paragraps:\n",
    "        text = para.get_attribute(\"innerText\")  #get text content from the element object\n",
    "        import re\n",
    "        text = re.sub('[\\(\\[].*?[\\)\\]]', '', text)  #remove substrings in () and []. You can do other necessary pre-processing using regular expression syntax.\n",
    "        text = newlabel = re.sub('[^A-Za-z0-9\\.\\,]+', ' ', text)  #keep only alphabetic letters, numbers, and dot and comma.\n",
    "        text_collection.append(text + '\\n')\n",
    "\n",
    "driver.close()  #close Chrome\n",
    "\n",
    "with open('./selenium_scrap_text.txt', 'w') as f:\n",
    "    f.writelines(text_collection)\n",
    "\n"
   ]
  },
  {
   "cell_type": "markdown",
   "metadata": {},
   "source": [
    "### 2.4 Tips\n",
    "- It is recommended to only crawl *open-source* data using this method ('open-source' data is what you can get without log-in or commercial subscription).\n",
    "- Certain webpage may have anti-crawl settings. It might help to put a `time.sleep(5)` between consecutive operations."
   ]
  },
  {
   "cell_type": "markdown",
   "metadata": {},
   "source": [
    "One last note is that, your project delivery includes an 8-minute **presentation** (with slides) and a **report**. The report should be formated in *Jupyter notebook* with texts, figures, equations, and executable codes, **just like the way of *this* very document**. You may find [this Markdown cheatsheet](https://github.com/adam-p/markdown-here/wiki/Markdown-Cheatsheet) helpful. The output of each code cell should be kept there (do not clear them) when submitting your notebook report.\n",
    "\n",
    "Best luck with your project! (ง •̀_•́)ง\n",
    "\n",
    "Jingwei\n",
    "\n",
    "Sept 16, 2022"
   ]
  }
 ],
 "metadata": {
  "kernelspec": {
   "display_name": "Python 3.7.10 ('deeplearn_course')",
   "language": "python",
   "name": "python3"
  },
  "language_info": {
   "codemirror_mode": {
    "name": "ipython",
    "version": 3
   },
   "file_extension": ".py",
   "mimetype": "text/x-python",
   "name": "python",
   "nbconvert_exporter": "python",
   "pygments_lexer": "ipython3",
   "version": "3.7.10"
  },
  "orig_nbformat": 4,
  "vscode": {
   "interpreter": {
    "hash": "4f9d0eab1bf0340275daca6830299131b90c5cb524f67a0d46447fe9da0b405b"
   }
  }
 },
 "nbformat": 4,
 "nbformat_minor": 2
}
