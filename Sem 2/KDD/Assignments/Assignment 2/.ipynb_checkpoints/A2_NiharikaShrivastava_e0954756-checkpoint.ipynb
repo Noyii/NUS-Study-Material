{
 "cells": [
  {
   "cell_type": "markdown",
   "id": "45e6befe",
   "metadata": {},
   "source": [
    "# CS5228 Assignment 2\n",
    "\n",
    "For code completion tasks, please write down your answer (i.e., your lines of code) between sentences that \"Your code starts here\" and \"Your code ends here\". For answers in plain text, you can refer to [this Markdown guide](https://medium.com/analytics-vidhya/the-ultimate-markdown-guide-for-jupyter-notebook-d5e5abf728fd) to customize the layout (although it shouldn't be needed). For ease of checking your answers + grading, please keep your plain text answers in blue text.\n",
    "\n",
    "When you work on this notebook, you can insert additional code cells (e.g., for testing) or markdown cells (e.g., to keep track of your thoughts). However, before the submission, please remove all those additional cells again. Thanks!\n",
    "\n",
    "**Important:** \n",
    "* Remember to rename and save this Jupyter notebook as **A2_YourName_YourNUSNETID.ipynb** (e.g., **A2_BobSmith_e12345678.ipynb**) before submission!\n",
    "* Remember to rename and save the script file **A2_script.py** as **A2_YourName_YourNUSNETID.py** (e.g., **A2_BobSmith_e12345678.py**) before submission!\n",
    "* Submission deadline is Sunday April 2, 11.59 pm. You can submit it to Canvas under Assignments. You can use up to 4 out of your 8 late days, which extend the deadline by 24 hours each. "
   ]
  },
  {
   "cell_type": "markdown",
   "id": "8bd7afe2",
   "metadata": {},
   "source": [
    "Here is an overview over the tasks to be solved and the points associated with each task.\n",
    "\n",
    "* **1 Decision Trees (16 Points)**\n",
    "    * 1.1 Implementing a Decision Tree Regressor\n",
    "        * 1.1 a) Calculating All Possible Thresholds (2 Points)\n",
    "        * 1.1 b) Finding the Best Split (4 Points)\n",
    "        * 1.1 c) Training the Decision Tree Regressor (4 Points)\n",
    "    * 1.2 True/False Questions about Decision Trees (6 Points)\n",
    "* **2 Tree Ensembles (12 Points)**\n",
    "    * 2.1 Implementing a Random Forest Regressor\n",
    "        * 2.1 a) Implementing Bagging (2 Points)\n",
    "        * 2.1 b) Implementing Feature Sampling (2 Points)\n",
    "        * 2.1 c) Training the Random Forest Regressor (2 Points)\n",
    "        * 2.1 d) Predicting Output Values (2 Points)\n",
    "    * 2.2 Questions about Tree Ensembles\n",
    "        * 2.2 a) Random Forest: Bagging Only vs. Bagging + Feature Sampling (2 Points)\n",
    "        * 2.2 b) Random Forest: Regression vs. Classification (2 Points)\n",
    "* **3 Logistic Regression (8 Points)**\n",
    "    * 3.1 True/False Questions about Logistic Regression (8 Points)\n",
    "* **4 Model Selection (14 Points)**\n",
    "    * 4.1 Data Preprocessing (3 Points)\n",
    "    * 4.2 Performing K-Fold Cross-Validation \"By Hand\"\n",
    "        * 4.2 a) Implement k-fold Cross Validation (4 Points)\n",
    "        * 4.2 b) Run k-fold Cross Validation for 4 Regressors and Discuss the Results. (4 Points)\n",
    "    * 4.3 Hyperparameter Tuning (3 Points)\n"
   ]
  },
  {
   "cell_type": "markdown",
   "id": "8b38005d",
   "metadata": {},
   "source": [
    "## Setting up the Notebook"
   ]
  },
  {
   "cell_type": "code",
   "execution_count": 1,
   "id": "5163ae1c",
   "metadata": {},
   "outputs": [],
   "source": [
    "# Ensures that the notebook will reload external python modules;\n",
    "# i.e. when you change something in your .py script, you do not need to re-import the .py script file.\n",
    "# see http://stackoverflow.com/questions/1907993/autoreload-of-modules-in-ipython\n",
    "%load_ext autoreload\n",
    "%autoreload 2"
   ]
  },
  {
   "cell_type": "markdown",
   "id": "905218d7",
   "metadata": {},
   "source": [
    "Making all the required imports:"
   ]
  },
  {
   "cell_type": "code",
   "execution_count": 2,
   "id": "4c42f569",
   "metadata": {},
   "outputs": [],
   "source": [
    "import numpy as np\n",
    "import pandas as pd\n",
    "import matplotlib.pyplot as plt\n",
    "\n",
    "from sklearn import tree\n",
    "from sklearn.model_selection import train_test_split\n",
    "from sklearn.preprocessing import StandardScaler\n",
    "from sklearn.linear_model import LinearRegression\n",
    "from sklearn.tree import DecisionTreeRegressor\n",
    "from sklearn.neighbors import KNeighborsRegressor\n",
    "from sklearn.ensemble import RandomForestRegressor, GradientBoostingRegressor, AdaBoostRegressor\n",
    "from sklearn.model_selection import train_test_split, GridSearchCV\n",
    "from sklearn.metrics import mean_squared_error, f1_score\n",
    "from sklearn import preprocessing\n",
    "\n",
    "from src.utils import plot_validation_results, plot_scores"
   ]
  },
  {
   "cell_type": "markdown",
   "id": "1032c810",
   "metadata": {},
   "source": [
    "**Important:** This notebook also requires you to complete in a separate `.py` script file. This keeps this notebook cleaner and simplifies testing your implementations for us. As you need to rename the file `A2_script.py`, you also need to edit the import statement below accordingly."
   ]
  },
  {
   "cell_type": "code",
   "execution_count": 3,
   "id": "c8edf0e4",
   "metadata": {},
   "outputs": [],
   "source": [
    "# from A2_script import MyDecisionTreeRegressor, MyRandomForestRegressor # replace this line with the next line after renaming\n",
    "from A2_NiharikaShrivastava_e0954756 import MyDecisionTreeRegressor, MyRandomForestRegressor # <-- you will need to rename this accordingly"
   ]
  },
  {
   "cell_type": "markdown",
   "id": "1408cb8f",
   "metadata": {},
   "source": [
    "----------"
   ]
  },
  {
   "cell_type": "markdown",
   "id": "ba2d6f3b",
   "metadata": {},
   "source": [
    "## 1 Decision Trees\n",
    "\n",
    "Decision Trees are a very common classification and regression model on their own, but even more so as the core building block of ensemble models (Random Forests and Gradient Boosted Trees) which are among the most popular prediction models in many practical settings. As such, it is particularly important to gain a solid understanding of how they work, rather than treating them as a \"black box\", which we will do by implementing the core parts of these models."
   ]
  },
  {
   "cell_type": "markdown",
   "id": "9350025e",
   "metadata": {},
   "source": [
    "### 1.1 Implementing a Decision Tree Regressor\n",
    "\n",
    "In this section, you will implement your own Decision Tree regressor. To keep the complexity low, it is simplified as follows:\n",
    "\n",
    "* Only numerical features are supported\n",
    "* Only binary splits are supported\n",
    "\n",
    "(incidentally, this is in line with scitkit-learn's [`DecisionTreeRegressor`](https://scikit-learn.org/stable/modules/generated/sklearn.tree.DecisionTreeRegressor.html) implementation)\n",
    "\n",
    "In the file `A2a_script.py`, you can find the skeleton code for the class `MyDecisionTreeRegressor`. Note that many parts of the implementation are given to you. Have a good look at the provided code to understand its different components.\n",
    "\n",
    "**In the following subtasks, you will complete the methods where indicated by the comments within each method.** No need to worry, we will guide you through the implementation step by step."
   ]
  },
  {
   "cell_type": "markdown",
   "id": "16aabe69",
   "metadata": {},
   "source": [
    "#### Calculating the RSS Scores of a Node and a Split (nothing for you to do here!)\n",
    "\n",
    "Recall from lecture that a criterion score is necessary in order to decide which split to make at a node. The criterion score can be interpreted as measuring the quality (or \"purity\") of the response variable within a node. In lecture, we introduced the use of the Gini index and entropy for measuring the purity of a node. \n",
    "\n",
    "In this assignment, we instead focus on regression trees, which are similar but slightly easier to implement. The quality measure used here is the *Residual Sum of Squares (RSS)*, or the sum of squared differences between the response variables of samples in a node, and the mean response variable in the node. Formally, the RSS score of a node is defined as:\n",
    "\n",
    "$$RSS_{node} = \\sum_{i\\in R_{node}} (y_i - \\mu_{R_{node}})^2$$\n",
    "\n",
    "where $y_i$ is the response variable for sample $i$, $R_{node}$ is the set of sample indices at the node, and $\\mu_{R_{node}}$ is the mean of the response variable for samples in $R_{node}$.\n",
    "\n",
    "Analogously, the RSS score of a split is defined as summing the RSS score of the nodes resulting from the split:\n",
    "\n",
    "$$RSS_{split} = \\sum_{k=1}^K\\sum_{i\\in R_k} (y_i - \\mu_{R_k})^2$$\n",
    "\n",
    "where $K$ is the number of child nodes (here $K=2$ since all splits are binary splits), $R_k$ is the set of sample indices in child node $k$, and $\\mu_{R_k}$ is the mean of the response values in $R_k$.\n",
    "\n",
    "The intuition behind the RSS criterion is analogous to that of Gini index / entropy: the RSS at a node measures the amount of variation in a node, so if we find a split that achieves a low RSS, this means we have effectively separated the high values of the response variable from the low values of the response variable, which is a good split.\n",
    "\n",
    "Since these are very basic arithmetic operations, we give you the two methods `calc_rss_score_node` and `calc_rss_score_split` for free. Have a look at both methods to convince yourself that these methods implement the formulas given above. Again, since we consider only binary splits, method `calc_rss_score_split` simplifies to calling `calc_rss_score_node` twice on both child nodes and summing up both scores."
   ]
  },
  {
   "cell_type": "markdown",
   "id": "bb6c7665",
   "metadata": {},
   "source": [
    "#### 1.1 a) Calculating All Possible Thresholds (2 Points)\n",
    "\n",
    "We have seen in the lecture that we can split numerical features using thresholds that separate the feature values into all values less or equal to a threshold and larger than the threshold.\n",
    "\n",
    "**Implement the method `calc_thresholds()`!** In principle, there are different possible approaches. Here, we consider a simple approach, where we first sort the unique values of a feature, then the possible thresholds are the midpoints between every two adjacent values, as shown in the following example. You can test your implementation using the code cell below; it shows for three different inputs the expected outputs. (Hint: [`np.unique`](https://numpy.org/doc/stable/reference/generated/numpy.unique.html) might make life easier; note that it returns the values in sorted order.)"
   ]
  },
  {
   "cell_type": "code",
   "execution_count": 4,
   "id": "55389384",
   "metadata": {},
   "outputs": [
    {
     "name": "stdout",
     "output_type": "stream",
     "text": [
      "Thresholds: [1.5, 2.5, 3.5]\n",
      "Thresholds: [1.5, 2.5, 3.5, 4.5, 5.5]\n",
      "Thresholds: [0.5, 4.5]\n",
      "Thresholds: []\n"
     ]
    }
   ],
   "source": [
    "values1 = np.array([4, 1, 2, 1, 1, 3])\n",
    "values2 = np.array([1, 2, 3, 4, 5, 6])\n",
    "values3 = np.array([8, 0, 0, 1, 0, 0])\n",
    "values4 = np.array([1, 1, 1])\n",
    "\n",
    "my_regressor = MyDecisionTreeRegressor()\n",
    "\n",
    "thresholds = my_regressor.calc_thresholds(values1)  # Expected output: [1.5 2.5 3.5]\n",
    "print('Thresholds: {}'.format(thresholds))\n",
    "\n",
    "thresholds = my_regressor.calc_thresholds(values2)  # Expected output: [1.5 2.5 3.5 4.5 5.5]\n",
    "print('Thresholds: {}'.format(thresholds))\n",
    "\n",
    "thresholds = my_regressor.calc_thresholds(values3)  # Expected output: [0.5 4.5]\n",
    "print('Thresholds: {}'.format(thresholds))\n",
    "\n",
    "thresholds = my_regressor.calc_thresholds(values4)  # Expected output: []\n",
    "print('Thresholds: {}'.format(thresholds))"
   ]
  },
  {
   "cell_type": "markdown",
   "id": "5dfb1743",
   "metadata": {},
   "source": [
    "#### Creating a Split (nothing for you to do here!)\n",
    "\n",
    "We provide you the method `create_split()` to split a list `x` of feature values with respect to a threshold. Note that the method returns not the values themselves but the indices of the values. By giving you this method, we can ensure that everyone should get the exact same result, as well as that the results will match with the Decision Tree implementation of scikit-learn. For example, `create_split()` puts all samples `<=` then the threshold into the left child node (and all others into the right child node). However, there would be no principle difference to put them in the right child node (and all others into the left child node). It's purely a convention to ensure consistency. Again, have a good look at `create_split()` to understand its inputs, inner workings, and output."
   ]
  },
  {
   "cell_type": "markdown",
   "id": "658383ea",
   "metadata": {},
   "source": [
    "#### 1.1 b) Finding the Best Split (4 Points)\n",
    "\n",
    "Finding the best split is at the heart of training of a Decision Tree. As we saw in the lecture, the best split is defined by which\n",
    "\n",
    "* feature *and*\n",
    "\n",
    "* threshold\n",
    "\n",
    "result in a split of the data samples yielding the best score (here: the split with the lowest RSS score). We already have the methods to calculate the RSS scores of a node and a split, as well as to calculate the thresholds to be considered for a given feature. Finding the best split essentially boils simply down to checking for each feature and all corresponding thresholds to check which split gets the lowest RSS score.\n",
    "\n",
    "To test your implementation, let's first define a small toy dataset of 20 data samples. The two input features are the `weight` (in kg) and `height` (in cm) of a person, and the output value (i.e., the response variable) is the blood sugar level (in mmol/L)."
   ]
  },
  {
   "cell_type": "code",
   "execution_count": 5,
   "id": "da84f196",
   "metadata": {},
   "outputs": [
    {
     "name": "stdout",
     "output_type": "stream",
     "text": [
      "Toy dataset -- #samples: 20, #features: 2\n"
     ]
    }
   ],
   "source": [
    "weights = np.array([68, 71, 92, 59, 80, 81, 75, 88, 45, 64, 59, 87, 80, 73, 55, 92, 93, 72, 49, 57])\n",
    "heights = np.array([175, 175, 170, 168, 184, 184, 167, 155, 152, 163, 190, 161, 160, 174, 159, 183, 165, 181, 179, 154])\n",
    "\n",
    "X_toy = np.stack((weights, heights), axis=1)\n",
    "y_toy = np.array([7.8, 7.7, 11.0, 7.9, 6.8, 7.9, 6.3, 9.5, 8.1, 9.0, 6.0, 10.1, 7.0, 7.8, 7.7, 10.2, 9.8, 7.0, 6.4, 7.6])\n",
    "\n",
    "print('Toy dataset -- #samples: {}, #features: {}'.format(X_toy.shape[0], X_toy.shape[1]))"
   ]
  },
  {
   "cell_type": "markdown",
   "id": "d0cf6e1b",
   "metadata": {},
   "source": [
    "**Implement method `calc_best_split`** to find the best split with respect to all features and corresponding thresholds. You obviously can and should make use of the existing methods you have implemented or are already provided to you. The skeleton code of method `calc_best_split()` shows you which values need to be returned. The 4 variables you need to return are those that:\n",
    "\n",
    "* define a split (`best_feature_idx`, `best_threshold`)\n",
    "\n",
    "* decide whether to split or not (`best_score`)\n",
    "\n",
    "* recursively build the Decision Tree (`best_split`, which is a tuple containing the left and right child indices)\n",
    "\n",
    "You can use the code cell below to test your implementation of the method. The following markdown cell shows the expected outcomes. As your implementation of the Decision Tree regressor does not contain any randomness, your results should match the expected outcome."
   ]
  },
  {
   "cell_type": "code",
   "execution_count": 6,
   "id": "066632a3",
   "metadata": {},
   "outputs": [],
   "source": [
    "my_regressor = MyDecisionTreeRegressor()\n",
    "\n",
    "score, threshold, feature_idx, split = my_regressor.calc_best_split(X_toy, y_toy)"
   ]
  },
  {
   "cell_type": "code",
   "execution_count": 7,
   "id": "ed177dd6",
   "metadata": {},
   "outputs": [
    {
     "name": "stdout",
     "output_type": "stream",
     "text": [
      "Best feature index:   0 (0=weight, 1=height)\n",
      "Best threshold:       84.0 (for the best feature)\n",
      "#samples (left)       15\n",
      "#samples (right)      5\n"
     ]
    }
   ],
   "source": [
    "print(\"Best feature index:   {} (0=weight, 1=height)\".format(feature_idx))\n",
    "print(\"Best threshold:       {} (for the best feature)\".format(threshold))\n",
    "print(\"#samples (left)       {}\".format(len(split[0])))\n",
    "print(\"#samples (right)      {}\".format(len(split[1])))"
   ]
  },
  {
   "cell_type": "markdown",
   "id": "b47ff588",
   "metadata": {},
   "source": [
    "The code cell above should yield the following output:\n",
    "    \n",
    "```\n",
    "Best feature index:   0 (0=weight, 1=height)\n",
    "Best threshold:       84.0 (for the best feature)\n",
    "#samples (left)       15\n",
    "#samples (right)      5\n",
    "```"
   ]
  },
  {
   "cell_type": "markdown",
   "id": "0230b76a",
   "metadata": {},
   "source": [
    "You can now also compare your implementation with scitkit-learn's [`DecisionTreeRegressor`](https://scikit-learn.org/stable/modules/generated/sklearn.tree.DecisionTreeRegressor.html) implementation. Since we are only interested in the first split here -- that is, we are only interested in the root node and its two children -- we can set `max_depth=1`."
   ]
  },
  {
   "cell_type": "code",
   "execution_count": 8,
   "id": "cca1e89b",
   "metadata": {},
   "outputs": [
    {
     "data": {
      "image/png": "[encoded data removed]",
      "text/plain": [
       "<Figure size 640x480 with 1 Axes>"
      ]
     },
     "metadata": {},
     "output_type": "display_data"
    }
   ],
   "source": [
    "sk_regressor = DecisionTreeRegressor(max_depth=1).fit(X_toy, y_toy)\n",
    "\n",
    "plt.figure()\n",
    "tree.plot_tree(sk_regressor)\n",
    "plt.show()"
   ]
  },
  {
   "cell_type": "markdown",
   "id": "22fb7c59",
   "metadata": {},
   "source": [
    "The information in the box for the root node reflects the feature index and threshold for the best split; the boxes for the two child nodes show you the number of samples in both children. Of course, all that information should match your results from above."
   ]
  },
  {
   "cell_type": "markdown",
   "id": "852275e0",
   "metadata": {},
   "source": [
    "#### 1.1 c) Training the Decision Tree Regressor (4 Points)\n",
    "\n",
    "With all the methods for scoring and splitting nodes in place, we can now train our Decision Tree. To this end, let's first load a small dataset. We use the [Hitters](https://www.kaggle.com/floser/hitters) dataset which aims to predict the salaries of baseball players based on their statistics. You can check the website for more details about the different features. In the following, we just consider a subset of all features to keep it simple."
   ]
  },
  {
   "cell_type": "code",
   "execution_count": 9,
   "id": "9e137bc0",
   "metadata": {},
   "outputs": [
    {
     "name": "stdout",
     "output_type": "stream",
     "text": [
      "Size of training set: 210\n",
      "Size of test: 53\n"
     ]
    }
   ],
   "source": [
    "subset = ['AtBat', 'Hits', 'HmRun', 'Runs', 'RBI', 'Years', 'Assists', 'Errors']\n",
    "\n",
    "df = pd.read_csv('data/a2-hitters.csv')\n",
    "df = df.dropna(subset=subset+['Salary']) # We ignore all samples with NA values; it's not important here\n",
    "\n",
    "X = df[subset].to_numpy()\n",
    "y = df[['Salary']].to_numpy().squeeze()\n",
    "\n",
    "# Note: sklearn.model_selection.train_test_split also shuffles the data!\n",
    "# So we need to set random_state to ensure consistent results\n",
    "X_train, X_test, y_train, y_test = train_test_split(X, y, test_size=0.2, random_state=0)\n",
    "\n",
    "print(\"Size of training set: {}\".format(len(X_train)))\n",
    "print(\"Size of test: {}\".format(len(X_test)))"
   ]
  },
  {
   "cell_type": "markdown",
   "id": "2f8f0b07",
   "metadata": {},
   "source": [
    "Have a good look at methods `fit()` and `_fit()` and get a good understanding! They basically contain all the code required for recursively splitting nodes. So you don't have to worry about that. The only things missing from the `_fit()` method are the conditions for when to stop the recursion. Some conditions can be checked before calculating the best split, some afterwards (cf. lecture slides, including the ones to avoid overfitting).\n",
    "\n",
    "**Implement the conditions to stop the recursion in method `_fit()` as indicated by `max_depth` and `min_samples_split`**! \n",
    "\n",
    "For example, if `max_depth`=1, this condition should stop the recursion even if we are in the top level node (which has `depth`=0). Similarly, we should stop the recursion if the current node has less than `min_samples_split` samples. The existing code has some stopping conditions already implemented; you can use them as examples.\n",
    "\n",
    "Each condition can be implemented as a simple `if` statement that will `return` if true. (Note: The 2 parameters `max_depth` and `min_samples_split` are adopted from scikit-learn's [`DecisionTreeRegressor`](https://scikit-learn.org/stable/modules/generated/sklearn.tree.DecisionTreeRegressor.html); only exception: `min_samples_split` is only interpreted as *int*, scitkit-learn also has a separate interpretation if `min_sample_split` is a *float*)"
   ]
  },
  {
   "cell_type": "code",
   "execution_count": 10,
   "id": "ffc58326",
   "metadata": {},
   "outputs": [
    {
     "name": "stdout",
     "output_type": "stream",
     "text": [
      "Compare node counts for different values of max_depth\n",
      "3 vs 3\n",
      "13 vs 13\n",
      "41 vs 41\n",
      "\n",
      "Compare node counts for different values of min_samples_split\n",
      "99 vs 99\n",
      "41 vs 41\n",
      "31 vs 31\n"
     ]
    }
   ],
   "source": [
    "print('Compare node counts for different values of max_depth')\n",
    "for max_depth in [1, 3, 5]:\n",
    "    my_regressor = MyDecisionTreeRegressor(max_depth=max_depth).fit(X_train, y_train)\n",
    "    sk_regressor = DecisionTreeRegressor(max_depth=max_depth).fit(X_train, y_train)\n",
    "    print('{} vs {}'.format(sk_regressor.tree_.node_count, my_regressor.get_node_count()))\n",
    "\n",
    "print('\\nCompare node counts for different values of min_samples_split')\n",
    "for min_samples_split in [10, 20, 30]:\n",
    "    my_regressor = MyDecisionTreeRegressor(min_samples_split=min_samples_split).fit(X_train, y_train)\n",
    "    sk_regressor = DecisionTreeRegressor(min_samples_split=min_samples_split).fit(X_train, y_train)\n",
    "    print('{} vs {}'.format(sk_regressor.tree_.node_count, my_regressor.get_node_count()))"
   ]
  },
  {
   "cell_type": "markdown",
   "id": "c2ee33a5",
   "metadata": {},
   "source": [
    "Of course, the pairs of node counts should always match. (Hint: In case of (small) discrepancies, you first might want to check the stop conditions in the `_fit()` method. Simply a `<` instead of a `<=` can change the outcome. You can consult with the documentation of scikit-learn's [`DecisionTreeRegressor`](https://scikit-learn.org/stable/modules/generated/sklearn.tree.DecisionTreeRegressor.html) to identify the correct conditions)"
   ]
  },
  {
   "cell_type": "markdown",
   "id": "381ef0a1",
   "metadata": {},
   "source": [
    "#### Predicting Output Values (nothing for you to do here!)\n",
    "\n",
    "With the code for training the Decision Tree, the code for predicting output values is very straightforward. We therefore provide you with the methods `predict()` and `predict_sample()` with the former simply calling the latter for each given sample. The prediction of a single sample has to consider only two cases: (a) if the current node is not a leaf, we need to decide whether to recursively check the left or the right child node; (b) if the current node is a leaf, the predicted value is simply the mean of values in the node. Have a good look at `predict_sample()` to convince yourself that this method implements these two cases.\n",
    "\n",
    "With the implementation of `MyDecisionTreeRegressor` complete, you can now compare your implementation with the one from scikit-learn in terms of the prediction values. The code cell below trains two Decision Trees, one using your implementation and the one from scikit-learn. Feel free to modify the values of `max_depth` and `min_samples_split`. For comparison, we print the predicted values of the first five samples in the test set `X_test` derived from both decision trees."
   ]
  },
  {
   "cell_type": "code",
   "execution_count": 11,
   "id": "58cc3184",
   "metadata": {},
   "outputs": [
    {
     "name": "stdout",
     "output_type": "stream",
     "text": [
      "[244.75       725.92588889 244.75       725.92588889 207.46666667]\n",
      "[244.75       725.92588889 244.75       725.92588889 207.46666667]\n"
     ]
    }
   ],
   "source": [
    "max_depth = 5\n",
    "min_samples_split = 20\n",
    "\n",
    "my_regressor = MyDecisionTreeRegressor(max_depth=max_depth, min_samples_split=min_samples_split).fit(X_train, y_train)\n",
    "sk_regressor = DecisionTreeRegressor(max_depth=max_depth, min_samples_split=min_samples_split).fit(X_train, y_train)\n",
    "\n",
    "# Let's compare the first 5 predicted values\n",
    "print(my_regressor.predict(X_test)[:5])\n",
    "print(sk_regressor.predict(X_test)[:5])"
   ]
  },
  {
   "cell_type": "markdown",
   "id": "4606a212",
   "metadata": {},
   "source": [
    "If you get identical predictions from both Decision Trees (and different values for `max_depth` and `min_samples_split`), your implementation should be correct."
   ]
  },
  {
   "cell_type": "markdown",
   "id": "0f485d30",
   "metadata": {},
   "source": [
    "### 1.2 True/False Questions about Decision Trees (6 Points)"
   ]
  },
  {
   "cell_type": "markdown",
   "id": "7b93efb6",
   "metadata": {},
   "source": [
    "This is a markdown cell. Please fill in your answers for (1)~(3).\n",
    "\n",
    "| No. | Question                                                                                                   | Answer       | Brief Explanation |\n",
    "|-----|------------------------------------------------------------------------------------------------------------|--------------| ------- |\n",
    "| (1)  | The decision tree learning algorithm always finds an optimal decision tree, i.e., one that minimizes the number of questions needed to classify a case. | <font color='blue'> False </font> | <font color='blue'> There are cases where finding the optimal decision tree is computationally infeasible since the number of possible decision trees grows exponentially with the number of attributes and instances. Furthermore, the decision tree learning algorithm often relies on heuristics and approximations to reduce the search space, such as greedy algorithms that choose the best attribute to split at each node without considering the long-term consequences of this choice. This can lead to suboptimal trees that require more questions to classify a case than the optimal tree. </font> |\n",
    "| (2)  | The performance of a Decision Tree classifier or regressors generally benefits from normalization/standardization of the input data. | <font color='blue'> False </font>| <font color='blue'> No, the algorithm performance is exactly the same if the entire input data is transformed. This applies to any order-preserving transformations: e.g. normalization, standardization, rescaling. </font> |\n",
    "| (3)  | Small variations in the input data can yield very different Decision Trees.  | <font color='blue'> True </font>| <font color='blue'> Since Decision Trees formulation uses greedy heuristics such as finding the best split without considering the long-term consequences of this choice, variations in the input features can cause a different node to become the best split resulting in a completely different Decision tree. </font> |\n"
   ]
  },
  {
   "cell_type": "markdown",
   "id": "8e4fadb4",
   "metadata": {},
   "source": [
    "---"
   ]
  },
  {
   "cell_type": "markdown",
   "id": "9f11d038",
   "metadata": {},
   "source": [
    "## 2 Tree Ensembles\n",
    "\n",
    "With the implementation of a Decision Tree regressor in place, the goal of this task now is to show that the extension to ensemble models  like Random Forests and Gradient Boosting Trees is rather straightforward one. In the following you will implement\n",
    "\n",
    "* a Random Forest regressor *and*\n",
    "* a Gradient Boosting Tree regressor\n",
    "\n",
    "For both implementations you can directly adopt the algorithms covered in the lecture. Once you have completed this task, we hope that you see even more advanced models no longer as a complicated black box :)."
   ]
  },
  {
   "cell_type": "markdown",
   "id": "e9e2a5ff",
   "metadata": {},
   "source": [
    "### 2.1. Implementing a Random Forest Regressor\n",
    "\n",
    "We saw that a Random Forest trains a whole set of Decision Trees in parallel. To yield different Decision Trees each time, two sampling strategies are performed:\n",
    "\n",
    "* **Bootstrap Sampling:** randomly sample N data points with replacement (N = total number of data points); *and*\n",
    "\n",
    "* **Feature Sampling:** randomly choose only a subset of features to be used for training and prediction."
   ]
  },
  {
   "cell_type": "markdown",
   "id": "0a338275",
   "metadata": {},
   "source": [
    "#### 2.1 a) Implement Bagging (2 Points)\n",
    "**Implement `bootstrap_sampling()` to generate a bootstrap sample for a given dataset!** \n",
    "\n",
    "The input is represented by feature array `X`, and target array `y` containing the output values. You can use the code cell below to test your implementation. The cell computes five bootstrap samples and prints the shapes of data matrix `X_bootstrap` and output values vector `y_bootstrap`, as well as the vector of the first five samples output values.\n"
   ]
  },
  {
   "cell_type": "code",
   "execution_count": 12,
   "id": "889bbb55",
   "metadata": {},
   "outputs": [
    {
     "name": "stdout",
     "output_type": "stream",
     "text": [
      "(20, 2) (20,) [ 7.  10.2  7.8  7.9  7.9  9.5  9.   7.6  6.4  6.8]\n",
      "(20, 2) (20,) [ 9.   7.6  9.8  7.6  7.9 10.2 10.2  7.8  6.4  7.9]\n",
      "(20, 2) (20,) [ 6.   7.9 10.1  6.4 11.   7.8  7.8  6.8  7.9  6.3]\n",
      "(20, 2) (20,) [ 7.9  6.3 10.1  7.7  6.4  7.8  7.7  7.9  7.   6. ]\n",
      "(20, 2) (20,) [10.2  7.9 10.2  7.8  9.8  7.   7.9  9.   7.9  7.8]\n"
     ]
    }
   ],
   "source": [
    "# We need to set the seed as the sampling is random, and we want to ensure consistent results\n",
    "np.random.seed(0)\n",
    "\n",
    "my_random_forest = MyRandomForestRegressor()\n",
    "\n",
    "for _ in range(5):\n",
    "    X_bootstrap, y_bootstrap = my_random_forest.bootstrap_sampling(X_toy, y_toy)\n",
    "    print(X_bootstrap.shape, y_bootstrap.shape, y_bootstrap[:10])"
   ]
  },
  {
   "cell_type": "markdown",
   "id": "9598f4a2",
   "metadata": {},
   "source": [
    "The expected output is as follows:\n",
    "\n",
    "```\n",
    "(20, 2) (20,) [ 7.  10.2  7.8  7.9  7.9  9.5  9.   7.6  6.4  6.8]\n",
    "(20, 2) (20,) [ 9.   7.6  9.8  7.6  7.9 10.2 10.2  7.8  6.4  7.9]\n",
    "(20, 2) (20,) [ 6.   7.9 10.1  6.4 11.   7.8  7.8  6.8  7.9  6.3]\n",
    "(20, 2) (20,) [ 7.9  6.3 10.1  7.7  6.4  7.8  7.7  7.9  7.   6. ]\n",
    "(20, 2) (20,) [10.2  7.9 10.2  7.8  9.8  7.   7.9  9.   7.9  7.8]\n",
    "```\n",
    "\n",
    "Most importantly, the size of each bootstrap sample should reflect the size of the original dataset -- that is, each bootstrap sample needs to contain 20 data samples, each with two features for the toy dataset (weight and height)."
   ]
  },
  {
   "cell_type": "markdown",
   "id": "b94ce4e3",
   "metadata": {},
   "source": [
    "#### 2.1 b) Implement Feature Sampling (2 Points)\n",
    "**Implement method `feature_sampling()`!** \n",
    "The input is a feature array `X`; to specify the number of features we use a simple approach where `max_features` specifies the ratio of features to be considered. Apart from the new dataset `X_sample` the method also returns the indices of the selected features; you will need this information when implementing the `fit()` method for training the Random Forest.\n",
    "\n",
    "Have a look at the `__init__()` method; note that `MyRandomForestRegressor` already supports the `max_features` parameter which is aligned with the [`RandomForestRegressor`](https://scikit-learn.org/stable/modules/generated/sklearn.ensemble.RandomForestRegressor.html) from scikit-learn. For the implementation of `feature_sampling()`, however, we keep it simple, and consider `max_features` as a *float* which value between 0 and 1, reflecting the ratio of features to include in the sample. For example, if `max_features=0.4`, only 40% of all features are part of the sample. If this number is not an integer, please always round up (Hint: [`np.ceil`](https://numpy.org/doc/stable/reference/generated/numpy.ceil.html)).\n",
    "\n",
    "You can use the code cell below to test your implementation. Since the toy dataset has only 2 features, feature sampling with `max_features=0.5` and lower will return only one feature.\n"
   ]
  },
  {
   "cell_type": "code",
   "execution_count": 13,
   "id": "8dada045",
   "metadata": {},
   "outputs": [
    {
     "name": "stdout",
     "output_type": "stream",
     "text": [
      "(20, 2) [1 0]\n",
      "(20, 2) [0 1]\n",
      "(20, 2) [0 1]\n",
      "(20, 2) [1 0]\n",
      "(20, 2) [0 1]\n"
     ]
    }
   ],
   "source": [
    "# We need to set the seed as the sampling is random, and we want to ensure consistent results\n",
    "np.random.seed(0)\n",
    "\n",
    "my_random_forest = MyRandomForestRegressor(max_features=0.7)\n",
    "\n",
    "for _ in range(5):\n",
    "    X_sample, indices_sampled = my_random_forest.feature_sampling(X_toy)\n",
    "    print(X_sample.shape, indices_sampled)"
   ]
  },
  {
   "cell_type": "markdown",
   "id": "038cebb0",
   "metadata": {},
   "source": [
    "The expected output is as follows:\n",
    "\n",
    "```\n",
    "(20, 1) [1]\n",
    "(20, 1) [0]\n",
    "(20, 1) [0]\n",
    "(20, 1) [1]\n",
    "(20, 1) [0]\n",
    "```\n",
    "\n",
    "Since we round up, the result will also be the same for, say `max_features=0.00001`. If you set `max_fetures` to a value larger than 0.5, all two features will be selected and each line in the output should be `(20, 2) [0 1]` or `(20, 2) [1 0]`. Values for `max_features` less or equal to `0`  or larger than `1.0` are of course invalid. But you do not need to make any checks in your implementation!"
   ]
  },
  {
   "cell_type": "markdown",
   "id": "d8fa3e54",
   "metadata": {},
   "source": [
    "#### 2.1 c) Training the Random Forest (2 Points)\n",
    "\n",
    "With **Bootstrap Sampling (Bagging)** and **Feature Sampling** -- and of course the implementation of your Decision Tree regressor -- everything is in place to finally train the Random Forest. As we saw in the lecture, training a Random Forest is simply training multiple Decision Trees based on different sampled datasets.\n",
    "\n",
    "**Implement method `fit()` to train the Random Forest!** Have a good look at the given code snippet, and note that you need to keep track of the tuple `(regressor, indices_sampled)` for each estimator (i.e., Decision Tree). You will need `indices_sampled` later when making predictions, as you can only predict using those features that were also used during the training of a particular regressor.\n",
    "\n",
    "You can use the code cell below to test your implementation.\n"
   ]
  },
  {
   "cell_type": "code",
   "execution_count": 14,
   "id": "de4c0ee0",
   "metadata": {},
   "outputs": [
    {
     "name": "stdout",
     "output_type": "stream",
     "text": [
      "[8.1 8.1] [1]\n",
      "[7.8 9.5] [0]\n",
      "[7.8 9.5] [0]\n",
      "[8.1 8.1] [1]\n",
      "[7.8 9.5] [0]\n"
     ]
    }
   ],
   "source": [
    "# We need to set the seed as the sampling is random, and we want to ensure consistent results\n",
    "np.random.seed(1)\n",
    "\n",
    "my_random_forest = MyRandomForestRegressor(n_estimators=100, max_features=0.5).fit(X_toy, y_toy)\n",
    "\n",
    "for i in range(5):\n",
    "    print(my_random_forest.estimators[i][0].predict(np.array([[73, 180], [90, 170]])), my_random_forest.estimators[i][1])"
   ]
  },
  {
   "cell_type": "markdown",
   "id": "76de7b46",
   "metadata": {},
   "source": [
    "The expected output is as follows:\n",
    "\n",
    "```\n",
    "[8.1 8.1] [1]\n",
    "[7.8 9.5] [0]\n",
    "[7.8 9.5] [0]\n",
    "[8.1 8.1] [1]\n",
    "[7.8 9.5] [0]\n",
    "```"
   ]
  },
  {
   "cell_type": "markdown",
   "id": "22f77954",
   "metadata": {},
   "source": [
    "#### 2.1 d) Predicting the Output Values (2 Points)\n",
    "\n",
    "With a trained Random Forest, all that's left is to predict the output values for new data points. We do this by using each estimator (i.e., Decision Tree) to predict the value, and then calculate the average over predictions. Again, since we can only use those features with which an individual Decision Tree was trained on, you need information about `indices_sampled` here (cf. `fit()` method).\n",
    "\n",
    "**Implement method `predict()` to predict the output values for new data points! (2 Points)** The input is represented by a feature array `X` containing all new data points. If `X` contains N data points, the result should be an array containing all N predictions.\n",
    "\n",
    "You can use the code cell below to test your implementation.\n"
   ]
  },
  {
   "cell_type": "code",
   "execution_count": 15,
   "id": "0b4437d0",
   "metadata": {},
   "outputs": [
    {
     "name": "stdout",
     "output_type": "stream",
     "text": [
      "[ 6.995 10.435]\n"
     ]
    }
   ],
   "source": [
    "# We need to set the seed as the sampling is random, and we want to ensure consistent results\n",
    "np.random.seed(1)\n",
    "\n",
    "my_random_forest = MyRandomForestRegressor(n_estimators=100, max_features=1.0).fit(X_toy, y_toy)\n",
    "\n",
    "print(my_random_forest.predict(np.array([[73, 180], [90, 170]])))"
   ]
  },
  {
   "cell_type": "markdown",
   "id": "c9a97287",
   "metadata": {},
   "source": [
    "The expected output is as follows:\n",
    "\n",
    "```\n",
    "[ 6.995 10.435]\n",
    "```"
   ]
  },
  {
   "cell_type": "markdown",
   "id": "560e8ca2",
   "metadata": {},
   "source": [
    "#### Additional Tests (nothing for you to do here!)\n",
    "\n",
    "You have now implemented your Random Forest regressor. This means that you can now also compare your implementation with the one from scikit-learn. Due to the random sampling, it is basically not possible to ensure the same results. Although we set `np.random.seed()`, your implementation and the one from scikit-learn are too different for that to matter. To lower the effect of randomization we can \"switch off\" feature sampling by always using all features (`max_features=1.0`).\n",
    "\n",
    "Try different values for `n_estimators`. You should see that the more estimators you use the more similar the results. This shouldn't be surprising as we make the predictions as this tends to stabilize the results. Just don't go too high as your implementation is far from optimized :).\n"
   ]
  },
  {
   "cell_type": "code",
   "execution_count": 16,
   "id": "b7b4f5b6",
   "metadata": {},
   "outputs": [
    {
     "name": "stdout",
     "output_type": "stream",
     "text": [
      "[312.67143 560.75831 285.995   550.56497 343.265  ]\n",
      "[292.24643 560.37498 299.13    550.5833  309.775  ]\n",
      "\n",
      "CPU times: user 22.1 s, sys: 210 ms, total: 22.3 s\n",
      "Wall time: 22.2 s\n"
     ]
    }
   ],
   "source": [
    "%%time\n",
    "\n",
    "# We need to set the seed as the sampling is random, and we want to ensure consistent results\n",
    "np.random.seed(1)\n",
    "\n",
    "n_estimators = 100\n",
    "\n",
    "my_random_forest = MyRandomForestRegressor(n_estimators=n_estimators, max_features=1.0).fit(X_train, y_train)\n",
    "sk_random_forest = RandomForestRegressor(n_estimators=n_estimators, max_features=1.0).fit(X_train, y_train)\n",
    "\n",
    "print(my_random_forest.predict(X_test)[:5])\n",
    "print(sk_random_forest.predict(X_test)[:5])\n",
    "print()"
   ]
  },
  {
   "cell_type": "markdown",
   "id": "283558f0",
   "metadata": {},
   "source": [
    "For `n_estimators = 100`, it should take about 30s to run, and the expected output is as follows:\n",
    "\n",
    "```\n",
    "[312.67143 560.75831 285.995   550.56497 343.265  ]\n",
    "[292.24643 560.37498 299.13    550.5833  309.775  ]\n",
    "```"
   ]
  },
  {
   "cell_type": "markdown",
   "id": "b41601ba",
   "metadata": {},
   "source": [
    "### 2.2 Questions about Tree Ensembles"
   ]
  },
  {
   "cell_type": "markdown",
   "id": "d81b353a",
   "metadata": {},
   "source": [
    "#### 2.2 a) Random Forest: Bagging Only vs. Bagging + Feature Sampling (2 Points)\n",
    "\n",
    "The code cell below trains a two series of 20 Decision Trees each. One series uses only Bagging (i.e., Bootstrap Sampling) for the training data; the other series uses both Bagging and Feature Sampling. The output shows the results for \"Bagging only\" in the left column and \"Bagging + Feature Sampling\" in the right column. `root index` represents the feature index chosen as the root node (i.e., for the first split); `#nodes` represents the total number of nodes in the trained Decision Tree.\n",
    "\n",
    "**Note:** There is nothing for you to implement here, but feel free to increase the number of Decision Trees beyond 20."
   ]
  },
  {
   "cell_type": "code",
   "execution_count": 17,
   "id": "b19f52e8",
   "metadata": {},
   "outputs": [
    {
     "name": "stdout",
     "output_type": "stream",
     "text": [
      "Bagging only\t\t\t\tBagging + Feature Sampling\n",
      "#root index: 1,  #nodes: 259\t\t#root index: 1,  #nodes: 263\n",
      "#root index: 4,  #nodes: 253\t\t#root index: 0,  #nodes: 263\n",
      "#root index: 1,  #nodes: 245\t\t#root index: 2,  #nodes: 231\n",
      "#root index: 5,  #nodes: 251\t\t#root index: 2,  #nodes: 239\n",
      "#root index: 1,  #nodes: 247\t\t#root index: 5,  #nodes: 231\n",
      "#root index: 4,  #nodes: 243\t\t#root index: 1,  #nodes: 257\n",
      "#root index: 5,  #nodes: 241\t\t#root index: 1,  #nodes: 249\n",
      "#root index: 0,  #nodes: 249\t\t#root index: 5,  #nodes: 249\n",
      "#root index: 1,  #nodes: 259\t\t#root index: 1,  #nodes: 269\n",
      "#root index: 5,  #nodes: 231\t\t#root index: 0,  #nodes: 243\n",
      "#root index: 5,  #nodes: 273\t\t#root index: 5,  #nodes: 235\n",
      "#root index: 5,  #nodes: 255\t\t#root index: 5,  #nodes: 249\n",
      "#root index: 1,  #nodes: 231\t\t#root index: 2,  #nodes: 237\n",
      "#root index: 1,  #nodes: 263\t\t#root index: 1,  #nodes: 271\n",
      "#root index: 5,  #nodes: 253\t\t#root index: 5,  #nodes: 259\n",
      "#root index: 1,  #nodes: 261\t\t#root index: 1,  #nodes: 279\n",
      "#root index: 5,  #nodes: 235\t\t#root index: 1,  #nodes: 241\n",
      "#root index: 5,  #nodes: 255\t\t#root index: 5,  #nodes: 247\n",
      "#root index: 5,  #nodes: 259\t\t#root index: 5,  #nodes: 255\n",
      "#root index: 1,  #nodes: 229\t\t#root index: 4,  #nodes: 239\n"
     ]
    }
   ],
   "source": [
    "# We need to set the seed as the sampling is random, and we want to ensure consistent results\n",
    "np.random.seed(10)\n",
    "\n",
    "my_random_forest_bagging = MyRandomForestRegressor(max_features=1.0)\n",
    "my_random_forest_sampling = MyRandomForestRegressor(max_features=0.2)\n",
    "\n",
    "print(\"Bagging only\\t\\t\\t\\tBagging + Feature Sampling\")\n",
    "for _ in range(20):\n",
    "    # Create a new bootstrap sample\n",
    "    X_t, y_t = my_random_forest_bagging.bootstrap_sampling(X_train, y_train)\n",
    "    regressor_bagging = DecisionTreeRegressor().fit(X_t, y_t)\n",
    "    \n",
    "    X_t, indices_sampled = my_random_forest_sampling.feature_sampling(X_t)\n",
    "    regressor_sampling = DecisionTreeRegressor().fit(X_t, y_t)    \n",
    "    \n",
    "    # Print core features of trained Decision Tree\n",
    "    # (feature index of root node, total of number of nodes in Decision Tree)\n",
    "    print('#root index: {},  #nodes: {}\\t\\t#root index: {},  #nodes: {}'\n",
    "          .format(regressor_bagging.tree_.feature[0], regressor_bagging.tree_.node_count,\n",
    "                  indices_sampled[regressor_sampling.tree_.feature[0]], regressor_sampling.tree_.node_count))"
   ]
  },
  {
   "cell_type": "markdown",
   "id": "1fba8e1c",
   "metadata": {},
   "source": [
    "**Interpret the result!** Comparing the resulting series of Decision Trees when using **Bagging only** and **Bagging + Feature Sampling**, what differences do you observe in the root indices chosen between the left and right cases? Please explain your observations. (You do not need to comment on the #nodes for now)\n",
    "\n",
    "(It might be useful to remember that the size of `X_train` is 210 data samples with 8 features; note also that each [`sklearn.tree.DecisionTreeRegressor`](https://scikit-learn.org/stable/modules/generated/sklearn.tree.DecisionTreeRegressor.html) has been trained with their default parameters)\n",
    "\n",
    "**Your Answer:**"
   ]
  },
  {
   "cell_type": "markdown",
   "id": "f447fe56",
   "metadata": {},
   "source": [
    "<font color=\"blue\">\n",
    "    \n",
    "1. In Bagging (B), all 8 features are used to compute the root index. In Bagging + Feature Sampling (BF), 2 features are used to compute the root index.\n",
    "    \n",
    "2. 9/20 (45%) individual trees selected the same root index irrespective of the methods, using the same boostratpped data.\n",
    "\n",
    "```\n",
    "#root index: 1,  #nodes: 259\t\t#root index: 1,  #nodes: 263\n",
    "#root index: 1,  #nodes: 259\t\t#root index: 1,  #nodes: 269\n",
    "#root index: 5,  #nodes: 273\t\t#root index: 5,  #nodes: 235\n",
    "#root index: 5,  #nodes: 255\t\t#root index: 5,  #nodes: 249\n",
    "#root index: 1,  #nodes: 263\t\t#root index: 1,  #nodes: 271\n",
    "#root index: 5,  #nodes: 253\t\t#root index: 5,  #nodes: 259\n",
    "#root index: 1,  #nodes: 261\t\t#root index: 1,  #nodes: 279\n",
    "#root index: 5,  #nodes: 255\t\t#root index: 5,  #nodes: 247\n",
    "#root index: 5,  #nodes: 259\t\t#root index: 5,  #nodes: 255\n",
    "```\n",
    "    \n",
    "3. Therefore, this means that (BF) arrived at the same decision as (B) with lesser computation for the best split (80% less computation).\n",
    "    \n",
    "4. Moreover, (B) selects root index mainly from `{0, 1, 4, 5}` after comparing all eight features. This means that these might be the Top-4 best splits in most cases. However, (BF) selects the root index from `{0, 1, 2, 4, 5}` after random sampling and comparison between resulting two features. The only difference is the addition of feature `2` in BF. This shows that BF is able to deduce the Top-4 best splits as well with extremely less computation, along with avoiding overfitting the data.\n",
    "        \n",
    "</font>    "
   ]
  },
  {
   "cell_type": "markdown",
   "id": "e5490faa",
   "metadata": {},
   "source": [
    "#### 2.2 b) Random Forest: Regression vs. Classification (2 Points)\n",
    "\n",
    "The markdown cell below shows a screenshot showing similar results as you have seen in 2.2 a). The only difference here is that these results stem from a classification task (and not a regression task). More specifically, the simple [IRIS](https://archive.ics.uci.edu/ml/datasets/iris) dataset was: it's small and clean, and has only numerical features. The dataset contains 3 classes of 50 instances each, where each class refers to a type of iris plant described by 4 features. This means that each Decision Tree has been trained with 150 data samples."
   ]
  },
  {
   "cell_type": "markdown",
   "id": "2af7e8d6",
   "metadata": {},
   "source": [
    "<img src=\"data/a2-rf-regression-vs-classification.png\" width=\"500\">"
   ]
  },
  {
   "cell_type": "markdown",
   "id": "35a3586c",
   "metadata": {},
   "source": [
    "**Interpret the result!** Again, state and explain the differences between the left and right cases, both in the root index and #nodes. Particularly, compare these results with the results from the regression task in 2.3 a). Explain why the number of nodes now varies greatly between the left and right cases, while it hardly varied for the earlier case (regression).\n",
    "\n",
    "(As in 2.2 a) each [`sklearn.tree.DecisionTreeClassifier`](https://scikit-learn.org/stable/modules/generated/sklearn.tree.DecisionTreeClassifier.html) has been trained with their default parameters)\n",
    "\n",
    "\n",
    "**Your Answer:**"
   ]
  },
  {
   "cell_type": "markdown",
   "id": "6e364b98",
   "metadata": {},
   "source": [
    "<font color=\"blue\">\n",
    "    \n",
    "1. Main root indexes are {2, 3}. However, when 0 is chosen due to feature sampling, the #nodes is extremely high since its a bad split choice (not a clean split).\n",
    "\n",
    "2. avoiding overfitting? lesser data than regression \n",
    "\n",
    "3. results are either yes or no, instead of ranges, therefore need cleaner split? \n",
    "        \n",
    "</font>    "
   ]
  },
  {
   "cell_type": "markdown",
   "id": "e760b761",
   "metadata": {},
   "source": [
    "---"
   ]
  },
  {
   "cell_type": "markdown",
   "id": "7c85e0ae",
   "metadata": {},
   "source": [
    "## 3 Logistic Regression"
   ]
  },
  {
   "cell_type": "markdown",
   "id": "b166fdac",
   "metadata": {},
   "source": [
    "### 3.1 Questions about Logistic Regression (8 Points)\n",
    "\n",
    "In the table below are 4 statements that are either True or False. Complete the table to specify whether a statement is True or False, and provide a brief explanation for your answer (Your explanation is more important than a simple True/False answer)\n"
   ]
  },
  {
   "cell_type": "markdown",
   "id": "f6e14e16",
   "metadata": {},
   "source": [
    "This is a markdown cell. Please fill in your answers for (1)~(4).\n",
    "\n",
    "| No. | Statement                                                                                                   | True or False?       | Brief Explanation |\n",
    "|-----|------------------------------------------------------------------------------------------------------------|--------------| ------- |\n",
    "| (1)  | If the dataset is linearly separable, logistic regression will eventually achieve a loss of 0 | <font color = 'blue'> True </font>| <font color = 'blue'> The minimization of the loss function (J) of logistic regression for a linearly separable dataset is a convex optimization problem (J has convexity), where the solution will always reach the global minima provided the learning rate is chosen appropriately, i.e., loss of 0. </font> |\n",
    "| (2)  | No matter how the parameter vector $\\theta$ is initialized, logistic regression will eventually always converge to the same solution (for the same dataset), if we train it to convergence | <font color = 'blue'> True </font> | <font color = 'blue'> Since the loss function (J) of logistic regression has convexity, it will always reach the global minima eventually, i.e., it will always have the same solution no matter what it's initialization is. However, the time taken to reach the global minima might be different. </font> |\n",
    "| (3)  | Since logistic regression considers the interaction between features, it always performs better then a (single) Decision Tree |<font color = 'blue'> False </font> | <font color = 'blue'> Logistic regression models the interaction between features by using non-linear transformations of the input variables. However, it assumes a linear relationship between the transformed input variables and the target variable. In contrast, decision trees can model non-linear relationships between the input variables and the target variable by recursively partitioning the input space based on the input features. Therefore, it is not always true that logistic regression performs better than a single decision tree. The performance of each algorithm depends on the nature of the problem and the characteristics of the data. For example, logistic regression may be better suited for problems where the relationship between the input variables and the target variable is approximately linear, while decision trees may be better suited for problems where the relationship is non-linear and can be captured by a series of simple rules. </font> |\n",
    "| (4)  | When incorporating Regularization into logistic regression, you would generally see larger training loss | <font color = 'blue'> True </font> |  <font color = 'blue'> Generalization avoids overfitting to the training dataset by penalizing the loss function at each iteration. Therefore, the training loss is generally larger. </font>|\n"
   ]
  },
  {
   "cell_type": "markdown",
   "id": "d264c7fa",
   "metadata": {},
   "source": [
    "---"
   ]
  },
  {
   "cell_type": "markdown",
   "id": "b5308410",
   "metadata": {},
   "source": [
    "## 4 Model Selection"
   ]
  },
  {
   "cell_type": "markdown",
   "id": "ffaff2cd",
   "metadata": {},
   "source": [
    "The topic \"Classification & Regression\" covered a whole series of different models. In this section, we look at the basic data mining task of finding the best model for a given dataset: which model performs best with which hyperparameters. To keep it simple and keep the implementation work to a minimum, we make full use of scikit-learn (see additional hints in the subtasks)."
   ]
  },
  {
   "cell_type": "markdown",
   "id": "5b1cc7dd",
   "metadata": {},
   "source": [
    "#### Prepare Dataset\n",
    "\n",
    "#### Load Dataset from File\n",
    "\n",
    "We use a [WHO Life Expectancy](https://www.kaggle.com/kumarajarshi/life-expectancy-who) dataset for this task. Note that we cleaned the dataset for you (i.e., there are no dirty records in there)."
   ]
  },
  {
   "cell_type": "markdown",
   "id": "0433a87f",
   "metadata": {},
   "source": [
    "Let's load the file and have a look at it."
   ]
  },
  {
   "cell_type": "code",
   "execution_count": 44,
   "id": "34eba01a",
   "metadata": {},
   "outputs": [
    {
     "data": {
      "text/html": [
       "<div>\n",
       "<style scoped>\n",
       "    .dataframe tbody tr th:only-of-type {\n",
       "        vertical-align: middle;\n",
       "    }\n",
       "\n",
       "    .dataframe tbody tr th {\n",
       "        vertical-align: top;\n",
       "    }\n",
       "\n",
       "    .dataframe thead th {\n",
       "        text-align: right;\n",
       "    }\n",
       "</style>\n",
       "<table border=\"1\" class=\"dataframe\">\n",
       "  <thead>\n",
       "    <tr style=\"text-align: right;\">\n",
       "      <th></th>\n",
       "      <th>Year</th>\n",
       "      <th>Status</th>\n",
       "      <th>Adult Mortality</th>\n",
       "      <th>infant deaths</th>\n",
       "      <th>Alcohol</th>\n",
       "      <th>percentage expenditure</th>\n",
       "      <th>Hepatitis B</th>\n",
       "      <th>Measles</th>\n",
       "      <th>BMI</th>\n",
       "      <th>under-five deaths</th>\n",
       "      <th>...</th>\n",
       "      <th>Total expenditure</th>\n",
       "      <th>Diphtheria</th>\n",
       "      <th>HIV/AIDS</th>\n",
       "      <th>GDP</th>\n",
       "      <th>Population</th>\n",
       "      <th>thinness  1-19 years</th>\n",
       "      <th>thinness 5-9 years</th>\n",
       "      <th>Income composition of resources</th>\n",
       "      <th>Schooling</th>\n",
       "      <th>Life expectancy</th>\n",
       "    </tr>\n",
       "  </thead>\n",
       "  <tbody>\n",
       "    <tr>\n",
       "      <th>0</th>\n",
       "      <td>2015</td>\n",
       "      <td>Developing</td>\n",
       "      <td>263.0</td>\n",
       "      <td>62</td>\n",
       "      <td>0.01</td>\n",
       "      <td>71.279624</td>\n",
       "      <td>65.0</td>\n",
       "      <td>1154</td>\n",
       "      <td>19.1</td>\n",
       "      <td>83</td>\n",
       "      <td>...</td>\n",
       "      <td>8.16</td>\n",
       "      <td>65.0</td>\n",
       "      <td>0.1</td>\n",
       "      <td>584.259210</td>\n",
       "      <td>33736494.0</td>\n",
       "      <td>17.2</td>\n",
       "      <td>17.3</td>\n",
       "      <td>0.479</td>\n",
       "      <td>10.1</td>\n",
       "      <td>65.0</td>\n",
       "    </tr>\n",
       "    <tr>\n",
       "      <th>1</th>\n",
       "      <td>2014</td>\n",
       "      <td>Developing</td>\n",
       "      <td>271.0</td>\n",
       "      <td>64</td>\n",
       "      <td>0.01</td>\n",
       "      <td>73.523582</td>\n",
       "      <td>62.0</td>\n",
       "      <td>492</td>\n",
       "      <td>18.6</td>\n",
       "      <td>86</td>\n",
       "      <td>...</td>\n",
       "      <td>8.18</td>\n",
       "      <td>62.0</td>\n",
       "      <td>0.1</td>\n",
       "      <td>612.696514</td>\n",
       "      <td>327582.0</td>\n",
       "      <td>17.5</td>\n",
       "      <td>17.5</td>\n",
       "      <td>0.476</td>\n",
       "      <td>10.0</td>\n",
       "      <td>59.9</td>\n",
       "    </tr>\n",
       "    <tr>\n",
       "      <th>2</th>\n",
       "      <td>2013</td>\n",
       "      <td>Developing</td>\n",
       "      <td>268.0</td>\n",
       "      <td>66</td>\n",
       "      <td>0.01</td>\n",
       "      <td>73.219243</td>\n",
       "      <td>64.0</td>\n",
       "      <td>430</td>\n",
       "      <td>18.1</td>\n",
       "      <td>89</td>\n",
       "      <td>...</td>\n",
       "      <td>8.13</td>\n",
       "      <td>64.0</td>\n",
       "      <td>0.1</td>\n",
       "      <td>631.744976</td>\n",
       "      <td>31731688.0</td>\n",
       "      <td>17.7</td>\n",
       "      <td>17.7</td>\n",
       "      <td>0.470</td>\n",
       "      <td>9.9</td>\n",
       "      <td>59.9</td>\n",
       "    </tr>\n",
       "    <tr>\n",
       "      <th>3</th>\n",
       "      <td>2012</td>\n",
       "      <td>Developing</td>\n",
       "      <td>272.0</td>\n",
       "      <td>69</td>\n",
       "      <td>0.01</td>\n",
       "      <td>78.184215</td>\n",
       "      <td>67.0</td>\n",
       "      <td>2787</td>\n",
       "      <td>17.6</td>\n",
       "      <td>93</td>\n",
       "      <td>...</td>\n",
       "      <td>8.52</td>\n",
       "      <td>67.0</td>\n",
       "      <td>0.1</td>\n",
       "      <td>669.959000</td>\n",
       "      <td>3696958.0</td>\n",
       "      <td>17.9</td>\n",
       "      <td>18.0</td>\n",
       "      <td>0.463</td>\n",
       "      <td>9.8</td>\n",
       "      <td>59.5</td>\n",
       "    </tr>\n",
       "    <tr>\n",
       "      <th>4</th>\n",
       "      <td>2011</td>\n",
       "      <td>Developing</td>\n",
       "      <td>275.0</td>\n",
       "      <td>71</td>\n",
       "      <td>0.01</td>\n",
       "      <td>7.097109</td>\n",
       "      <td>68.0</td>\n",
       "      <td>3013</td>\n",
       "      <td>17.2</td>\n",
       "      <td>97</td>\n",
       "      <td>...</td>\n",
       "      <td>7.87</td>\n",
       "      <td>68.0</td>\n",
       "      <td>0.1</td>\n",
       "      <td>63.537231</td>\n",
       "      <td>2978599.0</td>\n",
       "      <td>18.2</td>\n",
       "      <td>18.2</td>\n",
       "      <td>0.454</td>\n",
       "      <td>9.5</td>\n",
       "      <td>59.2</td>\n",
       "    </tr>\n",
       "  </tbody>\n",
       "</table>\n",
       "<p>5 rows × 21 columns</p>\n",
       "</div>"
      ],
      "text/plain": [
       "   Year      Status  Adult Mortality  infant deaths  Alcohol  \\\n",
       "0  2015  Developing            263.0             62     0.01   \n",
       "1  2014  Developing            271.0             64     0.01   \n",
       "2  2013  Developing            268.0             66     0.01   \n",
       "3  2012  Developing            272.0             69     0.01   \n",
       "4  2011  Developing            275.0             71     0.01   \n",
       "\n",
       "   percentage expenditure  Hepatitis B  Measles   BMI  under-five deaths  ...  \\\n",
       "0               71.279624         65.0     1154  19.1                 83  ...   \n",
       "1               73.523582         62.0      492  18.6                 86  ...   \n",
       "2               73.219243         64.0      430  18.1                 89  ...   \n",
       "3               78.184215         67.0     2787  17.6                 93  ...   \n",
       "4                7.097109         68.0     3013  17.2                 97  ...   \n",
       "\n",
       "   Total expenditure  Diphtheria  HIV/AIDS         GDP  Population  \\\n",
       "0               8.16        65.0       0.1  584.259210  33736494.0   \n",
       "1               8.18        62.0       0.1  612.696514    327582.0   \n",
       "2               8.13        64.0       0.1  631.744976  31731688.0   \n",
       "3               8.52        67.0       0.1  669.959000   3696958.0   \n",
       "4               7.87        68.0       0.1   63.537231   2978599.0   \n",
       "\n",
       "   thinness  1-19 years  thinness 5-9 years  Income composition of resources  \\\n",
       "0                  17.2                17.3                            0.479   \n",
       "1                  17.5                17.5                            0.476   \n",
       "2                  17.7                17.7                            0.470   \n",
       "3                  17.9                18.0                            0.463   \n",
       "4                  18.2                18.2                            0.454   \n",
       "\n",
       "   Schooling  Life expectancy  \n",
       "0       10.1             65.0  \n",
       "1       10.0             59.9  \n",
       "2        9.9             59.9  \n",
       "3        9.8             59.5  \n",
       "4        9.5             59.2  \n",
       "\n",
       "[5 rows x 21 columns]"
      ]
     },
     "execution_count": 44,
     "metadata": {},
     "output_type": "execute_result"
    }
   ],
   "source": [
    "df = pd.read_csv('data/a2-life-expectancy-cleaned.csv')\n",
    "\n",
    "df.head()"
   ]
  },
  {
   "cell_type": "markdown",
   "id": "825696a4",
   "metadata": {},
   "source": [
    "For your convenience, we split the dataframe into two, one containing the input features, the other containing the class labels."
   ]
  },
  {
   "cell_type": "code",
   "execution_count": 45,
   "id": "fcda3f03",
   "metadata": {},
   "outputs": [],
   "source": [
    "df_X = df.iloc[:,0:-1]\n",
    "df_y = df.iloc[:,-1]"
   ]
  },
  {
   "cell_type": "markdown",
   "id": "f5019219",
   "metadata": {},
   "source": [
    "### 4.1 Data Preprocessing (3 Points)\n",
    "\n",
    "As usual, the first step is data preprocessing (informed by an EDA). As mentioned, above there's not much to do as this dataset does not contain any \"dirty\" records, particularly, there are no NA values in any of the columns/features. As such, there should be no need to remove any samples.\n",
    "\n",
    "**Preprocess the data:** Note that we have already imported [`sklearn.preprocessing`](https://scikit-learn.org/stable/modules/preprocessing.html). You should convert the categorical feature (`Status`) to a binary feature, and also scale the data with correct usage of `StandardScaler`. Note that we have provided **two code blocks**; for each of the operations you need to do, you should choose appropriately as to whether your operations should be done in the former or latter blocks (recalling discussion in lecture on avoiding leakage)."
   ]
  },
  {
   "cell_type": "code",
   "execution_count": 46,
   "id": "fc33921f",
   "metadata": {},
   "outputs": [],
   "source": [
    "#########################################################################################\n",
    "### Your code starts here ############################################################### \n",
    "labelencoder= preprocessing.LabelEncoder()\n",
    "df_X['Status'] = labelencoder.fit_transform(df_X['Status'])\n",
    "### Your code ends here #################################################################\n",
    "#########################################################################################"
   ]
  },
  {
   "cell_type": "code",
   "execution_count": 47,
   "id": "55c4defa",
   "metadata": {},
   "outputs": [],
   "source": [
    "# Convert dataframes to numpy arrays\n",
    "X, y = df_X.to_numpy(), df_y.to_numpy()\n",
    "\n",
    "# Split dataset in training and test data (20% test data)\n",
    "X_train, X_test, y_train, y_test = train_test_split(X, y, test_size=0.2, random_state=0)"
   ]
  },
  {
   "cell_type": "code",
   "execution_count": 48,
   "id": "b5e89352",
   "metadata": {},
   "outputs": [],
   "source": [
    "#########################################################################################\n",
    "### Your code starts here ###############################################################\n",
    "scaler = StandardScaler()\n",
    "X_train = scaler.fit_transform(X_train)\n",
    "X_test = scaler.transform(X_test)\n",
    "### Your code ends here #################################################################\n",
    "#########################################################################################"
   ]
  },
  {
   "cell_type": "code",
   "execution_count": 49,
   "id": "28b5d6dd",
   "metadata": {},
   "outputs": [
    {
     "name": "stdout",
     "output_type": "stream",
     "text": [
      "(1319, 20)\n"
     ]
    }
   ],
   "source": [
    "print(X_train.shape)"
   ]
  },
  {
   "cell_type": "markdown",
   "id": "c0605adb",
   "metadata": {},
   "source": [
    "#### Training and Evaluating off-the-shelf Models\n",
    "\n",
    "Packages like `scikit-learn` make it almost trivial to train a variety of models with a minimum number of lines of codes. In the following code cell, we train 6 different models with their default values using the training data, and evaluate them over the test set. We use the Root Mean Squared Error (RMSE) score as the evaluation metric."
   ]
  },
  {
   "cell_type": "code",
   "execution_count": 50,
   "id": "2086d658",
   "metadata": {},
   "outputs": [
    {
     "name": "stdout",
     "output_type": "stream",
     "text": [
      "RMSE scores for test data for all regressors\n",
      "===========================================\n",
      "KNeighborsRegressor:\t3.05\n",
      "LinearRegression:\t3.53\n",
      "DecisionTreeRegressor:\t2.69\n",
      "AdaBoostRegressor:\t3.06\n",
      "RandomForestRegressor:\t1.81\n",
      "GradientBoostingRegressor:\t2.09\n"
     ]
    }
   ],
   "source": [
    "print('RMSE scores for test data for all regressors')\n",
    "print('===========================================')\n",
    "for model in [KNeighborsRegressor(), LinearRegression(), DecisionTreeRegressor(),\n",
    "              AdaBoostRegressor(), RandomForestRegressor(), GradientBoostingRegressor()]:    \n",
    "    try:\n",
    "        regressor = model.fit(X_train, y_train)\n",
    "        # Predict values for test samples\n",
    "        y_pred = model.predict(X_test)\n",
    "        # Calculate the RMSE\n",
    "        rmse = mean_squared_error(y_test, y_pred, squared=False)\n",
    "    except Exception as e:\n",
    "        print(e)\n",
    "        # Handle exception (e.g., a regressor is still None)\n",
    "        rmse = '---'\n",
    "    # Print regressor name and the RMSE score\n",
    "    print('{}:\\t{:.3}'.format(type(regressor).__name__, rmse))"
   ]
  },
  {
   "cell_type": "markdown",
   "id": "3d06e0a4",
   "metadata": {},
   "source": [
    "### 4.2 Performing K-Fold Cross-Validation \"By Hand\"\n",
    "\n",
    "The code below shows the basic loop for an evaluation using k-fold cross-validation. The only bits missing are the steps to (a) create the k folds and (b) to construct the training set of (k-1) folds and the validation set of 1 fold. For this task, use the `DecisionTreeRegressor` by default as it is the fastest to evaluate. \n",
    "\n",
    "#### 4.2 a) Implement k-fold Cross Validation (4 Points)\n",
    "For testing and debugging, feel free to reduce `num_folds` (e.g., 5) and `param_choices` (e.g., `[1, 2, 3]`) in the beginning, as shown in the comments.\n",
    "\n",
    "(Hint: Have a look at [`np.array_split`](https://numpy.org/doc/stable/reference/generated/numpy.array_split.html))"
   ]
  },
  {
   "cell_type": "code",
   "execution_count": null,
   "id": "785cd0e4",
   "metadata": {},
   "outputs": [],
   "source": [
    "%%time\n",
    "\n",
    "num_folds = 5\n",
    "param_choices = [1, 2, 3, 5]\n",
    "\n",
    "X_train_folds = []\n",
    "y_train_folds = []\n",
    "\n",
    "#########################################################################################\n",
    "### Your code starts here ###############################################################\n",
    "\n",
    "# Hint: you can use np.array_split to split the sample indices into folds here\n",
    "\n",
    "### Your code ends here #################################################################\n",
    "#########################################################################################\n",
    "\n",
    "param_to_scores = {}\n",
    "\n",
    "for param in param_choices:\n",
    "    \n",
    "    ## We want to keep track of the training scores and validation scores\n",
    "    rmse_train, rmse_valid = [], []\n",
    "    \n",
    "    for i in range(num_folds):\n",
    "        X_train_fold, X_valid_fold = None, None\n",
    "        y_train_fold, y_valid_fold = None, None\n",
    "\n",
    "        #########################################################################################\n",
    "        ### Your code starts here ###############################################################\n",
    "        \n",
    "        # Hint: consider the np.setdiff1d function to construct the training folds here (optional; \n",
    "        # other ways are fine too)\n",
    "        \n",
    "        ### Your code ends here #################################################################\n",
    "        #########################################################################################           \n",
    "\n",
    "        \n",
    "        ## Train all the regressors one-by-one and discuss the results\n",
    "#         regressor = KNeighborsRegressor(n_neighbors=param).fit(X_train_fold, y_train_fold)\n",
    "        regressor = DecisionTreeRegressor(max_depth=param).fit(X_train_fold, y_train_fold)\n",
    "        #regressor = RandomForestRegressor(max_depth=param).fit(X_train_fold, y_train_fold)\n",
    "        #regressor = GradientBoostingRegressor(max_depth=param).fit(X_train_fold, y_train_fold)\n",
    "\n",
    "        \n",
    "        ## Predict labels for for training validation set\n",
    "        y_pred_fold_train = regressor.predict(X_train_fold)\n",
    "        y_pred_fold_valid = regressor.predict(X_valid_fold)\n",
    "      \n",
    "        ## Keep track of training and validation scores\n",
    "        rmse_train.append(mean_squared_error(y_train_fold, y_pred_fold_train, squared=False))\n",
    "        rmse_valid.append(mean_squared_error(y_valid_fold, y_pred_fold_valid, squared=False))\n",
    "        \n",
    "    ## Keep track of all num_folds scores for current param (for plotting)\n",
    "    param_to_scores[param] = (rmse_train, rmse_valid)\n",
    "    \n",
    "    ## Print statement for some immediate feedback\n",
    "    print('param = {}, RMSE (training) = {:.3f}, RMSE (validation) = {:.3f} (stdev: {:.3f})'.format(param, np.mean(rmse_train), np.mean(rmse_valid), np.std(rmse_valid)))\n",
    "    "
   ]
  },
  {
   "cell_type": "markdown",
   "id": "1ddb9583",
   "metadata": {},
   "source": [
    "If correct, your answers (for the debug case) should look like this:\n",
    "```\n",
    "param = 1, RMSE (training) = 0.000, RMSE (validation) = 3.101 (stdev: 0.240)\n",
    "param = 2, RMSE (training) = 1.581, RMSE (validation) = 2.941 (stdev: 0.211)\n",
    "param = 3, RMSE (training) = 1.998, RMSE (validation) = 2.982 (stdev: 0.107)\n",
    "param = 5, RMSE (training) = 2.463, RMSE (validation) = 3.112 (stdev: 0.091)\n",
    "```"
   ]
  },
  {
   "cell_type": "markdown",
   "id": "a861f476",
   "metadata": {},
   "source": [
    "#### Visualization of Results\n",
    "\n",
    "We provide you with 2 methods to visualize the results. `plot_validation_results()` shows all `num_folds` scores for each parameter setting together with the means and standard deviations of the validation scores."
   ]
  },
  {
   "cell_type": "code",
   "execution_count": null,
   "id": "75571983",
   "metadata": {},
   "outputs": [],
   "source": [
    "plot_validation_results(param_to_scores)"
   ]
  },
  {
   "cell_type": "markdown",
   "id": "1bbc6d09",
   "metadata": {},
   "source": [
    "The method `plot_scores()` shows the training and validation scores for each parameter setting."
   ]
  },
  {
   "cell_type": "code",
   "execution_count": null,
   "id": "f4f45988",
   "metadata": {},
   "outputs": [],
   "source": [
    "plot_scores(param_to_scores)"
   ]
  },
  {
   "cell_type": "markdown",
   "id": "03e9844e",
   "metadata": {},
   "source": [
    "The code above for the k-fold cross-validation already contains the lines for the training of 4 different regressors:\n",
    "\n",
    "* [`KNeighborsRegressor`](https://scikit-learn.org/stable/modules/generated/sklearn.neighbors.KNeighborsRegressor.html) with `n_neighbors` as hyperparameter\n",
    "\n",
    "* [`DecisionTreeRegressor`](https://scikit-learn.org/stable/modules/generated/sklearn.tree.DecisionTreeRegressor.html) with `max_depth` as hyperparameter\n",
    "\n",
    "* [`RandomForestRegressor`](https://scikit-learn.org/stable/modules/generated/sklearn.ensemble.RandomForestRegressor.html) with `max_depth` as hyperparameter\n",
    "\n",
    "* [`GradientBoostingRegressor`](https://scikit-learn.org/stable/modules/generated/sklearn.ensemble.GradientBoostingRegressor.html) with `max_depth` as hyperparameter\n",
    "\n",
    "We focus on these 4 models since we look at only one hyperparameter and consider only integer values. This `n_neighbors` (for KNN) and `max_depth` for the tree-based models are important hyperparameters (assume integer values).\n",
    "\n",
    "\n",
    "#### 4.2 b) Run k-fold Cross Validation for 4 Regressors and Discuss the Results. (6 Points)¶\n",
    "\n",
    "Based on the plots, 1) compare the methods in terms of validation performance, and explain your findings; 2) explain how the hyperparameters of each method relate to overfitting and underfitting. Hint: Use the methods `plot_scores()` and `plot_validation_results` to visualize the results; save the 2 plots for each regressor as images so you can easily compare them side by side (there's no need to submit the images later!)\n",
    "\n",
    "**Your answer:**"
   ]
  },
  {
   "cell_type": "markdown",
   "id": "59f65903",
   "metadata": {},
   "source": [
    "<font color=\"blue\">\n",
    "    \n",
    "(Your answer here)\n",
    "        \n",
    "</font>    "
   ]
  },
  {
   "cell_type": "markdown",
   "id": "5ca12daa",
   "metadata": {},
   "source": [
    "### 4.3 Hyperparameter Tuning (3 Points)\n",
    "\n",
    "The results of the different models in off-the-shelf implementations vary quite a bit, but of course, we used the only default parameters of each implementation which might or might not be good for our dataset and task. In practice, you would perform hyperparameter tuning for all or at least most models. However, this is unnecessarily since the tuning process is very similar for each model. So we do it only for one model: **GradientBoostingRegressor**, which is very similar to the boosting approach discussed in lecture.\n",
    "\n",
    "**Important hints:**\n",
    "\n",
    "* Use [`GridSearchCV`](https://scikit-learn.org/stable/modules/generated/sklearn.model_selection.GridSearchCV.html)! It automatically performs k-fold cross-validation (by default: k=5, which is fine) for all specified combinations of hyperparameter values. With [`GridSearchCV`](https://scikit-learn.org/stable/modules/generated/sklearn.model_selection.GridSearchCV.html), finding the best model (i.e., the model with the best hyperparameter models) should only require only very few lines of code!\n",
    "* For all other arguments of [`GridSearchCV`](https://scikit-learn.org/stable/modules/generated/sklearn.model_selection.GridSearchCV.html) (other than the model and the parameter grid), you can use the defaults.\n",
    "* [`GradientBoostingRegressor`](https://scikit-learn.org/stable/modules/generated/sklearn.ensemble.GradientBoostingRegressor.html) with (`base_estimator=DecisionTreeRegressor()`) provides a whole range of hyperparameters. Pick **2-3 hyperparameters** to tune the model (any choice of hyperparameters and grid values is fine; feel free to pick them based on your preference).\n",
    "* Setting a large grid (e.g. more than 10 parameter combinations) may cause `GridSearchCV` to run slowly."
   ]
  },
  {
   "cell_type": "code",
   "execution_count": null,
   "id": "1165450e",
   "metadata": {},
   "outputs": [],
   "source": [
    "%%time\n",
    "\n",
    "model = None\n",
    "\n",
    "#########################################################################################\n",
    "### Your code starts here ###############################################################\n",
    "\n",
    "\n",
    "### Your code ends here #################################################################\n",
    "######################################################################################### \n",
    "\n",
    "# Store the parameters of the best model\n",
    "best_params = model.best_params_\n",
    "\n",
    "# Predict class labels of test data on the model with the best found parameters\n",
    "y_pred = model.predict(X_test)\n",
    "\n",
    "best_mse = mean_squared_error(y_test, y_pred, squared=False)\n",
    "\n",
    "print('Best Gradient Boosting regressor: {} (RMSE: {:.3f})'.format(best_params, best_mse))"
   ]
  }
 ],
 "metadata": {
  "kernelspec": {
   "display_name": "Python 3 (ipykernel)",
   "language": "python",
   "name": "python3"
  },
  "language_info": {
   "codemirror_mode": {
    "name": "ipython",
    "version": 3
   },
   "file_extension": ".py",
   "mimetype": "text/x-python",
   "name": "python",
   "nbconvert_exporter": "python",
   "pygments_lexer": "ipython3",
   "version": "3.9.13"
  }
 },
 "nbformat": 4,
 "nbformat_minor": 5
}
