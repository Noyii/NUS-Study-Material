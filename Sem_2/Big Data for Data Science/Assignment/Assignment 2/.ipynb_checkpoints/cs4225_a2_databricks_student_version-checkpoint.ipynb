{
 "cells": [
  {
   "cell_type": "markdown",
   "metadata": {
    "application/vnd.databricks.v1+cell": {
     "cellMetadata": {},
     "inputWidgets": {},
     "nuid": "36b565b0-dc53-4172-b646-4c82e1c472be",
     "showTitle": false,
     "title": ""
    },
    "id": "yvjBmGBAxnQc"
   },
   "source": [
    "## Task 1: Spark SQL (15m)"
   ]
  },
  {
   "cell_type": "code",
   "execution_count": null,
   "metadata": {
    "application/vnd.databricks.v1+cell": {
     "cellMetadata": {},
     "inputWidgets": {},
     "nuid": "30d54257-dc20-4174-aa40-84e1f6abc56f",
     "showTitle": false,
     "title": ""
    },
    "id": "MkbrHZYEw5Cr"
   },
   "outputs": [],
   "source": [
    "from pyspark.sql import SparkSession\n",
    "spark = SparkSession.builder.master(\"local[*]\").getOrCreate()"
   ]
  },
  {
   "cell_type": "code",
   "execution_count": null,
   "metadata": {
    "application/vnd.databricks.v1+cell": {
     "cellMetadata": {},
     "inputWidgets": {},
     "nuid": "5607f10e-0a58-4330-bbeb-fa1d6863efb1",
     "showTitle": false,
     "title": ""
    },
    "id": "2luSAeOXxBiQ"
   },
   "outputs": [],
   "source": [
    "sales_file_location = \"/FileStore/tables/Sales_table.csv\"\n",
    "products_file_location = \"/FileStore/tables/Products_table.csv\"\n",
    "sellers_file_location = \"/FileStore/tables/Sellers_table.csv\"\n",
    "file_type = \"csv\"\n",
    "\n",
    "# CSV options\n",
    "infer_schema = \"true\"\n",
    "first_row_is_header = \"true\"\n",
    "delimiter = \",\"\n",
    "\n",
    "# The applied options are for CSV files. For other file types, these will be ignored.\n",
    "products_table = spark.read.format(file_type) \\\n",
    "  .option(\"inferSchema\", infer_schema) \\\n",
    "  .option(\"header\", first_row_is_header) \\\n",
    "  .option(\"sep\", delimiter) \\\n",
    "  .load(products_file_location)\n",
    "\n",
    "sales_table = spark.read.format(file_type) \\\n",
    "  .option(\"inferSchema\", infer_schema) \\\n",
    "  .option(\"header\", first_row_is_header) \\\n",
    "  .option(\"sep\", delimiter) \\\n",
    "  .load(sales_file_location)\n",
    "\n",
    "sellers_table = spark.read.format(file_type) \\\n",
    "  .option(\"inferSchema\", infer_schema) \\\n",
    "  .option(\"header\", first_row_is_header) \\\n",
    "  .option(\"sep\", delimiter) \\\n",
    "  .load(sellers_file_location)"
   ]
  },
  {
   "cell_type": "code",
   "execution_count": null,
   "metadata": {
    "application/vnd.databricks.v1+cell": {
     "cellMetadata": {},
     "inputWidgets": {},
     "nuid": "7fb33021-930c-4fa9-b595-4ed83c279ed4",
     "showTitle": false,
     "title": ""
    },
    "id": "Ps_v7oTixnQf"
   },
   "outputs": [],
   "source": [
    "# (a) Output the top 3 most popular products sold among all sellers [2m]\n",
    "# Your table should have 1 column(s): [product_name]"
   ]
  },
  {
   "cell_type": "code",
   "execution_count": null,
   "metadata": {
    "application/vnd.databricks.v1+cell": {
     "cellMetadata": {},
     "inputWidgets": {},
     "nuid": "866983b3-8214-4740-8f4d-90e87d1db482",
     "showTitle": false,
     "title": ""
    },
    "id": "Ljmb_1OaxC8Q"
   },
   "outputs": [],
   "source": [
    "# (b) Find out the total sales of the products sold by sellers 1 to 10 and output the top most sold product [2m]\n",
    "# Your table should have 1 column(s): [product_name]"
   ]
  },
  {
   "cell_type": "code",
   "execution_count": null,
   "metadata": {
    "application/vnd.databricks.v1+cell": {
     "cellMetadata": {},
     "inputWidgets": {},
     "nuid": "fa7bec8e-f93d-48ff-af38-d395c6fe7422",
     "showTitle": false,
     "title": ""
    },
    "id": "QtinRRycxDBS"
   },
   "outputs": [],
   "source": [
    "# (c) Compute the combined revenue earned from sellers where seller_id ranges from 1 to 500 inclusive. [3m]\n",
    "# Your table should have 1 column(s): [total_revenue]"
   ]
  },
  {
   "cell_type": "code",
   "execution_count": null,
   "metadata": {
    "application/vnd.databricks.v1+cell": {
     "cellMetadata": {},
     "inputWidgets": {},
     "nuid": "59c00e0a-34de-4614-b783-71beb7503716",
     "showTitle": false,
     "title": ""
    },
    "id": "jdG80LVMxnQf"
   },
   "outputs": [],
   "source": [
    "# (d) Among sellers with rating >= 4 who have achieved a combined number of products sold >= 3000, find out the top 10 most expensive product sold by any of the sellers. (If there are multiple products at the same price, please sort them in ascending order of product_id) [8m]\n",
    "# Your table should have 1 column(s): [product_name]\n",
    "# To get the full mark, your query should not run for more than 1 min\n",
    "\n"
   ]
  },
  {
   "cell_type": "markdown",
   "metadata": {
    "application/vnd.databricks.v1+cell": {
     "cellMetadata": {},
     "inputWidgets": {},
     "nuid": "2551ab92-377c-4492-9d99-258610b143a1",
     "showTitle": false,
     "title": ""
    },
    "id": "4fziMyvTxnQg"
   },
   "source": [
    "## Task 2: Spark ML (10m)"
   ]
  },
  {
   "cell_type": "code",
   "execution_count": null,
   "metadata": {
    "application/vnd.databricks.v1+cell": {
     "cellMetadata": {},
     "inputWidgets": {},
     "nuid": "2ebc093d-9256-4e99-85d3-3d36b50a6053",
     "showTitle": false,
     "title": ""
    },
    "id": "wtocOKQXxnQg"
   },
   "outputs": [],
   "source": [
    "from pyspark.sql import SparkSession\n",
    "spark = SparkSession.builder.master(\"local[*]\").getOrCreate()"
   ]
  },
  {
   "cell_type": "code",
   "execution_count": null,
   "metadata": {
    "application/vnd.databricks.v1+cell": {
     "cellMetadata": {},
     "inputWidgets": {},
     "nuid": "2eee140e-773a-4e76-9f6c-40e809e136b0",
     "showTitle": false,
     "title": ""
    },
    "id": "lQB18KhnxnQg"
   },
   "outputs": [],
   "source": [
    "bank_train_location = \"/FileStore/tables/bank_train.csv\"\n",
    "bank_test_location = \"/FileStore/tables/bank_test.csv\"\n",
    "file_type = \"csv\"\n",
    "\n",
    "# CSV options\n",
    "infer_schema = \"true\"\n",
    "first_row_is_header = \"true\"\n",
    "delimiter = \",\"\n",
    "\n",
    "# The applied options are for CSV files. For other file types, these will be ignored.\n",
    "bank_train = spark.read.format(file_type) \\\n",
    "  .option(\"inferSchema\", infer_schema) \\\n",
    "  .option(\"header\", first_row_is_header) \\\n",
    "  .option(\"sep\", delimiter) \\\n",
    "  .load(bank_train_location)\n",
    "\n",
    "bank_test = spark.read.format(file_type) \\\n",
    "  .option(\"inferSchema\", infer_schema) \\\n",
    "  .option(\"header\", first_row_is_header) \\\n",
    "  .option(\"sep\", delimiter) \\\n",
    "  .load(bank_test_location)"
   ]
  },
  {
   "cell_type": "markdown",
   "metadata": {
    "application/vnd.databricks.v1+cell": {
     "cellMetadata": {},
     "inputWidgets": {},
     "nuid": "98477bc0-fdf9-4585-8cf2-24b4b0ebc3f1",
     "showTitle": false,
     "title": ""
    },
    "id": "YTZevHlAxnQg"
   },
   "source": [
    "Build ML model to predict whether the customer will subscribe bank deposit service or not. Train the model using training set and evaluate the model performance (e.g. accuracy) using testing set. \n",
    "* You can explore different methods to pre-process the data and select proper features\n",
    "* You can utilize different machine learning models and tune model hyperparameters\n",
    "* Present the final testing accuracy."
   ]
  },
  {
   "cell_type": "code",
   "execution_count": null,
   "metadata": {
    "application/vnd.databricks.v1+cell": {
     "cellMetadata": {},
     "inputWidgets": {},
     "nuid": "e07aaf5a-6fb8-425a-a3c9-f52e04e49828",
     "showTitle": false,
     "title": ""
    },
    "id": "iey06VQfxnQg"
   },
   "outputs": [],
   "source": [
    "# data preparation (4m)\n"
   ]
  },
  {
   "cell_type": "code",
   "execution_count": null,
   "metadata": {
    "application/vnd.databricks.v1+cell": {
     "cellMetadata": {},
     "inputWidgets": {},
     "nuid": "a04b59e4-6197-451c-8071-52526a5a724f",
     "showTitle": false,
     "title": ""
    },
    "id": "PsIotb9ExnQh"
   },
   "outputs": [],
   "source": [
    "# model building (4m)\n"
   ]
  },
  {
   "cell_type": "code",
   "execution_count": null,
   "metadata": {
    "application/vnd.databricks.v1+cell": {
     "cellMetadata": {},
     "inputWidgets": {},
     "nuid": "80e1c949-8291-45be-8872-c0310777c6fa",
     "showTitle": false,
     "title": ""
    },
    "id": "OC5ufJqAxnQh"
   },
   "outputs": [],
   "source": [
    "# model evaluation (2m)\n"
   ]
  }
 ],
 "metadata": {
  "application/vnd.databricks.v1+notebook": {
   "dashboards": [],
   "language": "python",
   "notebookMetadata": {
    "pythonIndentUnit": 4
   },
   "notebookName": "cs4225_a2_databricks_student_version",
   "notebookOrigID": 4340246323273856,
   "widgets": {}
  },
  "colab": {
   "provenance": []
  },
  "kernelspec": {
   "display_name": "Python 3 (ipykernel)",
   "language": "python",
   "name": "python3"
  },
  "language_info": {
   "codemirror_mode": {
    "name": "ipython",
    "version": 3
   },
   "file_extension": ".py",
   "mimetype": "text/x-python",
   "name": "python",
   "nbconvert_exporter": "python",
   "pygments_lexer": "ipython3",
   "version": "3.9.13"
  }
 },
 "nbformat": 4,
 "nbformat_minor": 1
}
