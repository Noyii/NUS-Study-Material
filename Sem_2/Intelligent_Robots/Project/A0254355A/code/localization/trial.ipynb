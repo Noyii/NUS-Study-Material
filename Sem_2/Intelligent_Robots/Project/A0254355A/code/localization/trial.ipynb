{
 "cells": [
  {
   "cell_type": "code",
   "execution_count": null,
   "id": "e8a13cf3",
   "metadata": {},
   "outputs": [
    {
     "name": "stdout",
     "output_type": "stream",
     "text": [
      "1167360\n",
      "1058249\n"
     ]
    }
   ],
   "source": [
    "import cv2\n",
    "import numpy as np\n",
    "\n",
    "# load image\n",
    "img = cv2.imread(\"building.png\")\n",
    "# add blur because of pixel artefacts \n",
    "img = cv2.GaussianBlur(img, (5, 5), 5)\n",
    "# convert to HSV\n",
    "hsv = cv2.cvtColor(img, cv2.COLOR_BGR2HSV) \n",
    "\n",
    "# set lower and upper color limits\n",
    "# lower_val = (90, 50, 20)\n",
    "# upper_val = (110, 100, 255) # building glass\n",
    "lower_val = (0, 0, 20)\n",
    "upper_val = (180,15,255) # grey\n",
    "# lower_val = (95, 0, 0)\n",
    "# upper_val = (100,25,255)\n",
    "\n",
    "# Threshold the HSV image to get only green colors\n",
    "mask = cv2.inRange(hsv, lower_val, upper_val)\n",
    "# apply mask to original image\n",
    "res = cv2.bitwise_and(img, img, mask=mask)\n",
    "cv2.imshow('Result', res)\n",
    "# print(res)\n",
    "print(len(res[np.where(res != 0)]))\n",
    "\n",
    "# detect contours in image\n",
    "contours, hierarchy = cv2.findContours(mask, cv2.RETR_TREE, cv2.CHAIN_APPROX_SIMPLE)\n",
    "# draw filled contour on result\n",
    "for cnt in contours:\n",
    "    cv2.drawContours(res, [cnt], 0, (0,0,255), 2)\n",
    "print(len(res[np.where(res != 0)]))\n",
    "cv2.imshow(\"resu\", res)\n",
    "    \n",
    "# detect edges in mask\n",
    "edges = cv2.Canny(mask,100,100)\n",
    "# print(edges)\n",
    "\n",
    "# # to save an image use cv2.imwrite('filename.png',img)\n",
    "# #show images\n",
    "# cv2.imwrite(\"../goal_images/Result_with_contours.png\", res)\n",
    "# cv2.imshow(\"../goal_images/Mask.png\", mask)\n",
    "# cv2.imshow(\"Edges.png\", res)\n",
    "cv2.waitKey(0)\n",
    "cv2.destroyAllWindows()"
   ]
  },
  {
   "cell_type": "code",
   "execution_count": null,
   "id": "4fe0d8a9",
   "metadata": {},
   "outputs": [
    {
     "name": "stdout",
     "output_type": "stream",
     "text": [
      "Number of contours detected: 69\n",
      "25\n",
      "[31568.5, 326.5, 79.0, 53.5, 29.0, 24.5, 17.0, 17.0, 15.5, 13.5, 13.5, 11.5, 9.5, 7.5, 7.0, 6.5, 6.0, 5.5, 4.5, 3.5, 3.0, 2.5, 2.5, 1.5, 1.5]\n"
     ]
    }
   ],
   "source": [
    "import cv2\n",
    "import numpy as np\n",
    "\n",
    "img = cv2.imread('building.png')\n",
    "# img = cv2.imread('../goal_images/build2.png')\n",
    "# img = cv2.imread('../goal_images/street3.png')\n",
    "\n",
    "brightness = 0\n",
    "contrast = 10\n",
    "brightness += int(round(255*(1-contrast)/2))\n",
    "img = cv2.addWeighted(img, contrast, img, 0, brightness)\n",
    "cv2.imshow(\"contract\", img)\n",
    "\n",
    "img = cv2.GaussianBlur(img, (5, 5), 5)\n",
    "hsv = cv2.cvtColor(img, cv2.COLOR_BGR2HSV) \n",
    "\n",
    "lower_val = (0, 0, 20)\n",
    "upper_val = (180,15,255) # grey\n",
    "# lower_val = (90, 50, 20)\n",
    "# upper_val = (110, 100, 255) # building glass\n",
    "\n",
    "mask = cv2.inRange(hsv, lower_val, upper_val)\n",
    "img = cv2.bitwise_and(img, img, mask=mask)\n",
    "# gray = cv2.cvtColor(img, cv2.COLOR_BGR2GRAY)\n",
    "\n",
    "# ret,thresh = cv2.threshold(img,50,255,0)\n",
    "# contours,hierarchy = cv2.findContours(img, 1, 2)\n",
    "contours, hierarchy = cv2.findContours(mask, cv2.RETR_TREE, cv2.CHAIN_APPROX_SIMPLE)\n",
    "print(\"Number of contours detected:\", len(contours))\n",
    "count = 0\n",
    "areas = []\n",
    "for cnt in contours:\n",
    "    x1,y1 = cnt[0][0]\n",
    "    approx = cv2.approxPolyDP(cnt, 0.01*cv2.arcLength(cnt, True), True)\n",
    "#     print(len(approx))\n",
    "   \n",
    "    if len(approx) > 4:\n",
    "        count+=1\n",
    "        ar = cv2.contourArea(cnt)\n",
    "        areas.append(ar)\n",
    "        x, y, w, h = cv2.boundingRect(cnt)\n",
    "        ratio = float(w)/h\n",
    "        if ratio >= 0.9 and ratio <= 1.1:\n",
    "            img = cv2.drawContours(img, [cnt], -1, (0,255,255), 3)\n",
    "        else:\n",
    "            img = cv2.drawContours(img, [cnt], -1, (0,255,0), 3)\n",
    "print(count)\n",
    "print(sorted(areas, reverse=True))\n",
    "cv2.imshow(\"Shapes\", img)\n",
    "cv2.waitKey(0)\n",
    "cv2.destroyAllWindows()"
   ]
  },
  {
   "cell_type": "code",
   "execution_count": null,
   "id": "55f9ee41",
   "metadata": {},
   "outputs": [],
   "source": [
    "20,853 - street\n",
    "3,36,969 - same lane\n",
    "31,568.5 - diff lane\n",
    "\n",
    "19,779 - street\n",
    "2,70,722.5 - same lane\n",
    "31242 - diff_lane\n"
   ]
  },
  {
   "cell_type": "code",
   "execution_count": null,
   "id": "d4ce0f0a",
   "metadata": {},
   "outputs": [],
   "source": [
    "import cv2\n",
    "import numpy as np\n",
    "\n",
    "\n",
    "# img = cv2.imread('building.png')\n",
    "img = cv2.imread('../goal_images/build1.png')\n",
    "# img = cv2.imread('../goal_images/street3.png')\n",
    "\n",
    "image_copy = img.copy() \n",
    "height = img.shape[0]\n",
    "width = img.shape[1]\n",
    "\n",
    "def region_of_interest(img, vertices):\n",
    "    # Define a blank matrix that matches the image height/width.\n",
    "    mask = np.zeros_like(img)\n",
    "    # Retrieve the number of color channels of the image.\n",
    "    channel_count = img.shape[2]\n",
    "    # Create a match color with the same color channel counts.\n",
    "    match_mask_color = (255,) * channel_count\n",
    "      \n",
    "    # Fill inside the polygon\n",
    "    cv2.fillPoly(mask, vertices, match_mask_color)\n",
    "    \n",
    "    # Returning the image only where mask pixels match\n",
    "    masked_image = cv2.bitwise_and(img, mask)\n",
    "    return masked_image\n",
    "\n",
    "region_of_interest_vertices = [\n",
    "    (0, 0),\n",
    "    (width, 0),\n",
    "    (width, 2*height/3),\n",
    "    (width/2, height),\n",
    "    (0, 2*height/3),\n",
    "]\n",
    "\n",
    "roi = region_of_interest(\n",
    "    image_copy,\n",
    "    np.array([region_of_interest_vertices], np.int32),\n",
    ")\n",
    "\n",
    "cv2.imshow(\"cropped\", roi)\n",
    "cv2.waitKey(0)\n",
    "cv2.destroyAllWindows()"
   ]
  },
  {
   "cell_type": "code",
   "execution_count": 7,
   "id": "8ee8ff50",
   "metadata": {},
   "outputs": [
    {
     "name": "stdout",
     "output_type": "stream",
     "text": [
      "Similarity Score: 65.660%\n"
     ]
    }
   ],
   "source": [
    "from skimage.metrics import structural_similarity\n",
    "import cv2\n",
    "import numpy as np\n",
    "\n",
    "first = cv2.imread('goal_tile_images/duck/duck_map1_0_72.png')\n",
    "second = cv2.imread('goal_tile_images/noDuck/noDuck_map1_0_2.png')\n",
    "\n",
    "# Convert images to grayscale\n",
    "first_gray = cv2.cvtColor(first, cv2.COLOR_BGR2GRAY)\n",
    "second_gray = cv2.cvtColor(second, cv2.COLOR_BGR2GRAY)\n",
    "\n",
    "# Compute SSIM between two images\n",
    "score, diff = structural_similarity(first_gray, second_gray, full=True)\n",
    "print(\"Similarity Score: {:.3f}%\".format(score * 100))"
   ]
  },
  {
   "cell_type": "code",
   "execution_count": 11,
   "id": "7481e726",
   "metadata": {},
   "outputs": [
    {
     "data": {
      "text/plain": [
       "['duck_map1_1_68.png',\n",
       " 'duck_map1_1_69.png',\n",
       " 'duck_map1_1_62.png',\n",
       " 'duck_map1_1_63.png',\n",
       " 'duck_map1_1_67.png',\n",
       " 'duck_map1_1_66.png',\n",
       " 'duck_map1_1_64.png',\n",
       " 'duck_map1_1_65.png']"
      ]
     },
     "execution_count": 11,
     "metadata": {},
     "output_type": "execute_result"
    }
   ],
   "source": [
    "from os import listdir\n",
    "from os.path import isfile, join\n",
    "\n",
    "mypath = 'goal_tile_images/duck'\n",
    "map_name = 'map1_1'\n",
    "onlyfiles = [f for f in listdir(mypath) if isfile(join(mypath, f)) and map_name in f]\n",
    "onlyfiles"
   ]
  },
  {
   "cell_type": "code",
   "execution_count": null,
   "id": "1cd5419c",
   "metadata": {},
   "outputs": [],
   "source": []
  }
 ],
 "metadata": {
  "kernelspec": {
   "display_name": "Python 3 (ipykernel)",
   "language": "python",
   "name": "python3"
  },
  "language_info": {
   "codemirror_mode": {
    "name": "ipython",
    "version": 3
   },
   "file_extension": ".py",
   "mimetype": "text/x-python",
   "name": "python",
   "nbconvert_exporter": "python",
   "pygments_lexer": "ipython3",
   "version": "3.10.10"
  }
 },
 "nbformat": 4,
 "nbformat_minor": 5
}
